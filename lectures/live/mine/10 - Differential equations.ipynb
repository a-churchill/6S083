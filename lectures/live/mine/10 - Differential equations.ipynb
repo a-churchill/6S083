{
 "cells": [
  {
   "cell_type": "code",
   "execution_count": 1,
   "metadata": {},
   "outputs": [
    {
     "name": "stderr",
     "output_type": "stream",
     "text": [
      "┌ Info: Precompiling DifferentialEquations [0c46a032-eb83-5123-abaf-570d42b7fbaa]\n",
      "└ @ Base loading.jl:1260\n",
      "┌ Info: Precompiling Plots [91a5bcdd-55d7-5caf-9e0b-520d859cae80]\n",
      "└ @ Base loading.jl:1260\n"
     ]
    }
   ],
   "source": [
    "using DifferentialEquations, Plots"
   ]
  },
  {
   "cell_type": "code",
   "execution_count": 3,
   "metadata": {},
   "outputs": [
    {
     "ename": "UndefVarError",
     "evalue": "UndefVarError: ODEProb not defined",
     "output_type": "error",
     "traceback": [
      "UndefVarError: ODEProb not defined",
      "",
      "Stacktrace:",
      " [1] top-level scope at In[3]:6"
     ]
    }
   ],
   "source": [
    "x_0 = 1.0\n",
    "k = 1.0\n",
    "\n",
    "f(x, k, t) = k * x  # x'(t) = f(x, k, t)    f(function, parameter, time)\n",
    "tspan = (0.0, 3.0)\n",
    "prob = ODEProb(f, x0, tspan, k)\n",
    "sol = solve(prob, Tsit5(), reltol=1e-8, abstol-1e-8)\n",
    "plot(sol, linewidth=5, title=\"Solution to the linear ODE with a thick line\",\n",
    "xaxis=\"Time (t)\", yaxis=\"u(t)\", label=\"My Thick Line!\")\n",
    "plot!(sol.t, t -> x0 * exp(k * t), lw = 3, ls = :dash, label = \"True Solution!\", ylim = (-4, 5))"
   ]
  },
  {
   "cell_type": "code",
   "execution_count": null,
   "metadata": {},
   "outputs": [],
   "source": []
  }
 ],
 "metadata": {
  "kernelspec": {
   "display_name": "Julia 1.4.0",
   "language": "julia",
   "name": "julia-1.4"
  },
  "language_info": {
   "file_extension": ".jl",
   "mimetype": "application/julia",
   "name": "julia",
   "version": "1.4.0"
  }
 },
 "nbformat": 4,
 "nbformat_minor": 4
}
