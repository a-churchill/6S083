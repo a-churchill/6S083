{
 "cells": [
  {
   "cell_type": "markdown",
   "metadata": {},
   "source": [
    "# Exploring data on COVID-19"
   ]
  },
  {
   "cell_type": "markdown",
   "metadata": {},
   "source": [
    "In this notebook we will explore and analyse some data on the advance of the COVID-19 pandemic. The goal is to produce a plot like this:\n",
    "\n",
    "![plot](US_data.png)"
   ]
  },
  {
   "cell_type": "code",
   "execution_count": null,
   "metadata": {},
   "outputs": [],
   "source": []
  },
  {
   "cell_type": "markdown",
   "metadata": {},
   "source": [
    "Shift-enter to evaluate a cell\n",
    "\n",
    "$y = x^2$"
   ]
  },
  {
   "cell_type": "code",
   "execution_count": 8,
   "metadata": {},
   "outputs": [
    {
     "data": {
      "text/plain": [
       "\"https://raw.githubusercontent.com/CSSEGISandData/COVID-19/master/csse_covid_19_data/csse_covid_19_time_series/time_series_covid19_confirmed_global.csv\""
      ]
     },
     "execution_count": 8,
     "metadata": {},
     "output_type": "execute_result"
    }
   ],
   "source": [
    "url = \"https://raw.githubusercontent.com/CSSEGISandData/COVID-19/master/csse_covid_19_data/csse_covid_19_time_series/time_series_covid19_confirmed_global.csv\""
   ]
  },
  {
   "cell_type": "code",
   "execution_count": 9,
   "metadata": {},
   "outputs": [
    {
     "data": {
      "text/plain": [
       "\"https://raw.githubusercontent.com/CSSEGISandData/COVID-19/master/csse_covid_19_data/csse_covid_19_time_series/time_series_covid19_confirmed_global.csv\""
      ]
     },
     "execution_count": 9,
     "metadata": {},
     "output_type": "execute_result"
    }
   ],
   "source": [
    "url"
   ]
  },
  {
   "cell_type": "code",
   "execution_count": 10,
   "metadata": {},
   "outputs": [
    {
     "data": {
      "text/plain": [
       "String"
      ]
     },
     "execution_count": 10,
     "metadata": {},
     "output_type": "execute_result"
    }
   ],
   "source": [
    "typeof(url)"
   ]
  },
  {
   "cell_type": "code",
   "execution_count": 11,
   "metadata": {},
   "outputs": [
    {
     "data": {
      "text/plain": [
       "3"
      ]
     },
     "execution_count": 11,
     "metadata": {},
     "output_type": "execute_result"
    }
   ],
   "source": [
    "x = 3"
   ]
  },
  {
   "cell_type": "code",
   "execution_count": 12,
   "metadata": {},
   "outputs": [
    {
     "data": {
      "text/plain": [
       "Int64"
      ]
     },
     "execution_count": 12,
     "metadata": {},
     "output_type": "execute_result"
    }
   ],
   "source": [
    "typeof(x)"
   ]
  },
  {
   "cell_type": "code",
   "execution_count": 13,
   "metadata": {},
   "outputs": [
    {
     "data": {
      "text/plain": [
       "9"
      ]
     },
     "execution_count": 13,
     "metadata": {},
     "output_type": "execute_result"
    }
   ],
   "source": [
    "x * x"
   ]
  },
  {
   "cell_type": "code",
   "execution_count": 14,
   "metadata": {},
   "outputs": [
    {
     "data": {
      "text/plain": [
       "\"https://raw.githubusercontent.com/CSSEGISandData/COVID-19/master/csse_covid_19_data/csse_covid_19_time_series/time_series_covid19_confirmed_global.csvhttps://raw.githubusercontent.com/CSSEGISandData/COVID-19/master/csse_covid_19_data/csse_covid_19_time_series/time_series_covid19_confirmed_global.csv\""
      ]
     },
     "execution_count": 14,
     "metadata": {},
     "output_type": "execute_result"
    }
   ],
   "source": [
    "url * url"
   ]
  },
  {
   "cell_type": "code",
   "execution_count": 15,
   "metadata": {},
   "outputs": [
    {
     "data": {
      "text/plain": [
       "* (generic function with 365 methods)"
      ]
     },
     "execution_count": 15,
     "metadata": {},
     "output_type": "execute_result"
    }
   ],
   "source": [
    "*"
   ]
  },
  {
   "cell_type": "code",
   "execution_count": 16,
   "metadata": {
    "scrolled": true
   },
   "outputs": [
    {
     "data": {
      "text/html": [
       "# 365 methods for generic function <b>*</b>:<ul><li> *(x::<b>Bool</b>, z::<b>Complex{Bool}</b>) in Base at <a href=\"https://github.com/JuliaLang/julia/tree/b8e9a9ecc62ab49003bd4f1834771bdeb8cb1aa2/base/complex.jl#L290\" target=\"_blank\">complex.jl:290</a></li> <li> *(x::<b>Bool</b>, y::<b>Bool</b>) in Base at <a href=\"https://github.com/JuliaLang/julia/tree/b8e9a9ecc62ab49003bd4f1834771bdeb8cb1aa2/base/bool.jl#L98\" target=\"_blank\">bool.jl:98</a></li> <li> *(x::<b>Bool</b>, y::<b>T</b>)<i> where T<:AbstractFloat</i> in Base at <a href=\"https://github.com/JuliaLang/julia/tree/b8e9a9ecc62ab49003bd4f1834771bdeb8cb1aa2/base/bool.jl#L110\" target=\"_blank\">bool.jl:110</a></li> <li> *(x::<b>Bool</b>, z::<b>Complex</b>) in Base at <a href=\"https://github.com/JuliaLang/julia/tree/b8e9a9ecc62ab49003bd4f1834771bdeb8cb1aa2/base/complex.jl#L297\" target=\"_blank\">complex.jl:297</a></li> <li> *(x::<b>Bool</b>, y::<b>AbstractIrrational</b>) in Base at <a href=\"https://github.com/JuliaLang/julia/tree/b8e9a9ecc62ab49003bd4f1834771bdeb8cb1aa2/base/irrationals.jl#L139\" target=\"_blank\">irrationals.jl:139</a></li> <li> *(a::<b>Float16</b>, b::<b>Float16</b>) in Base at <a href=\"https://github.com/JuliaLang/julia/tree/b8e9a9ecc62ab49003bd4f1834771bdeb8cb1aa2/base/float.jl#L398\" target=\"_blank\">float.jl:398</a></li> <li> *(x::<b>Float32</b>, y::<b>Float32</b>) in Base at <a href=\"https://github.com/JuliaLang/julia/tree/b8e9a9ecc62ab49003bd4f1834771bdeb8cb1aa2/base/float.jl#L404\" target=\"_blank\">float.jl:404</a></li> <li> *(x::<b>Float64</b>, y::<b>Float64</b>) in Base at <a href=\"https://github.com/JuliaLang/julia/tree/b8e9a9ecc62ab49003bd4f1834771bdeb8cb1aa2/base/float.jl#L405\" target=\"_blank\">float.jl:405</a></li> <li> *(z::<b>Complex{Bool}</b>, x::<b>Bool</b>) in Base at <a href=\"https://github.com/JuliaLang/julia/tree/b8e9a9ecc62ab49003bd4f1834771bdeb8cb1aa2/base/complex.jl#L291\" target=\"_blank\">complex.jl:291</a></li> <li> *(z::<b>Complex{Bool}</b>, x::<b>Real</b>) in Base at <a href=\"https://github.com/JuliaLang/julia/tree/b8e9a9ecc62ab49003bd4f1834771bdeb8cb1aa2/base/complex.jl#L309\" target=\"_blank\">complex.jl:309</a></li> <li> *(r::<b>Regex</b>) in Base at <a href=\"https://github.com/JuliaLang/julia/tree/b8e9a9ecc62ab49003bd4f1834771bdeb8cb1aa2/base/regex.jl#L660\" target=\"_blank\">regex.jl:660</a></li> <li> *(::<b>Missing</b>, ::<b>Missing</b>) in Base at <a href=\"https://github.com/JuliaLang/julia/tree/b8e9a9ecc62ab49003bd4f1834771bdeb8cb1aa2/base/missing.jl#L114\" target=\"_blank\">missing.jl:114</a></li> <li> *(::<b>Missing</b>, ::<b>Number</b>) in Base at <a href=\"https://github.com/JuliaLang/julia/tree/b8e9a9ecc62ab49003bd4f1834771bdeb8cb1aa2/base/missing.jl#L115\" target=\"_blank\">missing.jl:115</a></li> <li> *(d::<b>Missing</b>, x::<b>AbstractString</b>) in Base at <a href=\"https://github.com/JuliaLang/julia/tree/b8e9a9ecc62ab49003bd4f1834771bdeb8cb1aa2/base/missing.jl#L174\" target=\"_blank\">missing.jl:174</a></li> <li> *(this::<b>Base.Grisu.Float</b>, other::<b>Base.Grisu.Float</b>) in Base.Grisu at <a href=\"https://github.com/JuliaLang/julia/tree/b8e9a9ecc62ab49003bd4f1834771bdeb8cb1aa2/base/grisu/float.jl#L140\" target=\"_blank\">grisu/float.jl:140</a></li> <li> *(c::<b>BigInt</b>, x::<b>BigFloat</b>) in Base.MPFR at <a href=\"https://github.com/JuliaLang/julia/tree/b8e9a9ecc62ab49003bd4f1834771bdeb8cb1aa2/base/mpfr.jl#L414\" target=\"_blank\">mpfr.jl:414</a></li> <li> *(a::<b>BigInt</b>, b::<b>BigInt</b>, c::<b>BigInt</b>, d::<b>BigInt</b>, e::<b>BigInt</b>) in Base.GMP at <a href=\"https://github.com/JuliaLang/julia/tree/b8e9a9ecc62ab49003bd4f1834771bdeb8cb1aa2/base/gmp.jl#L515\" target=\"_blank\">gmp.jl:515</a></li> <li> *(a::<b>BigInt</b>, b::<b>BigInt</b>, c::<b>BigInt</b>, d::<b>BigInt</b>) in Base.GMP at <a href=\"https://github.com/JuliaLang/julia/tree/b8e9a9ecc62ab49003bd4f1834771bdeb8cb1aa2/base/gmp.jl#L514\" target=\"_blank\">gmp.jl:514</a></li> <li> *(a::<b>BigInt</b>, b::<b>BigInt</b>, c::<b>BigInt</b>) in Base.GMP at <a href=\"https://github.com/JuliaLang/julia/tree/b8e9a9ecc62ab49003bd4f1834771bdeb8cb1aa2/base/gmp.jl#L513\" target=\"_blank\">gmp.jl:513</a></li> <li> *(x::<b>BigInt</b>, y::<b>BigInt</b>) in Base.GMP at <a href=\"https://github.com/JuliaLang/julia/tree/b8e9a9ecc62ab49003bd4f1834771bdeb8cb1aa2/base/gmp.jl#L473\" target=\"_blank\">gmp.jl:473</a></li> <li> *(x::<b>BigInt</b>, c::<b>Union{UInt16, UInt32, UInt8}</b>) in Base.GMP at <a href=\"https://github.com/JuliaLang/julia/tree/b8e9a9ecc62ab49003bd4f1834771bdeb8cb1aa2/base/gmp.jl#L532\" target=\"_blank\">gmp.jl:532</a></li> <li> *(x::<b>BigInt</b>, c::<b>Union{Int16, Int32, Int8}</b>) in Base.GMP at <a href=\"https://github.com/JuliaLang/julia/tree/b8e9a9ecc62ab49003bd4f1834771bdeb8cb1aa2/base/gmp.jl#L534\" target=\"_blank\">gmp.jl:534</a></li> <li> *(a::<b>BigFloat</b>, b::<b>BigFloat</b>, c::<b>BigFloat</b>, d::<b>BigFloat</b>, e::<b>BigFloat</b>) in Base.MPFR at <a href=\"https://github.com/JuliaLang/julia/tree/b8e9a9ecc62ab49003bd4f1834771bdeb8cb1aa2/base/mpfr.jl#L564\" target=\"_blank\">mpfr.jl:564</a></li> <li> *(a::<b>BigFloat</b>, b::<b>BigFloat</b>, c::<b>BigFloat</b>, d::<b>BigFloat</b>) in Base.MPFR at <a href=\"https://github.com/JuliaLang/julia/tree/b8e9a9ecc62ab49003bd4f1834771bdeb8cb1aa2/base/mpfr.jl#L557\" target=\"_blank\">mpfr.jl:557</a></li> <li> *(a::<b>BigFloat</b>, b::<b>BigFloat</b>, c::<b>BigFloat</b>) in Base.MPFR at <a href=\"https://github.com/JuliaLang/julia/tree/b8e9a9ecc62ab49003bd4f1834771bdeb8cb1aa2/base/mpfr.jl#L551\" target=\"_blank\">mpfr.jl:551</a></li> <li> *(x::<b>BigFloat</b>, c::<b>BigInt</b>) in Base.MPFR at <a href=\"https://github.com/JuliaLang/julia/tree/b8e9a9ecc62ab49003bd4f1834771bdeb8cb1aa2/base/mpfr.jl#L410\" target=\"_blank\">mpfr.jl:410</a></li> <li> *(x::<b>BigFloat</b>, y::<b>BigFloat</b>) in Base.MPFR at <a href=\"https://github.com/JuliaLang/julia/tree/b8e9a9ecc62ab49003bd4f1834771bdeb8cb1aa2/base/mpfr.jl#L379\" target=\"_blank\">mpfr.jl:379</a></li> <li> *(x::<b>BigFloat</b>, c::<b>Union{UInt16, UInt32, UInt8}</b>) in Base.MPFR at <a href=\"https://github.com/JuliaLang/julia/tree/b8e9a9ecc62ab49003bd4f1834771bdeb8cb1aa2/base/mpfr.jl#L386\" target=\"_blank\">mpfr.jl:386</a></li> <li> *(x::<b>BigFloat</b>, c::<b>Union{Int16, Int32, Int8}</b>) in Base.MPFR at <a href=\"https://github.com/JuliaLang/julia/tree/b8e9a9ecc62ab49003bd4f1834771bdeb8cb1aa2/base/mpfr.jl#L394\" target=\"_blank\">mpfr.jl:394</a></li> <li> *(x::<b>BigFloat</b>, c::<b>Union{Float16, Float32, Float64}</b>) in Base.MPFR at <a href=\"https://github.com/JuliaLang/julia/tree/b8e9a9ecc62ab49003bd4f1834771bdeb8cb1aa2/base/mpfr.jl#L402\" target=\"_blank\">mpfr.jl:402</a></li> <li> *(B::<b>BitArray{2}</b>, J::<b>LinearAlgebra.UniformScaling</b>) in LinearAlgebra at <a href=\"file://D:/buildbot/worker/package_win64/build/usr/share/julia/stdlib/v1.4/LinearAlgebra/src/uniformscaling.jl\" target=\"_blank\">C:\\Users\\chuan\\AppData\\Local\\Programs\\Julia\\Julia-1.4.0\\share\\julia\\stdlib\\v1.4\\LinearAlgebra\\src\\uniformscaling.jl:195</a></li> <li> *(y::<b>AbstractFloat</b>, x::<b>Bool</b>) in Base at <a href=\"https://github.com/JuliaLang/julia/tree/b8e9a9ecc62ab49003bd4f1834771bdeb8cb1aa2/base/bool.jl#L112\" target=\"_blank\">bool.jl:112</a></li> <li> *(x::<b>T</b>, y::<b>T</b>)<i> where T<:Union{Int128, UInt128}</i> in Base at <a href=\"https://github.com/JuliaLang/julia/tree/b8e9a9ecc62ab49003bd4f1834771bdeb8cb1aa2/base/int.jl#L845\" target=\"_blank\">int.jl:845</a></li> <li> *(x::<b>T</b>, y::<b>T</b>)<i> where T<:Union{Int128, Int16, Int32, Int64, Int8, UInt128, UInt16, UInt32, UInt64, UInt8}</i> in Base at <a href=\"https://github.com/JuliaLang/julia/tree/b8e9a9ecc62ab49003bd4f1834771bdeb8cb1aa2/base/int.jl#L54\" target=\"_blank\">int.jl:54</a></li> <li> *(c::<b>Union{UInt16, UInt32, UInt8}</b>, x::<b>BigInt</b>) in Base.GMP at <a href=\"https://github.com/JuliaLang/julia/tree/b8e9a9ecc62ab49003bd4f1834771bdeb8cb1aa2/base/gmp.jl#L533\" target=\"_blank\">gmp.jl:533</a></li> <li> *(c::<b>Union{Int16, Int32, Int8}</b>, x::<b>BigInt</b>) in Base.GMP at <a href=\"https://github.com/JuliaLang/julia/tree/b8e9a9ecc62ab49003bd4f1834771bdeb8cb1aa2/base/gmp.jl#L535\" target=\"_blank\">gmp.jl:535</a></li> <li> *(a::<b>Integer</b>, b::<b>Integer</b>) in Base at <a href=\"https://github.com/JuliaLang/julia/tree/b8e9a9ecc62ab49003bd4f1834771bdeb8cb1aa2/base/int.jl#L857\" target=\"_blank\">int.jl:857</a></li> <li> *(x::<b>Real</b>, r::<b>StepRangeLen{#s69,#s68,S} where S where #s68<:Base.TwicePrecision where #s69<:Real</b>) in Base at <a href=\"https://github.com/JuliaLang/julia/tree/b8e9a9ecc62ab49003bd4f1834771bdeb8cb1aa2/base/twiceprecision.jl#L479\" target=\"_blank\">twiceprecision.jl:479</a></li> <li> *(z::<b>Complex</b>, w::<b>Complex</b>) in Base at <a href=\"https://github.com/JuliaLang/julia/tree/b8e9a9ecc62ab49003bd4f1834771bdeb8cb1aa2/base/complex.jl#L277\" target=\"_blank\">complex.jl:277</a></li> <li> *(z::<b>Complex</b>, x::<b>Bool</b>) in Base at <a href=\"https://github.com/JuliaLang/julia/tree/b8e9a9ecc62ab49003bd4f1834771bdeb8cb1aa2/base/complex.jl#L298\" target=\"_blank\">complex.jl:298</a></li> <li> *(x::<b>Real</b>, z::<b>Complex{Bool}</b>) in Base at <a href=\"https://github.com/JuliaLang/julia/tree/b8e9a9ecc62ab49003bd4f1834771bdeb8cb1aa2/base/complex.jl#L308\" target=\"_blank\">complex.jl:308</a></li> <li> *(x::<b>Real</b>, z::<b>Complex</b>) in Base at <a href=\"https://github.com/JuliaLang/julia/tree/b8e9a9ecc62ab49003bd4f1834771bdeb8cb1aa2/base/complex.jl#L320\" target=\"_blank\">complex.jl:320</a></li> <li> *(z::<b>Complex</b>, x::<b>Real</b>) in Base at <a href=\"https://github.com/JuliaLang/julia/tree/b8e9a9ecc62ab49003bd4f1834771bdeb8cb1aa2/base/complex.jl#L321\" target=\"_blank\">complex.jl:321</a></li> <li> *(x::<b>Rational</b>, y::<b>Rational</b>) in Base at <a href=\"https://github.com/JuliaLang/julia/tree/b8e9a9ecc62ab49003bd4f1834771bdeb8cb1aa2/base/rational.jl#L270\" target=\"_blank\">rational.jl:270</a></li> <li> *(a::<b>Integer</b>, index::<b>CartesianIndex{N}</b>)<i> where N</i> in Base.IteratorsMD at <a href=\"https://github.com/JuliaLang/julia/tree/b8e9a9ecc62ab49003bd4f1834771bdeb8cb1aa2/base/multidimensional.jl#L120\" target=\"_blank\">multidimensional.jl:120</a></li> <li> *(c::<b>Union{UInt16, UInt32, UInt8}</b>, x::<b>BigFloat</b>) in Base.MPFR at <a href=\"https://github.com/JuliaLang/julia/tree/b8e9a9ecc62ab49003bd4f1834771bdeb8cb1aa2/base/mpfr.jl#L390\" target=\"_blank\">mpfr.jl:390</a></li> <li> *(c::<b>Union{Int16, Int32, Int8}</b>, x::<b>BigFloat</b>) in Base.MPFR at <a href=\"https://github.com/JuliaLang/julia/tree/b8e9a9ecc62ab49003bd4f1834771bdeb8cb1aa2/base/mpfr.jl#L398\" target=\"_blank\">mpfr.jl:398</a></li> <li> *(c::<b>Union{Float16, Float32, Float64}</b>, x::<b>BigFloat</b>) in Base.MPFR at <a href=\"https://github.com/JuliaLang/julia/tree/b8e9a9ecc62ab49003bd4f1834771bdeb8cb1aa2/base/mpfr.jl#L406\" target=\"_blank\">mpfr.jl:406</a></li> <li> *(x::<b>AbstractIrrational</b>, y::<b>AbstractIrrational</b>) in Base at <a href=\"https://github.com/JuliaLang/julia/tree/b8e9a9ecc62ab49003bd4f1834771bdeb8cb1aa2/base/irrationals.jl#L137\" target=\"_blank\">irrationals.jl:137</a></li> <li> *(y::<b>Real</b>, x::<b>Dates.Period</b>) in Dates at <a href=\"file://D:/buildbot/worker/package_win64/build/usr/share/julia/stdlib/v1.4/Dates/src/periods.jl\" target=\"_blank\">C:\\Users\\chuan\\AppData\\Local\\Programs\\Julia\\Julia-1.4.0\\share\\julia\\stdlib\\v1.4\\Dates\\src\\periods.jl:91</a></li> <li> *(x::<b>Real</b>, A::<b>LinearAlgebra.Hermitian</b>) in LinearAlgebra at <a href=\"file://D:/buildbot/worker/package_win64/build/usr/share/julia/stdlib/v1.4/LinearAlgebra/src/symmetric.jl\" target=\"_blank\">C:\\Users\\chuan\\AppData\\Local\\Programs\\Julia\\Julia-1.4.0\\share\\julia\\stdlib\\v1.4\\LinearAlgebra\\src\\symmetric.jl:616</a></li> <li> *(x::<b>Real</b>, ::<b>Type{X}</b>)<i> where X<:FixedPointNumbers.FixedPoint</i> in FixedPointNumbers at <a href=\"file://C:/Users/chuan/.julia/packages/FixedPointNumbers/MwjwY/src/FixedPointNumbers.jl\" target=\"_blank\">C:\\Users\\chuan\\.julia\\packages\\FixedPointNumbers\\MwjwY\\src\\FixedPointNumbers.jl:32</a></li> <li> *(x::<b>FixedPointNumbers.Fixed{T,f}</b>, y::<b>FixedPointNumbers.Fixed{T,f}</b>)<i> where {T, f}</i> in FixedPointNumbers at <a href=\"file://C:/Users/chuan/.julia/packages/FixedPointNumbers/MwjwY/src/fixed.jl\" target=\"_blank\">C:\\Users\\chuan\\.julia\\packages\\FixedPointNumbers\\MwjwY\\src\\fixed.jl:42</a></li> <li> *(x::<b>T</b>, y::<b>T</b>)<i> where T<:FixedPointNumbers.Normed</i> in FixedPointNumbers at <a href=\"file://C:/Users/chuan/.julia/packages/FixedPointNumbers/MwjwY/src/normed.jl\" target=\"_blank\">C:\\Users\\chuan\\.julia\\packages\\FixedPointNumbers\\MwjwY\\src\\normed.jl:251</a></li> <li> *(x::<b>Number</b>) in Base at <a href=\"https://github.com/JuliaLang/julia/tree/b8e9a9ecc62ab49003bd4f1834771bdeb8cb1aa2/base/operators.jl#L505\" target=\"_blank\">operators.jl:505</a></li> <li> *(x::<b>T</b>, y::<b>T</b>)<i> where T<:Number</i> in Base at <a href=\"https://github.com/JuliaLang/julia/tree/b8e9a9ecc62ab49003bd4f1834771bdeb8cb1aa2/base/promotion.jl#L385\" target=\"_blank\">promotion.jl:385</a></li> <li> *(x::<b>Number</b>, y::<b>Number</b>) in Base at <a href=\"https://github.com/JuliaLang/julia/tree/b8e9a9ecc62ab49003bd4f1834771bdeb8cb1aa2/base/promotion.jl#L312\" target=\"_blank\">promotion.jl:312</a></li> <li> *(x::<b>Base.TwicePrecision{#s69} where #s69<:Union{Float16, Float32, Float64}</b>, v::<b>Integer</b>) in Base at <a href=\"https://github.com/JuliaLang/julia/tree/b8e9a9ecc62ab49003bd4f1834771bdeb8cb1aa2/base/twiceprecision.jl#L286\" target=\"_blank\">twiceprecision.jl:286</a></li> <li> *(x::<b>Base.TwicePrecision</b>, v::<b>Number</b>) in Base at <a href=\"https://github.com/JuliaLang/julia/tree/b8e9a9ecc62ab49003bd4f1834771bdeb8cb1aa2/base/twiceprecision.jl#L282\" target=\"_blank\">twiceprecision.jl:282</a></li> <li> *(v::<b>Number</b>, x::<b>Base.TwicePrecision</b>) in Base at <a href=\"https://github.com/JuliaLang/julia/tree/b8e9a9ecc62ab49003bd4f1834771bdeb8cb1aa2/base/twiceprecision.jl#L291\" target=\"_blank\">twiceprecision.jl:291</a></li> <li> *(x::<b>Base.TwicePrecision{T}</b>, y::<b>Base.TwicePrecision{T}</b>)<i> where T</i> in Base at <a href=\"https://github.com/JuliaLang/julia/tree/b8e9a9ecc62ab49003bd4f1834771bdeb8cb1aa2/base/twiceprecision.jl#L294\" target=\"_blank\">twiceprecision.jl:294</a></li> <li> *(x::<b>Base.TwicePrecision</b>, y::<b>Base.TwicePrecision</b>) in Base at <a href=\"https://github.com/JuliaLang/julia/tree/b8e9a9ecc62ab49003bd4f1834771bdeb8cb1aa2/base/twiceprecision.jl#L298\" target=\"_blank\">twiceprecision.jl:298</a></li> <li> *(r::<b>StepRangeLen{#s69,#s68,S} where S where #s68<:Base.TwicePrecision where #s69<:Real</b>, x::<b>Real</b>) in Base at <a href=\"https://github.com/JuliaLang/julia/tree/b8e9a9ecc62ab49003bd4f1834771bdeb8cb1aa2/base/twiceprecision.jl#L481\" target=\"_blank\">twiceprecision.jl:481</a></li> <li> *(X::<b>Union{DenseArray{P,N}, Base.ReinterpretArray{P,N,S,A} where S where A<:Union{SubArray{T,N,A,I,true} where I<:Union{Tuple{Vararg{Real,N} where N}, Tuple{AbstractUnitRange,Vararg{Any,N} where N}} where A<:DenseArray where N where T, DenseArray}, Base.ReshapedArray{P,N,A,MI} where MI<:Tuple{Vararg{Base.MultiplicativeInverses.SignedMultiplicativeInverse{Int64},N} where N} where A<:Union{Base.ReinterpretArray{T,N,S,A} where S where A<:Union{SubArray{T,N,A,I,true} where I<:Union{Tuple{Vararg{Real,N} where N}, Tuple{AbstractUnitRange,Vararg{Any,N} where N}} where A<:DenseArray where N where T, DenseArray} where N where T, SubArray{T,N,A,I,true} where I<:Union{Tuple{Vararg{Real,N} where N}, Tuple{AbstractUnitRange,Vararg{Any,N} where N}} where A<:DenseArray where N where T, DenseArray}, SubArray{P,N,A,I,L} where L where I<:Tuple{Vararg{Union{Int64, AbstractRange{Int64}, Base.AbstractCartesianIndex},N} where N} where A<:Union{Base.ReinterpretArray{T,N,S,A} where S where A<:Union{SubArray{T,N,A,I,true} where I<:Union{Tuple{Vararg{Real,N} where N}, Tuple{AbstractUnitRange,Vararg{Any,N} where N}} where A<:DenseArray where N where T, DenseArray} where N where T, Base.ReshapedArray{T,N,A,MI} where MI<:Tuple{Vararg{Base.MultiplicativeInverses.SignedMultiplicativeInverse{Int64},N} where N} where A<:Union{Base.ReinterpretArray{T,N,S,A} where S where A<:Union{SubArray{T,N,A,I,true} where I<:Union{Tuple{Vararg{Real,N} where N}, Tuple{AbstractUnitRange,Vararg{Any,N} where N}} where A<:DenseArray where N where T, DenseArray} where N where T, SubArray{T,N,A,I,true} where I<:Union{Tuple{Vararg{Real,N} where N}, Tuple{AbstractUnitRange,Vararg{Any,N} where N}} where A<:DenseArray where N where T, DenseArray} where N where T, DenseArray}} where N</b>, y::<b>Real</b>)<i> where P<:Dates.Period</i> in Dates at <a href=\"file://D:/buildbot/worker/package_win64/build/usr/share/julia/stdlib/v1.4/Dates/src/deprecated.jl\" target=\"_blank\">C:\\Users\\chuan\\AppData\\Local\\Programs\\Julia\\Julia-1.4.0\\share\\julia\\stdlib\\v1.4\\Dates\\src\\deprecated.jl:46</a></li> <li> *(u::<b>LinearAlgebra.Adjoint{T,#s662} where #s662<:(AbstractArray{T,1} where T) where T</b>, v::<b>LinearAlgebra.Adjoint{#s662,#s661} where #s661<:(LinearAlgebra.Transpose{T,#s662} where #s662<:(AbstractArray{T,1} where T) where T) where #s662</b>) in LinearAlgebra at <a href=\"file://D:/buildbot/worker/package_win64/build/usr/share/julia/stdlib/v1.4/LinearAlgebra/src/adjtrans.jl\" target=\"_blank\">C:\\Users\\chuan\\AppData\\Local\\Programs\\Julia\\Julia-1.4.0\\share\\julia\\stdlib\\v1.4\\LinearAlgebra\\src\\adjtrans.jl:263</a></li> <li> *(A::<b>LinearAlgebra.Adjoint{#s662,#s661} where #s661<:LinearAlgebra.AbstractTriangular where #s662</b>, B::<b>LinearAlgebra.Adjoint{#s660,#s659} where #s659<:LinearAlgebra.AbstractTriangular where #s660</b>) in LinearAlgebra at <a href=\"file://D:/buildbot/worker/package_win64/build/usr/share/julia/stdlib/v1.4/LinearAlgebra/src/triangular.jl\" target=\"_blank\">C:\\Users\\chuan\\AppData\\Local\\Programs\\Julia\\Julia-1.4.0\\share\\julia\\stdlib\\v1.4\\LinearAlgebra\\src\\triangular.jl:2133</a></li> <li> *(A::<b>LinearAlgebra.Adjoint{#s662,#s661} where #s661<:(Union{LinearAlgebra.Hermitian{Complex{T},S}, LinearAlgebra.Hermitian{T,S}, LinearAlgebra.Symmetric{T,S}} where S where T<:Real) where #s662</b>, B::<b>LinearAlgebra.Adjoint{#s660,#s659} where #s659<:LinearAlgebra.AbstractTriangular where #s660</b>) in LinearAlgebra at <a href=\"file://D:/buildbot/worker/package_win64/build/usr/share/julia/stdlib/v1.4/LinearAlgebra/src/symmetric.jl\" target=\"_blank\">C:\\Users\\chuan\\AppData\\Local\\Programs\\Julia\\Julia-1.4.0\\share\\julia\\stdlib\\v1.4\\LinearAlgebra\\src\\symmetric.jl:1049</a></li> <li> *(adjA::<b>LinearAlgebra.Adjoint{#s662,#s661} where #s661<:SparseArrays.AbstractSparseMatrixCSC where #s662</b>, B::<b>Union{DenseArray{T,2}, Base.ReinterpretArray{T,2,S,A} where S where A<:Union{SubArray{T,N,A,I,true} where I<:Union{Tuple{Vararg{Real,N} where N}, Tuple{AbstractUnitRange,Vararg{Any,N} where N}} where A<:DenseArray where N where T, DenseArray}, Base.ReshapedArray{T,2,A,MI} where MI<:Tuple{Vararg{Base.MultiplicativeInverses.SignedMultiplicativeInverse{Int64},N} where N} where A<:Union{Base.ReinterpretArray{T,N,S,A} where S where A<:Union{SubArray{T,N,A,I,true} where I<:Union{Tuple{Vararg{Real,N} where N}, Tuple{AbstractUnitRange,Vararg{Any,N} where N}} where A<:DenseArray where N where T, DenseArray} where N where T, SubArray{T,N,A,I,true} where I<:Union{Tuple{Vararg{Real,N} where N}, Tuple{AbstractUnitRange,Vararg{Any,N} where N}} where A<:DenseArray where N where T, DenseArray}, SubArray{T,2,A,I,L} where L where I<:Tuple{Vararg{Union{Int64, AbstractRange{Int64}, Base.AbstractCartesianIndex},N} where N} where A<:Union{Base.ReinterpretArray{T,N,S,A} where S where A<:Union{SubArray{T,N,A,I,true} where I<:Union{Tuple{Vararg{Real,N} where N}, Tuple{AbstractUnitRange,Vararg{Any,N} where N}} where A<:DenseArray where N where T, DenseArray} where N where T, Base.ReshapedArray{T,N,A,MI} where MI<:Tuple{Vararg{Base.MultiplicativeInverses.SignedMultiplicativeInverse{Int64},N} where N} where A<:Union{Base.ReinterpretArray{T,N,S,A} where S where A<:Union{SubArray{T,N,A,I,true} where I<:Union{Tuple{Vararg{Real,N} where N}, Tuple{AbstractUnitRange,Vararg{Any,N} where N}} where A<:DenseArray where N where T, DenseArray} where N where T, SubArray{T,N,A,I,true} where I<:Union{Tuple{Vararg{Real,N} where N}, Tuple{AbstractUnitRange,Vararg{Any,N} where N}} where A<:DenseArray where N where T, DenseArray} where N where T, DenseArray}, LinearAlgebra.Adjoint{#s662,#s661} where #s661<:Union{DenseArray{T,2}, Base.ReinterpretArray{T,2,S,A} where S where A<:Union{SubArray{T,N,A,I,true} where I<:Union{Tuple{Vararg{Real,N} where N}, Tuple{AbstractUnitRange,Vararg{Any,N} where N}} where A<:DenseArray where N where T, DenseArray}, Base.ReshapedArray{T,2,A,MI} where MI<:Tuple{Vararg{Base.MultiplicativeInverses.SignedMultiplicativeInverse{Int64},N} where N} where A<:Union{Base.ReinterpretArray{T,N,S,A} where S where A<:Union{SubArray{T,N,A,I,true} where I<:Union{Tuple{Vararg{Real,N} where N}, Tuple{AbstractUnitRange,Vararg{Any,N} where N}} where A<:DenseArray where N where T, DenseArray} where N where T, SubArray{T,N,A,I,true} where I<:Union{Tuple{Vararg{Real,N} where N}, Tuple{AbstractUnitRange,Vararg{Any,N} where N}} where A<:DenseArray where N where T, DenseArray}, SubArray{T,2,A,I,L} where L where I<:Tuple{Vararg{Union{Int64, AbstractRange{Int64}, Base.AbstractCartesianIndex},N} where N} where A<:Union{Base.ReinterpretArray{T,N,S,A} where S where A<:Union{SubArray{T,N,A,I,true} where I<:Union{Tuple{Vararg{Real,N} where N}, Tuple{AbstractUnitRange,Vararg{Any,N} where N}} where A<:DenseArray where N where T, DenseArray} where N where T, Base.ReshapedArray{T,N,A,MI} where MI<:Tuple{Vararg{Base.MultiplicativeInverses.SignedMultiplicativeInverse{Int64},N} where N} where A<:Union{Base.ReinterpretArray{T,N,S,A} where S where A<:Union{SubArray{T,N,A,I,true} where I<:Union{Tuple{Vararg{Real,N} where N}, Tuple{AbstractUnitRange,Vararg{Any,N} where N}} where A<:DenseArray where N where T, DenseArray} where N where T, SubArray{T,N,A,I,true} where I<:Union{Tuple{Vararg{Real,N} where N}, Tuple{AbstractUnitRange,Vararg{Any,N} where N}} where A<:DenseArray where N where T, DenseArray} where N where T, DenseArray}, LinearAlgebra.LowerTriangular{T,S} where S<:AbstractArray{T,2}, LinearAlgebra.UnitLowerTriangular{T,S} where S<:AbstractArray{T,2}, LinearAlgebra.UnitUpperTriangular{T,S} where S<:AbstractArray{T,2}, LinearAlgebra.UpperTriangular{T,S} where S<:AbstractArray{T,2}} where #s662, LinearAlgebra.LowerTriangular{T,S} where S<:AbstractArray{T,2}, LinearAlgebra.Transpose{#s660,#s659} where #s659<:Union{DenseArray{T,2}, Base.ReinterpretArray{T,2,S,A} where S where A<:Union{SubArray{T,N,A,I,true} where I<:Union{Tuple{Vararg{Real,N} where N}, Tuple{AbstractUnitRange,Vararg{Any,N} where N}} where A<:DenseArray where N where T, DenseArray}, Base.ReshapedArray{T,2,A,MI} where MI<:Tuple{Vararg{Base.MultiplicativeInverses.SignedMultiplicativeInverse{Int64},N} where N} where A<:Union{Base.ReinterpretArray{T,N,S,A} where S where A<:Union{SubArray{T,N,A,I,true} where I<:Union{Tuple{Vararg{Real,N} where N}, Tuple{AbstractUnitRange,Vararg{Any,N} where N}} where A<:DenseArray where N where T, DenseArray} where N where T, SubArray{T,N,A,I,true} where I<:Union{Tuple{Vararg{Real,N} where N}, Tuple{AbstractUnitRange,Vararg{Any,N} where N}} where A<:DenseArray where N where T, DenseArray}, SubArray{T,2,A,I,L} where L where I<:Tuple{Vararg{Union{Int64, AbstractRange{Int64}, Base.AbstractCartesianIndex},N} where N} where A<:Union{Base.ReinterpretArray{T,N,S,A} where S where A<:Union{SubArray{T,N,A,I,true} where I<:Union{Tuple{Vararg{Real,N} where N}, Tuple{AbstractUnitRange,Vararg{Any,N} where N}} where A<:DenseArray where N where T, DenseArray} where N where T, Base.ReshapedArray{T,N,A,MI} where MI<:Tuple{Vararg{Base.MultiplicativeInverses.SignedMultiplicativeInverse{Int64},N} where N} where A<:Union{Base.ReinterpretArray{T,N,S,A} where S where A<:Union{SubArray{T,N,A,I,true} where I<:Union{Tuple{Vararg{Real,N} where N}, Tuple{AbstractUnitRange,Vararg{Any,N} where N}} where A<:DenseArray where N where T, DenseArray} where N where T, SubArray{T,N,A,I,true} where I<:Union{Tuple{Vararg{Real,N} where N}, Tuple{AbstractUnitRange,Vararg{Any,N} where N}} where A<:DenseArray where N where T, DenseArray} where N where T, DenseArray}, LinearAlgebra.LowerTriangular{T,S} where S<:AbstractArray{T,2}, LinearAlgebra.UnitLowerTriangular{T,S} where S<:AbstractArray{T,2}, LinearAlgebra.UnitUpperTriangular{T,S} where S<:AbstractArray{T,2}, LinearAlgebra.UpperTriangular{T,S} where S<:AbstractArray{T,2}} where #s660, LinearAlgebra.UnitLowerTriangular{T,S} where S<:AbstractArray{T,2}, LinearAlgebra.UnitUpperTriangular{T,S} where S<:AbstractArray{T,2}, LinearAlgebra.UpperTriangular{T,S} where S<:AbstractArray{T,2}} where T</b>) in SparseArrays at <a href=\"file://D:/buildbot/worker/package_win64/build/usr/share/julia/stdlib/v1.4/SparseArrays/src/linalg.jl\" target=\"_blank\">C:\\Users\\chuan\\AppData\\Local\\Programs\\Julia\\Julia-1.4.0\\share\\julia\\stdlib\\v1.4\\SparseArrays\\src\\linalg.jl:57</a></li> <li> *(v::<b>LinearAlgebra.Adjoint{T,#s662} where #s662<:(AbstractArray{T,1} where T) where T</b>, A::<b>LinearAlgebra.Adjoint{#s662,#s661} where #s661<:LinearAlgebra.AbstractTriangular where #s662</b>) in LinearAlgebra at <a href=\"file://D:/buildbot/worker/package_win64/build/usr/share/julia/stdlib/v1.4/LinearAlgebra/src/triangular.jl\" target=\"_blank\">C:\\Users\\chuan\\AppData\\Local\\Programs\\Julia\\Julia-1.4.0\\share\\julia\\stdlib\\v1.4\\LinearAlgebra\\src\\triangular.jl:2120</a></li> <li> *(A::<b>LinearAlgebra.Adjoint{#s662,#s661} where #s661<:LinearAlgebra.AbstractTriangular where #s662</b>, B::<b>LinearAlgebra.Adjoint{#s660,#s659} where #s659<:(Union{LinearAlgebra.Hermitian{Complex{T},S}, LinearAlgebra.Hermitian{T,S}, LinearAlgebra.Symmetric{T,S}} where S where T<:Real) where #s660</b>) in LinearAlgebra at <a href=\"file://D:/buildbot/worker/package_win64/build/usr/share/julia/stdlib/v1.4/LinearAlgebra/src/symmetric.jl\" target=\"_blank\">C:\\Users\\chuan\\AppData\\Local\\Programs\\Julia\\Julia-1.4.0\\share\\julia\\stdlib\\v1.4\\LinearAlgebra\\src\\symmetric.jl:1045</a></li> <li> *(X::<b>Union{DenseArray{T,2}, Base.ReinterpretArray{T,2,S,A} where S where A<:Union{SubArray{T,N,A,I,true} where I<:Union{Tuple{Vararg{Real,N} where N}, Tuple{AbstractUnitRange,Vararg{Any,N} where N}} where A<:DenseArray where N where T, DenseArray}, Base.ReshapedArray{T,2,A,MI} where MI<:Tuple{Vararg{Base.MultiplicativeInverses.SignedMultiplicativeInverse{Int64},N} where N} where A<:Union{Base.ReinterpretArray{T,N,S,A} where S where A<:Union{SubArray{T,N,A,I,true} where I<:Union{Tuple{Vararg{Real,N} where N}, Tuple{AbstractUnitRange,Vararg{Any,N} where N}} where A<:DenseArray where N where T, DenseArray} where N where T, SubArray{T,N,A,I,true} where I<:Union{Tuple{Vararg{Real,N} where N}, Tuple{AbstractUnitRange,Vararg{Any,N} where N}} where A<:DenseArray where N where T, DenseArray}, SubArray{T,2,A,I,L} where L where I<:Tuple{Vararg{Union{Int64, AbstractRange{Int64}, Base.AbstractCartesianIndex},N} where N} where A<:Union{Base.ReinterpretArray{T,N,S,A} where S where A<:Union{SubArray{T,N,A,I,true} where I<:Union{Tuple{Vararg{Real,N} where N}, Tuple{AbstractUnitRange,Vararg{Any,N} where N}} where A<:DenseArray where N where T, DenseArray} where N where T, Base.ReshapedArray{T,N,A,MI} where MI<:Tuple{Vararg{Base.MultiplicativeInverses.SignedMultiplicativeInverse{Int64},N} where N} where A<:Union{Base.ReinterpretArray{T,N,S,A} where S where A<:Union{SubArray{T,N,A,I,true} where I<:Union{Tuple{Vararg{Real,N} where N}, Tuple{AbstractUnitRange,Vararg{Any,N} where N}} where A<:DenseArray where N where T, DenseArray} where N where T, SubArray{T,N,A,I,true} where I<:Union{Tuple{Vararg{Real,N} where N}, Tuple{AbstractUnitRange,Vararg{Any,N} where N}} where A<:DenseArray where N where T, DenseArray} where N where T, DenseArray}, LinearAlgebra.Adjoint{#s662,#s661} where #s661<:Union{DenseArray{T,2}, Base.ReinterpretArray{T,2,S,A} where S where A<:Union{SubArray{T,N,A,I,true} where I<:Union{Tuple{Vararg{Real,N} where N}, Tuple{AbstractUnitRange,Vararg{Any,N} where N}} where A<:DenseArray where N where T, DenseArray}, Base.ReshapedArray{T,2,A,MI} where MI<:Tuple{Vararg{Base.MultiplicativeInverses.SignedMultiplicativeInverse{Int64},N} where N} where A<:Union{Base.ReinterpretArray{T,N,S,A} where S where A<:Union{SubArray{T,N,A,I,true} where I<:Union{Tuple{Vararg{Real,N} where N}, Tuple{AbstractUnitRange,Vararg{Any,N} where N}} where A<:DenseArray where N where T, DenseArray} where N where T, SubArray{T,N,A,I,true} where I<:Union{Tuple{Vararg{Real,N} where N}, Tuple{AbstractUnitRange,Vararg{Any,N} where N}} where A<:DenseArray where N where T, DenseArray}, SubArray{T,2,A,I,L} where L where I<:Tuple{Vararg{Union{Int64, AbstractRange{Int64}, Base.AbstractCartesianIndex},N} where N} where A<:Union{Base.ReinterpretArray{T,N,S,A} where S where A<:Union{SubArray{T,N,A,I,true} where I<:Union{Tuple{Vararg{Real,N} where N}, Tuple{AbstractUnitRange,Vararg{Any,N} where N}} where A<:DenseArray where N where T, DenseArray} where N where T, Base.ReshapedArray{T,N,A,MI} where MI<:Tuple{Vararg{Base.MultiplicativeInverses.SignedMultiplicativeInverse{Int64},N} where N} where A<:Union{Base.ReinterpretArray{T,N,S,A} where S where A<:Union{SubArray{T,N,A,I,true} where I<:Union{Tuple{Vararg{Real,N} where N}, Tuple{AbstractUnitRange,Vararg{Any,N} where N}} where A<:DenseArray where N where T, DenseArray} where N where T, SubArray{T,N,A,I,true} where I<:Union{Tuple{Vararg{Real,N} where N}, Tuple{AbstractUnitRange,Vararg{Any,N} where N}} where A<:DenseArray where N where T, DenseArray} where N where T, DenseArray}, LinearAlgebra.LowerTriangular{T,S} where S<:AbstractArray{T,2}, LinearAlgebra.UnitLowerTriangular{T,S} where S<:AbstractArray{T,2}, LinearAlgebra.UnitUpperTriangular{T,S} where S<:AbstractArray{T,2}, LinearAlgebra.UpperTriangular{T,S} where S<:AbstractArray{T,2}} where #s662, LinearAlgebra.LowerTriangular{T,S} where S<:AbstractArray{T,2}, LinearAlgebra.Transpose{#s660,#s659} where #s659<:Union{DenseArray{T,2}, Base.ReinterpretArray{T,2,S,A} where S where A<:Union{SubArray{T,N,A,I,true} where I<:Union{Tuple{Vararg{Real,N} where N}, Tuple{AbstractUnitRange,Vararg{Any,N} where N}} where A<:DenseArray where N where T, DenseArray}, Base.ReshapedArray{T,2,A,MI} where MI<:Tuple{Vararg{Base.MultiplicativeInverses.SignedMultiplicativeInverse{Int64},N} where N} where A<:Union{Base.ReinterpretArray{T,N,S,A} where S where A<:Union{SubArray{T,N,A,I,true} where I<:Union{Tuple{Vararg{Real,N} where N}, Tuple{AbstractUnitRange,Vararg{Any,N} where N}} where A<:DenseArray where N where T, DenseArray} where N where T, SubArray{T,N,A,I,true} where I<:Union{Tuple{Vararg{Real,N} where N}, Tuple{AbstractUnitRange,Vararg{Any,N} where N}} where A<:DenseArray where N where T, DenseArray}, SubArray{T,2,A,I,L} where L where I<:Tuple{Vararg{Union{Int64, AbstractRange{Int64}, Base.AbstractCartesianIndex},N} where N} where A<:Union{Base.ReinterpretArray{T,N,S,A} where S where A<:Union{SubArray{T,N,A,I,true} where I<:Union{Tuple{Vararg{Real,N} where N}, Tuple{AbstractUnitRange,Vararg{Any,N} where N}} where A<:DenseArray where N where T, DenseArray} where N where T, Base.ReshapedArray{T,N,A,MI} where MI<:Tuple{Vararg{Base.MultiplicativeInverses.SignedMultiplicativeInverse{Int64},N} where N} where A<:Union{Base.ReinterpretArray{T,N,S,A} where S where A<:Union{SubArray{T,N,A,I,true} where I<:Union{Tuple{Vararg{Real,N} where N}, Tuple{AbstractUnitRange,Vararg{Any,N} where N}} where A<:DenseArray where N where T, DenseArray} where N where T, SubArray{T,N,A,I,true} where I<:Union{Tuple{Vararg{Real,N} where N}, Tuple{AbstractUnitRange,Vararg{Any,N} where N}} where A<:DenseArray where N where T, DenseArray} where N where T, DenseArray}, LinearAlgebra.LowerTriangular{T,S} where S<:AbstractArray{T,2}, LinearAlgebra.UnitLowerTriangular{T,S} where S<:AbstractArray{T,2}, LinearAlgebra.UnitUpperTriangular{T,S} where S<:AbstractArray{T,2}, LinearAlgebra.UpperTriangular{T,S} where S<:AbstractArray{T,2}} where #s660, LinearAlgebra.UnitLowerTriangular{T,S} where S<:AbstractArray{T,2}, LinearAlgebra.UnitUpperTriangular{T,S} where S<:AbstractArray{T,2}, LinearAlgebra.UpperTriangular{T,S} where S<:AbstractArray{T,2}} where T</b>, adjA::<b>LinearAlgebra.Adjoint{#s662,#s661} where #s661<:SparseArrays.AbstractSparseMatrixCSC where #s662</b>) in SparseArrays at <a href=\"file://D:/buildbot/worker/package_win64/build/usr/share/julia/stdlib/v1.4/SparseArrays/src/linalg.jl\" target=\"_blank\">C:\\Users\\chuan\\AppData\\Local\\Programs\\Julia\\Julia-1.4.0\\share\\julia\\stdlib\\v1.4\\SparseArrays\\src\\linalg.jl:129</a></li> <li> *(A::<b>LinearAlgebra.Adjoint{#s662,#s661} where #s661<:LinearAlgebra.AbstractTriangular where #s662</b>, B::<b>LinearAlgebra.Adjoint{#s660,#s659} where #s659<:(AbstractArray{T,1} where T) where #s660</b>) in LinearAlgebra at <a href=\"file://D:/buildbot/worker/package_win64/build/usr/share/julia/stdlib/v1.4/LinearAlgebra/src/triangular.jl\" target=\"_blank\">C:\\Users\\chuan\\AppData\\Local\\Programs\\Julia\\Julia-1.4.0\\share\\julia\\stdlib\\v1.4\\LinearAlgebra\\src\\triangular.jl:2642</a></li> <li> *(adjQ::<b>LinearAlgebra.Adjoint{#s662,#s661} where #s661<:LinearAlgebra.AbstractQ where #s662</b>, adjB::<b>LinearAlgebra.Adjoint{#s660,#s659} where #s659<:(Union{DenseArray{T,2}, DenseArray{T,1}, Base.ReinterpretArray{T,2,S,A} where S where A<:Union{SubArray{T,N,A,I,true} where I<:Union{Tuple{Vararg{Real,N} where N}, Tuple{AbstractUnitRange,Vararg{Any,N} where N}} where A<:DenseArray where N where T, DenseArray}, Base.ReinterpretArray{T,1,S,A} where S where A<:Union{SubArray{T,N,A,I,true} where I<:Union{Tuple{Vararg{Real,N} where N}, Tuple{AbstractUnitRange,Vararg{Any,N} where N}} where A<:DenseArray where N where T, DenseArray}, Base.ReshapedArray{T,2,A,MI} where MI<:Tuple{Vararg{Base.MultiplicativeInverses.SignedMultiplicativeInverse{Int64},N} where N} where A<:Union{Base.ReinterpretArray{T,N,S,A} where S where A<:Union{SubArray{T,N,A,I,true} where I<:Union{Tuple{Vararg{Real,N} where N}, Tuple{AbstractUnitRange,Vararg{Any,N} where N}} where A<:DenseArray where N where T, DenseArray} where N where T, SubArray{T,N,A,I,true} where I<:Union{Tuple{Vararg{Real,N} where N}, Tuple{AbstractUnitRange,Vararg{Any,N} where N}} where A<:DenseArray where N where T, DenseArray}, Base.ReshapedArray{T,1,A,MI} where MI<:Tuple{Vararg{Base.MultiplicativeInverses.SignedMultiplicativeInverse{Int64},N} where N} where A<:Union{Base.ReinterpretArray{T,N,S,A} where S where A<:Union{SubArray{T,N,A,I,true} where I<:Union{Tuple{Vararg{Real,N} where N}, Tuple{AbstractUnitRange,Vararg{Any,N} where N}} where A<:DenseArray where N where T, DenseArray} where N where T, SubArray{T,N,A,I,true} where I<:Union{Tuple{Vararg{Real,N} where N}, Tuple{AbstractUnitRange,Vararg{Any,N} where N}} where A<:DenseArray where N where T, DenseArray}, SubArray{T,2,A,I,L} where L where I<:Tuple{Vararg{Union{Int64, AbstractRange{Int64}, Base.AbstractCartesianIndex},N} where N} where A<:Union{Base.ReinterpretArray{T,N,S,A} where S where A<:Union{SubArray{T,N,A,I,true} where I<:Union{Tuple{Vararg{Real,N} where N}, Tuple{AbstractUnitRange,Vararg{Any,N} where N}} where A<:DenseArray where N where T, DenseArray} where N where T, Base.ReshapedArray{T,N,A,MI} where MI<:Tuple{Vararg{Base.MultiplicativeInverses.SignedMultiplicativeInverse{Int64},N} where N} where A<:Union{Base.ReinterpretArray{T,N,S,A} where S where A<:Union{SubArray{T,N,A,I,true} where I<:Union{Tuple{Vararg{Real,N} where N}, Tuple{AbstractUnitRange,Vararg{Any,N} where N}} where A<:DenseArray where N where T, DenseArray} where N where T, SubArray{T,N,A,I,true} where I<:Union{Tuple{Vararg{Real,N} where N}, Tuple{AbstractUnitRange,Vararg{Any,N} where N}} where A<:DenseArray where N where T, DenseArray} where N where T, DenseArray}, SubArray{T,1,A,I,L} where L where I<:Tuple{Vararg{Union{Int64, AbstractRange{Int64}, Base.AbstractCartesianIndex},N} where N} where A<:Union{Base.ReinterpretArray{T,N,S,A} where S where A<:Union{SubArray{T,N,A,I,true} where I<:Union{Tuple{Vararg{Real,N} where N}, Tuple{AbstractUnitRange,Vararg{Any,N} where N}} where A<:DenseArray where N where T, DenseArray} where N where T, Base.ReshapedArray{T,N,A,MI} where MI<:Tuple{Vararg{Base.MultiplicativeInverses.SignedMultiplicativeInverse{Int64},N} where N} where A<:Union{Base.ReinterpretArray{T,N,S,A} where S where A<:Union{SubArray{T,N,A,I,true} where I<:Union{Tuple{Vararg{Real,N} where N}, Tuple{AbstractUnitRange,Vararg{Any,N} where N}} where A<:DenseArray where N where T, DenseArray} where N where T, SubArray{T,N,A,I,true} where I<:Union{Tuple{Vararg{Real,N} where N}, Tuple{AbstractUnitRange,Vararg{Any,N} where N}} where A<:DenseArray where N where T, DenseArray} where N where T, DenseArray}} where T) where #s660</b>) in LinearAlgebra at <a href=\"file://D:/buildbot/worker/package_win64/build/usr/share/julia/stdlib/v1.4/LinearAlgebra/src/qr.jl\" target=\"_blank\">C:\\Users\\chuan\\AppData\\Local\\Programs\\Julia\\Julia-1.4.0\\share\\julia\\stdlib\\v1.4\\LinearAlgebra\\src\\qr.jl:641</a></li> <li> *(adjA::<b>LinearAlgebra.Adjoint{#s662,#s661} where #s661<:(Union{DenseArray{T,2}, DenseArray{T,1}, Base.ReinterpretArray{T,2,S,A} where S where A<:Union{SubArray{T,N,A,I,true} where I<:Union{Tuple{Vararg{Real,N} where N}, Tuple{AbstractUnitRange,Vararg{Any,N} where N}} where A<:DenseArray where N where T, DenseArray}, Base.ReinterpretArray{T,1,S,A} where S where A<:Union{SubArray{T,N,A,I,true} where I<:Union{Tuple{Vararg{Real,N} where N}, Tuple{AbstractUnitRange,Vararg{Any,N} where N}} where A<:DenseArray where N where T, DenseArray}, Base.ReshapedArray{T,2,A,MI} where MI<:Tuple{Vararg{Base.MultiplicativeInverses.SignedMultiplicativeInverse{Int64},N} where N} where A<:Union{Base.ReinterpretArray{T,N,S,A} where S where A<:Union{SubArray{T,N,A,I,true} where I<:Union{Tuple{Vararg{Real,N} where N}, Tuple{AbstractUnitRange,Vararg{Any,N} where N}} where A<:DenseArray where N where T, DenseArray} where N where T, SubArray{T,N,A,I,true} where I<:Union{Tuple{Vararg{Real,N} where N}, Tuple{AbstractUnitRange,Vararg{Any,N} where N}} where A<:DenseArray where N where T, DenseArray}, Base.ReshapedArray{T,1,A,MI} where MI<:Tuple{Vararg{Base.MultiplicativeInverses.SignedMultiplicativeInverse{Int64},N} where N} where A<:Union{Base.ReinterpretArray{T,N,S,A} where S where A<:Union{SubArray{T,N,A,I,true} where I<:Union{Tuple{Vararg{Real,N} where N}, Tuple{AbstractUnitRange,Vararg{Any,N} where N}} where A<:DenseArray where N where T, DenseArray} where N where T, SubArray{T,N,A,I,true} where I<:Union{Tuple{Vararg{Real,N} where N}, Tuple{AbstractUnitRange,Vararg{Any,N} where N}} where A<:DenseArray where N where T, DenseArray}, SubArray{T,2,A,I,L} where L where I<:Tuple{Vararg{Union{Int64, AbstractRange{Int64}, Base.AbstractCartesianIndex},N} where N} where A<:Union{Base.ReinterpretArray{T,N,S,A} where S where A<:Union{SubArray{T,N,A,I,true} where I<:Union{Tuple{Vararg{Real,N} where N}, Tuple{AbstractUnitRange,Vararg{Any,N} where N}} where A<:DenseArray where N where T, DenseArray} where N where T, Base.ReshapedArray{T,N,A,MI} where MI<:Tuple{Vararg{Base.MultiplicativeInverses.SignedMultiplicativeInverse{Int64},N} where N} where A<:Union{Base.ReinterpretArray{T,N,S,A} where S where A<:Union{SubArray{T,N,A,I,true} where I<:Union{Tuple{Vararg{Real,N} where N}, Tuple{AbstractUnitRange,Vararg{Any,N} where N}} where A<:DenseArray where N where T, DenseArray} where N where T, SubArray{T,N,A,I,true} where I<:Union{Tuple{Vararg{Real,N} where N}, Tuple{AbstractUnitRange,Vararg{Any,N} where N}} where A<:DenseArray where N where T, DenseArray} where N where T, DenseArray}, SubArray{T,1,A,I,L} where L where I<:Tuple{Vararg{Union{Int64, AbstractRange{Int64}, Base.AbstractCartesianIndex},N} where N} where A<:Union{Base.ReinterpretArray{T,N,S,A} where S where A<:Union{SubArray{T,N,A,I,true} where I<:Union{Tuple{Vararg{Real,N} where N}, Tuple{AbstractUnitRange,Vararg{Any,N} where N}} where A<:DenseArray where N where T, DenseArray} where N where T, Base.ReshapedArray{T,N,A,MI} where MI<:Tuple{Vararg{Base.MultiplicativeInverses.SignedMultiplicativeInverse{Int64},N} where N} where A<:Union{Base.ReinterpretArray{T,N,S,A} where S where A<:Union{SubArray{T,N,A,I,true} where I<:Union{Tuple{Vararg{Real,N} where N}, Tuple{AbstractUnitRange,Vararg{Any,N} where N}} where A<:DenseArray where N where T, DenseArray} where N where T, SubArray{T,N,A,I,true} where I<:Union{Tuple{Vararg{Real,N} where N}, Tuple{AbstractUnitRange,Vararg{Any,N} where N}} where A<:DenseArray where N where T, DenseArray} where N where T, DenseArray}} where T) where #s662</b>, adjQ::<b>LinearAlgebra.Adjoint{#s660,#s659} where #s659<:LinearAlgebra.AbstractQ where #s660</b>) in LinearAlgebra at <a href=\"file://D:/buildbot/worker/package_win64/build/usr/share/julia/stdlib/v1.4/LinearAlgebra/src/qr.jl\" target=\"_blank\">C:\\Users\\chuan\\AppData\\Local\\Programs\\Julia\\Julia-1.4.0\\share\\julia\\stdlib\\v1.4\\LinearAlgebra\\src\\qr.jl:744</a></li> <li> *(u::<b>LinearAlgebra.Adjoint{T,#s662} where #s662<:(AbstractArray{T,1} where T) where T</b>, A::<b>LinearAlgebra.Adjoint{#s662,#s661} where #s661<:LinearAlgebra.AbstractQ where #s662</b>) in LinearAlgebra at <a href=\"file://D:/buildbot/worker/package_win64/build/usr/share/julia/stdlib/v1.4/LinearAlgebra/src/qr.jl\" target=\"_blank\">C:\\Users\\chuan\\AppData\\Local\\Programs\\Julia\\Julia-1.4.0\\share\\julia\\stdlib\\v1.4\\LinearAlgebra\\src\\qr.jl:732</a></li> <li> *(adjA::<b>LinearAlgebra.Adjoint{#s662,#s661} where #s661<:LinearAlgebra.LQPackedQ where #s662</b>, adjB::<b>LinearAlgebra.Adjoint{#s660,#s659} where #s659<:(Union{DenseArray{T,2}, DenseArray{T,1}, Base.ReinterpretArray{T,2,S,A} where S where A<:Union{SubArray{T,N,A,I,true} where I<:Union{Tuple{Vararg{Real,N} where N}, Tuple{AbstractUnitRange,Vararg{Any,N} where N}} where A<:DenseArray where N where T, DenseArray}, Base.ReinterpretArray{T,1,S,A} where S where A<:Union{SubArray{T,N,A,I,true} where I<:Union{Tuple{Vararg{Real,N} where N}, Tuple{AbstractUnitRange,Vararg{Any,N} where N}} where A<:DenseArray where N where T, DenseArray}, Base.ReshapedArray{T,2,A,MI} where MI<:Tuple{Vararg{Base.MultiplicativeInverses.SignedMultiplicativeInverse{Int64},N} where N} where A<:Union{Base.ReinterpretArray{T,N,S,A} where S where A<:Union{SubArray{T,N,A,I,true} where I<:Union{Tuple{Vararg{Real,N} where N}, Tuple{AbstractUnitRange,Vararg{Any,N} where N}} where A<:DenseArray where N where T, DenseArray} where N where T, SubArray{T,N,A,I,true} where I<:Union{Tuple{Vararg{Real,N} where N}, Tuple{AbstractUnitRange,Vararg{Any,N} where N}} where A<:DenseArray where N where T, DenseArray}, Base.ReshapedArray{T,1,A,MI} where MI<:Tuple{Vararg{Base.MultiplicativeInverses.SignedMultiplicativeInverse{Int64},N} where N} where A<:Union{Base.ReinterpretArray{T,N,S,A} where S where A<:Union{SubArray{T,N,A,I,true} where I<:Union{Tuple{Vararg{Real,N} where N}, Tuple{AbstractUnitRange,Vararg{Any,N} where N}} where A<:DenseArray where N where T, DenseArray} where N where T, SubArray{T,N,A,I,true} where I<:Union{Tuple{Vararg{Real,N} where N}, Tuple{AbstractUnitRange,Vararg{Any,N} where N}} where A<:DenseArray where N where T, DenseArray}, SubArray{T,2,A,I,L} where L where I<:Tuple{Vararg{Union{Int64, AbstractRange{Int64}, Base.AbstractCartesianIndex},N} where N} where A<:Union{Base.ReinterpretArray{T,N,S,A} where S where A<:Union{SubArray{T,N,A,I,true} where I<:Union{Tuple{Vararg{Real,N} where N}, Tuple{AbstractUnitRange,Vararg{Any,N} where N}} where A<:DenseArray where N where T, DenseArray} where N where T, Base.ReshapedArray{T,N,A,MI} where MI<:Tuple{Vararg{Base.MultiplicativeInverses.SignedMultiplicativeInverse{Int64},N} where N} where A<:Union{Base.ReinterpretArray{T,N,S,A} where S where A<:Union{SubArray{T,N,A,I,true} where I<:Union{Tuple{Vararg{Real,N} where N}, Tuple{AbstractUnitRange,Vararg{Any,N} where N}} where A<:DenseArray where N where T, DenseArray} where N where T, SubArray{T,N,A,I,true} where I<:Union{Tuple{Vararg{Real,N} where N}, Tuple{AbstractUnitRange,Vararg{Any,N} where N}} where A<:DenseArray where N where T, DenseArray} where N where T, DenseArray}, SubArray{T,1,A,I,L} where L where I<:Tuple{Vararg{Union{Int64, AbstractRange{Int64}, Base.AbstractCartesianIndex},N} where N} where A<:Union{Base.ReinterpretArray{T,N,S,A} where S where A<:Union{SubArray{T,N,A,I,true} where I<:Union{Tuple{Vararg{Real,N} where N}, Tuple{AbstractUnitRange,Vararg{Any,N} where N}} where A<:DenseArray where N where T, DenseArray} where N where T, Base.ReshapedArray{T,N,A,MI} where MI<:Tuple{Vararg{Base.MultiplicativeInverses.SignedMultiplicativeInverse{Int64},N} where N} where A<:Union{Base.ReinterpretArray{T,N,S,A} where S where A<:Union{SubArray{T,N,A,I,true} where I<:Union{Tuple{Vararg{Real,N} where N}, Tuple{AbstractUnitRange,Vararg{Any,N} where N}} where A<:DenseArray where N where T, DenseArray} where N where T, SubArray{T,N,A,I,true} where I<:Union{Tuple{Vararg{Real,N} where N}, Tuple{AbstractUnitRange,Vararg{Any,N} where N}} where A<:DenseArray where N where T, DenseArray} where N where T, DenseArray}} where T) where #s660</b>) in LinearAlgebra at <a href=\"file://D:/buildbot/worker/package_win64/build/usr/share/julia/stdlib/v1.4/LinearAlgebra/src/lq.jl\" target=\"_blank\">C:\\Users\\chuan\\AppData\\Local\\Programs\\Julia\\Julia-1.4.0\\share\\julia\\stdlib\\v1.4\\LinearAlgebra\\src\\lq.jl:219</a></li> <li> *(adjA::<b>LinearAlgebra.Adjoint{#s662,#s661} where #s661<:(Union{DenseArray{T,2}, Base.ReinterpretArray{T,2,S,A} where S where A<:Union{SubArray{T,N,A,I,true} where I<:Union{Tuple{Vararg{Real,N} where N}, Tuple{AbstractUnitRange,Vararg{Any,N} where N}} where A<:DenseArray where N where T, DenseArray}, Base.ReshapedArray{T,2,A,MI} where MI<:Tuple{Vararg{Base.MultiplicativeInverses.SignedMultiplicativeInverse{Int64},N} where N} where A<:Union{Base.ReinterpretArray{T,N,S,A} where S where A<:Union{SubArray{T,N,A,I,true} where I<:Union{Tuple{Vararg{Real,N} where N}, Tuple{AbstractUnitRange,Vararg{Any,N} where N}} where A<:DenseArray where N where T, DenseArray} where N where T, SubArray{T,N,A,I,true} where I<:Union{Tuple{Vararg{Real,N} where N}, Tuple{AbstractUnitRange,Vararg{Any,N} where N}} where A<:DenseArray where N where T, DenseArray}, SubArray{T,2,A,I,L} where L where I<:Tuple{Vararg{Union{Int64, AbstractRange{Int64}, Base.AbstractCartesianIndex},N} where N} where A<:Union{Base.ReinterpretArray{T,N,S,A} where S where A<:Union{SubArray{T,N,A,I,true} where I<:Union{Tuple{Vararg{Real,N} where N}, Tuple{AbstractUnitRange,Vararg{Any,N} where N}} where A<:DenseArray where N where T, DenseArray} where N where T, Base.ReshapedArray{T,N,A,MI} where MI<:Tuple{Vararg{Base.MultiplicativeInverses.SignedMultiplicativeInverse{Int64},N} where N} where A<:Union{Base.ReinterpretArray{T,N,S,A} where S where A<:Union{SubArray{T,N,A,I,true} where I<:Union{Tuple{Vararg{Real,N} where N}, Tuple{AbstractUnitRange,Vararg{Any,N} where N}} where A<:DenseArray where N where T, DenseArray} where N where T, SubArray{T,N,A,I,true} where I<:Union{Tuple{Vararg{Real,N} where N}, Tuple{AbstractUnitRange,Vararg{Any,N} where N}} where A<:DenseArray where N where T, DenseArray} where N where T, DenseArray}} where T) where #s662</b>, adjQ::<b>LinearAlgebra.Adjoint{#s660,#s659} where #s659<:LinearAlgebra.LQPackedQ where #s660</b>) in LinearAlgebra at <a href=\"file://D:/buildbot/worker/package_win64/build/usr/share/julia/stdlib/v1.4/LinearAlgebra/src/lq.jl\" target=\"_blank\">C:\\Users\\chuan\\AppData\\Local\\Programs\\Julia\\Julia-1.4.0\\share\\julia\\stdlib\\v1.4\\LinearAlgebra\\src\\lq.jl:256</a></li> <li> *(adjA::<b>LinearAlgebra.Adjoint{#s662,#s661} where #s661<:(Union{LinearAlgebra.Hermitian{T,S}, LinearAlgebra.Symmetric{T,S}} where S where T<:Real) where #s662</b>, adjB::<b>LinearAlgebra.Adjoint{#s660,#s659} where #s659<:(Union{LinearAlgebra.Hermitian{T,S}, LinearAlgebra.Symmetric{T,S}} where S where T<:Real) where #s660</b>) in LinearAlgebra at <a href=\"file://D:/buildbot/worker/package_win64/build/usr/share/julia/stdlib/v1.4/LinearAlgebra/src/symmetric.jl\" target=\"_blank\">C:\\Users\\chuan\\AppData\\Local\\Programs\\Julia\\Julia-1.4.0\\share\\julia\\stdlib\\v1.4\\LinearAlgebra\\src\\symmetric.jl:599</a></li> <li> *(adjA::<b>LinearAlgebra.Adjoint{#s662,#s661} where #s661<:(Union{LinearAlgebra.Hermitian{T,S}, LinearAlgebra.Symmetric{T,S}} where S where T<:Real) where #s662</b>, adjB::<b>LinearAlgebra.Adjoint{#s660,#s659} where #s659<:(Union{LinearAlgebra.Hermitian{Complex{T},S}, LinearAlgebra.Hermitian{T,S}, LinearAlgebra.Symmetric{T,S}} where S where T<:Real) where #s660</b>) in LinearAlgebra at <a href=\"file://D:/buildbot/worker/package_win64/build/usr/share/julia/stdlib/v1.4/LinearAlgebra/src/symmetric.jl\" target=\"_blank\">C:\\Users\\chuan\\AppData\\Local\\Programs\\Julia\\Julia-1.4.0\\share\\julia\\stdlib\\v1.4\\LinearAlgebra\\src\\symmetric.jl:601</a></li> <li> *(adjA::<b>LinearAlgebra.Adjoint{#s662,#s661} where #s661<:(Union{LinearAlgebra.Hermitian{Complex{T},S}, LinearAlgebra.Hermitian{T,S}, LinearAlgebra.Symmetric{T,S}} where S where T<:Real) where #s662</b>, adjB::<b>LinearAlgebra.Adjoint{#s660,#s659} where #s659<:(Union{LinearAlgebra.Hermitian{T,S}, LinearAlgebra.Symmetric{T,S}} where S where T<:Real) where #s660</b>) in LinearAlgebra at <a href=\"file://D:/buildbot/worker/package_win64/build/usr/share/julia/stdlib/v1.4/LinearAlgebra/src/symmetric.jl\" target=\"_blank\">C:\\Users\\chuan\\AppData\\Local\\Programs\\Julia\\Julia-1.4.0\\share\\julia\\stdlib\\v1.4\\LinearAlgebra\\src\\symmetric.jl:603</a></li> <li> *(adjA::<b>LinearAlgebra.Adjoint{#s662,#s661} where #s661<:(Union{LinearAlgebra.Hermitian{Complex{T},S}, LinearAlgebra.Hermitian{T,S}, LinearAlgebra.Symmetric{T,S}} where S where T<:Real) where #s662</b>, adjB::<b>LinearAlgebra.Adjoint{#s660,#s659} where #s659<:(Union{LinearAlgebra.Hermitian{Complex{T},S}, LinearAlgebra.Hermitian{T,S}, LinearAlgebra.Symmetric{T,S}} where S where T<:Real) where #s660</b>) in LinearAlgebra at <a href=\"file://D:/buildbot/worker/package_win64/build/usr/share/julia/stdlib/v1.4/LinearAlgebra/src/symmetric.jl\" target=\"_blank\">C:\\Users\\chuan\\AppData\\Local\\Programs\\Julia\\Julia-1.4.0\\share\\julia\\stdlib\\v1.4\\LinearAlgebra\\src\\symmetric.jl:600</a></li> <li> *(adjA::<b>LinearAlgebra.Adjoint{#s662,#s661} where #s661<:(Union{LinearAlgebra.Hermitian{T,S}, LinearAlgebra.Symmetric{Complex{T},S}, LinearAlgebra.Symmetric{T,S}} where S where T<:Real) where #s662</b>, adjB::<b>LinearAlgebra.Adjoint{#s660,#s659} where #s659<:(Union{LinearAlgebra.Hermitian{Complex{T},S}, LinearAlgebra.Hermitian{T,S}, LinearAlgebra.Symmetric{T,S}} where S where T<:Real) where #s660</b>) in LinearAlgebra at <a href=\"file://D:/buildbot/worker/package_win64/build/usr/share/julia/stdlib/v1.4/LinearAlgebra/src/symmetric.jl\" target=\"_blank\">C:\\Users\\chuan\\AppData\\Local\\Programs\\Julia\\Julia-1.4.0\\share\\julia\\stdlib\\v1.4\\LinearAlgebra\\src\\symmetric.jl:602</a></li> <li> *(adjA::<b>LinearAlgebra.Adjoint{#s662,#s661} where #s661<:(Union{LinearAlgebra.Hermitian{Complex{T},S}, LinearAlgebra.Hermitian{T,S}, LinearAlgebra.Symmetric{T,S}} where S where T<:Real) where #s662</b>, adjB::<b>LinearAlgebra.Adjoint{#s660,#s659} where #s659<:(Union{LinearAlgebra.Hermitian{T,S}, LinearAlgebra.Symmetric{Complex{T},S}, LinearAlgebra.Symmetric{T,S}} where S where T<:Real) where #s660</b>) in LinearAlgebra at <a href=\"file://D:/buildbot/worker/package_win64/build/usr/share/julia/stdlib/v1.4/LinearAlgebra/src/symmetric.jl\" target=\"_blank\">C:\\Users\\chuan\\AppData\\Local\\Programs\\Julia\\Julia-1.4.0\\share\\julia\\stdlib\\v1.4\\LinearAlgebra\\src\\symmetric.jl:604</a></li> <li> *(adjD::<b>LinearAlgebra.Adjoint{#s662,#s661} where #s661<:LinearAlgebra.Diagonal where #s662</b>, adjA::<b>LinearAlgebra.Adjoint{#s660,#s659} where #s659<:(Union{LinearAlgebra.Hermitian{Complex{T},S}, LinearAlgebra.Hermitian{T,S}, LinearAlgebra.Symmetric{T,S}} where S where T<:Real) where #s660</b>) in LinearAlgebra at <a href=\"file://D:/buildbot/worker/package_win64/build/usr/share/julia/stdlib/v1.4/LinearAlgebra/src/diagonal.jl\" target=\"_blank\">C:\\Users\\chuan\\AppData\\Local\\Programs\\Julia\\Julia-1.4.0\\share\\julia\\stdlib\\v1.4\\LinearAlgebra\\src\\diagonal.jl:373</a></li> <li> *(A::<b>LinearAlgebra.Adjoint{#s662,#s661} where #s661<:(AbstractArray{T,1} where T) where #s662</b>, B::<b>LinearAlgebra.Adjoint{#s660,#s659} where #s659<:(Union{LinearAlgebra.Hermitian{Complex{T},S}, LinearAlgebra.Hermitian{T,S}, LinearAlgebra.Symmetric{T,S}} where S where T<:Real) where #s660</b>) in LinearAlgebra at <a href=\"file://D:/buildbot/worker/package_win64/build/usr/share/julia/stdlib/v1.4/LinearAlgebra/src/symmetric.jl\" target=\"_blank\">C:\\Users\\chuan\\AppData\\Local\\Programs\\Julia\\Julia-1.4.0\\share\\julia\\stdlib\\v1.4\\LinearAlgebra\\src\\symmetric.jl:1026</a></li> <li> *(adjA::<b>LinearAlgebra.Adjoint{#s662,#s661} where #s661<:(Union{LinearAlgebra.Hermitian{Complex{T},S}, LinearAlgebra.Hermitian{T,S}, LinearAlgebra.Symmetric{T,S}} where S where T<:Real) where #s662</b>, adjD::<b>LinearAlgebra.Adjoint{#s660,#s659} where #s659<:LinearAlgebra.Diagonal where #s660</b>) in LinearAlgebra at <a href=\"file://D:/buildbot/worker/package_win64/build/usr/share/julia/stdlib/v1.4/LinearAlgebra/src/diagonal.jl\" target=\"_blank\">C:\\Users\\chuan\\AppData\\Local\\Programs\\Julia\\Julia-1.4.0\\share\\julia\\stdlib\\v1.4\\LinearAlgebra\\src\\diagonal.jl:372</a></li> <li> *(A::<b>LinearAlgebra.Adjoint{#s662,#s661} where #s661<:(Union{LinearAlgebra.Hermitian{Complex{T},S}, LinearAlgebra.Hermitian{T,S}, LinearAlgebra.Symmetric{T,S}} where S where T<:Real) where #s662</b>, B::<b>LinearAlgebra.Adjoint{#s660,#s659} where #s659<:(AbstractArray{T,1} where T) where #s660</b>) in LinearAlgebra at <a href=\"file://D:/buildbot/worker/package_win64/build/usr/share/julia/stdlib/v1.4/LinearAlgebra/src/symmetric.jl\" target=\"_blank\">C:\\Users\\chuan\\AppData\\Local\\Programs\\Julia\\Julia-1.4.0\\share\\julia\\stdlib\\v1.4\\LinearAlgebra\\src\\symmetric.jl:1035</a></li> <li> *(D::<b>LinearAlgebra.Adjoint{#s662,#s661} where #s661<:LinearAlgebra.Diagonal where #s662</b>, B::<b>LinearAlgebra.Adjoint{#s660,#s659} where #s659<:LinearAlgebra.Diagonal where #s660</b>) in LinearAlgebra at <a href=\"file://D:/buildbot/worker/package_win64/build/usr/share/julia/stdlib/v1.4/LinearAlgebra/src/diagonal.jl\" target=\"_blank\">C:\\Users\\chuan\\AppData\\Local\\Programs\\Julia\\Julia-1.4.0\\share\\julia\\stdlib\\v1.4\\LinearAlgebra\\src\\diagonal.jl:259</a></li> <li> *(A::<b>LinearAlgebra.Adjoint{#s662,#s661} where #s661<:SparseArrays.AbstractSparseMatrixCSC where #s662</b>, B::<b>LinearAlgebra.Adjoint{#s660,#s659} where #s659<:SparseArrays.AbstractSparseMatrixCSC where #s660</b>) in SparseArrays at <a href=\"file://D:/buildbot/worker/package_win64/build/usr/share/julia/stdlib/v1.4/SparseArrays/src/linalg.jl\" target=\"_blank\">C:\\Users\\chuan\\AppData\\Local\\Programs\\Julia\\Julia-1.4.0\\share\\julia\\stdlib\\v1.4\\SparseArrays\\src\\linalg.jl:168</a></li> <li> *(u::<b>LinearAlgebra.Adjoint{T,#s662} where #s662<:(AbstractArray{T,1} where T) where T</b>, v::<b>LinearAlgebra.Adjoint{T,#s662} where #s662<:(AbstractArray{T,1} where T) where T</b>) in LinearAlgebra at <a href=\"file://D:/buildbot/worker/package_win64/build/usr/share/julia/stdlib/v1.4/LinearAlgebra/src/adjtrans.jl\" target=\"_blank\">C:\\Users\\chuan\\AppData\\Local\\Programs\\Julia\\Julia-1.4.0\\share\\julia\\stdlib\\v1.4\\LinearAlgebra\\src\\adjtrans.jl:256</a></li> <li> *(u::<b>LinearAlgebra.Adjoint{T,#s662} where #s662<:(AbstractArray{T,1} where T) where T</b>, v::<b>LinearAlgebra.Transpose{#s662,#s661} where #s661<:(LinearAlgebra.Adjoint{T,#s662} where #s662<:(AbstractArray{T,1} where T) where T) where #s662</b>) in LinearAlgebra at <a href=\"file://D:/buildbot/worker/package_win64/build/usr/share/julia/stdlib/v1.4/LinearAlgebra/src/adjtrans.jl\" target=\"_blank\">C:\\Users\\chuan\\AppData\\Local\\Programs\\Julia\\Julia-1.4.0\\share\\julia\\stdlib\\v1.4\\LinearAlgebra\\src\\adjtrans.jl:267</a></li> <li> *(adjA::<b>LinearAlgebra.Adjoint{#s662,#s661} where #s661<:Union{DenseArray{T,2}, Base.ReinterpretArray{T,2,S,A} where S where A<:Union{SubArray{T,N,A,I,true} where I<:Union{Tuple{Vararg{Real,N} where N}, Tuple{AbstractUnitRange,Vararg{Any,N} where N}} where A<:DenseArray where N where T, DenseArray}, Base.ReshapedArray{T,2,A,MI} where MI<:Tuple{Vararg{Base.MultiplicativeInverses.SignedMultiplicativeInverse{Int64},N} where N} where A<:Union{Base.ReinterpretArray{T,N,S,A} where S where A<:Union{SubArray{T,N,A,I,true} where I<:Union{Tuple{Vararg{Real,N} where N}, Tuple{AbstractUnitRange,Vararg{Any,N} where N}} where A<:DenseArray where N where T, DenseArray} where N where T, SubArray{T,N,A,I,true} where I<:Union{Tuple{Vararg{Real,N} where N}, Tuple{AbstractUnitRange,Vararg{Any,N} where N}} where A<:DenseArray where N where T, DenseArray}, SubArray{T,2,A,I,L} where L where I<:Tuple{Vararg{Union{Int64, AbstractRange{Int64}, Base.AbstractCartesianIndex},N} where N} where A<:Union{Base.ReinterpretArray{T,N,S,A} where S where A<:Union{SubArray{T,N,A,I,true} where I<:Union{Tuple{Vararg{Real,N} where N}, Tuple{AbstractUnitRange,Vararg{Any,N} where N}} where A<:DenseArray where N where T, DenseArray} where N where T, Base.ReshapedArray{T,N,A,MI} where MI<:Tuple{Vararg{Base.MultiplicativeInverses.SignedMultiplicativeInverse{Int64},N} where N} where A<:Union{Base.ReinterpretArray{T,N,S,A} where S where A<:Union{SubArray{T,N,A,I,true} where I<:Union{Tuple{Vararg{Real,N} where N}, Tuple{AbstractUnitRange,Vararg{Any,N} where N}} where A<:DenseArray where N where T, DenseArray} where N where T, SubArray{T,N,A,I,true} where I<:Union{Tuple{Vararg{Real,N} where N}, Tuple{AbstractUnitRange,Vararg{Any,N} where N}} where A<:DenseArray where N where T, DenseArray} where N where T, DenseArray}} where #s662</b>, x::<b>Union{DenseArray{S,1}, Base.ReinterpretArray{S,1,S1,A} where S1 where A<:Union{SubArray{T,N,A,I,true} where I<:Union{Tuple{Vararg{Real,N} where N}, Tuple{AbstractUnitRange,Vararg{Any,N} where N}} where A<:DenseArray where N where T, DenseArray}, Base.ReshapedArray{S,1,A,MI} where MI<:Tuple{Vararg{Base.MultiplicativeInverses.SignedMultiplicativeInverse{Int64},N} where N} where A<:Union{Base.ReinterpretArray{T,N,S,A} where S where A<:Union{SubArray{T,N,A,I,true} where I<:Union{Tuple{Vararg{Real,N} where N}, Tuple{AbstractUnitRange,Vararg{Any,N} where N}} where A<:DenseArray where N where T, DenseArray} where N where T, SubArray{T,N,A,I,true} where I<:Union{Tuple{Vararg{Real,N} where N}, Tuple{AbstractUnitRange,Vararg{Any,N} where N}} where A<:DenseArray where N where T, DenseArray}, SubArray{S,1,A,I,L} where L where I<:Tuple{Vararg{Union{Int64, AbstractRange{Int64}, Base.AbstractCartesianIndex},N} where N} where A<:Union{Base.ReinterpretArray{T,N,S,A} where S where A<:Union{SubArray{T,N,A,I,true} where I<:Union{Tuple{Vararg{Real,N} where N}, Tuple{AbstractUnitRange,Vararg{Any,N} where N}} where A<:DenseArray where N where T, DenseArray} where N where T, Base.ReshapedArray{T,N,A,MI} where MI<:Tuple{Vararg{Base.MultiplicativeInverses.SignedMultiplicativeInverse{Int64},N} where N} where A<:Union{Base.ReinterpretArray{T,N,S,A} where S where A<:Union{SubArray{T,N,A,I,true} where I<:Union{Tuple{Vararg{Real,N} where N}, Tuple{AbstractUnitRange,Vararg{Any,N} where N}} where A<:DenseArray where N where T, DenseArray} where N where T, SubArray{T,N,A,I,true} where I<:Union{Tuple{Vararg{Real,N} where N}, Tuple{AbstractUnitRange,Vararg{Any,N} where N}} where A<:DenseArray where N where T, DenseArray} where N where T, DenseArray}}</b>)<i> where {T<:Union{Complex{Float32}, Complex{Float64}, Float32, Float64}, S}</i> in LinearAlgebra at <a href=\"file://D:/buildbot/worker/package_win64/build/usr/share/julia/stdlib/v1.4/LinearAlgebra/src/matmul.jl\" target=\"_blank\">C:\\Users\\chuan\\AppData\\Local\\Programs\\Julia\\Julia-1.4.0\\share\\julia\\stdlib\\v1.4\\LinearAlgebra\\src\\matmul.jl:106</a></li> <li> *(xformA::<b>LinearAlgebra.Adjoint{#s662,#s661} where #s661<:LinearAlgebra.UpperTriangular where #s662</b>, B::<b>LinearAlgebra.LowerTriangular</b>) in LinearAlgebra at <a href=\"file://D:/buildbot/worker/package_win64/build/usr/share/julia/stdlib/v1.4/LinearAlgebra/src/triangular.jl\" target=\"_blank\">C:\\Users\\chuan\\AppData\\Local\\Programs\\Julia\\Julia-1.4.0\\share\\julia\\stdlib\\v1.4\\LinearAlgebra\\src\\triangular.jl:1813</a></li> <li> *(xformA::<b>LinearAlgebra.Adjoint{#s660,#s659} where #s659<:LinearAlgebra.UnitUpperTriangular where #s660</b>, B::<b>LinearAlgebra.LowerTriangular</b>) in LinearAlgebra at <a href=\"file://D:/buildbot/worker/package_win64/build/usr/share/julia/stdlib/v1.4/LinearAlgebra/src/triangular.jl\" target=\"_blank\">C:\\Users\\chuan\\AppData\\Local\\Programs\\Julia\\Julia-1.4.0\\share\\julia\\stdlib\\v1.4\\LinearAlgebra\\src\\triangular.jl:1822</a></li> <li> *(xformA::<b>LinearAlgebra.Adjoint{#s658,#s657} where #s657<:LinearAlgebra.LowerTriangular where #s658</b>, B::<b>LinearAlgebra.UpperTriangular</b>) in LinearAlgebra at <a href=\"file://D:/buildbot/worker/package_win64/build/usr/share/julia/stdlib/v1.4/LinearAlgebra/src/triangular.jl\" target=\"_blank\">C:\\Users\\chuan\\AppData\\Local\\Programs\\Julia\\Julia-1.4.0\\share\\julia\\stdlib\\v1.4\\LinearAlgebra\\src\\triangular.jl:1831</a></li> <li> *(xformA::<b>LinearAlgebra.Adjoint{#s656,#s655} where #s655<:LinearAlgebra.UnitLowerTriangular where #s656</b>, B::<b>LinearAlgebra.UpperTriangular</b>) in LinearAlgebra at <a href=\"file://D:/buildbot/worker/package_win64/build/usr/share/julia/stdlib/v1.4/LinearAlgebra/src/triangular.jl\" target=\"_blank\">C:\\Users\\chuan\\AppData\\Local\\Programs\\Julia\\Julia-1.4.0\\share\\julia\\stdlib\\v1.4\\LinearAlgebra\\src\\triangular.jl:1840</a></li> <li> *(adjA::<b>LinearAlgebra.Adjoint{#s662,#s661} where #s661<:LinearAlgebra.AbstractTriangular where #s662</b>, B::<b>LinearAlgebra.AbstractTriangular</b>) in LinearAlgebra at <a href=\"file://D:/buildbot/worker/package_win64/build/usr/share/julia/stdlib/v1.4/LinearAlgebra/src/triangular.jl\" target=\"_blank\">C:\\Users\\chuan\\AppData\\Local\\Programs\\Julia\\Julia-1.4.0\\share\\julia\\stdlib\\v1.4\\LinearAlgebra\\src\\triangular.jl:1931</a></li> <li> *(A::<b>LinearAlgebra.Adjoint{#s662,#s661} where #s661<:LinearAlgebra.AbstractTriangular where #s662</b>, B::<b>LinearAlgebra.Adjoint{#s660,#s659} where #s659<:(AbstractArray{T,2} where T) where #s660</b>) in LinearAlgebra at <a href=\"file://D:/buildbot/worker/package_win64/build/usr/share/julia/stdlib/v1.4/LinearAlgebra/src/triangular.jl\" target=\"_blank\">C:\\Users\\chuan\\AppData\\Local\\Programs\\Julia\\Julia-1.4.0\\share\\julia\\stdlib\\v1.4\\LinearAlgebra\\src\\triangular.jl:2134</a></li> <li> *(A::<b>LinearAlgebra.Adjoint{#s662,#s661} where #s661<:LinearAlgebra.AbstractTriangular where #s662</b>, B::<b>LinearAlgebra.Transpose{#s660,#s659} where #s659<:LinearAlgebra.AbstractTriangular where #s660</b>) in LinearAlgebra at <a href=\"file://D:/buildbot/worker/package_win64/build/usr/share/julia/stdlib/v1.4/LinearAlgebra/src/triangular.jl\" target=\"_blank\">C:\\Users\\chuan\\AppData\\Local\\Programs\\Julia\\Julia-1.4.0\\share\\julia\\stdlib\\v1.4\\LinearAlgebra\\src\\triangular.jl:2639</a></li> <li> *(A::<b>LinearAlgebra.Adjoint{#s662,#s661} where #s661<:LinearAlgebra.AbstractTriangular where #s662</b>, B::<b>LinearAlgebra.Transpose{#s660,#s659} where #s659<:(Union{LinearAlgebra.Hermitian{T,S}, LinearAlgebra.Symmetric{Complex{T},S}, LinearAlgebra.Symmetric{T,S}} where S where T<:Real) where #s660</b>) in LinearAlgebra at <a href=\"file://D:/buildbot/worker/package_win64/build/usr/share/julia/stdlib/v1.4/LinearAlgebra/src/symmetric.jl\" target=\"_blank\">C:\\Users\\chuan\\AppData\\Local\\Programs\\Julia\\Julia-1.4.0\\share\\julia\\stdlib\\v1.4\\LinearAlgebra\\src\\symmetric.jl:1046</a></li> <li> *(X::<b>Union{DenseArray{T,2}, Base.ReinterpretArray{T,2,S,A} where S where A<:Union{SubArray{T,N,A,I,true} where I<:Union{Tuple{Vararg{Real,N} where N}, Tuple{AbstractUnitRange,Vararg{Any,N} where N}} where A<:DenseArray where N where T, DenseArray}, Base.ReshapedArray{T,2,A,MI} where MI<:Tuple{Vararg{Base.MultiplicativeInverses.SignedMultiplicativeInverse{Int64},N} where N} where A<:Union{Base.ReinterpretArray{T,N,S,A} where S where A<:Union{SubArray{T,N,A,I,true} where I<:Union{Tuple{Vararg{Real,N} where N}, Tuple{AbstractUnitRange,Vararg{Any,N} where N}} where A<:DenseArray where N where T, DenseArray} where N where T, SubArray{T,N,A,I,true} where I<:Union{Tuple{Vararg{Real,N} where N}, Tuple{AbstractUnitRange,Vararg{Any,N} where N}} where A<:DenseArray where N where T, DenseArray}, SubArray{T,2,A,I,L} where L where I<:Tuple{Vararg{Union{Int64, AbstractRange{Int64}, Base.AbstractCartesianIndex},N} where N} where A<:Union{Base.ReinterpretArray{T,N,S,A} where S where A<:Union{SubArray{T,N,A,I,true} where I<:Union{Tuple{Vararg{Real,N} where N}, Tuple{AbstractUnitRange,Vararg{Any,N} where N}} where A<:DenseArray where N where T, DenseArray} where N where T, Base.ReshapedArray{T,N,A,MI} where MI<:Tuple{Vararg{Base.MultiplicativeInverses.SignedMultiplicativeInverse{Int64},N} where N} where A<:Union{Base.ReinterpretArray{T,N,S,A} where S where A<:Union{SubArray{T,N,A,I,true} where I<:Union{Tuple{Vararg{Real,N} where N}, Tuple{AbstractUnitRange,Vararg{Any,N} where N}} where A<:DenseArray where N where T, DenseArray} where N where T, SubArray{T,N,A,I,true} where I<:Union{Tuple{Vararg{Real,N} where N}, Tuple{AbstractUnitRange,Vararg{Any,N} where N}} where A<:DenseArray where N where T, DenseArray} where N where T, DenseArray}, LinearAlgebra.Adjoint{#s662,#s661} where #s661<:Union{DenseArray{T,2}, Base.ReinterpretArray{T,2,S,A} where S where A<:Union{SubArray{T,N,A,I,true} where I<:Union{Tuple{Vararg{Real,N} where N}, Tuple{AbstractUnitRange,Vararg{Any,N} where N}} where A<:DenseArray where N where T, DenseArray}, Base.ReshapedArray{T,2,A,MI} where MI<:Tuple{Vararg{Base.MultiplicativeInverses.SignedMultiplicativeInverse{Int64},N} where N} where A<:Union{Base.ReinterpretArray{T,N,S,A} where S where A<:Union{SubArray{T,N,A,I,true} where I<:Union{Tuple{Vararg{Real,N} where N}, Tuple{AbstractUnitRange,Vararg{Any,N} where N}} where A<:DenseArray where N where T, DenseArray} where N where T, SubArray{T,N,A,I,true} where I<:Union{Tuple{Vararg{Real,N} where N}, Tuple{AbstractUnitRange,Vararg{Any,N} where N}} where A<:DenseArray where N where T, DenseArray}, SubArray{T,2,A,I,L} where L where I<:Tuple{Vararg{Union{Int64, AbstractRange{Int64}, Base.AbstractCartesianIndex},N} where N} where A<:Union{Base.ReinterpretArray{T,N,S,A} where S where A<:Union{SubArray{T,N,A,I,true} where I<:Union{Tuple{Vararg{Real,N} where N}, Tuple{AbstractUnitRange,Vararg{Any,N} where N}} where A<:DenseArray where N where T, DenseArray} where N where T, Base.ReshapedArray{T,N,A,MI} where MI<:Tuple{Vararg{Base.MultiplicativeInverses.SignedMultiplicativeInverse{Int64},N} where N} where A<:Union{Base.ReinterpretArray{T,N,S,A} where S where A<:Union{SubArray{T,N,A,I,true} where I<:Union{Tuple{Vararg{Real,N} where N}, Tuple{AbstractUnitRange,Vararg{Any,N} where N}} where A<:DenseArray where N where T, DenseArray} where N where T, SubArray{T,N,A,I,true} where I<:Union{Tuple{Vararg{Real,N} where N}, Tuple{AbstractUnitRange,Vararg{Any,N} where N}} where A<:DenseArray where N where T, DenseArray} where N where T, DenseArray}, LinearAlgebra.LowerTriangular{T,S} where S<:AbstractArray{T,2}, LinearAlgebra.UnitLowerTriangular{T,S} where S<:AbstractArray{T,2}, LinearAlgebra.UnitUpperTriangular{T,S} where S<:AbstractArray{T,2}, LinearAlgebra.UpperTriangular{T,S} where S<:AbstractArray{T,2}} where #s662, LinearAlgebra.LowerTriangular{T,S} where S<:AbstractArray{T,2}, LinearAlgebra.Transpose{#s660,#s659} where #s659<:Union{DenseArray{T,2}, Base.ReinterpretArray{T,2,S,A} where S where A<:Union{SubArray{T,N,A,I,true} where I<:Union{Tuple{Vararg{Real,N} where N}, Tuple{AbstractUnitRange,Vararg{Any,N} where N}} where A<:DenseArray where N where T, DenseArray}, Base.ReshapedArray{T,2,A,MI} where MI<:Tuple{Vararg{Base.MultiplicativeInverses.SignedMultiplicativeInverse{Int64},N} where N} where A<:Union{Base.ReinterpretArray{T,N,S,A} where S where A<:Union{SubArray{T,N,A,I,true} where I<:Union{Tuple{Vararg{Real,N} where N}, Tuple{AbstractUnitRange,Vararg{Any,N} where N}} where A<:DenseArray where N where T, DenseArray} where N where T, SubArray{T,N,A,I,true} where I<:Union{Tuple{Vararg{Real,N} where N}, Tuple{AbstractUnitRange,Vararg{Any,N} where N}} where A<:DenseArray where N where T, DenseArray}, SubArray{T,2,A,I,L} where L where I<:Tuple{Vararg{Union{Int64, AbstractRange{Int64}, Base.AbstractCartesianIndex},N} where N} where A<:Union{Base.ReinterpretArray{T,N,S,A} where S where A<:Union{SubArray{T,N,A,I,true} where I<:Union{Tuple{Vararg{Real,N} where N}, Tuple{AbstractUnitRange,Vararg{Any,N} where N}} where A<:DenseArray where N where T, DenseArray} where N where T, Base.ReshapedArray{T,N,A,MI} where MI<:Tuple{Vararg{Base.MultiplicativeInverses.SignedMultiplicativeInverse{Int64},N} where N} where A<:Union{Base.ReinterpretArray{T,N,S,A} where S where A<:Union{SubArray{T,N,A,I,true} where I<:Union{Tuple{Vararg{Real,N} where N}, Tuple{AbstractUnitRange,Vararg{Any,N} where N}} where A<:DenseArray where N where T, DenseArray} where N where T, SubArray{T,N,A,I,true} where I<:Union{Tuple{Vararg{Real,N} where N}, Tuple{AbstractUnitRange,Vararg{Any,N} where N}} where A<:DenseArray where N where T, DenseArray} where N where T, DenseArray}, LinearAlgebra.LowerTriangular{T,S} where S<:AbstractArray{T,2}, LinearAlgebra.UnitLowerTriangular{T,S} where S<:AbstractArray{T,2}, LinearAlgebra.UnitUpperTriangular{T,S} where S<:AbstractArray{T,2}, LinearAlgebra.UpperTriangular{T,S} where S<:AbstractArray{T,2}} where #s660, LinearAlgebra.UnitLowerTriangular{T,S} where S<:AbstractArray{T,2}, LinearAlgebra.UnitUpperTriangular{T,S} where S<:AbstractArray{T,2}, LinearAlgebra.UpperTriangular{T,S} where S<:AbstractArray{T,2}} where T</b>, transA::<b>LinearAlgebra.Transpose{#s662,#s661} where #s661<:SparseArrays.AbstractSparseMatrixCSC where #s662</b>) in SparseArrays at <a href=\"file://D:/buildbot/worker/package_win64/build/usr/share/julia/stdlib/v1.4/SparseArrays/src/linalg.jl\" target=\"_blank\">C:\\Users\\chuan\\AppData\\Local\\Programs\\Julia\\Julia-1.4.0\\share\\julia\\stdlib\\v1.4\\SparseArrays\\src\\linalg.jl:148</a></li> <li> *(A::<b>LinearAlgebra.Adjoint{#s662,#s661} where #s661<:LinearAlgebra.AbstractTriangular where #s662</b>, B::<b>LinearAlgebra.Transpose{#s660,#s659} where #s659<:(AbstractArray{T,2} where T) where #s660</b>) in LinearAlgebra at <a href=\"file://D:/buildbot/worker/package_win64/build/usr/share/julia/stdlib/v1.4/LinearAlgebra/src/triangular.jl\" target=\"_blank\">C:\\Users\\chuan\\AppData\\Local\\Programs\\Julia\\Julia-1.4.0\\share\\julia\\stdlib\\v1.4\\LinearAlgebra\\src\\triangular.jl:2643</a></li> <li> *(A::<b>LinearAlgebra.Adjoint{#s662,#s661} where #s661<:LinearAlgebra.AbstractTriangular where #s662</b>, B::<b>LinearAlgebra.Transpose{#s660,#s659} where #s659<:(AbstractArray{T,1} where T) where #s660</b>) in LinearAlgebra at <a href=\"file://D:/buildbot/worker/package_win64/build/usr/share/julia/stdlib/v1.4/LinearAlgebra/src/triangular.jl\" target=\"_blank\">C:\\Users\\chuan\\AppData\\Local\\Programs\\Julia\\Julia-1.4.0\\share\\julia\\stdlib\\v1.4\\LinearAlgebra\\src\\triangular.jl:2644</a></li> <li> *(A::<b>LinearAlgebra.Adjoint{#s662,#s661} where #s661<:LinearAlgebra.AbstractTriangular where #s662</b>, D::<b>LinearAlgebra.Diagonal</b>) in LinearAlgebra at <a href=\"file://D:/buildbot/worker/package_win64/build/usr/share/julia/stdlib/v1.4/LinearAlgebra/src/diagonal.jl\" target=\"_blank\">C:\\Users\\chuan\\AppData\\Local\\Programs\\Julia\\Julia-1.4.0\\share\\julia\\stdlib\\v1.4\\LinearAlgebra\\src\\diagonal.jl:219</a></li> <li> *(A::<b>Union{LinearAlgebra.Adjoint{#s662,#s661} where #s661<:Union{LinearAlgebra.UnitUpperTriangular, LinearAlgebra.UpperTriangular} where #s662, LinearAlgebra.Transpose{#s660,#s659} where #s659<:Union{LinearAlgebra.UnitUpperTriangular, LinearAlgebra.UpperTriangular} where #s660}</b>, B::<b>LinearAlgebra.Bidiagonal</b>) in LinearAlgebra at <a href=\"file://D:/buildbot/worker/package_win64/build/usr/share/julia/stdlib/v1.4/LinearAlgebra/src/bidiag.jl\" target=\"_blank\">C:\\Users\\chuan\\AppData\\Local\\Programs\\Julia\\Julia-1.4.0\\share\\julia\\stdlib\\v1.4\\LinearAlgebra\\src\\bidiag.jl:604</a></li> <li> *(A::<b>Union{LinearAlgebra.Adjoint{#s662,#s661} where #s661<:Union{LinearAlgebra.LowerTriangular, LinearAlgebra.UnitLowerTriangular} where #s662, LinearAlgebra.Transpose{#s660,#s659} where #s659<:Union{LinearAlgebra.LowerTriangular, LinearAlgebra.UnitLowerTriangular} where #s660}</b>, B::<b>LinearAlgebra.Bidiagonal</b>) in LinearAlgebra at <a href=\"file://D:/buildbot/worker/package_win64/build/usr/share/julia/stdlib/v1.4/LinearAlgebra/src/bidiag.jl\" target=\"_blank\">C:\\Users\\chuan\\AppData\\Local\\Programs\\Julia\\Julia-1.4.0\\share\\julia\\stdlib\\v1.4\\LinearAlgebra\\src\\bidiag.jl:622</a></li> <li> *(A::<b>LinearAlgebra.Adjoint{#s662,#s661} where #s661<:LinearAlgebra.AbstractTriangular where #s662</b>, B::<b>LinearAlgebra.Adjoint{#s660,#s659} where #s659<:LinearAlgebra.AbstractRotation where #s660</b>) in LinearAlgebra at <a href=\"file://D:/buildbot/worker/package_win64/build/usr/share/julia/stdlib/v1.4/LinearAlgebra/src/givens.jl\" target=\"_blank\">C:\\Users\\chuan\\AppData\\Local\\Programs\\Julia\\Julia-1.4.0\\share\\julia\\stdlib\\v1.4\\LinearAlgebra\\src\\givens.jl:394</a></li> <li> *(L::<b>Union{LinearAlgebra.Adjoint{T,#s662} where #s662<:(LinearAlgebra.UpperTriangular{T,#s661} where #s661<:(Union{SparseArrays.AbstractSparseMatrixCSC{T,Ti}, SubArray{T,2,#s662,Tuple{Base.Slice{Base.OneTo{Int64}},I},L} where L where #s662<:SparseArrays.AbstractSparseMatrixCSC{T,Ti} where I<:AbstractUnitRange} where Ti)), LinearAlgebra.Adjoint{T,#s660} where #s660<:(LinearAlgebra.UnitUpperTriangular{T,#s659} where #s659<:(Union{SparseArrays.AbstractSparseMatrixCSC{T,Ti}, SubArray{T,2,#s662,Tuple{Base.Slice{Base.OneTo{Int64}},I},L} where L where #s662<:SparseArrays.AbstractSparseMatrixCSC{T,Ti} where I<:AbstractUnitRange} where Ti)), LinearAlgebra.Adjoint{T,#s660} where #s660<:(LinearAlgebra.UnitLowerTriangular{T,#s659} where #s659<:(Union{SparseArrays.AbstractSparseMatrixCSC{T,Ti}, SubArray{T,2,#s662,Tuple{Base.Slice{Base.OneTo{Int64}},I},L} where L where #s662<:SparseArrays.AbstractSparseMatrixCSC{T,Ti} where I<:AbstractUnitRange} where Ti)), LinearAlgebra.Adjoint{T,#s662} where #s662<:(LinearAlgebra.LowerTriangular{T,#s661} where #s661<:(Union{SparseArrays.AbstractSparseMatrixCSC{T,Ti}, SubArray{T,2,#s662,Tuple{Base.Slice{Base.OneTo{Int64}},I},L} where L where #s662<:SparseArrays.AbstractSparseMatrixCSC{T,Ti} where I<:AbstractUnitRange} where Ti)), LinearAlgebra.LowerTriangular{T,#s662} where #s662<:(Union{SparseArrays.AbstractSparseMatrixCSC{T,Ti}, SubArray{T,2,#s662,Tuple{Base.Slice{Base.OneTo{Int64}},I},L} where L where #s662<:SparseArrays.AbstractSparseMatrixCSC{T,Ti} where I<:AbstractUnitRange} where Ti), LinearAlgebra.Transpose{T,#s656} where #s656<:(LinearAlgebra.UnitUpperTriangular{T,#s655} where #s655<:(Union{SparseArrays.AbstractSparseMatrixCSC{T,Ti}, SubArray{T,2,#s662,Tuple{Base.Slice{Base.OneTo{Int64}},I},L} where L where #s662<:SparseArrays.AbstractSparseMatrixCSC{T,Ti} where I<:AbstractUnitRange} where Ti)), LinearAlgebra.Transpose{T,#s656} where #s656<:(LinearAlgebra.UnitLowerTriangular{T,#s655} where #s655<:(Union{SparseArrays.AbstractSparseMatrixCSC{T,Ti}, SubArray{T,2,#s662,Tuple{Base.Slice{Base.OneTo{Int64}},I},L} where L where #s662<:SparseArrays.AbstractSparseMatrixCSC{T,Ti} where I<:AbstractUnitRange} where Ti)), LinearAlgebra.Transpose{T,#s658} where #s658<:(LinearAlgebra.LowerTriangular{T,#s657} where #s657<:(Union{SparseArrays.AbstractSparseMatrixCSC{T,Ti}, SubArray{T,2,#s662,Tuple{Base.Slice{Base.OneTo{Int64}},I},L} where L where #s662<:SparseArrays.AbstractSparseMatrixCSC{T,Ti} where I<:AbstractUnitRange} where Ti)), LinearAlgebra.Transpose{T,#s658} where #s658<:(LinearAlgebra.UpperTriangular{T,#s657} where #s657<:(Union{SparseArrays.AbstractSparseMatrixCSC{T,Ti}, SubArray{T,2,#s662,Tuple{Base.Slice{Base.OneTo{Int64}},I},L} where L where #s662<:SparseArrays.AbstractSparseMatrixCSC{T,Ti} where I<:AbstractUnitRange} where Ti)), LinearAlgebra.UnitLowerTriangular{T,#s661} where #s661<:(Union{SparseArrays.AbstractSparseMatrixCSC{T,Ti}, SubArray{T,2,#s662,Tuple{Base.Slice{Base.OneTo{Int64}},I},L} where L where #s662<:SparseArrays.AbstractSparseMatrixCSC{T,Ti} where I<:AbstractUnitRange} where Ti), LinearAlgebra.UnitUpperTriangular{T,#s661} where #s661<:(Union{SparseArrays.AbstractSparseMatrixCSC{T,Ti}, SubArray{T,2,#s662,Tuple{Base.Slice{Base.OneTo{Int64}},I},L} where L where #s662<:SparseArrays.AbstractSparseMatrixCSC{T,Ti} where I<:AbstractUnitRange} where Ti), LinearAlgebra.UpperTriangular{T,#s662} where #s662<:(Union{SparseArrays.AbstractSparseMatrixCSC{T,Ti}, SubArray{T,2,#s662,Tuple{Base.Slice{Base.OneTo{Int64}},I},L} where L where #s662<:SparseArrays.AbstractSparseMatrixCSC{T,Ti} where I<:AbstractUnitRange} where Ti)} where T</b>, B::<b>SparseArrays.AbstractSparseMatrixCSC</b>) in SparseArrays at <a href=\"file://D:/buildbot/worker/package_win64/build/usr/share/julia/stdlib/v1.4/SparseArrays/src/linalg.jl\" target=\"_blank\">C:\\Users\\chuan\\AppData\\Local\\Programs\\Julia\\Julia-1.4.0\\share\\julia\\stdlib\\v1.4\\SparseArrays\\src\\linalg.jl:747</a></li> <li> *(adjA::<b>LinearAlgebra.Adjoint{#s662,#s661} where #s661<:Union{DenseArray{Ta,2}, Base.ReinterpretArray{Ta,2,S,A} where S where A<:Union{SubArray{T,N,A,I,true} where I<:Union{Tuple{Vararg{Real,N} where N}, Tuple{AbstractUnitRange,Vararg{Any,N} where N}} where A<:DenseArray where N where T, DenseArray}, Base.ReshapedArray{Ta,2,A,MI} where MI<:Tuple{Vararg{Base.MultiplicativeInverses.SignedMultiplicativeInverse{Int64},N} where N} where A<:Union{Base.ReinterpretArray{T,N,S,A} where S where A<:Union{SubArray{T,N,A,I,true} where I<:Union{Tuple{Vararg{Real,N} where N}, Tuple{AbstractUnitRange,Vararg{Any,N} where N}} where A<:DenseArray where N where T, DenseArray} where N where T, SubArray{T,N,A,I,true} where I<:Union{Tuple{Vararg{Real,N} where N}, Tuple{AbstractUnitRange,Vararg{Any,N} where N}} where A<:DenseArray where N where T, DenseArray}, SubArray{Ta,2,A,I,L} where L where I<:Tuple{Vararg{Union{Int64, AbstractRange{Int64}, Base.AbstractCartesianIndex},N} where N} where A<:Union{Base.ReinterpretArray{T,N,S,A} where S where A<:Union{SubArray{T,N,A,I,true} where I<:Union{Tuple{Vararg{Real,N} where N}, Tuple{AbstractUnitRange,Vararg{Any,N} where N}} where A<:DenseArray where N where T, DenseArray} where N where T, Base.ReshapedArray{T,N,A,MI} where MI<:Tuple{Vararg{Base.MultiplicativeInverses.SignedMultiplicativeInverse{Int64},N} where N} where A<:Union{Base.ReinterpretArray{T,N,S,A} where S where A<:Union{SubArray{T,N,A,I,true} where I<:Union{Tuple{Vararg{Real,N} where N}, Tuple{AbstractUnitRange,Vararg{Any,N} where N}} where A<:DenseArray where N where T, DenseArray} where N where T, SubArray{T,N,A,I,true} where I<:Union{Tuple{Vararg{Real,N} where N}, Tuple{AbstractUnitRange,Vararg{Any,N} where N}} where A<:DenseArray where N where T, DenseArray} where N where T, DenseArray}, LinearAlgebra.LowerTriangular{Ta,S} where S<:AbstractArray{Ta,2}, LinearAlgebra.UnitLowerTriangular{Ta,S} where S<:AbstractArray{Ta,2}, LinearAlgebra.UnitUpperTriangular{Ta,S} where S<:AbstractArray{Ta,2}, LinearAlgebra.UpperTriangular{Ta,S} where S<:AbstractArray{Ta,2}} where #s662</b>, x::<b>SparseArrays.AbstractSparseArray{Tx,Ti,1} where Ti</b>)<i> where {Ta, Tx}</i> in SparseArrays at <a href=\"file://D:/buildbot/worker/package_win64/build/usr/share/julia/stdlib/v1.4/SparseArrays/src/sparsevector.jl\" target=\"_blank\">C:\\Users\\chuan\\AppData\\Local\\Programs\\Julia\\Julia-1.4.0\\share\\julia\\stdlib\\v1.4\\SparseArrays\\src\\sparsevector.jl:1575</a></li> <li> *(X::<b>Union{DenseArray{T,2}, Base.ReinterpretArray{T,2,S,A} where S where A<:Union{SubArray{T,N,A,I,true} where I<:Union{Tuple{Vararg{Real,N} where N}, Tuple{AbstractUnitRange,Vararg{Any,N} where N}} where A<:DenseArray where N where T, DenseArray}, Base.ReshapedArray{T,2,A,MI} where MI<:Tuple{Vararg{Base.MultiplicativeInverses.SignedMultiplicativeInverse{Int64},N} where N} where A<:Union{Base.ReinterpretArray{T,N,S,A} where S where A<:Union{SubArray{T,N,A,I,true} where I<:Union{Tuple{Vararg{Real,N} where N}, Tuple{AbstractUnitRange,Vararg{Any,N} where N}} where A<:DenseArray where N where T, DenseArray} where N where T, SubArray{T,N,A,I,true} where I<:Union{Tuple{Vararg{Real,N} where N}, Tuple{AbstractUnitRange,Vararg{Any,N} where N}} where A<:DenseArray where N where T, DenseArray}, SubArray{T,2,A,I,L} where L where I<:Tuple{Vararg{Union{Int64, AbstractRange{Int64}, Base.AbstractCartesianIndex},N} where N} where A<:Union{Base.ReinterpretArray{T,N,S,A} where S where A<:Union{SubArray{T,N,A,I,true} where I<:Union{Tuple{Vararg{Real,N} where N}, Tuple{AbstractUnitRange,Vararg{Any,N} where N}} where A<:DenseArray where N where T, DenseArray} where N where T, Base.ReshapedArray{T,N,A,MI} where MI<:Tuple{Vararg{Base.MultiplicativeInverses.SignedMultiplicativeInverse{Int64},N} where N} where A<:Union{Base.ReinterpretArray{T,N,S,A} where S where A<:Union{SubArray{T,N,A,I,true} where I<:Union{Tuple{Vararg{Real,N} where N}, Tuple{AbstractUnitRange,Vararg{Any,N} where N}} where A<:DenseArray where N where T, DenseArray} where N where T, SubArray{T,N,A,I,true} where I<:Union{Tuple{Vararg{Real,N} where N}, Tuple{AbstractUnitRange,Vararg{Any,N} where N}} where A<:DenseArray where N where T, DenseArray} where N where T, DenseArray}, LinearAlgebra.Adjoint{#s662,#s661} where #s661<:Union{DenseArray{T,2}, Base.ReinterpretArray{T,2,S,A} where S where A<:Union{SubArray{T,N,A,I,true} where I<:Union{Tuple{Vararg{Real,N} where N}, Tuple{AbstractUnitRange,Vararg{Any,N} where N}} where A<:DenseArray where N where T, DenseArray}, Base.ReshapedArray{T,2,A,MI} where MI<:Tuple{Vararg{Base.MultiplicativeInverses.SignedMultiplicativeInverse{Int64},N} where N} where A<:Union{Base.ReinterpretArray{T,N,S,A} where S where A<:Union{SubArray{T,N,A,I,true} where I<:Union{Tuple{Vararg{Real,N} where N}, Tuple{AbstractUnitRange,Vararg{Any,N} where N}} where A<:DenseArray where N where T, DenseArray} where N where T, SubArray{T,N,A,I,true} where I<:Union{Tuple{Vararg{Real,N} where N}, Tuple{AbstractUnitRange,Vararg{Any,N} where N}} where A<:DenseArray where N where T, DenseArray}, SubArray{T,2,A,I,L} where L where I<:Tuple{Vararg{Union{Int64, AbstractRange{Int64}, Base.AbstractCartesianIndex},N} where N} where A<:Union{Base.ReinterpretArray{T,N,S,A} where S where A<:Union{SubArray{T,N,A,I,true} where I<:Union{Tuple{Vararg{Real,N} where N}, Tuple{AbstractUnitRange,Vararg{Any,N} where N}} where A<:DenseArray where N where T, DenseArray} where N where T, Base.ReshapedArray{T,N,A,MI} where MI<:Tuple{Vararg{Base.MultiplicativeInverses.SignedMultiplicativeInverse{Int64},N} where N} where A<:Union{Base.ReinterpretArray{T,N,S,A} where S where A<:Union{SubArray{T,N,A,I,true} where I<:Union{Tuple{Vararg{Real,N} where N}, Tuple{AbstractUnitRange,Vararg{Any,N} where N}} where A<:DenseArray where N where T, DenseArray} where N where T, SubArray{T,N,A,I,true} where I<:Union{Tuple{Vararg{Real,N} where N}, Tuple{AbstractUnitRange,Vararg{Any,N} where N}} where A<:DenseArray where N where T, DenseArray} where N where T, DenseArray}, LinearAlgebra.LowerTriangular{T,S} where S<:AbstractArray{T,2}, LinearAlgebra.UnitLowerTriangular{T,S} where S<:AbstractArray{T,2}, LinearAlgebra.UnitUpperTriangular{T,S} where S<:AbstractArray{T,2}, LinearAlgebra.UpperTriangular{T,S} where S<:AbstractArray{T,2}} where #s662, LinearAlgebra.LowerTriangular{T,S} where S<:AbstractArray{T,2}, LinearAlgebra.Transpose{#s660,#s659} where #s659<:Union{DenseArray{T,2}, Base.ReinterpretArray{T,2,S,A} where S where A<:Union{SubArray{T,N,A,I,true} where I<:Union{Tuple{Vararg{Real,N} where N}, Tuple{AbstractUnitRange,Vararg{Any,N} where N}} where A<:DenseArray where N where T, DenseArray}, Base.ReshapedArray{T,2,A,MI} where MI<:Tuple{Vararg{Base.MultiplicativeInverses.SignedMultiplicativeInverse{Int64},N} where N} where A<:Union{Base.ReinterpretArray{T,N,S,A} where S where A<:Union{SubArray{T,N,A,I,true} where I<:Union{Tuple{Vararg{Real,N} where N}, Tuple{AbstractUnitRange,Vararg{Any,N} where N}} where A<:DenseArray where N where T, DenseArray} where N where T, SubArray{T,N,A,I,true} where I<:Union{Tuple{Vararg{Real,N} where N}, Tuple{AbstractUnitRange,Vararg{Any,N} where N}} where A<:DenseArray where N where T, DenseArray}, SubArray{T,2,A,I,L} where L where I<:Tuple{Vararg{Union{Int64, AbstractRange{Int64}, Base.AbstractCartesianIndex},N} where N} where A<:Union{Base.ReinterpretArray{T,N,S,A} where S where A<:Union{SubArray{T,N,A,I,true} where I<:Union{Tuple{Vararg{Real,N} where N}, Tuple{AbstractUnitRange,Vararg{Any,N} where N}} where A<:DenseArray where N where T, DenseArray} where N where T, Base.ReshapedArray{T,N,A,MI} where MI<:Tuple{Vararg{Base.MultiplicativeInverses.SignedMultiplicativeInverse{Int64},N} where N} where A<:Union{Base.ReinterpretArray{T,N,S,A} where S where A<:Union{SubArray{T,N,A,I,true} where I<:Union{Tuple{Vararg{Real,N} where N}, Tuple{AbstractUnitRange,Vararg{Any,N} where N}} where A<:DenseArray where N where T, DenseArray} where N where T, SubArray{T,N,A,I,true} where I<:Union{Tuple{Vararg{Real,N} where N}, Tuple{AbstractUnitRange,Vararg{Any,N} where N}} where A<:DenseArray where N where T, DenseArray} where N where T, DenseArray}, LinearAlgebra.LowerTriangular{T,S} where S<:AbstractArray{T,2}, LinearAlgebra.UnitLowerTriangular{T,S} where S<:AbstractArray{T,2}, LinearAlgebra.UnitUpperTriangular{T,S} where S<:AbstractArray{T,2}, LinearAlgebra.UpperTriangular{T,S} where S<:AbstractArray{T,2}} where #s660, LinearAlgebra.UnitLowerTriangular{T,S} where S<:AbstractArray{T,2}, LinearAlgebra.UnitUpperTriangular{T,S} where S<:AbstractArray{T,2}, LinearAlgebra.UpperTriangular{T,S} where S<:AbstractArray{T,2}} where T</b>, A::<b>SparseArrays.AbstractSparseMatrixCSC{TvA,Ti} where Ti<:Integer</b>)<i> where TvA</i> in SparseArrays at <a href=\"file://D:/buildbot/worker/package_win64/build/usr/share/julia/stdlib/v1.4/SparseArrays/src/linalg.jl\" target=\"_blank\">C:\\Users\\chuan\\AppData\\Local\\Programs\\Julia\\Julia-1.4.0\\share\\julia\\stdlib\\v1.4\\SparseArrays\\src\\linalg.jl:110</a></li> <li> *(adjA::<b>LinearAlgebra.Adjoint{#s662,#s661} where #s661<:LinearAlgebra.AbstractTriangular where #s662</b>, B::<b>AbstractArray{T,1} where T</b>) in LinearAlgebra at <a href=\"file://D:/buildbot/worker/package_win64/build/usr/share/julia/stdlib/v1.4/LinearAlgebra/src/triangular.jl\" target=\"_blank\">C:\\Users\\chuan\\AppData\\Local\\Programs\\Julia\\Julia-1.4.0\\share\\julia\\stdlib\\v1.4\\LinearAlgebra\\src\\triangular.jl:1971</a></li> <li> *(adjA::<b>LinearAlgebra.Adjoint{#s662,#s661} where #s661<:(Union{LinearAlgebra.Hermitian{Complex{T},S}, LinearAlgebra.Hermitian{T,S}, LinearAlgebra.Symmetric{T,S}} where S where T<:Real) where #s662</b>, B::<b>LinearAlgebra.AbstractTriangular</b>) in LinearAlgebra at <a href=\"file://D:/buildbot/worker/package_win64/build/usr/share/julia/stdlib/v1.4/LinearAlgebra/src/symmetric.jl\" target=\"_blank\">C:\\Users\\chuan\\AppData\\Local\\Programs\\Julia\\Julia-1.4.0\\share\\julia\\stdlib\\v1.4\\LinearAlgebra\\src\\symmetric.jl:609</a></li> <li> *(v::<b>LinearAlgebra.Adjoint{T,#s662} where #s662<:(AbstractArray{T,1} where T) where T</b>, A::<b>LinearAlgebra.AbstractTriangular</b>) in LinearAlgebra at <a href=\"file://D:/buildbot/worker/package_win64/build/usr/share/julia/stdlib/v1.4/LinearAlgebra/src/triangular.jl\" target=\"_blank\">C:\\Users\\chuan\\AppData\\Local\\Programs\\Julia\\Julia-1.4.0\\share\\julia\\stdlib\\v1.4\\LinearAlgebra\\src\\triangular.jl:2118</a></li> <li> *(A::<b>LinearAlgebra.Adjoint{#s662,#s661} where #s661<:(Union{LinearAlgebra.Hermitian{Complex{T},S}, LinearAlgebra.Hermitian{T,S}, LinearAlgebra.Symmetric{T,S}} where S where T<:Real) where #s662</b>, B::<b>LinearAlgebra.Transpose{#s660,#s659} where #s659<:LinearAlgebra.AbstractTriangular where #s660</b>) in LinearAlgebra at <a href=\"file://D:/buildbot/worker/package_win64/build/usr/share/julia/stdlib/v1.4/LinearAlgebra/src/symmetric.jl\" target=\"_blank\">C:\\Users\\chuan\\AppData\\Local\\Programs\\Julia\\Julia-1.4.0\\share\\julia\\stdlib\\v1.4\\LinearAlgebra\\src\\symmetric.jl:1050</a></li> <li> *(A::<b>LinearAlgebra.Adjoint{#s662,#s661} where #s661<:(AbstractArray{T,1} where T) where #s662</b>, B::<b>LinearAlgebra.Transpose{#s660,#s659} where #s659<:LinearAlgebra.AbstractTriangular where #s660</b>) in LinearAlgebra at <a href=\"file://D:/buildbot/worker/package_win64/build/usr/share/julia/stdlib/v1.4/LinearAlgebra/src/triangular.jl\" target=\"_blank\">C:\\Users\\chuan\\AppData\\Local\\Programs\\Julia\\Julia-1.4.0\\share\\julia\\stdlib\\v1.4\\LinearAlgebra\\src\\triangular.jl:2649</a></li> <li> *(adjQ::<b>LinearAlgebra.Adjoint{#s662,#s661} where #s661<:LinearAlgebra.AbstractQ where #s662</b>, B::<b>Union{DenseArray{T,2}, DenseArray{T,1}, Base.ReinterpretArray{T,2,S,A} where S where A<:Union{SubArray{T,N,A,I,true} where I<:Union{Tuple{Vararg{Real,N} where N}, Tuple{AbstractUnitRange,Vararg{Any,N} where N}} where A<:DenseArray where N where T, DenseArray}, Base.ReinterpretArray{T,1,S,A} where S where A<:Union{SubArray{T,N,A,I,true} where I<:Union{Tuple{Vararg{Real,N} where N}, Tuple{AbstractUnitRange,Vararg{Any,N} where N}} where A<:DenseArray where N where T, DenseArray}, Base.ReshapedArray{T,2,A,MI} where MI<:Tuple{Vararg{Base.MultiplicativeInverses.SignedMultiplicativeInverse{Int64},N} where N} where A<:Union{Base.ReinterpretArray{T,N,S,A} where S where A<:Union{SubArray{T,N,A,I,true} where I<:Union{Tuple{Vararg{Real,N} where N}, Tuple{AbstractUnitRange,Vararg{Any,N} where N}} where A<:DenseArray where N where T, DenseArray} where N where T, SubArray{T,N,A,I,true} where I<:Union{Tuple{Vararg{Real,N} where N}, Tuple{AbstractUnitRange,Vararg{Any,N} where N}} where A<:DenseArray where N where T, DenseArray}, Base.ReshapedArray{T,1,A,MI} where MI<:Tuple{Vararg{Base.MultiplicativeInverses.SignedMultiplicativeInverse{Int64},N} where N} where A<:Union{Base.ReinterpretArray{T,N,S,A} where S where A<:Union{SubArray{T,N,A,I,true} where I<:Union{Tuple{Vararg{Real,N} where N}, Tuple{AbstractUnitRange,Vararg{Any,N} where N}} where A<:DenseArray where N where T, DenseArray} where N where T, SubArray{T,N,A,I,true} where I<:Union{Tuple{Vararg{Real,N} where N}, Tuple{AbstractUnitRange,Vararg{Any,N} where N}} where A<:DenseArray where N where T, DenseArray}, SubArray{T,2,A,I,L} where L where I<:Tuple{Vararg{Union{Int64, AbstractRange{Int64}, Base.AbstractCartesianIndex},N} where N} where A<:Union{Base.ReinterpretArray{T,N,S,A} where S where A<:Union{SubArray{T,N,A,I,true} where I<:Union{Tuple{Vararg{Real,N} where N}, Tuple{AbstractUnitRange,Vararg{Any,N} where N}} where A<:DenseArray where N where T, DenseArray} where N where T, Base.ReshapedArray{T,N,A,MI} where MI<:Tuple{Vararg{Base.MultiplicativeInverses.SignedMultiplicativeInverse{Int64},N} where N} where A<:Union{Base.ReinterpretArray{T,N,S,A} where S where A<:Union{SubArray{T,N,A,I,true} where I<:Union{Tuple{Vararg{Real,N} where N}, Tuple{AbstractUnitRange,Vararg{Any,N} where N}} where A<:DenseArray where N where T, DenseArray} where N where T, SubArray{T,N,A,I,true} where I<:Union{Tuple{Vararg{Real,N} where N}, Tuple{AbstractUnitRange,Vararg{Any,N} where N}} where A<:DenseArray where N where T, DenseArray} where N where T, DenseArray}, SubArray{T,1,A,I,L} where L where I<:Tuple{Vararg{Union{Int64, AbstractRange{Int64}, Base.AbstractCartesianIndex},N} where N} where A<:Union{Base.ReinterpretArray{T,N,S,A} where S where A<:Union{SubArray{T,N,A,I,true} where I<:Union{Tuple{Vararg{Real,N} where N}, Tuple{AbstractUnitRange,Vararg{Any,N} where N}} where A<:DenseArray where N where T, DenseArray} where N where T, Base.ReshapedArray{T,N,A,MI} where MI<:Tuple{Vararg{Base.MultiplicativeInverses.SignedMultiplicativeInverse{Int64},N} where N} where A<:Union{Base.ReinterpretArray{T,N,S,A} where S where A<:Union{SubArray{T,N,A,I,true} where I<:Union{Tuple{Vararg{Real,N} where N}, Tuple{AbstractUnitRange,Vararg{Any,N} where N}} where A<:DenseArray where N where T, DenseArray} where N where T, SubArray{T,N,A,I,true} where I<:Union{Tuple{Vararg{Real,N} where N}, Tuple{AbstractUnitRange,Vararg{Any,N} where N}} where A<:DenseArray where N where T, DenseArray} where N where T, DenseArray}} where T</b>) in LinearAlgebra at <a href=\"file://D:/buildbot/worker/package_win64/build/usr/share/julia/stdlib/v1.4/LinearAlgebra/src/qr.jl\" target=\"_blank\">C:\\Users\\chuan\\AppData\\Local\\Programs\\Julia\\Julia-1.4.0\\share\\julia\\stdlib\\v1.4\\LinearAlgebra\\src\\qr.jl:627</a></li> <li> *(adjA::<b>LinearAlgebra.Adjoint{#s662,#s661} where #s661<:(Union{DenseArray{T,2}, DenseArray{T,1}, Base.ReinterpretArray{T,2,S,A} where S where A<:Union{SubArray{T,N,A,I,true} where I<:Union{Tuple{Vararg{Real,N} where N}, Tuple{AbstractUnitRange,Vararg{Any,N} where N}} where A<:DenseArray where N where T, DenseArray}, Base.ReinterpretArray{T,1,S,A} where S where A<:Union{SubArray{T,N,A,I,true} where I<:Union{Tuple{Vararg{Real,N} where N}, Tuple{AbstractUnitRange,Vararg{Any,N} where N}} where A<:DenseArray where N where T, DenseArray}, Base.ReshapedArray{T,2,A,MI} where MI<:Tuple{Vararg{Base.MultiplicativeInverses.SignedMultiplicativeInverse{Int64},N} where N} where A<:Union{Base.ReinterpretArray{T,N,S,A} where S where A<:Union{SubArray{T,N,A,I,true} where I<:Union{Tuple{Vararg{Real,N} where N}, Tuple{AbstractUnitRange,Vararg{Any,N} where N}} where A<:DenseArray where N where T, DenseArray} where N where T, SubArray{T,N,A,I,true} where I<:Union{Tuple{Vararg{Real,N} where N}, Tuple{AbstractUnitRange,Vararg{Any,N} where N}} where A<:DenseArray where N where T, DenseArray}, Base.ReshapedArray{T,1,A,MI} where MI<:Tuple{Vararg{Base.MultiplicativeInverses.SignedMultiplicativeInverse{Int64},N} where N} where A<:Union{Base.ReinterpretArray{T,N,S,A} where S where A<:Union{SubArray{T,N,A,I,true} where I<:Union{Tuple{Vararg{Real,N} where N}, Tuple{AbstractUnitRange,Vararg{Any,N} where N}} where A<:DenseArray where N where T, DenseArray} where N where T, SubArray{T,N,A,I,true} where I<:Union{Tuple{Vararg{Real,N} where N}, Tuple{AbstractUnitRange,Vararg{Any,N} where N}} where A<:DenseArray where N where T, DenseArray}, SubArray{T,2,A,I,L} where L where I<:Tuple{Vararg{Union{Int64, AbstractRange{Int64}, Base.AbstractCartesianIndex},N} where N} where A<:Union{Base.ReinterpretArray{T,N,S,A} where S where A<:Union{SubArray{T,N,A,I,true} where I<:Union{Tuple{Vararg{Real,N} where N}, Tuple{AbstractUnitRange,Vararg{Any,N} where N}} where A<:DenseArray where N where T, DenseArray} where N where T, Base.ReshapedArray{T,N,A,MI} where MI<:Tuple{Vararg{Base.MultiplicativeInverses.SignedMultiplicativeInverse{Int64},N} where N} where A<:Union{Base.ReinterpretArray{T,N,S,A} where S where A<:Union{SubArray{T,N,A,I,true} where I<:Union{Tuple{Vararg{Real,N} where N}, Tuple{AbstractUnitRange,Vararg{Any,N} where N}} where A<:DenseArray where N where T, DenseArray} where N where T, SubArray{T,N,A,I,true} where I<:Union{Tuple{Vararg{Real,N} where N}, Tuple{AbstractUnitRange,Vararg{Any,N} where N}} where A<:DenseArray where N where T, DenseArray} where N where T, DenseArray}, SubArray{T,1,A,I,L} where L where I<:Tuple{Vararg{Union{Int64, AbstractRange{Int64}, Base.AbstractCartesianIndex},N} where N} where A<:Union{Base.ReinterpretArray{T,N,S,A} where S where A<:Union{SubArray{T,N,A,I,true} where I<:Union{Tuple{Vararg{Real,N} where N}, Tuple{AbstractUnitRange,Vararg{Any,N} where N}} where A<:DenseArray where N where T, DenseArray} where N where T, Base.ReshapedArray{T,N,A,MI} where MI<:Tuple{Vararg{Base.MultiplicativeInverses.SignedMultiplicativeInverse{Int64},N} where N} where A<:Union{Base.ReinterpretArray{T,N,S,A} where S where A<:Union{SubArray{T,N,A,I,true} where I<:Union{Tuple{Vararg{Real,N} where N}, Tuple{AbstractUnitRange,Vararg{Any,N} where N}} where A<:DenseArray where N where T, DenseArray} where N where T, SubArray{T,N,A,I,true} where I<:Union{Tuple{Vararg{Real,N} where N}, Tuple{AbstractUnitRange,Vararg{Any,N} where N}} where A<:DenseArray where N where T, DenseArray} where N where T, DenseArray}} where T) where #s662</b>, Q::<b>LinearAlgebra.AbstractQ</b>) in LinearAlgebra at <a href=\"file://D:/buildbot/worker/package_win64/build/usr/share/julia/stdlib/v1.4/LinearAlgebra/src/qr.jl\" target=\"_blank\">C:\\Users\\chuan\\AppData\\Local\\Programs\\Julia\\Julia-1.4.0\\share\\julia\\stdlib\\v1.4\\LinearAlgebra\\src\\qr.jl:737</a></li> <li> *(adjA::<b>LinearAlgebra.Adjoint{#s662,#s661} where #s661<:LinearAlgebra.LQPackedQ where #s662</b>, B::<b>Union{DenseArray{T,2}, DenseArray{T,1}, Base.ReinterpretArray{T,2,S,A} where S where A<:Union{SubArray{T,N,A,I,true} where I<:Union{Tuple{Vararg{Real,N} where N}, Tuple{AbstractUnitRange,Vararg{Any,N} where N}} where A<:DenseArray where N where T, DenseArray}, Base.ReinterpretArray{T,1,S,A} where S where A<:Union{SubArray{T,N,A,I,true} where I<:Union{Tuple{Vararg{Real,N} where N}, Tuple{AbstractUnitRange,Vararg{Any,N} where N}} where A<:DenseArray where N where T, DenseArray}, Base.ReshapedArray{T,2,A,MI} where MI<:Tuple{Vararg{Base.MultiplicativeInverses.SignedMultiplicativeInverse{Int64},N} where N} where A<:Union{Base.ReinterpretArray{T,N,S,A} where S where A<:Union{SubArray{T,N,A,I,true} where I<:Union{Tuple{Vararg{Real,N} where N}, Tuple{AbstractUnitRange,Vararg{Any,N} where N}} where A<:DenseArray where N where T, DenseArray} where N where T, SubArray{T,N,A,I,true} where I<:Union{Tuple{Vararg{Real,N} where N}, Tuple{AbstractUnitRange,Vararg{Any,N} where N}} where A<:DenseArray where N where T, DenseArray}, Base.ReshapedArray{T,1,A,MI} where MI<:Tuple{Vararg{Base.MultiplicativeInverses.SignedMultiplicativeInverse{Int64},N} where N} where A<:Union{Base.ReinterpretArray{T,N,S,A} where S where A<:Union{SubArray{T,N,A,I,true} where I<:Union{Tuple{Vararg{Real,N} where N}, Tuple{AbstractUnitRange,Vararg{Any,N} where N}} where A<:DenseArray where N where T, DenseArray} where N where T, SubArray{T,N,A,I,true} where I<:Union{Tuple{Vararg{Real,N} where N}, Tuple{AbstractUnitRange,Vararg{Any,N} where N}} where A<:DenseArray where N where T, DenseArray}, SubArray{T,2,A,I,L} where L where I<:Tuple{Vararg{Union{Int64, AbstractRange{Int64}, Base.AbstractCartesianIndex},N} where N} where A<:Union{Base.ReinterpretArray{T,N,S,A} where S where A<:Union{SubArray{T,N,A,I,true} where I<:Union{Tuple{Vararg{Real,N} where N}, Tuple{AbstractUnitRange,Vararg{Any,N} where N}} where A<:DenseArray where N where T, DenseArray} where N where T, Base.ReshapedArray{T,N,A,MI} where MI<:Tuple{Vararg{Base.MultiplicativeInverses.SignedMultiplicativeInverse{Int64},N} where N} where A<:Union{Base.ReinterpretArray{T,N,S,A} where S where A<:Union{SubArray{T,N,A,I,true} where I<:Union{Tuple{Vararg{Real,N} where N}, Tuple{AbstractUnitRange,Vararg{Any,N} where N}} where A<:DenseArray where N where T, DenseArray} where N where T, SubArray{T,N,A,I,true} where I<:Union{Tuple{Vararg{Real,N} where N}, Tuple{AbstractUnitRange,Vararg{Any,N} where N}} where A<:DenseArray where N where T, DenseArray} where N where T, DenseArray}, SubArray{T,1,A,I,L} where L where I<:Tuple{Vararg{Union{Int64, AbstractRange{Int64}, Base.AbstractCartesianIndex},N} where N} where A<:Union{Base.ReinterpretArray{T,N,S,A} where S where A<:Union{SubArray{T,N,A,I,true} where I<:Union{Tuple{Vararg{Real,N} where N}, Tuple{AbstractUnitRange,Vararg{Any,N} where N}} where A<:DenseArray where N where T, DenseArray} where N where T, Base.ReshapedArray{T,N,A,MI} where MI<:Tuple{Vararg{Base.MultiplicativeInverses.SignedMultiplicativeInverse{Int64},N} where N} where A<:Union{Base.ReinterpretArray{T,N,S,A} where S where A<:Union{SubArray{T,N,A,I,true} where I<:Union{Tuple{Vararg{Real,N} where N}, Tuple{AbstractUnitRange,Vararg{Any,N} where N}} where A<:DenseArray where N where T, DenseArray} where N where T, SubArray{T,N,A,I,true} where I<:Union{Tuple{Vararg{Real,N} where N}, Tuple{AbstractUnitRange,Vararg{Any,N} where N}} where A<:DenseArray where N where T, DenseArray} where N where T, DenseArray}} where T</b>) in LinearAlgebra at <a href=\"file://D:/buildbot/worker/package_win64/build/usr/share/julia/stdlib/v1.4/LinearAlgebra/src/lq.jl\" target=\"_blank\">C:\\Users\\chuan\\AppData\\Local\\Programs\\Julia\\Julia-1.4.0\\share\\julia\\stdlib\\v1.4\\LinearAlgebra\\src\\lq.jl:199</a></li> <li> *(adjA::<b>LinearAlgebra.Adjoint{#s662,#s661} where #s661<:(Union{DenseArray{T,2}, Base.ReinterpretArray{T,2,S,A} where S where A<:Union{SubArray{T,N,A,I,true} where I<:Union{Tuple{Vararg{Real,N} where N}, Tuple{AbstractUnitRange,Vararg{Any,N} where N}} where A<:DenseArray where N where T, DenseArray}, Base.ReshapedArray{T,2,A,MI} where MI<:Tuple{Vararg{Base.MultiplicativeInverses.SignedMultiplicativeInverse{Int64},N} where N} where A<:Union{Base.ReinterpretArray{T,N,S,A} where S where A<:Union{SubArray{T,N,A,I,true} where I<:Union{Tuple{Vararg{Real,N} where N}, Tuple{AbstractUnitRange,Vararg{Any,N} where N}} where A<:DenseArray where N where T, DenseArray} where N where T, SubArray{T,N,A,I,true} where I<:Union{Tuple{Vararg{Real,N} where N}, Tuple{AbstractUnitRange,Vararg{Any,N} where N}} where A<:DenseArray where N where T, DenseArray}, SubArray{T,2,A,I,L} where L where I<:Tuple{Vararg{Union{Int64, AbstractRange{Int64}, Base.AbstractCartesianIndex},N} where N} where A<:Union{Base.ReinterpretArray{T,N,S,A} where S where A<:Union{SubArray{T,N,A,I,true} where I<:Union{Tuple{Vararg{Real,N} where N}, Tuple{AbstractUnitRange,Vararg{Any,N} where N}} where A<:DenseArray where N where T, DenseArray} where N where T, Base.ReshapedArray{T,N,A,MI} where MI<:Tuple{Vararg{Base.MultiplicativeInverses.SignedMultiplicativeInverse{Int64},N} where N} where A<:Union{Base.ReinterpretArray{T,N,S,A} where S where A<:Union{SubArray{T,N,A,I,true} where I<:Union{Tuple{Vararg{Real,N} where N}, Tuple{AbstractUnitRange,Vararg{Any,N} where N}} where A<:DenseArray where N where T, DenseArray} where N where T, SubArray{T,N,A,I,true} where I<:Union{Tuple{Vararg{Real,N} where N}, Tuple{AbstractUnitRange,Vararg{Any,N} where N}} where A<:DenseArray where N where T, DenseArray} where N where T, DenseArray}} where T) where #s662</b>, Q::<b>LinearAlgebra.LQPackedQ</b>) in LinearAlgebra at <a href=\"file://D:/buildbot/worker/package_win64/build/usr/share/julia/stdlib/v1.4/LinearAlgebra/src/lq.jl\" target=\"_blank\">C:\\Users\\chuan\\AppData\\Local\\Programs\\Julia\\Julia-1.4.0\\share\\julia\\stdlib\\v1.4\\LinearAlgebra\\src\\lq.jl:287</a></li> <li> *(A::<b>LinearAlgebra.Adjoint{#s662,#s661} where #s661<:(Union{LinearAlgebra.Hermitian{Complex{T},S}, LinearAlgebra.Hermitian{T,S}, LinearAlgebra.Symmetric{T,S}} where S where T<:Real) where #s662</b>, B::<b>LinearAlgebra.Transpose{#s660,#s659} where #s659<:(Union{LinearAlgebra.Hermitian{T,S}, LinearAlgebra.Symmetric{Complex{T},S}, LinearAlgebra.Symmetric{T,S}} where S where T<:Real) where #s660</b>) in LinearAlgebra at <a href=\"file://D:/buildbot/worker/package_win64/build/usr/share/julia/stdlib/v1.4/LinearAlgebra/src/symmetric.jl\" target=\"_blank\">C:\\Users\\chuan\\AppData\\Local\\Programs\\Julia\\Julia-1.4.0\\share\\julia\\stdlib\\v1.4\\LinearAlgebra\\src\\symmetric.jl:1023</a></li> <li> *(A::<b>LinearAlgebra.Adjoint{#s662,#s661} where #s661<:(Union{LinearAlgebra.Hermitian{Complex{T},S}, LinearAlgebra.Hermitian{T,S}, LinearAlgebra.Symmetric{T,S}} where S where T<:Real) where #s662</b>, B::<b>LinearAlgebra.Adjoint{#s660,#s659} where #s659<:(AbstractArray{T,2} where T) where #s660</b>) in LinearAlgebra at <a href=\"file://D:/buildbot/worker/package_win64/build/usr/share/julia/stdlib/v1.4/LinearAlgebra/src/symmetric.jl\" target=\"_blank\">C:\\Users\\chuan\\AppData\\Local\\Programs\\Julia\\Julia-1.4.0\\share\\julia\\stdlib\\v1.4\\LinearAlgebra\\src\\symmetric.jl:1036</a></li> <li> *(A::<b>LinearAlgebra.Adjoint{#s662,#s661} where #s661<:(Union{LinearAlgebra.Hermitian{Complex{T},S}, LinearAlgebra.Hermitian{T,S}, LinearAlgebra.Symmetric{T,S}} where S where T<:Real) where #s662</b>, B::<b>LinearAlgebra.Transpose{#s660,#s659} where #s659<:(AbstractArray{T,1} where T) where #s660</b>) in LinearAlgebra at <a href=\"file://D:/buildbot/worker/package_win64/build/usr/share/julia/stdlib/v1.4/LinearAlgebra/src/symmetric.jl\" target=\"_blank\">C:\\Users\\chuan\\AppData\\Local\\Programs\\Julia\\Julia-1.4.0\\share\\julia\\stdlib\\v1.4\\LinearAlgebra\\src\\symmetric.jl:1037</a></li> <li> *(A::<b>LinearAlgebra.Adjoint{#s662,#s661} where #s661<:(Union{LinearAlgebra.Hermitian{Complex{T},S}, LinearAlgebra.Hermitian{T,S}, LinearAlgebra.Symmetric{T,S}} where S where T<:Real) where #s662</b>, B::<b>LinearAlgebra.Transpose{#s660,#s659} where #s659<:(AbstractArray{T,2} where T) where #s660</b>) in LinearAlgebra at <a href=\"file://D:/buildbot/worker/package_win64/build/usr/share/julia/stdlib/v1.4/LinearAlgebra/src/symmetric.jl\" target=\"_blank\">C:\\Users\\chuan\\AppData\\Local\\Programs\\Julia\\Julia-1.4.0\\share\\julia\\stdlib\\v1.4\\LinearAlgebra\\src\\symmetric.jl:1038</a></li> <li> *(adjA::<b>LinearAlgebra.Adjoint{#s662,#s661} where #s661<:(Union{LinearAlgebra.Hermitian{Complex{T},S}, LinearAlgebra.Hermitian{T,S}, LinearAlgebra.Symmetric{T,S}} where S where T<:Real) where #s662</b>, B::<b>LinearAlgebra.Diagonal</b>) in LinearAlgebra at <a href=\"file://D:/buildbot/worker/package_win64/build/usr/share/julia/stdlib/v1.4/LinearAlgebra/src/diagonal.jl\" target=\"_blank\">C:\\Users\\chuan\\AppData\\Local\\Programs\\Julia\\Julia-1.4.0\\share\\julia\\stdlib\\v1.4\\LinearAlgebra\\src\\diagonal.jl:369</a></li> <li> *(A::<b>LinearAlgebra.Adjoint{#s662,#s661} where #s661<:(Union{LinearAlgebra.Hermitian{Complex{T},S}, LinearAlgebra.Hermitian{T,S}, LinearAlgebra.Symmetric{T,S}} where S where T<:Real) where #s662</b>, B::<b>LinearAlgebra.Adjoint{#s660,#s659} where #s659<:LinearAlgebra.AbstractRotation where #s660</b>) in LinearAlgebra at <a href=\"file://D:/buildbot/worker/package_win64/build/usr/share/julia/stdlib/v1.4/LinearAlgebra/src/givens.jl\" target=\"_blank\">C:\\Users\\chuan\\AppData\\Local\\Programs\\Julia\\Julia-1.4.0\\share\\julia\\stdlib\\v1.4\\LinearAlgebra\\src\\givens.jl:396</a></li> <li> *(adjA::<b>LinearAlgebra.Adjoint{#s662,#s661} where #s661<:(Union{LinearAlgebra.Hermitian{Complex{T},S}, LinearAlgebra.Hermitian{T,S}, LinearAlgebra.Symmetric{T,S}} where S where T<:Real) where #s662</b>, B::<b>AbstractArray{T,1} where T</b>) in LinearAlgebra at <a href=\"file://D:/buildbot/worker/package_win64/build/usr/share/julia/stdlib/v1.4/LinearAlgebra/src/symmetric.jl\" target=\"_blank\">C:\\Users\\chuan\\AppData\\Local\\Programs\\Julia\\Julia-1.4.0\\share\\julia\\stdlib\\v1.4\\LinearAlgebra\\src\\symmetric.jl:588</a></li> <li> *(A::<b>LinearAlgebra.Adjoint{#s662,#s661} where #s661<:(AbstractArray{T,1} where T) where #s662</b>, B::<b>LinearAlgebra.Transpose{#s660,#s659} where #s659<:(Union{LinearAlgebra.Hermitian{T,S}, LinearAlgebra.Symmetric{Complex{T},S}, LinearAlgebra.Symmetric{T,S}} where S where T<:Real) where #s660</b>) in LinearAlgebra at <a href=\"file://D:/buildbot/worker/package_win64/build/usr/share/julia/stdlib/v1.4/LinearAlgebra/src/symmetric.jl\" target=\"_blank\">C:\\Users\\chuan\\AppData\\Local\\Programs\\Julia\\Julia-1.4.0\\share\\julia\\stdlib\\v1.4\\LinearAlgebra\\src\\symmetric.jl:1028</a></li> <li> *(D::<b>LinearAlgebra.Adjoint{#s662,#s661} where #s661<:LinearAlgebra.Diagonal where #s662</b>, B::<b>LinearAlgebra.Diagonal</b>) in LinearAlgebra at <a href=\"file://D:/buildbot/worker/package_win64/build/usr/share/julia/stdlib/v1.4/LinearAlgebra/src/diagonal.jl\" target=\"_blank\">C:\\Users\\chuan\\AppData\\Local\\Programs\\Julia\\Julia-1.4.0\\share\\julia\\stdlib\\v1.4\\LinearAlgebra\\src\\diagonal.jl:218</a></li> <li> *(x::<b>LinearAlgebra.Adjoint{#s662,#s661} where #s661<:(AbstractArray{T,1} where T) where #s662</b>, D::<b>LinearAlgebra.Diagonal</b>) in LinearAlgebra at <a href=\"file://D:/buildbot/worker/package_win64/build/usr/share/julia/stdlib/v1.4/LinearAlgebra/src/diagonal.jl\" target=\"_blank\">C:\\Users\\chuan\\AppData\\Local\\Programs\\Julia\\Julia-1.4.0\\share\\julia\\stdlib\\v1.4\\LinearAlgebra\\src\\diagonal.jl:645</a></li> <li> *(x::<b>LinearAlgebra.Adjoint{#s662,#s661} where #s661<:(AbstractArray{T,1} where T) where #s662</b>, D::<b>LinearAlgebra.Diagonal</b>, y::<b>AbstractArray{T,1} where T</b>) in LinearAlgebra at <a href=\"file://D:/buildbot/worker/package_win64/build/usr/share/julia/stdlib/v1.4/LinearAlgebra/src/diagonal.jl\" target=\"_blank\">C:\\Users\\chuan\\AppData\\Local\\Programs\\Julia\\Julia-1.4.0\\share\\julia\\stdlib\\v1.4\\LinearAlgebra\\src\\diagonal.jl:647</a></li> <li> *(A::<b>LinearAlgebra.Adjoint{#s662,#s661} where #s661<:(AbstractArray{T,1} where T) where #s662</b>, B::<b>LinearAlgebra.Adjoint{#s660,#s659} where #s659<:LinearAlgebra.AbstractRotation where #s660</b>) in LinearAlgebra at <a href=\"file://D:/buildbot/worker/package_win64/build/usr/share/julia/stdlib/v1.4/LinearAlgebra/src/givens.jl\" target=\"_blank\">C:\\Users\\chuan\\AppData\\Local\\Programs\\Julia\\Julia-1.4.0\\share\\julia\\stdlib\\v1.4\\LinearAlgebra\\src\\givens.jl:389</a></li> <li> *(A::<b>LinearAlgebra.Adjoint{#s662,#s661} where #s661<:SparseArrays.AbstractSparseMatrixCSC where #s662</b>, B::<b>SparseArrays.AbstractSparseMatrixCSC</b>) in SparseArrays at <a href=\"file://D:/buildbot/worker/package_win64/build/usr/share/julia/stdlib/v1.4/SparseArrays/src/linalg.jl\" target=\"_blank\">C:\\Users\\chuan\\AppData\\Local\\Programs\\Julia\\Julia-1.4.0\\share\\julia\\stdlib\\v1.4\\SparseArrays\\src\\linalg.jl:167</a></li> <li> *(adjA::<b>LinearAlgebra.Adjoint{#s662,#s661} where #s661<:SparseArrays.AbstractSparseMatrixCSC where #s662</b>, x::<b>SparseArrays.AbstractSparseArray{Tv,Ti,1} where Ti where Tv</b>) in SparseArrays at <a href=\"file://D:/buildbot/worker/package_win64/build/usr/share/julia/stdlib/v1.4/SparseArrays/src/sparsevector.jl\" target=\"_blank\">C:\\Users\\chuan\\AppData\\Local\\Programs\\Julia\\Julia-1.4.0\\share\\julia\\stdlib\\v1.4\\SparseArrays\\src\\sparsevector.jl:1731</a></li> <li> *(adjA::<b>LinearAlgebra.Adjoint{#s662,#s661} where #s661<:SparseArrays.AbstractSparseMatrixCSC where #s662</b>, x::<b>Union{DenseArray{Tx,1}, Base.ReinterpretArray{Tx,1,S,A} where S where A<:Union{SubArray{T,N,A,I,true} where I<:Union{Tuple{Vararg{Real,N} where N}, Tuple{AbstractUnitRange,Vararg{Any,N} where N}} where A<:DenseArray where N where T, DenseArray}, Base.ReshapedArray{Tx,1,A,MI} where MI<:Tuple{Vararg{Base.MultiplicativeInverses.SignedMultiplicativeInverse{Int64},N} where N} where A<:Union{Base.ReinterpretArray{T,N,S,A} where S where A<:Union{SubArray{T,N,A,I,true} where I<:Union{Tuple{Vararg{Real,N} where N}, Tuple{AbstractUnitRange,Vararg{Any,N} where N}} where A<:DenseArray where N where T, DenseArray} where N where T, SubArray{T,N,A,I,true} where I<:Union{Tuple{Vararg{Real,N} where N}, Tuple{AbstractUnitRange,Vararg{Any,N} where N}} where A<:DenseArray where N where T, DenseArray}, SubArray{Tx,1,A,I,L} where L where I<:Tuple{Vararg{Union{Int64, AbstractRange{Int64}, Base.AbstractCartesianIndex},N} where N} where A<:Union{Base.ReinterpretArray{T,N,S,A} where S where A<:Union{SubArray{T,N,A,I,true} where I<:Union{Tuple{Vararg{Real,N} where N}, Tuple{AbstractUnitRange,Vararg{Any,N} where N}} where A<:DenseArray where N where T, DenseArray} where N where T, Base.ReshapedArray{T,N,A,MI} where MI<:Tuple{Vararg{Base.MultiplicativeInverses.SignedMultiplicativeInverse{Int64},N} where N} where A<:Union{Base.ReinterpretArray{T,N,S,A} where S where A<:Union{SubArray{T,N,A,I,true} where I<:Union{Tuple{Vararg{Real,N} where N}, Tuple{AbstractUnitRange,Vararg{Any,N} where N}} where A<:DenseArray where N where T, DenseArray} where N where T, SubArray{T,N,A,I,true} where I<:Union{Tuple{Vararg{Real,N} where N}, Tuple{AbstractUnitRange,Vararg{Any,N} where N}} where A<:DenseArray where N where T, DenseArray} where N where T, DenseArray}}</b>)<i> where Tx</i> in SparseArrays at <a href=\"file://D:/buildbot/worker/package_win64/build/usr/share/julia/stdlib/v1.4/SparseArrays/src/linalg.jl\" target=\"_blank\">C:\\Users\\chuan\\AppData\\Local\\Programs\\Julia\\Julia-1.4.0\\share\\julia\\stdlib\\v1.4\\SparseArrays\\src\\linalg.jl:55</a></li> <li> *(adjA::<b>LinearAlgebra.Adjoint{#s662,#s661} where #s661<:SuiteSparse.CHOLMOD.Sparse where #s662</b>, B::<b>SuiteSparse.CHOLMOD.Sparse</b>) in SuiteSparse.CHOLMOD at <a href=\"file://D:/buildbot/worker/package_win64/build/usr/share/julia/stdlib/v1.4/SuiteSparse/src/cholmod.jl\" target=\"_blank\">C:\\Users\\chuan\\AppData\\Local\\Programs\\Julia\\Julia-1.4.0\\share\\julia\\stdlib\\v1.4\\SuiteSparse\\src\\cholmod.jl:1259</a></li> <li> *(adjA::<b>LinearAlgebra.Adjoint{#s662,#s661} where #s661<:SuiteSparse.CHOLMOD.Sparse where #s662</b>, B::<b>SuiteSparse.CHOLMOD.Dense</b>) in SuiteSparse.CHOLMOD at <a href=\"file://D:/buildbot/worker/package_win64/build/usr/share/julia/stdlib/v1.4/SuiteSparse/src/cholmod.jl\" target=\"_blank\">C:\\Users\\chuan\\AppData\\Local\\Programs\\Julia\\Julia-1.4.0\\share\\julia\\stdlib\\v1.4\\SuiteSparse\\src\\cholmod.jl:1268</a></li> <li> *(adjA::<b>LinearAlgebra.Adjoint{#s662,#s661} where #s661<:SuiteSparse.CHOLMOD.Sparse where #s662</b>, B::<b>Union{Array{T,2}, Array{T,1}} where T</b>) in SuiteSparse.CHOLMOD at <a href=\"file://D:/buildbot/worker/package_win64/build/usr/share/julia/stdlib/v1.4/SuiteSparse/src/cholmod.jl\" target=\"_blank\">C:\\Users\\chuan\\AppData\\Local\\Programs\\Julia\\Julia-1.4.0\\share\\julia\\stdlib\\v1.4\\SuiteSparse\\src\\cholmod.jl:1270</a></li> <li> *(u::<b>LinearAlgebra.Adjoint{T,#s662} where #s662<:(AbstractArray{T,1} where T) where T</b>, v::<b>AbstractArray{T,1} where T</b>) in LinearAlgebra at <a href=\"file://D:/buildbot/worker/package_win64/build/usr/share/julia/stdlib/v1.4/LinearAlgebra/src/adjtrans.jl\" target=\"_blank\">C:\\Users\\chuan\\AppData\\Local\\Programs\\Julia\\Julia-1.4.0\\share\\julia\\stdlib\\v1.4\\LinearAlgebra\\src\\adjtrans.jl:245</a></li> <li> *(u::<b>LinearAlgebra.Transpose{T,#s662} where #s662<:(AbstractArray{T,1} where T)</b>, v::<b>AbstractArray{T,1}</b>)<i> where T<:Real</i> in LinearAlgebra at <a href=\"file://D:/buildbot/worker/package_win64/build/usr/share/julia/stdlib/v1.4/LinearAlgebra/src/adjtrans.jl\" target=\"_blank\">C:\\Users\\chuan\\AppData\\Local\\Programs\\Julia\\Julia-1.4.0\\share\\julia\\stdlib\\v1.4\\LinearAlgebra\\src\\adjtrans.jl:246</a></li> <li> *(u::<b>LinearAlgebra.Transpose{T,#s662} where #s662<:(AbstractArray{T,1} where T) where T</b>, v::<b>LinearAlgebra.Transpose{#s662,#s661} where #s661<:(LinearAlgebra.Adjoint{T,#s662} where #s662<:(AbstractArray{T,1} where T) where T) where #s662</b>) in LinearAlgebra at <a href=\"file://D:/buildbot/worker/package_win64/build/usr/share/julia/stdlib/v1.4/LinearAlgebra/src/adjtrans.jl\" target=\"_blank\">C:\\Users\\chuan\\AppData\\Local\\Programs\\Julia\\Julia-1.4.0\\share\\julia\\stdlib\\v1.4\\LinearAlgebra\\src\\adjtrans.jl:265</a></li> <li> *(A::<b>LinearAlgebra.Transpose{#s662,#s661} where #s661<:LinearAlgebra.AbstractTriangular where #s662</b>, B::<b>LinearAlgebra.Transpose{#s660,#s659} where #s659<:LinearAlgebra.AbstractTriangular where #s660</b>) in LinearAlgebra at <a href=\"file://D:/buildbot/worker/package_win64/build/usr/share/julia/stdlib/v1.4/LinearAlgebra/src/triangular.jl\" target=\"_blank\">C:\\Users\\chuan\\AppData\\Local\\Programs\\Julia\\Julia-1.4.0\\share\\julia\\stdlib\\v1.4\\LinearAlgebra\\src\\triangular.jl:2136</a></li> <li> *(A::<b>LinearAlgebra.Transpose{#s662,#s661} where #s661<:(Union{LinearAlgebra.Hermitian{T,S}, LinearAlgebra.Symmetric{Complex{T},S}, LinearAlgebra.Symmetric{T,S}} where S where T<:Real) where #s662</b>, B::<b>LinearAlgebra.Transpose{#s660,#s659} where #s659<:LinearAlgebra.AbstractTriangular where #s660</b>) in LinearAlgebra at <a href=\"file://D:/buildbot/worker/package_win64/build/usr/share/julia/stdlib/v1.4/LinearAlgebra/src/symmetric.jl\" target=\"_blank\">C:\\Users\\chuan\\AppData\\Local\\Programs\\Julia\\Julia-1.4.0\\share\\julia\\stdlib\\v1.4\\LinearAlgebra\\src\\symmetric.jl:1052</a></li> <li> *(transA::<b>LinearAlgebra.Transpose{#s662,#s661} where #s661<:SparseArrays.AbstractSparseMatrixCSC where #s662</b>, B::<b>Union{DenseArray{T,2}, Base.ReinterpretArray{T,2,S,A} where S where A<:Union{SubArray{T,N,A,I,true} where I<:Union{Tuple{Vararg{Real,N} where N}, Tuple{AbstractUnitRange,Vararg{Any,N} where N}} where A<:DenseArray where N where T, DenseArray}, Base.ReshapedArray{T,2,A,MI} where MI<:Tuple{Vararg{Base.MultiplicativeInverses.SignedMultiplicativeInverse{Int64},N} where N} where A<:Union{Base.ReinterpretArray{T,N,S,A} where S where A<:Union{SubArray{T,N,A,I,true} where I<:Union{Tuple{Vararg{Real,N} where N}, Tuple{AbstractUnitRange,Vararg{Any,N} where N}} where A<:DenseArray where N where T, DenseArray} where N where T, SubArray{T,N,A,I,true} where I<:Union{Tuple{Vararg{Real,N} where N}, Tuple{AbstractUnitRange,Vararg{Any,N} where N}} where A<:DenseArray where N where T, DenseArray}, SubArray{T,2,A,I,L} where L where I<:Tuple{Vararg{Union{Int64, AbstractRange{Int64}, Base.AbstractCartesianIndex},N} where N} where A<:Union{Base.ReinterpretArray{T,N,S,A} where S where A<:Union{SubArray{T,N,A,I,true} where I<:Union{Tuple{Vararg{Real,N} where N}, Tuple{AbstractUnitRange,Vararg{Any,N} where N}} where A<:DenseArray where N where T, DenseArray} where N where T, Base.ReshapedArray{T,N,A,MI} where MI<:Tuple{Vararg{Base.MultiplicativeInverses.SignedMultiplicativeInverse{Int64},N} where N} where A<:Union{Base.ReinterpretArray{T,N,S,A} where S where A<:Union{SubArray{T,N,A,I,true} where I<:Union{Tuple{Vararg{Real,N} where N}, Tuple{AbstractUnitRange,Vararg{Any,N} where N}} where A<:DenseArray where N where T, DenseArray} where N where T, SubArray{T,N,A,I,true} where I<:Union{Tuple{Vararg{Real,N} where N}, Tuple{AbstractUnitRange,Vararg{Any,N} where N}} where A<:DenseArray where N where T, DenseArray} where N where T, DenseArray}, LinearAlgebra.Adjoint{#s662,#s661} where #s661<:Union{DenseArray{T,2}, Base.ReinterpretArray{T,2,S,A} where S where A<:Union{SubArray{T,N,A,I,true} where I<:Union{Tuple{Vararg{Real,N} where N}, Tuple{AbstractUnitRange,Vararg{Any,N} where N}} where A<:DenseArray where N where T, DenseArray}, Base.ReshapedArray{T,2,A,MI} where MI<:Tuple{Vararg{Base.MultiplicativeInverses.SignedMultiplicativeInverse{Int64},N} where N} where A<:Union{Base.ReinterpretArray{T,N,S,A} where S where A<:Union{SubArray{T,N,A,I,true} where I<:Union{Tuple{Vararg{Real,N} where N}, Tuple{AbstractUnitRange,Vararg{Any,N} where N}} where A<:DenseArray where N where T, DenseArray} where N where T, SubArray{T,N,A,I,true} where I<:Union{Tuple{Vararg{Real,N} where N}, Tuple{AbstractUnitRange,Vararg{Any,N} where N}} where A<:DenseArray where N where T, DenseArray}, SubArray{T,2,A,I,L} where L where I<:Tuple{Vararg{Union{Int64, AbstractRange{Int64}, Base.AbstractCartesianIndex},N} where N} where A<:Union{Base.ReinterpretArray{T,N,S,A} where S where A<:Union{SubArray{T,N,A,I,true} where I<:Union{Tuple{Vararg{Real,N} where N}, Tuple{AbstractUnitRange,Vararg{Any,N} where N}} where A<:DenseArray where N where T, DenseArray} where N where T, Base.ReshapedArray{T,N,A,MI} where MI<:Tuple{Vararg{Base.MultiplicativeInverses.SignedMultiplicativeInverse{Int64},N} where N} where A<:Union{Base.ReinterpretArray{T,N,S,A} where S where A<:Union{SubArray{T,N,A,I,true} where I<:Union{Tuple{Vararg{Real,N} where N}, Tuple{AbstractUnitRange,Vararg{Any,N} where N}} where A<:DenseArray where N where T, DenseArray} where N where T, SubArray{T,N,A,I,true} where I<:Union{Tuple{Vararg{Real,N} where N}, Tuple{AbstractUnitRange,Vararg{Any,N} where N}} where A<:DenseArray where N where T, DenseArray} where N where T, DenseArray}, LinearAlgebra.LowerTriangular{T,S} where S<:AbstractArray{T,2}, LinearAlgebra.UnitLowerTriangular{T,S} where S<:AbstractArray{T,2}, LinearAlgebra.UnitUpperTriangular{T,S} where S<:AbstractArray{T,2}, LinearAlgebra.UpperTriangular{T,S} where S<:AbstractArray{T,2}} where #s662, LinearAlgebra.LowerTriangular{T,S} where S<:AbstractArray{T,2}, LinearAlgebra.Transpose{#s660,#s659} where #s659<:Union{DenseArray{T,2}, Base.ReinterpretArray{T,2,S,A} where S where A<:Union{SubArray{T,N,A,I,true} where I<:Union{Tuple{Vararg{Real,N} where N}, Tuple{AbstractUnitRange,Vararg{Any,N} where N}} where A<:DenseArray where N where T, DenseArray}, Base.ReshapedArray{T,2,A,MI} where MI<:Tuple{Vararg{Base.MultiplicativeInverses.SignedMultiplicativeInverse{Int64},N} where N} where A<:Union{Base.ReinterpretArray{T,N,S,A} where S where A<:Union{SubArray{T,N,A,I,true} where I<:Union{Tuple{Vararg{Real,N} where N}, Tuple{AbstractUnitRange,Vararg{Any,N} where N}} where A<:DenseArray where N where T, DenseArray} where N where T, SubArray{T,N,A,I,true} where I<:Union{Tuple{Vararg{Real,N} where N}, Tuple{AbstractUnitRange,Vararg{Any,N} where N}} where A<:DenseArray where N where T, DenseArray}, SubArray{T,2,A,I,L} where L where I<:Tuple{Vararg{Union{Int64, AbstractRange{Int64}, Base.AbstractCartesianIndex},N} where N} where A<:Union{Base.ReinterpretArray{T,N,S,A} where S where A<:Union{SubArray{T,N,A,I,true} where I<:Union{Tuple{Vararg{Real,N} where N}, Tuple{AbstractUnitRange,Vararg{Any,N} where N}} where A<:DenseArray where N where T, DenseArray} where N where T, Base.ReshapedArray{T,N,A,MI} where MI<:Tuple{Vararg{Base.MultiplicativeInverses.SignedMultiplicativeInverse{Int64},N} where N} where A<:Union{Base.ReinterpretArray{T,N,S,A} where S where A<:Union{SubArray{T,N,A,I,true} where I<:Union{Tuple{Vararg{Real,N} where N}, Tuple{AbstractUnitRange,Vararg{Any,N} where N}} where A<:DenseArray where N where T, DenseArray} where N where T, SubArray{T,N,A,I,true} where I<:Union{Tuple{Vararg{Real,N} where N}, Tuple{AbstractUnitRange,Vararg{Any,N} where N}} where A<:DenseArray where N where T, DenseArray} where N where T, DenseArray}, LinearAlgebra.LowerTriangular{T,S} where S<:AbstractArray{T,2}, LinearAlgebra.UnitLowerTriangular{T,S} where S<:AbstractArray{T,2}, LinearAlgebra.UnitUpperTriangular{T,S} where S<:AbstractArray{T,2}, LinearAlgebra.UpperTriangular{T,S} where S<:AbstractArray{T,2}} where #s660, LinearAlgebra.UnitLowerTriangular{T,S} where S<:AbstractArray{T,2}, LinearAlgebra.UnitUpperTriangular{T,S} where S<:AbstractArray{T,2}, LinearAlgebra.UpperTriangular{T,S} where S<:AbstractArray{T,2}} where T</b>) in SparseArrays at <a href=\"file://D:/buildbot/worker/package_win64/build/usr/share/julia/stdlib/v1.4/SparseArrays/src/linalg.jl\" target=\"_blank\">C:\\Users\\chuan\\AppData\\Local\\Programs\\Julia\\Julia-1.4.0\\share\\julia\\stdlib\\v1.4\\SparseArrays\\src\\linalg.jl:83</a></li> <li> *(v::<b>LinearAlgebra.Transpose{T,#s662} where #s662<:(AbstractArray{T,1} where T) where T</b>, A::<b>LinearAlgebra.Transpose{#s662,#s661} where #s661<:LinearAlgebra.AbstractTriangular where #s662</b>) in LinearAlgebra at <a href=\"file://D:/buildbot/worker/package_win64/build/usr/share/julia/stdlib/v1.4/LinearAlgebra/src/triangular.jl\" target=\"_blank\">C:\\Users\\chuan\\AppData\\Local\\Programs\\Julia\\Julia-1.4.0\\share\\julia\\stdlib\\v1.4\\LinearAlgebra\\src\\triangular.jl:2121</a></li> <li> *(A::<b>LinearAlgebra.Transpose{#s662,#s661} where #s661<:LinearAlgebra.AbstractTriangular where #s662</b>, B::<b>LinearAlgebra.Transpose{#s660,#s659} where #s659<:(Union{LinearAlgebra.Hermitian{T,S}, LinearAlgebra.Symmetric{Complex{T},S}, LinearAlgebra.Symmetric{T,S}} where S where T<:Real) where #s660</b>) in LinearAlgebra at <a href=\"file://D:/buildbot/worker/package_win64/build/usr/share/julia/stdlib/v1.4/LinearAlgebra/src/symmetric.jl\" target=\"_blank\">C:\\Users\\chuan\\AppData\\Local\\Programs\\Julia\\Julia-1.4.0\\share\\julia\\stdlib\\v1.4\\LinearAlgebra\\src\\symmetric.jl:1048</a></li> <li> *(A::<b>LinearAlgebra.Transpose{#s662,#s661} where #s661<:LinearAlgebra.AbstractTriangular where #s662</b>, B::<b>LinearAlgebra.Transpose{#s660,#s659} where #s659<:(AbstractArray{T,1} where T) where #s660</b>) in LinearAlgebra at <a href=\"file://D:/buildbot/worker/package_win64/build/usr/share/julia/stdlib/v1.4/LinearAlgebra/src/triangular.jl\" target=\"_blank\">C:\\Users\\chuan\\AppData\\Local\\Programs\\Julia\\Julia-1.4.0\\share\\julia\\stdlib\\v1.4\\LinearAlgebra\\src\\triangular.jl:2645</a></li> <li> *(transA::<b>LinearAlgebra.Transpose{#s662,#s661} where #s661<:(Union{LinearAlgebra.Hermitian{T,S}, LinearAlgebra.Symmetric{T,S}} where S where T<:Real) where #s662</b>, transB::<b>LinearAlgebra.Transpose{#s660,#s659} where #s659<:(Union{LinearAlgebra.Hermitian{T,S}, LinearAlgebra.Symmetric{T,S}} where S where T<:Real) where #s660</b>) in LinearAlgebra at <a href=\"file://D:/buildbot/worker/package_win64/build/usr/share/julia/stdlib/v1.4/LinearAlgebra/src/symmetric.jl\" target=\"_blank\">C:\\Users\\chuan\\AppData\\Local\\Programs\\Julia\\Julia-1.4.0\\share\\julia\\stdlib\\v1.4\\LinearAlgebra\\src\\symmetric.jl:593</a></li> <li> *(transA::<b>LinearAlgebra.Transpose{#s662,#s661} where #s661<:(Union{LinearAlgebra.Hermitian{T,S}, LinearAlgebra.Symmetric{T,S}} where S where T<:Real) where #s662</b>, transB::<b>LinearAlgebra.Transpose{#s660,#s659} where #s659<:(Union{LinearAlgebra.Hermitian{T,S}, LinearAlgebra.Symmetric{Complex{T},S}, LinearAlgebra.Symmetric{T,S}} where S where T<:Real) where #s660</b>) in LinearAlgebra at <a href=\"file://D:/buildbot/worker/package_win64/build/usr/share/julia/stdlib/v1.4/LinearAlgebra/src/symmetric.jl\" target=\"_blank\">C:\\Users\\chuan\\AppData\\Local\\Programs\\Julia\\Julia-1.4.0\\share\\julia\\stdlib\\v1.4\\LinearAlgebra\\src\\symmetric.jl:594</a></li> <li> *(transA::<b>LinearAlgebra.Transpose{#s662,#s661} where #s661<:(Union{LinearAlgebra.Hermitian{T,S}, LinearAlgebra.Symmetric{Complex{T},S}, LinearAlgebra.Symmetric{T,S}} where S where T<:Real) where #s662</b>, transB::<b>LinearAlgebra.Transpose{#s660,#s659} where #s659<:(Union{LinearAlgebra.Hermitian{T,S}, LinearAlgebra.Symmetric{T,S}} where S where T<:Real) where #s660</b>) in LinearAlgebra at <a href=\"file://D:/buildbot/worker/package_win64/build/usr/share/julia/stdlib/v1.4/LinearAlgebra/src/symmetric.jl\" target=\"_blank\">C:\\Users\\chuan\\AppData\\Local\\Programs\\Julia\\Julia-1.4.0\\share\\julia\\stdlib\\v1.4\\LinearAlgebra\\src\\symmetric.jl:596</a></li> <li> *(transA::<b>LinearAlgebra.Transpose{#s662,#s661} where #s661<:(Union{LinearAlgebra.Hermitian{T,S}, LinearAlgebra.Symmetric{Complex{T},S}, LinearAlgebra.Symmetric{T,S}} where S where T<:Real) where #s662</b>, transB::<b>LinearAlgebra.Transpose{#s660,#s659} where #s659<:(Union{LinearAlgebra.Hermitian{T,S}, LinearAlgebra.Symmetric{Complex{T},S}, LinearAlgebra.Symmetric{T,S}} where S where T<:Real) where #s660</b>) in LinearAlgebra at <a href=\"file://D:/buildbot/worker/package_win64/build/usr/share/julia/stdlib/v1.4/LinearAlgebra/src/symmetric.jl\" target=\"_blank\">C:\\Users\\chuan\\AppData\\Local\\Programs\\Julia\\Julia-1.4.0\\share\\julia\\stdlib\\v1.4\\LinearAlgebra\\src\\symmetric.jl:595</a></li> <li> *(transA::<b>LinearAlgebra.Transpose{#s662,#s661} where #s661<:(Union{LinearAlgebra.Hermitian{T,S}, LinearAlgebra.Symmetric{Complex{T},S}, LinearAlgebra.Symmetric{T,S}} where S where T<:Real) where #s662</b>, transB::<b>LinearAlgebra.Transpose{#s660,#s659} where #s659<:(Union{LinearAlgebra.Hermitian{Complex{T},S}, LinearAlgebra.Hermitian{T,S}, LinearAlgebra.Symmetric{T,S}} where S where T<:Real) where #s660</b>) in LinearAlgebra at <a href=\"file://D:/buildbot/worker/package_win64/build/usr/share/julia/stdlib/v1.4/LinearAlgebra/src/symmetric.jl\" target=\"_blank\">C:\\Users\\chuan\\AppData\\Local\\Programs\\Julia\\Julia-1.4.0\\share\\julia\\stdlib\\v1.4\\LinearAlgebra\\src\\symmetric.jl:597</a></li> <li> *(transA::<b>LinearAlgebra.Transpose{#s662,#s661} where #s661<:(Union{LinearAlgebra.Hermitian{Complex{T},S}, LinearAlgebra.Hermitian{T,S}, LinearAlgebra.Symmetric{T,S}} where S where T<:Real) where #s662</b>, transB::<b>LinearAlgebra.Transpose{#s660,#s659} where #s659<:(Union{LinearAlgebra.Hermitian{T,S}, LinearAlgebra.Symmetric{Complex{T},S}, LinearAlgebra.Symmetric{T,S}} where S where T<:Real) where #s660</b>) in LinearAlgebra at <a href=\"file://D:/buildbot/worker/package_win64/build/usr/share/julia/stdlib/v1.4/LinearAlgebra/src/symmetric.jl\" target=\"_blank\">C:\\Users\\chuan\\AppData\\Local\\Programs\\Julia\\Julia-1.4.0\\share\\julia\\stdlib\\v1.4\\LinearAlgebra\\src\\symmetric.jl:598</a></li> <li> *(transD::<b>LinearAlgebra.Transpose{#s662,#s661} where #s661<:LinearAlgebra.Diagonal where #s662</b>, transA::<b>LinearAlgebra.Transpose{#s660,#s659} where #s659<:(Union{LinearAlgebra.Hermitian{T,S}, LinearAlgebra.Symmetric{Complex{T},S}, LinearAlgebra.Symmetric{T,S}} where S where T<:Real) where #s660</b>) in LinearAlgebra at <a href=\"file://D:/buildbot/worker/package_win64/build/usr/share/julia/stdlib/v1.4/LinearAlgebra/src/diagonal.jl\" target=\"_blank\">C:\\Users\\chuan\\AppData\\Local\\Programs\\Julia\\Julia-1.4.0\\share\\julia\\stdlib\\v1.4\\LinearAlgebra\\src\\diagonal.jl:371</a></li> <li> *(A::<b>LinearAlgebra.Transpose{#s662,#s661} where #s661<:(AbstractArray{T,1} where T) where #s662</b>, B::<b>LinearAlgebra.Transpose{#s660,#s659} where #s659<:(Union{LinearAlgebra.Hermitian{T,S}, LinearAlgebra.Symmetric{Complex{T},S}, LinearAlgebra.Symmetric{T,S}} where S where T<:Real) where #s660</b>) in LinearAlgebra at <a href=\"file://D:/buildbot/worker/package_win64/build/usr/share/julia/stdlib/v1.4/LinearAlgebra/src/symmetric.jl\" target=\"_blank\">C:\\Users\\chuan\\AppData\\Local\\Programs\\Julia\\Julia-1.4.0\\share\\julia\\stdlib\\v1.4\\LinearAlgebra\\src\\symmetric.jl:1032</a></li> <li> *(transA::<b>LinearAlgebra.Transpose{#s662,#s661} where #s661<:(Union{LinearAlgebra.Hermitian{T,S}, LinearAlgebra.Symmetric{Complex{T},S}, LinearAlgebra.Symmetric{T,S}} where S where T<:Real) where #s662</b>, transD::<b>LinearAlgebra.Transpose{#s660,#s659} where #s659<:LinearAlgebra.Diagonal where #s660</b>) in LinearAlgebra at <a href=\"file://D:/buildbot/worker/package_win64/build/usr/share/julia/stdlib/v1.4/LinearAlgebra/src/diagonal.jl\" target=\"_blank\">C:\\Users\\chuan\\AppData\\Local\\Programs\\Julia\\Julia-1.4.0\\share\\julia\\stdlib\\v1.4\\LinearAlgebra\\src\\diagonal.jl:370</a></li> <li> *(A::<b>LinearAlgebra.Transpose{#s662,#s661} where #s661<:(Union{LinearAlgebra.Hermitian{T,S}, LinearAlgebra.Symmetric{Complex{T},S}, LinearAlgebra.Symmetric{T,S}} where S where T<:Real) where #s662</b>, B::<b>LinearAlgebra.Transpose{#s660,#s659} where #s659<:(AbstractArray{T,1} where T) where #s660</b>) in LinearAlgebra at <a href=\"file://D:/buildbot/worker/package_win64/build/usr/share/julia/stdlib/v1.4/LinearAlgebra/src/symmetric.jl\" target=\"_blank\">C:\\Users\\chuan\\AppData\\Local\\Programs\\Julia\\Julia-1.4.0\\share\\julia\\stdlib\\v1.4\\LinearAlgebra\\src\\symmetric.jl:1041</a></li> <li> *(D::<b>LinearAlgebra.Transpose{#s662,#s661} where #s661<:LinearAlgebra.Diagonal where #s662</b>, B::<b>LinearAlgebra.Transpose{#s660,#s659} where #s659<:LinearAlgebra.Diagonal where #s660</b>) in LinearAlgebra at <a href=\"file://D:/buildbot/worker/package_win64/build/usr/share/julia/stdlib/v1.4/LinearAlgebra/src/diagonal.jl\" target=\"_blank\">C:\\Users\\chuan\\AppData\\Local\\Programs\\Julia\\Julia-1.4.0\\share\\julia\\stdlib\\v1.4\\LinearAlgebra\\src\\diagonal.jl:261</a></li> <li> *(A::<b>LinearAlgebra.Transpose{#s662,#s661} where #s661<:SparseArrays.AbstractSparseMatrixCSC where #s662</b>, B::<b>LinearAlgebra.Transpose{#s660,#s659} where #s659<:SparseArrays.AbstractSparseMatrixCSC where #s660</b>) in SparseArrays at <a href=\"file://D:/buildbot/worker/package_win64/build/usr/share/julia/stdlib/v1.4/SparseArrays/src/linalg.jl\" target=\"_blank\">C:\\Users\\chuan\\AppData\\Local\\Programs\\Julia\\Julia-1.4.0\\share\\julia\\stdlib\\v1.4\\SparseArrays\\src\\linalg.jl:169</a></li> <li> *(u::<b>LinearAlgebra.Transpose{T,#s662} where #s662<:(AbstractArray{T,1} where T) where T</b>, v::<b>LinearAlgebra.Transpose{T,#s662} where #s662<:(AbstractArray{T,1} where T) where T</b>) in LinearAlgebra at <a href=\"file://D:/buildbot/worker/package_win64/build/usr/share/julia/stdlib/v1.4/LinearAlgebra/src/adjtrans.jl\" target=\"_blank\">C:\\Users\\chuan\\AppData\\Local\\Programs\\Julia\\Julia-1.4.0\\share\\julia\\stdlib\\v1.4\\LinearAlgebra\\src\\adjtrans.jl:257</a></li> <li> *(u::<b>LinearAlgebra.Transpose{T,#s662} where #s662<:(AbstractArray{T,1} where T) where T</b>, v::<b>LinearAlgebra.Adjoint{#s662,#s661} where #s661<:(LinearAlgebra.Transpose{T,#s662} where #s662<:(AbstractArray{T,1} where T) where T) where #s662</b>) in LinearAlgebra at <a href=\"file://D:/buildbot/worker/package_win64/build/usr/share/julia/stdlib/v1.4/LinearAlgebra/src/adjtrans.jl\" target=\"_blank\">C:\\Users\\chuan\\AppData\\Local\\Programs\\Julia\\Julia-1.4.0\\share\\julia\\stdlib\\v1.4\\LinearAlgebra\\src\\adjtrans.jl:261</a></li> <li> *(transx::<b>LinearAlgebra.Transpose{#s662,#s661} where #s661<:Union{DenseArray{T,1}, Base.ReinterpretArray{T,1,S,A} where S where A<:Union{SubArray{T,N,A,I,true} where I<:Union{Tuple{Vararg{Real,N} where N}, Tuple{AbstractUnitRange,Vararg{Any,N} where N}} where A<:DenseArray where N where T, DenseArray}, Base.ReshapedArray{T,1,A,MI} where MI<:Tuple{Vararg{Base.MultiplicativeInverses.SignedMultiplicativeInverse{Int64},N} where N} where A<:Union{Base.ReinterpretArray{T,N,S,A} where S where A<:Union{SubArray{T,N,A,I,true} where I<:Union{Tuple{Vararg{Real,N} where N}, Tuple{AbstractUnitRange,Vararg{Any,N} where N}} where A<:DenseArray where N where T, DenseArray} where N where T, SubArray{T,N,A,I,true} where I<:Union{Tuple{Vararg{Real,N} where N}, Tuple{AbstractUnitRange,Vararg{Any,N} where N}} where A<:DenseArray where N where T, DenseArray}, SubArray{T,1,A,I,L} where L where I<:Tuple{Vararg{Union{Int64, AbstractRange{Int64}, Base.AbstractCartesianIndex},N} where N} where A<:Union{Base.ReinterpretArray{T,N,S,A} where S where A<:Union{SubArray{T,N,A,I,true} where I<:Union{Tuple{Vararg{Real,N} where N}, Tuple{AbstractUnitRange,Vararg{Any,N} where N}} where A<:DenseArray where N where T, DenseArray} where N where T, Base.ReshapedArray{T,N,A,MI} where MI<:Tuple{Vararg{Base.MultiplicativeInverses.SignedMultiplicativeInverse{Int64},N} where N} where A<:Union{Base.ReinterpretArray{T,N,S,A} where S where A<:Union{SubArray{T,N,A,I,true} where I<:Union{Tuple{Vararg{Real,N} where N}, Tuple{AbstractUnitRange,Vararg{Any,N} where N}} where A<:DenseArray where N where T, DenseArray} where N where T, SubArray{T,N,A,I,true} where I<:Union{Tuple{Vararg{Real,N} where N}, Tuple{AbstractUnitRange,Vararg{Any,N} where N}} where A<:DenseArray where N where T, DenseArray} where N where T, DenseArray}} where #s662</b>, y::<b>Union{DenseArray{T,1}, Base.ReinterpretArray{T,1,S,A} where S where A<:Union{SubArray{T,N,A,I,true} where I<:Union{Tuple{Vararg{Real,N} where N}, Tuple{AbstractUnitRange,Vararg{Any,N} where N}} where A<:DenseArray where N where T, DenseArray}, Base.ReshapedArray{T,1,A,MI} where MI<:Tuple{Vararg{Base.MultiplicativeInverses.SignedMultiplicativeInverse{Int64},N} where N} where A<:Union{Base.ReinterpretArray{T,N,S,A} where S where A<:Union{SubArray{T,N,A,I,true} where I<:Union{Tuple{Vararg{Real,N} where N}, Tuple{AbstractUnitRange,Vararg{Any,N} where N}} where A<:DenseArray where N where T, DenseArray} where N where T, SubArray{T,N,A,I,true} where I<:Union{Tuple{Vararg{Real,N} where N}, Tuple{AbstractUnitRange,Vararg{Any,N} where N}} where A<:DenseArray where N where T, DenseArray}, SubArray{T,1,A,I,L} where L where I<:Tuple{Vararg{Union{Int64, AbstractRange{Int64}, Base.AbstractCartesianIndex},N} where N} where A<:Union{Base.ReinterpretArray{T,N,S,A} where S where A<:Union{SubArray{T,N,A,I,true} where I<:Union{Tuple{Vararg{Real,N} where N}, Tuple{AbstractUnitRange,Vararg{Any,N} where N}} where A<:DenseArray where N where T, DenseArray} where N where T, Base.ReshapedArray{T,N,A,MI} where MI<:Tuple{Vararg{Base.MultiplicativeInverses.SignedMultiplicativeInverse{Int64},N} where N} where A<:Union{Base.ReinterpretArray{T,N,S,A} where S where A<:Union{SubArray{T,N,A,I,true} where I<:Union{Tuple{Vararg{Real,N} where N}, Tuple{AbstractUnitRange,Vararg{Any,N} where N}} where A<:DenseArray where N where T, DenseArray} where N where T, SubArray{T,N,A,I,true} where I<:Union{Tuple{Vararg{Real,N} where N}, Tuple{AbstractUnitRange,Vararg{Any,N} where N}} where A<:DenseArray where N where T, DenseArray} where N where T, DenseArray}}</b>)<i> where T<:Union{Complex{Float32}, Complex{Float64}}</i> in LinearAlgebra at <a href=\"file://D:/buildbot/worker/package_win64/build/usr/share/julia/stdlib/v1.4/LinearAlgebra/src/matmul.jl\" target=\"_blank\">C:\\Users\\chuan\\AppData\\Local\\Programs\\Julia\\Julia-1.4.0\\share\\julia\\stdlib\\v1.4\\LinearAlgebra\\src\\matmul.jl:39</a></li> <li> *(transA::<b>LinearAlgebra.Transpose{#s662,#s661} where #s661<:Union{DenseArray{T,2}, Base.ReinterpretArray{T,2,S,A} where S where A<:Union{SubArray{T,N,A,I,true} where I<:Union{Tuple{Vararg{Real,N} where N}, Tuple{AbstractUnitRange,Vararg{Any,N} where N}} where A<:DenseArray where N where T, DenseArray}, Base.ReshapedArray{T,2,A,MI} where MI<:Tuple{Vararg{Base.MultiplicativeInverses.SignedMultiplicativeInverse{Int64},N} where N} where A<:Union{Base.ReinterpretArray{T,N,S,A} where S where A<:Union{SubArray{T,N,A,I,true} where I<:Union{Tuple{Vararg{Real,N} where N}, Tuple{AbstractUnitRange,Vararg{Any,N} where N}} where A<:DenseArray where N where T, DenseArray} where N where T, SubArray{T,N,A,I,true} where I<:Union{Tuple{Vararg{Real,N} where N}, Tuple{AbstractUnitRange,Vararg{Any,N} where N}} where A<:DenseArray where N where T, DenseArray}, SubArray{T,2,A,I,L} where L where I<:Tuple{Vararg{Union{Int64, AbstractRange{Int64}, Base.AbstractCartesianIndex},N} where N} where A<:Union{Base.ReinterpretArray{T,N,S,A} where S where A<:Union{SubArray{T,N,A,I,true} where I<:Union{Tuple{Vararg{Real,N} where N}, Tuple{AbstractUnitRange,Vararg{Any,N} where N}} where A<:DenseArray where N where T, DenseArray} where N where T, Base.ReshapedArray{T,N,A,MI} where MI<:Tuple{Vararg{Base.MultiplicativeInverses.SignedMultiplicativeInverse{Int64},N} where N} where A<:Union{Base.ReinterpretArray{T,N,S,A} where S where A<:Union{SubArray{T,N,A,I,true} where I<:Union{Tuple{Vararg{Real,N} where N}, Tuple{AbstractUnitRange,Vararg{Any,N} where N}} where A<:DenseArray where N where T, DenseArray} where N where T, SubArray{T,N,A,I,true} where I<:Union{Tuple{Vararg{Real,N} where N}, Tuple{AbstractUnitRange,Vararg{Any,N} where N}} where A<:DenseArray where N where T, DenseArray} where N where T, DenseArray}} where #s662</b>, x::<b>Union{DenseArray{S,1}, Base.ReinterpretArray{S,1,S1,A} where S1 where A<:Union{SubArray{T,N,A,I,true} where I<:Union{Tuple{Vararg{Real,N} where N}, Tuple{AbstractUnitRange,Vararg{Any,N} where N}} where A<:DenseArray where N where T, DenseArray}, Base.ReshapedArray{S,1,A,MI} where MI<:Tuple{Vararg{Base.MultiplicativeInverses.SignedMultiplicativeInverse{Int64},N} where N} where A<:Union{Base.ReinterpretArray{T,N,S,A} where S where A<:Union{SubArray{T,N,A,I,true} where I<:Union{Tuple{Vararg{Real,N} where N}, Tuple{AbstractUnitRange,Vararg{Any,N} where N}} where A<:DenseArray where N where T, DenseArray} where N where T, SubArray{T,N,A,I,true} where I<:Union{Tuple{Vararg{Real,N} where N}, Tuple{AbstractUnitRange,Vararg{Any,N} where N}} where A<:DenseArray where N where T, DenseArray}, SubArray{S,1,A,I,L} where L where I<:Tuple{Vararg{Union{Int64, AbstractRange{Int64}, Base.AbstractCartesianIndex},N} where N} where A<:Union{Base.ReinterpretArray{T,N,S,A} where S where A<:Union{SubArray{T,N,A,I,true} where I<:Union{Tuple{Vararg{Real,N} where N}, Tuple{AbstractUnitRange,Vararg{Any,N} where N}} where A<:DenseArray where N where T, DenseArray} where N where T, Base.ReshapedArray{T,N,A,MI} where MI<:Tuple{Vararg{Base.MultiplicativeInverses.SignedMultiplicativeInverse{Int64},N} where N} where A<:Union{Base.ReinterpretArray{T,N,S,A} where S where A<:Union{SubArray{T,N,A,I,true} where I<:Union{Tuple{Vararg{Real,N} where N}, Tuple{AbstractUnitRange,Vararg{Any,N} where N}} where A<:DenseArray where N where T, DenseArray} where N where T, SubArray{T,N,A,I,true} where I<:Union{Tuple{Vararg{Real,N} where N}, Tuple{AbstractUnitRange,Vararg{Any,N} where N}} where A<:DenseArray where N where T, DenseArray} where N where T, DenseArray}}</b>)<i> where {T<:Union{Complex{Float32}, Complex{Float64}, Float32, Float64}, S}</i> in LinearAlgebra at <a href=\"file://D:/buildbot/worker/package_win64/build/usr/share/julia/stdlib/v1.4/LinearAlgebra/src/matmul.jl\" target=\"_blank\">C:\\Users\\chuan\\AppData\\Local\\Programs\\Julia\\Julia-1.4.0\\share\\julia\\stdlib\\v1.4\\LinearAlgebra\\src\\matmul.jl:85</a></li> <li> *(xformA::<b>LinearAlgebra.Transpose{#s662,#s661} where #s661<:LinearAlgebra.UpperTriangular where #s662</b>, B::<b>LinearAlgebra.LowerTriangular</b>) in LinearAlgebra at <a href=\"file://D:/buildbot/worker/package_win64/build/usr/share/julia/stdlib/v1.4/LinearAlgebra/src/triangular.jl\" target=\"_blank\">C:\\Users\\chuan\\AppData\\Local\\Programs\\Julia\\Julia-1.4.0\\share\\julia\\stdlib\\v1.4\\LinearAlgebra\\src\\triangular.jl:1813</a></li> <li> *(xformA::<b>LinearAlgebra.Transpose{#s660,#s659} where #s659<:LinearAlgebra.UnitUpperTriangular where #s660</b>, B::<b>LinearAlgebra.LowerTriangular</b>) in LinearAlgebra at <a href=\"file://D:/buildbot/worker/package_win64/build/usr/share/julia/stdlib/v1.4/LinearAlgebra/src/triangular.jl\" target=\"_blank\">C:\\Users\\chuan\\AppData\\Local\\Programs\\Julia\\Julia-1.4.0\\share\\julia\\stdlib\\v1.4\\LinearAlgebra\\src\\triangular.jl:1822</a></li> <li> *(xformA::<b>LinearAlgebra.Transpose{#s658,#s657} where #s657<:LinearAlgebra.LowerTriangular where #s658</b>, B::<b>LinearAlgebra.UpperTriangular</b>) in LinearAlgebra at <a href=\"file://D:/buildbot/worker/package_win64/build/usr/share/julia/stdlib/v1.4/LinearAlgebra/src/triangular.jl\" target=\"_blank\">C:\\Users\\chuan\\AppData\\Local\\Programs\\Julia\\Julia-1.4.0\\share\\julia\\stdlib\\v1.4\\LinearAlgebra\\src\\triangular.jl:1831</a></li> <li> *(xformA::<b>LinearAlgebra.Transpose{#s656,#s655} where #s655<:LinearAlgebra.UnitLowerTriangular where #s656</b>, B::<b>LinearAlgebra.UpperTriangular</b>) in LinearAlgebra at <a href=\"file://D:/buildbot/worker/package_win64/build/usr/share/julia/stdlib/v1.4/LinearAlgebra/src/triangular.jl\" target=\"_blank\">C:\\Users\\chuan\\AppData\\Local\\Programs\\Julia\\Julia-1.4.0\\share\\julia\\stdlib\\v1.4\\LinearAlgebra\\src\\triangular.jl:1840</a></li> <li> *(transA::<b>LinearAlgebra.Transpose{#s662,#s661} where #s661<:LinearAlgebra.AbstractTriangular where #s662</b>, B::<b>LinearAlgebra.AbstractTriangular</b>) in LinearAlgebra at <a href=\"file://D:/buildbot/worker/package_win64/build/usr/share/julia/stdlib/v1.4/LinearAlgebra/src/triangular.jl\" target=\"_blank\">C:\\Users\\chuan\\AppData\\Local\\Programs\\Julia\\Julia-1.4.0\\share\\julia\\stdlib\\v1.4\\LinearAlgebra\\src\\triangular.jl:1938</a></li> <li> *(A::<b>LinearAlgebra.Transpose{#s662,#s661} where #s661<:LinearAlgebra.AbstractTriangular where #s662</b>, B::<b>LinearAlgebra.Transpose{#s660,#s659} where #s659<:(AbstractArray{T,2} where T) where #s660</b>) in LinearAlgebra at <a href=\"file://D:/buildbot/worker/package_win64/build/usr/share/julia/stdlib/v1.4/LinearAlgebra/src/triangular.jl\" target=\"_blank\">C:\\Users\\chuan\\AppData\\Local\\Programs\\Julia\\Julia-1.4.0\\share\\julia\\stdlib\\v1.4\\LinearAlgebra\\src\\triangular.jl:2137</a></li> <li> *(A::<b>LinearAlgebra.Transpose{#s662,#s661} where #s661<:LinearAlgebra.AbstractTriangular where #s662</b>, B::<b>LinearAlgebra.Adjoint{#s660,#s659} where #s659<:LinearAlgebra.AbstractTriangular where #s660</b>) in LinearAlgebra at <a href=\"file://D:/buildbot/worker/package_win64/build/usr/share/julia/stdlib/v1.4/LinearAlgebra/src/triangular.jl\" target=\"_blank\">C:\\Users\\chuan\\AppData\\Local\\Programs\\Julia\\Julia-1.4.0\\share\\julia\\stdlib\\v1.4\\LinearAlgebra\\src\\triangular.jl:2640</a></li> <li> *(A::<b>LinearAlgebra.Transpose{#s662,#s661} where #s661<:LinearAlgebra.AbstractTriangular where #s662</b>, B::<b>LinearAlgebra.Adjoint{#s660,#s659} where #s659<:(Union{LinearAlgebra.Hermitian{Complex{T},S}, LinearAlgebra.Hermitian{T,S}, LinearAlgebra.Symmetric{T,S}} where S where T<:Real) where #s660</b>) in LinearAlgebra at <a href=\"file://D:/buildbot/worker/package_win64/build/usr/share/julia/stdlib/v1.4/LinearAlgebra/src/symmetric.jl\" target=\"_blank\">C:\\Users\\chuan\\AppData\\Local\\Programs\\Julia\\Julia-1.4.0\\share\\julia\\stdlib\\v1.4\\LinearAlgebra\\src\\symmetric.jl:1047</a></li> <li> *(A::<b>LinearAlgebra.Transpose{#s662,#s661} where #s661<:LinearAlgebra.AbstractTriangular where #s662</b>, B::<b>LinearAlgebra.Adjoint{#s660,#s659} where #s659<:(AbstractArray{T,1} where T) where #s660</b>) in LinearAlgebra at <a href=\"file://D:/buildbot/worker/package_win64/build/usr/share/julia/stdlib/v1.4/LinearAlgebra/src/triangular.jl\" target=\"_blank\">C:\\Users\\chuan\\AppData\\Local\\Programs\\Julia\\Julia-1.4.0\\share\\julia\\stdlib\\v1.4\\LinearAlgebra\\src\\triangular.jl:2646</a></li> <li> *(A::<b>LinearAlgebra.Transpose{#s662,#s661} where #s661<:LinearAlgebra.AbstractTriangular where #s662</b>, B::<b>LinearAlgebra.Adjoint{#s660,#s659} where #s659<:(AbstractArray{T,2} where T) where #s660</b>) in LinearAlgebra at <a href=\"file://D:/buildbot/worker/package_win64/build/usr/share/julia/stdlib/v1.4/LinearAlgebra/src/triangular.jl\" target=\"_blank\">C:\\Users\\chuan\\AppData\\Local\\Programs\\Julia\\Julia-1.4.0\\share\\julia\\stdlib\\v1.4\\LinearAlgebra\\src\\triangular.jl:2647</a></li> <li> *(A::<b>LinearAlgebra.Transpose{#s662,#s661} where #s661<:LinearAlgebra.AbstractTriangular where #s662</b>, D::<b>LinearAlgebra.Diagonal</b>) in LinearAlgebra at <a href=\"file://D:/buildbot/worker/package_win64/build/usr/share/julia/stdlib/v1.4/LinearAlgebra/src/diagonal.jl\" target=\"_blank\">C:\\Users\\chuan\\AppData\\Local\\Programs\\Julia\\Julia-1.4.0\\share\\julia\\stdlib\\v1.4\\LinearAlgebra\\src\\diagonal.jl:229</a></li> <li> *(A::<b>LinearAlgebra.Transpose{#s662,#s661} where #s661<:LinearAlgebra.AbstractTriangular where #s662</b>, B::<b>LinearAlgebra.Adjoint{#s660,#s659} where #s659<:LinearAlgebra.AbstractRotation where #s660</b>) in LinearAlgebra at <a href=\"file://D:/buildbot/worker/package_win64/build/usr/share/julia/stdlib/v1.4/LinearAlgebra/src/givens.jl\" target=\"_blank\">C:\\Users\\chuan\\AppData\\Local\\Programs\\Julia\\Julia-1.4.0\\share\\julia\\stdlib\\v1.4\\LinearAlgebra\\src\\givens.jl:395</a></li> <li> *(transA::<b>LinearAlgebra.Transpose{#s662,#s661} where #s661<:Union{DenseArray{Ta,2}, Base.ReinterpretArray{Ta,2,S,A} where S where A<:Union{SubArray{T,N,A,I,true} where I<:Union{Tuple{Vararg{Real,N} where N}, Tuple{AbstractUnitRange,Vararg{Any,N} where N}} where A<:DenseArray where N where T, DenseArray}, Base.ReshapedArray{Ta,2,A,MI} where MI<:Tuple{Vararg{Base.MultiplicativeInverses.SignedMultiplicativeInverse{Int64},N} where N} where A<:Union{Base.ReinterpretArray{T,N,S,A} where S where A<:Union{SubArray{T,N,A,I,true} where I<:Union{Tuple{Vararg{Real,N} where N}, Tuple{AbstractUnitRange,Vararg{Any,N} where N}} where A<:DenseArray where N where T, DenseArray} where N where T, SubArray{T,N,A,I,true} where I<:Union{Tuple{Vararg{Real,N} where N}, Tuple{AbstractUnitRange,Vararg{Any,N} where N}} where A<:DenseArray where N where T, DenseArray}, SubArray{Ta,2,A,I,L} where L where I<:Tuple{Vararg{Union{Int64, AbstractRange{Int64}, Base.AbstractCartesianIndex},N} where N} where A<:Union{Base.ReinterpretArray{T,N,S,A} where S where A<:Union{SubArray{T,N,A,I,true} where I<:Union{Tuple{Vararg{Real,N} where N}, Tuple{AbstractUnitRange,Vararg{Any,N} where N}} where A<:DenseArray where N where T, DenseArray} where N where T, Base.ReshapedArray{T,N,A,MI} where MI<:Tuple{Vararg{Base.MultiplicativeInverses.SignedMultiplicativeInverse{Int64},N} where N} where A<:Union{Base.ReinterpretArray{T,N,S,A} where S where A<:Union{SubArray{T,N,A,I,true} where I<:Union{Tuple{Vararg{Real,N} where N}, Tuple{AbstractUnitRange,Vararg{Any,N} where N}} where A<:DenseArray where N where T, DenseArray} where N where T, SubArray{T,N,A,I,true} where I<:Union{Tuple{Vararg{Real,N} where N}, Tuple{AbstractUnitRange,Vararg{Any,N} where N}} where A<:DenseArray where N where T, DenseArray} where N where T, DenseArray}, LinearAlgebra.LowerTriangular{Ta,S} where S<:AbstractArray{Ta,2}, LinearAlgebra.UnitLowerTriangular{Ta,S} where S<:AbstractArray{Ta,2}, LinearAlgebra.UnitUpperTriangular{Ta,S} where S<:AbstractArray{Ta,2}, LinearAlgebra.UpperTriangular{Ta,S} where S<:AbstractArray{Ta,2}} where #s662</b>, x::<b>SparseArrays.AbstractSparseArray{Tx,Ti,1} where Ti</b>)<i> where {Ta, Tx}</i> in SparseArrays at <a href=\"file://D:/buildbot/worker/package_win64/build/usr/share/julia/stdlib/v1.4/SparseArrays/src/sparsevector.jl\" target=\"_blank\">C:\\Users\\chuan\\AppData\\Local\\Programs\\Julia\\Julia-1.4.0\\share\\julia\\stdlib\\v1.4\\SparseArrays\\src\\sparsevector.jl:1534</a></li> <li> *(transA::<b>LinearAlgebra.Transpose{#s660,#s659} where #s659<:LinearAlgebra.AbstractTriangular where #s660</b>, B::<b>AbstractArray{T,1} where T</b>) in LinearAlgebra at <a href=\"file://D:/buildbot/worker/package_win64/build/usr/share/julia/stdlib/v1.4/LinearAlgebra/src/triangular.jl\" target=\"_blank\">C:\\Users\\chuan\\AppData\\Local\\Programs\\Julia\\Julia-1.4.0\\share\\julia\\stdlib\\v1.4\\LinearAlgebra\\src\\triangular.jl:1979</a></li> <li> *(transA::<b>LinearAlgebra.Transpose{#s662,#s661} where #s661<:(Union{LinearAlgebra.Hermitian{T,S}, LinearAlgebra.Symmetric{Complex{T},S}, LinearAlgebra.Symmetric{T,S}} where S where T<:Real) where #s662</b>, B::<b>LinearAlgebra.AbstractTriangular</b>) in LinearAlgebra at <a href=\"file://D:/buildbot/worker/package_win64/build/usr/share/julia/stdlib/v1.4/LinearAlgebra/src/symmetric.jl\" target=\"_blank\">C:\\Users\\chuan\\AppData\\Local\\Programs\\Julia\\Julia-1.4.0\\share\\julia\\stdlib\\v1.4\\LinearAlgebra\\src\\symmetric.jl:607</a></li> <li> *(v::<b>LinearAlgebra.Transpose{T,#s662} where #s662<:(AbstractArray{T,1} where T) where T</b>, A::<b>LinearAlgebra.AbstractTriangular</b>) in LinearAlgebra at <a href=\"file://D:/buildbot/worker/package_win64/build/usr/share/julia/stdlib/v1.4/LinearAlgebra/src/triangular.jl\" target=\"_blank\">C:\\Users\\chuan\\AppData\\Local\\Programs\\Julia\\Julia-1.4.0\\share\\julia\\stdlib\\v1.4\\LinearAlgebra\\src\\triangular.jl:2119</a></li> <li> *(A::<b>LinearAlgebra.Transpose{#s662,#s661} where #s661<:(Union{LinearAlgebra.Hermitian{T,S}, LinearAlgebra.Symmetric{Complex{T},S}, LinearAlgebra.Symmetric{T,S}} where S where T<:Real) where #s662</b>, B::<b>LinearAlgebra.Adjoint{#s660,#s659} where #s659<:LinearAlgebra.AbstractTriangular where #s660</b>) in LinearAlgebra at <a href=\"file://D:/buildbot/worker/package_win64/build/usr/share/julia/stdlib/v1.4/LinearAlgebra/src/symmetric.jl\" target=\"_blank\">C:\\Users\\chuan\\AppData\\Local\\Programs\\Julia\\Julia-1.4.0\\share\\julia\\stdlib\\v1.4\\LinearAlgebra\\src\\symmetric.jl:1051</a></li> <li> *(A::<b>LinearAlgebra.Transpose{#s662,#s661} where #s661<:(AbstractArray{T,1} where T) where #s662</b>, B::<b>LinearAlgebra.Adjoint{#s660,#s659} where #s659<:LinearAlgebra.AbstractTriangular where #s660</b>) in LinearAlgebra at <a href=\"file://D:/buildbot/worker/package_win64/build/usr/share/julia/stdlib/v1.4/LinearAlgebra/src/triangular.jl\" target=\"_blank\">C:\\Users\\chuan\\AppData\\Local\\Programs\\Julia\\Julia-1.4.0\\share\\julia\\stdlib\\v1.4\\LinearAlgebra\\src\\triangular.jl:2651</a></li> <li> *(A::<b>LinearAlgebra.Transpose{#s662,#s661} where #s661<:(Union{LinearAlgebra.Hermitian{T,S}, LinearAlgebra.Symmetric{Complex{T},S}, LinearAlgebra.Symmetric{T,S}} where S where T<:Real) where #s662</b>, B::<b>LinearAlgebra.Adjoint{#s660,#s659} where #s659<:(Union{LinearAlgebra.Hermitian{Complex{T},S}, LinearAlgebra.Hermitian{T,S}, LinearAlgebra.Symmetric{T,S}} where S where T<:Real) where #s660</b>) in LinearAlgebra at <a href=\"file://D:/buildbot/worker/package_win64/build/usr/share/julia/stdlib/v1.4/LinearAlgebra/src/symmetric.jl\" target=\"_blank\">C:\\Users\\chuan\\AppData\\Local\\Programs\\Julia\\Julia-1.4.0\\share\\julia\\stdlib\\v1.4\\LinearAlgebra\\src\\symmetric.jl:1024</a></li> <li> *(A::<b>LinearAlgebra.Transpose{#s662,#s661} where #s661<:(Union{LinearAlgebra.Hermitian{T,S}, LinearAlgebra.Symmetric{Complex{T},S}, LinearAlgebra.Symmetric{T,S}} where S where T<:Real) where #s662</b>, B::<b>LinearAlgebra.Adjoint{#s660,#s659} where #s659<:(AbstractArray{T,1} where T) where #s660</b>) in LinearAlgebra at <a href=\"file://D:/buildbot/worker/package_win64/build/usr/share/julia/stdlib/v1.4/LinearAlgebra/src/symmetric.jl\" target=\"_blank\">C:\\Users\\chuan\\AppData\\Local\\Programs\\Julia\\Julia-1.4.0\\share\\julia\\stdlib\\v1.4\\LinearAlgebra\\src\\symmetric.jl:1039</a></li> <li> *(A::<b>LinearAlgebra.Transpose{#s662,#s661} where #s661<:(Union{LinearAlgebra.Hermitian{T,S}, LinearAlgebra.Symmetric{Complex{T},S}, LinearAlgebra.Symmetric{T,S}} where S where T<:Real) where #s662</b>, B::<b>LinearAlgebra.Adjoint{#s660,#s659} where #s659<:(AbstractArray{T,2} where T) where #s660</b>) in LinearAlgebra at <a href=\"file://D:/buildbot/worker/package_win64/build/usr/share/julia/stdlib/v1.4/LinearAlgebra/src/symmetric.jl\" target=\"_blank\">C:\\Users\\chuan\\AppData\\Local\\Programs\\Julia\\Julia-1.4.0\\share\\julia\\stdlib\\v1.4\\LinearAlgebra\\src\\symmetric.jl:1040</a></li> <li> *(A::<b>LinearAlgebra.Transpose{#s662,#s661} where #s661<:(Union{LinearAlgebra.Hermitian{T,S}, LinearAlgebra.Symmetric{Complex{T},S}, LinearAlgebra.Symmetric{T,S}} where S where T<:Real) where #s662</b>, B::<b>LinearAlgebra.Transpose{#s660,#s659} where #s659<:(AbstractArray{T,2} where T) where #s660</b>) in LinearAlgebra at <a href=\"file://D:/buildbot/worker/package_win64/build/usr/share/julia/stdlib/v1.4/LinearAlgebra/src/symmetric.jl\" target=\"_blank\">C:\\Users\\chuan\\AppData\\Local\\Programs\\Julia\\Julia-1.4.0\\share\\julia\\stdlib\\v1.4\\LinearAlgebra\\src\\symmetric.jl:1042</a></li> <li> *(transA::<b>LinearAlgebra.Transpose{#s662,#s661} where #s661<:(Union{LinearAlgebra.Hermitian{T,S}, LinearAlgebra.Symmetric{Complex{T},S}, LinearAlgebra.Symmetric{T,S}} where S where T<:Real) where #s662</b>, B::<b>LinearAlgebra.Diagonal</b>) in LinearAlgebra at <a href=\"file://D:/buildbot/worker/package_win64/build/usr/share/julia/stdlib/v1.4/LinearAlgebra/src/diagonal.jl\" target=\"_blank\">C:\\Users\\chuan\\AppData\\Local\\Programs\\Julia\\Julia-1.4.0\\share\\julia\\stdlib\\v1.4\\LinearAlgebra\\src\\diagonal.jl:367</a></li> <li> *(A::<b>LinearAlgebra.Transpose{#s662,#s661} where #s661<:(Union{LinearAlgebra.Hermitian{T,S}, LinearAlgebra.Symmetric{Complex{T},S}, LinearAlgebra.Symmetric{T,S}} where S where T<:Real) where #s662</b>, B::<b>LinearAlgebra.Adjoint{#s660,#s659} where #s659<:LinearAlgebra.AbstractRotation where #s660</b>) in LinearAlgebra at <a href=\"file://D:/buildbot/worker/package_win64/build/usr/share/julia/stdlib/v1.4/LinearAlgebra/src/givens.jl\" target=\"_blank\">C:\\Users\\chuan\\AppData\\Local\\Programs\\Julia\\Julia-1.4.0\\share\\julia\\stdlib\\v1.4\\LinearAlgebra\\src\\givens.jl:397</a></li> <li> *(transA::<b>LinearAlgebra.Transpose{#s662,#s661} where #s661<:(Union{LinearAlgebra.Hermitian{T,S}, LinearAlgebra.Symmetric{Complex{T},S}, LinearAlgebra.Symmetric{T,S}} where S where T<:Real) where #s662</b>, B::<b>AbstractArray{T,1} where T</b>) in LinearAlgebra at <a href=\"file://D:/buildbot/worker/package_win64/build/usr/share/julia/stdlib/v1.4/LinearAlgebra/src/symmetric.jl\" target=\"_blank\">C:\\Users\\chuan\\AppData\\Local\\Programs\\Julia\\Julia-1.4.0\\share\\julia\\stdlib\\v1.4\\LinearAlgebra\\src\\symmetric.jl:584</a></li> <li> *(A::<b>LinearAlgebra.Transpose{#s662,#s661} where #s661<:(AbstractArray{T,1} where T) where #s662</b>, B::<b>LinearAlgebra.Adjoint{#s660,#s659} where #s659<:(Union{LinearAlgebra.Hermitian{Complex{T},S}, LinearAlgebra.Hermitian{T,S}, LinearAlgebra.Symmetric{T,S}} where S where T<:Real) where #s660</b>) in LinearAlgebra at <a href=\"file://D:/buildbot/worker/package_win64/build/usr/share/julia/stdlib/v1.4/LinearAlgebra/src/symmetric.jl\" target=\"_blank\">C:\\Users\\chuan\\AppData\\Local\\Programs\\Julia\\Julia-1.4.0\\share\\julia\\stdlib\\v1.4\\LinearAlgebra\\src\\symmetric.jl:1030</a></li> <li> *(D::<b>LinearAlgebra.Transpose{#s662,#s661} where #s661<:LinearAlgebra.Diagonal where #s662</b>, B::<b>LinearAlgebra.Diagonal</b>) in LinearAlgebra at <a href=\"file://D:/buildbot/worker/package_win64/build/usr/share/julia/stdlib/v1.4/LinearAlgebra/src/diagonal.jl\" target=\"_blank\">C:\\Users\\chuan\\AppData\\Local\\Programs\\Julia\\Julia-1.4.0\\share\\julia\\stdlib\\v1.4\\LinearAlgebra\\src\\diagonal.jl:228</a></li> <li> *(x::<b>LinearAlgebra.Transpose{#s662,#s661} where #s661<:(AbstractArray{T,1} where T) where #s662</b>, D::<b>LinearAlgebra.Diagonal</b>) in LinearAlgebra at <a href=\"file://D:/buildbot/worker/package_win64/build/usr/share/julia/stdlib/v1.4/LinearAlgebra/src/diagonal.jl\" target=\"_blank\">C:\\Users\\chuan\\AppData\\Local\\Programs\\Julia\\Julia-1.4.0\\share\\julia\\stdlib\\v1.4\\LinearAlgebra\\src\\diagonal.jl:646</a></li> <li> *(x::<b>LinearAlgebra.Transpose{#s662,#s661} where #s661<:(AbstractArray{T,1} where T) where #s662</b>, D::<b>LinearAlgebra.Diagonal</b>, y::<b>AbstractArray{T,1} where T</b>) in LinearAlgebra at <a href=\"file://D:/buildbot/worker/package_win64/build/usr/share/julia/stdlib/v1.4/LinearAlgebra/src/diagonal.jl\" target=\"_blank\">C:\\Users\\chuan\\AppData\\Local\\Programs\\Julia\\Julia-1.4.0\\share\\julia\\stdlib\\v1.4\\LinearAlgebra\\src\\diagonal.jl:649</a></li> <li> *(A::<b>LinearAlgebra.Transpose{#s662,#s661} where #s661<:(AbstractArray{T,1} where T) where #s662</b>, B::<b>LinearAlgebra.Adjoint{#s660,#s659} where #s659<:LinearAlgebra.AbstractRotation where #s660</b>) in LinearAlgebra at <a href=\"file://D:/buildbot/worker/package_win64/build/usr/share/julia/stdlib/v1.4/LinearAlgebra/src/givens.jl\" target=\"_blank\">C:\\Users\\chuan\\AppData\\Local\\Programs\\Julia\\Julia-1.4.0\\share\\julia\\stdlib\\v1.4\\LinearAlgebra\\src\\givens.jl:391</a></li> <li> *(A::<b>LinearAlgebra.Transpose{#s662,#s661} where #s661<:SparseArrays.AbstractSparseMatrixCSC where #s662</b>, B::<b>SparseArrays.AbstractSparseMatrixCSC</b>) in SparseArrays at <a href=\"file://D:/buildbot/worker/package_win64/build/usr/share/julia/stdlib/v1.4/SparseArrays/src/linalg.jl\" target=\"_blank\">C:\\Users\\chuan\\AppData\\Local\\Programs\\Julia\\Julia-1.4.0\\share\\julia\\stdlib\\v1.4\\SparseArrays\\src\\linalg.jl:166</a></li> <li> *(transA::<b>LinearAlgebra.Transpose{#s662,#s661} where #s661<:SparseArrays.AbstractSparseMatrixCSC where #s662</b>, x::<b>SparseArrays.AbstractSparseArray{Tv,Ti,1} where Ti where Tv</b>) in SparseArrays at <a href=\"file://D:/buildbot/worker/package_win64/build/usr/share/julia/stdlib/v1.4/SparseArrays/src/sparsevector.jl\" target=\"_blank\">C:\\Users\\chuan\\AppData\\Local\\Programs\\Julia\\Julia-1.4.0\\share\\julia\\stdlib\\v1.4\\SparseArrays\\src\\sparsevector.jl:1728</a></li> <li> *(transA::<b>LinearAlgebra.Transpose{#s662,#s661} where #s661<:SparseArrays.AbstractSparseMatrixCSC where #s662</b>, x::<b>Union{DenseArray{Tx,1}, Base.ReinterpretArray{Tx,1,S,A} where S where A<:Union{SubArray{T,N,A,I,true} where I<:Union{Tuple{Vararg{Real,N} where N}, Tuple{AbstractUnitRange,Vararg{Any,N} where N}} where A<:DenseArray where N where T, DenseArray}, Base.ReshapedArray{Tx,1,A,MI} where MI<:Tuple{Vararg{Base.MultiplicativeInverses.SignedMultiplicativeInverse{Int64},N} where N} where A<:Union{Base.ReinterpretArray{T,N,S,A} where S where A<:Union{SubArray{T,N,A,I,true} where I<:Union{Tuple{Vararg{Real,N} where N}, Tuple{AbstractUnitRange,Vararg{Any,N} where N}} where A<:DenseArray where N where T, DenseArray} where N where T, SubArray{T,N,A,I,true} where I<:Union{Tuple{Vararg{Real,N} where N}, Tuple{AbstractUnitRange,Vararg{Any,N} where N}} where A<:DenseArray where N where T, DenseArray}, SubArray{Tx,1,A,I,L} where L where I<:Tuple{Vararg{Union{Int64, AbstractRange{Int64}, Base.AbstractCartesianIndex},N} where N} where A<:Union{Base.ReinterpretArray{T,N,S,A} where S where A<:Union{SubArray{T,N,A,I,true} where I<:Union{Tuple{Vararg{Real,N} where N}, Tuple{AbstractUnitRange,Vararg{Any,N} where N}} where A<:DenseArray where N where T, DenseArray} where N where T, Base.ReshapedArray{T,N,A,MI} where MI<:Tuple{Vararg{Base.MultiplicativeInverses.SignedMultiplicativeInverse{Int64},N} where N} where A<:Union{Base.ReinterpretArray{T,N,S,A} where S where A<:Union{SubArray{T,N,A,I,true} where I<:Union{Tuple{Vararg{Real,N} where N}, Tuple{AbstractUnitRange,Vararg{Any,N} where N}} where A<:DenseArray where N where T, DenseArray} where N where T, SubArray{T,N,A,I,true} where I<:Union{Tuple{Vararg{Real,N} where N}, Tuple{AbstractUnitRange,Vararg{Any,N} where N}} where A<:DenseArray where N where T, DenseArray} where N where T, DenseArray}}</b>)<i> where Tx</i> in SparseArrays at <a href=\"file://D:/buildbot/worker/package_win64/build/usr/share/julia/stdlib/v1.4/SparseArrays/src/linalg.jl\" target=\"_blank\">C:\\Users\\chuan\\AppData\\Local\\Programs\\Julia\\Julia-1.4.0\\share\\julia\\stdlib\\v1.4\\SparseArrays\\src\\linalg.jl:81</a></li> <li> *(u::<b>LinearAlgebra.Transpose{T,#s662} where #s662<:(AbstractArray{T,1} where T) where T</b>, v::<b>AbstractArray{T,1} where T</b>) in LinearAlgebra at <a href=\"file://D:/buildbot/worker/package_win64/build/usr/share/julia/stdlib/v1.4/LinearAlgebra/src/adjtrans.jl\" target=\"_blank\">C:\\Users\\chuan\\AppData\\Local\\Programs\\Julia\\Julia-1.4.0\\share\\julia\\stdlib\\v1.4\\LinearAlgebra\\src\\adjtrans.jl:248</a></li> <li> *(A::<b>Union{DenseArray{T,2}, Base.ReinterpretArray{T,2,S,A} where S where A<:Union{SubArray{T,N,A,I,true} where I<:Union{Tuple{Vararg{Real,N} where N}, Tuple{AbstractUnitRange,Vararg{Any,N} where N}} where A<:DenseArray where N where T, DenseArray}, Base.ReshapedArray{T,2,A,MI} where MI<:Tuple{Vararg{Base.MultiplicativeInverses.SignedMultiplicativeInverse{Int64},N} where N} where A<:Union{Base.ReinterpretArray{T,N,S,A} where S where A<:Union{SubArray{T,N,A,I,true} where I<:Union{Tuple{Vararg{Real,N} where N}, Tuple{AbstractUnitRange,Vararg{Any,N} where N}} where A<:DenseArray where N where T, DenseArray} where N where T, SubArray{T,N,A,I,true} where I<:Union{Tuple{Vararg{Real,N} where N}, Tuple{AbstractUnitRange,Vararg{Any,N} where N}} where A<:DenseArray where N where T, DenseArray}, SubArray{T,2,A,I,L} where L where I<:Tuple{Vararg{Union{Int64, AbstractRange{Int64}, Base.AbstractCartesianIndex},N} where N} where A<:Union{Base.ReinterpretArray{T,N,S,A} where S where A<:Union{SubArray{T,N,A,I,true} where I<:Union{Tuple{Vararg{Real,N} where N}, Tuple{AbstractUnitRange,Vararg{Any,N} where N}} where A<:DenseArray where N where T, DenseArray} where N where T, Base.ReshapedArray{T,N,A,MI} where MI<:Tuple{Vararg{Base.MultiplicativeInverses.SignedMultiplicativeInverse{Int64},N} where N} where A<:Union{Base.ReinterpretArray{T,N,S,A} where S where A<:Union{SubArray{T,N,A,I,true} where I<:Union{Tuple{Vararg{Real,N} where N}, Tuple{AbstractUnitRange,Vararg{Any,N} where N}} where A<:DenseArray where N where T, DenseArray} where N where T, SubArray{T,N,A,I,true} where I<:Union{Tuple{Vararg{Real,N} where N}, Tuple{AbstractUnitRange,Vararg{Any,N} where N}} where A<:DenseArray where N where T, DenseArray} where N where T, DenseArray}}</b>, x::<b>Union{DenseArray{S,1}, Base.ReinterpretArray{S,1,S1,A} where S1 where A<:Union{SubArray{T,N,A,I,true} where I<:Union{Tuple{Vararg{Real,N} where N}, Tuple{AbstractUnitRange,Vararg{Any,N} where N}} where A<:DenseArray where N where T, DenseArray}, Base.ReshapedArray{S,1,A,MI} where MI<:Tuple{Vararg{Base.MultiplicativeInverses.SignedMultiplicativeInverse{Int64},N} where N} where A<:Union{Base.ReinterpretArray{T,N,S,A} where S where A<:Union{SubArray{T,N,A,I,true} where I<:Union{Tuple{Vararg{Real,N} where N}, Tuple{AbstractUnitRange,Vararg{Any,N} where N}} where A<:DenseArray where N where T, DenseArray} where N where T, SubArray{T,N,A,I,true} where I<:Union{Tuple{Vararg{Real,N} where N}, Tuple{AbstractUnitRange,Vararg{Any,N} where N}} where A<:DenseArray where N where T, DenseArray}, SubArray{S,1,A,I,L} where L where I<:Tuple{Vararg{Union{Int64, AbstractRange{Int64}, Base.AbstractCartesianIndex},N} where N} where A<:Union{Base.ReinterpretArray{T,N,S,A} where S where A<:Union{SubArray{T,N,A,I,true} where I<:Union{Tuple{Vararg{Real,N} where N}, Tuple{AbstractUnitRange,Vararg{Any,N} where N}} where A<:DenseArray where N where T, DenseArray} where N where T, Base.ReshapedArray{T,N,A,MI} where MI<:Tuple{Vararg{Base.MultiplicativeInverses.SignedMultiplicativeInverse{Int64},N} where N} where A<:Union{Base.ReinterpretArray{T,N,S,A} where S where A<:Union{SubArray{T,N,A,I,true} where I<:Union{Tuple{Vararg{Real,N} where N}, Tuple{AbstractUnitRange,Vararg{Any,N} where N}} where A<:DenseArray where N where T, DenseArray} where N where T, SubArray{T,N,A,I,true} where I<:Union{Tuple{Vararg{Real,N} where N}, Tuple{AbstractUnitRange,Vararg{Any,N} where N}} where A<:DenseArray where N where T, DenseArray} where N where T, DenseArray}}</b>)<i> where {T<:Union{Complex{Float32}, Complex{Float64}, Float32, Float64}, S<:Real}</i> in LinearAlgebra at <a href=\"file://D:/buildbot/worker/package_win64/build/usr/share/julia/stdlib/v1.4/LinearAlgebra/src/matmul.jl\" target=\"_blank\">C:\\Users\\chuan\\AppData\\Local\\Programs\\Julia\\Julia-1.4.0\\share\\julia\\stdlib\\v1.4\\LinearAlgebra\\src\\matmul.jl:45</a></li> <li> *(transA::<b>LinearAlgebra.Transpose{#s662,#s661} where #s661<:AbstractArray{T,2} where #s662</b>, x::<b>AbstractArray{S,1}</b>)<i> where {T, S}</i> in LinearAlgebra at <a href=\"file://D:/buildbot/worker/package_win64/build/usr/share/julia/stdlib/v1.4/LinearAlgebra/src/matmul.jl\" target=\"_blank\">C:\\Users\\chuan\\AppData\\Local\\Programs\\Julia\\Julia-1.4.0\\share\\julia\\stdlib\\v1.4\\LinearAlgebra\\src\\matmul.jl:90</a></li> <li> *(adjA::<b>LinearAlgebra.Adjoint{#s662,#s661} where #s661<:AbstractArray{T,2} where #s662</b>, x::<b>AbstractArray{S,1}</b>)<i> where {T, S}</i> in LinearAlgebra at <a href=\"file://D:/buildbot/worker/package_win64/build/usr/share/julia/stdlib/v1.4/LinearAlgebra/src/matmul.jl\" target=\"_blank\">C:\\Users\\chuan\\AppData\\Local\\Programs\\Julia\\Julia-1.4.0\\share\\julia\\stdlib\\v1.4\\LinearAlgebra\\src\\matmul.jl:111</a></li> <li> *(adjA::<b>LinearAlgebra.Adjoint{#s662,#s661} where #s661<:LinearAlgebra.AbstractTriangular where #s662</b>, B::<b>AbstractArray{T,2} where T</b>) in LinearAlgebra at <a href=\"file://D:/buildbot/worker/package_win64/build/usr/share/julia/stdlib/v1.4/LinearAlgebra/src/triangular.jl\" target=\"_blank\">C:\\Users\\chuan\\AppData\\Local\\Programs\\Julia\\Julia-1.4.0\\share\\julia\\stdlib\\v1.4\\LinearAlgebra\\src\\triangular.jl:1971</a></li> <li> *(adjA::<b>LinearAlgebra.Adjoint{#s662,#s661} where #s661<:(Union{LinearAlgebra.Hermitian{Complex{T},S}, LinearAlgebra.Hermitian{T,S}, LinearAlgebra.Symmetric{T,S}} where S where T<:Real) where #s662</b>, B::<b>AbstractArray{T,2} where T</b>) in LinearAlgebra at <a href=\"file://D:/buildbot/worker/package_win64/build/usr/share/julia/stdlib/v1.4/LinearAlgebra/src/symmetric.jl\" target=\"_blank\">C:\\Users\\chuan\\AppData\\Local\\Programs\\Julia\\Julia-1.4.0\\share\\julia\\stdlib\\v1.4\\LinearAlgebra\\src\\symmetric.jl:589</a></li> <li> *(x::<b>LinearAlgebra.Adjoint{T,#s662} where #s662<:(AbstractArray{T,1} where T) where T</b>, A::<b>AbstractArray{T,2} where T</b>) in LinearAlgebra at <a href=\"file://D:/buildbot/worker/package_win64/build/usr/share/julia/stdlib/v1.4/LinearAlgebra/src/matmul.jl\" target=\"_blank\">C:\\Users\\chuan\\AppData\\Local\\Programs\\Julia\\Julia-1.4.0\\share\\julia\\stdlib\\v1.4\\LinearAlgebra\\src\\matmul.jl:133</a></li> <li> *(transA::<b>LinearAlgebra.Transpose{#s660,#s659} where #s659<:LinearAlgebra.AbstractTriangular where #s660</b>, B::<b>AbstractArray{T,2} where T</b>) in LinearAlgebra at <a href=\"file://D:/buildbot/worker/package_win64/build/usr/share/julia/stdlib/v1.4/LinearAlgebra/src/triangular.jl\" target=\"_blank\">C:\\Users\\chuan\\AppData\\Local\\Programs\\Julia\\Julia-1.4.0\\share\\julia\\stdlib\\v1.4\\LinearAlgebra\\src\\triangular.jl:1979</a></li> <li> *(transA::<b>LinearAlgebra.Transpose{#s662,#s661} where #s661<:(Union{LinearAlgebra.Hermitian{T,S}, LinearAlgebra.Symmetric{Complex{T},S}, LinearAlgebra.Symmetric{T,S}} where S where T<:Real) where #s662</b>, B::<b>AbstractArray{T,2} where T</b>) in LinearAlgebra at <a href=\"file://D:/buildbot/worker/package_win64/build/usr/share/julia/stdlib/v1.4/LinearAlgebra/src/symmetric.jl\" target=\"_blank\">C:\\Users\\chuan\\AppData\\Local\\Programs\\Julia\\Julia-1.4.0\\share\\julia\\stdlib\\v1.4\\LinearAlgebra\\src\\symmetric.jl:585</a></li> <li> *(x::<b>LinearAlgebra.Transpose{T,#s662} where #s662<:(AbstractArray{T,1} where T) where T</b>, A::<b>AbstractArray{T,2} where T</b>) in LinearAlgebra at <a href=\"file://D:/buildbot/worker/package_win64/build/usr/share/julia/stdlib/v1.4/LinearAlgebra/src/matmul.jl\" target=\"_blank\">C:\\Users\\chuan\\AppData\\Local\\Programs\\Julia\\Julia-1.4.0\\share\\julia\\stdlib\\v1.4\\LinearAlgebra\\src\\matmul.jl:134</a></li> <li> *(A::<b>Union{DenseArray{#s662,2}, Base.ReinterpretArray{#s662,2,S,A} where S where A<:Union{SubArray{T,N,A,I,true} where I<:Union{Tuple{Vararg{Real,N} where N}, Tuple{AbstractUnitRange,Vararg{Any,N} where N}} where A<:DenseArray where N where T, DenseArray}, Base.ReshapedArray{#s662,2,A,MI} where MI<:Tuple{Vararg{Base.MultiplicativeInverses.SignedMultiplicativeInverse{Int64},N} where N} where A<:Union{Base.ReinterpretArray{T,N,S,A} where S where A<:Union{SubArray{T,N,A,I,true} where I<:Union{Tuple{Vararg{Real,N} where N}, Tuple{AbstractUnitRange,Vararg{Any,N} where N}} where A<:DenseArray where N where T, DenseArray} where N where T, SubArray{T,N,A,I,true} where I<:Union{Tuple{Vararg{Real,N} where N}, Tuple{AbstractUnitRange,Vararg{Any,N} where N}} where A<:DenseArray where N where T, DenseArray}, SubArray{#s662,2,A,I,L} where L where I<:Tuple{Vararg{Union{Int64, AbstractRange{Int64}, Base.AbstractCartesianIndex},N} where N} where A<:Union{Base.ReinterpretArray{T,N,S,A} where S where A<:Union{SubArray{T,N,A,I,true} where I<:Union{Tuple{Vararg{Real,N} where N}, Tuple{AbstractUnitRange,Vararg{Any,N} where N}} where A<:DenseArray where N where T, DenseArray} where N where T, Base.ReshapedArray{T,N,A,MI} where MI<:Tuple{Vararg{Base.MultiplicativeInverses.SignedMultiplicativeInverse{Int64},N} where N} where A<:Union{Base.ReinterpretArray{T,N,S,A} where S where A<:Union{SubArray{T,N,A,I,true} where I<:Union{Tuple{Vararg{Real,N} where N}, Tuple{AbstractUnitRange,Vararg{Any,N} where N}} where A<:DenseArray where N where T, DenseArray} where N where T, SubArray{T,N,A,I,true} where I<:Union{Tuple{Vararg{Real,N} where N}, Tuple{AbstractUnitRange,Vararg{Any,N} where N}} where A<:DenseArray where N where T, DenseArray} where N where T, DenseArray}} where #s662<:Union{Float32, Float64}</b>, B::<b>Union{DenseArray{#s661,2}, Base.ReinterpretArray{#s661,2,S,A} where S where A<:Union{SubArray{T,N,A,I,true} where I<:Union{Tuple{Vararg{Real,N} where N}, Tuple{AbstractUnitRange,Vararg{Any,N} where N}} where A<:DenseArray where N where T, DenseArray}, Base.ReshapedArray{#s661,2,A,MI} where MI<:Tuple{Vararg{Base.MultiplicativeInverses.SignedMultiplicativeInverse{Int64},N} where N} where A<:Union{Base.ReinterpretArray{T,N,S,A} where S where A<:Union{SubArray{T,N,A,I,true} where I<:Union{Tuple{Vararg{Real,N} where N}, Tuple{AbstractUnitRange,Vararg{Any,N} where N}} where A<:DenseArray where N where T, DenseArray} where N where T, SubArray{T,N,A,I,true} where I<:Union{Tuple{Vararg{Real,N} where N}, Tuple{AbstractUnitRange,Vararg{Any,N} where N}} where A<:DenseArray where N where T, DenseArray}, SubArray{#s661,2,A,I,L} where L where I<:Tuple{Vararg{Union{Int64, AbstractRange{Int64}, Base.AbstractCartesianIndex},N} where N} where A<:Union{Base.ReinterpretArray{T,N,S,A} where S where A<:Union{SubArray{T,N,A,I,true} where I<:Union{Tuple{Vararg{Real,N} where N}, Tuple{AbstractUnitRange,Vararg{Any,N} where N}} where A<:DenseArray where N where T, DenseArray} where N where T, Base.ReshapedArray{T,N,A,MI} where MI<:Tuple{Vararg{Base.MultiplicativeInverses.SignedMultiplicativeInverse{Int64},N} where N} where A<:Union{Base.ReinterpretArray{T,N,S,A} where S where A<:Union{SubArray{T,N,A,I,true} where I<:Union{Tuple{Vararg{Real,N} where N}, Tuple{AbstractUnitRange,Vararg{Any,N} where N}} where A<:DenseArray where N where T, DenseArray} where N where T, SubArray{T,N,A,I,true} where I<:Union{Tuple{Vararg{Real,N} where N}, Tuple{AbstractUnitRange,Vararg{Any,N} where N}} where A<:DenseArray where N where T, DenseArray} where N where T, DenseArray}} where #s661<:Union{Complex{Float32}, Complex{Float64}, Float32, Float64}</b>) in LinearAlgebra at <a href=\"file://D:/buildbot/worker/package_win64/build/usr/share/julia/stdlib/v1.4/LinearAlgebra/src/matmul.jl\" target=\"_blank\">C:\\Users\\chuan\\AppData\\Local\\Programs\\Julia\\Julia-1.4.0\\share\\julia\\stdlib\\v1.4\\LinearAlgebra\\src\\matmul.jl:159</a></li> <li> *(A::<b>Union{DenseArray{#s662,2}, Base.ReinterpretArray{#s662,2,S,A} where S where A<:Union{SubArray{T,N,A,I,true} where I<:Union{Tuple{Vararg{Real,N} where N}, Tuple{AbstractUnitRange,Vararg{Any,N} where N}} where A<:DenseArray where N where T, DenseArray}, Base.ReshapedArray{#s662,2,A,MI} where MI<:Tuple{Vararg{Base.MultiplicativeInverses.SignedMultiplicativeInverse{Int64},N} where N} where A<:Union{Base.ReinterpretArray{T,N,S,A} where S where A<:Union{SubArray{T,N,A,I,true} where I<:Union{Tuple{Vararg{Real,N} where N}, Tuple{AbstractUnitRange,Vararg{Any,N} where N}} where A<:DenseArray where N where T, DenseArray} where N where T, SubArray{T,N,A,I,true} where I<:Union{Tuple{Vararg{Real,N} where N}, Tuple{AbstractUnitRange,Vararg{Any,N} where N}} where A<:DenseArray where N where T, DenseArray}, SubArray{#s662,2,A,I,L} where L where I<:Tuple{Vararg{Union{Int64, AbstractRange{Int64}, Base.AbstractCartesianIndex},N} where N} where A<:Union{Base.ReinterpretArray{T,N,S,A} where S where A<:Union{SubArray{T,N,A,I,true} where I<:Union{Tuple{Vararg{Real,N} where N}, Tuple{AbstractUnitRange,Vararg{Any,N} where N}} where A<:DenseArray where N where T, DenseArray} where N where T, Base.ReshapedArray{T,N,A,MI} where MI<:Tuple{Vararg{Base.MultiplicativeInverses.SignedMultiplicativeInverse{Int64},N} where N} where A<:Union{Base.ReinterpretArray{T,N,S,A} where S where A<:Union{SubArray{T,N,A,I,true} where I<:Union{Tuple{Vararg{Real,N} where N}, Tuple{AbstractUnitRange,Vararg{Any,N} where N}} where A<:DenseArray where N where T, DenseArray} where N where T, SubArray{T,N,A,I,true} where I<:Union{Tuple{Vararg{Real,N} where N}, Tuple{AbstractUnitRange,Vararg{Any,N} where N}} where A<:DenseArray where N where T, DenseArray} where N where T, DenseArray}} where #s662<:Union{Complex{Float32}, Complex{Float64}}</b>, B::<b>Union{DenseArray{#s661,2}, Base.ReinterpretArray{#s661,2,S,A} where S where A<:Union{SubArray{T,N,A,I,true} where I<:Union{Tuple{Vararg{Real,N} where N}, Tuple{AbstractUnitRange,Vararg{Any,N} where N}} where A<:DenseArray where N where T, DenseArray}, Base.ReshapedArray{#s661,2,A,MI} where MI<:Tuple{Vararg{Base.MultiplicativeInverses.SignedMultiplicativeInverse{Int64},N} where N} where A<:Union{Base.ReinterpretArray{T,N,S,A} where S where A<:Union{SubArray{T,N,A,I,true} where I<:Union{Tuple{Vararg{Real,N} where N}, Tuple{AbstractUnitRange,Vararg{Any,N} where N}} where A<:DenseArray where N where T, DenseArray} where N where T, SubArray{T,N,A,I,true} where I<:Union{Tuple{Vararg{Real,N} where N}, Tuple{AbstractUnitRange,Vararg{Any,N} where N}} where A<:DenseArray where N where T, DenseArray}, SubArray{#s661,2,A,I,L} where L where I<:Tuple{Vararg{Union{Int64, AbstractRange{Int64}, Base.AbstractCartesianIndex},N} where N} where A<:Union{Base.ReinterpretArray{T,N,S,A} where S where A<:Union{SubArray{T,N,A,I,true} where I<:Union{Tuple{Vararg{Real,N} where N}, Tuple{AbstractUnitRange,Vararg{Any,N} where N}} where A<:DenseArray where N where T, DenseArray} where N where T, Base.ReshapedArray{T,N,A,MI} where MI<:Tuple{Vararg{Base.MultiplicativeInverses.SignedMultiplicativeInverse{Int64},N} where N} where A<:Union{Base.ReinterpretArray{T,N,S,A} where S where A<:Union{SubArray{T,N,A,I,true} where I<:Union{Tuple{Vararg{Real,N} where N}, Tuple{AbstractUnitRange,Vararg{Any,N} where N}} where A<:DenseArray where N where T, DenseArray} where N where T, SubArray{T,N,A,I,true} where I<:Union{Tuple{Vararg{Real,N} where N}, Tuple{AbstractUnitRange,Vararg{Any,N} where N}} where A<:DenseArray where N where T, DenseArray} where N where T, DenseArray}} where #s661<:Union{Complex{Float32}, Complex{Float64}}</b>) in LinearAlgebra at <a href=\"file://D:/buildbot/worker/package_win64/build/usr/share/julia/stdlib/v1.4/LinearAlgebra/src/matmul.jl\" target=\"_blank\">C:\\Users\\chuan\\AppData\\Local\\Programs\\Julia\\Julia-1.4.0\\share\\julia\\stdlib\\v1.4\\LinearAlgebra\\src\\matmul.jl:163</a></li> <li> *(A::<b>LinearAlgebra.SymTridiagonal</b>, B::<b>Number</b>) in LinearAlgebra at <a href=\"file://D:/buildbot/worker/package_win64/build/usr/share/julia/stdlib/v1.4/LinearAlgebra/src/tridiag.jl\" target=\"_blank\">C:\\Users\\chuan\\AppData\\Local\\Programs\\Julia\\Julia-1.4.0\\share\\julia\\stdlib\\v1.4\\LinearAlgebra\\src\\tridiag.jl:160</a></li> <li> *(A::<b>LinearAlgebra.Tridiagonal</b>, B::<b>Number</b>) in LinearAlgebra at <a href=\"file://D:/buildbot/worker/package_win64/build/usr/share/julia/stdlib/v1.4/LinearAlgebra/src/tridiag.jl\" target=\"_blank\">C:\\Users\\chuan\\AppData\\Local\\Programs\\Julia\\Julia-1.4.0\\share\\julia\\stdlib\\v1.4\\LinearAlgebra\\src\\tridiag.jl:659</a></li> <li> *(A::<b>LinearAlgebra.UpperTriangular</b>, x::<b>Number</b>) in LinearAlgebra at <a href=\"file://D:/buildbot/worker/package_win64/build/usr/share/julia/stdlib/v1.4/LinearAlgebra/src/triangular.jl\" target=\"_blank\">C:\\Users\\chuan\\AppData\\Local\\Programs\\Julia\\Julia-1.4.0\\share\\julia\\stdlib\\v1.4\\LinearAlgebra\\src\\triangular.jl:837</a></li> <li> *(A::<b>LinearAlgebra.UnitUpperTriangular</b>, x::<b>Number</b>) in LinearAlgebra at <a href=\"file://D:/buildbot/worker/package_win64/build/usr/share/julia/stdlib/v1.4/LinearAlgebra/src/triangular.jl\" target=\"_blank\">C:\\Users\\chuan\\AppData\\Local\\Programs\\Julia\\Julia-1.4.0\\share\\julia\\stdlib\\v1.4\\LinearAlgebra\\src\\triangular.jl:840</a></li> <li> *(A::<b>LinearAlgebra.LowerTriangular</b>, x::<b>Number</b>) in LinearAlgebra at <a href=\"file://D:/buildbot/worker/package_win64/build/usr/share/julia/stdlib/v1.4/LinearAlgebra/src/triangular.jl\" target=\"_blank\">C:\\Users\\chuan\\AppData\\Local\\Programs\\Julia\\Julia-1.4.0\\share\\julia\\stdlib\\v1.4\\LinearAlgebra\\src\\triangular.jl:837</a></li> <li> *(A::<b>LinearAlgebra.UnitLowerTriangular</b>, x::<b>Number</b>) in LinearAlgebra at <a href=\"file://D:/buildbot/worker/package_win64/build/usr/share/julia/stdlib/v1.4/LinearAlgebra/src/triangular.jl\" target=\"_blank\">C:\\Users\\chuan\\AppData\\Local\\Programs\\Julia\\Julia-1.4.0\\share\\julia\\stdlib\\v1.4\\LinearAlgebra\\src\\triangular.jl:840</a></li> <li> *(A::<b>LinearAlgebra.LowerTriangular</b>, B::<b>LinearAlgebra.LowerTriangular</b>) in LinearAlgebra at <a href=\"file://D:/buildbot/worker/package_win64/build/usr/share/julia/stdlib/v1.4/LinearAlgebra/src/triangular.jl\" target=\"_blank\">C:\\Users\\chuan\\AppData\\Local\\Programs\\Julia\\Julia-1.4.0\\share\\julia\\stdlib\\v1.4\\LinearAlgebra\\src\\triangular.jl:1773</a></li> <li> *(A::<b>LinearAlgebra.UnitLowerTriangular</b>, B::<b>LinearAlgebra.LowerTriangular</b>) in LinearAlgebra at <a href=\"file://D:/buildbot/worker/package_win64/build/usr/share/julia/stdlib/v1.4/LinearAlgebra/src/triangular.jl\" target=\"_blank\">C:\\Users\\chuan\\AppData\\Local\\Programs\\Julia\\Julia-1.4.0\\share\\julia\\stdlib\\v1.4\\LinearAlgebra\\src\\triangular.jl:1781</a></li> <li> *(A::<b>LinearAlgebra.UpperTriangular</b>, B::<b>LinearAlgebra.UpperTriangular</b>) in LinearAlgebra at <a href=\"file://D:/buildbot/worker/package_win64/build/usr/share/julia/stdlib/v1.4/LinearAlgebra/src/triangular.jl\" target=\"_blank\">C:\\Users\\chuan\\AppData\\Local\\Programs\\Julia\\Julia-1.4.0\\share\\julia\\stdlib\\v1.4\\LinearAlgebra\\src\\triangular.jl:1789</a></li> <li> *(A::<b>LinearAlgebra.UnitUpperTriangular</b>, B::<b>LinearAlgebra.UpperTriangular</b>) in LinearAlgebra at <a href=\"file://D:/buildbot/worker/package_win64/build/usr/share/julia/stdlib/v1.4/LinearAlgebra/src/triangular.jl\" target=\"_blank\">C:\\Users\\chuan\\AppData\\Local\\Programs\\Julia\\Julia-1.4.0\\share\\julia\\stdlib\\v1.4\\LinearAlgebra\\src\\triangular.jl:1797</a></li> <li> *(A::<b>LinearAlgebra.LowerTriangular</b>, xformB::<b>LinearAlgebra.Adjoint{#s662,#s661} where #s661<:LinearAlgebra.UpperTriangular where #s662</b>) in LinearAlgebra at <a href=\"file://D:/buildbot/worker/package_win64/build/usr/share/julia/stdlib/v1.4/LinearAlgebra/src/triangular.jl\" target=\"_blank\">C:\\Users\\chuan\\AppData\\Local\\Programs\\Julia\\Julia-1.4.0\\share\\julia\\stdlib\\v1.4\\LinearAlgebra\\src\\triangular.jl:1886</a></li> <li> *(A::<b>LinearAlgebra.LowerTriangular</b>, xformB::<b>LinearAlgebra.Adjoint{#s660,#s659} where #s659<:LinearAlgebra.UnitUpperTriangular where #s660</b>) in LinearAlgebra at <a href=\"file://D:/buildbot/worker/package_win64/build/usr/share/julia/stdlib/v1.4/LinearAlgebra/src/triangular.jl\" target=\"_blank\">C:\\Users\\chuan\\AppData\\Local\\Programs\\Julia\\Julia-1.4.0\\share\\julia\\stdlib\\v1.4\\LinearAlgebra\\src\\triangular.jl:1895</a></li> <li> *(A::<b>LinearAlgebra.UpperTriangular</b>, xformB::<b>LinearAlgebra.Adjoint{#s658,#s657} where #s657<:LinearAlgebra.LowerTriangular where #s658</b>) in LinearAlgebra at <a href=\"file://D:/buildbot/worker/package_win64/build/usr/share/julia/stdlib/v1.4/LinearAlgebra/src/triangular.jl\" target=\"_blank\">C:\\Users\\chuan\\AppData\\Local\\Programs\\Julia\\Julia-1.4.0\\share\\julia\\stdlib\\v1.4\\LinearAlgebra\\src\\triangular.jl:1904</a></li> <li> *(A::<b>LinearAlgebra.UpperTriangular</b>, xformB::<b>LinearAlgebra.Adjoint{#s656,#s655} where #s655<:LinearAlgebra.UnitLowerTriangular where #s656</b>) in LinearAlgebra at <a href=\"file://D:/buildbot/worker/package_win64/build/usr/share/julia/stdlib/v1.4/LinearAlgebra/src/triangular.jl\" target=\"_blank\">C:\\Users\\chuan\\AppData\\Local\\Programs\\Julia\\Julia-1.4.0\\share\\julia\\stdlib\\v1.4\\LinearAlgebra\\src\\triangular.jl:1913</a></li> <li> *(A::<b>LinearAlgebra.LowerTriangular</b>, xformB::<b>LinearAlgebra.Transpose{#s662,#s661} where #s661<:LinearAlgebra.UpperTriangular where #s662</b>) in LinearAlgebra at <a href=\"file://D:/buildbot/worker/package_win64/build/usr/share/julia/stdlib/v1.4/LinearAlgebra/src/triangular.jl\" target=\"_blank\">C:\\Users\\chuan\\AppData\\Local\\Programs\\Julia\\Julia-1.4.0\\share\\julia\\stdlib\\v1.4\\LinearAlgebra\\src\\triangular.jl:1886</a></li> <li> *(A::<b>LinearAlgebra.LowerTriangular</b>, xformB::<b>LinearAlgebra.Transpose{#s660,#s659} where #s659<:LinearAlgebra.UnitUpperTriangular where #s660</b>) in LinearAlgebra at <a href=\"file://D:/buildbot/worker/package_win64/build/usr/share/julia/stdlib/v1.4/LinearAlgebra/src/triangular.jl\" target=\"_blank\">C:\\Users\\chuan\\AppData\\Local\\Programs\\Julia\\Julia-1.4.0\\share\\julia\\stdlib\\v1.4\\LinearAlgebra\\src\\triangular.jl:1895</a></li> <li> *(A::<b>LinearAlgebra.UpperTriangular</b>, xformB::<b>LinearAlgebra.Transpose{#s658,#s657} where #s657<:LinearAlgebra.LowerTriangular where #s658</b>) in LinearAlgebra at <a href=\"file://D:/buildbot/worker/package_win64/build/usr/share/julia/stdlib/v1.4/LinearAlgebra/src/triangular.jl\" target=\"_blank\">C:\\Users\\chuan\\AppData\\Local\\Programs\\Julia\\Julia-1.4.0\\share\\julia\\stdlib\\v1.4\\LinearAlgebra\\src\\triangular.jl:1904</a></li> <li> *(A::<b>LinearAlgebra.UpperTriangular</b>, xformB::<b>LinearAlgebra.Transpose{#s656,#s655} where #s655<:LinearAlgebra.UnitLowerTriangular where #s656</b>) in LinearAlgebra at <a href=\"file://D:/buildbot/worker/package_win64/build/usr/share/julia/stdlib/v1.4/LinearAlgebra/src/triangular.jl\" target=\"_blank\">C:\\Users\\chuan\\AppData\\Local\\Programs\\Julia\\Julia-1.4.0\\share\\julia\\stdlib\\v1.4\\LinearAlgebra\\src\\triangular.jl:1913</a></li> <li> *(A::<b>LinearAlgebra.AbstractTriangular</b>, B::<b>LinearAlgebra.AbstractTriangular</b>) in LinearAlgebra at <a href=\"file://D:/buildbot/worker/package_win64/build/usr/share/julia/stdlib/v1.4/LinearAlgebra/src/triangular.jl\" target=\"_blank\">C:\\Users\\chuan\\AppData\\Local\\Programs\\Julia\\Julia-1.4.0\\share\\julia\\stdlib\\v1.4\\LinearAlgebra\\src\\triangular.jl:1925</a></li> <li> *(A::<b>LinearAlgebra.AbstractTriangular</b>, adjB::<b>LinearAlgebra.Adjoint{#s662,#s661} where #s661<:LinearAlgebra.AbstractTriangular where #s662</b>) in LinearAlgebra at <a href=\"file://D:/buildbot/worker/package_win64/build/usr/share/julia/stdlib/v1.4/LinearAlgebra/src/triangular.jl\" target=\"_blank\">C:\\Users\\chuan\\AppData\\Local\\Programs\\Julia\\Julia-1.4.0\\share\\julia\\stdlib\\v1.4\\LinearAlgebra\\src\\triangular.jl:1946</a></li> <li> *(A::<b>LinearAlgebra.AbstractTriangular</b>, transB::<b>LinearAlgebra.Transpose{#s662,#s661} where #s661<:LinearAlgebra.AbstractTriangular where #s662</b>) in LinearAlgebra at <a href=\"file://D:/buildbot/worker/package_win64/build/usr/share/julia/stdlib/v1.4/LinearAlgebra/src/triangular.jl\" target=\"_blank\">C:\\Users\\chuan\\AppData\\Local\\Programs\\Julia\\Julia-1.4.0\\share\\julia\\stdlib\\v1.4\\LinearAlgebra\\src\\triangular.jl:1953</a></li> <li> *(A::<b>LinearAlgebra.AbstractTriangular</b>, adjB::<b>LinearAlgebra.Adjoint{#s662,#s661} where #s661<:(Union{LinearAlgebra.Hermitian{Complex{T},S}, LinearAlgebra.Hermitian{T,S}, LinearAlgebra.Symmetric{T,S}} where S where T<:Real) where #s662</b>) in LinearAlgebra at <a href=\"file://D:/buildbot/worker/package_win64/build/usr/share/julia/stdlib/v1.4/LinearAlgebra/src/symmetric.jl\" target=\"_blank\">C:\\Users\\chuan\\AppData\\Local\\Programs\\Julia\\Julia-1.4.0\\share\\julia\\stdlib\\v1.4\\LinearAlgebra\\src\\symmetric.jl:610</a></li> <li> *(A::<b>LinearAlgebra.AbstractTriangular</b>, adjB::<b>LinearAlgebra.Adjoint{#s662,#s661} where #s661<:Union{LinearAlgebra.QRCompactWYQ, LinearAlgebra.QRPackedQ} where #s662</b>) in LinearAlgebra at <a href=\"file://D:/buildbot/worker/package_win64/build/usr/share/julia/stdlib/v1.4/LinearAlgebra/src/special.jl\" target=\"_blank\">C:\\Users\\chuan\\AppData\\Local\\Programs\\Julia\\Julia-1.4.0\\share\\julia\\stdlib\\v1.4\\LinearAlgebra\\src\\special.jl:296</a></li> <li> *(A::<b>LinearAlgebra.AbstractTriangular</b>, B::<b>LinearAlgebra.Adjoint{#s662,#s661} where #s661<:(AbstractArray{T,2} where T) where #s662</b>) in LinearAlgebra at <a href=\"file://D:/buildbot/worker/package_win64/build/usr/share/julia/stdlib/v1.4/LinearAlgebra/src/triangular.jl\" target=\"_blank\">C:\\Users\\chuan\\AppData\\Local\\Programs\\Julia\\Julia-1.4.0\\share\\julia\\stdlib\\v1.4\\LinearAlgebra\\src\\triangular.jl:2131</a></li> <li> *(A::<b>LinearAlgebra.AbstractTriangular</b>, transB::<b>LinearAlgebra.Transpose{#s662,#s661} where #s661<:(Union{LinearAlgebra.Hermitian{T,S}, LinearAlgebra.Symmetric{Complex{T},S}, LinearAlgebra.Symmetric{T,S}} where S where T<:Real) where #s662</b>) in LinearAlgebra at <a href=\"file://D:/buildbot/worker/package_win64/build/usr/share/julia/stdlib/v1.4/LinearAlgebra/src/symmetric.jl\" target=\"_blank\">C:\\Users\\chuan\\AppData\\Local\\Programs\\Julia\\Julia-1.4.0\\share\\julia\\stdlib\\v1.4\\LinearAlgebra\\src\\symmetric.jl:608</a></li> <li> *(A::<b>LinearAlgebra.AbstractTriangular</b>, B::<b>LinearAlgebra.Transpose{#s662,#s661} where #s661<:(AbstractArray{T,2} where T) where #s662</b>) in LinearAlgebra at <a href=\"file://D:/buildbot/worker/package_win64/build/usr/share/julia/stdlib/v1.4/LinearAlgebra/src/triangular.jl\" target=\"_blank\">C:\\Users\\chuan\\AppData\\Local\\Programs\\Julia\\Julia-1.4.0\\share\\julia\\stdlib\\v1.4\\LinearAlgebra\\src\\triangular.jl:2132</a></li> <li> *(A::<b>LinearAlgebra.AbstractTriangular</b>, B::<b>LinearAlgebra.Adjoint{#s662,#s661} where #s661<:(AbstractArray{T,1} where T) where #s662</b>) in LinearAlgebra at <a href=\"file://D:/buildbot/worker/package_win64/build/usr/share/julia/stdlib/v1.4/LinearAlgebra/src/triangular.jl\" target=\"_blank\">C:\\Users\\chuan\\AppData\\Local\\Programs\\Julia\\Julia-1.4.0\\share\\julia\\stdlib\\v1.4\\LinearAlgebra\\src\\triangular.jl:2636</a></li> <li> *(A::<b>LinearAlgebra.AbstractTriangular</b>, B::<b>LinearAlgebra.Transpose{#s662,#s661} where #s661<:(AbstractArray{T,1} where T) where #s662</b>) in LinearAlgebra at <a href=\"file://D:/buildbot/worker/package_win64/build/usr/share/julia/stdlib/v1.4/LinearAlgebra/src/triangular.jl\" target=\"_blank\">C:\\Users\\chuan\\AppData\\Local\\Programs\\Julia\\Julia-1.4.0\\share\\julia\\stdlib\\v1.4\\LinearAlgebra\\src\\triangular.jl:2637</a></li> <li> *(A::<b>LinearAlgebra.AbstractTriangular</b>, D::<b>LinearAlgebra.Diagonal</b>) in LinearAlgebra at <a href=\"file://D:/buildbot/worker/package_win64/build/usr/share/julia/stdlib/v1.4/LinearAlgebra/src/diagonal.jl\" target=\"_blank\">C:\\Users\\chuan\\AppData\\Local\\Programs\\Julia\\Julia-1.4.0\\share\\julia\\stdlib\\v1.4\\LinearAlgebra\\src\\diagonal.jl:165</a></li> <li> *(A::<b>LinearAlgebra.AbstractTriangular</b>, B::<b>Union{LinearAlgebra.SymTridiagonal, LinearAlgebra.Tridiagonal}</b>) in LinearAlgebra at <a href=\"file://D:/buildbot/worker/package_win64/build/usr/share/julia/stdlib/v1.4/LinearAlgebra/src/bidiag.jl\" target=\"_blank\">C:\\Users\\chuan\\AppData\\Local\\Programs\\Julia\\Julia-1.4.0\\share\\julia\\stdlib\\v1.4\\LinearAlgebra\\src\\bidiag.jl:585</a></li> <li> *(A::<b>Union{LinearAlgebra.UnitUpperTriangular, LinearAlgebra.UpperTriangular}</b>, B::<b>LinearAlgebra.Bidiagonal</b>) in LinearAlgebra at <a href=\"file://D:/buildbot/worker/package_win64/build/usr/share/julia/stdlib/v1.4/LinearAlgebra/src/bidiag.jl\" target=\"_blank\">C:\\Users\\chuan\\AppData\\Local\\Programs\\Julia\\Julia-1.4.0\\share\\julia\\stdlib\\v1.4\\LinearAlgebra\\src\\bidiag.jl:595</a></li> <li> *(A::<b>Union{LinearAlgebra.LowerTriangular, LinearAlgebra.UnitLowerTriangular}</b>, B::<b>LinearAlgebra.Bidiagonal</b>) in LinearAlgebra at <a href=\"file://D:/buildbot/worker/package_win64/build/usr/share/julia/stdlib/v1.4/LinearAlgebra/src/bidiag.jl\" target=\"_blank\">C:\\Users\\chuan\\AppData\\Local\\Programs\\Julia\\Julia-1.4.0\\share\\julia\\stdlib\\v1.4\\LinearAlgebra\\src\\bidiag.jl:613</a></li> <li> *(A::<b>LinearAlgebra.AbstractTriangular</b>, B::<b>LinearAlgebra.Adjoint{#s662,#s661} where #s661<:LinearAlgebra.AbstractRotation where #s662</b>) in LinearAlgebra at <a href=\"file://D:/buildbot/worker/package_win64/build/usr/share/julia/stdlib/v1.4/LinearAlgebra/src/givens.jl\" target=\"_blank\">C:\\Users\\chuan\\AppData\\Local\\Programs\\Julia\\Julia-1.4.0\\share\\julia\\stdlib\\v1.4\\LinearAlgebra\\src\\givens.jl:400</a></li> <li> *(A::<b>Union{DenseArray{Ta,2}, Base.ReinterpretArray{Ta,2,S,A} where S where A<:Union{SubArray{T,N,A,I,true} where I<:Union{Tuple{Vararg{Real,N} where N}, Tuple{AbstractUnitRange,Vararg{Any,N} where N}} where A<:DenseArray where N where T, DenseArray}, Base.ReshapedArray{Ta,2,A,MI} where MI<:Tuple{Vararg{Base.MultiplicativeInverses.SignedMultiplicativeInverse{Int64},N} where N} where A<:Union{Base.ReinterpretArray{T,N,S,A} where S where A<:Union{SubArray{T,N,A,I,true} where I<:Union{Tuple{Vararg{Real,N} where N}, Tuple{AbstractUnitRange,Vararg{Any,N} where N}} where A<:DenseArray where N where T, DenseArray} where N where T, SubArray{T,N,A,I,true} where I<:Union{Tuple{Vararg{Real,N} where N}, Tuple{AbstractUnitRange,Vararg{Any,N} where N}} where A<:DenseArray where N where T, DenseArray}, SubArray{Ta,2,A,I,L} where L where I<:Tuple{Vararg{Union{Int64, AbstractRange{Int64}, Base.AbstractCartesianIndex},N} where N} where A<:Union{Base.ReinterpretArray{T,N,S,A} where S where A<:Union{SubArray{T,N,A,I,true} where I<:Union{Tuple{Vararg{Real,N} where N}, Tuple{AbstractUnitRange,Vararg{Any,N} where N}} where A<:DenseArray where N where T, DenseArray} where N where T, Base.ReshapedArray{T,N,A,MI} where MI<:Tuple{Vararg{Base.MultiplicativeInverses.SignedMultiplicativeInverse{Int64},N} where N} where A<:Union{Base.ReinterpretArray{T,N,S,A} where S where A<:Union{SubArray{T,N,A,I,true} where I<:Union{Tuple{Vararg{Real,N} where N}, Tuple{AbstractUnitRange,Vararg{Any,N} where N}} where A<:DenseArray where N where T, DenseArray} where N where T, SubArray{T,N,A,I,true} where I<:Union{Tuple{Vararg{Real,N} where N}, Tuple{AbstractUnitRange,Vararg{Any,N} where N}} where A<:DenseArray where N where T, DenseArray} where N where T, DenseArray}, LinearAlgebra.LowerTriangular{Ta,S} where S<:AbstractArray{Ta,2}, LinearAlgebra.UnitLowerTriangular{Ta,S} where S<:AbstractArray{Ta,2}, LinearAlgebra.UnitUpperTriangular{Ta,S} where S<:AbstractArray{Ta,2}, LinearAlgebra.UpperTriangular{Ta,S} where S<:AbstractArray{Ta,2}}</b>, x::<b>SparseArrays.AbstractSparseArray{Tx,Ti,1} where Ti</b>)<i> where {Ta, Tx}</i> in SparseArrays at <a href=\"file://D:/buildbot/worker/package_win64/build/usr/share/julia/stdlib/v1.4/SparseArrays/src/sparsevector.jl\" target=\"_blank\">C:\\Users\\chuan\\AppData\\Local\\Programs\\Julia\\Julia-1.4.0\\share\\julia\\stdlib\\v1.4\\SparseArrays\\src\\sparsevector.jl:1495</a></li> <li> *(A::<b>LinearAlgebra.AbstractTriangular</b>, B::<b>AbstractArray{T,1} where T</b>) in LinearAlgebra at <a href=\"file://D:/buildbot/worker/package_win64/build/usr/share/julia/stdlib/v1.4/LinearAlgebra/src/triangular.jl\" target=\"_blank\">C:\\Users\\chuan\\AppData\\Local\\Programs\\Julia\\Julia-1.4.0\\share\\julia\\stdlib\\v1.4\\LinearAlgebra\\src\\triangular.jl:1964</a></li> <li> *(A::<b>LinearAlgebra.AbstractTriangular</b>, B::<b>AbstractArray{T,2} where T</b>) in LinearAlgebra at <a href=\"file://D:/buildbot/worker/package_win64/build/usr/share/julia/stdlib/v1.4/LinearAlgebra/src/triangular.jl\" target=\"_blank\">C:\\Users\\chuan\\AppData\\Local\\Programs\\Julia\\Julia-1.4.0\\share\\julia\\stdlib\\v1.4\\LinearAlgebra\\src\\triangular.jl:1964</a></li> <li> *(A::<b>LinearAlgebra.Adjoint{#s662,#s661} where #s661<:(AbstractArray{T,2} where T) where #s662</b>, B::<b>LinearAlgebra.AbstractTriangular</b>) in LinearAlgebra at <a href=\"file://D:/buildbot/worker/package_win64/build/usr/share/julia/stdlib/v1.4/LinearAlgebra/src/triangular.jl\" target=\"_blank\">C:\\Users\\chuan\\AppData\\Local\\Programs\\Julia\\Julia-1.4.0\\share\\julia\\stdlib\\v1.4\\LinearAlgebra\\src\\triangular.jl:2129</a></li> <li> *(A::<b>LinearAlgebra.Transpose{#s662,#s661} where #s661<:(AbstractArray{T,2} where T) where #s662</b>, B::<b>LinearAlgebra.AbstractTriangular</b>) in LinearAlgebra at <a href=\"file://D:/buildbot/worker/package_win64/build/usr/share/julia/stdlib/v1.4/LinearAlgebra/src/triangular.jl\" target=\"_blank\">C:\\Users\\chuan\\AppData\\Local\\Programs\\Julia\\Julia-1.4.0\\share\\julia\\stdlib\\v1.4\\LinearAlgebra\\src\\triangular.jl:2130</a></li> <li> *(A::<b>LinearAlgebra.Adjoint{#s662,#s661} where #s661<:(AbstractArray{T,2} where T) where #s662</b>, B::<b>LinearAlgebra.Adjoint{#s660,#s659} where #s659<:LinearAlgebra.AbstractTriangular where #s660</b>) in LinearAlgebra at <a href=\"file://D:/buildbot/worker/package_win64/build/usr/share/julia/stdlib/v1.4/LinearAlgebra/src/triangular.jl\" target=\"_blank\">C:\\Users\\chuan\\AppData\\Local\\Programs\\Julia\\Julia-1.4.0\\share\\julia\\stdlib\\v1.4\\LinearAlgebra\\src\\triangular.jl:2135</a></li> <li> *(A::<b>LinearAlgebra.Transpose{#s662,#s661} where #s661<:(AbstractArray{T,2} where T) where #s662</b>, B::<b>LinearAlgebra.Transpose{#s660,#s659} where #s659<:LinearAlgebra.AbstractTriangular where #s660</b>) in LinearAlgebra at <a href=\"file://D:/buildbot/worker/package_win64/build/usr/share/julia/stdlib/v1.4/LinearAlgebra/src/triangular.jl\" target=\"_blank\">C:\\Users\\chuan\\AppData\\Local\\Programs\\Julia\\Julia-1.4.0\\share\\julia\\stdlib\\v1.4\\LinearAlgebra\\src\\triangular.jl:2138</a></li> <li> *(A::<b>LinearAlgebra.Adjoint{#s662,#s661} where #s661<:(AbstractArray{T,2} where T) where #s662</b>, B::<b>LinearAlgebra.Transpose{#s660,#s659} where #s659<:LinearAlgebra.AbstractTriangular where #s660</b>) in LinearAlgebra at <a href=\"file://D:/buildbot/worker/package_win64/build/usr/share/julia/stdlib/v1.4/LinearAlgebra/src/triangular.jl\" target=\"_blank\">C:\\Users\\chuan\\AppData\\Local\\Programs\\Julia\\Julia-1.4.0\\share\\julia\\stdlib\\v1.4\\LinearAlgebra\\src\\triangular.jl:2650</a></li> <li> *(A::<b>LinearAlgebra.Transpose{#s662,#s661} where #s661<:(AbstractArray{T,2} where T) where #s662</b>, B::<b>LinearAlgebra.Adjoint{#s660,#s659} where #s659<:LinearAlgebra.AbstractTriangular where #s660</b>) in LinearAlgebra at <a href=\"file://D:/buildbot/worker/package_win64/build/usr/share/julia/stdlib/v1.4/LinearAlgebra/src/triangular.jl\" target=\"_blank\">C:\\Users\\chuan\\AppData\\Local\\Programs\\Julia\\Julia-1.4.0\\share\\julia\\stdlib\\v1.4\\LinearAlgebra\\src\\triangular.jl:2652</a></li> <li> *(A::<b>LinearAlgebra.AbstractQ</b>, b::<b>Union{DenseArray{T,1}, Base.ReinterpretArray{T,1,S,A} where S where A<:Union{SubArray{T,N,A,I,true} where I<:Union{Tuple{Vararg{Real,N} where N}, Tuple{AbstractUnitRange,Vararg{Any,N} where N}} where A<:DenseArray where N where T, DenseArray}, Base.ReshapedArray{T,1,A,MI} where MI<:Tuple{Vararg{Base.MultiplicativeInverses.SignedMultiplicativeInverse{Int64},N} where N} where A<:Union{Base.ReinterpretArray{T,N,S,A} where S where A<:Union{SubArray{T,N,A,I,true} where I<:Union{Tuple{Vararg{Real,N} where N}, Tuple{AbstractUnitRange,Vararg{Any,N} where N}} where A<:DenseArray where N where T, DenseArray} where N where T, SubArray{T,N,A,I,true} where I<:Union{Tuple{Vararg{Real,N} where N}, Tuple{AbstractUnitRange,Vararg{Any,N} where N}} where A<:DenseArray where N where T, DenseArray}, SubArray{T,1,A,I,L} where L where I<:Tuple{Vararg{Union{Int64, AbstractRange{Int64}, Base.AbstractCartesianIndex},N} where N} where A<:Union{Base.ReinterpretArray{T,N,S,A} where S where A<:Union{SubArray{T,N,A,I,true} where I<:Union{Tuple{Vararg{Real,N} where N}, Tuple{AbstractUnitRange,Vararg{Any,N} where N}} where A<:DenseArray where N where T, DenseArray} where N where T, Base.ReshapedArray{T,N,A,MI} where MI<:Tuple{Vararg{Base.MultiplicativeInverses.SignedMultiplicativeInverse{Int64},N} where N} where A<:Union{Base.ReinterpretArray{T,N,S,A} where S where A<:Union{SubArray{T,N,A,I,true} where I<:Union{Tuple{Vararg{Real,N} where N}, Tuple{AbstractUnitRange,Vararg{Any,N} where N}} where A<:DenseArray where N where T, DenseArray} where N where T, SubArray{T,N,A,I,true} where I<:Union{Tuple{Vararg{Real,N} where N}, Tuple{AbstractUnitRange,Vararg{Any,N} where N}} where A<:DenseArray where N where T, DenseArray} where N where T, DenseArray}} where T</b>) in LinearAlgebra at <a href=\"file://D:/buildbot/worker/package_win64/build/usr/share/julia/stdlib/v1.4/LinearAlgebra/src/qr.jl\" target=\"_blank\">C:\\Users\\chuan\\AppData\\Local\\Programs\\Julia\\Julia-1.4.0\\share\\julia\\stdlib\\v1.4\\LinearAlgebra\\src\\qr.jl:567</a></li> <li> *(A::<b>LinearAlgebra.AbstractQ</b>, B::<b>Union{DenseArray{T,2}, Base.ReinterpretArray{T,2,S,A} where S where A<:Union{SubArray{T,N,A,I,true} where I<:Union{Tuple{Vararg{Real,N} where N}, Tuple{AbstractUnitRange,Vararg{Any,N} where N}} where A<:DenseArray where N where T, DenseArray}, Base.ReshapedArray{T,2,A,MI} where MI<:Tuple{Vararg{Base.MultiplicativeInverses.SignedMultiplicativeInverse{Int64},N} where N} where A<:Union{Base.ReinterpretArray{T,N,S,A} where S where A<:Union{SubArray{T,N,A,I,true} where I<:Union{Tuple{Vararg{Real,N} where N}, Tuple{AbstractUnitRange,Vararg{Any,N} where N}} where A<:DenseArray where N where T, DenseArray} where N where T, SubArray{T,N,A,I,true} where I<:Union{Tuple{Vararg{Real,N} where N}, Tuple{AbstractUnitRange,Vararg{Any,N} where N}} where A<:DenseArray where N where T, DenseArray}, SubArray{T,2,A,I,L} where L where I<:Tuple{Vararg{Union{Int64, AbstractRange{Int64}, Base.AbstractCartesianIndex},N} where N} where A<:Union{Base.ReinterpretArray{T,N,S,A} where S where A<:Union{SubArray{T,N,A,I,true} where I<:Union{Tuple{Vararg{Real,N} where N}, Tuple{AbstractUnitRange,Vararg{Any,N} where N}} where A<:DenseArray where N where T, DenseArray} where N where T, Base.ReshapedArray{T,N,A,MI} where MI<:Tuple{Vararg{Base.MultiplicativeInverses.SignedMultiplicativeInverse{Int64},N} where N} where A<:Union{Base.ReinterpretArray{T,N,S,A} where S where A<:Union{SubArray{T,N,A,I,true} where I<:Union{Tuple{Vararg{Real,N} where N}, Tuple{AbstractUnitRange,Vararg{Any,N} where N}} where A<:DenseArray where N where T, DenseArray} where N where T, SubArray{T,N,A,I,true} where I<:Union{Tuple{Vararg{Real,N} where N}, Tuple{AbstractUnitRange,Vararg{Any,N} where N}} where A<:DenseArray where N where T, DenseArray} where N where T, DenseArray}} where T</b>) in LinearAlgebra at <a href=\"file://D:/buildbot/worker/package_win64/build/usr/share/julia/stdlib/v1.4/LinearAlgebra/src/qr.jl\" target=\"_blank\">C:\\Users\\chuan\\AppData\\Local\\Programs\\Julia\\Julia-1.4.0\\share\\julia\\stdlib\\v1.4\\LinearAlgebra\\src\\qr.jl:579</a></li> <li> *(Q::<b>LinearAlgebra.AbstractQ</b>, adjB::<b>LinearAlgebra.Adjoint{#s662,#s661} where #s661<:(Union{DenseArray{T,2}, DenseArray{T,1}, Base.ReinterpretArray{T,2,S,A} where S where A<:Union{SubArray{T,N,A,I,true} where I<:Union{Tuple{Vararg{Real,N} where N}, Tuple{AbstractUnitRange,Vararg{Any,N} where N}} where A<:DenseArray where N where T, DenseArray}, Base.ReinterpretArray{T,1,S,A} where S where A<:Union{SubArray{T,N,A,I,true} where I<:Union{Tuple{Vararg{Real,N} where N}, Tuple{AbstractUnitRange,Vararg{Any,N} where N}} where A<:DenseArray where N where T, DenseArray}, Base.ReshapedArray{T,2,A,MI} where MI<:Tuple{Vararg{Base.MultiplicativeInverses.SignedMultiplicativeInverse{Int64},N} where N} where A<:Union{Base.ReinterpretArray{T,N,S,A} where S where A<:Union{SubArray{T,N,A,I,true} where I<:Union{Tuple{Vararg{Real,N} where N}, Tuple{AbstractUnitRange,Vararg{Any,N} where N}} where A<:DenseArray where N where T, DenseArray} where N where T, SubArray{T,N,A,I,true} where I<:Union{Tuple{Vararg{Real,N} where N}, Tuple{AbstractUnitRange,Vararg{Any,N} where N}} where A<:DenseArray where N where T, DenseArray}, Base.ReshapedArray{T,1,A,MI} where MI<:Tuple{Vararg{Base.MultiplicativeInverses.SignedMultiplicativeInverse{Int64},N} where N} where A<:Union{Base.ReinterpretArray{T,N,S,A} where S where A<:Union{SubArray{T,N,A,I,true} where I<:Union{Tuple{Vararg{Real,N} where N}, Tuple{AbstractUnitRange,Vararg{Any,N} where N}} where A<:DenseArray where N where T, DenseArray} where N where T, SubArray{T,N,A,I,true} where I<:Union{Tuple{Vararg{Real,N} where N}, Tuple{AbstractUnitRange,Vararg{Any,N} where N}} where A<:DenseArray where N where T, DenseArray}, SubArray{T,2,A,I,L} where L where I<:Tuple{Vararg{Union{Int64, AbstractRange{Int64}, Base.AbstractCartesianIndex},N} where N} where A<:Union{Base.ReinterpretArray{T,N,S,A} where S where A<:Union{SubArray{T,N,A,I,true} where I<:Union{Tuple{Vararg{Real,N} where N}, Tuple{AbstractUnitRange,Vararg{Any,N} where N}} where A<:DenseArray where N where T, DenseArray} where N where T, Base.ReshapedArray{T,N,A,MI} where MI<:Tuple{Vararg{Base.MultiplicativeInverses.SignedMultiplicativeInverse{Int64},N} where N} where A<:Union{Base.ReinterpretArray{T,N,S,A} where S where A<:Union{SubArray{T,N,A,I,true} where I<:Union{Tuple{Vararg{Real,N} where N}, Tuple{AbstractUnitRange,Vararg{Any,N} where N}} where A<:DenseArray where N where T, DenseArray} where N where T, SubArray{T,N,A,I,true} where I<:Union{Tuple{Vararg{Real,N} where N}, Tuple{AbstractUnitRange,Vararg{Any,N} where N}} where A<:DenseArray where N where T, DenseArray} where N where T, DenseArray}, SubArray{T,1,A,I,L} where L where I<:Tuple{Vararg{Union{Int64, AbstractRange{Int64}, Base.AbstractCartesianIndex},N} where N} where A<:Union{Base.ReinterpretArray{T,N,S,A} where S where A<:Union{SubArray{T,N,A,I,true} where I<:Union{Tuple{Vararg{Real,N} where N}, Tuple{AbstractUnitRange,Vararg{Any,N} where N}} where A<:DenseArray where N where T, DenseArray} where N where T, Base.ReshapedArray{T,N,A,MI} where MI<:Tuple{Vararg{Base.MultiplicativeInverses.SignedMultiplicativeInverse{Int64},N} where N} where A<:Union{Base.ReinterpretArray{T,N,S,A} where S where A<:Union{SubArray{T,N,A,I,true} where I<:Union{Tuple{Vararg{Real,N} where N}, Tuple{AbstractUnitRange,Vararg{Any,N} where N}} where A<:DenseArray where N where T, DenseArray} where N where T, SubArray{T,N,A,I,true} where I<:Union{Tuple{Vararg{Real,N} where N}, Tuple{AbstractUnitRange,Vararg{Any,N} where N}} where A<:DenseArray where N where T, DenseArray} where N where T, DenseArray}} where T) where #s662</b>) in LinearAlgebra at <a href=\"file://D:/buildbot/worker/package_win64/build/usr/share/julia/stdlib/v1.4/LinearAlgebra/src/qr.jl\" target=\"_blank\">C:\\Users\\chuan\\AppData\\Local\\Programs\\Julia\\Julia-1.4.0\\share\\julia\\stdlib\\v1.4\\LinearAlgebra\\src\\qr.jl:634</a></li> <li> *(A::<b>Union{DenseArray{T,2}, Base.ReinterpretArray{T,2,S,A} where S where A<:Union{SubArray{T,N,A,I,true} where I<:Union{Tuple{Vararg{Real,N} where N}, Tuple{AbstractUnitRange,Vararg{Any,N} where N}} where A<:DenseArray where N where T, DenseArray}, Base.ReshapedArray{T,2,A,MI} where MI<:Tuple{Vararg{Base.MultiplicativeInverses.SignedMultiplicativeInverse{Int64},N} where N} where A<:Union{Base.ReinterpretArray{T,N,S,A} where S where A<:Union{SubArray{T,N,A,I,true} where I<:Union{Tuple{Vararg{Real,N} where N}, Tuple{AbstractUnitRange,Vararg{Any,N} where N}} where A<:DenseArray where N where T, DenseArray} where N where T, SubArray{T,N,A,I,true} where I<:Union{Tuple{Vararg{Real,N} where N}, Tuple{AbstractUnitRange,Vararg{Any,N} where N}} where A<:DenseArray where N where T, DenseArray}, SubArray{T,2,A,I,L} where L where I<:Tuple{Vararg{Union{Int64, AbstractRange{Int64}, Base.AbstractCartesianIndex},N} where N} where A<:Union{Base.ReinterpretArray{T,N,S,A} where S where A<:Union{SubArray{T,N,A,I,true} where I<:Union{Tuple{Vararg{Real,N} where N}, Tuple{AbstractUnitRange,Vararg{Any,N} where N}} where A<:DenseArray where N where T, DenseArray} where N where T, Base.ReshapedArray{T,N,A,MI} where MI<:Tuple{Vararg{Base.MultiplicativeInverses.SignedMultiplicativeInverse{Int64},N} where N} where A<:Union{Base.ReinterpretArray{T,N,S,A} where S where A<:Union{SubArray{T,N,A,I,true} where I<:Union{Tuple{Vararg{Real,N} where N}, Tuple{AbstractUnitRange,Vararg{Any,N} where N}} where A<:DenseArray where N where T, DenseArray} where N where T, SubArray{T,N,A,I,true} where I<:Union{Tuple{Vararg{Real,N} where N}, Tuple{AbstractUnitRange,Vararg{Any,N} where N}} where A<:DenseArray where N where T, DenseArray} where N where T, DenseArray}} where T</b>, Q::<b>LinearAlgebra.AbstractQ</b>) in LinearAlgebra at <a href=\"file://D:/buildbot/worker/package_win64/build/usr/share/julia/stdlib/v1.4/LinearAlgebra/src/qr.jl\" target=\"_blank\">C:\\Users\\chuan\\AppData\\Local\\Programs\\Julia\\Julia-1.4.0\\share\\julia\\stdlib\\v1.4\\LinearAlgebra\\src\\qr.jl:679</a></li> <li> *(A::<b>Union{DenseArray{T,2}, Base.ReinterpretArray{T,2,S,A} where S where A<:Union{SubArray{T,N,A,I,true} where I<:Union{Tuple{Vararg{Real,N} where N}, Tuple{AbstractUnitRange,Vararg{Any,N} where N}} where A<:DenseArray where N where T, DenseArray}, Base.ReshapedArray{T,2,A,MI} where MI<:Tuple{Vararg{Base.MultiplicativeInverses.SignedMultiplicativeInverse{Int64},N} where N} where A<:Union{Base.ReinterpretArray{T,N,S,A} where S where A<:Union{SubArray{T,N,A,I,true} where I<:Union{Tuple{Vararg{Real,N} where N}, Tuple{AbstractUnitRange,Vararg{Any,N} where N}} where A<:DenseArray where N where T, DenseArray} where N where T, SubArray{T,N,A,I,true} where I<:Union{Tuple{Vararg{Real,N} where N}, Tuple{AbstractUnitRange,Vararg{Any,N} where N}} where A<:DenseArray where N where T, DenseArray}, SubArray{T,2,A,I,L} where L where I<:Tuple{Vararg{Union{Int64, AbstractRange{Int64}, Base.AbstractCartesianIndex},N} where N} where A<:Union{Base.ReinterpretArray{T,N,S,A} where S where A<:Union{SubArray{T,N,A,I,true} where I<:Union{Tuple{Vararg{Real,N} where N}, Tuple{AbstractUnitRange,Vararg{Any,N} where N}} where A<:DenseArray where N where T, DenseArray} where N where T, Base.ReshapedArray{T,N,A,MI} where MI<:Tuple{Vararg{Base.MultiplicativeInverses.SignedMultiplicativeInverse{Int64},N} where N} where A<:Union{Base.ReinterpretArray{T,N,S,A} where S where A<:Union{SubArray{T,N,A,I,true} where I<:Union{Tuple{Vararg{Real,N} where N}, Tuple{AbstractUnitRange,Vararg{Any,N} where N}} where A<:DenseArray where N where T, DenseArray} where N where T, SubArray{T,N,A,I,true} where I<:Union{Tuple{Vararg{Real,N} where N}, Tuple{AbstractUnitRange,Vararg{Any,N} where N}} where A<:DenseArray where N where T, DenseArray} where N where T, DenseArray}} where T</b>, adjB::<b>LinearAlgebra.Adjoint{#s662,#s661} where #s661<:LinearAlgebra.AbstractQ where #s662</b>) in LinearAlgebra at <a href=\"file://D:/buildbot/worker/package_win64/build/usr/share/julia/stdlib/v1.4/LinearAlgebra/src/qr.jl\" target=\"_blank\">C:\\Users\\chuan\\AppData\\Local\\Programs\\Julia\\Julia-1.4.0\\share\\julia\\stdlib\\v1.4\\LinearAlgebra\\src\\qr.jl:719</a></li> <li> *(A::<b>LinearAlgebra.LQPackedQ</b>, B::<b>Union{DenseArray{T,2}, DenseArray{T,1}, Base.ReinterpretArray{T,2,S,A} where S where A<:Union{SubArray{T,N,A,I,true} where I<:Union{Tuple{Vararg{Real,N} where N}, Tuple{AbstractUnitRange,Vararg{Any,N} where N}} where A<:DenseArray where N where T, DenseArray}, Base.ReinterpretArray{T,1,S,A} where S where A<:Union{SubArray{T,N,A,I,true} where I<:Union{Tuple{Vararg{Real,N} where N}, Tuple{AbstractUnitRange,Vararg{Any,N} where N}} where A<:DenseArray where N where T, DenseArray}, Base.ReshapedArray{T,2,A,MI} where MI<:Tuple{Vararg{Base.MultiplicativeInverses.SignedMultiplicativeInverse{Int64},N} where N} where A<:Union{Base.ReinterpretArray{T,N,S,A} where S where A<:Union{SubArray{T,N,A,I,true} where I<:Union{Tuple{Vararg{Real,N} where N}, Tuple{AbstractUnitRange,Vararg{Any,N} where N}} where A<:DenseArray where N where T, DenseArray} where N where T, SubArray{T,N,A,I,true} where I<:Union{Tuple{Vararg{Real,N} where N}, Tuple{AbstractUnitRange,Vararg{Any,N} where N}} where A<:DenseArray where N where T, DenseArray}, Base.ReshapedArray{T,1,A,MI} where MI<:Tuple{Vararg{Base.MultiplicativeInverses.SignedMultiplicativeInverse{Int64},N} where N} where A<:Union{Base.ReinterpretArray{T,N,S,A} where S where A<:Union{SubArray{T,N,A,I,true} where I<:Union{Tuple{Vararg{Real,N} where N}, Tuple{AbstractUnitRange,Vararg{Any,N} where N}} where A<:DenseArray where N where T, DenseArray} where N where T, SubArray{T,N,A,I,true} where I<:Union{Tuple{Vararg{Real,N} where N}, Tuple{AbstractUnitRange,Vararg{Any,N} where N}} where A<:DenseArray where N where T, DenseArray}, SubArray{T,2,A,I,L} where L where I<:Tuple{Vararg{Union{Int64, AbstractRange{Int64}, Base.AbstractCartesianIndex},N} where N} where A<:Union{Base.ReinterpretArray{T,N,S,A} where S where A<:Union{SubArray{T,N,A,I,true} where I<:Union{Tuple{Vararg{Real,N} where N}, Tuple{AbstractUnitRange,Vararg{Any,N} where N}} where A<:DenseArray where N where T, DenseArray} where N where T, Base.ReshapedArray{T,N,A,MI} where MI<:Tuple{Vararg{Base.MultiplicativeInverses.SignedMultiplicativeInverse{Int64},N} where N} where A<:Union{Base.ReinterpretArray{T,N,S,A} where S where A<:Union{SubArray{T,N,A,I,true} where I<:Union{Tuple{Vararg{Real,N} where N}, Tuple{AbstractUnitRange,Vararg{Any,N} where N}} where A<:DenseArray where N where T, DenseArray} where N where T, SubArray{T,N,A,I,true} where I<:Union{Tuple{Vararg{Real,N} where N}, Tuple{AbstractUnitRange,Vararg{Any,N} where N}} where A<:DenseArray where N where T, DenseArray} where N where T, DenseArray}, SubArray{T,1,A,I,L} where L where I<:Tuple{Vararg{Union{Int64, AbstractRange{Int64}, Base.AbstractCartesianIndex},N} where N} where A<:Union{Base.ReinterpretArray{T,N,S,A} where S where A<:Union{SubArray{T,N,A,I,true} where I<:Union{Tuple{Vararg{Real,N} where N}, Tuple{AbstractUnitRange,Vararg{Any,N} where N}} where A<:DenseArray where N where T, DenseArray} where N where T, Base.ReshapedArray{T,N,A,MI} where MI<:Tuple{Vararg{Base.MultiplicativeInverses.SignedMultiplicativeInverse{Int64},N} where N} where A<:Union{Base.ReinterpretArray{T,N,S,A} where S where A<:Union{SubArray{T,N,A,I,true} where I<:Union{Tuple{Vararg{Real,N} where N}, Tuple{AbstractUnitRange,Vararg{Any,N} where N}} where A<:DenseArray where N where T, DenseArray} where N where T, SubArray{T,N,A,I,true} where I<:Union{Tuple{Vararg{Real,N} where N}, Tuple{AbstractUnitRange,Vararg{Any,N} where N}} where A<:DenseArray where N where T, DenseArray} where N where T, DenseArray}} where T</b>) in LinearAlgebra at <a href=\"file://D:/buildbot/worker/package_win64/build/usr/share/julia/stdlib/v1.4/LinearAlgebra/src/lq.jl\" target=\"_blank\">C:\\Users\\chuan\\AppData\\Local\\Programs\\Julia\\Julia-1.4.0\\share\\julia\\stdlib\\v1.4\\LinearAlgebra\\src\\lq.jl:188</a></li> <li> *(A::<b>LinearAlgebra.LQPackedQ</b>, adjB::<b>LinearAlgebra.Adjoint{#s662,#s661} where #s661<:(Union{DenseArray{T,2}, DenseArray{T,1}, Base.ReinterpretArray{T,2,S,A} where S where A<:Union{SubArray{T,N,A,I,true} where I<:Union{Tuple{Vararg{Real,N} where N}, Tuple{AbstractUnitRange,Vararg{Any,N} where N}} where A<:DenseArray where N where T, DenseArray}, Base.ReinterpretArray{T,1,S,A} where S where A<:Union{SubArray{T,N,A,I,true} where I<:Union{Tuple{Vararg{Real,N} where N}, Tuple{AbstractUnitRange,Vararg{Any,N} where N}} where A<:DenseArray where N where T, DenseArray}, Base.ReshapedArray{T,2,A,MI} where MI<:Tuple{Vararg{Base.MultiplicativeInverses.SignedMultiplicativeInverse{Int64},N} where N} where A<:Union{Base.ReinterpretArray{T,N,S,A} where S where A<:Union{SubArray{T,N,A,I,true} where I<:Union{Tuple{Vararg{Real,N} where N}, Tuple{AbstractUnitRange,Vararg{Any,N} where N}} where A<:DenseArray where N where T, DenseArray} where N where T, SubArray{T,N,A,I,true} where I<:Union{Tuple{Vararg{Real,N} where N}, Tuple{AbstractUnitRange,Vararg{Any,N} where N}} where A<:DenseArray where N where T, DenseArray}, Base.ReshapedArray{T,1,A,MI} where MI<:Tuple{Vararg{Base.MultiplicativeInverses.SignedMultiplicativeInverse{Int64},N} where N} where A<:Union{Base.ReinterpretArray{T,N,S,A} where S where A<:Union{SubArray{T,N,A,I,true} where I<:Union{Tuple{Vararg{Real,N} where N}, Tuple{AbstractUnitRange,Vararg{Any,N} where N}} where A<:DenseArray where N where T, DenseArray} where N where T, SubArray{T,N,A,I,true} where I<:Union{Tuple{Vararg{Real,N} where N}, Tuple{AbstractUnitRange,Vararg{Any,N} where N}} where A<:DenseArray where N where T, DenseArray}, SubArray{T,2,A,I,L} where L where I<:Tuple{Vararg{Union{Int64, AbstractRange{Int64}, Base.AbstractCartesianIndex},N} where N} where A<:Union{Base.ReinterpretArray{T,N,S,A} where S where A<:Union{SubArray{T,N,A,I,true} where I<:Union{Tuple{Vararg{Real,N} where N}, Tuple{AbstractUnitRange,Vararg{Any,N} where N}} where A<:DenseArray where N where T, DenseArray} where N where T, Base.ReshapedArray{T,N,A,MI} where MI<:Tuple{Vararg{Base.MultiplicativeInverses.SignedMultiplicativeInverse{Int64},N} where N} where A<:Union{Base.ReinterpretArray{T,N,S,A} where S where A<:Union{SubArray{T,N,A,I,true} where I<:Union{Tuple{Vararg{Real,N} where N}, Tuple{AbstractUnitRange,Vararg{Any,N} where N}} where A<:DenseArray where N where T, DenseArray} where N where T, SubArray{T,N,A,I,true} where I<:Union{Tuple{Vararg{Real,N} where N}, Tuple{AbstractUnitRange,Vararg{Any,N} where N}} where A<:DenseArray where N where T, DenseArray} where N where T, DenseArray}, SubArray{T,1,A,I,L} where L where I<:Tuple{Vararg{Union{Int64, AbstractRange{Int64}, Base.AbstractCartesianIndex},N} where N} where A<:Union{Base.ReinterpretArray{T,N,S,A} where S where A<:Union{SubArray{T,N,A,I,true} where I<:Union{Tuple{Vararg{Real,N} where N}, Tuple{AbstractUnitRange,Vararg{Any,N} where N}} where A<:DenseArray where N where T, DenseArray} where N where T, Base.ReshapedArray{T,N,A,MI} where MI<:Tuple{Vararg{Base.MultiplicativeInverses.SignedMultiplicativeInverse{Int64},N} where N} where A<:Union{Base.ReinterpretArray{T,N,S,A} where S where A<:Union{SubArray{T,N,A,I,true} where I<:Union{Tuple{Vararg{Real,N} where N}, Tuple{AbstractUnitRange,Vararg{Any,N} where N}} where A<:DenseArray where N where T, DenseArray} where N where T, SubArray{T,N,A,I,true} where I<:Union{Tuple{Vararg{Real,N} where N}, Tuple{AbstractUnitRange,Vararg{Any,N} where N}} where A<:DenseArray where N where T, DenseArray} where N where T, DenseArray}} where T) where #s662</b>) in LinearAlgebra at <a href=\"file://D:/buildbot/worker/package_win64/build/usr/share/julia/stdlib/v1.4/LinearAlgebra/src/lq.jl\" target=\"_blank\">C:\\Users\\chuan\\AppData\\Local\\Programs\\Julia\\Julia-1.4.0\\share\\julia\\stdlib\\v1.4\\LinearAlgebra\\src\\lq.jl:212</a></li> <li> *(A::<b>Union{DenseArray{T,2}, DenseArray{T,1}, Base.ReinterpretArray{T,2,S,A} where S where A<:Union{SubArray{T,N,A,I,true} where I<:Union{Tuple{Vararg{Real,N} where N}, Tuple{AbstractUnitRange,Vararg{Any,N} where N}} where A<:DenseArray where N where T, DenseArray}, Base.ReinterpretArray{T,1,S,A} where S where A<:Union{SubArray{T,N,A,I,true} where I<:Union{Tuple{Vararg{Real,N} where N}, Tuple{AbstractUnitRange,Vararg{Any,N} where N}} where A<:DenseArray where N where T, DenseArray}, Base.ReshapedArray{T,2,A,MI} where MI<:Tuple{Vararg{Base.MultiplicativeInverses.SignedMultiplicativeInverse{Int64},N} where N} where A<:Union{Base.ReinterpretArray{T,N,S,A} where S where A<:Union{SubArray{T,N,A,I,true} where I<:Union{Tuple{Vararg{Real,N} where N}, Tuple{AbstractUnitRange,Vararg{Any,N} where N}} where A<:DenseArray where N where T, DenseArray} where N where T, SubArray{T,N,A,I,true} where I<:Union{Tuple{Vararg{Real,N} where N}, Tuple{AbstractUnitRange,Vararg{Any,N} where N}} where A<:DenseArray where N where T, DenseArray}, Base.ReshapedArray{T,1,A,MI} where MI<:Tuple{Vararg{Base.MultiplicativeInverses.SignedMultiplicativeInverse{Int64},N} where N} where A<:Union{Base.ReinterpretArray{T,N,S,A} where S where A<:Union{SubArray{T,N,A,I,true} where I<:Union{Tuple{Vararg{Real,N} where N}, Tuple{AbstractUnitRange,Vararg{Any,N} where N}} where A<:DenseArray where N where T, DenseArray} where N where T, SubArray{T,N,A,I,true} where I<:Union{Tuple{Vararg{Real,N} where N}, Tuple{AbstractUnitRange,Vararg{Any,N} where N}} where A<:DenseArray where N where T, DenseArray}, SubArray{T,2,A,I,L} where L where I<:Tuple{Vararg{Union{Int64, AbstractRange{Int64}, Base.AbstractCartesianIndex},N} where N} where A<:Union{Base.ReinterpretArray{T,N,S,A} where S where A<:Union{SubArray{T,N,A,I,true} where I<:Union{Tuple{Vararg{Real,N} where N}, Tuple{AbstractUnitRange,Vararg{Any,N} where N}} where A<:DenseArray where N where T, DenseArray} where N where T, Base.ReshapedArray{T,N,A,MI} where MI<:Tuple{Vararg{Base.MultiplicativeInverses.SignedMultiplicativeInverse{Int64},N} where N} where A<:Union{Base.ReinterpretArray{T,N,S,A} where S where A<:Union{SubArray{T,N,A,I,true} where I<:Union{Tuple{Vararg{Real,N} where N}, Tuple{AbstractUnitRange,Vararg{Any,N} where N}} where A<:DenseArray where N where T, DenseArray} where N where T, SubArray{T,N,A,I,true} where I<:Union{Tuple{Vararg{Real,N} where N}, Tuple{AbstractUnitRange,Vararg{Any,N} where N}} where A<:DenseArray where N where T, DenseArray} where N where T, DenseArray}, SubArray{T,1,A,I,L} where L where I<:Tuple{Vararg{Union{Int64, AbstractRange{Int64}, Base.AbstractCartesianIndex},N} where N} where A<:Union{Base.ReinterpretArray{T,N,S,A} where S where A<:Union{SubArray{T,N,A,I,true} where I<:Union{Tuple{Vararg{Real,N} where N}, Tuple{AbstractUnitRange,Vararg{Any,N} where N}} where A<:DenseArray where N where T, DenseArray} where N where T, Base.ReshapedArray{T,N,A,MI} where MI<:Tuple{Vararg{Base.MultiplicativeInverses.SignedMultiplicativeInverse{Int64},N} where N} where A<:Union{Base.ReinterpretArray{T,N,S,A} where S where A<:Union{SubArray{T,N,A,I,true} where I<:Union{Tuple{Vararg{Real,N} where N}, Tuple{AbstractUnitRange,Vararg{Any,N} where N}} where A<:DenseArray where N where T, DenseArray} where N where T, SubArray{T,N,A,I,true} where I<:Union{Tuple{Vararg{Real,N} where N}, Tuple{AbstractUnitRange,Vararg{Any,N} where N}} where A<:DenseArray where N where T, DenseArray} where N where T, DenseArray}} where T</b>, adjQ::<b>LinearAlgebra.Adjoint{#s662,#s661} where #s661<:LinearAlgebra.LQPackedQ where #s662</b>) in LinearAlgebra at <a href=\"file://D:/buildbot/worker/package_win64/build/usr/share/julia/stdlib/v1.4/LinearAlgebra/src/lq.jl\" target=\"_blank\">C:\\Users\\chuan\\AppData\\Local\\Programs\\Julia\\Julia-1.4.0\\share\\julia\\stdlib\\v1.4\\LinearAlgebra\\src\\lq.jl:251</a></li> <li> *(A::<b>Union{DenseArray{T,2}, DenseArray{T,1}, Base.ReinterpretArray{T,2,S,A} where S where A<:Union{SubArray{T,N,A,I,true} where I<:Union{Tuple{Vararg{Real,N} where N}, Tuple{AbstractUnitRange,Vararg{Any,N} where N}} where A<:DenseArray where N where T, DenseArray}, Base.ReinterpretArray{T,1,S,A} where S where A<:Union{SubArray{T,N,A,I,true} where I<:Union{Tuple{Vararg{Real,N} where N}, Tuple{AbstractUnitRange,Vararg{Any,N} where N}} where A<:DenseArray where N where T, DenseArray}, Base.ReshapedArray{T,2,A,MI} where MI<:Tuple{Vararg{Base.MultiplicativeInverses.SignedMultiplicativeInverse{Int64},N} where N} where A<:Union{Base.ReinterpretArray{T,N,S,A} where S where A<:Union{SubArray{T,N,A,I,true} where I<:Union{Tuple{Vararg{Real,N} where N}, Tuple{AbstractUnitRange,Vararg{Any,N} where N}} where A<:DenseArray where N where T, DenseArray} where N where T, SubArray{T,N,A,I,true} where I<:Union{Tuple{Vararg{Real,N} where N}, Tuple{AbstractUnitRange,Vararg{Any,N} where N}} where A<:DenseArray where N where T, DenseArray}, Base.ReshapedArray{T,1,A,MI} where MI<:Tuple{Vararg{Base.MultiplicativeInverses.SignedMultiplicativeInverse{Int64},N} where N} where A<:Union{Base.ReinterpretArray{T,N,S,A} where S where A<:Union{SubArray{T,N,A,I,true} where I<:Union{Tuple{Vararg{Real,N} where N}, Tuple{AbstractUnitRange,Vararg{Any,N} where N}} where A<:DenseArray where N where T, DenseArray} where N where T, SubArray{T,N,A,I,true} where I<:Union{Tuple{Vararg{Real,N} where N}, Tuple{AbstractUnitRange,Vararg{Any,N} where N}} where A<:DenseArray where N where T, DenseArray}, SubArray{T,2,A,I,L} where L where I<:Tuple{Vararg{Union{Int64, AbstractRange{Int64}, Base.AbstractCartesianIndex},N} where N} where A<:Union{Base.ReinterpretArray{T,N,S,A} where S where A<:Union{SubArray{T,N,A,I,true} where I<:Union{Tuple{Vararg{Real,N} where N}, Tuple{AbstractUnitRange,Vararg{Any,N} where N}} where A<:DenseArray where N where T, DenseArray} where N where T, Base.ReshapedArray{T,N,A,MI} where MI<:Tuple{Vararg{Base.MultiplicativeInverses.SignedMultiplicativeInverse{Int64},N} where N} where A<:Union{Base.ReinterpretArray{T,N,S,A} where S where A<:Union{SubArray{T,N,A,I,true} where I<:Union{Tuple{Vararg{Real,N} where N}, Tuple{AbstractUnitRange,Vararg{Any,N} where N}} where A<:DenseArray where N where T, DenseArray} where N where T, SubArray{T,N,A,I,true} where I<:Union{Tuple{Vararg{Real,N} where N}, Tuple{AbstractUnitRange,Vararg{Any,N} where N}} where A<:DenseArray where N where T, DenseArray} where N where T, DenseArray}, SubArray{T,1,A,I,L} where L where I<:Tuple{Vararg{Union{Int64, AbstractRange{Int64}, Base.AbstractCartesianIndex},N} where N} where A<:Union{Base.ReinterpretArray{T,N,S,A} where S where A<:Union{SubArray{T,N,A,I,true} where I<:Union{Tuple{Vararg{Real,N} where N}, Tuple{AbstractUnitRange,Vararg{Any,N} where N}} where A<:DenseArray where N where T, DenseArray} where N where T, Base.ReshapedArray{T,N,A,MI} where MI<:Tuple{Vararg{Base.MultiplicativeInverses.SignedMultiplicativeInverse{Int64},N} where N} where A<:Union{Base.ReinterpretArray{T,N,S,A} where S where A<:Union{SubArray{T,N,A,I,true} where I<:Union{Tuple{Vararg{Real,N} where N}, Tuple{AbstractUnitRange,Vararg{Any,N} where N}} where A<:DenseArray where N where T, DenseArray} where N where T, SubArray{T,N,A,I,true} where I<:Union{Tuple{Vararg{Real,N} where N}, Tuple{AbstractUnitRange,Vararg{Any,N} where N}} where A<:DenseArray where N where T, DenseArray} where N where T, DenseArray}} where T</b>, Q::<b>LinearAlgebra.LQPackedQ</b>) in LinearAlgebra at <a href=\"file://D:/buildbot/worker/package_win64/build/usr/share/julia/stdlib/v1.4/LinearAlgebra/src/lq.jl\" target=\"_blank\">C:\\Users\\chuan\\AppData\\Local\\Programs\\Julia\\Julia-1.4.0\\share\\julia\\stdlib\\v1.4\\LinearAlgebra\\src\\lq.jl:275</a></li> <li> *(A::<b>Union{LinearAlgebra.Hermitian{T,S}, LinearAlgebra.Symmetric{T,S}} where S where T</b>, B::<b>Union{LinearAlgebra.Hermitian{T,S}, LinearAlgebra.Symmetric{T,S}} where S where T</b>) in LinearAlgebra at <a href=\"file://D:/buildbot/worker/package_win64/build/usr/share/julia/stdlib/v1.4/LinearAlgebra/src/symmetric.jl\" target=\"_blank\">C:\\Users\\chuan\\AppData\\Local\\Programs\\Julia\\Julia-1.4.0\\share\\julia\\stdlib\\v1.4\\LinearAlgebra\\src\\symmetric.jl:555</a></li> <li> *(A::<b>LinearAlgebra.Symmetric</b>, x::<b>Number</b>) in LinearAlgebra at <a href=\"file://D:/buildbot/worker/package_win64/build/usr/share/julia/stdlib/v1.4/LinearAlgebra/src/symmetric.jl\" target=\"_blank\">C:\\Users\\chuan\\AppData\\Local\\Programs\\Julia\\Julia-1.4.0\\share\\julia\\stdlib\\v1.4\\LinearAlgebra\\src\\symmetric.jl:613</a></li> <li> *(A::<b>LinearAlgebra.Hermitian</b>, x::<b>Real</b>) in LinearAlgebra at <a href=\"file://D:/buildbot/worker/package_win64/build/usr/share/julia/stdlib/v1.4/LinearAlgebra/src/symmetric.jl\" target=\"_blank\">C:\\Users\\chuan\\AppData\\Local\\Programs\\Julia\\Julia-1.4.0\\share\\julia\\stdlib\\v1.4\\LinearAlgebra\\src\\symmetric.jl:615</a></li> <li> *(A::<b>LinearAlgebra.Adjoint{#s662,#s661} where #s661<:(AbstractArray{T,2} where T) where #s662</b>, B::<b>LinearAlgebra.Adjoint{#s660,#s659} where #s659<:(Union{LinearAlgebra.Hermitian{Complex{T},S}, LinearAlgebra.Hermitian{T,S}, LinearAlgebra.Symmetric{T,S}} where S where T<:Real) where #s660</b>) in LinearAlgebra at <a href=\"file://D:/buildbot/worker/package_win64/build/usr/share/julia/stdlib/v1.4/LinearAlgebra/src/symmetric.jl\" target=\"_blank\">C:\\Users\\chuan\\AppData\\Local\\Programs\\Julia\\Julia-1.4.0\\share\\julia\\stdlib\\v1.4\\LinearAlgebra\\src\\symmetric.jl:1027</a></li> <li> *(A::<b>LinearAlgebra.Adjoint{#s662,#s661} where #s661<:(AbstractArray{T,2} where T) where #s662</b>, B::<b>LinearAlgebra.Transpose{#s660,#s659} where #s659<:(Union{LinearAlgebra.Hermitian{T,S}, LinearAlgebra.Symmetric{Complex{T},S}, LinearAlgebra.Symmetric{T,S}} where S where T<:Real) where #s660</b>) in LinearAlgebra at <a href=\"file://D:/buildbot/worker/package_win64/build/usr/share/julia/stdlib/v1.4/LinearAlgebra/src/symmetric.jl\" target=\"_blank\">C:\\Users\\chuan\\AppData\\Local\\Programs\\Julia\\Julia-1.4.0\\share\\julia\\stdlib\\v1.4\\LinearAlgebra\\src\\symmetric.jl:1029</a></li> <li> *(A::<b>LinearAlgebra.Transpose{#s662,#s661} where #s661<:(AbstractArray{T,2} where T) where #s662</b>, B::<b>LinearAlgebra.Adjoint{#s660,#s659} where #s659<:(Union{LinearAlgebra.Hermitian{Complex{T},S}, LinearAlgebra.Hermitian{T,S}, LinearAlgebra.Symmetric{T,S}} where S where T<:Real) where #s660</b>) in LinearAlgebra at <a href=\"file://D:/buildbot/worker/package_win64/build/usr/share/julia/stdlib/v1.4/LinearAlgebra/src/symmetric.jl\" target=\"_blank\">C:\\Users\\chuan\\AppData\\Local\\Programs\\Julia\\Julia-1.4.0\\share\\julia\\stdlib\\v1.4\\LinearAlgebra\\src\\symmetric.jl:1031</a></li> <li> *(A::<b>LinearAlgebra.Transpose{#s662,#s661} where #s661<:(AbstractArray{T,2} where T) where #s662</b>, B::<b>LinearAlgebra.Transpose{#s660,#s659} where #s659<:(Union{LinearAlgebra.Hermitian{T,S}, LinearAlgebra.Symmetric{Complex{T},S}, LinearAlgebra.Symmetric{T,S}} where S where T<:Real) where #s660</b>) in LinearAlgebra at <a href=\"file://D:/buildbot/worker/package_win64/build/usr/share/julia/stdlib/v1.4/LinearAlgebra/src/symmetric.jl\" target=\"_blank\">C:\\Users\\chuan\\AppData\\Local\\Programs\\Julia\\Julia-1.4.0\\share\\julia\\stdlib\\v1.4\\LinearAlgebra\\src\\symmetric.jl:1033</a></li> <li> *(D::<b>LinearAlgebra.Diagonal</b>, x::<b>Number</b>) in LinearAlgebra at <a href=\"file://D:/buildbot/worker/package_win64/build/usr/share/julia/stdlib/v1.4/LinearAlgebra/src/diagonal.jl\" target=\"_blank\">C:\\Users\\chuan\\AppData\\Local\\Programs\\Julia\\Julia-1.4.0\\share\\julia\\stdlib\\v1.4\\LinearAlgebra\\src\\diagonal.jl:160</a></li> <li> *(Da::<b>LinearAlgebra.Diagonal</b>, Db::<b>LinearAlgebra.Diagonal</b>) in LinearAlgebra at <a href=\"file://D:/buildbot/worker/package_win64/build/usr/share/julia/stdlib/v1.4/LinearAlgebra/src/diagonal.jl\" target=\"_blank\">C:\\Users\\chuan\\AppData\\Local\\Programs\\Julia\\Julia-1.4.0\\share\\julia\\stdlib\\v1.4\\LinearAlgebra\\src\\diagonal.jl:162</a></li> <li> *(D::<b>LinearAlgebra.Diagonal</b>, B::<b>LinearAlgebra.AbstractTriangular</b>) in LinearAlgebra at <a href=\"file://D:/buildbot/worker/package_win64/build/usr/share/julia/stdlib/v1.4/LinearAlgebra/src/diagonal.jl\" target=\"_blank\">C:\\Users\\chuan\\AppData\\Local\\Programs\\Julia\\Julia-1.4.0\\share\\julia\\stdlib\\v1.4\\LinearAlgebra\\src\\diagonal.jl:167</a></li> <li> *(D::<b>LinearAlgebra.Diagonal</b>, B::<b>LinearAlgebra.Adjoint{#s662,#s661} where #s661<:LinearAlgebra.Diagonal where #s662</b>) in LinearAlgebra at <a href=\"file://D:/buildbot/worker/package_win64/build/usr/share/julia/stdlib/v1.4/LinearAlgebra/src/diagonal.jl\" target=\"_blank\">C:\\Users\\chuan\\AppData\\Local\\Programs\\Julia\\Julia-1.4.0\\share\\julia\\stdlib\\v1.4\\LinearAlgebra\\src\\diagonal.jl:238</a></li> <li> *(D::<b>LinearAlgebra.Diagonal</b>, B::<b>LinearAlgebra.Adjoint{#s662,#s661} where #s661<:LinearAlgebra.AbstractTriangular where #s662</b>) in LinearAlgebra at <a href=\"file://D:/buildbot/worker/package_win64/build/usr/share/julia/stdlib/v1.4/LinearAlgebra/src/diagonal.jl\" target=\"_blank\">C:\\Users\\chuan\\AppData\\Local\\Programs\\Julia\\Julia-1.4.0\\share\\julia\\stdlib\\v1.4\\LinearAlgebra\\src\\diagonal.jl:239</a></li> <li> *(D::<b>LinearAlgebra.Diagonal</b>, adjQ::<b>LinearAlgebra.Adjoint{#s662,#s661} where #s661<:Union{LinearAlgebra.QRCompactWYQ, LinearAlgebra.QRPackedQ} where #s662</b>) in LinearAlgebra at <a href=\"file://D:/buildbot/worker/package_win64/build/usr/share/julia/stdlib/v1.4/LinearAlgebra/src/diagonal.jl\" target=\"_blank\">C:\\Users\\chuan\\AppData\\Local\\Programs\\Julia\\Julia-1.4.0\\share\\julia\\stdlib\\v1.4\\LinearAlgebra\\src\\diagonal.jl:241</a></li> <li> *(A::<b>LinearAlgebra.Diagonal</b>, adjB::<b>LinearAlgebra.Adjoint{#s662,#s661} where #s661<:(Union{LinearAlgebra.Hermitian{Complex{T},S}, LinearAlgebra.Hermitian{T,S}, LinearAlgebra.Symmetric{T,S}} where S where T<:Real) where #s662</b>) in LinearAlgebra at <a href=\"file://D:/buildbot/worker/package_win64/build/usr/share/julia/stdlib/v1.4/LinearAlgebra/src/diagonal.jl\" target=\"_blank\">C:\\Users\\chuan\\AppData\\Local\\Programs\\Julia\\Julia-1.4.0\\share\\julia\\stdlib\\v1.4\\LinearAlgebra\\src\\diagonal.jl:368</a></li> <li> *(D::<b>LinearAlgebra.Diagonal</b>, adjA::<b>LinearAlgebra.Adjoint{#s662,#s661} where #s661<:(AbstractArray{T,2} where T) where #s662</b>) in LinearAlgebra at <a href=\"file://D:/buildbot/worker/package_win64/build/usr/share/julia/stdlib/v1.4/LinearAlgebra/src/diagonal.jl\" target=\"_blank\">C:\\Users\\chuan\\AppData\\Local\\Programs\\Julia\\Julia-1.4.0\\share\\julia\\stdlib\\v1.4\\LinearAlgebra\\src\\diagonal.jl:243</a></li> <li> *(D::<b>LinearAlgebra.Diagonal</b>, B::<b>LinearAlgebra.Transpose{#s662,#s661} where #s661<:LinearAlgebra.Diagonal where #s662</b>) in LinearAlgebra at <a href=\"file://D:/buildbot/worker/package_win64/build/usr/share/julia/stdlib/v1.4/LinearAlgebra/src/diagonal.jl\" target=\"_blank\">C:\\Users\\chuan\\AppData\\Local\\Programs\\Julia\\Julia-1.4.0\\share\\julia\\stdlib\\v1.4\\LinearAlgebra\\src\\diagonal.jl:249</a></li> <li> *(D::<b>LinearAlgebra.Diagonal</b>, B::<b>LinearAlgebra.Transpose{#s662,#s661} where #s661<:LinearAlgebra.AbstractTriangular where #s662</b>) in LinearAlgebra at <a href=\"file://D:/buildbot/worker/package_win64/build/usr/share/julia/stdlib/v1.4/LinearAlgebra/src/diagonal.jl\" target=\"_blank\">C:\\Users\\chuan\\AppData\\Local\\Programs\\Julia\\Julia-1.4.0\\share\\julia\\stdlib\\v1.4\\LinearAlgebra\\src\\diagonal.jl:250</a></li> <li> *(A::<b>LinearAlgebra.Diagonal</b>, transB::<b>LinearAlgebra.Transpose{#s662,#s661} where #s661<:(Union{LinearAlgebra.Hermitian{T,S}, LinearAlgebra.Symmetric{Complex{T},S}, LinearAlgebra.Symmetric{T,S}} where S where T<:Real) where #s662</b>) in LinearAlgebra at <a href=\"file://D:/buildbot/worker/package_win64/build/usr/share/julia/stdlib/v1.4/LinearAlgebra/src/diagonal.jl\" target=\"_blank\">C:\\Users\\chuan\\AppData\\Local\\Programs\\Julia\\Julia-1.4.0\\share\\julia\\stdlib\\v1.4\\LinearAlgebra\\src\\diagonal.jl:366</a></li> <li> *(D::<b>LinearAlgebra.Diagonal</b>, transA::<b>LinearAlgebra.Transpose{#s662,#s661} where #s661<:(AbstractArray{T,2} where T) where #s662</b>) in LinearAlgebra at <a href=\"file://D:/buildbot/worker/package_win64/build/usr/share/julia/stdlib/v1.4/LinearAlgebra/src/diagonal.jl\" target=\"_blank\">C:\\Users\\chuan\\AppData\\Local\\Programs\\Julia\\Julia-1.4.0\\share\\julia\\stdlib\\v1.4\\LinearAlgebra\\src\\diagonal.jl:253</a></li> <li> *(A::<b>LinearAlgebra.Diagonal</b>, B::<b>Union{LinearAlgebra.Bidiagonal, LinearAlgebra.Tridiagonal}</b>) in LinearAlgebra at <a href=\"file://D:/buildbot/worker/package_win64/build/usr/share/julia/stdlib/v1.4/LinearAlgebra/src/bidiag.jl\" target=\"_blank\">C:\\Users\\chuan\\AppData\\Local\\Programs\\Julia\\Julia-1.4.0\\share\\julia\\stdlib\\v1.4\\LinearAlgebra\\src\\bidiag.jl:677</a></li> <li> *(A::<b>LinearAlgebra.Diagonal</b>, B::<b>LinearAlgebra.SymTridiagonal</b>) in LinearAlgebra at <a href=\"file://D:/buildbot/worker/package_win64/build/usr/share/julia/stdlib/v1.4/LinearAlgebra/src/bidiag.jl\" target=\"_blank\">C:\\Users\\chuan\\AppData\\Local\\Programs\\Julia\\Julia-1.4.0\\share\\julia\\stdlib\\v1.4\\LinearAlgebra\\src\\bidiag.jl:682</a></li> <li> *(A::<b>LinearAlgebra.Diagonal</b>, B::<b>LinearAlgebra.Adjoint{#s662,#s661} where #s661<:LinearAlgebra.AbstractRotation where #s662</b>) in LinearAlgebra at <a href=\"file://D:/buildbot/worker/package_win64/build/usr/share/julia/stdlib/v1.4/LinearAlgebra/src/givens.jl\" target=\"_blank\">C:\\Users\\chuan\\AppData\\Local\\Programs\\Julia\\Julia-1.4.0\\share\\julia\\stdlib\\v1.4\\LinearAlgebra\\src\\givens.jl:399</a></li> <li> *(D::<b>LinearAlgebra.Diagonal</b>, A::<b>SparseArrays.AbstractSparseMatrixCSC</b>) in SparseArrays at <a href=\"file://D:/buildbot/worker/package_win64/build/usr/share/julia/stdlib/v1.4/SparseArrays/src/linalg.jl\" target=\"_blank\">C:\\Users\\chuan\\AppData\\Local\\Programs\\Julia\\Julia-1.4.0\\share\\julia\\stdlib\\v1.4\\SparseArrays\\src\\linalg.jl:152</a></li> <li> *(D::<b>LinearAlgebra.Diagonal</b>, V::<b>AbstractArray{T,1} where T</b>) in LinearAlgebra at <a href=\"file://D:/buildbot/worker/package_win64/build/usr/share/julia/stdlib/v1.4/LinearAlgebra/src/diagonal.jl\" target=\"_blank\">C:\\Users\\chuan\\AppData\\Local\\Programs\\Julia\\Julia-1.4.0\\share\\julia\\stdlib\\v1.4\\LinearAlgebra\\src\\diagonal.jl:163</a></li> <li> *(D::<b>LinearAlgebra.Diagonal</b>, A::<b>AbstractArray{T,2} where T</b>) in LinearAlgebra at <a href=\"file://D:/buildbot/worker/package_win64/build/usr/share/julia/stdlib/v1.4/LinearAlgebra/src/diagonal.jl\" target=\"_blank\">C:\\Users\\chuan\\AppData\\Local\\Programs\\Julia\\Julia-1.4.0\\share\\julia\\stdlib\\v1.4\\LinearAlgebra\\src\\diagonal.jl:172</a></li> <li> *(adjA::<b>LinearAlgebra.Adjoint{#s662,#s661} where #s661<:(AbstractArray{T,2} where T) where #s662</b>, D::<b>LinearAlgebra.Diagonal</b>) in LinearAlgebra at <a href=\"file://D:/buildbot/worker/package_win64/build/usr/share/julia/stdlib/v1.4/LinearAlgebra/src/diagonal.jl\" target=\"_blank\">C:\\Users\\chuan\\AppData\\Local\\Programs\\Julia\\Julia-1.4.0\\share\\julia\\stdlib\\v1.4\\LinearAlgebra\\src\\diagonal.jl:222</a></li> <li> *(transA::<b>LinearAlgebra.Transpose{#s662,#s661} where #s661<:(AbstractArray{T,2} where T) where #s662</b>, D::<b>LinearAlgebra.Diagonal</b>) in LinearAlgebra at <a href=\"file://D:/buildbot/worker/package_win64/build/usr/share/julia/stdlib/v1.4/LinearAlgebra/src/diagonal.jl\" target=\"_blank\">C:\\Users\\chuan\\AppData\\Local\\Programs\\Julia\\Julia-1.4.0\\share\\julia\\stdlib\\v1.4\\LinearAlgebra\\src\\diagonal.jl:232</a></li> <li> *(A::<b>LinearAlgebra.Bidiagonal</b>, B::<b>Number</b>) in LinearAlgebra at <a href=\"file://D:/buildbot/worker/package_win64/build/usr/share/julia/stdlib/v1.4/LinearAlgebra/src/bidiag.jl\" target=\"_blank\">C:\\Users\\chuan\\AppData\\Local\\Programs\\Julia\\Julia-1.4.0\\share\\julia\\stdlib\\v1.4\\LinearAlgebra\\src\\bidiag.jl:327</a></li> <li> *(A::<b>Union{LinearAlgebra.SymTridiagonal, LinearAlgebra.Tridiagonal}</b>, B::<b>LinearAlgebra.AbstractTriangular</b>) in LinearAlgebra at <a href=\"file://D:/buildbot/worker/package_win64/build/usr/share/julia/stdlib/v1.4/LinearAlgebra/src/bidiag.jl\" target=\"_blank\">C:\\Users\\chuan\\AppData\\Local\\Programs\\Julia\\Julia-1.4.0\\share\\julia\\stdlib\\v1.4\\LinearAlgebra\\src\\bidiag.jl:631</a></li> <li> *(A::<b>LinearAlgebra.Bidiagonal</b>, B::<b>Union{LinearAlgebra.UnitUpperTriangular, LinearAlgebra.UpperTriangular}</b>) in LinearAlgebra at <a href=\"file://D:/buildbot/worker/package_win64/build/usr/share/julia/stdlib/v1.4/LinearAlgebra/src/bidiag.jl\" target=\"_blank\">C:\\Users\\chuan\\AppData\\Local\\Programs\\Julia\\Julia-1.4.0\\share\\julia\\stdlib\\v1.4\\LinearAlgebra\\src\\bidiag.jl:636</a></li> <li> *(A::<b>LinearAlgebra.Bidiagonal</b>, B::<b>Union{LinearAlgebra.Adjoint{#s662,#s661} where #s661<:Union{LinearAlgebra.UnitUpperTriangular, LinearAlgebra.UpperTriangular} where #s662, LinearAlgebra.Transpose{#s660,#s659} where #s659<:Union{LinearAlgebra.UnitUpperTriangular, LinearAlgebra.UpperTriangular} where #s660}</b>) in LinearAlgebra at <a href=\"file://D:/buildbot/worker/package_win64/build/usr/share/julia/stdlib/v1.4/LinearAlgebra/src/bidiag.jl\" target=\"_blank\">C:\\Users\\chuan\\AppData\\Local\\Programs\\Julia\\Julia-1.4.0\\share\\julia\\stdlib\\v1.4\\LinearAlgebra\\src\\bidiag.jl:645</a></li> <li> *(A::<b>LinearAlgebra.Bidiagonal</b>, B::<b>Union{LinearAlgebra.LowerTriangular, LinearAlgebra.UnitLowerTriangular}</b>) in LinearAlgebra at <a href=\"file://D:/buildbot/worker/package_win64/build/usr/share/julia/stdlib/v1.4/LinearAlgebra/src/bidiag.jl\" target=\"_blank\">C:\\Users\\chuan\\AppData\\Local\\Programs\\Julia\\Julia-1.4.0\\share\\julia\\stdlib\\v1.4\\LinearAlgebra\\src\\bidiag.jl:654</a></li> <li> *(A::<b>LinearAlgebra.Bidiagonal</b>, B::<b>Union{LinearAlgebra.Adjoint{#s662,#s661} where #s661<:Union{LinearAlgebra.LowerTriangular, LinearAlgebra.UnitLowerTriangular} where #s662, LinearAlgebra.Transpose{#s660,#s659} where #s659<:Union{LinearAlgebra.LowerTriangular, LinearAlgebra.UnitLowerTriangular} where #s660}</b>) in LinearAlgebra at <a href=\"file://D:/buildbot/worker/package_win64/build/usr/share/julia/stdlib/v1.4/LinearAlgebra/src/bidiag.jl\" target=\"_blank\">C:\\Users\\chuan\\AppData\\Local\\Programs\\Julia\\Julia-1.4.0\\share\\julia\\stdlib\\v1.4\\LinearAlgebra\\src\\bidiag.jl:663</a></li> <li> *(A::<b>Union{LinearAlgebra.Bidiagonal, LinearAlgebra.Tridiagonal}</b>, B::<b>LinearAlgebra.Diagonal</b>) in LinearAlgebra at <a href=\"file://D:/buildbot/worker/package_win64/build/usr/share/julia/stdlib/v1.4/LinearAlgebra/src/bidiag.jl\" target=\"_blank\">C:\\Users\\chuan\\AppData\\Local\\Programs\\Julia\\Julia-1.4.0\\share\\julia\\stdlib\\v1.4\\LinearAlgebra\\src\\bidiag.jl:672</a></li> <li> *(A::<b>LinearAlgebra.SymTridiagonal</b>, B::<b>LinearAlgebra.Diagonal</b>) in LinearAlgebra at <a href=\"file://D:/buildbot/worker/package_win64/build/usr/share/julia/stdlib/v1.4/LinearAlgebra/src/bidiag.jl\" target=\"_blank\">C:\\Users\\chuan\\AppData\\Local\\Programs\\Julia\\Julia-1.4.0\\share\\julia\\stdlib\\v1.4\\LinearAlgebra\\src\\bidiag.jl:687</a></li> <li> *(A::<b>LinearAlgebra.Adjoint{#s662,#s661} where #s661<:(AbstractArray{T,2} where T) where #s662</b>, B::<b>LinearAlgebra.Adjoint{#s660,#s659} where #s659<:LinearAlgebra.AbstractRotation where #s660</b>) in LinearAlgebra at <a href=\"file://D:/buildbot/worker/package_win64/build/usr/share/julia/stdlib/v1.4/LinearAlgebra/src/givens.jl\" target=\"_blank\">C:\\Users\\chuan\\AppData\\Local\\Programs\\Julia\\Julia-1.4.0\\share\\julia\\stdlib\\v1.4\\LinearAlgebra\\src\\givens.jl:390</a></li> <li> *(A::<b>LinearAlgebra.Transpose{#s662,#s661} where #s661<:(AbstractArray{T,2} where T) where #s662</b>, B::<b>LinearAlgebra.Adjoint{#s660,#s659} where #s659<:LinearAlgebra.AbstractRotation where #s660</b>) in LinearAlgebra at <a href=\"file://D:/buildbot/worker/package_win64/build/usr/share/julia/stdlib/v1.4/LinearAlgebra/src/givens.jl\" target=\"_blank\">C:\\Users\\chuan\\AppData\\Local\\Programs\\Julia\\Julia-1.4.0\\share\\julia\\stdlib\\v1.4\\LinearAlgebra\\src\\givens.jl:392</a></li> <li> *(x::<b>Union{SubArray{T,1,#s662,Tuple{Base.Slice{Base.OneTo{Int64}},Int64},false} where #s662<:SparseArrays.AbstractSparseMatrixCSC, SparseArrays.SparseVector{T,Ti} where Ti<:Integer} where T</b>, a::<b>Number</b>) in SparseArrays at <a href=\"file://D:/buildbot/worker/package_win64/build/usr/share/julia/stdlib/v1.4/SparseArrays/src/sparsevector.jl\" target=\"_blank\">C:\\Users\\chuan\\AppData\\Local\\Programs\\Julia\\Julia-1.4.0\\share\\julia\\stdlib\\v1.4\\SparseArrays\\src\\sparsevector.jl:1406</a></li> <li> *(A::<b>SparseArrays.AbstractSparseMatrixCSC</b>, B::<b>SparseArrays.AbstractSparseMatrixCSC</b>) in SparseArrays at <a href=\"file://D:/buildbot/worker/package_win64/build/usr/share/julia/stdlib/v1.4/SparseArrays/src/linalg.jl\" target=\"_blank\">C:\\Users\\chuan\\AppData\\Local\\Programs\\Julia\\Julia-1.4.0\\share\\julia\\stdlib\\v1.4\\SparseArrays\\src\\linalg.jl:163</a></li> <li> *(A::<b>SparseArrays.AbstractSparseMatrixCSC</b>, x::<b>SparseArrays.AbstractSparseArray{Tv,Ti,1} where Ti where Tv</b>) in SparseArrays at <a href=\"file://D:/buildbot/worker/package_win64/build/usr/share/julia/stdlib/v1.4/SparseArrays/src/sparsevector.jl\" target=\"_blank\">C:\\Users\\chuan\\AppData\\Local\\Programs\\Julia\\Julia-1.4.0\\share\\julia\\stdlib\\v1.4\\SparseArrays\\src\\sparsevector.jl:1722</a></li> <li> *(A::<b>SparseArrays.AbstractSparseMatrixCSC{TA,Ti} where Ti<:Integer</b>, x::<b>Union{DenseArray{Tx,1}, Base.ReinterpretArray{Tx,1,S,A} where S where A<:Union{SubArray{T,N,A,I,true} where I<:Union{Tuple{Vararg{Real,N} where N}, Tuple{AbstractUnitRange,Vararg{Any,N} where N}} where A<:DenseArray where N where T, DenseArray}, Base.ReshapedArray{Tx,1,A,MI} where MI<:Tuple{Vararg{Base.MultiplicativeInverses.SignedMultiplicativeInverse{Int64},N} where N} where A<:Union{Base.ReinterpretArray{T,N,S,A} where S where A<:Union{SubArray{T,N,A,I,true} where I<:Union{Tuple{Vararg{Real,N} where N}, Tuple{AbstractUnitRange,Vararg{Any,N} where N}} where A<:DenseArray where N where T, DenseArray} where N where T, SubArray{T,N,A,I,true} where I<:Union{Tuple{Vararg{Real,N} where N}, Tuple{AbstractUnitRange,Vararg{Any,N} where N}} where A<:DenseArray where N where T, DenseArray}, SubArray{Tx,1,A,I,L} where L where I<:Tuple{Vararg{Union{Int64, AbstractRange{Int64}, Base.AbstractCartesianIndex},N} where N} where A<:Union{Base.ReinterpretArray{T,N,S,A} where S where A<:Union{SubArray{T,N,A,I,true} where I<:Union{Tuple{Vararg{Real,N} where N}, Tuple{AbstractUnitRange,Vararg{Any,N} where N}} where A<:DenseArray where N where T, DenseArray} where N where T, Base.ReshapedArray{T,N,A,MI} where MI<:Tuple{Vararg{Base.MultiplicativeInverses.SignedMultiplicativeInverse{Int64},N} where N} where A<:Union{Base.ReinterpretArray{T,N,S,A} where S where A<:Union{SubArray{T,N,A,I,true} where I<:Union{Tuple{Vararg{Real,N} where N}, Tuple{AbstractUnitRange,Vararg{Any,N} where N}} where A<:DenseArray where N where T, DenseArray} where N where T, SubArray{T,N,A,I,true} where I<:Union{Tuple{Vararg{Real,N} where N}, Tuple{AbstractUnitRange,Vararg{Any,N} where N}} where A<:DenseArray where N where T, DenseArray} where N where T, DenseArray}}</b>)<i> where {TA, Tx}</i> in SparseArrays at <a href=\"file://D:/buildbot/worker/package_win64/build/usr/share/julia/stdlib/v1.4/SparseArrays/src/linalg.jl\" target=\"_blank\">C:\\Users\\chuan\\AppData\\Local\\Programs\\Julia\\Julia-1.4.0\\share\\julia\\stdlib\\v1.4\\SparseArrays\\src\\linalg.jl:29</a></li> <li> *(A::<b>SparseArrays.AbstractSparseMatrixCSC{TA,Ti} where Ti<:Integer</b>, B::<b>Union{DenseArray{Tx,2}, Base.ReinterpretArray{Tx,2,S,A} where S where A<:Union{SubArray{T,N,A,I,true} where I<:Union{Tuple{Vararg{Real,N} where N}, Tuple{AbstractUnitRange,Vararg{Any,N} where N}} where A<:DenseArray where N where T, DenseArray}, Base.ReshapedArray{Tx,2,A,MI} where MI<:Tuple{Vararg{Base.MultiplicativeInverses.SignedMultiplicativeInverse{Int64},N} where N} where A<:Union{Base.ReinterpretArray{T,N,S,A} where S where A<:Union{SubArray{T,N,A,I,true} where I<:Union{Tuple{Vararg{Real,N} where N}, Tuple{AbstractUnitRange,Vararg{Any,N} where N}} where A<:DenseArray where N where T, DenseArray} where N where T, SubArray{T,N,A,I,true} where I<:Union{Tuple{Vararg{Real,N} where N}, Tuple{AbstractUnitRange,Vararg{Any,N} where N}} where A<:DenseArray where N where T, DenseArray}, SubArray{Tx,2,A,I,L} where L where I<:Tuple{Vararg{Union{Int64, AbstractRange{Int64}, Base.AbstractCartesianIndex},N} where N} where A<:Union{Base.ReinterpretArray{T,N,S,A} where S where A<:Union{SubArray{T,N,A,I,true} where I<:Union{Tuple{Vararg{Real,N} where N}, Tuple{AbstractUnitRange,Vararg{Any,N} where N}} where A<:DenseArray where N where T, DenseArray} where N where T, Base.ReshapedArray{T,N,A,MI} where MI<:Tuple{Vararg{Base.MultiplicativeInverses.SignedMultiplicativeInverse{Int64},N} where N} where A<:Union{Base.ReinterpretArray{T,N,S,A} where S where A<:Union{SubArray{T,N,A,I,true} where I<:Union{Tuple{Vararg{Real,N} where N}, Tuple{AbstractUnitRange,Vararg{Any,N} where N}} where A<:DenseArray where N where T, DenseArray} where N where T, SubArray{T,N,A,I,true} where I<:Union{Tuple{Vararg{Real,N} where N}, Tuple{AbstractUnitRange,Vararg{Any,N} where N}} where A<:DenseArray where N where T, DenseArray} where N where T, DenseArray}, LinearAlgebra.Adjoint{#s662,#s661} where #s661<:Union{DenseArray{Tx,2}, Base.ReinterpretArray{Tx,2,S,A} where S where A<:Union{SubArray{T,N,A,I,true} where I<:Union{Tuple{Vararg{Real,N} where N}, Tuple{AbstractUnitRange,Vararg{Any,N} where N}} where A<:DenseArray where N where T, DenseArray}, Base.ReshapedArray{Tx,2,A,MI} where MI<:Tuple{Vararg{Base.MultiplicativeInverses.SignedMultiplicativeInverse{Int64},N} where N} where A<:Union{Base.ReinterpretArray{T,N,S,A} where S where A<:Union{SubArray{T,N,A,I,true} where I<:Union{Tuple{Vararg{Real,N} where N}, Tuple{AbstractUnitRange,Vararg{Any,N} where N}} where A<:DenseArray where N where T, DenseArray} where N where T, SubArray{T,N,A,I,true} where I<:Union{Tuple{Vararg{Real,N} where N}, Tuple{AbstractUnitRange,Vararg{Any,N} where N}} where A<:DenseArray where N where T, DenseArray}, SubArray{Tx,2,A,I,L} where L where I<:Tuple{Vararg{Union{Int64, AbstractRange{Int64}, Base.AbstractCartesianIndex},N} where N} where A<:Union{Base.ReinterpretArray{T,N,S,A} where S where A<:Union{SubArray{T,N,A,I,true} where I<:Union{Tuple{Vararg{Real,N} where N}, Tuple{AbstractUnitRange,Vararg{Any,N} where N}} where A<:DenseArray where N where T, DenseArray} where N where T, Base.ReshapedArray{T,N,A,MI} where MI<:Tuple{Vararg{Base.MultiplicativeInverses.SignedMultiplicativeInverse{Int64},N} where N} where A<:Union{Base.ReinterpretArray{T,N,S,A} where S where A<:Union{SubArray{T,N,A,I,true} where I<:Union{Tuple{Vararg{Real,N} where N}, Tuple{AbstractUnitRange,Vararg{Any,N} where N}} where A<:DenseArray where N where T, DenseArray} where N where T, SubArray{T,N,A,I,true} where I<:Union{Tuple{Vararg{Real,N} where N}, Tuple{AbstractUnitRange,Vararg{Any,N} where N}} where A<:DenseArray where N where T, DenseArray} where N where T, DenseArray}, LinearAlgebra.LowerTriangular{Tx,S} where S<:AbstractArray{Tx,2}, LinearAlgebra.UnitLowerTriangular{Tx,S} where S<:AbstractArray{Tx,2}, LinearAlgebra.UnitUpperTriangular{Tx,S} where S<:AbstractArray{Tx,2}, LinearAlgebra.UpperTriangular{Tx,S} where S<:AbstractArray{Tx,2}} where #s662, LinearAlgebra.LowerTriangular{Tx,S} where S<:AbstractArray{Tx,2}, LinearAlgebra.Transpose{#s660,#s659} where #s659<:Union{DenseArray{Tx,2}, Base.ReinterpretArray{Tx,2,S,A} where S where A<:Union{SubArray{T,N,A,I,true} where I<:Union{Tuple{Vararg{Real,N} where N}, Tuple{AbstractUnitRange,Vararg{Any,N} where N}} where A<:DenseArray where N where T, DenseArray}, Base.ReshapedArray{Tx,2,A,MI} where MI<:Tuple{Vararg{Base.MultiplicativeInverses.SignedMultiplicativeInverse{Int64},N} where N} where A<:Union{Base.ReinterpretArray{T,N,S,A} where S where A<:Union{SubArray{T,N,A,I,true} where I<:Union{Tuple{Vararg{Real,N} where N}, Tuple{AbstractUnitRange,Vararg{Any,N} where N}} where A<:DenseArray where N where T, DenseArray} where N where T, SubArray{T,N,A,I,true} where I<:Union{Tuple{Vararg{Real,N} where N}, Tuple{AbstractUnitRange,Vararg{Any,N} where N}} where A<:DenseArray where N where T, DenseArray}, SubArray{Tx,2,A,I,L} where L where I<:Tuple{Vararg{Union{Int64, AbstractRange{Int64}, Base.AbstractCartesianIndex},N} where N} where A<:Union{Base.ReinterpretArray{T,N,S,A} where S where A<:Union{SubArray{T,N,A,I,true} where I<:Union{Tuple{Vararg{Real,N} where N}, Tuple{AbstractUnitRange,Vararg{Any,N} where N}} where A<:DenseArray where N where T, DenseArray} where N where T, Base.ReshapedArray{T,N,A,MI} where MI<:Tuple{Vararg{Base.MultiplicativeInverses.SignedMultiplicativeInverse{Int64},N} where N} where A<:Union{Base.ReinterpretArray{T,N,S,A} where S where A<:Union{SubArray{T,N,A,I,true} where I<:Union{Tuple{Vararg{Real,N} where N}, Tuple{AbstractUnitRange,Vararg{Any,N} where N}} where A<:DenseArray where N where T, DenseArray} where N where T, SubArray{T,N,A,I,true} where I<:Union{Tuple{Vararg{Real,N} where N}, Tuple{AbstractUnitRange,Vararg{Any,N} where N}} where A<:DenseArray where N where T, DenseArray} where N where T, DenseArray}, LinearAlgebra.LowerTriangular{Tx,S} where S<:AbstractArray{Tx,2}, LinearAlgebra.UnitLowerTriangular{Tx,S} where S<:AbstractArray{Tx,2}, LinearAlgebra.UnitUpperTriangular{Tx,S} where S<:AbstractArray{Tx,2}, LinearAlgebra.UpperTriangular{Tx,S} where S<:AbstractArray{Tx,2}} where #s660, LinearAlgebra.UnitLowerTriangular{Tx,S} where S<:AbstractArray{Tx,2}, LinearAlgebra.UnitUpperTriangular{Tx,S} where S<:AbstractArray{Tx,2}, LinearAlgebra.UpperTriangular{Tx,S} where S<:AbstractArray{Tx,2}}</b>)<i> where {TA, Tx}</i> in SparseArrays at <a href=\"file://D:/buildbot/worker/package_win64/build/usr/share/julia/stdlib/v1.4/SparseArrays/src/linalg.jl\" target=\"_blank\">C:\\Users\\chuan\\AppData\\Local\\Programs\\Julia\\Julia-1.4.0\\share\\julia\\stdlib\\v1.4\\SparseArrays\\src\\linalg.jl:31</a></li> <li> *(A::<b>SparseArrays.AbstractSparseMatrixCSC</b>, D::<b>LinearAlgebra.Diagonal</b>) in SparseArrays at <a href=\"file://D:/buildbot/worker/package_win64/build/usr/share/julia/stdlib/v1.4/SparseArrays/src/linalg.jl\" target=\"_blank\">C:\\Users\\chuan\\AppData\\Local\\Programs\\Julia\\Julia-1.4.0\\share\\julia\\stdlib\\v1.4\\SparseArrays\\src\\linalg.jl:156</a></li> <li> *(A::<b>SparseArrays.AbstractSparseMatrixCSC</b>, B::<b>LinearAlgebra.Adjoint{#s662,#s661} where #s661<:SparseArrays.AbstractSparseMatrixCSC where #s662</b>) in SparseArrays at <a href=\"file://D:/buildbot/worker/package_win64/build/usr/share/julia/stdlib/v1.4/SparseArrays/src/linalg.jl\" target=\"_blank\">C:\\Users\\chuan\\AppData\\Local\\Programs\\Julia\\Julia-1.4.0\\share\\julia\\stdlib\\v1.4\\SparseArrays\\src\\linalg.jl:164</a></li> <li> *(A::<b>SparseArrays.AbstractSparseMatrixCSC</b>, B::<b>LinearAlgebra.Transpose{#s662,#s661} where #s661<:SparseArrays.AbstractSparseMatrixCSC where #s662</b>) in SparseArrays at <a href=\"file://D:/buildbot/worker/package_win64/build/usr/share/julia/stdlib/v1.4/SparseArrays/src/linalg.jl\" target=\"_blank\">C:\\Users\\chuan\\AppData\\Local\\Programs\\Julia\\Julia-1.4.0\\share\\julia\\stdlib\\v1.4\\SparseArrays\\src\\linalg.jl:165</a></li> <li> *(A::<b>Union{LinearAlgebra.Bidiagonal, LinearAlgebra.SymTridiagonal, LinearAlgebra.Tridiagonal}</b>, B::<b>Union{LinearAlgebra.Bidiagonal, LinearAlgebra.SymTridiagonal, LinearAlgebra.Tridiagonal}</b>) in SparseArrays at <a href=\"file://D:/buildbot/worker/package_win64/build/usr/share/julia/stdlib/v1.4/SparseArrays/src/SparseArrays.jl\" target=\"_blank\">C:\\Users\\chuan\\AppData\\Local\\Programs\\Julia\\Julia-1.4.0\\share\\julia\\stdlib\\v1.4\\SparseArrays\\src\\SparseArrays.jl:59</a></li> <li> *(A::<b>SuiteSparse.CHOLMOD.Sparse</b>, B::<b>SuiteSparse.CHOLMOD.Sparse</b>) in SuiteSparse.CHOLMOD at <a href=\"file://D:/buildbot/worker/package_win64/build/usr/share/julia/stdlib/v1.4/SuiteSparse/src/cholmod.jl\" target=\"_blank\">C:\\Users\\chuan\\AppData\\Local\\Programs\\Julia\\Julia-1.4.0\\share\\julia\\stdlib\\v1.4\\SuiteSparse\\src\\cholmod.jl:1233</a></li> <li> *(A::<b>SuiteSparse.CHOLMOD.Sparse</b>, B::<b>SuiteSparse.CHOLMOD.Dense</b>) in SuiteSparse.CHOLMOD at <a href=\"file://D:/buildbot/worker/package_win64/build/usr/share/julia/stdlib/v1.4/SuiteSparse/src/cholmod.jl\" target=\"_blank\">C:\\Users\\chuan\\AppData\\Local\\Programs\\Julia\\Julia-1.4.0\\share\\julia\\stdlib\\v1.4\\SuiteSparse\\src\\cholmod.jl:1234</a></li> <li> *(A::<b>SuiteSparse.CHOLMOD.Sparse</b>, B::<b>Union{Array{T,2}, Array{T,1}} where T</b>) in SuiteSparse.CHOLMOD at <a href=\"file://D:/buildbot/worker/package_win64/build/usr/share/julia/stdlib/v1.4/SuiteSparse/src/cholmod.jl\" target=\"_blank\">C:\\Users\\chuan\\AppData\\Local\\Programs\\Julia\\Julia-1.4.0\\share\\julia\\stdlib\\v1.4\\SuiteSparse\\src\\cholmod.jl:1235</a></li> <li> *(A::<b>SuiteSparse.CHOLMOD.Sparse{Tv}</b>, adjB::<b>LinearAlgebra.Adjoint{Tv,SuiteSparse.CHOLMOD.Sparse{Tv}}</b>)<i> where Tv<:Float64</i> in SuiteSparse.CHOLMOD at <a href=\"file://D:/buildbot/worker/package_win64/build/usr/share/julia/stdlib/v1.4/SuiteSparse/src/cholmod.jl\" target=\"_blank\">C:\\Users\\chuan\\AppData\\Local\\Programs\\Julia\\Julia-1.4.0\\share\\julia\\stdlib\\v1.4\\SuiteSparse\\src\\cholmod.jl:1238</a></li> <li> *(A::<b>LinearAlgebra.Symmetric{Float64,SparseArrays.SparseMatrixCSC{Float64,Ti}}</b>, B::<b>Union{SparseArrays.SparseMatrixCSC{Float64,Ti}, SparseArrays.SparseVector{Float64,Ti}}</b>)<i> where Ti</i> in SuiteSparse.CHOLMOD at <a href=\"file://D:/buildbot/worker/package_win64/build/usr/share/julia/stdlib/v1.4/SuiteSparse/src/cholmod.jl\" target=\"_blank\">C:\\Users\\chuan\\AppData\\Local\\Programs\\Julia\\Julia-1.4.0\\share\\julia\\stdlib\\v1.4\\SuiteSparse\\src\\cholmod.jl:1857</a></li> <li> *(A::<b>LinearAlgebra.Hermitian{Complex{Float64},SparseArrays.SparseMatrixCSC{Complex{Float64},Ti}}</b>, B::<b>Union{SparseArrays.SparseMatrixCSC{Complex{Float64},Ti}, SparseArrays.SparseVector{Complex{Float64},Ti}}</b>)<i> where Ti</i> in SuiteSparse.CHOLMOD at <a href=\"file://D:/buildbot/worker/package_win64/build/usr/share/julia/stdlib/v1.4/SuiteSparse/src/cholmod.jl\" target=\"_blank\">C:\\Users\\chuan\\AppData\\Local\\Programs\\Julia\\Julia-1.4.0\\share\\julia\\stdlib\\v1.4\\SuiteSparse\\src\\cholmod.jl:1859</a></li> <li> *(A::<b>LinearAlgebra.Hermitian{Float64,SparseArrays.SparseMatrixCSC{Float64,Ti}}</b>, B::<b>Union{SparseArrays.SparseMatrixCSC{Float64,Ti}, SparseArrays.SparseVector{Float64,Ti}}</b>)<i> where Ti</i> in SuiteSparse.CHOLMOD at <a href=\"file://D:/buildbot/worker/package_win64/build/usr/share/julia/stdlib/v1.4/SuiteSparse/src/cholmod.jl\" target=\"_blank\">C:\\Users\\chuan\\AppData\\Local\\Programs\\Julia\\Julia-1.4.0\\share\\julia\\stdlib\\v1.4\\SuiteSparse\\src\\cholmod.jl:1861</a></li> <li> *(A::<b>Union{SparseArrays.SparseMatrixCSC{Float64,Ti}, SparseArrays.SparseVector{Float64,Ti}}</b>, B::<b>LinearAlgebra.Symmetric{Float64,SparseArrays.SparseMatrixCSC{Float64,Ti}}</b>)<i> where Ti</i> in SuiteSparse.CHOLMOD at <a href=\"file://D:/buildbot/worker/package_win64/build/usr/share/julia/stdlib/v1.4/SuiteSparse/src/cholmod.jl\" target=\"_blank\">C:\\Users\\chuan\\AppData\\Local\\Programs\\Julia\\Julia-1.4.0\\share\\julia\\stdlib\\v1.4\\SuiteSparse\\src\\cholmod.jl:1864</a></li> <li> *(A::<b>Union{SparseArrays.SparseMatrixCSC{Complex{Float64},Ti}, SparseArrays.SparseVector{Complex{Float64},Ti}}</b>, B::<b>LinearAlgebra.Hermitian{Complex{Float64},SparseArrays.SparseMatrixCSC{Complex{Float64},Ti}}</b>)<i> where Ti</i> in SuiteSparse.CHOLMOD at <a href=\"file://D:/buildbot/worker/package_win64/build/usr/share/julia/stdlib/v1.4/SuiteSparse/src/cholmod.jl\" target=\"_blank\">C:\\Users\\chuan\\AppData\\Local\\Programs\\Julia\\Julia-1.4.0\\share\\julia\\stdlib\\v1.4\\SuiteSparse\\src\\cholmod.jl:1866</a></li> <li> *(A::<b>Union{SparseArrays.SparseMatrixCSC{Float64,Ti}, SparseArrays.SparseVector{Float64,Ti}}</b>, B::<b>LinearAlgebra.Hermitian{Float64,SparseArrays.SparseMatrixCSC{Float64,Ti}}</b>)<i> where Ti</i> in SuiteSparse.CHOLMOD at <a href=\"file://D:/buildbot/worker/package_win64/build/usr/share/julia/stdlib/v1.4/SuiteSparse/src/cholmod.jl\" target=\"_blank\">C:\\Users\\chuan\\AppData\\Local\\Programs\\Julia\\Julia-1.4.0\\share\\julia\\stdlib\\v1.4\\SuiteSparse\\src\\cholmod.jl:1868</a></li> <li> *(x::<b>AbstractArray{#s69,2} where #s69<:Number</b>) in Base at <a href=\"https://github.com/JuliaLang/julia/tree/b8e9a9ecc62ab49003bd4f1834771bdeb8cb1aa2/base/abstractarraymath.jl#L98\" target=\"_blank\">abstractarraymath.jl:98</a></li> <li> *(B::<b>Number</b>, A::<b>LinearAlgebra.SymTridiagonal</b>) in LinearAlgebra at <a href=\"file://D:/buildbot/worker/package_win64/build/usr/share/julia/stdlib/v1.4/LinearAlgebra/src/tridiag.jl\" target=\"_blank\">C:\\Users\\chuan\\AppData\\Local\\Programs\\Julia\\Julia-1.4.0\\share\\julia\\stdlib\\v1.4\\LinearAlgebra\\src\\tridiag.jl:161</a></li> <li> *(B::<b>Number</b>, A::<b>LinearAlgebra.Tridiagonal</b>) in LinearAlgebra at <a href=\"file://D:/buildbot/worker/package_win64/build/usr/share/julia/stdlib/v1.4/LinearAlgebra/src/tridiag.jl\" target=\"_blank\">C:\\Users\\chuan\\AppData\\Local\\Programs\\Julia\\Julia-1.4.0\\share\\julia\\stdlib\\v1.4\\LinearAlgebra\\src\\tridiag.jl:660</a></li> <li> *(x::<b>Number</b>, A::<b>LinearAlgebra.UpperTriangular</b>) in LinearAlgebra at <a href=\"file://D:/buildbot/worker/package_win64/build/usr/share/julia/stdlib/v1.4/LinearAlgebra/src/triangular.jl\" target=\"_blank\">C:\\Users\\chuan\\AppData\\Local\\Programs\\Julia\\Julia-1.4.0\\share\\julia\\stdlib\\v1.4\\LinearAlgebra\\src\\triangular.jl:847</a></li> <li> *(x::<b>Number</b>, A::<b>LinearAlgebra.UnitUpperTriangular</b>) in LinearAlgebra at <a href=\"file://D:/buildbot/worker/package_win64/build/usr/share/julia/stdlib/v1.4/LinearAlgebra/src/triangular.jl\" target=\"_blank\">C:\\Users\\chuan\\AppData\\Local\\Programs\\Julia\\Julia-1.4.0\\share\\julia\\stdlib\\v1.4\\LinearAlgebra\\src\\triangular.jl:850</a></li> <li> *(x::<b>Number</b>, A::<b>LinearAlgebra.LowerTriangular</b>) in LinearAlgebra at <a href=\"file://D:/buildbot/worker/package_win64/build/usr/share/julia/stdlib/v1.4/LinearAlgebra/src/triangular.jl\" target=\"_blank\">C:\\Users\\chuan\\AppData\\Local\\Programs\\Julia\\Julia-1.4.0\\share\\julia\\stdlib\\v1.4\\LinearAlgebra\\src\\triangular.jl:847</a></li> <li> *(x::<b>Number</b>, A::<b>LinearAlgebra.UnitLowerTriangular</b>) in LinearAlgebra at <a href=\"file://D:/buildbot/worker/package_win64/build/usr/share/julia/stdlib/v1.4/LinearAlgebra/src/triangular.jl\" target=\"_blank\">C:\\Users\\chuan\\AppData\\Local\\Programs\\Julia\\Julia-1.4.0\\share\\julia\\stdlib\\v1.4\\LinearAlgebra\\src\\triangular.jl:850</a></li> <li> *(x::<b>Number</b>, A::<b>LinearAlgebra.Symmetric</b>) in LinearAlgebra at <a href=\"file://D:/buildbot/worker/package_win64/build/usr/share/julia/stdlib/v1.4/LinearAlgebra/src/symmetric.jl\" target=\"_blank\">C:\\Users\\chuan\\AppData\\Local\\Programs\\Julia\\Julia-1.4.0\\share\\julia\\stdlib\\v1.4\\LinearAlgebra\\src\\symmetric.jl:614</a></li> <li> *(x::<b>Number</b>, D::<b>LinearAlgebra.Diagonal</b>) in LinearAlgebra at <a href=\"file://D:/buildbot/worker/package_win64/build/usr/share/julia/stdlib/v1.4/LinearAlgebra/src/diagonal.jl\" target=\"_blank\">C:\\Users\\chuan\\AppData\\Local\\Programs\\Julia\\Julia-1.4.0\\share\\julia\\stdlib\\v1.4\\LinearAlgebra\\src\\diagonal.jl:159</a></li> <li> *(B::<b>Number</b>, A::<b>LinearAlgebra.Bidiagonal</b>) in LinearAlgebra at <a href=\"file://D:/buildbot/worker/package_win64/build/usr/share/julia/stdlib/v1.4/LinearAlgebra/src/bidiag.jl\" target=\"_blank\">C:\\Users\\chuan\\AppData\\Local\\Programs\\Julia\\Julia-1.4.0\\share\\julia\\stdlib\\v1.4\\LinearAlgebra\\src\\bidiag.jl:328</a></li> <li> *(a::<b>Number</b>, x::<b>Union{SubArray{T,1,#s662,Tuple{Base.Slice{Base.OneTo{Int64}},Int64},false} where #s662<:SparseArrays.AbstractSparseMatrixCSC, SparseArrays.SparseVector{T,Ti} where Ti<:Integer} where T</b>) in SparseArrays at <a href=\"file://D:/buildbot/worker/package_win64/build/usr/share/julia/stdlib/v1.4/SparseArrays/src/sparsevector.jl\" target=\"_blank\">C:\\Users\\chuan\\AppData\\Local\\Programs\\Julia\\Julia-1.4.0\\share\\julia\\stdlib\\v1.4\\SparseArrays\\src\\sparsevector.jl:1407</a></li> <li> *(A::<b>Number</b>, B::<b>AbstractArray</b>) in Base at <a href=\"https://github.com/JuliaLang/julia/tree/b8e9a9ecc62ab49003bd4f1834771bdeb8cb1aa2/base/arraymath.jl#L52\" target=\"_blank\">arraymath.jl:52</a></li> <li> *(A::<b>AbstractArray</b>, B::<b>Number</b>) in Base at <a href=\"https://github.com/JuliaLang/julia/tree/b8e9a9ecc62ab49003bd4f1834771bdeb8cb1aa2/base/arraymath.jl#L55\" target=\"_blank\">arraymath.jl:55</a></li> <li> *(s1::<b>Union{AbstractChar, AbstractString}</b>, ss::<b>Union{AbstractChar, AbstractString}...</b>) in Base at <a href=\"https://github.com/JuliaLang/julia/tree/b8e9a9ecc62ab49003bd4f1834771bdeb8cb1aa2/base/strings/basic.jl#L231\" target=\"_blank\">strings/basic.jl:231</a></li> <li> *(r1::<b>Union{Regex, AbstractChar, AbstractString}</b>, rs::<b>Union{Regex, AbstractChar, AbstractString}...</b>) in Base at <a href=\"https://github.com/JuliaLang/julia/tree/b8e9a9ecc62ab49003bd4f1834771bdeb8cb1aa2/base/regex.jl#L640\" target=\"_blank\">regex.jl:640</a></li> <li> *(index::<b>CartesianIndex</b>, a::<b>Integer</b>) in Base.IteratorsMD at <a href=\"https://github.com/JuliaLang/julia/tree/b8e9a9ecc62ab49003bd4f1834771bdeb8cb1aa2/base/multidimensional.jl#L121\" target=\"_blank\">multidimensional.jl:121</a></li> <li> *(::<b>Number</b>, ::<b>Missing</b>) in Base at <a href=\"https://github.com/JuliaLang/julia/tree/b8e9a9ecc62ab49003bd4f1834771bdeb8cb1aa2/base/missing.jl#L116\" target=\"_blank\">missing.jl:116</a></li> <li> *(d::<b>AbstractString</b>, x::<b>Missing</b>) in Base at <a href=\"https://github.com/JuliaLang/julia/tree/b8e9a9ecc62ab49003bd4f1834771bdeb8cb1aa2/base/missing.jl#L175\" target=\"_blank\">missing.jl:175</a></li> <li> *(x::<b>P</b>, y::<b>Real</b>)<i> where P<:Dates.Period</i> in Dates at <a href=\"file://D:/buildbot/worker/package_win64/build/usr/share/julia/stdlib/v1.4/Dates/src/periods.jl\" target=\"_blank\">C:\\Users\\chuan\\AppData\\Local\\Programs\\Julia\\Julia-1.4.0\\share\\julia\\stdlib\\v1.4\\Dates\\src\\periods.jl:90</a></li> <li> *(u::<b>AbstractArray{T,1} where T</b>, v::<b>Union{LinearAlgebra.Adjoint{T,#s662}, LinearAlgebra.Transpose{T,#s662}} where #s662<:(AbstractArray{T,1} where T) where T</b>) in LinearAlgebra at <a href=\"file://D:/buildbot/worker/package_win64/build/usr/share/julia/stdlib/v1.4/LinearAlgebra/src/adjtrans.jl\" target=\"_blank\">C:\\Users\\chuan\\AppData\\Local\\Programs\\Julia\\Julia-1.4.0\\share\\julia\\stdlib\\v1.4\\LinearAlgebra\\src\\adjtrans.jl:253</a></li> <li> *(A::<b>AbstractArray{T,2} where T</b>, B::<b>LinearAlgebra.AbstractTriangular</b>) in LinearAlgebra at <a href=\"file://D:/buildbot/worker/package_win64/build/usr/share/julia/stdlib/v1.4/LinearAlgebra/src/triangular.jl\" target=\"_blank\">C:\\Users\\chuan\\AppData\\Local\\Programs\\Julia\\Julia-1.4.0\\share\\julia\\stdlib\\v1.4\\LinearAlgebra\\src\\triangular.jl:2095</a></li> <li> *(A::<b>AbstractArray{T,2} where T</b>, adjB::<b>LinearAlgebra.Adjoint{#s662,#s661} where #s661<:LinearAlgebra.AbstractTriangular where #s662</b>) in LinearAlgebra at <a href=\"file://D:/buildbot/worker/package_win64/build/usr/share/julia/stdlib/v1.4/LinearAlgebra/src/triangular.jl\" target=\"_blank\">C:\\Users\\chuan\\AppData\\Local\\Programs\\Julia\\Julia-1.4.0\\share\\julia\\stdlib\\v1.4\\LinearAlgebra\\src\\triangular.jl:2102</a></li> <li> *(A::<b>AbstractArray{T,2} where T</b>, transB::<b>LinearAlgebra.Transpose{#s662,#s661} where #s661<:LinearAlgebra.AbstractTriangular where #s662</b>) in LinearAlgebra at <a href=\"file://D:/buildbot/worker/package_win64/build/usr/share/julia/stdlib/v1.4/LinearAlgebra/src/triangular.jl\" target=\"_blank\">C:\\Users\\chuan\\AppData\\Local\\Programs\\Julia\\Julia-1.4.0\\share\\julia\\stdlib\\v1.4\\LinearAlgebra\\src\\triangular.jl:2110</a></li> <li> *(A::<b>AbstractArray{T,2} where T</b>, transB::<b>LinearAlgebra.Transpose{#s662,#s661} where #s661<:(Union{LinearAlgebra.Hermitian{T,S}, LinearAlgebra.Symmetric{Complex{T},S}, LinearAlgebra.Symmetric{T,S}} where S where T<:Real) where #s662</b>) in LinearAlgebra at <a href=\"file://D:/buildbot/worker/package_win64/build/usr/share/julia/stdlib/v1.4/LinearAlgebra/src/symmetric.jl\" target=\"_blank\">C:\\Users\\chuan\\AppData\\Local\\Programs\\Julia\\Julia-1.4.0\\share\\julia\\stdlib\\v1.4\\LinearAlgebra\\src\\symmetric.jl:586</a></li> <li> *(A::<b>AbstractArray{T,2} where T</b>, adjB::<b>LinearAlgebra.Adjoint{#s662,#s661} where #s661<:(Union{LinearAlgebra.Hermitian{Complex{T},S}, LinearAlgebra.Hermitian{T,S}, LinearAlgebra.Symmetric{T,S}} where S where T<:Real) where #s662</b>) in LinearAlgebra at <a href=\"file://D:/buildbot/worker/package_win64/build/usr/share/julia/stdlib/v1.4/LinearAlgebra/src/symmetric.jl\" target=\"_blank\">C:\\Users\\chuan\\AppData\\Local\\Programs\\Julia\\Julia-1.4.0\\share\\julia\\stdlib\\v1.4\\LinearAlgebra\\src\\symmetric.jl:590</a></li> <li> *(A::<b>AbstractArray{T,2} where T</b>, D::<b>LinearAlgebra.Diagonal</b>) in LinearAlgebra at <a href=\"file://D:/buildbot/worker/package_win64/build/usr/share/julia/stdlib/v1.4/LinearAlgebra/src/diagonal.jl\" target=\"_blank\">C:\\Users\\chuan\\AppData\\Local\\Programs\\Julia\\Julia-1.4.0\\share\\julia\\stdlib\\v1.4\\LinearAlgebra\\src\\diagonal.jl:170</a></li> <li> *(A::<b>AbstractArray{T,2} where T</b>, adjR::<b>LinearAlgebra.Adjoint{#s662,#s661} where #s661<:LinearAlgebra.AbstractRotation where #s662</b>) in LinearAlgebra at <a href=\"file://D:/buildbot/worker/package_win64/build/usr/share/julia/stdlib/v1.4/LinearAlgebra/src/givens.jl\" target=\"_blank\">C:\\Users\\chuan\\AppData\\Local\\Programs\\Julia\\Julia-1.4.0\\share\\julia\\stdlib\\v1.4\\LinearAlgebra\\src\\givens.jl:14</a></li> <li> *(A::<b>AbstractArray{T,2}</b>, x::<b>AbstractArray{S,1}</b>)<i> where {T, S}</i> in LinearAlgebra at <a href=\"file://D:/buildbot/worker/package_win64/build/usr/share/julia/stdlib/v1.4/LinearAlgebra/src/matmul.jl\" target=\"_blank\">C:\\Users\\chuan\\AppData\\Local\\Programs\\Julia\\Julia-1.4.0\\share\\julia\\stdlib\\v1.4\\LinearAlgebra\\src\\matmul.jl:50</a></li> <li> *(a::<b>AbstractArray{T,1} where T</b>, transB::<b>LinearAlgebra.Transpose{#s662,#s661} where #s661<:(AbstractArray{T,2} where T) where #s662</b>) in LinearAlgebra at <a href=\"file://D:/buildbot/worker/package_win64/build/usr/share/julia/stdlib/v1.4/LinearAlgebra/src/matmul.jl\" target=\"_blank\">C:\\Users\\chuan\\AppData\\Local\\Programs\\Julia\\Julia-1.4.0\\share\\julia\\stdlib\\v1.4\\LinearAlgebra\\src\\matmul.jl:56</a></li> <li> *(a::<b>AbstractArray{T,1} where T</b>, adjB::<b>LinearAlgebra.Adjoint{#s662,#s661} where #s661<:(AbstractArray{T,2} where T) where #s662</b>) in LinearAlgebra at <a href=\"file://D:/buildbot/worker/package_win64/build/usr/share/julia/stdlib/v1.4/LinearAlgebra/src/matmul.jl\" target=\"_blank\">C:\\Users\\chuan\\AppData\\Local\\Programs\\Julia\\Julia-1.4.0\\share\\julia\\stdlib\\v1.4\\LinearAlgebra\\src\\matmul.jl:60</a></li> <li> *(A::<b>AbstractArray{T,1} where T</b>, adjR::<b>LinearAlgebra.Adjoint{#s662,#s661} where #s661<:LinearAlgebra.AbstractRotation where #s662</b>) in LinearAlgebra at <a href=\"file://D:/buildbot/worker/package_win64/build/usr/share/julia/stdlib/v1.4/LinearAlgebra/src/givens.jl\" target=\"_blank\">C:\\Users\\chuan\\AppData\\Local\\Programs\\Julia\\Julia-1.4.0\\share\\julia\\stdlib\\v1.4\\LinearAlgebra\\src\\givens.jl:13</a></li> <li> *(a::<b>AbstractArray{T,1} where T</b>, B::<b>AbstractArray{T,2} where T</b>) in LinearAlgebra at <a href=\"file://D:/buildbot/worker/package_win64/build/usr/share/julia/stdlib/v1.4/LinearAlgebra/src/matmul.jl\" target=\"_blank\">C:\\Users\\chuan\\AppData\\Local\\Programs\\Julia\\Julia-1.4.0\\share\\julia\\stdlib\\v1.4\\LinearAlgebra\\src\\matmul.jl:63</a></li> <li> *(A::<b>AbstractArray{T,2} where T</b>, B::<b>AbstractArray{T,2} where T</b>) in LinearAlgebra at <a href=\"file://D:/buildbot/worker/package_win64/build/usr/share/julia/stdlib/v1.4/LinearAlgebra/src/matmul.jl\" target=\"_blank\">C:\\Users\\chuan\\AppData\\Local\\Programs\\Julia\\Julia-1.4.0\\share\\julia\\stdlib\\v1.4\\LinearAlgebra\\src\\matmul.jl:152</a></li> <li> *(A::<b>LinearAlgebra.LQ{TA,S} where S<:AbstractArray{TA,2}</b>, B::<b>Union{DenseArray{TB,1}, DenseArray{TB,2}, Base.ReinterpretArray{TB,1,S,A} where S where A<:Union{SubArray{T,N,A,I,true} where I<:Union{Tuple{Vararg{Real,N} where N}, Tuple{AbstractUnitRange,Vararg{Any,N} where N}} where A<:DenseArray where N where T, DenseArray}, Base.ReinterpretArray{TB,2,S,A} where S where A<:Union{SubArray{T,N,A,I,true} where I<:Union{Tuple{Vararg{Real,N} where N}, Tuple{AbstractUnitRange,Vararg{Any,N} where N}} where A<:DenseArray where N where T, DenseArray}, Base.ReshapedArray{TB,1,A,MI} where MI<:Tuple{Vararg{Base.MultiplicativeInverses.SignedMultiplicativeInverse{Int64},N} where N} where A<:Union{Base.ReinterpretArray{T,N,S,A} where S where A<:Union{SubArray{T,N,A,I,true} where I<:Union{Tuple{Vararg{Real,N} where N}, Tuple{AbstractUnitRange,Vararg{Any,N} where N}} where A<:DenseArray where N where T, DenseArray} where N where T, SubArray{T,N,A,I,true} where I<:Union{Tuple{Vararg{Real,N} where N}, Tuple{AbstractUnitRange,Vararg{Any,N} where N}} where A<:DenseArray where N where T, DenseArray}, Base.ReshapedArray{TB,2,A,MI} where MI<:Tuple{Vararg{Base.MultiplicativeInverses.SignedMultiplicativeInverse{Int64},N} where N} where A<:Union{Base.ReinterpretArray{T,N,S,A} where S where A<:Union{SubArray{T,N,A,I,true} where I<:Union{Tuple{Vararg{Real,N} where N}, Tuple{AbstractUnitRange,Vararg{Any,N} where N}} where A<:DenseArray where N where T, DenseArray} where N where T, SubArray{T,N,A,I,true} where I<:Union{Tuple{Vararg{Real,N} where N}, Tuple{AbstractUnitRange,Vararg{Any,N} where N}} where A<:DenseArray where N where T, DenseArray}, SubArray{TB,1,A,I,L} where L where I<:Tuple{Vararg{Union{Int64, AbstractRange{Int64}, Base.AbstractCartesianIndex},N} where N} where A<:Union{Base.ReinterpretArray{T,N,S,A} where S where A<:Union{SubArray{T,N,A,I,true} where I<:Union{Tuple{Vararg{Real,N} where N}, Tuple{AbstractUnitRange,Vararg{Any,N} where N}} where A<:DenseArray where N where T, DenseArray} where N where T, Base.ReshapedArray{T,N,A,MI} where MI<:Tuple{Vararg{Base.MultiplicativeInverses.SignedMultiplicativeInverse{Int64},N} where N} where A<:Union{Base.ReinterpretArray{T,N,S,A} where S where A<:Union{SubArray{T,N,A,I,true} where I<:Union{Tuple{Vararg{Real,N} where N}, Tuple{AbstractUnitRange,Vararg{Any,N} where N}} where A<:DenseArray where N where T, DenseArray} where N where T, SubArray{T,N,A,I,true} where I<:Union{Tuple{Vararg{Real,N} where N}, Tuple{AbstractUnitRange,Vararg{Any,N} where N}} where A<:DenseArray where N where T, DenseArray} where N where T, DenseArray}, SubArray{TB,2,A,I,L} where L where I<:Tuple{Vararg{Union{Int64, AbstractRange{Int64}, Base.AbstractCartesianIndex},N} where N} where A<:Union{Base.ReinterpretArray{T,N,S,A} where S where A<:Union{SubArray{T,N,A,I,true} where I<:Union{Tuple{Vararg{Real,N} where N}, Tuple{AbstractUnitRange,Vararg{Any,N} where N}} where A<:DenseArray where N where T, DenseArray} where N where T, Base.ReshapedArray{T,N,A,MI} where MI<:Tuple{Vararg{Base.MultiplicativeInverses.SignedMultiplicativeInverse{Int64},N} where N} where A<:Union{Base.ReinterpretArray{T,N,S,A} where S where A<:Union{SubArray{T,N,A,I,true} where I<:Union{Tuple{Vararg{Real,N} where N}, Tuple{AbstractUnitRange,Vararg{Any,N} where N}} where A<:DenseArray where N where T, DenseArray} where N where T, SubArray{T,N,A,I,true} where I<:Union{Tuple{Vararg{Real,N} where N}, Tuple{AbstractUnitRange,Vararg{Any,N} where N}} where A<:DenseArray where N where T, DenseArray} where N where T, DenseArray}}</b>)<i> where {TA, TB}</i> in LinearAlgebra at <a href=\"file://D:/buildbot/worker/package_win64/build/usr/share/julia/stdlib/v1.4/LinearAlgebra/src/lq.jl\" target=\"_blank\">C:\\Users\\chuan\\AppData\\Local\\Programs\\Julia\\Julia-1.4.0\\share\\julia\\stdlib\\v1.4\\LinearAlgebra\\src\\lq.jl:180</a></li> <li> *(J1::<b>LinearAlgebra.UniformScaling</b>, J2::<b>LinearAlgebra.UniformScaling</b>) in LinearAlgebra at <a href=\"file://D:/buildbot/worker/package_win64/build/usr/share/julia/stdlib/v1.4/LinearAlgebra/src/uniformscaling.jl\" target=\"_blank\">C:\\Users\\chuan\\AppData\\Local\\Programs\\Julia\\Julia-1.4.0\\share\\julia\\stdlib\\v1.4\\LinearAlgebra\\src\\uniformscaling.jl:194</a></li> <li> *(J::<b>LinearAlgebra.UniformScaling</b>, B::<b>BitArray{2}</b>) in LinearAlgebra at <a href=\"file://D:/buildbot/worker/package_win64/build/usr/share/julia/stdlib/v1.4/LinearAlgebra/src/uniformscaling.jl\" target=\"_blank\">C:\\Users\\chuan\\AppData\\Local\\Programs\\Julia\\Julia-1.4.0\\share\\julia\\stdlib\\v1.4\\LinearAlgebra\\src\\uniformscaling.jl:196</a></li> <li> *(A::<b>AbstractArray{T,2} where T</b>, J::<b>LinearAlgebra.UniformScaling</b>) in LinearAlgebra at <a href=\"file://D:/buildbot/worker/package_win64/build/usr/share/julia/stdlib/v1.4/LinearAlgebra/src/uniformscaling.jl\" target=\"_blank\">C:\\Users\\chuan\\AppData\\Local\\Programs\\Julia\\Julia-1.4.0\\share\\julia\\stdlib\\v1.4\\LinearAlgebra\\src\\uniformscaling.jl:197</a></li> <li> *(J::<b>LinearAlgebra.UniformScaling</b>, A::<b>Union{AbstractArray{T,2}, AbstractArray{T,1}} where T</b>) in LinearAlgebra at <a href=\"file://D:/buildbot/worker/package_win64/build/usr/share/julia/stdlib/v1.4/LinearAlgebra/src/uniformscaling.jl\" target=\"_blank\">C:\\Users\\chuan\\AppData\\Local\\Programs\\Julia\\Julia-1.4.0\\share\\julia\\stdlib\\v1.4\\LinearAlgebra\\src\\uniformscaling.jl:198</a></li> <li> *(x::<b>Number</b>, J::<b>LinearAlgebra.UniformScaling</b>) in LinearAlgebra at <a href=\"file://D:/buildbot/worker/package_win64/build/usr/share/julia/stdlib/v1.4/LinearAlgebra/src/uniformscaling.jl\" target=\"_blank\">C:\\Users\\chuan\\AppData\\Local\\Programs\\Julia\\Julia-1.4.0\\share\\julia\\stdlib\\v1.4\\LinearAlgebra\\src\\uniformscaling.jl:199</a></li> <li> *(J::<b>LinearAlgebra.UniformScaling</b>, x::<b>Number</b>) in LinearAlgebra at <a href=\"file://D:/buildbot/worker/package_win64/build/usr/share/julia/stdlib/v1.4/LinearAlgebra/src/uniformscaling.jl\" target=\"_blank\">C:\\Users\\chuan\\AppData\\Local\\Programs\\Julia\\Julia-1.4.0\\share\\julia\\stdlib\\v1.4\\LinearAlgebra\\src\\uniformscaling.jl:200</a></li> <li> *(F::<b>LinearAlgebra.Hessenberg{#s662,#s661,S,W,V} where V<:Number where W<:(AbstractArray{T,1} where T) where S<:(AbstractArray{T,2} where T) where #s661<:AbstractArray{T,2} where #s662</b>, x::<b>S</b>)<i> where {T, S<:Number}</i> in LinearAlgebra at <a href=\"file://D:/buildbot/worker/package_win64/build/usr/share/julia/stdlib/v1.4/LinearAlgebra/src/hessenberg.jl\" target=\"_blank\">C:\\Users\\chuan\\AppData\\Local\\Programs\\Julia\\Julia-1.4.0\\share\\julia\\stdlib\\v1.4\\LinearAlgebra\\src\\hessenberg.jl:541</a></li> <li> *(x::<b>S</b>, F::<b>LinearAlgebra.Hessenberg{#s662,#s661,S,W,V} where V<:Number where W<:(AbstractArray{T,1} where T) where S<:(AbstractArray{T,2} where T) where #s661<:AbstractArray{T,2} where #s662</b>)<i> where {T, S<:Number}</i> in LinearAlgebra at <a href=\"file://D:/buildbot/worker/package_win64/build/usr/share/julia/stdlib/v1.4/LinearAlgebra/src/hessenberg.jl\" target=\"_blank\">C:\\Users\\chuan\\AppData\\Local\\Programs\\Julia\\Julia-1.4.0\\share\\julia\\stdlib\\v1.4\\LinearAlgebra\\src\\hessenberg.jl:549</a></li> <li> *(R::<b>LinearAlgebra.AbstractRotation{T}</b>, A::<b>Union{AbstractArray{S,1}, AbstractArray{S,2}}</b>)<i> where {T, S}</i> in LinearAlgebra at <a href=\"file://D:/buildbot/worker/package_win64/build/usr/share/julia/stdlib/v1.4/LinearAlgebra/src/givens.jl\" target=\"_blank\">C:\\Users\\chuan\\AppData\\Local\\Programs\\Julia\\Julia-1.4.0\\share\\julia\\stdlib\\v1.4\\LinearAlgebra\\src\\givens.jl:10</a></li> <li> *(A::<b>AbstractArray{T,2}</b>, R::<b>LinearAlgebra.AbstractRotation{S}</b>)<i> where {T, S}</i> in LinearAlgebra at <a href=\"file://D:/buildbot/worker/package_win64/build/usr/share/julia/stdlib/v1.4/LinearAlgebra/src/givens.jl\" target=\"_blank\">C:\\Users\\chuan\\AppData\\Local\\Programs\\Julia\\Julia-1.4.0\\share\\julia\\stdlib\\v1.4\\LinearAlgebra\\src\\givens.jl:21</a></li> <li> *(G1::<b>LinearAlgebra.Givens{T}</b>, G2::<b>LinearAlgebra.Givens{T}</b>)<i> where T</i> in LinearAlgebra at <a href=\"file://D:/buildbot/worker/package_win64/build/usr/share/julia/stdlib/v1.4/LinearAlgebra/src/givens.jl\" target=\"_blank\">C:\\Users\\chuan\\AppData\\Local\\Programs\\Julia\\Julia-1.4.0\\share\\julia\\stdlib\\v1.4\\LinearAlgebra\\src\\givens.jl:383</a></li> <li> *(a::<b>Measures.Measure</b>, b::<b>Number</b>) in Measures at <a href=\"file://C:/Users/chuan/.julia/packages/Measures/0Zkai/src/operations.jl\" target=\"_blank\">C:\\Users\\chuan\\.julia\\packages\\Measures\\0Zkai\\src\\operations.jl:47</a></li> <li> *(a::<b>Number</b>, b::<b>Measures.Measure</b>) in Measures at <a href=\"file://C:/Users/chuan/.julia/packages/Measures/0Zkai/src/operations.jl\" target=\"_blank\">C:\\Users\\chuan\\.julia\\packages\\Measures\\0Zkai\\src\\operations.jl:48</a></li> <li> *(a::<b>Tuple{Vararg{Measures.Measure,N}} where N</b>, b::<b>Number</b>) in Measures at <a href=\"file://C:/Users/chuan/.julia/packages/Measures/0Zkai/src/point.jl\" target=\"_blank\">C:\\Users\\chuan\\.julia\\packages\\Measures\\0Zkai\\src\\point.jl:18</a></li> <li> *(a::<b>Number</b>, b::<b>Tuple{Vararg{Measures.Measure,N}} where N</b>) in Measures at <a href=\"file://C:/Users/chuan/.julia/packages/Measures/0Zkai/src/point.jl\" target=\"_blank\">C:\\Users\\chuan\\.julia\\packages\\Measures\\0Zkai\\src\\point.jl:19</a></li> <li> *(c::<b>Number</b>, a::<b>Union{ColorTypes.LMS, ColorTypes.XYZ}</b>) in Colors at <a href=\"file://C:/Users/chuan/.julia/packages/Colors/P2rUx/src/algorithms.jl\" target=\"_blank\">C:\\Users\\chuan\\.julia\\packages\\Colors\\P2rUx\\src\\algorithms.jl:7</a></li> <li> *(a, b, c, xs...) in Base at <a href=\"https://github.com/JuliaLang/julia/tree/b8e9a9ecc62ab49003bd4f1834771bdeb8cb1aa2/base/operators.jl#L529\" target=\"_blank\">operators.jl:529</a></li> </ul>"
      ],
      "text/plain": [
       "# 365 methods for generic function \"*\":\n",
       "[1] *(x::Bool, z::Complex{Bool}) in Base at complex.jl:290\n",
       "[2] *(x::Bool, y::Bool) in Base at bool.jl:98\n",
       "[3] *(x::Bool, y::T) where T<:AbstractFloat in Base at bool.jl:110\n",
       "[4] *(x::Bool, z::Complex) in Base at complex.jl:297\n",
       "[5] *(x::Bool, y::AbstractIrrational) in Base at irrationals.jl:139\n",
       "[6] *(a::Float16, b::Float16) in Base at float.jl:398\n",
       "[7] *(x::Float32, y::Float32) in Base at float.jl:404\n",
       "[8] *(x::Float64, y::Float64) in Base at float.jl:405\n",
       "[9] *(z::Complex{Bool}, x::Bool) in Base at complex.jl:291\n",
       "[10] *(z::Complex{Bool}, x::Real) in Base at complex.jl:309\n",
       "[11] *(r::Regex) in Base at regex.jl:660\n",
       "[12] *(::Missing, ::Missing) in Base at missing.jl:114\n",
       "[13] *(::Missing, ::Number) in Base at missing.jl:115\n",
       "[14] *(d::Missing, x::AbstractString) in Base at missing.jl:174\n",
       "[15] *(this::Base.Grisu.Float, other::Base.Grisu.Float) in Base.Grisu at grisu/float.jl:140\n",
       "[16] *(c::BigInt, x::BigFloat) in Base.MPFR at mpfr.jl:414\n",
       "[17] *(a::BigInt, b::BigInt, c::BigInt, d::BigInt, e::BigInt) in Base.GMP at gmp.jl:515\n",
       "[18] *(a::BigInt, b::BigInt, c::BigInt, d::BigInt) in Base.GMP at gmp.jl:514\n",
       "[19] *(a::BigInt, b::BigInt, c::BigInt) in Base.GMP at gmp.jl:513\n",
       "[20] *(x::BigInt, y::BigInt) in Base.GMP at gmp.jl:473\n",
       "[21] *(x::BigInt, c::Union{UInt16, UInt32, UInt8}) in Base.GMP at gmp.jl:532\n",
       "[22] *(x::BigInt, c::Union{Int16, Int32, Int8}) in Base.GMP at gmp.jl:534\n",
       "[23] *(a::BigFloat, b::BigFloat, c::BigFloat, d::BigFloat, e::BigFloat) in Base.MPFR at mpfr.jl:564\n",
       "[24] *(a::BigFloat, b::BigFloat, c::BigFloat, d::BigFloat) in Base.MPFR at mpfr.jl:557\n",
       "[25] *(a::BigFloat, b::BigFloat, c::BigFloat) in Base.MPFR at mpfr.jl:551\n",
       "[26] *(x::BigFloat, c::BigInt) in Base.MPFR at mpfr.jl:410\n",
       "[27] *(x::BigFloat, y::BigFloat) in Base.MPFR at mpfr.jl:379\n",
       "[28] *(x::BigFloat, c::Union{UInt16, UInt32, UInt8}) in Base.MPFR at mpfr.jl:386\n",
       "[29] *(x::BigFloat, c::Union{Int16, Int32, Int8}) in Base.MPFR at mpfr.jl:394\n",
       "[30] *(x::BigFloat, c::Union{Float16, Float32, Float64}) in Base.MPFR at mpfr.jl:402\n",
       "[31] *(B::BitArray{2}, J::LinearAlgebra.UniformScaling) in LinearAlgebra at C:\\Users\\chuan\\AppData\\Local\\Programs\\Julia\\Julia-1.4.0\\share\\julia\\stdlib\\v1.4\\LinearAlgebra\\src\\uniformscaling.jl:195\n",
       "[32] *(y::AbstractFloat, x::Bool) in Base at bool.jl:112\n",
       "[33] *(x::T, y::T) where T<:Union{Int128, UInt128} in Base at int.jl:845\n",
       "[34] *(x::T, y::T) where T<:Union{Int128, Int16, Int32, Int64, Int8, UInt128, UInt16, UInt32, UInt64, UInt8} in Base at int.jl:54\n",
       "[35] *(c::Union{UInt16, UInt32, UInt8}, x::BigInt) in Base.GMP at gmp.jl:533\n",
       "[36] *(c::Union{Int16, Int32, Int8}, x::BigInt) in Base.GMP at gmp.jl:535\n",
       "[37] *(a::Integer, b::Integer) in Base at int.jl:857\n",
       "[38] *(x::Real, r::StepRangeLen{#s69,#s68,S} where S where #s68<:Base.TwicePrecision where #s69<:Real) in Base at twiceprecision.jl:479\n",
       "[39] *(z::Complex, w::Complex) in Base at complex.jl:277\n",
       "[40] *(z::Complex, x::Bool) in Base at complex.jl:298\n",
       "[41] *(x::Real, z::Complex{Bool}) in Base at complex.jl:308\n",
       "[42] *(x::Real, z::Complex) in Base at complex.jl:320\n",
       "[43] *(z::Complex, x::Real) in Base at complex.jl:321\n",
       "[44] *(x::Rational, y::Rational) in Base at rational.jl:270\n",
       "[45] *(a::Integer, index::CartesianIndex{N}) where N in Base.IteratorsMD at multidimensional.jl:120\n",
       "[46] *(c::Union{UInt16, UInt32, UInt8}, x::BigFloat) in Base.MPFR at mpfr.jl:390\n",
       "[47] *(c::Union{Int16, Int32, Int8}, x::BigFloat) in Base.MPFR at mpfr.jl:398\n",
       "[48] *(c::Union{Float16, Float32, Float64}, x::BigFloat) in Base.MPFR at mpfr.jl:406\n",
       "[49] *(x::AbstractIrrational, y::AbstractIrrational) in Base at irrationals.jl:137\n",
       "[50] *(y::Real, x::Dates.Period) in Dates at C:\\Users\\chuan\\AppData\\Local\\Programs\\Julia\\Julia-1.4.0\\share\\julia\\stdlib\\v1.4\\Dates\\src\\periods.jl:91\n",
       "[51] *(x::Real, A::LinearAlgebra.Hermitian) in LinearAlgebra at C:\\Users\\chuan\\AppData\\Local\\Programs\\Julia\\Julia-1.4.0\\share\\julia\\stdlib\\v1.4\\LinearAlgebra\\src\\symmetric.jl:616\n",
       "[52] *(x::Real, ::Type{X}) where X<:FixedPointNumbers.FixedPoint in FixedPointNumbers at C:\\Users\\chuan\\.julia\\packages\\FixedPointNumbers\\MwjwY\\src\\FixedPointNumbers.jl:32\n",
       "[53] *(x::FixedPointNumbers.Fixed{T,f}, y::FixedPointNumbers.Fixed{T,f}) where {T, f} in FixedPointNumbers at C:\\Users\\chuan\\.julia\\packages\\FixedPointNumbers\\MwjwY\\src\\fixed.jl:42\n",
       "[54] *(x::T, y::T) where T<:FixedPointNumbers.Normed in FixedPointNumbers at C:\\Users\\chuan\\.julia\\packages\\FixedPointNumbers\\MwjwY\\src\\normed.jl:251\n",
       "[55] *(x::Number) in Base at operators.jl:505\n",
       "[56] *(x::T, y::T) where T<:Number in Base at promotion.jl:385\n",
       "[57] *(x::Number, y::Number) in Base at promotion.jl:312\n",
       "[58] *(x::Base.TwicePrecision{#s69} where #s69<:Union{Float16, Float32, Float64}, v::Integer) in Base at twiceprecision.jl:286\n",
       "[59] *(x::Base.TwicePrecision, v::Number) in Base at twiceprecision.jl:282\n",
       "[60] *(v::Number, x::Base.TwicePrecision) in Base at twiceprecision.jl:291\n",
       "[61] *(x::Base.TwicePrecision{T}, y::Base.TwicePrecision{T}) where T in Base at twiceprecision.jl:294\n",
       "[62] *(x::Base.TwicePrecision, y::Base.TwicePrecision) in Base at twiceprecision.jl:298\n",
       "[63] *(r::StepRangeLen{#s69,#s68,S} where S where #s68<:Base.TwicePrecision where #s69<:Real, x::Real) in Base at twiceprecision.jl:481\n",
       "[64] *(X::Union{DenseArray{P,N}, Base.ReinterpretArray{P,N,S,A} where S where A<:Union{SubArray{T,N,A,I,true} where I<:Union{Tuple{Vararg{Real,N} where N}, Tuple{AbstractUnitRange,Vararg{Any,N} where N}} where A<:DenseArray where N where T, DenseArray}, Base.ReshapedArray{P,N,A,MI} where MI<:Tuple{Vararg{Base.MultiplicativeInverses.SignedMultiplicativeInverse{Int64},N} where N} where A<:Union{Base.ReinterpretArray{T,N,S,A} where S where A<:Union{SubArray{T,N,A,I,true} where I<:Union{Tuple{Vararg{Real,N} where N}, Tuple{AbstractUnitRange,Vararg{Any,N} where N}} where A<:DenseArray where N where T, DenseArray} where N where T, SubArray{T,N,A,I,true} where I<:Union{Tuple{Vararg{Real,N} where N}, Tuple{AbstractUnitRange,Vararg{Any,N} where N}} where A<:DenseArray where N where T, DenseArray}, SubArray{P,N,A,I,L} where L where I<:Tuple{Vararg{Union{Int64, AbstractRange{Int64}, Base.AbstractCartesianIndex},N} where N} where A<:Union{Base.ReinterpretArray{T,N,S,A} where S where A<:Union{SubArray{T,N,A,I,true} where I<:Union{Tuple{Vararg{Real,N} where N}, Tuple{AbstractUnitRange,Vararg{Any,N} where N}} where A<:DenseArray where N where T, DenseArray} where N where T, Base.ReshapedArray{T,N,A,MI} where MI<:Tuple{Vararg{Base.MultiplicativeInverses.SignedMultiplicativeInverse{Int64},N} where N} where A<:Union{Base.ReinterpretArray{T,N,S,A} where S where A<:Union{SubArray{T,N,A,I,true} where I<:Union{Tuple{Vararg{Real,N} where N}, Tuple{AbstractUnitRange,Vararg{Any,N} where N}} where A<:DenseArray where N where T, DenseArray} where N where T, SubArray{T,N,A,I,true} where I<:Union{Tuple{Vararg{Real,N} where N}, Tuple{AbstractUnitRange,Vararg{Any,N} where N}} where A<:DenseArray where N where T, DenseArray} where N where T, DenseArray}} where N, y::Real) where P<:Dates.Period in Dates at C:\\Users\\chuan\\AppData\\Local\\Programs\\Julia\\Julia-1.4.0\\share\\julia\\stdlib\\v1.4\\Dates\\src\\deprecated.jl:46\n",
       "[65] *(u::LinearAlgebra.Adjoint{T,#s662} where #s662<:(AbstractArray{T,1} where T) where T, v::LinearAlgebra.Adjoint{#s662,#s661} where #s661<:(LinearAlgebra.Transpose{T,#s662} where #s662<:(AbstractArray{T,1} where T) where T) where #s662) in LinearAlgebra at C:\\Users\\chuan\\AppData\\Local\\Programs\\Julia\\Julia-1.4.0\\share\\julia\\stdlib\\v1.4\\LinearAlgebra\\src\\adjtrans.jl:263\n",
       "[66] *(A::LinearAlgebra.Adjoint{#s662,#s661} where #s661<:LinearAlgebra.AbstractTriangular where #s662, B::LinearAlgebra.Adjoint{#s660,#s659} where #s659<:LinearAlgebra.AbstractTriangular where #s660) in LinearAlgebra at C:\\Users\\chuan\\AppData\\Local\\Programs\\Julia\\Julia-1.4.0\\share\\julia\\stdlib\\v1.4\\LinearAlgebra\\src\\triangular.jl:2133\n",
       "[67] *(A::LinearAlgebra.Adjoint{#s662,#s661} where #s661<:(Union{LinearAlgebra.Hermitian{Complex{T},S}, LinearAlgebra.Hermitian{T,S}, LinearAlgebra.Symmetric{T,S}} where S where T<:Real) where #s662, B::LinearAlgebra.Adjoint{#s660,#s659} where #s659<:LinearAlgebra.AbstractTriangular where #s660) in LinearAlgebra at C:\\Users\\chuan\\AppData\\Local\\Programs\\Julia\\Julia-1.4.0\\share\\julia\\stdlib\\v1.4\\LinearAlgebra\\src\\symmetric.jl:1049\n",
       "[68] *(adjA::LinearAlgebra.Adjoint{#s662,#s661} where #s661<:SparseArrays.AbstractSparseMatrixCSC where #s662, B::Union{DenseArray{T,2}, Base.ReinterpretArray{T,2,S,A} where S where A<:Union{SubArray{T,N,A,I,true} where I<:Union{Tuple{Vararg{Real,N} where N}, Tuple{AbstractUnitRange,Vararg{Any,N} where N}} where A<:DenseArray where N where T, DenseArray}, Base.ReshapedArray{T,2,A,MI} where MI<:Tuple{Vararg{Base.MultiplicativeInverses.SignedMultiplicativeInverse{Int64},N} where N} where A<:Union{Base.ReinterpretArray{T,N,S,A} where S where A<:Union{SubArray{T,N,A,I,true} where I<:Union{Tuple{Vararg{Real,N} where N}, Tuple{AbstractUnitRange,Vararg{Any,N} where N}} where A<:DenseArray where N where T, DenseArray} where N where T, SubArray{T,N,A,I,true} where I<:Union{Tuple{Vararg{Real,N} where N}, Tuple{AbstractUnitRange,Vararg{Any,N} where N}} where A<:DenseArray where N where T, DenseArray}, SubArray{T,2,A,I,L} where L where I<:Tuple{Vararg{Union{Int64, AbstractRange{Int64}, Base.AbstractCartesianIndex},N} where N} where A<:Union{Base.ReinterpretArray{T,N,S,A} where S where A<:Union{SubArray{T,N,A,I,true} where I<:Union{Tuple{Vararg{Real,N} where N}, Tuple{AbstractUnitRange,Vararg{Any,N} where N}} where A<:DenseArray where N where T, DenseArray} where N where T, Base.ReshapedArray{T,N,A,MI} where MI<:Tuple{Vararg{Base.MultiplicativeInverses.SignedMultiplicativeInverse{Int64},N} where N} where A<:Union{Base.ReinterpretArray{T,N,S,A} where S where A<:Union{SubArray{T,N,A,I,true} where I<:Union{Tuple{Vararg{Real,N} where N}, Tuple{AbstractUnitRange,Vararg{Any,N} where N}} where A<:DenseArray where N where T, DenseArray} where N where T, SubArray{T,N,A,I,true} where I<:Union{Tuple{Vararg{Real,N} where N}, Tuple{AbstractUnitRange,Vararg{Any,N} where N}} where A<:DenseArray where N where T, DenseArray} where N where T, DenseArray}, LinearAlgebra.Adjoint{#s662,#s661} where #s661<:Union{DenseArray{T,2}, Base.ReinterpretArray{T,2,S,A} where S where A<:Union{SubArray{T,N,A,I,true} where I<:Union{Tuple{Vararg{Real,N} where N}, Tuple{AbstractUnitRange,Vararg{Any,N} where N}} where A<:DenseArray where N where T, DenseArray}, Base.ReshapedArray{T,2,A,MI} where MI<:Tuple{Vararg{Base.MultiplicativeInverses.SignedMultiplicativeInverse{Int64},N} where N} where A<:Union{Base.ReinterpretArray{T,N,S,A} where S where A<:Union{SubArray{T,N,A,I,true} where I<:Union{Tuple{Vararg{Real,N} where N}, Tuple{AbstractUnitRange,Vararg{Any,N} where N}} where A<:DenseArray where N where T, DenseArray} where N where T, SubArray{T,N,A,I,true} where I<:Union{Tuple{Vararg{Real,N} where N}, Tuple{AbstractUnitRange,Vararg{Any,N} where N}} where A<:DenseArray where N where T, DenseArray}, SubArray{T,2,A,I,L} where L where I<:Tuple{Vararg{Union{Int64, AbstractRange{Int64}, Base.AbstractCartesianIndex},N} where N} where A<:Union{Base.ReinterpretArray{T,N,S,A} where S where A<:Union{SubArray{T,N,A,I,true} where I<:Union{Tuple{Vararg{Real,N} where N}, Tuple{AbstractUnitRange,Vararg{Any,N} where N}} where A<:DenseArray where N where T, DenseArray} where N where T, Base.ReshapedArray{T,N,A,MI} where MI<:Tuple{Vararg{Base.MultiplicativeInverses.SignedMultiplicativeInverse{Int64},N} where N} where A<:Union{Base.ReinterpretArray{T,N,S,A} where S where A<:Union{SubArray{T,N,A,I,true} where I<:Union{Tuple{Vararg{Real,N} where N}, Tuple{AbstractUnitRange,Vararg{Any,N} where N}} where A<:DenseArray where N where T, DenseArray} where N where T, SubArray{T,N,A,I,true} where I<:Union{Tuple{Vararg{Real,N} where N}, Tuple{AbstractUnitRange,Vararg{Any,N} where N}} where A<:DenseArray where N where T, DenseArray} where N where T, DenseArray}, LinearAlgebra.LowerTriangular{T,S} where S<:AbstractArray{T,2}, LinearAlgebra.UnitLowerTriangular{T,S} where S<:AbstractArray{T,2}, LinearAlgebra.UnitUpperTriangular{T,S} where S<:AbstractArray{T,2}, LinearAlgebra.UpperTriangular{T,S} where S<:AbstractArray{T,2}} where #s662, LinearAlgebra.LowerTriangular{T,S} where S<:AbstractArray{T,2}, LinearAlgebra.Transpose{#s660,#s659} where #s659<:Union{DenseArray{T,2}, Base.ReinterpretArray{T,2,S,A} where S where A<:Union{SubArray{T,N,A,I,true} where I<:Union{Tuple{Vararg{Real,N} where N}, Tuple{AbstractUnitRange,Vararg{Any,N} where N}} where A<:DenseArray where N where T, DenseArray}, Base.ReshapedArray{T,2,A,MI} where MI<:Tuple{Vararg{Base.MultiplicativeInverses.SignedMultiplicativeInverse{Int64},N} where N} where A<:Union{Base.ReinterpretArray{T,N,S,A} where S where A<:Union{SubArray{T,N,A,I,true} where I<:Union{Tuple{Vararg{Real,N} where N}, Tuple{AbstractUnitRange,Vararg{Any,N} where N}} where A<:DenseArray where N where T, DenseArray} where N where T, SubArray{T,N,A,I,true} where I<:Union{Tuple{Vararg{Real,N} where N}, Tuple{AbstractUnitRange,Vararg{Any,N} where N}} where A<:DenseArray where N where T, DenseArray}, SubArray{T,2,A,I,L} where L where I<:Tuple{Vararg{Union{Int64, AbstractRange{Int64}, Base.AbstractCartesianIndex},N} where N} where A<:Union{Base.ReinterpretArray{T,N,S,A} where S where A<:Union{SubArray{T,N,A,I,true} where I<:Union{Tuple{Vararg{Real,N} where N}, Tuple{AbstractUnitRange,Vararg{Any,N} where N}} where A<:DenseArray where N where T, DenseArray} where N where T, Base.ReshapedArray{T,N,A,MI} where MI<:Tuple{Vararg{Base.MultiplicativeInverses.SignedMultiplicativeInverse{Int64},N} where N} where A<:Union{Base.ReinterpretArray{T,N,S,A} where S where A<:Union{SubArray{T,N,A,I,true} where I<:Union{Tuple{Vararg{Real,N} where N}, Tuple{AbstractUnitRange,Vararg{Any,N} where N}} where A<:DenseArray where N where T, DenseArray} where N where T, SubArray{T,N,A,I,true} where I<:Union{Tuple{Vararg{Real,N} where N}, Tuple{AbstractUnitRange,Vararg{Any,N} where N}} where A<:DenseArray where N where T, DenseArray} where N where T, DenseArray}, LinearAlgebra.LowerTriangular{T,S} where S<:AbstractArray{T,2}, LinearAlgebra.UnitLowerTriangular{T,S} where S<:AbstractArray{T,2}, LinearAlgebra.UnitUpperTriangular{T,S} where S<:AbstractArray{T,2}, LinearAlgebra.UpperTriangular{T,S} where S<:AbstractArray{T,2}} where #s660, LinearAlgebra.UnitLowerTriangular{T,S} where S<:AbstractArray{T,2}, LinearAlgebra.UnitUpperTriangular{T,S} where S<:AbstractArray{T,2}, LinearAlgebra.UpperTriangular{T,S} where S<:AbstractArray{T,2}} where T) in SparseArrays at C:\\Users\\chuan\\AppData\\Local\\Programs\\Julia\\Julia-1.4.0\\share\\julia\\stdlib\\v1.4\\SparseArrays\\src\\linalg.jl:57\n",
       "[69] *(v::LinearAlgebra.Adjoint{T,#s662} where #s662<:(AbstractArray{T,1} where T) where T, A::LinearAlgebra.Adjoint{#s662,#s661} where #s661<:LinearAlgebra.AbstractTriangular where #s662) in LinearAlgebra at C:\\Users\\chuan\\AppData\\Local\\Programs\\Julia\\Julia-1.4.0\\share\\julia\\stdlib\\v1.4\\LinearAlgebra\\src\\triangular.jl:2120\n",
       "[70] *(A::LinearAlgebra.Adjoint{#s662,#s661} where #s661<:LinearAlgebra.AbstractTriangular where #s662, B::LinearAlgebra.Adjoint{#s660,#s659} where #s659<:(Union{LinearAlgebra.Hermitian{Complex{T},S}, LinearAlgebra.Hermitian{T,S}, LinearAlgebra.Symmetric{T,S}} where S where T<:Real) where #s660) in LinearAlgebra at C:\\Users\\chuan\\AppData\\Local\\Programs\\Julia\\Julia-1.4.0\\share\\julia\\stdlib\\v1.4\\LinearAlgebra\\src\\symmetric.jl:1045\n",
       "[71] *(X::Union{DenseArray{T,2}, Base.ReinterpretArray{T,2,S,A} where S where A<:Union{SubArray{T,N,A,I,true} where I<:Union{Tuple{Vararg{Real,N} where N}, Tuple{AbstractUnitRange,Vararg{Any,N} where N}} where A<:DenseArray where N where T, DenseArray}, Base.ReshapedArray{T,2,A,MI} where MI<:Tuple{Vararg{Base.MultiplicativeInverses.SignedMultiplicativeInverse{Int64},N} where N} where A<:Union{Base.ReinterpretArray{T,N,S,A} where S where A<:Union{SubArray{T,N,A,I,true} where I<:Union{Tuple{Vararg{Real,N} where N}, Tuple{AbstractUnitRange,Vararg{Any,N} where N}} where A<:DenseArray where N where T, DenseArray} where N where T, SubArray{T,N,A,I,true} where I<:Union{Tuple{Vararg{Real,N} where N}, Tuple{AbstractUnitRange,Vararg{Any,N} where N}} where A<:DenseArray where N where T, DenseArray}, SubArray{T,2,A,I,L} where L where I<:Tuple{Vararg{Union{Int64, AbstractRange{Int64}, Base.AbstractCartesianIndex},N} where N} where A<:Union{Base.ReinterpretArray{T,N,S,A} where S where A<:Union{SubArray{T,N,A,I,true} where I<:Union{Tuple{Vararg{Real,N} where N}, Tuple{AbstractUnitRange,Vararg{Any,N} where N}} where A<:DenseArray where N where T, DenseArray} where N where T, Base.ReshapedArray{T,N,A,MI} where MI<:Tuple{Vararg{Base.MultiplicativeInverses.SignedMultiplicativeInverse{Int64},N} where N} where A<:Union{Base.ReinterpretArray{T,N,S,A} where S where A<:Union{SubArray{T,N,A,I,true} where I<:Union{Tuple{Vararg{Real,N} where N}, Tuple{AbstractUnitRange,Vararg{Any,N} where N}} where A<:DenseArray where N where T, DenseArray} where N where T, SubArray{T,N,A,I,true} where I<:Union{Tuple{Vararg{Real,N} where N}, Tuple{AbstractUnitRange,Vararg{Any,N} where N}} where A<:DenseArray where N where T, DenseArray} where N where T, DenseArray}, LinearAlgebra.Adjoint{#s662,#s661} where #s661<:Union{DenseArray{T,2}, Base.ReinterpretArray{T,2,S,A} where S where A<:Union{SubArray{T,N,A,I,true} where I<:Union{Tuple{Vararg{Real,N} where N}, Tuple{AbstractUnitRange,Vararg{Any,N} where N}} where A<:DenseArray where N where T, DenseArray}, Base.ReshapedArray{T,2,A,MI} where MI<:Tuple{Vararg{Base.MultiplicativeInverses.SignedMultiplicativeInverse{Int64},N} where N} where A<:Union{Base.ReinterpretArray{T,N,S,A} where S where A<:Union{SubArray{T,N,A,I,true} where I<:Union{Tuple{Vararg{Real,N} where N}, Tuple{AbstractUnitRange,Vararg{Any,N} where N}} where A<:DenseArray where N where T, DenseArray} where N where T, SubArray{T,N,A,I,true} where I<:Union{Tuple{Vararg{Real,N} where N}, Tuple{AbstractUnitRange,Vararg{Any,N} where N}} where A<:DenseArray where N where T, DenseArray}, SubArray{T,2,A,I,L} where L where I<:Tuple{Vararg{Union{Int64, AbstractRange{Int64}, Base.AbstractCartesianIndex},N} where N} where A<:Union{Base.ReinterpretArray{T,N,S,A} where S where A<:Union{SubArray{T,N,A,I,true} where I<:Union{Tuple{Vararg{Real,N} where N}, Tuple{AbstractUnitRange,Vararg{Any,N} where N}} where A<:DenseArray where N where T, DenseArray} where N where T, Base.ReshapedArray{T,N,A,MI} where MI<:Tuple{Vararg{Base.MultiplicativeInverses.SignedMultiplicativeInverse{Int64},N} where N} where A<:Union{Base.ReinterpretArray{T,N,S,A} where S where A<:Union{SubArray{T,N,A,I,true} where I<:Union{Tuple{Vararg{Real,N} where N}, Tuple{AbstractUnitRange,Vararg{Any,N} where N}} where A<:DenseArray where N where T, DenseArray} where N where T, SubArray{T,N,A,I,true} where I<:Union{Tuple{Vararg{Real,N} where N}, Tuple{AbstractUnitRange,Vararg{Any,N} where N}} where A<:DenseArray where N where T, DenseArray} where N where T, DenseArray}, LinearAlgebra.LowerTriangular{T,S} where S<:AbstractArray{T,2}, LinearAlgebra.UnitLowerTriangular{T,S} where S<:AbstractArray{T,2}, LinearAlgebra.UnitUpperTriangular{T,S} where S<:AbstractArray{T,2}, LinearAlgebra.UpperTriangular{T,S} where S<:AbstractArray{T,2}} where #s662, LinearAlgebra.LowerTriangular{T,S} where S<:AbstractArray{T,2}, LinearAlgebra.Transpose{#s660,#s659} where #s659<:Union{DenseArray{T,2}, Base.ReinterpretArray{T,2,S,A} where S where A<:Union{SubArray{T,N,A,I,true} where I<:Union{Tuple{Vararg{Real,N} where N}, Tuple{AbstractUnitRange,Vararg{Any,N} where N}} where A<:DenseArray where N where T, DenseArray}, Base.ReshapedArray{T,2,A,MI} where MI<:Tuple{Vararg{Base.MultiplicativeInverses.SignedMultiplicativeInverse{Int64},N} where N} where A<:Union{Base.ReinterpretArray{T,N,S,A} where S where A<:Union{SubArray{T,N,A,I,true} where I<:Union{Tuple{Vararg{Real,N} where N}, Tuple{AbstractUnitRange,Vararg{Any,N} where N}} where A<:DenseArray where N where T, DenseArray} where N where T, SubArray{T,N,A,I,true} where I<:Union{Tuple{Vararg{Real,N} where N}, Tuple{AbstractUnitRange,Vararg{Any,N} where N}} where A<:DenseArray where N where T, DenseArray}, SubArray{T,2,A,I,L} where L where I<:Tuple{Vararg{Union{Int64, AbstractRange{Int64}, Base.AbstractCartesianIndex},N} where N} where A<:Union{Base.ReinterpretArray{T,N,S,A} where S where A<:Union{SubArray{T,N,A,I,true} where I<:Union{Tuple{Vararg{Real,N} where N}, Tuple{AbstractUnitRange,Vararg{Any,N} where N}} where A<:DenseArray where N where T, DenseArray} where N where T, Base.ReshapedArray{T,N,A,MI} where MI<:Tuple{Vararg{Base.MultiplicativeInverses.SignedMultiplicativeInverse{Int64},N} where N} where A<:Union{Base.ReinterpretArray{T,N,S,A} where S where A<:Union{SubArray{T,N,A,I,true} where I<:Union{Tuple{Vararg{Real,N} where N}, Tuple{AbstractUnitRange,Vararg{Any,N} where N}} where A<:DenseArray where N where T, DenseArray} where N where T, SubArray{T,N,A,I,true} where I<:Union{Tuple{Vararg{Real,N} where N}, Tuple{AbstractUnitRange,Vararg{Any,N} where N}} where A<:DenseArray where N where T, DenseArray} where N where T, DenseArray}, LinearAlgebra.LowerTriangular{T,S} where S<:AbstractArray{T,2}, LinearAlgebra.UnitLowerTriangular{T,S} where S<:AbstractArray{T,2}, LinearAlgebra.UnitUpperTriangular{T,S} where S<:AbstractArray{T,2}, LinearAlgebra.UpperTriangular{T,S} where S<:AbstractArray{T,2}} where #s660, LinearAlgebra.UnitLowerTriangular{T,S} where S<:AbstractArray{T,2}, LinearAlgebra.UnitUpperTriangular{T,S} where S<:AbstractArray{T,2}, LinearAlgebra.UpperTriangular{T,S} where S<:AbstractArray{T,2}} where T, adjA::LinearAlgebra.Adjoint{#s662,#s661} where #s661<:SparseArrays.AbstractSparseMatrixCSC where #s662) in SparseArrays at C:\\Users\\chuan\\AppData\\Local\\Programs\\Julia\\Julia-1.4.0\\share\\julia\\stdlib\\v1.4\\SparseArrays\\src\\linalg.jl:129\n",
       "[72] *(A::LinearAlgebra.Adjoint{#s662,#s661} where #s661<:LinearAlgebra.AbstractTriangular where #s662, B::LinearAlgebra.Adjoint{#s660,#s659} where #s659<:(AbstractArray{T,1} where T) where #s660) in LinearAlgebra at C:\\Users\\chuan\\AppData\\Local\\Programs\\Julia\\Julia-1.4.0\\share\\julia\\stdlib\\v1.4\\LinearAlgebra\\src\\triangular.jl:2642\n",
       "[73] *(adjQ::LinearAlgebra.Adjoint{#s662,#s661} where #s661<:LinearAlgebra.AbstractQ where #s662, adjB::LinearAlgebra.Adjoint{#s660,#s659} where #s659<:(Union{DenseArray{T,2}, DenseArray{T,1}, Base.ReinterpretArray{T,2,S,A} where S where A<:Union{SubArray{T,N,A,I,true} where I<:Union{Tuple{Vararg{Real,N} where N}, Tuple{AbstractUnitRange,Vararg{Any,N} where N}} where A<:DenseArray where N where T, DenseArray}, Base.ReinterpretArray{T,1,S,A} where S where A<:Union{SubArray{T,N,A,I,true} where I<:Union{Tuple{Vararg{Real,N} where N}, Tuple{AbstractUnitRange,Vararg{Any,N} where N}} where A<:DenseArray where N where T, DenseArray}, Base.ReshapedArray{T,2,A,MI} where MI<:Tuple{Vararg{Base.MultiplicativeInverses.SignedMultiplicativeInverse{Int64},N} where N} where A<:Union{Base.ReinterpretArray{T,N,S,A} where S where A<:Union{SubArray{T,N,A,I,true} where I<:Union{Tuple{Vararg{Real,N} where N}, Tuple{AbstractUnitRange,Vararg{Any,N} where N}} where A<:DenseArray where N where T, DenseArray} where N where T, SubArray{T,N,A,I,true} where I<:Union{Tuple{Vararg{Real,N} where N}, Tuple{AbstractUnitRange,Vararg{Any,N} where N}} where A<:DenseArray where N where T, DenseArray}, Base.ReshapedArray{T,1,A,MI} where MI<:Tuple{Vararg{Base.MultiplicativeInverses.SignedMultiplicativeInverse{Int64},N} where N} where A<:Union{Base.ReinterpretArray{T,N,S,A} where S where A<:Union{SubArray{T,N,A,I,true} where I<:Union{Tuple{Vararg{Real,N} where N}, Tuple{AbstractUnitRange,Vararg{Any,N} where N}} where A<:DenseArray where N where T, DenseArray} where N where T, SubArray{T,N,A,I,true} where I<:Union{Tuple{Vararg{Real,N} where N}, Tuple{AbstractUnitRange,Vararg{Any,N} where N}} where A<:DenseArray where N where T, DenseArray}, SubArray{T,2,A,I,L} where L where I<:Tuple{Vararg{Union{Int64, AbstractRange{Int64}, Base.AbstractCartesianIndex},N} where N} where A<:Union{Base.ReinterpretArray{T,N,S,A} where S where A<:Union{SubArray{T,N,A,I,true} where I<:Union{Tuple{Vararg{Real,N} where N}, Tuple{AbstractUnitRange,Vararg{Any,N} where N}} where A<:DenseArray where N where T, DenseArray} where N where T, Base.ReshapedArray{T,N,A,MI} where MI<:Tuple{Vararg{Base.MultiplicativeInverses.SignedMultiplicativeInverse{Int64},N} where N} where A<:Union{Base.ReinterpretArray{T,N,S,A} where S where A<:Union{SubArray{T,N,A,I,true} where I<:Union{Tuple{Vararg{Real,N} where N}, Tuple{AbstractUnitRange,Vararg{Any,N} where N}} where A<:DenseArray where N where T, DenseArray} where N where T, SubArray{T,N,A,I,true} where I<:Union{Tuple{Vararg{Real,N} where N}, Tuple{AbstractUnitRange,Vararg{Any,N} where N}} where A<:DenseArray where N where T, DenseArray} where N where T, DenseArray}, SubArray{T,1,A,I,L} where L where I<:Tuple{Vararg{Union{Int64, AbstractRange{Int64}, Base.AbstractCartesianIndex},N} where N} where A<:Union{Base.ReinterpretArray{T,N,S,A} where S where A<:Union{SubArray{T,N,A,I,true} where I<:Union{Tuple{Vararg{Real,N} where N}, Tuple{AbstractUnitRange,Vararg{Any,N} where N}} where A<:DenseArray where N where T, DenseArray} where N where T, Base.ReshapedArray{T,N,A,MI} where MI<:Tuple{Vararg{Base.MultiplicativeInverses.SignedMultiplicativeInverse{Int64},N} where N} where A<:Union{Base.ReinterpretArray{T,N,S,A} where S where A<:Union{SubArray{T,N,A,I,true} where I<:Union{Tuple{Vararg{Real,N} where N}, Tuple{AbstractUnitRange,Vararg{Any,N} where N}} where A<:DenseArray where N where T, DenseArray} where N where T, SubArray{T,N,A,I,true} where I<:Union{Tuple{Vararg{Real,N} where N}, Tuple{AbstractUnitRange,Vararg{Any,N} where N}} where A<:DenseArray where N where T, DenseArray} where N where T, DenseArray}} where T) where #s660) in LinearAlgebra at C:\\Users\\chuan\\AppData\\Local\\Programs\\Julia\\Julia-1.4.0\\share\\julia\\stdlib\\v1.4\\LinearAlgebra\\src\\qr.jl:641\n",
       "[74] *(adjA::LinearAlgebra.Adjoint{#s662,#s661} where #s661<:(Union{DenseArray{T,2}, DenseArray{T,1}, Base.ReinterpretArray{T,2,S,A} where S where A<:Union{SubArray{T,N,A,I,true} where I<:Union{Tuple{Vararg{Real,N} where N}, Tuple{AbstractUnitRange,Vararg{Any,N} where N}} where A<:DenseArray where N where T, DenseArray}, Base.ReinterpretArray{T,1,S,A} where S where A<:Union{SubArray{T,N,A,I,true} where I<:Union{Tuple{Vararg{Real,N} where N}, Tuple{AbstractUnitRange,Vararg{Any,N} where N}} where A<:DenseArray where N where T, DenseArray}, Base.ReshapedArray{T,2,A,MI} where MI<:Tuple{Vararg{Base.MultiplicativeInverses.SignedMultiplicativeInverse{Int64},N} where N} where A<:Union{Base.ReinterpretArray{T,N,S,A} where S where A<:Union{SubArray{T,N,A,I,true} where I<:Union{Tuple{Vararg{Real,N} where N}, Tuple{AbstractUnitRange,Vararg{Any,N} where N}} where A<:DenseArray where N where T, DenseArray} where N where T, SubArray{T,N,A,I,true} where I<:Union{Tuple{Vararg{Real,N} where N}, Tuple{AbstractUnitRange,Vararg{Any,N} where N}} where A<:DenseArray where N where T, DenseArray}, Base.ReshapedArray{T,1,A,MI} where MI<:Tuple{Vararg{Base.MultiplicativeInverses.SignedMultiplicativeInverse{Int64},N} where N} where A<:Union{Base.ReinterpretArray{T,N,S,A} where S where A<:Union{SubArray{T,N,A,I,true} where I<:Union{Tuple{Vararg{Real,N} where N}, Tuple{AbstractUnitRange,Vararg{Any,N} where N}} where A<:DenseArray where N where T, DenseArray} where N where T, SubArray{T,N,A,I,true} where I<:Union{Tuple{Vararg{Real,N} where N}, Tuple{AbstractUnitRange,Vararg{Any,N} where N}} where A<:DenseArray where N where T, DenseArray}, SubArray{T,2,A,I,L} where L where I<:Tuple{Vararg{Union{Int64, AbstractRange{Int64}, Base.AbstractCartesianIndex},N} where N} where A<:Union{Base.ReinterpretArray{T,N,S,A} where S where A<:Union{SubArray{T,N,A,I,true} where I<:Union{Tuple{Vararg{Real,N} where N}, Tuple{AbstractUnitRange,Vararg{Any,N} where N}} where A<:DenseArray where N where T, DenseArray} where N where T, Base.ReshapedArray{T,N,A,MI} where MI<:Tuple{Vararg{Base.MultiplicativeInverses.SignedMultiplicativeInverse{Int64},N} where N} where A<:Union{Base.ReinterpretArray{T,N,S,A} where S where A<:Union{SubArray{T,N,A,I,true} where I<:Union{Tuple{Vararg{Real,N} where N}, Tuple{AbstractUnitRange,Vararg{Any,N} where N}} where A<:DenseArray where N where T, DenseArray} where N where T, SubArray{T,N,A,I,true} where I<:Union{Tuple{Vararg{Real,N} where N}, Tuple{AbstractUnitRange,Vararg{Any,N} where N}} where A<:DenseArray where N where T, DenseArray} where N where T, DenseArray}, SubArray{T,1,A,I,L} where L where I<:Tuple{Vararg{Union{Int64, AbstractRange{Int64}, Base.AbstractCartesianIndex},N} where N} where A<:Union{Base.ReinterpretArray{T,N,S,A} where S where A<:Union{SubArray{T,N,A,I,true} where I<:Union{Tuple{Vararg{Real,N} where N}, Tuple{AbstractUnitRange,Vararg{Any,N} where N}} where A<:DenseArray where N where T, DenseArray} where N where T, Base.ReshapedArray{T,N,A,MI} where MI<:Tuple{Vararg{Base.MultiplicativeInverses.SignedMultiplicativeInverse{Int64},N} where N} where A<:Union{Base.ReinterpretArray{T,N,S,A} where S where A<:Union{SubArray{T,N,A,I,true} where I<:Union{Tuple{Vararg{Real,N} where N}, Tuple{AbstractUnitRange,Vararg{Any,N} where N}} where A<:DenseArray where N where T, DenseArray} where N where T, SubArray{T,N,A,I,true} where I<:Union{Tuple{Vararg{Real,N} where N}, Tuple{AbstractUnitRange,Vararg{Any,N} where N}} where A<:DenseArray where N where T, DenseArray} where N where T, DenseArray}} where T) where #s662, adjQ::LinearAlgebra.Adjoint{#s660,#s659} where #s659<:LinearAlgebra.AbstractQ where #s660) in LinearAlgebra at C:\\Users\\chuan\\AppData\\Local\\Programs\\Julia\\Julia-1.4.0\\share\\julia\\stdlib\\v1.4\\LinearAlgebra\\src\\qr.jl:744\n",
       "[75] *(u::LinearAlgebra.Adjoint{T,#s662} where #s662<:(AbstractArray{T,1} where T) where T, A::LinearAlgebra.Adjoint{#s662,#s661} where #s661<:LinearAlgebra.AbstractQ where #s662) in LinearAlgebra at C:\\Users\\chuan\\AppData\\Local\\Programs\\Julia\\Julia-1.4.0\\share\\julia\\stdlib\\v1.4\\LinearAlgebra\\src\\qr.jl:732\n",
       "[76] *(adjA::LinearAlgebra.Adjoint{#s662,#s661} where #s661<:LinearAlgebra.LQPackedQ where #s662, adjB::LinearAlgebra.Adjoint{#s660,#s659} where #s659<:(Union{DenseArray{T,2}, DenseArray{T,1}, Base.ReinterpretArray{T,2,S,A} where S where A<:Union{SubArray{T,N,A,I,true} where I<:Union{Tuple{Vararg{Real,N} where N}, Tuple{AbstractUnitRange,Vararg{Any,N} where N}} where A<:DenseArray where N where T, DenseArray}, Base.ReinterpretArray{T,1,S,A} where S where A<:Union{SubArray{T,N,A,I,true} where I<:Union{Tuple{Vararg{Real,N} where N}, Tuple{AbstractUnitRange,Vararg{Any,N} where N}} where A<:DenseArray where N where T, DenseArray}, Base.ReshapedArray{T,2,A,MI} where MI<:Tuple{Vararg{Base.MultiplicativeInverses.SignedMultiplicativeInverse{Int64},N} where N} where A<:Union{Base.ReinterpretArray{T,N,S,A} where S where A<:Union{SubArray{T,N,A,I,true} where I<:Union{Tuple{Vararg{Real,N} where N}, Tuple{AbstractUnitRange,Vararg{Any,N} where N}} where A<:DenseArray where N where T, DenseArray} where N where T, SubArray{T,N,A,I,true} where I<:Union{Tuple{Vararg{Real,N} where N}, Tuple{AbstractUnitRange,Vararg{Any,N} where N}} where A<:DenseArray where N where T, DenseArray}, Base.ReshapedArray{T,1,A,MI} where MI<:Tuple{Vararg{Base.MultiplicativeInverses.SignedMultiplicativeInverse{Int64},N} where N} where A<:Union{Base.ReinterpretArray{T,N,S,A} where S where A<:Union{SubArray{T,N,A,I,true} where I<:Union{Tuple{Vararg{Real,N} where N}, Tuple{AbstractUnitRange,Vararg{Any,N} where N}} where A<:DenseArray where N where T, DenseArray} where N where T, SubArray{T,N,A,I,true} where I<:Union{Tuple{Vararg{Real,N} where N}, Tuple{AbstractUnitRange,Vararg{Any,N} where N}} where A<:DenseArray where N where T, DenseArray}, SubArray{T,2,A,I,L} where L where I<:Tuple{Vararg{Union{Int64, AbstractRange{Int64}, Base.AbstractCartesianIndex},N} where N} where A<:Union{Base.ReinterpretArray{T,N,S,A} where S where A<:Union{SubArray{T,N,A,I,true} where I<:Union{Tuple{Vararg{Real,N} where N}, Tuple{AbstractUnitRange,Vararg{Any,N} where N}} where A<:DenseArray where N where T, DenseArray} where N where T, Base.ReshapedArray{T,N,A,MI} where MI<:Tuple{Vararg{Base.MultiplicativeInverses.SignedMultiplicativeInverse{Int64},N} where N} where A<:Union{Base.ReinterpretArray{T,N,S,A} where S where A<:Union{SubArray{T,N,A,I,true} where I<:Union{Tuple{Vararg{Real,N} where N}, Tuple{AbstractUnitRange,Vararg{Any,N} where N}} where A<:DenseArray where N where T, DenseArray} where N where T, SubArray{T,N,A,I,true} where I<:Union{Tuple{Vararg{Real,N} where N}, Tuple{AbstractUnitRange,Vararg{Any,N} where N}} where A<:DenseArray where N where T, DenseArray} where N where T, DenseArray}, SubArray{T,1,A,I,L} where L where I<:Tuple{Vararg{Union{Int64, AbstractRange{Int64}, Base.AbstractCartesianIndex},N} where N} where A<:Union{Base.ReinterpretArray{T,N,S,A} where S where A<:Union{SubArray{T,N,A,I,true} where I<:Union{Tuple{Vararg{Real,N} where N}, Tuple{AbstractUnitRange,Vararg{Any,N} where N}} where A<:DenseArray where N where T, DenseArray} where N where T, Base.ReshapedArray{T,N,A,MI} where MI<:Tuple{Vararg{Base.MultiplicativeInverses.SignedMultiplicativeInverse{Int64},N} where N} where A<:Union{Base.ReinterpretArray{T,N,S,A} where S where A<:Union{SubArray{T,N,A,I,true} where I<:Union{Tuple{Vararg{Real,N} where N}, Tuple{AbstractUnitRange,Vararg{Any,N} where N}} where A<:DenseArray where N where T, DenseArray} where N where T, SubArray{T,N,A,I,true} where I<:Union{Tuple{Vararg{Real,N} where N}, Tuple{AbstractUnitRange,Vararg{Any,N} where N}} where A<:DenseArray where N where T, DenseArray} where N where T, DenseArray}} where T) where #s660) in LinearAlgebra at C:\\Users\\chuan\\AppData\\Local\\Programs\\Julia\\Julia-1.4.0\\share\\julia\\stdlib\\v1.4\\LinearAlgebra\\src\\lq.jl:219\n",
       "[77] *(adjA::LinearAlgebra.Adjoint{#s662,#s661} where #s661<:(Union{DenseArray{T,2}, Base.ReinterpretArray{T,2,S,A} where S where A<:Union{SubArray{T,N,A,I,true} where I<:Union{Tuple{Vararg{Real,N} where N}, Tuple{AbstractUnitRange,Vararg{Any,N} where N}} where A<:DenseArray where N where T, DenseArray}, Base.ReshapedArray{T,2,A,MI} where MI<:Tuple{Vararg{Base.MultiplicativeInverses.SignedMultiplicativeInverse{Int64},N} where N} where A<:Union{Base.ReinterpretArray{T,N,S,A} where S where A<:Union{SubArray{T,N,A,I,true} where I<:Union{Tuple{Vararg{Real,N} where N}, Tuple{AbstractUnitRange,Vararg{Any,N} where N}} where A<:DenseArray where N where T, DenseArray} where N where T, SubArray{T,N,A,I,true} where I<:Union{Tuple{Vararg{Real,N} where N}, Tuple{AbstractUnitRange,Vararg{Any,N} where N}} where A<:DenseArray where N where T, DenseArray}, SubArray{T,2,A,I,L} where L where I<:Tuple{Vararg{Union{Int64, AbstractRange{Int64}, Base.AbstractCartesianIndex},N} where N} where A<:Union{Base.ReinterpretArray{T,N,S,A} where S where A<:Union{SubArray{T,N,A,I,true} where I<:Union{Tuple{Vararg{Real,N} where N}, Tuple{AbstractUnitRange,Vararg{Any,N} where N}} where A<:DenseArray where N where T, DenseArray} where N where T, Base.ReshapedArray{T,N,A,MI} where MI<:Tuple{Vararg{Base.MultiplicativeInverses.SignedMultiplicativeInverse{Int64},N} where N} where A<:Union{Base.ReinterpretArray{T,N,S,A} where S where A<:Union{SubArray{T,N,A,I,true} where I<:Union{Tuple{Vararg{Real,N} where N}, Tuple{AbstractUnitRange,Vararg{Any,N} where N}} where A<:DenseArray where N where T, DenseArray} where N where T, SubArray{T,N,A,I,true} where I<:Union{Tuple{Vararg{Real,N} where N}, Tuple{AbstractUnitRange,Vararg{Any,N} where N}} where A<:DenseArray where N where T, DenseArray} where N where T, DenseArray}} where T) where #s662, adjQ::LinearAlgebra.Adjoint{#s660,#s659} where #s659<:LinearAlgebra.LQPackedQ where #s660) in LinearAlgebra at C:\\Users\\chuan\\AppData\\Local\\Programs\\Julia\\Julia-1.4.0\\share\\julia\\stdlib\\v1.4\\LinearAlgebra\\src\\lq.jl:256\n",
       "[78] *(adjA::LinearAlgebra.Adjoint{#s662,#s661} where #s661<:(Union{LinearAlgebra.Hermitian{T,S}, LinearAlgebra.Symmetric{T,S}} where S where T<:Real) where #s662, adjB::LinearAlgebra.Adjoint{#s660,#s659} where #s659<:(Union{LinearAlgebra.Hermitian{T,S}, LinearAlgebra.Symmetric{T,S}} where S where T<:Real) where #s660) in LinearAlgebra at C:\\Users\\chuan\\AppData\\Local\\Programs\\Julia\\Julia-1.4.0\\share\\julia\\stdlib\\v1.4\\LinearAlgebra\\src\\symmetric.jl:599\n",
       "[79] *(adjA::LinearAlgebra.Adjoint{#s662,#s661} where #s661<:(Union{LinearAlgebra.Hermitian{T,S}, LinearAlgebra.Symmetric{T,S}} where S where T<:Real) where #s662, adjB::LinearAlgebra.Adjoint{#s660,#s659} where #s659<:(Union{LinearAlgebra.Hermitian{Complex{T},S}, LinearAlgebra.Hermitian{T,S}, LinearAlgebra.Symmetric{T,S}} where S where T<:Real) where #s660) in LinearAlgebra at C:\\Users\\chuan\\AppData\\Local\\Programs\\Julia\\Julia-1.4.0\\share\\julia\\stdlib\\v1.4\\LinearAlgebra\\src\\symmetric.jl:601\n",
       "[80] *(adjA::LinearAlgebra.Adjoint{#s662,#s661} where #s661<:(Union{LinearAlgebra.Hermitian{Complex{T},S}, LinearAlgebra.Hermitian{T,S}, LinearAlgebra.Symmetric{T,S}} where S where T<:Real) where #s662, adjB::LinearAlgebra.Adjoint{#s660,#s659} where #s659<:(Union{LinearAlgebra.Hermitian{T,S}, LinearAlgebra.Symmetric{T,S}} where S where T<:Real) where #s660) in LinearAlgebra at C:\\Users\\chuan\\AppData\\Local\\Programs\\Julia\\Julia-1.4.0\\share\\julia\\stdlib\\v1.4\\LinearAlgebra\\src\\symmetric.jl:603\n",
       "[81] *(adjA::LinearAlgebra.Adjoint{#s662,#s661} where #s661<:(Union{LinearAlgebra.Hermitian{Complex{T},S}, LinearAlgebra.Hermitian{T,S}, LinearAlgebra.Symmetric{T,S}} where S where T<:Real) where #s662, adjB::LinearAlgebra.Adjoint{#s660,#s659} where #s659<:(Union{LinearAlgebra.Hermitian{Complex{T},S}, LinearAlgebra.Hermitian{T,S}, LinearAlgebra.Symmetric{T,S}} where S where T<:Real) where #s660) in LinearAlgebra at C:\\Users\\chuan\\AppData\\Local\\Programs\\Julia\\Julia-1.4.0\\share\\julia\\stdlib\\v1.4\\LinearAlgebra\\src\\symmetric.jl:600\n",
       "[82] *(adjA::LinearAlgebra.Adjoint{#s662,#s661} where #s661<:(Union{LinearAlgebra.Hermitian{T,S}, LinearAlgebra.Symmetric{Complex{T},S}, LinearAlgebra.Symmetric{T,S}} where S where T<:Real) where #s662, adjB::LinearAlgebra.Adjoint{#s660,#s659} where #s659<:(Union{LinearAlgebra.Hermitian{Complex{T},S}, LinearAlgebra.Hermitian{T,S}, LinearAlgebra.Symmetric{T,S}} where S where T<:Real) where #s660) in LinearAlgebra at C:\\Users\\chuan\\AppData\\Local\\Programs\\Julia\\Julia-1.4.0\\share\\julia\\stdlib\\v1.4\\LinearAlgebra\\src\\symmetric.jl:602\n",
       "[83] *(adjA::LinearAlgebra.Adjoint{#s662,#s661} where #s661<:(Union{LinearAlgebra.Hermitian{Complex{T},S}, LinearAlgebra.Hermitian{T,S}, LinearAlgebra.Symmetric{T,S}} where S where T<:Real) where #s662, adjB::LinearAlgebra.Adjoint{#s660,#s659} where #s659<:(Union{LinearAlgebra.Hermitian{T,S}, LinearAlgebra.Symmetric{Complex{T},S}, LinearAlgebra.Symmetric{T,S}} where S where T<:Real) where #s660) in LinearAlgebra at C:\\Users\\chuan\\AppData\\Local\\Programs\\Julia\\Julia-1.4.0\\share\\julia\\stdlib\\v1.4\\LinearAlgebra\\src\\symmetric.jl:604\n",
       "[84] *(adjD::LinearAlgebra.Adjoint{#s662,#s661} where #s661<:LinearAlgebra.Diagonal where #s662, adjA::LinearAlgebra.Adjoint{#s660,#s659} where #s659<:(Union{LinearAlgebra.Hermitian{Complex{T},S}, LinearAlgebra.Hermitian{T,S}, LinearAlgebra.Symmetric{T,S}} where S where T<:Real) where #s660) in LinearAlgebra at C:\\Users\\chuan\\AppData\\Local\\Programs\\Julia\\Julia-1.4.0\\share\\julia\\stdlib\\v1.4\\LinearAlgebra\\src\\diagonal.jl:373\n",
       "[85] *(A::LinearAlgebra.Adjoint{#s662,#s661} where #s661<:(AbstractArray{T,1} where T) where #s662, B::LinearAlgebra.Adjoint{#s660,#s659} where #s659<:(Union{LinearAlgebra.Hermitian{Complex{T},S}, LinearAlgebra.Hermitian{T,S}, LinearAlgebra.Symmetric{T,S}} where S where T<:Real) where #s660) in LinearAlgebra at C:\\Users\\chuan\\AppData\\Local\\Programs\\Julia\\Julia-1.4.0\\share\\julia\\stdlib\\v1.4\\LinearAlgebra\\src\\symmetric.jl:1026\n",
       "[86] *(adjA::LinearAlgebra.Adjoint{#s662,#s661} where #s661<:(Union{LinearAlgebra.Hermitian{Complex{T},S}, LinearAlgebra.Hermitian{T,S}, LinearAlgebra.Symmetric{T,S}} where S where T<:Real) where #s662, adjD::LinearAlgebra.Adjoint{#s660,#s659} where #s659<:LinearAlgebra.Diagonal where #s660) in LinearAlgebra at C:\\Users\\chuan\\AppData\\Local\\Programs\\Julia\\Julia-1.4.0\\share\\julia\\stdlib\\v1.4\\LinearAlgebra\\src\\diagonal.jl:372\n",
       "[87] *(A::LinearAlgebra.Adjoint{#s662,#s661} where #s661<:(Union{LinearAlgebra.Hermitian{Complex{T},S}, LinearAlgebra.Hermitian{T,S}, LinearAlgebra.Symmetric{T,S}} where S where T<:Real) where #s662, B::LinearAlgebra.Adjoint{#s660,#s659} where #s659<:(AbstractArray{T,1} where T) where #s660) in LinearAlgebra at C:\\Users\\chuan\\AppData\\Local\\Programs\\Julia\\Julia-1.4.0\\share\\julia\\stdlib\\v1.4\\LinearAlgebra\\src\\symmetric.jl:1035\n",
       "[88] *(D::LinearAlgebra.Adjoint{#s662,#s661} where #s661<:LinearAlgebra.Diagonal where #s662, B::LinearAlgebra.Adjoint{#s660,#s659} where #s659<:LinearAlgebra.Diagonal where #s660) in LinearAlgebra at C:\\Users\\chuan\\AppData\\Local\\Programs\\Julia\\Julia-1.4.0\\share\\julia\\stdlib\\v1.4\\LinearAlgebra\\src\\diagonal.jl:259\n",
       "[89] *(A::LinearAlgebra.Adjoint{#s662,#s661} where #s661<:SparseArrays.AbstractSparseMatrixCSC where #s662, B::LinearAlgebra.Adjoint{#s660,#s659} where #s659<:SparseArrays.AbstractSparseMatrixCSC where #s660) in SparseArrays at C:\\Users\\chuan\\AppData\\Local\\Programs\\Julia\\Julia-1.4.0\\share\\julia\\stdlib\\v1.4\\SparseArrays\\src\\linalg.jl:168\n",
       "[90] *(u::LinearAlgebra.Adjoint{T,#s662} where #s662<:(AbstractArray{T,1} where T) where T, v::LinearAlgebra.Adjoint{T,#s662} where #s662<:(AbstractArray{T,1} where T) where T) in LinearAlgebra at C:\\Users\\chuan\\AppData\\Local\\Programs\\Julia\\Julia-1.4.0\\share\\julia\\stdlib\\v1.4\\LinearAlgebra\\src\\adjtrans.jl:256\n",
       "[91] *(u::LinearAlgebra.Adjoint{T,#s662} where #s662<:(AbstractArray{T,1} where T) where T, v::LinearAlgebra.Transpose{#s662,#s661} where #s661<:(LinearAlgebra.Adjoint{T,#s662} where #s662<:(AbstractArray{T,1} where T) where T) where #s662) in LinearAlgebra at C:\\Users\\chuan\\AppData\\Local\\Programs\\Julia\\Julia-1.4.0\\share\\julia\\stdlib\\v1.4\\LinearAlgebra\\src\\adjtrans.jl:267\n",
       "[92] *(adjA::LinearAlgebra.Adjoint{#s662,#s661} where #s661<:Union{DenseArray{T,2}, Base.ReinterpretArray{T,2,S,A} where S where A<:Union{SubArray{T,N,A,I,true} where I<:Union{Tuple{Vararg{Real,N} where N}, Tuple{AbstractUnitRange,Vararg{Any,N} where N}} where A<:DenseArray where N where T, DenseArray}, Base.ReshapedArray{T,2,A,MI} where MI<:Tuple{Vararg{Base.MultiplicativeInverses.SignedMultiplicativeInverse{Int64},N} where N} where A<:Union{Base.ReinterpretArray{T,N,S,A} where S where A<:Union{SubArray{T,N,A,I,true} where I<:Union{Tuple{Vararg{Real,N} where N}, Tuple{AbstractUnitRange,Vararg{Any,N} where N}} where A<:DenseArray where N where T, DenseArray} where N where T, SubArray{T,N,A,I,true} where I<:Union{Tuple{Vararg{Real,N} where N}, Tuple{AbstractUnitRange,Vararg{Any,N} where N}} where A<:DenseArray where N where T, DenseArray}, SubArray{T,2,A,I,L} where L where I<:Tuple{Vararg{Union{Int64, AbstractRange{Int64}, Base.AbstractCartesianIndex},N} where N} where A<:Union{Base.ReinterpretArray{T,N,S,A} where S where A<:Union{SubArray{T,N,A,I,true} where I<:Union{Tuple{Vararg{Real,N} where N}, Tuple{AbstractUnitRange,Vararg{Any,N} where N}} where A<:DenseArray where N where T, DenseArray} where N where T, Base.ReshapedArray{T,N,A,MI} where MI<:Tuple{Vararg{Base.MultiplicativeInverses.SignedMultiplicativeInverse{Int64},N} where N} where A<:Union{Base.ReinterpretArray{T,N,S,A} where S where A<:Union{SubArray{T,N,A,I,true} where I<:Union{Tuple{Vararg{Real,N} where N}, Tuple{AbstractUnitRange,Vararg{Any,N} where N}} where A<:DenseArray where N where T, DenseArray} where N where T, SubArray{T,N,A,I,true} where I<:Union{Tuple{Vararg{Real,N} where N}, Tuple{AbstractUnitRange,Vararg{Any,N} where N}} where A<:DenseArray where N where T, DenseArray} where N where T, DenseArray}} where #s662, x::Union{DenseArray{S,1}, Base.ReinterpretArray{S,1,S1,A} where S1 where A<:Union{SubArray{T,N,A,I,true} where I<:Union{Tuple{Vararg{Real,N} where N}, Tuple{AbstractUnitRange,Vararg{Any,N} where N}} where A<:DenseArray where N where T, DenseArray}, Base.ReshapedArray{S,1,A,MI} where MI<:Tuple{Vararg{Base.MultiplicativeInverses.SignedMultiplicativeInverse{Int64},N} where N} where A<:Union{Base.ReinterpretArray{T,N,S,A} where S where A<:Union{SubArray{T,N,A,I,true} where I<:Union{Tuple{Vararg{Real,N} where N}, Tuple{AbstractUnitRange,Vararg{Any,N} where N}} where A<:DenseArray where N where T, DenseArray} where N where T, SubArray{T,N,A,I,true} where I<:Union{Tuple{Vararg{Real,N} where N}, Tuple{AbstractUnitRange,Vararg{Any,N} where N}} where A<:DenseArray where N where T, DenseArray}, SubArray{S,1,A,I,L} where L where I<:Tuple{Vararg{Union{Int64, AbstractRange{Int64}, Base.AbstractCartesianIndex},N} where N} where A<:Union{Base.ReinterpretArray{T,N,S,A} where S where A<:Union{SubArray{T,N,A,I,true} where I<:Union{Tuple{Vararg{Real,N} where N}, Tuple{AbstractUnitRange,Vararg{Any,N} where N}} where A<:DenseArray where N where T, DenseArray} where N where T, Base.ReshapedArray{T,N,A,MI} where MI<:Tuple{Vararg{Base.MultiplicativeInverses.SignedMultiplicativeInverse{Int64},N} where N} where A<:Union{Base.ReinterpretArray{T,N,S,A} where S where A<:Union{SubArray{T,N,A,I,true} where I<:Union{Tuple{Vararg{Real,N} where N}, Tuple{AbstractUnitRange,Vararg{Any,N} where N}} where A<:DenseArray where N where T, DenseArray} where N where T, SubArray{T,N,A,I,true} where I<:Union{Tuple{Vararg{Real,N} where N}, Tuple{AbstractUnitRange,Vararg{Any,N} where N}} where A<:DenseArray where N where T, DenseArray} where N where T, DenseArray}}) where {T<:Union{Complex{Float32}, Complex{Float64}, Float32, Float64}, S} in LinearAlgebra at C:\\Users\\chuan\\AppData\\Local\\Programs\\Julia\\Julia-1.4.0\\share\\julia\\stdlib\\v1.4\\LinearAlgebra\\src\\matmul.jl:106\n",
       "[93] *(xformA::LinearAlgebra.Adjoint{#s662,#s661} where #s661<:LinearAlgebra.UpperTriangular where #s662, B::LinearAlgebra.LowerTriangular) in LinearAlgebra at C:\\Users\\chuan\\AppData\\Local\\Programs\\Julia\\Julia-1.4.0\\share\\julia\\stdlib\\v1.4\\LinearAlgebra\\src\\triangular.jl:1813\n",
       "[94] *(xformA::LinearAlgebra.Adjoint{#s660,#s659} where #s659<:LinearAlgebra.UnitUpperTriangular where #s660, B::LinearAlgebra.LowerTriangular) in LinearAlgebra at C:\\Users\\chuan\\AppData\\Local\\Programs\\Julia\\Julia-1.4.0\\share\\julia\\stdlib\\v1.4\\LinearAlgebra\\src\\triangular.jl:1822\n",
       "[95] *(xformA::LinearAlgebra.Adjoint{#s658,#s657} where #s657<:LinearAlgebra.LowerTriangular where #s658, B::LinearAlgebra.UpperTriangular) in LinearAlgebra at C:\\Users\\chuan\\AppData\\Local\\Programs\\Julia\\Julia-1.4.0\\share\\julia\\stdlib\\v1.4\\LinearAlgebra\\src\\triangular.jl:1831\n",
       "[96] *(xformA::LinearAlgebra.Adjoint{#s656,#s655} where #s655<:LinearAlgebra.UnitLowerTriangular where #s656, B::LinearAlgebra.UpperTriangular) in LinearAlgebra at C:\\Users\\chuan\\AppData\\Local\\Programs\\Julia\\Julia-1.4.0\\share\\julia\\stdlib\\v1.4\\LinearAlgebra\\src\\triangular.jl:1840\n",
       "[97] *(adjA::LinearAlgebra.Adjoint{#s662,#s661} where #s661<:LinearAlgebra.AbstractTriangular where #s662, B::LinearAlgebra.AbstractTriangular) in LinearAlgebra at C:\\Users\\chuan\\AppData\\Local\\Programs\\Julia\\Julia-1.4.0\\share\\julia\\stdlib\\v1.4\\LinearAlgebra\\src\\triangular.jl:1931\n",
       "[98] *(A::LinearAlgebra.Adjoint{#s662,#s661} where #s661<:LinearAlgebra.AbstractTriangular where #s662, B::LinearAlgebra.Adjoint{#s660,#s659} where #s659<:(AbstractArray{T,2} where T) where #s660) in LinearAlgebra at C:\\Users\\chuan\\AppData\\Local\\Programs\\Julia\\Julia-1.4.0\\share\\julia\\stdlib\\v1.4\\LinearAlgebra\\src\\triangular.jl:2134\n",
       "[99] *(A::LinearAlgebra.Adjoint{#s662,#s661} where #s661<:LinearAlgebra.AbstractTriangular where #s662, B::LinearAlgebra.Transpose{#s660,#s659} where #s659<:LinearAlgebra.AbstractTriangular where #s660) in LinearAlgebra at C:\\Users\\chuan\\AppData\\Local\\Programs\\Julia\\Julia-1.4.0\\share\\julia\\stdlib\\v1.4\\LinearAlgebra\\src\\triangular.jl:2639\n",
       "[100] *(A::LinearAlgebra.Adjoint{#s662,#s661} where #s661<:LinearAlgebra.AbstractTriangular where #s662, B::LinearAlgebra.Transpose{#s660,#s659} where #s659<:(Union{LinearAlgebra.Hermitian{T,S}, LinearAlgebra.Symmetric{Complex{T},S}, LinearAlgebra.Symmetric{T,S}} where S where T<:Real) where #s660) in LinearAlgebra at C:\\Users\\chuan\\AppData\\Local\\Programs\\Julia\\Julia-1.4.0\\share\\julia\\stdlib\\v1.4\\LinearAlgebra\\src\\symmetric.jl:1046\n",
       "[101] *(X::Union{DenseArray{T,2}, Base.ReinterpretArray{T,2,S,A} where S where A<:Union{SubArray{T,N,A,I,true} where I<:Union{Tuple{Vararg{Real,N} where N}, Tuple{AbstractUnitRange,Vararg{Any,N} where N}} where A<:DenseArray where N where T, DenseArray}, Base.ReshapedArray{T,2,A,MI} where MI<:Tuple{Vararg{Base.MultiplicativeInverses.SignedMultiplicativeInverse{Int64},N} where N} where A<:Union{Base.ReinterpretArray{T,N,S,A} where S where A<:Union{SubArray{T,N,A,I,true} where I<:Union{Tuple{Vararg{Real,N} where N}, Tuple{AbstractUnitRange,Vararg{Any,N} where N}} where A<:DenseArray where N where T, DenseArray} where N where T, SubArray{T,N,A,I,true} where I<:Union{Tuple{Vararg{Real,N} where N}, Tuple{AbstractUnitRange,Vararg{Any,N} where N}} where A<:DenseArray where N where T, DenseArray}, SubArray{T,2,A,I,L} where L where I<:Tuple{Vararg{Union{Int64, AbstractRange{Int64}, Base.AbstractCartesianIndex},N} where N} where A<:Union{Base.ReinterpretArray{T,N,S,A} where S where A<:Union{SubArray{T,N,A,I,true} where I<:Union{Tuple{Vararg{Real,N} where N}, Tuple{AbstractUnitRange,Vararg{Any,N} where N}} where A<:DenseArray where N where T, DenseArray} where N where T, Base.ReshapedArray{T,N,A,MI} where MI<:Tuple{Vararg{Base.MultiplicativeInverses.SignedMultiplicativeInverse{Int64},N} where N} where A<:Union{Base.ReinterpretArray{T,N,S,A} where S where A<:Union{SubArray{T,N,A,I,true} where I<:Union{Tuple{Vararg{Real,N} where N}, Tuple{AbstractUnitRange,Vararg{Any,N} where N}} where A<:DenseArray where N where T, DenseArray} where N where T, SubArray{T,N,A,I,true} where I<:Union{Tuple{Vararg{Real,N} where N}, Tuple{AbstractUnitRange,Vararg{Any,N} where N}} where A<:DenseArray where N where T, DenseArray} where N where T, DenseArray}, LinearAlgebra.Adjoint{#s662,#s661} where #s661<:Union{DenseArray{T,2}, Base.ReinterpretArray{T,2,S,A} where S where A<:Union{SubArray{T,N,A,I,true} where I<:Union{Tuple{Vararg{Real,N} where N}, Tuple{AbstractUnitRange,Vararg{Any,N} where N}} where A<:DenseArray where N where T, DenseArray}, Base.ReshapedArray{T,2,A,MI} where MI<:Tuple{Vararg{Base.MultiplicativeInverses.SignedMultiplicativeInverse{Int64},N} where N} where A<:Union{Base.ReinterpretArray{T,N,S,A} where S where A<:Union{SubArray{T,N,A,I,true} where I<:Union{Tuple{Vararg{Real,N} where N}, Tuple{AbstractUnitRange,Vararg{Any,N} where N}} where A<:DenseArray where N where T, DenseArray} where N where T, SubArray{T,N,A,I,true} where I<:Union{Tuple{Vararg{Real,N} where N}, Tuple{AbstractUnitRange,Vararg{Any,N} where N}} where A<:DenseArray where N where T, DenseArray}, SubArray{T,2,A,I,L} where L where I<:Tuple{Vararg{Union{Int64, AbstractRange{Int64}, Base.AbstractCartesianIndex},N} where N} where A<:Union{Base.ReinterpretArray{T,N,S,A} where S where A<:Union{SubArray{T,N,A,I,true} where I<:Union{Tuple{Vararg{Real,N} where N}, Tuple{AbstractUnitRange,Vararg{Any,N} where N}} where A<:DenseArray where N where T, DenseArray} where N where T, Base.ReshapedArray{T,N,A,MI} where MI<:Tuple{Vararg{Base.MultiplicativeInverses.SignedMultiplicativeInverse{Int64},N} where N} where A<:Union{Base.ReinterpretArray{T,N,S,A} where S where A<:Union{SubArray{T,N,A,I,true} where I<:Union{Tuple{Vararg{Real,N} where N}, Tuple{AbstractUnitRange,Vararg{Any,N} where N}} where A<:DenseArray where N where T, DenseArray} where N where T, SubArray{T,N,A,I,true} where I<:Union{Tuple{Vararg{Real,N} where N}, Tuple{AbstractUnitRange,Vararg{Any,N} where N}} where A<:DenseArray where N where T, DenseArray} where N where T, DenseArray}, LinearAlgebra.LowerTriangular{T,S} where S<:AbstractArray{T,2}, LinearAlgebra.UnitLowerTriangular{T,S} where S<:AbstractArray{T,2}, LinearAlgebra.UnitUpperTriangular{T,S} where S<:AbstractArray{T,2}, LinearAlgebra.UpperTriangular{T,S} where S<:AbstractArray{T,2}} where #s662, LinearAlgebra.LowerTriangular{T,S} where S<:AbstractArray{T,2}, LinearAlgebra.Transpose{#s660,#s659} where #s659<:Union{DenseArray{T,2}, Base.ReinterpretArray{T,2,S,A} where S where A<:Union{SubArray{T,N,A,I,true} where I<:Union{Tuple{Vararg{Real,N} where N}, Tuple{AbstractUnitRange,Vararg{Any,N} where N}} where A<:DenseArray where N where T, DenseArray}, Base.ReshapedArray{T,2,A,MI} where MI<:Tuple{Vararg{Base.MultiplicativeInverses.SignedMultiplicativeInverse{Int64},N} where N} where A<:Union{Base.ReinterpretArray{T,N,S,A} where S where A<:Union{SubArray{T,N,A,I,true} where I<:Union{Tuple{Vararg{Real,N} where N}, Tuple{AbstractUnitRange,Vararg{Any,N} where N}} where A<:DenseArray where N where T, DenseArray} where N where T, SubArray{T,N,A,I,true} where I<:Union{Tuple{Vararg{Real,N} where N}, Tuple{AbstractUnitRange,Vararg{Any,N} where N}} where A<:DenseArray where N where T, DenseArray}, SubArray{T,2,A,I,L} where L where I<:Tuple{Vararg{Union{Int64, AbstractRange{Int64}, Base.AbstractCartesianIndex},N} where N} where A<:Union{Base.ReinterpretArray{T,N,S,A} where S where A<:Union{SubArray{T,N,A,I,true} where I<:Union{Tuple{Vararg{Real,N} where N}, Tuple{AbstractUnitRange,Vararg{Any,N} where N}} where A<:DenseArray where N where T, DenseArray} where N where T, Base.ReshapedArray{T,N,A,MI} where MI<:Tuple{Vararg{Base.MultiplicativeInverses.SignedMultiplicativeInverse{Int64},N} where N} where A<:Union{Base.ReinterpretArray{T,N,S,A} where S where A<:Union{SubArray{T,N,A,I,true} where I<:Union{Tuple{Vararg{Real,N} where N}, Tuple{AbstractUnitRange,Vararg{Any,N} where N}} where A<:DenseArray where N where T, DenseArray} where N where T, SubArray{T,N,A,I,true} where I<:Union{Tuple{Vararg{Real,N} where N}, Tuple{AbstractUnitRange,Vararg{Any,N} where N}} where A<:DenseArray where N where T, DenseArray} where N where T, DenseArray}, LinearAlgebra.LowerTriangular{T,S} where S<:AbstractArray{T,2}, LinearAlgebra.UnitLowerTriangular{T,S} where S<:AbstractArray{T,2}, LinearAlgebra.UnitUpperTriangular{T,S} where S<:AbstractArray{T,2}, LinearAlgebra.UpperTriangular{T,S} where S<:AbstractArray{T,2}} where #s660, LinearAlgebra.UnitLowerTriangular{T,S} where S<:AbstractArray{T,2}, LinearAlgebra.UnitUpperTriangular{T,S} where S<:AbstractArray{T,2}, LinearAlgebra.UpperTriangular{T,S} where S<:AbstractArray{T,2}} where T, transA::LinearAlgebra.Transpose{#s662,#s661} where #s661<:SparseArrays.AbstractSparseMatrixCSC where #s662) in SparseArrays at C:\\Users\\chuan\\AppData\\Local\\Programs\\Julia\\Julia-1.4.0\\share\\julia\\stdlib\\v1.4\\SparseArrays\\src\\linalg.jl:148\n",
       "[102] *(A::LinearAlgebra.Adjoint{#s662,#s661} where #s661<:LinearAlgebra.AbstractTriangular where #s662, B::LinearAlgebra.Transpose{#s660,#s659} where #s659<:(AbstractArray{T,2} where T) where #s660) in LinearAlgebra at C:\\Users\\chuan\\AppData\\Local\\Programs\\Julia\\Julia-1.4.0\\share\\julia\\stdlib\\v1.4\\LinearAlgebra\\src\\triangular.jl:2643\n",
       "[103] *(A::LinearAlgebra.Adjoint{#s662,#s661} where #s661<:LinearAlgebra.AbstractTriangular where #s662, B::LinearAlgebra.Transpose{#s660,#s659} where #s659<:(AbstractArray{T,1} where T) where #s660) in LinearAlgebra at C:\\Users\\chuan\\AppData\\Local\\Programs\\Julia\\Julia-1.4.0\\share\\julia\\stdlib\\v1.4\\LinearAlgebra\\src\\triangular.jl:2644\n",
       "[104] *(A::LinearAlgebra.Adjoint{#s662,#s661} where #s661<:LinearAlgebra.AbstractTriangular where #s662, D::LinearAlgebra.Diagonal) in LinearAlgebra at C:\\Users\\chuan\\AppData\\Local\\Programs\\Julia\\Julia-1.4.0\\share\\julia\\stdlib\\v1.4\\LinearAlgebra\\src\\diagonal.jl:219\n",
       "[105] *(A::Union{LinearAlgebra.Adjoint{#s662,#s661} where #s661<:Union{LinearAlgebra.UnitUpperTriangular, LinearAlgebra.UpperTriangular} where #s662, LinearAlgebra.Transpose{#s660,#s659} where #s659<:Union{LinearAlgebra.UnitUpperTriangular, LinearAlgebra.UpperTriangular} where #s660}, B::LinearAlgebra.Bidiagonal) in LinearAlgebra at C:\\Users\\chuan\\AppData\\Local\\Programs\\Julia\\Julia-1.4.0\\share\\julia\\stdlib\\v1.4\\LinearAlgebra\\src\\bidiag.jl:604\n",
       "[106] *(A::Union{LinearAlgebra.Adjoint{#s662,#s661} where #s661<:Union{LinearAlgebra.LowerTriangular, LinearAlgebra.UnitLowerTriangular} where #s662, LinearAlgebra.Transpose{#s660,#s659} where #s659<:Union{LinearAlgebra.LowerTriangular, LinearAlgebra.UnitLowerTriangular} where #s660}, B::LinearAlgebra.Bidiagonal) in LinearAlgebra at C:\\Users\\chuan\\AppData\\Local\\Programs\\Julia\\Julia-1.4.0\\share\\julia\\stdlib\\v1.4\\LinearAlgebra\\src\\bidiag.jl:622\n",
       "[107] *(A::LinearAlgebra.Adjoint{#s662,#s661} where #s661<:LinearAlgebra.AbstractTriangular where #s662, B::LinearAlgebra.Adjoint{#s660,#s659} where #s659<:LinearAlgebra.AbstractRotation where #s660) in LinearAlgebra at C:\\Users\\chuan\\AppData\\Local\\Programs\\Julia\\Julia-1.4.0\\share\\julia\\stdlib\\v1.4\\LinearAlgebra\\src\\givens.jl:394\n",
       "[108] *(L::Union{LinearAlgebra.Adjoint{T,#s662} where #s662<:(LinearAlgebra.UpperTriangular{T,#s661} where #s661<:(Union{SparseArrays.AbstractSparseMatrixCSC{T,Ti}, SubArray{T,2,#s662,Tuple{Base.Slice{Base.OneTo{Int64}},I},L} where L where #s662<:SparseArrays.AbstractSparseMatrixCSC{T,Ti} where I<:AbstractUnitRange} where Ti)), LinearAlgebra.Adjoint{T,#s660} where #s660<:(LinearAlgebra.UnitUpperTriangular{T,#s659} where #s659<:(Union{SparseArrays.AbstractSparseMatrixCSC{T,Ti}, SubArray{T,2,#s662,Tuple{Base.Slice{Base.OneTo{Int64}},I},L} where L where #s662<:SparseArrays.AbstractSparseMatrixCSC{T,Ti} where I<:AbstractUnitRange} where Ti)), LinearAlgebra.Adjoint{T,#s660} where #s660<:(LinearAlgebra.UnitLowerTriangular{T,#s659} where #s659<:(Union{SparseArrays.AbstractSparseMatrixCSC{T,Ti}, SubArray{T,2,#s662,Tuple{Base.Slice{Base.OneTo{Int64}},I},L} where L where #s662<:SparseArrays.AbstractSparseMatrixCSC{T,Ti} where I<:AbstractUnitRange} where Ti)), LinearAlgebra.Adjoint{T,#s662} where #s662<:(LinearAlgebra.LowerTriangular{T,#s661} where #s661<:(Union{SparseArrays.AbstractSparseMatrixCSC{T,Ti}, SubArray{T,2,#s662,Tuple{Base.Slice{Base.OneTo{Int64}},I},L} where L where #s662<:SparseArrays.AbstractSparseMatrixCSC{T,Ti} where I<:AbstractUnitRange} where Ti)), LinearAlgebra.LowerTriangular{T,#s662} where #s662<:(Union{SparseArrays.AbstractSparseMatrixCSC{T,Ti}, SubArray{T,2,#s662,Tuple{Base.Slice{Base.OneTo{Int64}},I},L} where L where #s662<:SparseArrays.AbstractSparseMatrixCSC{T,Ti} where I<:AbstractUnitRange} where Ti), LinearAlgebra.Transpose{T,#s656} where #s656<:(LinearAlgebra.UnitUpperTriangular{T,#s655} where #s655<:(Union{SparseArrays.AbstractSparseMatrixCSC{T,Ti}, SubArray{T,2,#s662,Tuple{Base.Slice{Base.OneTo{Int64}},I},L} where L where #s662<:SparseArrays.AbstractSparseMatrixCSC{T,Ti} where I<:AbstractUnitRange} where Ti)), LinearAlgebra.Transpose{T,#s656} where #s656<:(LinearAlgebra.UnitLowerTriangular{T,#s655} where #s655<:(Union{SparseArrays.AbstractSparseMatrixCSC{T,Ti}, SubArray{T,2,#s662,Tuple{Base.Slice{Base.OneTo{Int64}},I},L} where L where #s662<:SparseArrays.AbstractSparseMatrixCSC{T,Ti} where I<:AbstractUnitRange} where Ti)), LinearAlgebra.Transpose{T,#s658} where #s658<:(LinearAlgebra.LowerTriangular{T,#s657} where #s657<:(Union{SparseArrays.AbstractSparseMatrixCSC{T,Ti}, SubArray{T,2,#s662,Tuple{Base.Slice{Base.OneTo{Int64}},I},L} where L where #s662<:SparseArrays.AbstractSparseMatrixCSC{T,Ti} where I<:AbstractUnitRange} where Ti)), LinearAlgebra.Transpose{T,#s658} where #s658<:(LinearAlgebra.UpperTriangular{T,#s657} where #s657<:(Union{SparseArrays.AbstractSparseMatrixCSC{T,Ti}, SubArray{T,2,#s662,Tuple{Base.Slice{Base.OneTo{Int64}},I},L} where L where #s662<:SparseArrays.AbstractSparseMatrixCSC{T,Ti} where I<:AbstractUnitRange} where Ti)), LinearAlgebra.UnitLowerTriangular{T,#s661} where #s661<:(Union{SparseArrays.AbstractSparseMatrixCSC{T,Ti}, SubArray{T,2,#s662,Tuple{Base.Slice{Base.OneTo{Int64}},I},L} where L where #s662<:SparseArrays.AbstractSparseMatrixCSC{T,Ti} where I<:AbstractUnitRange} where Ti), LinearAlgebra.UnitUpperTriangular{T,#s661} where #s661<:(Union{SparseArrays.AbstractSparseMatrixCSC{T,Ti}, SubArray{T,2,#s662,Tuple{Base.Slice{Base.OneTo{Int64}},I},L} where L where #s662<:SparseArrays.AbstractSparseMatrixCSC{T,Ti} where I<:AbstractUnitRange} where Ti), LinearAlgebra.UpperTriangular{T,#s662} where #s662<:(Union{SparseArrays.AbstractSparseMatrixCSC{T,Ti}, SubArray{T,2,#s662,Tuple{Base.Slice{Base.OneTo{Int64}},I},L} where L where #s662<:SparseArrays.AbstractSparseMatrixCSC{T,Ti} where I<:AbstractUnitRange} where Ti)} where T, B::SparseArrays.AbstractSparseMatrixCSC) in SparseArrays at C:\\Users\\chuan\\AppData\\Local\\Programs\\Julia\\Julia-1.4.0\\share\\julia\\stdlib\\v1.4\\SparseArrays\\src\\linalg.jl:747\n",
       "[109] *(adjA::LinearAlgebra.Adjoint{#s662,#s661} where #s661<:Union{DenseArray{Ta,2}, Base.ReinterpretArray{Ta,2,S,A} where S where A<:Union{SubArray{T,N,A,I,true} where I<:Union{Tuple{Vararg{Real,N} where N}, Tuple{AbstractUnitRange,Vararg{Any,N} where N}} where A<:DenseArray where N where T, DenseArray}, Base.ReshapedArray{Ta,2,A,MI} where MI<:Tuple{Vararg{Base.MultiplicativeInverses.SignedMultiplicativeInverse{Int64},N} where N} where A<:Union{Base.ReinterpretArray{T,N,S,A} where S where A<:Union{SubArray{T,N,A,I,true} where I<:Union{Tuple{Vararg{Real,N} where N}, Tuple{AbstractUnitRange,Vararg{Any,N} where N}} where A<:DenseArray where N where T, DenseArray} where N where T, SubArray{T,N,A,I,true} where I<:Union{Tuple{Vararg{Real,N} where N}, Tuple{AbstractUnitRange,Vararg{Any,N} where N}} where A<:DenseArray where N where T, DenseArray}, SubArray{Ta,2,A,I,L} where L where I<:Tuple{Vararg{Union{Int64, AbstractRange{Int64}, Base.AbstractCartesianIndex},N} where N} where A<:Union{Base.ReinterpretArray{T,N,S,A} where S where A<:Union{SubArray{T,N,A,I,true} where I<:Union{Tuple{Vararg{Real,N} where N}, Tuple{AbstractUnitRange,Vararg{Any,N} where N}} where A<:DenseArray where N where T, DenseArray} where N where T, Base.ReshapedArray{T,N,A,MI} where MI<:Tuple{Vararg{Base.MultiplicativeInverses.SignedMultiplicativeInverse{Int64},N} where N} where A<:Union{Base.ReinterpretArray{T,N,S,A} where S where A<:Union{SubArray{T,N,A,I,true} where I<:Union{Tuple{Vararg{Real,N} where N}, Tuple{AbstractUnitRange,Vararg{Any,N} where N}} where A<:DenseArray where N where T, DenseArray} where N where T, SubArray{T,N,A,I,true} where I<:Union{Tuple{Vararg{Real,N} where N}, Tuple{AbstractUnitRange,Vararg{Any,N} where N}} where A<:DenseArray where N where T, DenseArray} where N where T, DenseArray}, LinearAlgebra.LowerTriangular{Ta,S} where S<:AbstractArray{Ta,2}, LinearAlgebra.UnitLowerTriangular{Ta,S} where S<:AbstractArray{Ta,2}, LinearAlgebra.UnitUpperTriangular{Ta,S} where S<:AbstractArray{Ta,2}, LinearAlgebra.UpperTriangular{Ta,S} where S<:AbstractArray{Ta,2}} where #s662, x::SparseArrays.AbstractSparseArray{Tx,Ti,1} where Ti) where {Ta, Tx} in SparseArrays at C:\\Users\\chuan\\AppData\\Local\\Programs\\Julia\\Julia-1.4.0\\share\\julia\\stdlib\\v1.4\\SparseArrays\\src\\sparsevector.jl:1575\n",
       "[110] *(X::Union{DenseArray{T,2}, Base.ReinterpretArray{T,2,S,A} where S where A<:Union{SubArray{T,N,A,I,true} where I<:Union{Tuple{Vararg{Real,N} where N}, Tuple{AbstractUnitRange,Vararg{Any,N} where N}} where A<:DenseArray where N where T, DenseArray}, Base.ReshapedArray{T,2,A,MI} where MI<:Tuple{Vararg{Base.MultiplicativeInverses.SignedMultiplicativeInverse{Int64},N} where N} where A<:Union{Base.ReinterpretArray{T,N,S,A} where S where A<:Union{SubArray{T,N,A,I,true} where I<:Union{Tuple{Vararg{Real,N} where N}, Tuple{AbstractUnitRange,Vararg{Any,N} where N}} where A<:DenseArray where N where T, DenseArray} where N where T, SubArray{T,N,A,I,true} where I<:Union{Tuple{Vararg{Real,N} where N}, Tuple{AbstractUnitRange,Vararg{Any,N} where N}} where A<:DenseArray where N where T, DenseArray}, SubArray{T,2,A,I,L} where L where I<:Tuple{Vararg{Union{Int64, AbstractRange{Int64}, Base.AbstractCartesianIndex},N} where N} where A<:Union{Base.ReinterpretArray{T,N,S,A} where S where A<:Union{SubArray{T,N,A,I,true} where I<:Union{Tuple{Vararg{Real,N} where N}, Tuple{AbstractUnitRange,Vararg{Any,N} where N}} where A<:DenseArray where N where T, DenseArray} where N where T, Base.ReshapedArray{T,N,A,MI} where MI<:Tuple{Vararg{Base.MultiplicativeInverses.SignedMultiplicativeInverse{Int64},N} where N} where A<:Union{Base.ReinterpretArray{T,N,S,A} where S where A<:Union{SubArray{T,N,A,I,true} where I<:Union{Tuple{Vararg{Real,N} where N}, Tuple{AbstractUnitRange,Vararg{Any,N} where N}} where A<:DenseArray where N where T, DenseArray} where N where T, SubArray{T,N,A,I,true} where I<:Union{Tuple{Vararg{Real,N} where N}, Tuple{AbstractUnitRange,Vararg{Any,N} where N}} where A<:DenseArray where N where T, DenseArray} where N where T, DenseArray}, LinearAlgebra.Adjoint{#s662,#s661} where #s661<:Union{DenseArray{T,2}, Base.ReinterpretArray{T,2,S,A} where S where A<:Union{SubArray{T,N,A,I,true} where I<:Union{Tuple{Vararg{Real,N} where N}, Tuple{AbstractUnitRange,Vararg{Any,N} where N}} where A<:DenseArray where N where T, DenseArray}, Base.ReshapedArray{T,2,A,MI} where MI<:Tuple{Vararg{Base.MultiplicativeInverses.SignedMultiplicativeInverse{Int64},N} where N} where A<:Union{Base.ReinterpretArray{T,N,S,A} where S where A<:Union{SubArray{T,N,A,I,true} where I<:Union{Tuple{Vararg{Real,N} where N}, Tuple{AbstractUnitRange,Vararg{Any,N} where N}} where A<:DenseArray where N where T, DenseArray} where N where T, SubArray{T,N,A,I,true} where I<:Union{Tuple{Vararg{Real,N} where N}, Tuple{AbstractUnitRange,Vararg{Any,N} where N}} where A<:DenseArray where N where T, DenseArray}, SubArray{T,2,A,I,L} where L where I<:Tuple{Vararg{Union{Int64, AbstractRange{Int64}, Base.AbstractCartesianIndex},N} where N} where A<:Union{Base.ReinterpretArray{T,N,S,A} where S where A<:Union{SubArray{T,N,A,I,true} where I<:Union{Tuple{Vararg{Real,N} where N}, Tuple{AbstractUnitRange,Vararg{Any,N} where N}} where A<:DenseArray where N where T, DenseArray} where N where T, Base.ReshapedArray{T,N,A,MI} where MI<:Tuple{Vararg{Base.MultiplicativeInverses.SignedMultiplicativeInverse{Int64},N} where N} where A<:Union{Base.ReinterpretArray{T,N,S,A} where S where A<:Union{SubArray{T,N,A,I,true} where I<:Union{Tuple{Vararg{Real,N} where N}, Tuple{AbstractUnitRange,Vararg{Any,N} where N}} where A<:DenseArray where N where T, DenseArray} where N where T, SubArray{T,N,A,I,true} where I<:Union{Tuple{Vararg{Real,N} where N}, Tuple{AbstractUnitRange,Vararg{Any,N} where N}} where A<:DenseArray where N where T, DenseArray} where N where T, DenseArray}, LinearAlgebra.LowerTriangular{T,S} where S<:AbstractArray{T,2}, LinearAlgebra.UnitLowerTriangular{T,S} where S<:AbstractArray{T,2}, LinearAlgebra.UnitUpperTriangular{T,S} where S<:AbstractArray{T,2}, LinearAlgebra.UpperTriangular{T,S} where S<:AbstractArray{T,2}} where #s662, LinearAlgebra.LowerTriangular{T,S} where S<:AbstractArray{T,2}, LinearAlgebra.Transpose{#s660,#s659} where #s659<:Union{DenseArray{T,2}, Base.ReinterpretArray{T,2,S,A} where S where A<:Union{SubArray{T,N,A,I,true} where I<:Union{Tuple{Vararg{Real,N} where N}, Tuple{AbstractUnitRange,Vararg{Any,N} where N}} where A<:DenseArray where N where T, DenseArray}, Base.ReshapedArray{T,2,A,MI} where MI<:Tuple{Vararg{Base.MultiplicativeInverses.SignedMultiplicativeInverse{Int64},N} where N} where A<:Union{Base.ReinterpretArray{T,N,S,A} where S where A<:Union{SubArray{T,N,A,I,true} where I<:Union{Tuple{Vararg{Real,N} where N}, Tuple{AbstractUnitRange,Vararg{Any,N} where N}} where A<:DenseArray where N where T, DenseArray} where N where T, SubArray{T,N,A,I,true} where I<:Union{Tuple{Vararg{Real,N} where N}, Tuple{AbstractUnitRange,Vararg{Any,N} where N}} where A<:DenseArray where N where T, DenseArray}, SubArray{T,2,A,I,L} where L where I<:Tuple{Vararg{Union{Int64, AbstractRange{Int64}, Base.AbstractCartesianIndex},N} where N} where A<:Union{Base.ReinterpretArray{T,N,S,A} where S where A<:Union{SubArray{T,N,A,I,true} where I<:Union{Tuple{Vararg{Real,N} where N}, Tuple{AbstractUnitRange,Vararg{Any,N} where N}} where A<:DenseArray where N where T, DenseArray} where N where T, Base.ReshapedArray{T,N,A,MI} where MI<:Tuple{Vararg{Base.MultiplicativeInverses.SignedMultiplicativeInverse{Int64},N} where N} where A<:Union{Base.ReinterpretArray{T,N,S,A} where S where A<:Union{SubArray{T,N,A,I,true} where I<:Union{Tuple{Vararg{Real,N} where N}, Tuple{AbstractUnitRange,Vararg{Any,N} where N}} where A<:DenseArray where N where T, DenseArray} where N where T, SubArray{T,N,A,I,true} where I<:Union{Tuple{Vararg{Real,N} where N}, Tuple{AbstractUnitRange,Vararg{Any,N} where N}} where A<:DenseArray where N where T, DenseArray} where N where T, DenseArray}, LinearAlgebra.LowerTriangular{T,S} where S<:AbstractArray{T,2}, LinearAlgebra.UnitLowerTriangular{T,S} where S<:AbstractArray{T,2}, LinearAlgebra.UnitUpperTriangular{T,S} where S<:AbstractArray{T,2}, LinearAlgebra.UpperTriangular{T,S} where S<:AbstractArray{T,2}} where #s660, LinearAlgebra.UnitLowerTriangular{T,S} where S<:AbstractArray{T,2}, LinearAlgebra.UnitUpperTriangular{T,S} where S<:AbstractArray{T,2}, LinearAlgebra.UpperTriangular{T,S} where S<:AbstractArray{T,2}} where T, A::SparseArrays.AbstractSparseMatrixCSC{TvA,Ti} where Ti<:Integer) where TvA in SparseArrays at C:\\Users\\chuan\\AppData\\Local\\Programs\\Julia\\Julia-1.4.0\\share\\julia\\stdlib\\v1.4\\SparseArrays\\src\\linalg.jl:110\n",
       "[111] *(adjA::LinearAlgebra.Adjoint{#s662,#s661} where #s661<:LinearAlgebra.AbstractTriangular where #s662, B::AbstractArray{T,1} where T) in LinearAlgebra at C:\\Users\\chuan\\AppData\\Local\\Programs\\Julia\\Julia-1.4.0\\share\\julia\\stdlib\\v1.4\\LinearAlgebra\\src\\triangular.jl:1971\n",
       "[112] *(adjA::LinearAlgebra.Adjoint{#s662,#s661} where #s661<:(Union{LinearAlgebra.Hermitian{Complex{T},S}, LinearAlgebra.Hermitian{T,S}, LinearAlgebra.Symmetric{T,S}} where S where T<:Real) where #s662, B::LinearAlgebra.AbstractTriangular) in LinearAlgebra at C:\\Users\\chuan\\AppData\\Local\\Programs\\Julia\\Julia-1.4.0\\share\\julia\\stdlib\\v1.4\\LinearAlgebra\\src\\symmetric.jl:609\n",
       "[113] *(v::LinearAlgebra.Adjoint{T,#s662} where #s662<:(AbstractArray{T,1} where T) where T, A::LinearAlgebra.AbstractTriangular) in LinearAlgebra at C:\\Users\\chuan\\AppData\\Local\\Programs\\Julia\\Julia-1.4.0\\share\\julia\\stdlib\\v1.4\\LinearAlgebra\\src\\triangular.jl:2118\n",
       "[114] *(A::LinearAlgebra.Adjoint{#s662,#s661} where #s661<:(Union{LinearAlgebra.Hermitian{Complex{T},S}, LinearAlgebra.Hermitian{T,S}, LinearAlgebra.Symmetric{T,S}} where S where T<:Real) where #s662, B::LinearAlgebra.Transpose{#s660,#s659} where #s659<:LinearAlgebra.AbstractTriangular where #s660) in LinearAlgebra at C:\\Users\\chuan\\AppData\\Local\\Programs\\Julia\\Julia-1.4.0\\share\\julia\\stdlib\\v1.4\\LinearAlgebra\\src\\symmetric.jl:1050\n",
       "[115] *(A::LinearAlgebra.Adjoint{#s662,#s661} where #s661<:(AbstractArray{T,1} where T) where #s662, B::LinearAlgebra.Transpose{#s660,#s659} where #s659<:LinearAlgebra.AbstractTriangular where #s660) in LinearAlgebra at C:\\Users\\chuan\\AppData\\Local\\Programs\\Julia\\Julia-1.4.0\\share\\julia\\stdlib\\v1.4\\LinearAlgebra\\src\\triangular.jl:2649\n",
       "[116] *(adjQ::LinearAlgebra.Adjoint{#s662,#s661} where #s661<:LinearAlgebra.AbstractQ where #s662, B::Union{DenseArray{T,2}, DenseArray{T,1}, Base.ReinterpretArray{T,2,S,A} where S where A<:Union{SubArray{T,N,A,I,true} where I<:Union{Tuple{Vararg{Real,N} where N}, Tuple{AbstractUnitRange,Vararg{Any,N} where N}} where A<:DenseArray where N where T, DenseArray}, Base.ReinterpretArray{T,1,S,A} where S where A<:Union{SubArray{T,N,A,I,true} where I<:Union{Tuple{Vararg{Real,N} where N}, Tuple{AbstractUnitRange,Vararg{Any,N} where N}} where A<:DenseArray where N where T, DenseArray}, Base.ReshapedArray{T,2,A,MI} where MI<:Tuple{Vararg{Base.MultiplicativeInverses.SignedMultiplicativeInverse{Int64},N} where N} where A<:Union{Base.ReinterpretArray{T,N,S,A} where S where A<:Union{SubArray{T,N,A,I,true} where I<:Union{Tuple{Vararg{Real,N} where N}, Tuple{AbstractUnitRange,Vararg{Any,N} where N}} where A<:DenseArray where N where T, DenseArray} where N where T, SubArray{T,N,A,I,true} where I<:Union{Tuple{Vararg{Real,N} where N}, Tuple{AbstractUnitRange,Vararg{Any,N} where N}} where A<:DenseArray where N where T, DenseArray}, Base.ReshapedArray{T,1,A,MI} where MI<:Tuple{Vararg{Base.MultiplicativeInverses.SignedMultiplicativeInverse{Int64},N} where N} where A<:Union{Base.ReinterpretArray{T,N,S,A} where S where A<:Union{SubArray{T,N,A,I,true} where I<:Union{Tuple{Vararg{Real,N} where N}, Tuple{AbstractUnitRange,Vararg{Any,N} where N}} where A<:DenseArray where N where T, DenseArray} where N where T, SubArray{T,N,A,I,true} where I<:Union{Tuple{Vararg{Real,N} where N}, Tuple{AbstractUnitRange,Vararg{Any,N} where N}} where A<:DenseArray where N where T, DenseArray}, SubArray{T,2,A,I,L} where L where I<:Tuple{Vararg{Union{Int64, AbstractRange{Int64}, Base.AbstractCartesianIndex},N} where N} where A<:Union{Base.ReinterpretArray{T,N,S,A} where S where A<:Union{SubArray{T,N,A,I,true} where I<:Union{Tuple{Vararg{Real,N} where N}, Tuple{AbstractUnitRange,Vararg{Any,N} where N}} where A<:DenseArray where N where T, DenseArray} where N where T, Base.ReshapedArray{T,N,A,MI} where MI<:Tuple{Vararg{Base.MultiplicativeInverses.SignedMultiplicativeInverse{Int64},N} where N} where A<:Union{Base.ReinterpretArray{T,N,S,A} where S where A<:Union{SubArray{T,N,A,I,true} where I<:Union{Tuple{Vararg{Real,N} where N}, Tuple{AbstractUnitRange,Vararg{Any,N} where N}} where A<:DenseArray where N where T, DenseArray} where N where T, SubArray{T,N,A,I,true} where I<:Union{Tuple{Vararg{Real,N} where N}, Tuple{AbstractUnitRange,Vararg{Any,N} where N}} where A<:DenseArray where N where T, DenseArray} where N where T, DenseArray}, SubArray{T,1,A,I,L} where L where I<:Tuple{Vararg{Union{Int64, AbstractRange{Int64}, Base.AbstractCartesianIndex},N} where N} where A<:Union{Base.ReinterpretArray{T,N,S,A} where S where A<:Union{SubArray{T,N,A,I,true} where I<:Union{Tuple{Vararg{Real,N} where N}, Tuple{AbstractUnitRange,Vararg{Any,N} where N}} where A<:DenseArray where N where T, DenseArray} where N where T, Base.ReshapedArray{T,N,A,MI} where MI<:Tuple{Vararg{Base.MultiplicativeInverses.SignedMultiplicativeInverse{Int64},N} where N} where A<:Union{Base.ReinterpretArray{T,N,S,A} where S where A<:Union{SubArray{T,N,A,I,true} where I<:Union{Tuple{Vararg{Real,N} where N}, Tuple{AbstractUnitRange,Vararg{Any,N} where N}} where A<:DenseArray where N where T, DenseArray} where N where T, SubArray{T,N,A,I,true} where I<:Union{Tuple{Vararg{Real,N} where N}, Tuple{AbstractUnitRange,Vararg{Any,N} where N}} where A<:DenseArray where N where T, DenseArray} where N where T, DenseArray}} where T) in LinearAlgebra at C:\\Users\\chuan\\AppData\\Local\\Programs\\Julia\\Julia-1.4.0\\share\\julia\\stdlib\\v1.4\\LinearAlgebra\\src\\qr.jl:627\n",
       "[117] *(adjA::LinearAlgebra.Adjoint{#s662,#s661} where #s661<:(Union{DenseArray{T,2}, DenseArray{T,1}, Base.ReinterpretArray{T,2,S,A} where S where A<:Union{SubArray{T,N,A,I,true} where I<:Union{Tuple{Vararg{Real,N} where N}, Tuple{AbstractUnitRange,Vararg{Any,N} where N}} where A<:DenseArray where N where T, DenseArray}, Base.ReinterpretArray{T,1,S,A} where S where A<:Union{SubArray{T,N,A,I,true} where I<:Union{Tuple{Vararg{Real,N} where N}, Tuple{AbstractUnitRange,Vararg{Any,N} where N}} where A<:DenseArray where N where T, DenseArray}, Base.ReshapedArray{T,2,A,MI} where MI<:Tuple{Vararg{Base.MultiplicativeInverses.SignedMultiplicativeInverse{Int64},N} where N} where A<:Union{Base.ReinterpretArray{T,N,S,A} where S where A<:Union{SubArray{T,N,A,I,true} where I<:Union{Tuple{Vararg{Real,N} where N}, Tuple{AbstractUnitRange,Vararg{Any,N} where N}} where A<:DenseArray where N where T, DenseArray} where N where T, SubArray{T,N,A,I,true} where I<:Union{Tuple{Vararg{Real,N} where N}, Tuple{AbstractUnitRange,Vararg{Any,N} where N}} where A<:DenseArray where N where T, DenseArray}, Base.ReshapedArray{T,1,A,MI} where MI<:Tuple{Vararg{Base.MultiplicativeInverses.SignedMultiplicativeInverse{Int64},N} where N} where A<:Union{Base.ReinterpretArray{T,N,S,A} where S where A<:Union{SubArray{T,N,A,I,true} where I<:Union{Tuple{Vararg{Real,N} where N}, Tuple{AbstractUnitRange,Vararg{Any,N} where N}} where A<:DenseArray where N where T, DenseArray} where N where T, SubArray{T,N,A,I,true} where I<:Union{Tuple{Vararg{Real,N} where N}, Tuple{AbstractUnitRange,Vararg{Any,N} where N}} where A<:DenseArray where N where T, DenseArray}, SubArray{T,2,A,I,L} where L where I<:Tuple{Vararg{Union{Int64, AbstractRange{Int64}, Base.AbstractCartesianIndex},N} where N} where A<:Union{Base.ReinterpretArray{T,N,S,A} where S where A<:Union{SubArray{T,N,A,I,true} where I<:Union{Tuple{Vararg{Real,N} where N}, Tuple{AbstractUnitRange,Vararg{Any,N} where N}} where A<:DenseArray where N where T, DenseArray} where N where T, Base.ReshapedArray{T,N,A,MI} where MI<:Tuple{Vararg{Base.MultiplicativeInverses.SignedMultiplicativeInverse{Int64},N} where N} where A<:Union{Base.ReinterpretArray{T,N,S,A} where S where A<:Union{SubArray{T,N,A,I,true} where I<:Union{Tuple{Vararg{Real,N} where N}, Tuple{AbstractUnitRange,Vararg{Any,N} where N}} where A<:DenseArray where N where T, DenseArray} where N where T, SubArray{T,N,A,I,true} where I<:Union{Tuple{Vararg{Real,N} where N}, Tuple{AbstractUnitRange,Vararg{Any,N} where N}} where A<:DenseArray where N where T, DenseArray} where N where T, DenseArray}, SubArray{T,1,A,I,L} where L where I<:Tuple{Vararg{Union{Int64, AbstractRange{Int64}, Base.AbstractCartesianIndex},N} where N} where A<:Union{Base.ReinterpretArray{T,N,S,A} where S where A<:Union{SubArray{T,N,A,I,true} where I<:Union{Tuple{Vararg{Real,N} where N}, Tuple{AbstractUnitRange,Vararg{Any,N} where N}} where A<:DenseArray where N where T, DenseArray} where N where T, Base.ReshapedArray{T,N,A,MI} where MI<:Tuple{Vararg{Base.MultiplicativeInverses.SignedMultiplicativeInverse{Int64},N} where N} where A<:Union{Base.ReinterpretArray{T,N,S,A} where S where A<:Union{SubArray{T,N,A,I,true} where I<:Union{Tuple{Vararg{Real,N} where N}, Tuple{AbstractUnitRange,Vararg{Any,N} where N}} where A<:DenseArray where N where T, DenseArray} where N where T, SubArray{T,N,A,I,true} where I<:Union{Tuple{Vararg{Real,N} where N}, Tuple{AbstractUnitRange,Vararg{Any,N} where N}} where A<:DenseArray where N where T, DenseArray} where N where T, DenseArray}} where T) where #s662, Q::LinearAlgebra.AbstractQ) in LinearAlgebra at C:\\Users\\chuan\\AppData\\Local\\Programs\\Julia\\Julia-1.4.0\\share\\julia\\stdlib\\v1.4\\LinearAlgebra\\src\\qr.jl:737\n",
       "[118] *(adjA::LinearAlgebra.Adjoint{#s662,#s661} where #s661<:LinearAlgebra.LQPackedQ where #s662, B::Union{DenseArray{T,2}, DenseArray{T,1}, Base.ReinterpretArray{T,2,S,A} where S where A<:Union{SubArray{T,N,A,I,true} where I<:Union{Tuple{Vararg{Real,N} where N}, Tuple{AbstractUnitRange,Vararg{Any,N} where N}} where A<:DenseArray where N where T, DenseArray}, Base.ReinterpretArray{T,1,S,A} where S where A<:Union{SubArray{T,N,A,I,true} where I<:Union{Tuple{Vararg{Real,N} where N}, Tuple{AbstractUnitRange,Vararg{Any,N} where N}} where A<:DenseArray where N where T, DenseArray}, Base.ReshapedArray{T,2,A,MI} where MI<:Tuple{Vararg{Base.MultiplicativeInverses.SignedMultiplicativeInverse{Int64},N} where N} where A<:Union{Base.ReinterpretArray{T,N,S,A} where S where A<:Union{SubArray{T,N,A,I,true} where I<:Union{Tuple{Vararg{Real,N} where N}, Tuple{AbstractUnitRange,Vararg{Any,N} where N}} where A<:DenseArray where N where T, DenseArray} where N where T, SubArray{T,N,A,I,true} where I<:Union{Tuple{Vararg{Real,N} where N}, Tuple{AbstractUnitRange,Vararg{Any,N} where N}} where A<:DenseArray where N where T, DenseArray}, Base.ReshapedArray{T,1,A,MI} where MI<:Tuple{Vararg{Base.MultiplicativeInverses.SignedMultiplicativeInverse{Int64},N} where N} where A<:Union{Base.ReinterpretArray{T,N,S,A} where S where A<:Union{SubArray{T,N,A,I,true} where I<:Union{Tuple{Vararg{Real,N} where N}, Tuple{AbstractUnitRange,Vararg{Any,N} where N}} where A<:DenseArray where N where T, DenseArray} where N where T, SubArray{T,N,A,I,true} where I<:Union{Tuple{Vararg{Real,N} where N}, Tuple{AbstractUnitRange,Vararg{Any,N} where N}} where A<:DenseArray where N where T, DenseArray}, SubArray{T,2,A,I,L} where L where I<:Tuple{Vararg{Union{Int64, AbstractRange{Int64}, Base.AbstractCartesianIndex},N} where N} where A<:Union{Base.ReinterpretArray{T,N,S,A} where S where A<:Union{SubArray{T,N,A,I,true} where I<:Union{Tuple{Vararg{Real,N} where N}, Tuple{AbstractUnitRange,Vararg{Any,N} where N}} where A<:DenseArray where N where T, DenseArray} where N where T, Base.ReshapedArray{T,N,A,MI} where MI<:Tuple{Vararg{Base.MultiplicativeInverses.SignedMultiplicativeInverse{Int64},N} where N} where A<:Union{Base.ReinterpretArray{T,N,S,A} where S where A<:Union{SubArray{T,N,A,I,true} where I<:Union{Tuple{Vararg{Real,N} where N}, Tuple{AbstractUnitRange,Vararg{Any,N} where N}} where A<:DenseArray where N where T, DenseArray} where N where T, SubArray{T,N,A,I,true} where I<:Union{Tuple{Vararg{Real,N} where N}, Tuple{AbstractUnitRange,Vararg{Any,N} where N}} where A<:DenseArray where N where T, DenseArray} where N where T, DenseArray}, SubArray{T,1,A,I,L} where L where I<:Tuple{Vararg{Union{Int64, AbstractRange{Int64}, Base.AbstractCartesianIndex},N} where N} where A<:Union{Base.ReinterpretArray{T,N,S,A} where S where A<:Union{SubArray{T,N,A,I,true} where I<:Union{Tuple{Vararg{Real,N} where N}, Tuple{AbstractUnitRange,Vararg{Any,N} where N}} where A<:DenseArray where N where T, DenseArray} where N where T, Base.ReshapedArray{T,N,A,MI} where MI<:Tuple{Vararg{Base.MultiplicativeInverses.SignedMultiplicativeInverse{Int64},N} where N} where A<:Union{Base.ReinterpretArray{T,N,S,A} where S where A<:Union{SubArray{T,N,A,I,true} where I<:Union{Tuple{Vararg{Real,N} where N}, Tuple{AbstractUnitRange,Vararg{Any,N} where N}} where A<:DenseArray where N where T, DenseArray} where N where T, SubArray{T,N,A,I,true} where I<:Union{Tuple{Vararg{Real,N} where N}, Tuple{AbstractUnitRange,Vararg{Any,N} where N}} where A<:DenseArray where N where T, DenseArray} where N where T, DenseArray}} where T) in LinearAlgebra at C:\\Users\\chuan\\AppData\\Local\\Programs\\Julia\\Julia-1.4.0\\share\\julia\\stdlib\\v1.4\\LinearAlgebra\\src\\lq.jl:199\n",
       "[119] *(adjA::LinearAlgebra.Adjoint{#s662,#s661} where #s661<:(Union{DenseArray{T,2}, Base.ReinterpretArray{T,2,S,A} where S where A<:Union{SubArray{T,N,A,I,true} where I<:Union{Tuple{Vararg{Real,N} where N}, Tuple{AbstractUnitRange,Vararg{Any,N} where N}} where A<:DenseArray where N where T, DenseArray}, Base.ReshapedArray{T,2,A,MI} where MI<:Tuple{Vararg{Base.MultiplicativeInverses.SignedMultiplicativeInverse{Int64},N} where N} where A<:Union{Base.ReinterpretArray{T,N,S,A} where S where A<:Union{SubArray{T,N,A,I,true} where I<:Union{Tuple{Vararg{Real,N} where N}, Tuple{AbstractUnitRange,Vararg{Any,N} where N}} where A<:DenseArray where N where T, DenseArray} where N where T, SubArray{T,N,A,I,true} where I<:Union{Tuple{Vararg{Real,N} where N}, Tuple{AbstractUnitRange,Vararg{Any,N} where N}} where A<:DenseArray where N where T, DenseArray}, SubArray{T,2,A,I,L} where L where I<:Tuple{Vararg{Union{Int64, AbstractRange{Int64}, Base.AbstractCartesianIndex},N} where N} where A<:Union{Base.ReinterpretArray{T,N,S,A} where S where A<:Union{SubArray{T,N,A,I,true} where I<:Union{Tuple{Vararg{Real,N} where N}, Tuple{AbstractUnitRange,Vararg{Any,N} where N}} where A<:DenseArray where N where T, DenseArray} where N where T, Base.ReshapedArray{T,N,A,MI} where MI<:Tuple{Vararg{Base.MultiplicativeInverses.SignedMultiplicativeInverse{Int64},N} where N} where A<:Union{Base.ReinterpretArray{T,N,S,A} where S where A<:Union{SubArray{T,N,A,I,true} where I<:Union{Tuple{Vararg{Real,N} where N}, Tuple{AbstractUnitRange,Vararg{Any,N} where N}} where A<:DenseArray where N where T, DenseArray} where N where T, SubArray{T,N,A,I,true} where I<:Union{Tuple{Vararg{Real,N} where N}, Tuple{AbstractUnitRange,Vararg{Any,N} where N}} where A<:DenseArray where N where T, DenseArray} where N where T, DenseArray}} where T) where #s662, Q::LinearAlgebra.LQPackedQ) in LinearAlgebra at C:\\Users\\chuan\\AppData\\Local\\Programs\\Julia\\Julia-1.4.0\\share\\julia\\stdlib\\v1.4\\LinearAlgebra\\src\\lq.jl:287\n",
       "[120] *(A::LinearAlgebra.Adjoint{#s662,#s661} where #s661<:(Union{LinearAlgebra.Hermitian{Complex{T},S}, LinearAlgebra.Hermitian{T,S}, LinearAlgebra.Symmetric{T,S}} where S where T<:Real) where #s662, B::LinearAlgebra.Transpose{#s660,#s659} where #s659<:(Union{LinearAlgebra.Hermitian{T,S}, LinearAlgebra.Symmetric{Complex{T},S}, LinearAlgebra.Symmetric{T,S}} where S where T<:Real) where #s660) in LinearAlgebra at C:\\Users\\chuan\\AppData\\Local\\Programs\\Julia\\Julia-1.4.0\\share\\julia\\stdlib\\v1.4\\LinearAlgebra\\src\\symmetric.jl:1023\n",
       "[121] *(A::LinearAlgebra.Adjoint{#s662,#s661} where #s661<:(Union{LinearAlgebra.Hermitian{Complex{T},S}, LinearAlgebra.Hermitian{T,S}, LinearAlgebra.Symmetric{T,S}} where S where T<:Real) where #s662, B::LinearAlgebra.Adjoint{#s660,#s659} where #s659<:(AbstractArray{T,2} where T) where #s660) in LinearAlgebra at C:\\Users\\chuan\\AppData\\Local\\Programs\\Julia\\Julia-1.4.0\\share\\julia\\stdlib\\v1.4\\LinearAlgebra\\src\\symmetric.jl:1036\n",
       "[122] *(A::LinearAlgebra.Adjoint{#s662,#s661} where #s661<:(Union{LinearAlgebra.Hermitian{Complex{T},S}, LinearAlgebra.Hermitian{T,S}, LinearAlgebra.Symmetric{T,S}} where S where T<:Real) where #s662, B::LinearAlgebra.Transpose{#s660,#s659} where #s659<:(AbstractArray{T,1} where T) where #s660) in LinearAlgebra at C:\\Users\\chuan\\AppData\\Local\\Programs\\Julia\\Julia-1.4.0\\share\\julia\\stdlib\\v1.4\\LinearAlgebra\\src\\symmetric.jl:1037\n",
       "[123] *(A::LinearAlgebra.Adjoint{#s662,#s661} where #s661<:(Union{LinearAlgebra.Hermitian{Complex{T},S}, LinearAlgebra.Hermitian{T,S}, LinearAlgebra.Symmetric{T,S}} where S where T<:Real) where #s662, B::LinearAlgebra.Transpose{#s660,#s659} where #s659<:(AbstractArray{T,2} where T) where #s660) in LinearAlgebra at C:\\Users\\chuan\\AppData\\Local\\Programs\\Julia\\Julia-1.4.0\\share\\julia\\stdlib\\v1.4\\LinearAlgebra\\src\\symmetric.jl:1038\n",
       "[124] *(adjA::LinearAlgebra.Adjoint{#s662,#s661} where #s661<:(Union{LinearAlgebra.Hermitian{Complex{T},S}, LinearAlgebra.Hermitian{T,S}, LinearAlgebra.Symmetric{T,S}} where S where T<:Real) where #s662, B::LinearAlgebra.Diagonal) in LinearAlgebra at C:\\Users\\chuan\\AppData\\Local\\Programs\\Julia\\Julia-1.4.0\\share\\julia\\stdlib\\v1.4\\LinearAlgebra\\src\\diagonal.jl:369\n",
       "[125] *(A::LinearAlgebra.Adjoint{#s662,#s661} where #s661<:(Union{LinearAlgebra.Hermitian{Complex{T},S}, LinearAlgebra.Hermitian{T,S}, LinearAlgebra.Symmetric{T,S}} where S where T<:Real) where #s662, B::LinearAlgebra.Adjoint{#s660,#s659} where #s659<:LinearAlgebra.AbstractRotation where #s660) in LinearAlgebra at C:\\Users\\chuan\\AppData\\Local\\Programs\\Julia\\Julia-1.4.0\\share\\julia\\stdlib\\v1.4\\LinearAlgebra\\src\\givens.jl:396\n",
       "[126] *(adjA::LinearAlgebra.Adjoint{#s662,#s661} where #s661<:(Union{LinearAlgebra.Hermitian{Complex{T},S}, LinearAlgebra.Hermitian{T,S}, LinearAlgebra.Symmetric{T,S}} where S where T<:Real) where #s662, B::AbstractArray{T,1} where T) in LinearAlgebra at C:\\Users\\chuan\\AppData\\Local\\Programs\\Julia\\Julia-1.4.0\\share\\julia\\stdlib\\v1.4\\LinearAlgebra\\src\\symmetric.jl:588\n",
       "[127] *(A::LinearAlgebra.Adjoint{#s662,#s661} where #s661<:(AbstractArray{T,1} where T) where #s662, B::LinearAlgebra.Transpose{#s660,#s659} where #s659<:(Union{LinearAlgebra.Hermitian{T,S}, LinearAlgebra.Symmetric{Complex{T},S}, LinearAlgebra.Symmetric{T,S}} where S where T<:Real) where #s660) in LinearAlgebra at C:\\Users\\chuan\\AppData\\Local\\Programs\\Julia\\Julia-1.4.0\\share\\julia\\stdlib\\v1.4\\LinearAlgebra\\src\\symmetric.jl:1028\n",
       "[128] *(D::LinearAlgebra.Adjoint{#s662,#s661} where #s661<:LinearAlgebra.Diagonal where #s662, B::LinearAlgebra.Diagonal) in LinearAlgebra at C:\\Users\\chuan\\AppData\\Local\\Programs\\Julia\\Julia-1.4.0\\share\\julia\\stdlib\\v1.4\\LinearAlgebra\\src\\diagonal.jl:218\n",
       "[129] *(x::LinearAlgebra.Adjoint{#s662,#s661} where #s661<:(AbstractArray{T,1} where T) where #s662, D::LinearAlgebra.Diagonal) in LinearAlgebra at C:\\Users\\chuan\\AppData\\Local\\Programs\\Julia\\Julia-1.4.0\\share\\julia\\stdlib\\v1.4\\LinearAlgebra\\src\\diagonal.jl:645\n",
       "[130] *(x::LinearAlgebra.Adjoint{#s662,#s661} where #s661<:(AbstractArray{T,1} where T) where #s662, D::LinearAlgebra.Diagonal, y::AbstractArray{T,1} where T) in LinearAlgebra at C:\\Users\\chuan\\AppData\\Local\\Programs\\Julia\\Julia-1.4.0\\share\\julia\\stdlib\\v1.4\\LinearAlgebra\\src\\diagonal.jl:647\n",
       "[131] *(A::LinearAlgebra.Adjoint{#s662,#s661} where #s661<:(AbstractArray{T,1} where T) where #s662, B::LinearAlgebra.Adjoint{#s660,#s659} where #s659<:LinearAlgebra.AbstractRotation where #s660) in LinearAlgebra at C:\\Users\\chuan\\AppData\\Local\\Programs\\Julia\\Julia-1.4.0\\share\\julia\\stdlib\\v1.4\\LinearAlgebra\\src\\givens.jl:389\n",
       "[132] *(A::LinearAlgebra.Adjoint{#s662,#s661} where #s661<:SparseArrays.AbstractSparseMatrixCSC where #s662, B::SparseArrays.AbstractSparseMatrixCSC) in SparseArrays at C:\\Users\\chuan\\AppData\\Local\\Programs\\Julia\\Julia-1.4.0\\share\\julia\\stdlib\\v1.4\\SparseArrays\\src\\linalg.jl:167\n",
       "[133] *(adjA::LinearAlgebra.Adjoint{#s662,#s661} where #s661<:SparseArrays.AbstractSparseMatrixCSC where #s662, x::SparseArrays.AbstractSparseArray{Tv,Ti,1} where Ti where Tv) in SparseArrays at C:\\Users\\chuan\\AppData\\Local\\Programs\\Julia\\Julia-1.4.0\\share\\julia\\stdlib\\v1.4\\SparseArrays\\src\\sparsevector.jl:1731\n",
       "[134] *(adjA::LinearAlgebra.Adjoint{#s662,#s661} where #s661<:SparseArrays.AbstractSparseMatrixCSC where #s662, x::Union{DenseArray{Tx,1}, Base.ReinterpretArray{Tx,1,S,A} where S where A<:Union{SubArray{T,N,A,I,true} where I<:Union{Tuple{Vararg{Real,N} where N}, Tuple{AbstractUnitRange,Vararg{Any,N} where N}} where A<:DenseArray where N where T, DenseArray}, Base.ReshapedArray{Tx,1,A,MI} where MI<:Tuple{Vararg{Base.MultiplicativeInverses.SignedMultiplicativeInverse{Int64},N} where N} where A<:Union{Base.ReinterpretArray{T,N,S,A} where S where A<:Union{SubArray{T,N,A,I,true} where I<:Union{Tuple{Vararg{Real,N} where N}, Tuple{AbstractUnitRange,Vararg{Any,N} where N}} where A<:DenseArray where N where T, DenseArray} where N where T, SubArray{T,N,A,I,true} where I<:Union{Tuple{Vararg{Real,N} where N}, Tuple{AbstractUnitRange,Vararg{Any,N} where N}} where A<:DenseArray where N where T, DenseArray}, SubArray{Tx,1,A,I,L} where L where I<:Tuple{Vararg{Union{Int64, AbstractRange{Int64}, Base.AbstractCartesianIndex},N} where N} where A<:Union{Base.ReinterpretArray{T,N,S,A} where S where A<:Union{SubArray{T,N,A,I,true} where I<:Union{Tuple{Vararg{Real,N} where N}, Tuple{AbstractUnitRange,Vararg{Any,N} where N}} where A<:DenseArray where N where T, DenseArray} where N where T, Base.ReshapedArray{T,N,A,MI} where MI<:Tuple{Vararg{Base.MultiplicativeInverses.SignedMultiplicativeInverse{Int64},N} where N} where A<:Union{Base.ReinterpretArray{T,N,S,A} where S where A<:Union{SubArray{T,N,A,I,true} where I<:Union{Tuple{Vararg{Real,N} where N}, Tuple{AbstractUnitRange,Vararg{Any,N} where N}} where A<:DenseArray where N where T, DenseArray} where N where T, SubArray{T,N,A,I,true} where I<:Union{Tuple{Vararg{Real,N} where N}, Tuple{AbstractUnitRange,Vararg{Any,N} where N}} where A<:DenseArray where N where T, DenseArray} where N where T, DenseArray}}) where Tx in SparseArrays at C:\\Users\\chuan\\AppData\\Local\\Programs\\Julia\\Julia-1.4.0\\share\\julia\\stdlib\\v1.4\\SparseArrays\\src\\linalg.jl:55\n",
       "[135] *(adjA::LinearAlgebra.Adjoint{#s662,#s661} where #s661<:SuiteSparse.CHOLMOD.Sparse where #s662, B::SuiteSparse.CHOLMOD.Sparse) in SuiteSparse.CHOLMOD at C:\\Users\\chuan\\AppData\\Local\\Programs\\Julia\\Julia-1.4.0\\share\\julia\\stdlib\\v1.4\\SuiteSparse\\src\\cholmod.jl:1259\n",
       "[136] *(adjA::LinearAlgebra.Adjoint{#s662,#s661} where #s661<:SuiteSparse.CHOLMOD.Sparse where #s662, B::SuiteSparse.CHOLMOD.Dense) in SuiteSparse.CHOLMOD at C:\\Users\\chuan\\AppData\\Local\\Programs\\Julia\\Julia-1.4.0\\share\\julia\\stdlib\\v1.4\\SuiteSparse\\src\\cholmod.jl:1268\n",
       "[137] *(adjA::LinearAlgebra.Adjoint{#s662,#s661} where #s661<:SuiteSparse.CHOLMOD.Sparse where #s662, B::Union{Array{T,2}, Array{T,1}} where T) in SuiteSparse.CHOLMOD at C:\\Users\\chuan\\AppData\\Local\\Programs\\Julia\\Julia-1.4.0\\share\\julia\\stdlib\\v1.4\\SuiteSparse\\src\\cholmod.jl:1270\n",
       "[138] *(u::LinearAlgebra.Adjoint{T,#s662} where #s662<:(AbstractArray{T,1} where T) where T, v::AbstractArray{T,1} where T) in LinearAlgebra at C:\\Users\\chuan\\AppData\\Local\\Programs\\Julia\\Julia-1.4.0\\share\\julia\\stdlib\\v1.4\\LinearAlgebra\\src\\adjtrans.jl:245\n",
       "[139] *(u::LinearAlgebra.Transpose{T,#s662} where #s662<:(AbstractArray{T,1} where T), v::AbstractArray{T,1}) where T<:Real in LinearAlgebra at C:\\Users\\chuan\\AppData\\Local\\Programs\\Julia\\Julia-1.4.0\\share\\julia\\stdlib\\v1.4\\LinearAlgebra\\src\\adjtrans.jl:246\n",
       "[140] *(u::LinearAlgebra.Transpose{T,#s662} where #s662<:(AbstractArray{T,1} where T) where T, v::LinearAlgebra.Transpose{#s662,#s661} where #s661<:(LinearAlgebra.Adjoint{T,#s662} where #s662<:(AbstractArray{T,1} where T) where T) where #s662) in LinearAlgebra at C:\\Users\\chuan\\AppData\\Local\\Programs\\Julia\\Julia-1.4.0\\share\\julia\\stdlib\\v1.4\\LinearAlgebra\\src\\adjtrans.jl:265\n",
       "[141] *(A::LinearAlgebra.Transpose{#s662,#s661} where #s661<:LinearAlgebra.AbstractTriangular where #s662, B::LinearAlgebra.Transpose{#s660,#s659} where #s659<:LinearAlgebra.AbstractTriangular where #s660) in LinearAlgebra at C:\\Users\\chuan\\AppData\\Local\\Programs\\Julia\\Julia-1.4.0\\share\\julia\\stdlib\\v1.4\\LinearAlgebra\\src\\triangular.jl:2136\n",
       "[142] *(A::LinearAlgebra.Transpose{#s662,#s661} where #s661<:(Union{LinearAlgebra.Hermitian{T,S}, LinearAlgebra.Symmetric{Complex{T},S}, LinearAlgebra.Symmetric{T,S}} where S where T<:Real) where #s662, B::LinearAlgebra.Transpose{#s660,#s659} where #s659<:LinearAlgebra.AbstractTriangular where #s660) in LinearAlgebra at C:\\Users\\chuan\\AppData\\Local\\Programs\\Julia\\Julia-1.4.0\\share\\julia\\stdlib\\v1.4\\LinearAlgebra\\src\\symmetric.jl:1052\n",
       "[143] *(transA::LinearAlgebra.Transpose{#s662,#s661} where #s661<:SparseArrays.AbstractSparseMatrixCSC where #s662, B::Union{DenseArray{T,2}, Base.ReinterpretArray{T,2,S,A} where S where A<:Union{SubArray{T,N,A,I,true} where I<:Union{Tuple{Vararg{Real,N} where N}, Tuple{AbstractUnitRange,Vararg{Any,N} where N}} where A<:DenseArray where N where T, DenseArray}, Base.ReshapedArray{T,2,A,MI} where MI<:Tuple{Vararg{Base.MultiplicativeInverses.SignedMultiplicativeInverse{Int64},N} where N} where A<:Union{Base.ReinterpretArray{T,N,S,A} where S where A<:Union{SubArray{T,N,A,I,true} where I<:Union{Tuple{Vararg{Real,N} where N}, Tuple{AbstractUnitRange,Vararg{Any,N} where N}} where A<:DenseArray where N where T, DenseArray} where N where T, SubArray{T,N,A,I,true} where I<:Union{Tuple{Vararg{Real,N} where N}, Tuple{AbstractUnitRange,Vararg{Any,N} where N}} where A<:DenseArray where N where T, DenseArray}, SubArray{T,2,A,I,L} where L where I<:Tuple{Vararg{Union{Int64, AbstractRange{Int64}, Base.AbstractCartesianIndex},N} where N} where A<:Union{Base.ReinterpretArray{T,N,S,A} where S where A<:Union{SubArray{T,N,A,I,true} where I<:Union{Tuple{Vararg{Real,N} where N}, Tuple{AbstractUnitRange,Vararg{Any,N} where N}} where A<:DenseArray where N where T, DenseArray} where N where T, Base.ReshapedArray{T,N,A,MI} where MI<:Tuple{Vararg{Base.MultiplicativeInverses.SignedMultiplicativeInverse{Int64},N} where N} where A<:Union{Base.ReinterpretArray{T,N,S,A} where S where A<:Union{SubArray{T,N,A,I,true} where I<:Union{Tuple{Vararg{Real,N} where N}, Tuple{AbstractUnitRange,Vararg{Any,N} where N}} where A<:DenseArray where N where T, DenseArray} where N where T, SubArray{T,N,A,I,true} where I<:Union{Tuple{Vararg{Real,N} where N}, Tuple{AbstractUnitRange,Vararg{Any,N} where N}} where A<:DenseArray where N where T, DenseArray} where N where T, DenseArray}, LinearAlgebra.Adjoint{#s662,#s661} where #s661<:Union{DenseArray{T,2}, Base.ReinterpretArray{T,2,S,A} where S where A<:Union{SubArray{T,N,A,I,true} where I<:Union{Tuple{Vararg{Real,N} where N}, Tuple{AbstractUnitRange,Vararg{Any,N} where N}} where A<:DenseArray where N where T, DenseArray}, Base.ReshapedArray{T,2,A,MI} where MI<:Tuple{Vararg{Base.MultiplicativeInverses.SignedMultiplicativeInverse{Int64},N} where N} where A<:Union{Base.ReinterpretArray{T,N,S,A} where S where A<:Union{SubArray{T,N,A,I,true} where I<:Union{Tuple{Vararg{Real,N} where N}, Tuple{AbstractUnitRange,Vararg{Any,N} where N}} where A<:DenseArray where N where T, DenseArray} where N where T, SubArray{T,N,A,I,true} where I<:Union{Tuple{Vararg{Real,N} where N}, Tuple{AbstractUnitRange,Vararg{Any,N} where N}} where A<:DenseArray where N where T, DenseArray}, SubArray{T,2,A,I,L} where L where I<:Tuple{Vararg{Union{Int64, AbstractRange{Int64}, Base.AbstractCartesianIndex},N} where N} where A<:Union{Base.ReinterpretArray{T,N,S,A} where S where A<:Union{SubArray{T,N,A,I,true} where I<:Union{Tuple{Vararg{Real,N} where N}, Tuple{AbstractUnitRange,Vararg{Any,N} where N}} where A<:DenseArray where N where T, DenseArray} where N where T, Base.ReshapedArray{T,N,A,MI} where MI<:Tuple{Vararg{Base.MultiplicativeInverses.SignedMultiplicativeInverse{Int64},N} where N} where A<:Union{Base.ReinterpretArray{T,N,S,A} where S where A<:Union{SubArray{T,N,A,I,true} where I<:Union{Tuple{Vararg{Real,N} where N}, Tuple{AbstractUnitRange,Vararg{Any,N} where N}} where A<:DenseArray where N where T, DenseArray} where N where T, SubArray{T,N,A,I,true} where I<:Union{Tuple{Vararg{Real,N} where N}, Tuple{AbstractUnitRange,Vararg{Any,N} where N}} where A<:DenseArray where N where T, DenseArray} where N where T, DenseArray}, LinearAlgebra.LowerTriangular{T,S} where S<:AbstractArray{T,2}, LinearAlgebra.UnitLowerTriangular{T,S} where S<:AbstractArray{T,2}, LinearAlgebra.UnitUpperTriangular{T,S} where S<:AbstractArray{T,2}, LinearAlgebra.UpperTriangular{T,S} where S<:AbstractArray{T,2}} where #s662, LinearAlgebra.LowerTriangular{T,S} where S<:AbstractArray{T,2}, LinearAlgebra.Transpose{#s660,#s659} where #s659<:Union{DenseArray{T,2}, Base.ReinterpretArray{T,2,S,A} where S where A<:Union{SubArray{T,N,A,I,true} where I<:Union{Tuple{Vararg{Real,N} where N}, Tuple{AbstractUnitRange,Vararg{Any,N} where N}} where A<:DenseArray where N where T, DenseArray}, Base.ReshapedArray{T,2,A,MI} where MI<:Tuple{Vararg{Base.MultiplicativeInverses.SignedMultiplicativeInverse{Int64},N} where N} where A<:Union{Base.ReinterpretArray{T,N,S,A} where S where A<:Union{SubArray{T,N,A,I,true} where I<:Union{Tuple{Vararg{Real,N} where N}, Tuple{AbstractUnitRange,Vararg{Any,N} where N}} where A<:DenseArray where N where T, DenseArray} where N where T, SubArray{T,N,A,I,true} where I<:Union{Tuple{Vararg{Real,N} where N}, Tuple{AbstractUnitRange,Vararg{Any,N} where N}} where A<:DenseArray where N where T, DenseArray}, SubArray{T,2,A,I,L} where L where I<:Tuple{Vararg{Union{Int64, AbstractRange{Int64}, Base.AbstractCartesianIndex},N} where N} where A<:Union{Base.ReinterpretArray{T,N,S,A} where S where A<:Union{SubArray{T,N,A,I,true} where I<:Union{Tuple{Vararg{Real,N} where N}, Tuple{AbstractUnitRange,Vararg{Any,N} where N}} where A<:DenseArray where N where T, DenseArray} where N where T, Base.ReshapedArray{T,N,A,MI} where MI<:Tuple{Vararg{Base.MultiplicativeInverses.SignedMultiplicativeInverse{Int64},N} where N} where A<:Union{Base.ReinterpretArray{T,N,S,A} where S where A<:Union{SubArray{T,N,A,I,true} where I<:Union{Tuple{Vararg{Real,N} where N}, Tuple{AbstractUnitRange,Vararg{Any,N} where N}} where A<:DenseArray where N where T, DenseArray} where N where T, SubArray{T,N,A,I,true} where I<:Union{Tuple{Vararg{Real,N} where N}, Tuple{AbstractUnitRange,Vararg{Any,N} where N}} where A<:DenseArray where N where T, DenseArray} where N where T, DenseArray}, LinearAlgebra.LowerTriangular{T,S} where S<:AbstractArray{T,2}, LinearAlgebra.UnitLowerTriangular{T,S} where S<:AbstractArray{T,2}, LinearAlgebra.UnitUpperTriangular{T,S} where S<:AbstractArray{T,2}, LinearAlgebra.UpperTriangular{T,S} where S<:AbstractArray{T,2}} where #s660, LinearAlgebra.UnitLowerTriangular{T,S} where S<:AbstractArray{T,2}, LinearAlgebra.UnitUpperTriangular{T,S} where S<:AbstractArray{T,2}, LinearAlgebra.UpperTriangular{T,S} where S<:AbstractArray{T,2}} where T) in SparseArrays at C:\\Users\\chuan\\AppData\\Local\\Programs\\Julia\\Julia-1.4.0\\share\\julia\\stdlib\\v1.4\\SparseArrays\\src\\linalg.jl:83\n",
       "[144] *(v::LinearAlgebra.Transpose{T,#s662} where #s662<:(AbstractArray{T,1} where T) where T, A::LinearAlgebra.Transpose{#s662,#s661} where #s661<:LinearAlgebra.AbstractTriangular where #s662) in LinearAlgebra at C:\\Users\\chuan\\AppData\\Local\\Programs\\Julia\\Julia-1.4.0\\share\\julia\\stdlib\\v1.4\\LinearAlgebra\\src\\triangular.jl:2121\n",
       "[145] *(A::LinearAlgebra.Transpose{#s662,#s661} where #s661<:LinearAlgebra.AbstractTriangular where #s662, B::LinearAlgebra.Transpose{#s660,#s659} where #s659<:(Union{LinearAlgebra.Hermitian{T,S}, LinearAlgebra.Symmetric{Complex{T},S}, LinearAlgebra.Symmetric{T,S}} where S where T<:Real) where #s660) in LinearAlgebra at C:\\Users\\chuan\\AppData\\Local\\Programs\\Julia\\Julia-1.4.0\\share\\julia\\stdlib\\v1.4\\LinearAlgebra\\src\\symmetric.jl:1048\n",
       "[146] *(A::LinearAlgebra.Transpose{#s662,#s661} where #s661<:LinearAlgebra.AbstractTriangular where #s662, B::LinearAlgebra.Transpose{#s660,#s659} where #s659<:(AbstractArray{T,1} where T) where #s660) in LinearAlgebra at C:\\Users\\chuan\\AppData\\Local\\Programs\\Julia\\Julia-1.4.0\\share\\julia\\stdlib\\v1.4\\LinearAlgebra\\src\\triangular.jl:2645\n",
       "[147] *(transA::LinearAlgebra.Transpose{#s662,#s661} where #s661<:(Union{LinearAlgebra.Hermitian{T,S}, LinearAlgebra.Symmetric{T,S}} where S where T<:Real) where #s662, transB::LinearAlgebra.Transpose{#s660,#s659} where #s659<:(Union{LinearAlgebra.Hermitian{T,S}, LinearAlgebra.Symmetric{T,S}} where S where T<:Real) where #s660) in LinearAlgebra at C:\\Users\\chuan\\AppData\\Local\\Programs\\Julia\\Julia-1.4.0\\share\\julia\\stdlib\\v1.4\\LinearAlgebra\\src\\symmetric.jl:593\n",
       "[148] *(transA::LinearAlgebra.Transpose{#s662,#s661} where #s661<:(Union{LinearAlgebra.Hermitian{T,S}, LinearAlgebra.Symmetric{T,S}} where S where T<:Real) where #s662, transB::LinearAlgebra.Transpose{#s660,#s659} where #s659<:(Union{LinearAlgebra.Hermitian{T,S}, LinearAlgebra.Symmetric{Complex{T},S}, LinearAlgebra.Symmetric{T,S}} where S where T<:Real) where #s660) in LinearAlgebra at C:\\Users\\chuan\\AppData\\Local\\Programs\\Julia\\Julia-1.4.0\\share\\julia\\stdlib\\v1.4\\LinearAlgebra\\src\\symmetric.jl:594\n",
       "[149] *(transA::LinearAlgebra.Transpose{#s662,#s661} where #s661<:(Union{LinearAlgebra.Hermitian{T,S}, LinearAlgebra.Symmetric{Complex{T},S}, LinearAlgebra.Symmetric{T,S}} where S where T<:Real) where #s662, transB::LinearAlgebra.Transpose{#s660,#s659} where #s659<:(Union{LinearAlgebra.Hermitian{T,S}, LinearAlgebra.Symmetric{T,S}} where S where T<:Real) where #s660) in LinearAlgebra at C:\\Users\\chuan\\AppData\\Local\\Programs\\Julia\\Julia-1.4.0\\share\\julia\\stdlib\\v1.4\\LinearAlgebra\\src\\symmetric.jl:596\n",
       "[150] *(transA::LinearAlgebra.Transpose{#s662,#s661} where #s661<:(Union{LinearAlgebra.Hermitian{T,S}, LinearAlgebra.Symmetric{Complex{T},S}, LinearAlgebra.Symmetric{T,S}} where S where T<:Real) where #s662, transB::LinearAlgebra.Transpose{#s660,#s659} where #s659<:(Union{LinearAlgebra.Hermitian{T,S}, LinearAlgebra.Symmetric{Complex{T},S}, LinearAlgebra.Symmetric{T,S}} where S where T<:Real) where #s660) in LinearAlgebra at C:\\Users\\chuan\\AppData\\Local\\Programs\\Julia\\Julia-1.4.0\\share\\julia\\stdlib\\v1.4\\LinearAlgebra\\src\\symmetric.jl:595\n",
       "[151] *(transA::LinearAlgebra.Transpose{#s662,#s661} where #s661<:(Union{LinearAlgebra.Hermitian{T,S}, LinearAlgebra.Symmetric{Complex{T},S}, LinearAlgebra.Symmetric{T,S}} where S where T<:Real) where #s662, transB::LinearAlgebra.Transpose{#s660,#s659} where #s659<:(Union{LinearAlgebra.Hermitian{Complex{T},S}, LinearAlgebra.Hermitian{T,S}, LinearAlgebra.Symmetric{T,S}} where S where T<:Real) where #s660) in LinearAlgebra at C:\\Users\\chuan\\AppData\\Local\\Programs\\Julia\\Julia-1.4.0\\share\\julia\\stdlib\\v1.4\\LinearAlgebra\\src\\symmetric.jl:597\n",
       "[152] *(transA::LinearAlgebra.Transpose{#s662,#s661} where #s661<:(Union{LinearAlgebra.Hermitian{Complex{T},S}, LinearAlgebra.Hermitian{T,S}, LinearAlgebra.Symmetric{T,S}} where S where T<:Real) where #s662, transB::LinearAlgebra.Transpose{#s660,#s659} where #s659<:(Union{LinearAlgebra.Hermitian{T,S}, LinearAlgebra.Symmetric{Complex{T},S}, LinearAlgebra.Symmetric{T,S}} where S where T<:Real) where #s660) in LinearAlgebra at C:\\Users\\chuan\\AppData\\Local\\Programs\\Julia\\Julia-1.4.0\\share\\julia\\stdlib\\v1.4\\LinearAlgebra\\src\\symmetric.jl:598\n",
       "[153] *(transD::LinearAlgebra.Transpose{#s662,#s661} where #s661<:LinearAlgebra.Diagonal where #s662, transA::LinearAlgebra.Transpose{#s660,#s659} where #s659<:(Union{LinearAlgebra.Hermitian{T,S}, LinearAlgebra.Symmetric{Complex{T},S}, LinearAlgebra.Symmetric{T,S}} where S where T<:Real) where #s660) in LinearAlgebra at C:\\Users\\chuan\\AppData\\Local\\Programs\\Julia\\Julia-1.4.0\\share\\julia\\stdlib\\v1.4\\LinearAlgebra\\src\\diagonal.jl:371\n",
       "[154] *(A::LinearAlgebra.Transpose{#s662,#s661} where #s661<:(AbstractArray{T,1} where T) where #s662, B::LinearAlgebra.Transpose{#s660,#s659} where #s659<:(Union{LinearAlgebra.Hermitian{T,S}, LinearAlgebra.Symmetric{Complex{T},S}, LinearAlgebra.Symmetric{T,S}} where S where T<:Real) where #s660) in LinearAlgebra at C:\\Users\\chuan\\AppData\\Local\\Programs\\Julia\\Julia-1.4.0\\share\\julia\\stdlib\\v1.4\\LinearAlgebra\\src\\symmetric.jl:1032\n",
       "[155] *(transA::LinearAlgebra.Transpose{#s662,#s661} where #s661<:(Union{LinearAlgebra.Hermitian{T,S}, LinearAlgebra.Symmetric{Complex{T},S}, LinearAlgebra.Symmetric{T,S}} where S where T<:Real) where #s662, transD::LinearAlgebra.Transpose{#s660,#s659} where #s659<:LinearAlgebra.Diagonal where #s660) in LinearAlgebra at C:\\Users\\chuan\\AppData\\Local\\Programs\\Julia\\Julia-1.4.0\\share\\julia\\stdlib\\v1.4\\LinearAlgebra\\src\\diagonal.jl:370\n",
       "[156] *(A::LinearAlgebra.Transpose{#s662,#s661} where #s661<:(Union{LinearAlgebra.Hermitian{T,S}, LinearAlgebra.Symmetric{Complex{T},S}, LinearAlgebra.Symmetric{T,S}} where S where T<:Real) where #s662, B::LinearAlgebra.Transpose{#s660,#s659} where #s659<:(AbstractArray{T,1} where T) where #s660) in LinearAlgebra at C:\\Users\\chuan\\AppData\\Local\\Programs\\Julia\\Julia-1.4.0\\share\\julia\\stdlib\\v1.4\\LinearAlgebra\\src\\symmetric.jl:1041\n",
       "[157] *(D::LinearAlgebra.Transpose{#s662,#s661} where #s661<:LinearAlgebra.Diagonal where #s662, B::LinearAlgebra.Transpose{#s660,#s659} where #s659<:LinearAlgebra.Diagonal where #s660) in LinearAlgebra at C:\\Users\\chuan\\AppData\\Local\\Programs\\Julia\\Julia-1.4.0\\share\\julia\\stdlib\\v1.4\\LinearAlgebra\\src\\diagonal.jl:261\n",
       "[158] *(A::LinearAlgebra.Transpose{#s662,#s661} where #s661<:SparseArrays.AbstractSparseMatrixCSC where #s662, B::LinearAlgebra.Transpose{#s660,#s659} where #s659<:SparseArrays.AbstractSparseMatrixCSC where #s660) in SparseArrays at C:\\Users\\chuan\\AppData\\Local\\Programs\\Julia\\Julia-1.4.0\\share\\julia\\stdlib\\v1.4\\SparseArrays\\src\\linalg.jl:169\n",
       "[159] *(u::LinearAlgebra.Transpose{T,#s662} where #s662<:(AbstractArray{T,1} where T) where T, v::LinearAlgebra.Transpose{T,#s662} where #s662<:(AbstractArray{T,1} where T) where T) in LinearAlgebra at C:\\Users\\chuan\\AppData\\Local\\Programs\\Julia\\Julia-1.4.0\\share\\julia\\stdlib\\v1.4\\LinearAlgebra\\src\\adjtrans.jl:257\n",
       "[160] *(u::LinearAlgebra.Transpose{T,#s662} where #s662<:(AbstractArray{T,1} where T) where T, v::LinearAlgebra.Adjoint{#s662,#s661} where #s661<:(LinearAlgebra.Transpose{T,#s662} where #s662<:(AbstractArray{T,1} where T) where T) where #s662) in LinearAlgebra at C:\\Users\\chuan\\AppData\\Local\\Programs\\Julia\\Julia-1.4.0\\share\\julia\\stdlib\\v1.4\\LinearAlgebra\\src\\adjtrans.jl:261\n",
       "[161] *(transx::LinearAlgebra.Transpose{#s662,#s661} where #s661<:Union{DenseArray{T,1}, Base.ReinterpretArray{T,1,S,A} where S where A<:Union{SubArray{T,N,A,I,true} where I<:Union{Tuple{Vararg{Real,N} where N}, Tuple{AbstractUnitRange,Vararg{Any,N} where N}} where A<:DenseArray where N where T, DenseArray}, Base.ReshapedArray{T,1,A,MI} where MI<:Tuple{Vararg{Base.MultiplicativeInverses.SignedMultiplicativeInverse{Int64},N} where N} where A<:Union{Base.ReinterpretArray{T,N,S,A} where S where A<:Union{SubArray{T,N,A,I,true} where I<:Union{Tuple{Vararg{Real,N} where N}, Tuple{AbstractUnitRange,Vararg{Any,N} where N}} where A<:DenseArray where N where T, DenseArray} where N where T, SubArray{T,N,A,I,true} where I<:Union{Tuple{Vararg{Real,N} where N}, Tuple{AbstractUnitRange,Vararg{Any,N} where N}} where A<:DenseArray where N where T, DenseArray}, SubArray{T,1,A,I,L} where L where I<:Tuple{Vararg{Union{Int64, AbstractRange{Int64}, Base.AbstractCartesianIndex},N} where N} where A<:Union{Base.ReinterpretArray{T,N,S,A} where S where A<:Union{SubArray{T,N,A,I,true} where I<:Union{Tuple{Vararg{Real,N} where N}, Tuple{AbstractUnitRange,Vararg{Any,N} where N}} where A<:DenseArray where N where T, DenseArray} where N where T, Base.ReshapedArray{T,N,A,MI} where MI<:Tuple{Vararg{Base.MultiplicativeInverses.SignedMultiplicativeInverse{Int64},N} where N} where A<:Union{Base.ReinterpretArray{T,N,S,A} where S where A<:Union{SubArray{T,N,A,I,true} where I<:Union{Tuple{Vararg{Real,N} where N}, Tuple{AbstractUnitRange,Vararg{Any,N} where N}} where A<:DenseArray where N where T, DenseArray} where N where T, SubArray{T,N,A,I,true} where I<:Union{Tuple{Vararg{Real,N} where N}, Tuple{AbstractUnitRange,Vararg{Any,N} where N}} where A<:DenseArray where N where T, DenseArray} where N where T, DenseArray}} where #s662, y::Union{DenseArray{T,1}, Base.ReinterpretArray{T,1,S,A} where S where A<:Union{SubArray{T,N,A,I,true} where I<:Union{Tuple{Vararg{Real,N} where N}, Tuple{AbstractUnitRange,Vararg{Any,N} where N}} where A<:DenseArray where N where T, DenseArray}, Base.ReshapedArray{T,1,A,MI} where MI<:Tuple{Vararg{Base.MultiplicativeInverses.SignedMultiplicativeInverse{Int64},N} where N} where A<:Union{Base.ReinterpretArray{T,N,S,A} where S where A<:Union{SubArray{T,N,A,I,true} where I<:Union{Tuple{Vararg{Real,N} where N}, Tuple{AbstractUnitRange,Vararg{Any,N} where N}} where A<:DenseArray where N where T, DenseArray} where N where T, SubArray{T,N,A,I,true} where I<:Union{Tuple{Vararg{Real,N} where N}, Tuple{AbstractUnitRange,Vararg{Any,N} where N}} where A<:DenseArray where N where T, DenseArray}, SubArray{T,1,A,I,L} where L where I<:Tuple{Vararg{Union{Int64, AbstractRange{Int64}, Base.AbstractCartesianIndex},N} where N} where A<:Union{Base.ReinterpretArray{T,N,S,A} where S where A<:Union{SubArray{T,N,A,I,true} where I<:Union{Tuple{Vararg{Real,N} where N}, Tuple{AbstractUnitRange,Vararg{Any,N} where N}} where A<:DenseArray where N where T, DenseArray} where N where T, Base.ReshapedArray{T,N,A,MI} where MI<:Tuple{Vararg{Base.MultiplicativeInverses.SignedMultiplicativeInverse{Int64},N} where N} where A<:Union{Base.ReinterpretArray{T,N,S,A} where S where A<:Union{SubArray{T,N,A,I,true} where I<:Union{Tuple{Vararg{Real,N} where N}, Tuple{AbstractUnitRange,Vararg{Any,N} where N}} where A<:DenseArray where N where T, DenseArray} where N where T, SubArray{T,N,A,I,true} where I<:Union{Tuple{Vararg{Real,N} where N}, Tuple{AbstractUnitRange,Vararg{Any,N} where N}} where A<:DenseArray where N where T, DenseArray} where N where T, DenseArray}}) where T<:Union{Complex{Float32}, Complex{Float64}} in LinearAlgebra at C:\\Users\\chuan\\AppData\\Local\\Programs\\Julia\\Julia-1.4.0\\share\\julia\\stdlib\\v1.4\\LinearAlgebra\\src\\matmul.jl:39\n",
       "[162] *(transA::LinearAlgebra.Transpose{#s662,#s661} where #s661<:Union{DenseArray{T,2}, Base.ReinterpretArray{T,2,S,A} where S where A<:Union{SubArray{T,N,A,I,true} where I<:Union{Tuple{Vararg{Real,N} where N}, Tuple{AbstractUnitRange,Vararg{Any,N} where N}} where A<:DenseArray where N where T, DenseArray}, Base.ReshapedArray{T,2,A,MI} where MI<:Tuple{Vararg{Base.MultiplicativeInverses.SignedMultiplicativeInverse{Int64},N} where N} where A<:Union{Base.ReinterpretArray{T,N,S,A} where S where A<:Union{SubArray{T,N,A,I,true} where I<:Union{Tuple{Vararg{Real,N} where N}, Tuple{AbstractUnitRange,Vararg{Any,N} where N}} where A<:DenseArray where N where T, DenseArray} where N where T, SubArray{T,N,A,I,true} where I<:Union{Tuple{Vararg{Real,N} where N}, Tuple{AbstractUnitRange,Vararg{Any,N} where N}} where A<:DenseArray where N where T, DenseArray}, SubArray{T,2,A,I,L} where L where I<:Tuple{Vararg{Union{Int64, AbstractRange{Int64}, Base.AbstractCartesianIndex},N} where N} where A<:Union{Base.ReinterpretArray{T,N,S,A} where S where A<:Union{SubArray{T,N,A,I,true} where I<:Union{Tuple{Vararg{Real,N} where N}, Tuple{AbstractUnitRange,Vararg{Any,N} where N}} where A<:DenseArray where N where T, DenseArray} where N where T, Base.ReshapedArray{T,N,A,MI} where MI<:Tuple{Vararg{Base.MultiplicativeInverses.SignedMultiplicativeInverse{Int64},N} where N} where A<:Union{Base.ReinterpretArray{T,N,S,A} where S where A<:Union{SubArray{T,N,A,I,true} where I<:Union{Tuple{Vararg{Real,N} where N}, Tuple{AbstractUnitRange,Vararg{Any,N} where N}} where A<:DenseArray where N where T, DenseArray} where N where T, SubArray{T,N,A,I,true} where I<:Union{Tuple{Vararg{Real,N} where N}, Tuple{AbstractUnitRange,Vararg{Any,N} where N}} where A<:DenseArray where N where T, DenseArray} where N where T, DenseArray}} where #s662, x::Union{DenseArray{S,1}, Base.ReinterpretArray{S,1,S1,A} where S1 where A<:Union{SubArray{T,N,A,I,true} where I<:Union{Tuple{Vararg{Real,N} where N}, Tuple{AbstractUnitRange,Vararg{Any,N} where N}} where A<:DenseArray where N where T, DenseArray}, Base.ReshapedArray{S,1,A,MI} where MI<:Tuple{Vararg{Base.MultiplicativeInverses.SignedMultiplicativeInverse{Int64},N} where N} where A<:Union{Base.ReinterpretArray{T,N,S,A} where S where A<:Union{SubArray{T,N,A,I,true} where I<:Union{Tuple{Vararg{Real,N} where N}, Tuple{AbstractUnitRange,Vararg{Any,N} where N}} where A<:DenseArray where N where T, DenseArray} where N where T, SubArray{T,N,A,I,true} where I<:Union{Tuple{Vararg{Real,N} where N}, Tuple{AbstractUnitRange,Vararg{Any,N} where N}} where A<:DenseArray where N where T, DenseArray}, SubArray{S,1,A,I,L} where L where I<:Tuple{Vararg{Union{Int64, AbstractRange{Int64}, Base.AbstractCartesianIndex},N} where N} where A<:Union{Base.ReinterpretArray{T,N,S,A} where S where A<:Union{SubArray{T,N,A,I,true} where I<:Union{Tuple{Vararg{Real,N} where N}, Tuple{AbstractUnitRange,Vararg{Any,N} where N}} where A<:DenseArray where N where T, DenseArray} where N where T, Base.ReshapedArray{T,N,A,MI} where MI<:Tuple{Vararg{Base.MultiplicativeInverses.SignedMultiplicativeInverse{Int64},N} where N} where A<:Union{Base.ReinterpretArray{T,N,S,A} where S where A<:Union{SubArray{T,N,A,I,true} where I<:Union{Tuple{Vararg{Real,N} where N}, Tuple{AbstractUnitRange,Vararg{Any,N} where N}} where A<:DenseArray where N where T, DenseArray} where N where T, SubArray{T,N,A,I,true} where I<:Union{Tuple{Vararg{Real,N} where N}, Tuple{AbstractUnitRange,Vararg{Any,N} where N}} where A<:DenseArray where N where T, DenseArray} where N where T, DenseArray}}) where {T<:Union{Complex{Float32}, Complex{Float64}, Float32, Float64}, S} in LinearAlgebra at C:\\Users\\chuan\\AppData\\Local\\Programs\\Julia\\Julia-1.4.0\\share\\julia\\stdlib\\v1.4\\LinearAlgebra\\src\\matmul.jl:85\n",
       "[163] *(xformA::LinearAlgebra.Transpose{#s662,#s661} where #s661<:LinearAlgebra.UpperTriangular where #s662, B::LinearAlgebra.LowerTriangular) in LinearAlgebra at C:\\Users\\chuan\\AppData\\Local\\Programs\\Julia\\Julia-1.4.0\\share\\julia\\stdlib\\v1.4\\LinearAlgebra\\src\\triangular.jl:1813\n",
       "[164] *(xformA::LinearAlgebra.Transpose{#s660,#s659} where #s659<:LinearAlgebra.UnitUpperTriangular where #s660, B::LinearAlgebra.LowerTriangular) in LinearAlgebra at C:\\Users\\chuan\\AppData\\Local\\Programs\\Julia\\Julia-1.4.0\\share\\julia\\stdlib\\v1.4\\LinearAlgebra\\src\\triangular.jl:1822\n",
       "[165] *(xformA::LinearAlgebra.Transpose{#s658,#s657} where #s657<:LinearAlgebra.LowerTriangular where #s658, B::LinearAlgebra.UpperTriangular) in LinearAlgebra at C:\\Users\\chuan\\AppData\\Local\\Programs\\Julia\\Julia-1.4.0\\share\\julia\\stdlib\\v1.4\\LinearAlgebra\\src\\triangular.jl:1831\n",
       "[166] *(xformA::LinearAlgebra.Transpose{#s656,#s655} where #s655<:LinearAlgebra.UnitLowerTriangular where #s656, B::LinearAlgebra.UpperTriangular) in LinearAlgebra at C:\\Users\\chuan\\AppData\\Local\\Programs\\Julia\\Julia-1.4.0\\share\\julia\\stdlib\\v1.4\\LinearAlgebra\\src\\triangular.jl:1840\n",
       "[167] *(transA::LinearAlgebra.Transpose{#s662,#s661} where #s661<:LinearAlgebra.AbstractTriangular where #s662, B::LinearAlgebra.AbstractTriangular) in LinearAlgebra at C:\\Users\\chuan\\AppData\\Local\\Programs\\Julia\\Julia-1.4.0\\share\\julia\\stdlib\\v1.4\\LinearAlgebra\\src\\triangular.jl:1938\n",
       "[168] *(A::LinearAlgebra.Transpose{#s662,#s661} where #s661<:LinearAlgebra.AbstractTriangular where #s662, B::LinearAlgebra.Transpose{#s660,#s659} where #s659<:(AbstractArray{T,2} where T) where #s660) in LinearAlgebra at C:\\Users\\chuan\\AppData\\Local\\Programs\\Julia\\Julia-1.4.0\\share\\julia\\stdlib\\v1.4\\LinearAlgebra\\src\\triangular.jl:2137\n",
       "[169] *(A::LinearAlgebra.Transpose{#s662,#s661} where #s661<:LinearAlgebra.AbstractTriangular where #s662, B::LinearAlgebra.Adjoint{#s660,#s659} where #s659<:LinearAlgebra.AbstractTriangular where #s660) in LinearAlgebra at C:\\Users\\chuan\\AppData\\Local\\Programs\\Julia\\Julia-1.4.0\\share\\julia\\stdlib\\v1.4\\LinearAlgebra\\src\\triangular.jl:2640\n",
       "[170] *(A::LinearAlgebra.Transpose{#s662,#s661} where #s661<:LinearAlgebra.AbstractTriangular where #s662, B::LinearAlgebra.Adjoint{#s660,#s659} where #s659<:(Union{LinearAlgebra.Hermitian{Complex{T},S}, LinearAlgebra.Hermitian{T,S}, LinearAlgebra.Symmetric{T,S}} where S where T<:Real) where #s660) in LinearAlgebra at C:\\Users\\chuan\\AppData\\Local\\Programs\\Julia\\Julia-1.4.0\\share\\julia\\stdlib\\v1.4\\LinearAlgebra\\src\\symmetric.jl:1047\n",
       "[171] *(A::LinearAlgebra.Transpose{#s662,#s661} where #s661<:LinearAlgebra.AbstractTriangular where #s662, B::LinearAlgebra.Adjoint{#s660,#s659} where #s659<:(AbstractArray{T,1} where T) where #s660) in LinearAlgebra at C:\\Users\\chuan\\AppData\\Local\\Programs\\Julia\\Julia-1.4.0\\share\\julia\\stdlib\\v1.4\\LinearAlgebra\\src\\triangular.jl:2646\n",
       "[172] *(A::LinearAlgebra.Transpose{#s662,#s661} where #s661<:LinearAlgebra.AbstractTriangular where #s662, B::LinearAlgebra.Adjoint{#s660,#s659} where #s659<:(AbstractArray{T,2} where T) where #s660) in LinearAlgebra at C:\\Users\\chuan\\AppData\\Local\\Programs\\Julia\\Julia-1.4.0\\share\\julia\\stdlib\\v1.4\\LinearAlgebra\\src\\triangular.jl:2647\n",
       "[173] *(A::LinearAlgebra.Transpose{#s662,#s661} where #s661<:LinearAlgebra.AbstractTriangular where #s662, D::LinearAlgebra.Diagonal) in LinearAlgebra at C:\\Users\\chuan\\AppData\\Local\\Programs\\Julia\\Julia-1.4.0\\share\\julia\\stdlib\\v1.4\\LinearAlgebra\\src\\diagonal.jl:229\n",
       "[174] *(A::LinearAlgebra.Transpose{#s662,#s661} where #s661<:LinearAlgebra.AbstractTriangular where #s662, B::LinearAlgebra.Adjoint{#s660,#s659} where #s659<:LinearAlgebra.AbstractRotation where #s660) in LinearAlgebra at C:\\Users\\chuan\\AppData\\Local\\Programs\\Julia\\Julia-1.4.0\\share\\julia\\stdlib\\v1.4\\LinearAlgebra\\src\\givens.jl:395\n",
       "[175] *(transA::LinearAlgebra.Transpose{#s662,#s661} where #s661<:Union{DenseArray{Ta,2}, Base.ReinterpretArray{Ta,2,S,A} where S where A<:Union{SubArray{T,N,A,I,true} where I<:Union{Tuple{Vararg{Real,N} where N}, Tuple{AbstractUnitRange,Vararg{Any,N} where N}} where A<:DenseArray where N where T, DenseArray}, Base.ReshapedArray{Ta,2,A,MI} where MI<:Tuple{Vararg{Base.MultiplicativeInverses.SignedMultiplicativeInverse{Int64},N} where N} where A<:Union{Base.ReinterpretArray{T,N,S,A} where S where A<:Union{SubArray{T,N,A,I,true} where I<:Union{Tuple{Vararg{Real,N} where N}, Tuple{AbstractUnitRange,Vararg{Any,N} where N}} where A<:DenseArray where N where T, DenseArray} where N where T, SubArray{T,N,A,I,true} where I<:Union{Tuple{Vararg{Real,N} where N}, Tuple{AbstractUnitRange,Vararg{Any,N} where N}} where A<:DenseArray where N where T, DenseArray}, SubArray{Ta,2,A,I,L} where L where I<:Tuple{Vararg{Union{Int64, AbstractRange{Int64}, Base.AbstractCartesianIndex},N} where N} where A<:Union{Base.ReinterpretArray{T,N,S,A} where S where A<:Union{SubArray{T,N,A,I,true} where I<:Union{Tuple{Vararg{Real,N} where N}, Tuple{AbstractUnitRange,Vararg{Any,N} where N}} where A<:DenseArray where N where T, DenseArray} where N where T, Base.ReshapedArray{T,N,A,MI} where MI<:Tuple{Vararg{Base.MultiplicativeInverses.SignedMultiplicativeInverse{Int64},N} where N} where A<:Union{Base.ReinterpretArray{T,N,S,A} where S where A<:Union{SubArray{T,N,A,I,true} where I<:Union{Tuple{Vararg{Real,N} where N}, Tuple{AbstractUnitRange,Vararg{Any,N} where N}} where A<:DenseArray where N where T, DenseArray} where N where T, SubArray{T,N,A,I,true} where I<:Union{Tuple{Vararg{Real,N} where N}, Tuple{AbstractUnitRange,Vararg{Any,N} where N}} where A<:DenseArray where N where T, DenseArray} where N where T, DenseArray}, LinearAlgebra.LowerTriangular{Ta,S} where S<:AbstractArray{Ta,2}, LinearAlgebra.UnitLowerTriangular{Ta,S} where S<:AbstractArray{Ta,2}, LinearAlgebra.UnitUpperTriangular{Ta,S} where S<:AbstractArray{Ta,2}, LinearAlgebra.UpperTriangular{Ta,S} where S<:AbstractArray{Ta,2}} where #s662, x::SparseArrays.AbstractSparseArray{Tx,Ti,1} where Ti) where {Ta, Tx} in SparseArrays at C:\\Users\\chuan\\AppData\\Local\\Programs\\Julia\\Julia-1.4.0\\share\\julia\\stdlib\\v1.4\\SparseArrays\\src\\sparsevector.jl:1534\n",
       "[176] *(transA::LinearAlgebra.Transpose{#s660,#s659} where #s659<:LinearAlgebra.AbstractTriangular where #s660, B::AbstractArray{T,1} where T) in LinearAlgebra at C:\\Users\\chuan\\AppData\\Local\\Programs\\Julia\\Julia-1.4.0\\share\\julia\\stdlib\\v1.4\\LinearAlgebra\\src\\triangular.jl:1979\n",
       "[177] *(transA::LinearAlgebra.Transpose{#s662,#s661} where #s661<:(Union{LinearAlgebra.Hermitian{T,S}, LinearAlgebra.Symmetric{Complex{T},S}, LinearAlgebra.Symmetric{T,S}} where S where T<:Real) where #s662, B::LinearAlgebra.AbstractTriangular) in LinearAlgebra at C:\\Users\\chuan\\AppData\\Local\\Programs\\Julia\\Julia-1.4.0\\share\\julia\\stdlib\\v1.4\\LinearAlgebra\\src\\symmetric.jl:607\n",
       "[178] *(v::LinearAlgebra.Transpose{T,#s662} where #s662<:(AbstractArray{T,1} where T) where T, A::LinearAlgebra.AbstractTriangular) in LinearAlgebra at C:\\Users\\chuan\\AppData\\Local\\Programs\\Julia\\Julia-1.4.0\\share\\julia\\stdlib\\v1.4\\LinearAlgebra\\src\\triangular.jl:2119\n",
       "[179] *(A::LinearAlgebra.Transpose{#s662,#s661} where #s661<:(Union{LinearAlgebra.Hermitian{T,S}, LinearAlgebra.Symmetric{Complex{T},S}, LinearAlgebra.Symmetric{T,S}} where S where T<:Real) where #s662, B::LinearAlgebra.Adjoint{#s660,#s659} where #s659<:LinearAlgebra.AbstractTriangular where #s660) in LinearAlgebra at C:\\Users\\chuan\\AppData\\Local\\Programs\\Julia\\Julia-1.4.0\\share\\julia\\stdlib\\v1.4\\LinearAlgebra\\src\\symmetric.jl:1051\n",
       "[180] *(A::LinearAlgebra.Transpose{#s662,#s661} where #s661<:(AbstractArray{T,1} where T) where #s662, B::LinearAlgebra.Adjoint{#s660,#s659} where #s659<:LinearAlgebra.AbstractTriangular where #s660) in LinearAlgebra at C:\\Users\\chuan\\AppData\\Local\\Programs\\Julia\\Julia-1.4.0\\share\\julia\\stdlib\\v1.4\\LinearAlgebra\\src\\triangular.jl:2651\n",
       "[181] *(A::LinearAlgebra.Transpose{#s662,#s661} where #s661<:(Union{LinearAlgebra.Hermitian{T,S}, LinearAlgebra.Symmetric{Complex{T},S}, LinearAlgebra.Symmetric{T,S}} where S where T<:Real) where #s662, B::LinearAlgebra.Adjoint{#s660,#s659} where #s659<:(Union{LinearAlgebra.Hermitian{Complex{T},S}, LinearAlgebra.Hermitian{T,S}, LinearAlgebra.Symmetric{T,S}} where S where T<:Real) where #s660) in LinearAlgebra at C:\\Users\\chuan\\AppData\\Local\\Programs\\Julia\\Julia-1.4.0\\share\\julia\\stdlib\\v1.4\\LinearAlgebra\\src\\symmetric.jl:1024\n",
       "[182] *(A::LinearAlgebra.Transpose{#s662,#s661} where #s661<:(Union{LinearAlgebra.Hermitian{T,S}, LinearAlgebra.Symmetric{Complex{T},S}, LinearAlgebra.Symmetric{T,S}} where S where T<:Real) where #s662, B::LinearAlgebra.Adjoint{#s660,#s659} where #s659<:(AbstractArray{T,1} where T) where #s660) in LinearAlgebra at C:\\Users\\chuan\\AppData\\Local\\Programs\\Julia\\Julia-1.4.0\\share\\julia\\stdlib\\v1.4\\LinearAlgebra\\src\\symmetric.jl:1039\n",
       "[183] *(A::LinearAlgebra.Transpose{#s662,#s661} where #s661<:(Union{LinearAlgebra.Hermitian{T,S}, LinearAlgebra.Symmetric{Complex{T},S}, LinearAlgebra.Symmetric{T,S}} where S where T<:Real) where #s662, B::LinearAlgebra.Adjoint{#s660,#s659} where #s659<:(AbstractArray{T,2} where T) where #s660) in LinearAlgebra at C:\\Users\\chuan\\AppData\\Local\\Programs\\Julia\\Julia-1.4.0\\share\\julia\\stdlib\\v1.4\\LinearAlgebra\\src\\symmetric.jl:1040\n",
       "[184] *(A::LinearAlgebra.Transpose{#s662,#s661} where #s661<:(Union{LinearAlgebra.Hermitian{T,S}, LinearAlgebra.Symmetric{Complex{T},S}, LinearAlgebra.Symmetric{T,S}} where S where T<:Real) where #s662, B::LinearAlgebra.Transpose{#s660,#s659} where #s659<:(AbstractArray{T,2} where T) where #s660) in LinearAlgebra at C:\\Users\\chuan\\AppData\\Local\\Programs\\Julia\\Julia-1.4.0\\share\\julia\\stdlib\\v1.4\\LinearAlgebra\\src\\symmetric.jl:1042\n",
       "[185] *(transA::LinearAlgebra.Transpose{#s662,#s661} where #s661<:(Union{LinearAlgebra.Hermitian{T,S}, LinearAlgebra.Symmetric{Complex{T},S}, LinearAlgebra.Symmetric{T,S}} where S where T<:Real) where #s662, B::LinearAlgebra.Diagonal) in LinearAlgebra at C:\\Users\\chuan\\AppData\\Local\\Programs\\Julia\\Julia-1.4.0\\share\\julia\\stdlib\\v1.4\\LinearAlgebra\\src\\diagonal.jl:367\n",
       "[186] *(A::LinearAlgebra.Transpose{#s662,#s661} where #s661<:(Union{LinearAlgebra.Hermitian{T,S}, LinearAlgebra.Symmetric{Complex{T},S}, LinearAlgebra.Symmetric{T,S}} where S where T<:Real) where #s662, B::LinearAlgebra.Adjoint{#s660,#s659} where #s659<:LinearAlgebra.AbstractRotation where #s660) in LinearAlgebra at C:\\Users\\chuan\\AppData\\Local\\Programs\\Julia\\Julia-1.4.0\\share\\julia\\stdlib\\v1.4\\LinearAlgebra\\src\\givens.jl:397\n",
       "[187] *(transA::LinearAlgebra.Transpose{#s662,#s661} where #s661<:(Union{LinearAlgebra.Hermitian{T,S}, LinearAlgebra.Symmetric{Complex{T},S}, LinearAlgebra.Symmetric{T,S}} where S where T<:Real) where #s662, B::AbstractArray{T,1} where T) in LinearAlgebra at C:\\Users\\chuan\\AppData\\Local\\Programs\\Julia\\Julia-1.4.0\\share\\julia\\stdlib\\v1.4\\LinearAlgebra\\src\\symmetric.jl:584\n",
       "[188] *(A::LinearAlgebra.Transpose{#s662,#s661} where #s661<:(AbstractArray{T,1} where T) where #s662, B::LinearAlgebra.Adjoint{#s660,#s659} where #s659<:(Union{LinearAlgebra.Hermitian{Complex{T},S}, LinearAlgebra.Hermitian{T,S}, LinearAlgebra.Symmetric{T,S}} where S where T<:Real) where #s660) in LinearAlgebra at C:\\Users\\chuan\\AppData\\Local\\Programs\\Julia\\Julia-1.4.0\\share\\julia\\stdlib\\v1.4\\LinearAlgebra\\src\\symmetric.jl:1030\n",
       "[189] *(D::LinearAlgebra.Transpose{#s662,#s661} where #s661<:LinearAlgebra.Diagonal where #s662, B::LinearAlgebra.Diagonal) in LinearAlgebra at C:\\Users\\chuan\\AppData\\Local\\Programs\\Julia\\Julia-1.4.0\\share\\julia\\stdlib\\v1.4\\LinearAlgebra\\src\\diagonal.jl:228\n",
       "[190] *(x::LinearAlgebra.Transpose{#s662,#s661} where #s661<:(AbstractArray{T,1} where T) where #s662, D::LinearAlgebra.Diagonal) in LinearAlgebra at C:\\Users\\chuan\\AppData\\Local\\Programs\\Julia\\Julia-1.4.0\\share\\julia\\stdlib\\v1.4\\LinearAlgebra\\src\\diagonal.jl:646\n",
       "[191] *(x::LinearAlgebra.Transpose{#s662,#s661} where #s661<:(AbstractArray{T,1} where T) where #s662, D::LinearAlgebra.Diagonal, y::AbstractArray{T,1} where T) in LinearAlgebra at C:\\Users\\chuan\\AppData\\Local\\Programs\\Julia\\Julia-1.4.0\\share\\julia\\stdlib\\v1.4\\LinearAlgebra\\src\\diagonal.jl:649\n",
       "[192] *(A::LinearAlgebra.Transpose{#s662,#s661} where #s661<:(AbstractArray{T,1} where T) where #s662, B::LinearAlgebra.Adjoint{#s660,#s659} where #s659<:LinearAlgebra.AbstractRotation where #s660) in LinearAlgebra at C:\\Users\\chuan\\AppData\\Local\\Programs\\Julia\\Julia-1.4.0\\share\\julia\\stdlib\\v1.4\\LinearAlgebra\\src\\givens.jl:391\n",
       "[193] *(A::LinearAlgebra.Transpose{#s662,#s661} where #s661<:SparseArrays.AbstractSparseMatrixCSC where #s662, B::SparseArrays.AbstractSparseMatrixCSC) in SparseArrays at C:\\Users\\chuan\\AppData\\Local\\Programs\\Julia\\Julia-1.4.0\\share\\julia\\stdlib\\v1.4\\SparseArrays\\src\\linalg.jl:166\n",
       "[194] *(transA::LinearAlgebra.Transpose{#s662,#s661} where #s661<:SparseArrays.AbstractSparseMatrixCSC where #s662, x::SparseArrays.AbstractSparseArray{Tv,Ti,1} where Ti where Tv) in SparseArrays at C:\\Users\\chuan\\AppData\\Local\\Programs\\Julia\\Julia-1.4.0\\share\\julia\\stdlib\\v1.4\\SparseArrays\\src\\sparsevector.jl:1728\n",
       "[195] *(transA::LinearAlgebra.Transpose{#s662,#s661} where #s661<:SparseArrays.AbstractSparseMatrixCSC where #s662, x::Union{DenseArray{Tx,1}, Base.ReinterpretArray{Tx,1,S,A} where S where A<:Union{SubArray{T,N,A,I,true} where I<:Union{Tuple{Vararg{Real,N} where N}, Tuple{AbstractUnitRange,Vararg{Any,N} where N}} where A<:DenseArray where N where T, DenseArray}, Base.ReshapedArray{Tx,1,A,MI} where MI<:Tuple{Vararg{Base.MultiplicativeInverses.SignedMultiplicativeInverse{Int64},N} where N} where A<:Union{Base.ReinterpretArray{T,N,S,A} where S where A<:Union{SubArray{T,N,A,I,true} where I<:Union{Tuple{Vararg{Real,N} where N}, Tuple{AbstractUnitRange,Vararg{Any,N} where N}} where A<:DenseArray where N where T, DenseArray} where N where T, SubArray{T,N,A,I,true} where I<:Union{Tuple{Vararg{Real,N} where N}, Tuple{AbstractUnitRange,Vararg{Any,N} where N}} where A<:DenseArray where N where T, DenseArray}, SubArray{Tx,1,A,I,L} where L where I<:Tuple{Vararg{Union{Int64, AbstractRange{Int64}, Base.AbstractCartesianIndex},N} where N} where A<:Union{Base.ReinterpretArray{T,N,S,A} where S where A<:Union{SubArray{T,N,A,I,true} where I<:Union{Tuple{Vararg{Real,N} where N}, Tuple{AbstractUnitRange,Vararg{Any,N} where N}} where A<:DenseArray where N where T, DenseArray} where N where T, Base.ReshapedArray{T,N,A,MI} where MI<:Tuple{Vararg{Base.MultiplicativeInverses.SignedMultiplicativeInverse{Int64},N} where N} where A<:Union{Base.ReinterpretArray{T,N,S,A} where S where A<:Union{SubArray{T,N,A,I,true} where I<:Union{Tuple{Vararg{Real,N} where N}, Tuple{AbstractUnitRange,Vararg{Any,N} where N}} where A<:DenseArray where N where T, DenseArray} where N where T, SubArray{T,N,A,I,true} where I<:Union{Tuple{Vararg{Real,N} where N}, Tuple{AbstractUnitRange,Vararg{Any,N} where N}} where A<:DenseArray where N where T, DenseArray} where N where T, DenseArray}}) where Tx in SparseArrays at C:\\Users\\chuan\\AppData\\Local\\Programs\\Julia\\Julia-1.4.0\\share\\julia\\stdlib\\v1.4\\SparseArrays\\src\\linalg.jl:81\n",
       "[196] *(u::LinearAlgebra.Transpose{T,#s662} where #s662<:(AbstractArray{T,1} where T) where T, v::AbstractArray{T,1} where T) in LinearAlgebra at C:\\Users\\chuan\\AppData\\Local\\Programs\\Julia\\Julia-1.4.0\\share\\julia\\stdlib\\v1.4\\LinearAlgebra\\src\\adjtrans.jl:248\n",
       "[197] *(A::Union{DenseArray{T,2}, Base.ReinterpretArray{T,2,S,A} where S where A<:Union{SubArray{T,N,A,I,true} where I<:Union{Tuple{Vararg{Real,N} where N}, Tuple{AbstractUnitRange,Vararg{Any,N} where N}} where A<:DenseArray where N where T, DenseArray}, Base.ReshapedArray{T,2,A,MI} where MI<:Tuple{Vararg{Base.MultiplicativeInverses.SignedMultiplicativeInverse{Int64},N} where N} where A<:Union{Base.ReinterpretArray{T,N,S,A} where S where A<:Union{SubArray{T,N,A,I,true} where I<:Union{Tuple{Vararg{Real,N} where N}, Tuple{AbstractUnitRange,Vararg{Any,N} where N}} where A<:DenseArray where N where T, DenseArray} where N where T, SubArray{T,N,A,I,true} where I<:Union{Tuple{Vararg{Real,N} where N}, Tuple{AbstractUnitRange,Vararg{Any,N} where N}} where A<:DenseArray where N where T, DenseArray}, SubArray{T,2,A,I,L} where L where I<:Tuple{Vararg{Union{Int64, AbstractRange{Int64}, Base.AbstractCartesianIndex},N} where N} where A<:Union{Base.ReinterpretArray{T,N,S,A} where S where A<:Union{SubArray{T,N,A,I,true} where I<:Union{Tuple{Vararg{Real,N} where N}, Tuple{AbstractUnitRange,Vararg{Any,N} where N}} where A<:DenseArray where N where T, DenseArray} where N where T, Base.ReshapedArray{T,N,A,MI} where MI<:Tuple{Vararg{Base.MultiplicativeInverses.SignedMultiplicativeInverse{Int64},N} where N} where A<:Union{Base.ReinterpretArray{T,N,S,A} where S where A<:Union{SubArray{T,N,A,I,true} where I<:Union{Tuple{Vararg{Real,N} where N}, Tuple{AbstractUnitRange,Vararg{Any,N} where N}} where A<:DenseArray where N where T, DenseArray} where N where T, SubArray{T,N,A,I,true} where I<:Union{Tuple{Vararg{Real,N} where N}, Tuple{AbstractUnitRange,Vararg{Any,N} where N}} where A<:DenseArray where N where T, DenseArray} where N where T, DenseArray}}, x::Union{DenseArray{S,1}, Base.ReinterpretArray{S,1,S1,A} where S1 where A<:Union{SubArray{T,N,A,I,true} where I<:Union{Tuple{Vararg{Real,N} where N}, Tuple{AbstractUnitRange,Vararg{Any,N} where N}} where A<:DenseArray where N where T, DenseArray}, Base.ReshapedArray{S,1,A,MI} where MI<:Tuple{Vararg{Base.MultiplicativeInverses.SignedMultiplicativeInverse{Int64},N} where N} where A<:Union{Base.ReinterpretArray{T,N,S,A} where S where A<:Union{SubArray{T,N,A,I,true} where I<:Union{Tuple{Vararg{Real,N} where N}, Tuple{AbstractUnitRange,Vararg{Any,N} where N}} where A<:DenseArray where N where T, DenseArray} where N where T, SubArray{T,N,A,I,true} where I<:Union{Tuple{Vararg{Real,N} where N}, Tuple{AbstractUnitRange,Vararg{Any,N} where N}} where A<:DenseArray where N where T, DenseArray}, SubArray{S,1,A,I,L} where L where I<:Tuple{Vararg{Union{Int64, AbstractRange{Int64}, Base.AbstractCartesianIndex},N} where N} where A<:Union{Base.ReinterpretArray{T,N,S,A} where S where A<:Union{SubArray{T,N,A,I,true} where I<:Union{Tuple{Vararg{Real,N} where N}, Tuple{AbstractUnitRange,Vararg{Any,N} where N}} where A<:DenseArray where N where T, DenseArray} where N where T, Base.ReshapedArray{T,N,A,MI} where MI<:Tuple{Vararg{Base.MultiplicativeInverses.SignedMultiplicativeInverse{Int64},N} where N} where A<:Union{Base.ReinterpretArray{T,N,S,A} where S where A<:Union{SubArray{T,N,A,I,true} where I<:Union{Tuple{Vararg{Real,N} where N}, Tuple{AbstractUnitRange,Vararg{Any,N} where N}} where A<:DenseArray where N where T, DenseArray} where N where T, SubArray{T,N,A,I,true} where I<:Union{Tuple{Vararg{Real,N} where N}, Tuple{AbstractUnitRange,Vararg{Any,N} where N}} where A<:DenseArray where N where T, DenseArray} where N where T, DenseArray}}) where {T<:Union{Complex{Float32}, Complex{Float64}, Float32, Float64}, S<:Real} in LinearAlgebra at C:\\Users\\chuan\\AppData\\Local\\Programs\\Julia\\Julia-1.4.0\\share\\julia\\stdlib\\v1.4\\LinearAlgebra\\src\\matmul.jl:45\n",
       "[198] *(transA::LinearAlgebra.Transpose{#s662,#s661} where #s661<:AbstractArray{T,2} where #s662, x::AbstractArray{S,1}) where {T, S} in LinearAlgebra at C:\\Users\\chuan\\AppData\\Local\\Programs\\Julia\\Julia-1.4.0\\share\\julia\\stdlib\\v1.4\\LinearAlgebra\\src\\matmul.jl:90\n",
       "[199] *(adjA::LinearAlgebra.Adjoint{#s662,#s661} where #s661<:AbstractArray{T,2} where #s662, x::AbstractArray{S,1}) where {T, S} in LinearAlgebra at C:\\Users\\chuan\\AppData\\Local\\Programs\\Julia\\Julia-1.4.0\\share\\julia\\stdlib\\v1.4\\LinearAlgebra\\src\\matmul.jl:111\n",
       "[200] *(adjA::LinearAlgebra.Adjoint{#s662,#s661} where #s661<:LinearAlgebra.AbstractTriangular where #s662, B::AbstractArray{T,2} where T) in LinearAlgebra at C:\\Users\\chuan\\AppData\\Local\\Programs\\Julia\\Julia-1.4.0\\share\\julia\\stdlib\\v1.4\\LinearAlgebra\\src\\triangular.jl:1971\n",
       "[201] *(adjA::LinearAlgebra.Adjoint{#s662,#s661} where #s661<:(Union{LinearAlgebra.Hermitian{Complex{T},S}, LinearAlgebra.Hermitian{T,S}, LinearAlgebra.Symmetric{T,S}} where S where T<:Real) where #s662, B::AbstractArray{T,2} where T) in LinearAlgebra at C:\\Users\\chuan\\AppData\\Local\\Programs\\Julia\\Julia-1.4.0\\share\\julia\\stdlib\\v1.4\\LinearAlgebra\\src\\symmetric.jl:589\n",
       "[202] *(x::LinearAlgebra.Adjoint{T,#s662} where #s662<:(AbstractArray{T,1} where T) where T, A::AbstractArray{T,2} where T) in LinearAlgebra at C:\\Users\\chuan\\AppData\\Local\\Programs\\Julia\\Julia-1.4.0\\share\\julia\\stdlib\\v1.4\\LinearAlgebra\\src\\matmul.jl:133\n",
       "[203] *(transA::LinearAlgebra.Transpose{#s660,#s659} where #s659<:LinearAlgebra.AbstractTriangular where #s660, B::AbstractArray{T,2} where T) in LinearAlgebra at C:\\Users\\chuan\\AppData\\Local\\Programs\\Julia\\Julia-1.4.0\\share\\julia\\stdlib\\v1.4\\LinearAlgebra\\src\\triangular.jl:1979\n",
       "[204] *(transA::LinearAlgebra.Transpose{#s662,#s661} where #s661<:(Union{LinearAlgebra.Hermitian{T,S}, LinearAlgebra.Symmetric{Complex{T},S}, LinearAlgebra.Symmetric{T,S}} where S where T<:Real) where #s662, B::AbstractArray{T,2} where T) in LinearAlgebra at C:\\Users\\chuan\\AppData\\Local\\Programs\\Julia\\Julia-1.4.0\\share\\julia\\stdlib\\v1.4\\LinearAlgebra\\src\\symmetric.jl:585\n",
       "[205] *(x::LinearAlgebra.Transpose{T,#s662} where #s662<:(AbstractArray{T,1} where T) where T, A::AbstractArray{T,2} where T) in LinearAlgebra at C:\\Users\\chuan\\AppData\\Local\\Programs\\Julia\\Julia-1.4.0\\share\\julia\\stdlib\\v1.4\\LinearAlgebra\\src\\matmul.jl:134\n",
       "[206] *(A::Union{DenseArray{#s662,2}, Base.ReinterpretArray{#s662,2,S,A} where S where A<:Union{SubArray{T,N,A,I,true} where I<:Union{Tuple{Vararg{Real,N} where N}, Tuple{AbstractUnitRange,Vararg{Any,N} where N}} where A<:DenseArray where N where T, DenseArray}, Base.ReshapedArray{#s662,2,A,MI} where MI<:Tuple{Vararg{Base.MultiplicativeInverses.SignedMultiplicativeInverse{Int64},N} where N} where A<:Union{Base.ReinterpretArray{T,N,S,A} where S where A<:Union{SubArray{T,N,A,I,true} where I<:Union{Tuple{Vararg{Real,N} where N}, Tuple{AbstractUnitRange,Vararg{Any,N} where N}} where A<:DenseArray where N where T, DenseArray} where N where T, SubArray{T,N,A,I,true} where I<:Union{Tuple{Vararg{Real,N} where N}, Tuple{AbstractUnitRange,Vararg{Any,N} where N}} where A<:DenseArray where N where T, DenseArray}, SubArray{#s662,2,A,I,L} where L where I<:Tuple{Vararg{Union{Int64, AbstractRange{Int64}, Base.AbstractCartesianIndex},N} where N} where A<:Union{Base.ReinterpretArray{T,N,S,A} where S where A<:Union{SubArray{T,N,A,I,true} where I<:Union{Tuple{Vararg{Real,N} where N}, Tuple{AbstractUnitRange,Vararg{Any,N} where N}} where A<:DenseArray where N where T, DenseArray} where N where T, Base.ReshapedArray{T,N,A,MI} where MI<:Tuple{Vararg{Base.MultiplicativeInverses.SignedMultiplicativeInverse{Int64},N} where N} where A<:Union{Base.ReinterpretArray{T,N,S,A} where S where A<:Union{SubArray{T,N,A,I,true} where I<:Union{Tuple{Vararg{Real,N} where N}, Tuple{AbstractUnitRange,Vararg{Any,N} where N}} where A<:DenseArray where N where T, DenseArray} where N where T, SubArray{T,N,A,I,true} where I<:Union{Tuple{Vararg{Real,N} where N}, Tuple{AbstractUnitRange,Vararg{Any,N} where N}} where A<:DenseArray where N where T, DenseArray} where N where T, DenseArray}} where #s662<:Union{Float32, Float64}, B::Union{DenseArray{#s661,2}, Base.ReinterpretArray{#s661,2,S,A} where S where A<:Union{SubArray{T,N,A,I,true} where I<:Union{Tuple{Vararg{Real,N} where N}, Tuple{AbstractUnitRange,Vararg{Any,N} where N}} where A<:DenseArray where N where T, DenseArray}, Base.ReshapedArray{#s661,2,A,MI} where MI<:Tuple{Vararg{Base.MultiplicativeInverses.SignedMultiplicativeInverse{Int64},N} where N} where A<:Union{Base.ReinterpretArray{T,N,S,A} where S where A<:Union{SubArray{T,N,A,I,true} where I<:Union{Tuple{Vararg{Real,N} where N}, Tuple{AbstractUnitRange,Vararg{Any,N} where N}} where A<:DenseArray where N where T, DenseArray} where N where T, SubArray{T,N,A,I,true} where I<:Union{Tuple{Vararg{Real,N} where N}, Tuple{AbstractUnitRange,Vararg{Any,N} where N}} where A<:DenseArray where N where T, DenseArray}, SubArray{#s661,2,A,I,L} where L where I<:Tuple{Vararg{Union{Int64, AbstractRange{Int64}, Base.AbstractCartesianIndex},N} where N} where A<:Union{Base.ReinterpretArray{T,N,S,A} where S where A<:Union{SubArray{T,N,A,I,true} where I<:Union{Tuple{Vararg{Real,N} where N}, Tuple{AbstractUnitRange,Vararg{Any,N} where N}} where A<:DenseArray where N where T, DenseArray} where N where T, Base.ReshapedArray{T,N,A,MI} where MI<:Tuple{Vararg{Base.MultiplicativeInverses.SignedMultiplicativeInverse{Int64},N} where N} where A<:Union{Base.ReinterpretArray{T,N,S,A} where S where A<:Union{SubArray{T,N,A,I,true} where I<:Union{Tuple{Vararg{Real,N} where N}, Tuple{AbstractUnitRange,Vararg{Any,N} where N}} where A<:DenseArray where N where T, DenseArray} where N where T, SubArray{T,N,A,I,true} where I<:Union{Tuple{Vararg{Real,N} where N}, Tuple{AbstractUnitRange,Vararg{Any,N} where N}} where A<:DenseArray where N where T, DenseArray} where N where T, DenseArray}} where #s661<:Union{Complex{Float32}, Complex{Float64}, Float32, Float64}) in LinearAlgebra at C:\\Users\\chuan\\AppData\\Local\\Programs\\Julia\\Julia-1.4.0\\share\\julia\\stdlib\\v1.4\\LinearAlgebra\\src\\matmul.jl:159\n",
       "[207] *(A::Union{DenseArray{#s662,2}, Base.ReinterpretArray{#s662,2,S,A} where S where A<:Union{SubArray{T,N,A,I,true} where I<:Union{Tuple{Vararg{Real,N} where N}, Tuple{AbstractUnitRange,Vararg{Any,N} where N}} where A<:DenseArray where N where T, DenseArray}, Base.ReshapedArray{#s662,2,A,MI} where MI<:Tuple{Vararg{Base.MultiplicativeInverses.SignedMultiplicativeInverse{Int64},N} where N} where A<:Union{Base.ReinterpretArray{T,N,S,A} where S where A<:Union{SubArray{T,N,A,I,true} where I<:Union{Tuple{Vararg{Real,N} where N}, Tuple{AbstractUnitRange,Vararg{Any,N} where N}} where A<:DenseArray where N where T, DenseArray} where N where T, SubArray{T,N,A,I,true} where I<:Union{Tuple{Vararg{Real,N} where N}, Tuple{AbstractUnitRange,Vararg{Any,N} where N}} where A<:DenseArray where N where T, DenseArray}, SubArray{#s662,2,A,I,L} where L where I<:Tuple{Vararg{Union{Int64, AbstractRange{Int64}, Base.AbstractCartesianIndex},N} where N} where A<:Union{Base.ReinterpretArray{T,N,S,A} where S where A<:Union{SubArray{T,N,A,I,true} where I<:Union{Tuple{Vararg{Real,N} where N}, Tuple{AbstractUnitRange,Vararg{Any,N} where N}} where A<:DenseArray where N where T, DenseArray} where N where T, Base.ReshapedArray{T,N,A,MI} where MI<:Tuple{Vararg{Base.MultiplicativeInverses.SignedMultiplicativeInverse{Int64},N} where N} where A<:Union{Base.ReinterpretArray{T,N,S,A} where S where A<:Union{SubArray{T,N,A,I,true} where I<:Union{Tuple{Vararg{Real,N} where N}, Tuple{AbstractUnitRange,Vararg{Any,N} where N}} where A<:DenseArray where N where T, DenseArray} where N where T, SubArray{T,N,A,I,true} where I<:Union{Tuple{Vararg{Real,N} where N}, Tuple{AbstractUnitRange,Vararg{Any,N} where N}} where A<:DenseArray where N where T, DenseArray} where N where T, DenseArray}} where #s662<:Union{Complex{Float32}, Complex{Float64}}, B::Union{DenseArray{#s661,2}, Base.ReinterpretArray{#s661,2,S,A} where S where A<:Union{SubArray{T,N,A,I,true} where I<:Union{Tuple{Vararg{Real,N} where N}, Tuple{AbstractUnitRange,Vararg{Any,N} where N}} where A<:DenseArray where N where T, DenseArray}, Base.ReshapedArray{#s661,2,A,MI} where MI<:Tuple{Vararg{Base.MultiplicativeInverses.SignedMultiplicativeInverse{Int64},N} where N} where A<:Union{Base.ReinterpretArray{T,N,S,A} where S where A<:Union{SubArray{T,N,A,I,true} where I<:Union{Tuple{Vararg{Real,N} where N}, Tuple{AbstractUnitRange,Vararg{Any,N} where N}} where A<:DenseArray where N where T, DenseArray} where N where T, SubArray{T,N,A,I,true} where I<:Union{Tuple{Vararg{Real,N} where N}, Tuple{AbstractUnitRange,Vararg{Any,N} where N}} where A<:DenseArray where N where T, DenseArray}, SubArray{#s661,2,A,I,L} where L where I<:Tuple{Vararg{Union{Int64, AbstractRange{Int64}, Base.AbstractCartesianIndex},N} where N} where A<:Union{Base.ReinterpretArray{T,N,S,A} where S where A<:Union{SubArray{T,N,A,I,true} where I<:Union{Tuple{Vararg{Real,N} where N}, Tuple{AbstractUnitRange,Vararg{Any,N} where N}} where A<:DenseArray where N where T, DenseArray} where N where T, Base.ReshapedArray{T,N,A,MI} where MI<:Tuple{Vararg{Base.MultiplicativeInverses.SignedMultiplicativeInverse{Int64},N} where N} where A<:Union{Base.ReinterpretArray{T,N,S,A} where S where A<:Union{SubArray{T,N,A,I,true} where I<:Union{Tuple{Vararg{Real,N} where N}, Tuple{AbstractUnitRange,Vararg{Any,N} where N}} where A<:DenseArray where N where T, DenseArray} where N where T, SubArray{T,N,A,I,true} where I<:Union{Tuple{Vararg{Real,N} where N}, Tuple{AbstractUnitRange,Vararg{Any,N} where N}} where A<:DenseArray where N where T, DenseArray} where N where T, DenseArray}} where #s661<:Union{Complex{Float32}, Complex{Float64}}) in LinearAlgebra at C:\\Users\\chuan\\AppData\\Local\\Programs\\Julia\\Julia-1.4.0\\share\\julia\\stdlib\\v1.4\\LinearAlgebra\\src\\matmul.jl:163\n",
       "[208] *(A::LinearAlgebra.SymTridiagonal, B::Number) in LinearAlgebra at C:\\Users\\chuan\\AppData\\Local\\Programs\\Julia\\Julia-1.4.0\\share\\julia\\stdlib\\v1.4\\LinearAlgebra\\src\\tridiag.jl:160\n",
       "[209] *(A::LinearAlgebra.Tridiagonal, B::Number) in LinearAlgebra at C:\\Users\\chuan\\AppData\\Local\\Programs\\Julia\\Julia-1.4.0\\share\\julia\\stdlib\\v1.4\\LinearAlgebra\\src\\tridiag.jl:659\n",
       "[210] *(A::LinearAlgebra.UpperTriangular, x::Number) in LinearAlgebra at C:\\Users\\chuan\\AppData\\Local\\Programs\\Julia\\Julia-1.4.0\\share\\julia\\stdlib\\v1.4\\LinearAlgebra\\src\\triangular.jl:837\n",
       "[211] *(A::LinearAlgebra.UnitUpperTriangular, x::Number) in LinearAlgebra at C:\\Users\\chuan\\AppData\\Local\\Programs\\Julia\\Julia-1.4.0\\share\\julia\\stdlib\\v1.4\\LinearAlgebra\\src\\triangular.jl:840\n",
       "[212] *(A::LinearAlgebra.LowerTriangular, x::Number) in LinearAlgebra at C:\\Users\\chuan\\AppData\\Local\\Programs\\Julia\\Julia-1.4.0\\share\\julia\\stdlib\\v1.4\\LinearAlgebra\\src\\triangular.jl:837\n",
       "[213] *(A::LinearAlgebra.UnitLowerTriangular, x::Number) in LinearAlgebra at C:\\Users\\chuan\\AppData\\Local\\Programs\\Julia\\Julia-1.4.0\\share\\julia\\stdlib\\v1.4\\LinearAlgebra\\src\\triangular.jl:840\n",
       "[214] *(A::LinearAlgebra.LowerTriangular, B::LinearAlgebra.LowerTriangular) in LinearAlgebra at C:\\Users\\chuan\\AppData\\Local\\Programs\\Julia\\Julia-1.4.0\\share\\julia\\stdlib\\v1.4\\LinearAlgebra\\src\\triangular.jl:1773\n",
       "[215] *(A::LinearAlgebra.UnitLowerTriangular, B::LinearAlgebra.LowerTriangular) in LinearAlgebra at C:\\Users\\chuan\\AppData\\Local\\Programs\\Julia\\Julia-1.4.0\\share\\julia\\stdlib\\v1.4\\LinearAlgebra\\src\\triangular.jl:1781\n",
       "[216] *(A::LinearAlgebra.UpperTriangular, B::LinearAlgebra.UpperTriangular) in LinearAlgebra at C:\\Users\\chuan\\AppData\\Local\\Programs\\Julia\\Julia-1.4.0\\share\\julia\\stdlib\\v1.4\\LinearAlgebra\\src\\triangular.jl:1789\n",
       "[217] *(A::LinearAlgebra.UnitUpperTriangular, B::LinearAlgebra.UpperTriangular) in LinearAlgebra at C:\\Users\\chuan\\AppData\\Local\\Programs\\Julia\\Julia-1.4.0\\share\\julia\\stdlib\\v1.4\\LinearAlgebra\\src\\triangular.jl:1797\n",
       "[218] *(A::LinearAlgebra.LowerTriangular, xformB::LinearAlgebra.Adjoint{#s662,#s661} where #s661<:LinearAlgebra.UpperTriangular where #s662) in LinearAlgebra at C:\\Users\\chuan\\AppData\\Local\\Programs\\Julia\\Julia-1.4.0\\share\\julia\\stdlib\\v1.4\\LinearAlgebra\\src\\triangular.jl:1886\n",
       "[219] *(A::LinearAlgebra.LowerTriangular, xformB::LinearAlgebra.Adjoint{#s660,#s659} where #s659<:LinearAlgebra.UnitUpperTriangular where #s660) in LinearAlgebra at C:\\Users\\chuan\\AppData\\Local\\Programs\\Julia\\Julia-1.4.0\\share\\julia\\stdlib\\v1.4\\LinearAlgebra\\src\\triangular.jl:1895\n",
       "[220] *(A::LinearAlgebra.UpperTriangular, xformB::LinearAlgebra.Adjoint{#s658,#s657} where #s657<:LinearAlgebra.LowerTriangular where #s658) in LinearAlgebra at C:\\Users\\chuan\\AppData\\Local\\Programs\\Julia\\Julia-1.4.0\\share\\julia\\stdlib\\v1.4\\LinearAlgebra\\src\\triangular.jl:1904\n",
       "[221] *(A::LinearAlgebra.UpperTriangular, xformB::LinearAlgebra.Adjoint{#s656,#s655} where #s655<:LinearAlgebra.UnitLowerTriangular where #s656) in LinearAlgebra at C:\\Users\\chuan\\AppData\\Local\\Programs\\Julia\\Julia-1.4.0\\share\\julia\\stdlib\\v1.4\\LinearAlgebra\\src\\triangular.jl:1913\n",
       "[222] *(A::LinearAlgebra.LowerTriangular, xformB::LinearAlgebra.Transpose{#s662,#s661} where #s661<:LinearAlgebra.UpperTriangular where #s662) in LinearAlgebra at C:\\Users\\chuan\\AppData\\Local\\Programs\\Julia\\Julia-1.4.0\\share\\julia\\stdlib\\v1.4\\LinearAlgebra\\src\\triangular.jl:1886\n",
       "[223] *(A::LinearAlgebra.LowerTriangular, xformB::LinearAlgebra.Transpose{#s660,#s659} where #s659<:LinearAlgebra.UnitUpperTriangular where #s660) in LinearAlgebra at C:\\Users\\chuan\\AppData\\Local\\Programs\\Julia\\Julia-1.4.0\\share\\julia\\stdlib\\v1.4\\LinearAlgebra\\src\\triangular.jl:1895\n",
       "[224] *(A::LinearAlgebra.UpperTriangular, xformB::LinearAlgebra.Transpose{#s658,#s657} where #s657<:LinearAlgebra.LowerTriangular where #s658) in LinearAlgebra at C:\\Users\\chuan\\AppData\\Local\\Programs\\Julia\\Julia-1.4.0\\share\\julia\\stdlib\\v1.4\\LinearAlgebra\\src\\triangular.jl:1904\n",
       "[225] *(A::LinearAlgebra.UpperTriangular, xformB::LinearAlgebra.Transpose{#s656,#s655} where #s655<:LinearAlgebra.UnitLowerTriangular where #s656) in LinearAlgebra at C:\\Users\\chuan\\AppData\\Local\\Programs\\Julia\\Julia-1.4.0\\share\\julia\\stdlib\\v1.4\\LinearAlgebra\\src\\triangular.jl:1913\n",
       "[226] *(A::LinearAlgebra.AbstractTriangular, B::LinearAlgebra.AbstractTriangular) in LinearAlgebra at C:\\Users\\chuan\\AppData\\Local\\Programs\\Julia\\Julia-1.4.0\\share\\julia\\stdlib\\v1.4\\LinearAlgebra\\src\\triangular.jl:1925\n",
       "[227] *(A::LinearAlgebra.AbstractTriangular, adjB::LinearAlgebra.Adjoint{#s662,#s661} where #s661<:LinearAlgebra.AbstractTriangular where #s662) in LinearAlgebra at C:\\Users\\chuan\\AppData\\Local\\Programs\\Julia\\Julia-1.4.0\\share\\julia\\stdlib\\v1.4\\LinearAlgebra\\src\\triangular.jl:1946\n",
       "[228] *(A::LinearAlgebra.AbstractTriangular, transB::LinearAlgebra.Transpose{#s662,#s661} where #s661<:LinearAlgebra.AbstractTriangular where #s662) in LinearAlgebra at C:\\Users\\chuan\\AppData\\Local\\Programs\\Julia\\Julia-1.4.0\\share\\julia\\stdlib\\v1.4\\LinearAlgebra\\src\\triangular.jl:1953\n",
       "[229] *(A::LinearAlgebra.AbstractTriangular, adjB::LinearAlgebra.Adjoint{#s662,#s661} where #s661<:(Union{LinearAlgebra.Hermitian{Complex{T},S}, LinearAlgebra.Hermitian{T,S}, LinearAlgebra.Symmetric{T,S}} where S where T<:Real) where #s662) in LinearAlgebra at C:\\Users\\chuan\\AppData\\Local\\Programs\\Julia\\Julia-1.4.0\\share\\julia\\stdlib\\v1.4\\LinearAlgebra\\src\\symmetric.jl:610\n",
       "[230] *(A::LinearAlgebra.AbstractTriangular, adjB::LinearAlgebra.Adjoint{#s662,#s661} where #s661<:Union{LinearAlgebra.QRCompactWYQ, LinearAlgebra.QRPackedQ} where #s662) in LinearAlgebra at C:\\Users\\chuan\\AppData\\Local\\Programs\\Julia\\Julia-1.4.0\\share\\julia\\stdlib\\v1.4\\LinearAlgebra\\src\\special.jl:296\n",
       "[231] *(A::LinearAlgebra.AbstractTriangular, B::LinearAlgebra.Adjoint{#s662,#s661} where #s661<:(AbstractArray{T,2} where T) where #s662) in LinearAlgebra at C:\\Users\\chuan\\AppData\\Local\\Programs\\Julia\\Julia-1.4.0\\share\\julia\\stdlib\\v1.4\\LinearAlgebra\\src\\triangular.jl:2131\n",
       "[232] *(A::LinearAlgebra.AbstractTriangular, transB::LinearAlgebra.Transpose{#s662,#s661} where #s661<:(Union{LinearAlgebra.Hermitian{T,S}, LinearAlgebra.Symmetric{Complex{T},S}, LinearAlgebra.Symmetric{T,S}} where S where T<:Real) where #s662) in LinearAlgebra at C:\\Users\\chuan\\AppData\\Local\\Programs\\Julia\\Julia-1.4.0\\share\\julia\\stdlib\\v1.4\\LinearAlgebra\\src\\symmetric.jl:608\n",
       "[233] *(A::LinearAlgebra.AbstractTriangular, B::LinearAlgebra.Transpose{#s662,#s661} where #s661<:(AbstractArray{T,2} where T) where #s662) in LinearAlgebra at C:\\Users\\chuan\\AppData\\Local\\Programs\\Julia\\Julia-1.4.0\\share\\julia\\stdlib\\v1.4\\LinearAlgebra\\src\\triangular.jl:2132\n",
       "[234] *(A::LinearAlgebra.AbstractTriangular, B::LinearAlgebra.Adjoint{#s662,#s661} where #s661<:(AbstractArray{T,1} where T) where #s662) in LinearAlgebra at C:\\Users\\chuan\\AppData\\Local\\Programs\\Julia\\Julia-1.4.0\\share\\julia\\stdlib\\v1.4\\LinearAlgebra\\src\\triangular.jl:2636\n",
       "[235] *(A::LinearAlgebra.AbstractTriangular, B::LinearAlgebra.Transpose{#s662,#s661} where #s661<:(AbstractArray{T,1} where T) where #s662) in LinearAlgebra at C:\\Users\\chuan\\AppData\\Local\\Programs\\Julia\\Julia-1.4.0\\share\\julia\\stdlib\\v1.4\\LinearAlgebra\\src\\triangular.jl:2637\n",
       "[236] *(A::LinearAlgebra.AbstractTriangular, D::LinearAlgebra.Diagonal) in LinearAlgebra at C:\\Users\\chuan\\AppData\\Local\\Programs\\Julia\\Julia-1.4.0\\share\\julia\\stdlib\\v1.4\\LinearAlgebra\\src\\diagonal.jl:165\n",
       "[237] *(A::LinearAlgebra.AbstractTriangular, B::Union{LinearAlgebra.SymTridiagonal, LinearAlgebra.Tridiagonal}) in LinearAlgebra at C:\\Users\\chuan\\AppData\\Local\\Programs\\Julia\\Julia-1.4.0\\share\\julia\\stdlib\\v1.4\\LinearAlgebra\\src\\bidiag.jl:585\n",
       "[238] *(A::Union{LinearAlgebra.UnitUpperTriangular, LinearAlgebra.UpperTriangular}, B::LinearAlgebra.Bidiagonal) in LinearAlgebra at C:\\Users\\chuan\\AppData\\Local\\Programs\\Julia\\Julia-1.4.0\\share\\julia\\stdlib\\v1.4\\LinearAlgebra\\src\\bidiag.jl:595\n",
       "[239] *(A::Union{LinearAlgebra.LowerTriangular, LinearAlgebra.UnitLowerTriangular}, B::LinearAlgebra.Bidiagonal) in LinearAlgebra at C:\\Users\\chuan\\AppData\\Local\\Programs\\Julia\\Julia-1.4.0\\share\\julia\\stdlib\\v1.4\\LinearAlgebra\\src\\bidiag.jl:613\n",
       "[240] *(A::LinearAlgebra.AbstractTriangular, B::LinearAlgebra.Adjoint{#s662,#s661} where #s661<:LinearAlgebra.AbstractRotation where #s662) in LinearAlgebra at C:\\Users\\chuan\\AppData\\Local\\Programs\\Julia\\Julia-1.4.0\\share\\julia\\stdlib\\v1.4\\LinearAlgebra\\src\\givens.jl:400\n",
       "[241] *(A::Union{DenseArray{Ta,2}, Base.ReinterpretArray{Ta,2,S,A} where S where A<:Union{SubArray{T,N,A,I,true} where I<:Union{Tuple{Vararg{Real,N} where N}, Tuple{AbstractUnitRange,Vararg{Any,N} where N}} where A<:DenseArray where N where T, DenseArray}, Base.ReshapedArray{Ta,2,A,MI} where MI<:Tuple{Vararg{Base.MultiplicativeInverses.SignedMultiplicativeInverse{Int64},N} where N} where A<:Union{Base.ReinterpretArray{T,N,S,A} where S where A<:Union{SubArray{T,N,A,I,true} where I<:Union{Tuple{Vararg{Real,N} where N}, Tuple{AbstractUnitRange,Vararg{Any,N} where N}} where A<:DenseArray where N where T, DenseArray} where N where T, SubArray{T,N,A,I,true} where I<:Union{Tuple{Vararg{Real,N} where N}, Tuple{AbstractUnitRange,Vararg{Any,N} where N}} where A<:DenseArray where N where T, DenseArray}, SubArray{Ta,2,A,I,L} where L where I<:Tuple{Vararg{Union{Int64, AbstractRange{Int64}, Base.AbstractCartesianIndex},N} where N} where A<:Union{Base.ReinterpretArray{T,N,S,A} where S where A<:Union{SubArray{T,N,A,I,true} where I<:Union{Tuple{Vararg{Real,N} where N}, Tuple{AbstractUnitRange,Vararg{Any,N} where N}} where A<:DenseArray where N where T, DenseArray} where N where T, Base.ReshapedArray{T,N,A,MI} where MI<:Tuple{Vararg{Base.MultiplicativeInverses.SignedMultiplicativeInverse{Int64},N} where N} where A<:Union{Base.ReinterpretArray{T,N,S,A} where S where A<:Union{SubArray{T,N,A,I,true} where I<:Union{Tuple{Vararg{Real,N} where N}, Tuple{AbstractUnitRange,Vararg{Any,N} where N}} where A<:DenseArray where N where T, DenseArray} where N where T, SubArray{T,N,A,I,true} where I<:Union{Tuple{Vararg{Real,N} where N}, Tuple{AbstractUnitRange,Vararg{Any,N} where N}} where A<:DenseArray where N where T, DenseArray} where N where T, DenseArray}, LinearAlgebra.LowerTriangular{Ta,S} where S<:AbstractArray{Ta,2}, LinearAlgebra.UnitLowerTriangular{Ta,S} where S<:AbstractArray{Ta,2}, LinearAlgebra.UnitUpperTriangular{Ta,S} where S<:AbstractArray{Ta,2}, LinearAlgebra.UpperTriangular{Ta,S} where S<:AbstractArray{Ta,2}}, x::SparseArrays.AbstractSparseArray{Tx,Ti,1} where Ti) where {Ta, Tx} in SparseArrays at C:\\Users\\chuan\\AppData\\Local\\Programs\\Julia\\Julia-1.4.0\\share\\julia\\stdlib\\v1.4\\SparseArrays\\src\\sparsevector.jl:1495\n",
       "[242] *(A::LinearAlgebra.AbstractTriangular, B::AbstractArray{T,1} where T) in LinearAlgebra at C:\\Users\\chuan\\AppData\\Local\\Programs\\Julia\\Julia-1.4.0\\share\\julia\\stdlib\\v1.4\\LinearAlgebra\\src\\triangular.jl:1964\n",
       "[243] *(A::LinearAlgebra.AbstractTriangular, B::AbstractArray{T,2} where T) in LinearAlgebra at C:\\Users\\chuan\\AppData\\Local\\Programs\\Julia\\Julia-1.4.0\\share\\julia\\stdlib\\v1.4\\LinearAlgebra\\src\\triangular.jl:1964\n",
       "[244] *(A::LinearAlgebra.Adjoint{#s662,#s661} where #s661<:(AbstractArray{T,2} where T) where #s662, B::LinearAlgebra.AbstractTriangular) in LinearAlgebra at C:\\Users\\chuan\\AppData\\Local\\Programs\\Julia\\Julia-1.4.0\\share\\julia\\stdlib\\v1.4\\LinearAlgebra\\src\\triangular.jl:2129\n",
       "[245] *(A::LinearAlgebra.Transpose{#s662,#s661} where #s661<:(AbstractArray{T,2} where T) where #s662, B::LinearAlgebra.AbstractTriangular) in LinearAlgebra at C:\\Users\\chuan\\AppData\\Local\\Programs\\Julia\\Julia-1.4.0\\share\\julia\\stdlib\\v1.4\\LinearAlgebra\\src\\triangular.jl:2130\n",
       "[246] *(A::LinearAlgebra.Adjoint{#s662,#s661} where #s661<:(AbstractArray{T,2} where T) where #s662, B::LinearAlgebra.Adjoint{#s660,#s659} where #s659<:LinearAlgebra.AbstractTriangular where #s660) in LinearAlgebra at C:\\Users\\chuan\\AppData\\Local\\Programs\\Julia\\Julia-1.4.0\\share\\julia\\stdlib\\v1.4\\LinearAlgebra\\src\\triangular.jl:2135\n",
       "[247] *(A::LinearAlgebra.Transpose{#s662,#s661} where #s661<:(AbstractArray{T,2} where T) where #s662, B::LinearAlgebra.Transpose{#s660,#s659} where #s659<:LinearAlgebra.AbstractTriangular where #s660) in LinearAlgebra at C:\\Users\\chuan\\AppData\\Local\\Programs\\Julia\\Julia-1.4.0\\share\\julia\\stdlib\\v1.4\\LinearAlgebra\\src\\triangular.jl:2138\n",
       "[248] *(A::LinearAlgebra.Adjoint{#s662,#s661} where #s661<:(AbstractArray{T,2} where T) where #s662, B::LinearAlgebra.Transpose{#s660,#s659} where #s659<:LinearAlgebra.AbstractTriangular where #s660) in LinearAlgebra at C:\\Users\\chuan\\AppData\\Local\\Programs\\Julia\\Julia-1.4.0\\share\\julia\\stdlib\\v1.4\\LinearAlgebra\\src\\triangular.jl:2650\n",
       "[249] *(A::LinearAlgebra.Transpose{#s662,#s661} where #s661<:(AbstractArray{T,2} where T) where #s662, B::LinearAlgebra.Adjoint{#s660,#s659} where #s659<:LinearAlgebra.AbstractTriangular where #s660) in LinearAlgebra at C:\\Users\\chuan\\AppData\\Local\\Programs\\Julia\\Julia-1.4.0\\share\\julia\\stdlib\\v1.4\\LinearAlgebra\\src\\triangular.jl:2652\n",
       "[250] *(A::LinearAlgebra.AbstractQ, b::Union{DenseArray{T,1}, Base.ReinterpretArray{T,1,S,A} where S where A<:Union{SubArray{T,N,A,I,true} where I<:Union{Tuple{Vararg{Real,N} where N}, Tuple{AbstractUnitRange,Vararg{Any,N} where N}} where A<:DenseArray where N where T, DenseArray}, Base.ReshapedArray{T,1,A,MI} where MI<:Tuple{Vararg{Base.MultiplicativeInverses.SignedMultiplicativeInverse{Int64},N} where N} where A<:Union{Base.ReinterpretArray{T,N,S,A} where S where A<:Union{SubArray{T,N,A,I,true} where I<:Union{Tuple{Vararg{Real,N} where N}, Tuple{AbstractUnitRange,Vararg{Any,N} where N}} where A<:DenseArray where N where T, DenseArray} where N where T, SubArray{T,N,A,I,true} where I<:Union{Tuple{Vararg{Real,N} where N}, Tuple{AbstractUnitRange,Vararg{Any,N} where N}} where A<:DenseArray where N where T, DenseArray}, SubArray{T,1,A,I,L} where L where I<:Tuple{Vararg{Union{Int64, AbstractRange{Int64}, Base.AbstractCartesianIndex},N} where N} where A<:Union{Base.ReinterpretArray{T,N,S,A} where S where A<:Union{SubArray{T,N,A,I,true} where I<:Union{Tuple{Vararg{Real,N} where N}, Tuple{AbstractUnitRange,Vararg{Any,N} where N}} where A<:DenseArray where N where T, DenseArray} where N where T, Base.ReshapedArray{T,N,A,MI} where MI<:Tuple{Vararg{Base.MultiplicativeInverses.SignedMultiplicativeInverse{Int64},N} where N} where A<:Union{Base.ReinterpretArray{T,N,S,A} where S where A<:Union{SubArray{T,N,A,I,true} where I<:Union{Tuple{Vararg{Real,N} where N}, Tuple{AbstractUnitRange,Vararg{Any,N} where N}} where A<:DenseArray where N where T, DenseArray} where N where T, SubArray{T,N,A,I,true} where I<:Union{Tuple{Vararg{Real,N} where N}, Tuple{AbstractUnitRange,Vararg{Any,N} where N}} where A<:DenseArray where N where T, DenseArray} where N where T, DenseArray}} where T) in LinearAlgebra at C:\\Users\\chuan\\AppData\\Local\\Programs\\Julia\\Julia-1.4.0\\share\\julia\\stdlib\\v1.4\\LinearAlgebra\\src\\qr.jl:567\n",
       "[251] *(A::LinearAlgebra.AbstractQ, B::Union{DenseArray{T,2}, Base.ReinterpretArray{T,2,S,A} where S where A<:Union{SubArray{T,N,A,I,true} where I<:Union{Tuple{Vararg{Real,N} where N}, Tuple{AbstractUnitRange,Vararg{Any,N} where N}} where A<:DenseArray where N where T, DenseArray}, Base.ReshapedArray{T,2,A,MI} where MI<:Tuple{Vararg{Base.MultiplicativeInverses.SignedMultiplicativeInverse{Int64},N} where N} where A<:Union{Base.ReinterpretArray{T,N,S,A} where S where A<:Union{SubArray{T,N,A,I,true} where I<:Union{Tuple{Vararg{Real,N} where N}, Tuple{AbstractUnitRange,Vararg{Any,N} where N}} where A<:DenseArray where N where T, DenseArray} where N where T, SubArray{T,N,A,I,true} where I<:Union{Tuple{Vararg{Real,N} where N}, Tuple{AbstractUnitRange,Vararg{Any,N} where N}} where A<:DenseArray where N where T, DenseArray}, SubArray{T,2,A,I,L} where L where I<:Tuple{Vararg{Union{Int64, AbstractRange{Int64}, Base.AbstractCartesianIndex},N} where N} where A<:Union{Base.ReinterpretArray{T,N,S,A} where S where A<:Union{SubArray{T,N,A,I,true} where I<:Union{Tuple{Vararg{Real,N} where N}, Tuple{AbstractUnitRange,Vararg{Any,N} where N}} where A<:DenseArray where N where T, DenseArray} where N where T, Base.ReshapedArray{T,N,A,MI} where MI<:Tuple{Vararg{Base.MultiplicativeInverses.SignedMultiplicativeInverse{Int64},N} where N} where A<:Union{Base.ReinterpretArray{T,N,S,A} where S where A<:Union{SubArray{T,N,A,I,true} where I<:Union{Tuple{Vararg{Real,N} where N}, Tuple{AbstractUnitRange,Vararg{Any,N} where N}} where A<:DenseArray where N where T, DenseArray} where N where T, SubArray{T,N,A,I,true} where I<:Union{Tuple{Vararg{Real,N} where N}, Tuple{AbstractUnitRange,Vararg{Any,N} where N}} where A<:DenseArray where N where T, DenseArray} where N where T, DenseArray}} where T) in LinearAlgebra at C:\\Users\\chuan\\AppData\\Local\\Programs\\Julia\\Julia-1.4.0\\share\\julia\\stdlib\\v1.4\\LinearAlgebra\\src\\qr.jl:579\n",
       "[252] *(Q::LinearAlgebra.AbstractQ, adjB::LinearAlgebra.Adjoint{#s662,#s661} where #s661<:(Union{DenseArray{T,2}, DenseArray{T,1}, Base.ReinterpretArray{T,2,S,A} where S where A<:Union{SubArray{T,N,A,I,true} where I<:Union{Tuple{Vararg{Real,N} where N}, Tuple{AbstractUnitRange,Vararg{Any,N} where N}} where A<:DenseArray where N where T, DenseArray}, Base.ReinterpretArray{T,1,S,A} where S where A<:Union{SubArray{T,N,A,I,true} where I<:Union{Tuple{Vararg{Real,N} where N}, Tuple{AbstractUnitRange,Vararg{Any,N} where N}} where A<:DenseArray where N where T, DenseArray}, Base.ReshapedArray{T,2,A,MI} where MI<:Tuple{Vararg{Base.MultiplicativeInverses.SignedMultiplicativeInverse{Int64},N} where N} where A<:Union{Base.ReinterpretArray{T,N,S,A} where S where A<:Union{SubArray{T,N,A,I,true} where I<:Union{Tuple{Vararg{Real,N} where N}, Tuple{AbstractUnitRange,Vararg{Any,N} where N}} where A<:DenseArray where N where T, DenseArray} where N where T, SubArray{T,N,A,I,true} where I<:Union{Tuple{Vararg{Real,N} where N}, Tuple{AbstractUnitRange,Vararg{Any,N} where N}} where A<:DenseArray where N where T, DenseArray}, Base.ReshapedArray{T,1,A,MI} where MI<:Tuple{Vararg{Base.MultiplicativeInverses.SignedMultiplicativeInverse{Int64},N} where N} where A<:Union{Base.ReinterpretArray{T,N,S,A} where S where A<:Union{SubArray{T,N,A,I,true} where I<:Union{Tuple{Vararg{Real,N} where N}, Tuple{AbstractUnitRange,Vararg{Any,N} where N}} where A<:DenseArray where N where T, DenseArray} where N where T, SubArray{T,N,A,I,true} where I<:Union{Tuple{Vararg{Real,N} where N}, Tuple{AbstractUnitRange,Vararg{Any,N} where N}} where A<:DenseArray where N where T, DenseArray}, SubArray{T,2,A,I,L} where L where I<:Tuple{Vararg{Union{Int64, AbstractRange{Int64}, Base.AbstractCartesianIndex},N} where N} where A<:Union{Base.ReinterpretArray{T,N,S,A} where S where A<:Union{SubArray{T,N,A,I,true} where I<:Union{Tuple{Vararg{Real,N} where N}, Tuple{AbstractUnitRange,Vararg{Any,N} where N}} where A<:DenseArray where N where T, DenseArray} where N where T, Base.ReshapedArray{T,N,A,MI} where MI<:Tuple{Vararg{Base.MultiplicativeInverses.SignedMultiplicativeInverse{Int64},N} where N} where A<:Union{Base.ReinterpretArray{T,N,S,A} where S where A<:Union{SubArray{T,N,A,I,true} where I<:Union{Tuple{Vararg{Real,N} where N}, Tuple{AbstractUnitRange,Vararg{Any,N} where N}} where A<:DenseArray where N where T, DenseArray} where N where T, SubArray{T,N,A,I,true} where I<:Union{Tuple{Vararg{Real,N} where N}, Tuple{AbstractUnitRange,Vararg{Any,N} where N}} where A<:DenseArray where N where T, DenseArray} where N where T, DenseArray}, SubArray{T,1,A,I,L} where L where I<:Tuple{Vararg{Union{Int64, AbstractRange{Int64}, Base.AbstractCartesianIndex},N} where N} where A<:Union{Base.ReinterpretArray{T,N,S,A} where S where A<:Union{SubArray{T,N,A,I,true} where I<:Union{Tuple{Vararg{Real,N} where N}, Tuple{AbstractUnitRange,Vararg{Any,N} where N}} where A<:DenseArray where N where T, DenseArray} where N where T, Base.ReshapedArray{T,N,A,MI} where MI<:Tuple{Vararg{Base.MultiplicativeInverses.SignedMultiplicativeInverse{Int64},N} where N} where A<:Union{Base.ReinterpretArray{T,N,S,A} where S where A<:Union{SubArray{T,N,A,I,true} where I<:Union{Tuple{Vararg{Real,N} where N}, Tuple{AbstractUnitRange,Vararg{Any,N} where N}} where A<:DenseArray where N where T, DenseArray} where N where T, SubArray{T,N,A,I,true} where I<:Union{Tuple{Vararg{Real,N} where N}, Tuple{AbstractUnitRange,Vararg{Any,N} where N}} where A<:DenseArray where N where T, DenseArray} where N where T, DenseArray}} where T) where #s662) in LinearAlgebra at C:\\Users\\chuan\\AppData\\Local\\Programs\\Julia\\Julia-1.4.0\\share\\julia\\stdlib\\v1.4\\LinearAlgebra\\src\\qr.jl:634\n",
       "[253] *(A::Union{DenseArray{T,2}, Base.ReinterpretArray{T,2,S,A} where S where A<:Union{SubArray{T,N,A,I,true} where I<:Union{Tuple{Vararg{Real,N} where N}, Tuple{AbstractUnitRange,Vararg{Any,N} where N}} where A<:DenseArray where N where T, DenseArray}, Base.ReshapedArray{T,2,A,MI} where MI<:Tuple{Vararg{Base.MultiplicativeInverses.SignedMultiplicativeInverse{Int64},N} where N} where A<:Union{Base.ReinterpretArray{T,N,S,A} where S where A<:Union{SubArray{T,N,A,I,true} where I<:Union{Tuple{Vararg{Real,N} where N}, Tuple{AbstractUnitRange,Vararg{Any,N} where N}} where A<:DenseArray where N where T, DenseArray} where N where T, SubArray{T,N,A,I,true} where I<:Union{Tuple{Vararg{Real,N} where N}, Tuple{AbstractUnitRange,Vararg{Any,N} where N}} where A<:DenseArray where N where T, DenseArray}, SubArray{T,2,A,I,L} where L where I<:Tuple{Vararg{Union{Int64, AbstractRange{Int64}, Base.AbstractCartesianIndex},N} where N} where A<:Union{Base.ReinterpretArray{T,N,S,A} where S where A<:Union{SubArray{T,N,A,I,true} where I<:Union{Tuple{Vararg{Real,N} where N}, Tuple{AbstractUnitRange,Vararg{Any,N} where N}} where A<:DenseArray where N where T, DenseArray} where N where T, Base.ReshapedArray{T,N,A,MI} where MI<:Tuple{Vararg{Base.MultiplicativeInverses.SignedMultiplicativeInverse{Int64},N} where N} where A<:Union{Base.ReinterpretArray{T,N,S,A} where S where A<:Union{SubArray{T,N,A,I,true} where I<:Union{Tuple{Vararg{Real,N} where N}, Tuple{AbstractUnitRange,Vararg{Any,N} where N}} where A<:DenseArray where N where T, DenseArray} where N where T, SubArray{T,N,A,I,true} where I<:Union{Tuple{Vararg{Real,N} where N}, Tuple{AbstractUnitRange,Vararg{Any,N} where N}} where A<:DenseArray where N where T, DenseArray} where N where T, DenseArray}} where T, Q::LinearAlgebra.AbstractQ) in LinearAlgebra at C:\\Users\\chuan\\AppData\\Local\\Programs\\Julia\\Julia-1.4.0\\share\\julia\\stdlib\\v1.4\\LinearAlgebra\\src\\qr.jl:679\n",
       "[254] *(A::Union{DenseArray{T,2}, Base.ReinterpretArray{T,2,S,A} where S where A<:Union{SubArray{T,N,A,I,true} where I<:Union{Tuple{Vararg{Real,N} where N}, Tuple{AbstractUnitRange,Vararg{Any,N} where N}} where A<:DenseArray where N where T, DenseArray}, Base.ReshapedArray{T,2,A,MI} where MI<:Tuple{Vararg{Base.MultiplicativeInverses.SignedMultiplicativeInverse{Int64},N} where N} where A<:Union{Base.ReinterpretArray{T,N,S,A} where S where A<:Union{SubArray{T,N,A,I,true} where I<:Union{Tuple{Vararg{Real,N} where N}, Tuple{AbstractUnitRange,Vararg{Any,N} where N}} where A<:DenseArray where N where T, DenseArray} where N where T, SubArray{T,N,A,I,true} where I<:Union{Tuple{Vararg{Real,N} where N}, Tuple{AbstractUnitRange,Vararg{Any,N} where N}} where A<:DenseArray where N where T, DenseArray}, SubArray{T,2,A,I,L} where L where I<:Tuple{Vararg{Union{Int64, AbstractRange{Int64}, Base.AbstractCartesianIndex},N} where N} where A<:Union{Base.ReinterpretArray{T,N,S,A} where S where A<:Union{SubArray{T,N,A,I,true} where I<:Union{Tuple{Vararg{Real,N} where N}, Tuple{AbstractUnitRange,Vararg{Any,N} where N}} where A<:DenseArray where N where T, DenseArray} where N where T, Base.ReshapedArray{T,N,A,MI} where MI<:Tuple{Vararg{Base.MultiplicativeInverses.SignedMultiplicativeInverse{Int64},N} where N} where A<:Union{Base.ReinterpretArray{T,N,S,A} where S where A<:Union{SubArray{T,N,A,I,true} where I<:Union{Tuple{Vararg{Real,N} where N}, Tuple{AbstractUnitRange,Vararg{Any,N} where N}} where A<:DenseArray where N where T, DenseArray} where N where T, SubArray{T,N,A,I,true} where I<:Union{Tuple{Vararg{Real,N} where N}, Tuple{AbstractUnitRange,Vararg{Any,N} where N}} where A<:DenseArray where N where T, DenseArray} where N where T, DenseArray}} where T, adjB::LinearAlgebra.Adjoint{#s662,#s661} where #s661<:LinearAlgebra.AbstractQ where #s662) in LinearAlgebra at C:\\Users\\chuan\\AppData\\Local\\Programs\\Julia\\Julia-1.4.0\\share\\julia\\stdlib\\v1.4\\LinearAlgebra\\src\\qr.jl:719\n",
       "[255] *(A::LinearAlgebra.LQPackedQ, B::Union{DenseArray{T,2}, DenseArray{T,1}, Base.ReinterpretArray{T,2,S,A} where S where A<:Union{SubArray{T,N,A,I,true} where I<:Union{Tuple{Vararg{Real,N} where N}, Tuple{AbstractUnitRange,Vararg{Any,N} where N}} where A<:DenseArray where N where T, DenseArray}, Base.ReinterpretArray{T,1,S,A} where S where A<:Union{SubArray{T,N,A,I,true} where I<:Union{Tuple{Vararg{Real,N} where N}, Tuple{AbstractUnitRange,Vararg{Any,N} where N}} where A<:DenseArray where N where T, DenseArray}, Base.ReshapedArray{T,2,A,MI} where MI<:Tuple{Vararg{Base.MultiplicativeInverses.SignedMultiplicativeInverse{Int64},N} where N} where A<:Union{Base.ReinterpretArray{T,N,S,A} where S where A<:Union{SubArray{T,N,A,I,true} where I<:Union{Tuple{Vararg{Real,N} where N}, Tuple{AbstractUnitRange,Vararg{Any,N} where N}} where A<:DenseArray where N where T, DenseArray} where N where T, SubArray{T,N,A,I,true} where I<:Union{Tuple{Vararg{Real,N} where N}, Tuple{AbstractUnitRange,Vararg{Any,N} where N}} where A<:DenseArray where N where T, DenseArray}, Base.ReshapedArray{T,1,A,MI} where MI<:Tuple{Vararg{Base.MultiplicativeInverses.SignedMultiplicativeInverse{Int64},N} where N} where A<:Union{Base.ReinterpretArray{T,N,S,A} where S where A<:Union{SubArray{T,N,A,I,true} where I<:Union{Tuple{Vararg{Real,N} where N}, Tuple{AbstractUnitRange,Vararg{Any,N} where N}} where A<:DenseArray where N where T, DenseArray} where N where T, SubArray{T,N,A,I,true} where I<:Union{Tuple{Vararg{Real,N} where N}, Tuple{AbstractUnitRange,Vararg{Any,N} where N}} where A<:DenseArray where N where T, DenseArray}, SubArray{T,2,A,I,L} where L where I<:Tuple{Vararg{Union{Int64, AbstractRange{Int64}, Base.AbstractCartesianIndex},N} where N} where A<:Union{Base.ReinterpretArray{T,N,S,A} where S where A<:Union{SubArray{T,N,A,I,true} where I<:Union{Tuple{Vararg{Real,N} where N}, Tuple{AbstractUnitRange,Vararg{Any,N} where N}} where A<:DenseArray where N where T, DenseArray} where N where T, Base.ReshapedArray{T,N,A,MI} where MI<:Tuple{Vararg{Base.MultiplicativeInverses.SignedMultiplicativeInverse{Int64},N} where N} where A<:Union{Base.ReinterpretArray{T,N,S,A} where S where A<:Union{SubArray{T,N,A,I,true} where I<:Union{Tuple{Vararg{Real,N} where N}, Tuple{AbstractUnitRange,Vararg{Any,N} where N}} where A<:DenseArray where N where T, DenseArray} where N where T, SubArray{T,N,A,I,true} where I<:Union{Tuple{Vararg{Real,N} where N}, Tuple{AbstractUnitRange,Vararg{Any,N} where N}} where A<:DenseArray where N where T, DenseArray} where N where T, DenseArray}, SubArray{T,1,A,I,L} where L where I<:Tuple{Vararg{Union{Int64, AbstractRange{Int64}, Base.AbstractCartesianIndex},N} where N} where A<:Union{Base.ReinterpretArray{T,N,S,A} where S where A<:Union{SubArray{T,N,A,I,true} where I<:Union{Tuple{Vararg{Real,N} where N}, Tuple{AbstractUnitRange,Vararg{Any,N} where N}} where A<:DenseArray where N where T, DenseArray} where N where T, Base.ReshapedArray{T,N,A,MI} where MI<:Tuple{Vararg{Base.MultiplicativeInverses.SignedMultiplicativeInverse{Int64},N} where N} where A<:Union{Base.ReinterpretArray{T,N,S,A} where S where A<:Union{SubArray{T,N,A,I,true} where I<:Union{Tuple{Vararg{Real,N} where N}, Tuple{AbstractUnitRange,Vararg{Any,N} where N}} where A<:DenseArray where N where T, DenseArray} where N where T, SubArray{T,N,A,I,true} where I<:Union{Tuple{Vararg{Real,N} where N}, Tuple{AbstractUnitRange,Vararg{Any,N} where N}} where A<:DenseArray where N where T, DenseArray} where N where T, DenseArray}} where T) in LinearAlgebra at C:\\Users\\chuan\\AppData\\Local\\Programs\\Julia\\Julia-1.4.0\\share\\julia\\stdlib\\v1.4\\LinearAlgebra\\src\\lq.jl:188\n",
       "[256] *(A::LinearAlgebra.LQPackedQ, adjB::LinearAlgebra.Adjoint{#s662,#s661} where #s661<:(Union{DenseArray{T,2}, DenseArray{T,1}, Base.ReinterpretArray{T,2,S,A} where S where A<:Union{SubArray{T,N,A,I,true} where I<:Union{Tuple{Vararg{Real,N} where N}, Tuple{AbstractUnitRange,Vararg{Any,N} where N}} where A<:DenseArray where N where T, DenseArray}, Base.ReinterpretArray{T,1,S,A} where S where A<:Union{SubArray{T,N,A,I,true} where I<:Union{Tuple{Vararg{Real,N} where N}, Tuple{AbstractUnitRange,Vararg{Any,N} where N}} where A<:DenseArray where N where T, DenseArray}, Base.ReshapedArray{T,2,A,MI} where MI<:Tuple{Vararg{Base.MultiplicativeInverses.SignedMultiplicativeInverse{Int64},N} where N} where A<:Union{Base.ReinterpretArray{T,N,S,A} where S where A<:Union{SubArray{T,N,A,I,true} where I<:Union{Tuple{Vararg{Real,N} where N}, Tuple{AbstractUnitRange,Vararg{Any,N} where N}} where A<:DenseArray where N where T, DenseArray} where N where T, SubArray{T,N,A,I,true} where I<:Union{Tuple{Vararg{Real,N} where N}, Tuple{AbstractUnitRange,Vararg{Any,N} where N}} where A<:DenseArray where N where T, DenseArray}, Base.ReshapedArray{T,1,A,MI} where MI<:Tuple{Vararg{Base.MultiplicativeInverses.SignedMultiplicativeInverse{Int64},N} where N} where A<:Union{Base.ReinterpretArray{T,N,S,A} where S where A<:Union{SubArray{T,N,A,I,true} where I<:Union{Tuple{Vararg{Real,N} where N}, Tuple{AbstractUnitRange,Vararg{Any,N} where N}} where A<:DenseArray where N where T, DenseArray} where N where T, SubArray{T,N,A,I,true} where I<:Union{Tuple{Vararg{Real,N} where N}, Tuple{AbstractUnitRange,Vararg{Any,N} where N}} where A<:DenseArray where N where T, DenseArray}, SubArray{T,2,A,I,L} where L where I<:Tuple{Vararg{Union{Int64, AbstractRange{Int64}, Base.AbstractCartesianIndex},N} where N} where A<:Union{Base.ReinterpretArray{T,N,S,A} where S where A<:Union{SubArray{T,N,A,I,true} where I<:Union{Tuple{Vararg{Real,N} where N}, Tuple{AbstractUnitRange,Vararg{Any,N} where N}} where A<:DenseArray where N where T, DenseArray} where N where T, Base.ReshapedArray{T,N,A,MI} where MI<:Tuple{Vararg{Base.MultiplicativeInverses.SignedMultiplicativeInverse{Int64},N} where N} where A<:Union{Base.ReinterpretArray{T,N,S,A} where S where A<:Union{SubArray{T,N,A,I,true} where I<:Union{Tuple{Vararg{Real,N} where N}, Tuple{AbstractUnitRange,Vararg{Any,N} where N}} where A<:DenseArray where N where T, DenseArray} where N where T, SubArray{T,N,A,I,true} where I<:Union{Tuple{Vararg{Real,N} where N}, Tuple{AbstractUnitRange,Vararg{Any,N} where N}} where A<:DenseArray where N where T, DenseArray} where N where T, DenseArray}, SubArray{T,1,A,I,L} where L where I<:Tuple{Vararg{Union{Int64, AbstractRange{Int64}, Base.AbstractCartesianIndex},N} where N} where A<:Union{Base.ReinterpretArray{T,N,S,A} where S where A<:Union{SubArray{T,N,A,I,true} where I<:Union{Tuple{Vararg{Real,N} where N}, Tuple{AbstractUnitRange,Vararg{Any,N} where N}} where A<:DenseArray where N where T, DenseArray} where N where T, Base.ReshapedArray{T,N,A,MI} where MI<:Tuple{Vararg{Base.MultiplicativeInverses.SignedMultiplicativeInverse{Int64},N} where N} where A<:Union{Base.ReinterpretArray{T,N,S,A} where S where A<:Union{SubArray{T,N,A,I,true} where I<:Union{Tuple{Vararg{Real,N} where N}, Tuple{AbstractUnitRange,Vararg{Any,N} where N}} where A<:DenseArray where N where T, DenseArray} where N where T, SubArray{T,N,A,I,true} where I<:Union{Tuple{Vararg{Real,N} where N}, Tuple{AbstractUnitRange,Vararg{Any,N} where N}} where A<:DenseArray where N where T, DenseArray} where N where T, DenseArray}} where T) where #s662) in LinearAlgebra at C:\\Users\\chuan\\AppData\\Local\\Programs\\Julia\\Julia-1.4.0\\share\\julia\\stdlib\\v1.4\\LinearAlgebra\\src\\lq.jl:212\n",
       "[257] *(A::Union{DenseArray{T,2}, DenseArray{T,1}, Base.ReinterpretArray{T,2,S,A} where S where A<:Union{SubArray{T,N,A,I,true} where I<:Union{Tuple{Vararg{Real,N} where N}, Tuple{AbstractUnitRange,Vararg{Any,N} where N}} where A<:DenseArray where N where T, DenseArray}, Base.ReinterpretArray{T,1,S,A} where S where A<:Union{SubArray{T,N,A,I,true} where I<:Union{Tuple{Vararg{Real,N} where N}, Tuple{AbstractUnitRange,Vararg{Any,N} where N}} where A<:DenseArray where N where T, DenseArray}, Base.ReshapedArray{T,2,A,MI} where MI<:Tuple{Vararg{Base.MultiplicativeInverses.SignedMultiplicativeInverse{Int64},N} where N} where A<:Union{Base.ReinterpretArray{T,N,S,A} where S where A<:Union{SubArray{T,N,A,I,true} where I<:Union{Tuple{Vararg{Real,N} where N}, Tuple{AbstractUnitRange,Vararg{Any,N} where N}} where A<:DenseArray where N where T, DenseArray} where N where T, SubArray{T,N,A,I,true} where I<:Union{Tuple{Vararg{Real,N} where N}, Tuple{AbstractUnitRange,Vararg{Any,N} where N}} where A<:DenseArray where N where T, DenseArray}, Base.ReshapedArray{T,1,A,MI} where MI<:Tuple{Vararg{Base.MultiplicativeInverses.SignedMultiplicativeInverse{Int64},N} where N} where A<:Union{Base.ReinterpretArray{T,N,S,A} where S where A<:Union{SubArray{T,N,A,I,true} where I<:Union{Tuple{Vararg{Real,N} where N}, Tuple{AbstractUnitRange,Vararg{Any,N} where N}} where A<:DenseArray where N where T, DenseArray} where N where T, SubArray{T,N,A,I,true} where I<:Union{Tuple{Vararg{Real,N} where N}, Tuple{AbstractUnitRange,Vararg{Any,N} where N}} where A<:DenseArray where N where T, DenseArray}, SubArray{T,2,A,I,L} where L where I<:Tuple{Vararg{Union{Int64, AbstractRange{Int64}, Base.AbstractCartesianIndex},N} where N} where A<:Union{Base.ReinterpretArray{T,N,S,A} where S where A<:Union{SubArray{T,N,A,I,true} where I<:Union{Tuple{Vararg{Real,N} where N}, Tuple{AbstractUnitRange,Vararg{Any,N} where N}} where A<:DenseArray where N where T, DenseArray} where N where T, Base.ReshapedArray{T,N,A,MI} where MI<:Tuple{Vararg{Base.MultiplicativeInverses.SignedMultiplicativeInverse{Int64},N} where N} where A<:Union{Base.ReinterpretArray{T,N,S,A} where S where A<:Union{SubArray{T,N,A,I,true} where I<:Union{Tuple{Vararg{Real,N} where N}, Tuple{AbstractUnitRange,Vararg{Any,N} where N}} where A<:DenseArray where N where T, DenseArray} where N where T, SubArray{T,N,A,I,true} where I<:Union{Tuple{Vararg{Real,N} where N}, Tuple{AbstractUnitRange,Vararg{Any,N} where N}} where A<:DenseArray where N where T, DenseArray} where N where T, DenseArray}, SubArray{T,1,A,I,L} where L where I<:Tuple{Vararg{Union{Int64, AbstractRange{Int64}, Base.AbstractCartesianIndex},N} where N} where A<:Union{Base.ReinterpretArray{T,N,S,A} where S where A<:Union{SubArray{T,N,A,I,true} where I<:Union{Tuple{Vararg{Real,N} where N}, Tuple{AbstractUnitRange,Vararg{Any,N} where N}} where A<:DenseArray where N where T, DenseArray} where N where T, Base.ReshapedArray{T,N,A,MI} where MI<:Tuple{Vararg{Base.MultiplicativeInverses.SignedMultiplicativeInverse{Int64},N} where N} where A<:Union{Base.ReinterpretArray{T,N,S,A} where S where A<:Union{SubArray{T,N,A,I,true} where I<:Union{Tuple{Vararg{Real,N} where N}, Tuple{AbstractUnitRange,Vararg{Any,N} where N}} where A<:DenseArray where N where T, DenseArray} where N where T, SubArray{T,N,A,I,true} where I<:Union{Tuple{Vararg{Real,N} where N}, Tuple{AbstractUnitRange,Vararg{Any,N} where N}} where A<:DenseArray where N where T, DenseArray} where N where T, DenseArray}} where T, adjQ::LinearAlgebra.Adjoint{#s662,#s661} where #s661<:LinearAlgebra.LQPackedQ where #s662) in LinearAlgebra at C:\\Users\\chuan\\AppData\\Local\\Programs\\Julia\\Julia-1.4.0\\share\\julia\\stdlib\\v1.4\\LinearAlgebra\\src\\lq.jl:251\n",
       "[258] *(A::Union{DenseArray{T,2}, DenseArray{T,1}, Base.ReinterpretArray{T,2,S,A} where S where A<:Union{SubArray{T,N,A,I,true} where I<:Union{Tuple{Vararg{Real,N} where N}, Tuple{AbstractUnitRange,Vararg{Any,N} where N}} where A<:DenseArray where N where T, DenseArray}, Base.ReinterpretArray{T,1,S,A} where S where A<:Union{SubArray{T,N,A,I,true} where I<:Union{Tuple{Vararg{Real,N} where N}, Tuple{AbstractUnitRange,Vararg{Any,N} where N}} where A<:DenseArray where N where T, DenseArray}, Base.ReshapedArray{T,2,A,MI} where MI<:Tuple{Vararg{Base.MultiplicativeInverses.SignedMultiplicativeInverse{Int64},N} where N} where A<:Union{Base.ReinterpretArray{T,N,S,A} where S where A<:Union{SubArray{T,N,A,I,true} where I<:Union{Tuple{Vararg{Real,N} where N}, Tuple{AbstractUnitRange,Vararg{Any,N} where N}} where A<:DenseArray where N where T, DenseArray} where N where T, SubArray{T,N,A,I,true} where I<:Union{Tuple{Vararg{Real,N} where N}, Tuple{AbstractUnitRange,Vararg{Any,N} where N}} where A<:DenseArray where N where T, DenseArray}, Base.ReshapedArray{T,1,A,MI} where MI<:Tuple{Vararg{Base.MultiplicativeInverses.SignedMultiplicativeInverse{Int64},N} where N} where A<:Union{Base.ReinterpretArray{T,N,S,A} where S where A<:Union{SubArray{T,N,A,I,true} where I<:Union{Tuple{Vararg{Real,N} where N}, Tuple{AbstractUnitRange,Vararg{Any,N} where N}} where A<:DenseArray where N where T, DenseArray} where N where T, SubArray{T,N,A,I,true} where I<:Union{Tuple{Vararg{Real,N} where N}, Tuple{AbstractUnitRange,Vararg{Any,N} where N}} where A<:DenseArray where N where T, DenseArray}, SubArray{T,2,A,I,L} where L where I<:Tuple{Vararg{Union{Int64, AbstractRange{Int64}, Base.AbstractCartesianIndex},N} where N} where A<:Union{Base.ReinterpretArray{T,N,S,A} where S where A<:Union{SubArray{T,N,A,I,true} where I<:Union{Tuple{Vararg{Real,N} where N}, Tuple{AbstractUnitRange,Vararg{Any,N} where N}} where A<:DenseArray where N where T, DenseArray} where N where T, Base.ReshapedArray{T,N,A,MI} where MI<:Tuple{Vararg{Base.MultiplicativeInverses.SignedMultiplicativeInverse{Int64},N} where N} where A<:Union{Base.ReinterpretArray{T,N,S,A} where S where A<:Union{SubArray{T,N,A,I,true} where I<:Union{Tuple{Vararg{Real,N} where N}, Tuple{AbstractUnitRange,Vararg{Any,N} where N}} where A<:DenseArray where N where T, DenseArray} where N where T, SubArray{T,N,A,I,true} where I<:Union{Tuple{Vararg{Real,N} where N}, Tuple{AbstractUnitRange,Vararg{Any,N} where N}} where A<:DenseArray where N where T, DenseArray} where N where T, DenseArray}, SubArray{T,1,A,I,L} where L where I<:Tuple{Vararg{Union{Int64, AbstractRange{Int64}, Base.AbstractCartesianIndex},N} where N} where A<:Union{Base.ReinterpretArray{T,N,S,A} where S where A<:Union{SubArray{T,N,A,I,true} where I<:Union{Tuple{Vararg{Real,N} where N}, Tuple{AbstractUnitRange,Vararg{Any,N} where N}} where A<:DenseArray where N where T, DenseArray} where N where T, Base.ReshapedArray{T,N,A,MI} where MI<:Tuple{Vararg{Base.MultiplicativeInverses.SignedMultiplicativeInverse{Int64},N} where N} where A<:Union{Base.ReinterpretArray{T,N,S,A} where S where A<:Union{SubArray{T,N,A,I,true} where I<:Union{Tuple{Vararg{Real,N} where N}, Tuple{AbstractUnitRange,Vararg{Any,N} where N}} where A<:DenseArray where N where T, DenseArray} where N where T, SubArray{T,N,A,I,true} where I<:Union{Tuple{Vararg{Real,N} where N}, Tuple{AbstractUnitRange,Vararg{Any,N} where N}} where A<:DenseArray where N where T, DenseArray} where N where T, DenseArray}} where T, Q::LinearAlgebra.LQPackedQ) in LinearAlgebra at C:\\Users\\chuan\\AppData\\Local\\Programs\\Julia\\Julia-1.4.0\\share\\julia\\stdlib\\v1.4\\LinearAlgebra\\src\\lq.jl:275\n",
       "[259] *(A::Union{LinearAlgebra.Hermitian{T,S}, LinearAlgebra.Symmetric{T,S}} where S where T, B::Union{LinearAlgebra.Hermitian{T,S}, LinearAlgebra.Symmetric{T,S}} where S where T) in LinearAlgebra at C:\\Users\\chuan\\AppData\\Local\\Programs\\Julia\\Julia-1.4.0\\share\\julia\\stdlib\\v1.4\\LinearAlgebra\\src\\symmetric.jl:555\n",
       "[260] *(A::LinearAlgebra.Symmetric, x::Number) in LinearAlgebra at C:\\Users\\chuan\\AppData\\Local\\Programs\\Julia\\Julia-1.4.0\\share\\julia\\stdlib\\v1.4\\LinearAlgebra\\src\\symmetric.jl:613\n",
       "[261] *(A::LinearAlgebra.Hermitian, x::Real) in LinearAlgebra at C:\\Users\\chuan\\AppData\\Local\\Programs\\Julia\\Julia-1.4.0\\share\\julia\\stdlib\\v1.4\\LinearAlgebra\\src\\symmetric.jl:615\n",
       "[262] *(A::LinearAlgebra.Adjoint{#s662,#s661} where #s661<:(AbstractArray{T,2} where T) where #s662, B::LinearAlgebra.Adjoint{#s660,#s659} where #s659<:(Union{LinearAlgebra.Hermitian{Complex{T},S}, LinearAlgebra.Hermitian{T,S}, LinearAlgebra.Symmetric{T,S}} where S where T<:Real) where #s660) in LinearAlgebra at C:\\Users\\chuan\\AppData\\Local\\Programs\\Julia\\Julia-1.4.0\\share\\julia\\stdlib\\v1.4\\LinearAlgebra\\src\\symmetric.jl:1027\n",
       "[263] *(A::LinearAlgebra.Adjoint{#s662,#s661} where #s661<:(AbstractArray{T,2} where T) where #s662, B::LinearAlgebra.Transpose{#s660,#s659} where #s659<:(Union{LinearAlgebra.Hermitian{T,S}, LinearAlgebra.Symmetric{Complex{T},S}, LinearAlgebra.Symmetric{T,S}} where S where T<:Real) where #s660) in LinearAlgebra at C:\\Users\\chuan\\AppData\\Local\\Programs\\Julia\\Julia-1.4.0\\share\\julia\\stdlib\\v1.4\\LinearAlgebra\\src\\symmetric.jl:1029\n",
       "[264] *(A::LinearAlgebra.Transpose{#s662,#s661} where #s661<:(AbstractArray{T,2} where T) where #s662, B::LinearAlgebra.Adjoint{#s660,#s659} where #s659<:(Union{LinearAlgebra.Hermitian{Complex{T},S}, LinearAlgebra.Hermitian{T,S}, LinearAlgebra.Symmetric{T,S}} where S where T<:Real) where #s660) in LinearAlgebra at C:\\Users\\chuan\\AppData\\Local\\Programs\\Julia\\Julia-1.4.0\\share\\julia\\stdlib\\v1.4\\LinearAlgebra\\src\\symmetric.jl:1031\n",
       "[265] *(A::LinearAlgebra.Transpose{#s662,#s661} where #s661<:(AbstractArray{T,2} where T) where #s662, B::LinearAlgebra.Transpose{#s660,#s659} where #s659<:(Union{LinearAlgebra.Hermitian{T,S}, LinearAlgebra.Symmetric{Complex{T},S}, LinearAlgebra.Symmetric{T,S}} where S where T<:Real) where #s660) in LinearAlgebra at C:\\Users\\chuan\\AppData\\Local\\Programs\\Julia\\Julia-1.4.0\\share\\julia\\stdlib\\v1.4\\LinearAlgebra\\src\\symmetric.jl:1033\n",
       "[266] *(D::LinearAlgebra.Diagonal, x::Number) in LinearAlgebra at C:\\Users\\chuan\\AppData\\Local\\Programs\\Julia\\Julia-1.4.0\\share\\julia\\stdlib\\v1.4\\LinearAlgebra\\src\\diagonal.jl:160\n",
       "[267] *(Da::LinearAlgebra.Diagonal, Db::LinearAlgebra.Diagonal) in LinearAlgebra at C:\\Users\\chuan\\AppData\\Local\\Programs\\Julia\\Julia-1.4.0\\share\\julia\\stdlib\\v1.4\\LinearAlgebra\\src\\diagonal.jl:162\n",
       "[268] *(D::LinearAlgebra.Diagonal, B::LinearAlgebra.AbstractTriangular) in LinearAlgebra at C:\\Users\\chuan\\AppData\\Local\\Programs\\Julia\\Julia-1.4.0\\share\\julia\\stdlib\\v1.4\\LinearAlgebra\\src\\diagonal.jl:167\n",
       "[269] *(D::LinearAlgebra.Diagonal, B::LinearAlgebra.Adjoint{#s662,#s661} where #s661<:LinearAlgebra.Diagonal where #s662) in LinearAlgebra at C:\\Users\\chuan\\AppData\\Local\\Programs\\Julia\\Julia-1.4.0\\share\\julia\\stdlib\\v1.4\\LinearAlgebra\\src\\diagonal.jl:238\n",
       "[270] *(D::LinearAlgebra.Diagonal, B::LinearAlgebra.Adjoint{#s662,#s661} where #s661<:LinearAlgebra.AbstractTriangular where #s662) in LinearAlgebra at C:\\Users\\chuan\\AppData\\Local\\Programs\\Julia\\Julia-1.4.0\\share\\julia\\stdlib\\v1.4\\LinearAlgebra\\src\\diagonal.jl:239\n",
       "[271] *(D::LinearAlgebra.Diagonal, adjQ::LinearAlgebra.Adjoint{#s662,#s661} where #s661<:Union{LinearAlgebra.QRCompactWYQ, LinearAlgebra.QRPackedQ} where #s662) in LinearAlgebra at C:\\Users\\chuan\\AppData\\Local\\Programs\\Julia\\Julia-1.4.0\\share\\julia\\stdlib\\v1.4\\LinearAlgebra\\src\\diagonal.jl:241\n",
       "[272] *(A::LinearAlgebra.Diagonal, adjB::LinearAlgebra.Adjoint{#s662,#s661} where #s661<:(Union{LinearAlgebra.Hermitian{Complex{T},S}, LinearAlgebra.Hermitian{T,S}, LinearAlgebra.Symmetric{T,S}} where S where T<:Real) where #s662) in LinearAlgebra at C:\\Users\\chuan\\AppData\\Local\\Programs\\Julia\\Julia-1.4.0\\share\\julia\\stdlib\\v1.4\\LinearAlgebra\\src\\diagonal.jl:368\n",
       "[273] *(D::LinearAlgebra.Diagonal, adjA::LinearAlgebra.Adjoint{#s662,#s661} where #s661<:(AbstractArray{T,2} where T) where #s662) in LinearAlgebra at C:\\Users\\chuan\\AppData\\Local\\Programs\\Julia\\Julia-1.4.0\\share\\julia\\stdlib\\v1.4\\LinearAlgebra\\src\\diagonal.jl:243\n",
       "[274] *(D::LinearAlgebra.Diagonal, B::LinearAlgebra.Transpose{#s662,#s661} where #s661<:LinearAlgebra.Diagonal where #s662) in LinearAlgebra at C:\\Users\\chuan\\AppData\\Local\\Programs\\Julia\\Julia-1.4.0\\share\\julia\\stdlib\\v1.4\\LinearAlgebra\\src\\diagonal.jl:249\n",
       "[275] *(D::LinearAlgebra.Diagonal, B::LinearAlgebra.Transpose{#s662,#s661} where #s661<:LinearAlgebra.AbstractTriangular where #s662) in LinearAlgebra at C:\\Users\\chuan\\AppData\\Local\\Programs\\Julia\\Julia-1.4.0\\share\\julia\\stdlib\\v1.4\\LinearAlgebra\\src\\diagonal.jl:250\n",
       "[276] *(A::LinearAlgebra.Diagonal, transB::LinearAlgebra.Transpose{#s662,#s661} where #s661<:(Union{LinearAlgebra.Hermitian{T,S}, LinearAlgebra.Symmetric{Complex{T},S}, LinearAlgebra.Symmetric{T,S}} where S where T<:Real) where #s662) in LinearAlgebra at C:\\Users\\chuan\\AppData\\Local\\Programs\\Julia\\Julia-1.4.0\\share\\julia\\stdlib\\v1.4\\LinearAlgebra\\src\\diagonal.jl:366\n",
       "[277] *(D::LinearAlgebra.Diagonal, transA::LinearAlgebra.Transpose{#s662,#s661} where #s661<:(AbstractArray{T,2} where T) where #s662) in LinearAlgebra at C:\\Users\\chuan\\AppData\\Local\\Programs\\Julia\\Julia-1.4.0\\share\\julia\\stdlib\\v1.4\\LinearAlgebra\\src\\diagonal.jl:253\n",
       "[278] *(A::LinearAlgebra.Diagonal, B::Union{LinearAlgebra.Bidiagonal, LinearAlgebra.Tridiagonal}) in LinearAlgebra at C:\\Users\\chuan\\AppData\\Local\\Programs\\Julia\\Julia-1.4.0\\share\\julia\\stdlib\\v1.4\\LinearAlgebra\\src\\bidiag.jl:677\n",
       "[279] *(A::LinearAlgebra.Diagonal, B::LinearAlgebra.SymTridiagonal) in LinearAlgebra at C:\\Users\\chuan\\AppData\\Local\\Programs\\Julia\\Julia-1.4.0\\share\\julia\\stdlib\\v1.4\\LinearAlgebra\\src\\bidiag.jl:682\n",
       "[280] *(A::LinearAlgebra.Diagonal, B::LinearAlgebra.Adjoint{#s662,#s661} where #s661<:LinearAlgebra.AbstractRotation where #s662) in LinearAlgebra at C:\\Users\\chuan\\AppData\\Local\\Programs\\Julia\\Julia-1.4.0\\share\\julia\\stdlib\\v1.4\\LinearAlgebra\\src\\givens.jl:399\n",
       "[281] *(D::LinearAlgebra.Diagonal, A::SparseArrays.AbstractSparseMatrixCSC) in SparseArrays at C:\\Users\\chuan\\AppData\\Local\\Programs\\Julia\\Julia-1.4.0\\share\\julia\\stdlib\\v1.4\\SparseArrays\\src\\linalg.jl:152\n",
       "[282] *(D::LinearAlgebra.Diagonal, V::AbstractArray{T,1} where T) in LinearAlgebra at C:\\Users\\chuan\\AppData\\Local\\Programs\\Julia\\Julia-1.4.0\\share\\julia\\stdlib\\v1.4\\LinearAlgebra\\src\\diagonal.jl:163\n",
       "[283] *(D::LinearAlgebra.Diagonal, A::AbstractArray{T,2} where T) in LinearAlgebra at C:\\Users\\chuan\\AppData\\Local\\Programs\\Julia\\Julia-1.4.0\\share\\julia\\stdlib\\v1.4\\LinearAlgebra\\src\\diagonal.jl:172\n",
       "[284] *(adjA::LinearAlgebra.Adjoint{#s662,#s661} where #s661<:(AbstractArray{T,2} where T) where #s662, D::LinearAlgebra.Diagonal) in LinearAlgebra at C:\\Users\\chuan\\AppData\\Local\\Programs\\Julia\\Julia-1.4.0\\share\\julia\\stdlib\\v1.4\\LinearAlgebra\\src\\diagonal.jl:222\n",
       "[285] *(transA::LinearAlgebra.Transpose{#s662,#s661} where #s661<:(AbstractArray{T,2} where T) where #s662, D::LinearAlgebra.Diagonal) in LinearAlgebra at C:\\Users\\chuan\\AppData\\Local\\Programs\\Julia\\Julia-1.4.0\\share\\julia\\stdlib\\v1.4\\LinearAlgebra\\src\\diagonal.jl:232\n",
       "[286] *(A::LinearAlgebra.Bidiagonal, B::Number) in LinearAlgebra at C:\\Users\\chuan\\AppData\\Local\\Programs\\Julia\\Julia-1.4.0\\share\\julia\\stdlib\\v1.4\\LinearAlgebra\\src\\bidiag.jl:327\n",
       "[287] *(A::Union{LinearAlgebra.SymTridiagonal, LinearAlgebra.Tridiagonal}, B::LinearAlgebra.AbstractTriangular) in LinearAlgebra at C:\\Users\\chuan\\AppData\\Local\\Programs\\Julia\\Julia-1.4.0\\share\\julia\\stdlib\\v1.4\\LinearAlgebra\\src\\bidiag.jl:631\n",
       "[288] *(A::LinearAlgebra.Bidiagonal, B::Union{LinearAlgebra.UnitUpperTriangular, LinearAlgebra.UpperTriangular}) in LinearAlgebra at C:\\Users\\chuan\\AppData\\Local\\Programs\\Julia\\Julia-1.4.0\\share\\julia\\stdlib\\v1.4\\LinearAlgebra\\src\\bidiag.jl:636\n",
       "[289] *(A::LinearAlgebra.Bidiagonal, B::Union{LinearAlgebra.Adjoint{#s662,#s661} where #s661<:Union{LinearAlgebra.UnitUpperTriangular, LinearAlgebra.UpperTriangular} where #s662, LinearAlgebra.Transpose{#s660,#s659} where #s659<:Union{LinearAlgebra.UnitUpperTriangular, LinearAlgebra.UpperTriangular} where #s660}) in LinearAlgebra at C:\\Users\\chuan\\AppData\\Local\\Programs\\Julia\\Julia-1.4.0\\share\\julia\\stdlib\\v1.4\\LinearAlgebra\\src\\bidiag.jl:645\n",
       "[290] *(A::LinearAlgebra.Bidiagonal, B::Union{LinearAlgebra.LowerTriangular, LinearAlgebra.UnitLowerTriangular}) in LinearAlgebra at C:\\Users\\chuan\\AppData\\Local\\Programs\\Julia\\Julia-1.4.0\\share\\julia\\stdlib\\v1.4\\LinearAlgebra\\src\\bidiag.jl:654\n",
       "[291] *(A::LinearAlgebra.Bidiagonal, B::Union{LinearAlgebra.Adjoint{#s662,#s661} where #s661<:Union{LinearAlgebra.LowerTriangular, LinearAlgebra.UnitLowerTriangular} where #s662, LinearAlgebra.Transpose{#s660,#s659} where #s659<:Union{LinearAlgebra.LowerTriangular, LinearAlgebra.UnitLowerTriangular} where #s660}) in LinearAlgebra at C:\\Users\\chuan\\AppData\\Local\\Programs\\Julia\\Julia-1.4.0\\share\\julia\\stdlib\\v1.4\\LinearAlgebra\\src\\bidiag.jl:663\n",
       "[292] *(A::Union{LinearAlgebra.Bidiagonal, LinearAlgebra.Tridiagonal}, B::LinearAlgebra.Diagonal) in LinearAlgebra at C:\\Users\\chuan\\AppData\\Local\\Programs\\Julia\\Julia-1.4.0\\share\\julia\\stdlib\\v1.4\\LinearAlgebra\\src\\bidiag.jl:672\n",
       "[293] *(A::LinearAlgebra.SymTridiagonal, B::LinearAlgebra.Diagonal) in LinearAlgebra at C:\\Users\\chuan\\AppData\\Local\\Programs\\Julia\\Julia-1.4.0\\share\\julia\\stdlib\\v1.4\\LinearAlgebra\\src\\bidiag.jl:687\n",
       "[294] *(A::LinearAlgebra.Adjoint{#s662,#s661} where #s661<:(AbstractArray{T,2} where T) where #s662, B::LinearAlgebra.Adjoint{#s660,#s659} where #s659<:LinearAlgebra.AbstractRotation where #s660) in LinearAlgebra at C:\\Users\\chuan\\AppData\\Local\\Programs\\Julia\\Julia-1.4.0\\share\\julia\\stdlib\\v1.4\\LinearAlgebra\\src\\givens.jl:390\n",
       "[295] *(A::LinearAlgebra.Transpose{#s662,#s661} where #s661<:(AbstractArray{T,2} where T) where #s662, B::LinearAlgebra.Adjoint{#s660,#s659} where #s659<:LinearAlgebra.AbstractRotation where #s660) in LinearAlgebra at C:\\Users\\chuan\\AppData\\Local\\Programs\\Julia\\Julia-1.4.0\\share\\julia\\stdlib\\v1.4\\LinearAlgebra\\src\\givens.jl:392\n",
       "[296] *(x::Union{SubArray{T,1,#s662,Tuple{Base.Slice{Base.OneTo{Int64}},Int64},false} where #s662<:SparseArrays.AbstractSparseMatrixCSC, SparseArrays.SparseVector{T,Ti} where Ti<:Integer} where T, a::Number) in SparseArrays at C:\\Users\\chuan\\AppData\\Local\\Programs\\Julia\\Julia-1.4.0\\share\\julia\\stdlib\\v1.4\\SparseArrays\\src\\sparsevector.jl:1406\n",
       "[297] *(A::SparseArrays.AbstractSparseMatrixCSC, B::SparseArrays.AbstractSparseMatrixCSC) in SparseArrays at C:\\Users\\chuan\\AppData\\Local\\Programs\\Julia\\Julia-1.4.0\\share\\julia\\stdlib\\v1.4\\SparseArrays\\src\\linalg.jl:163\n",
       "[298] *(A::SparseArrays.AbstractSparseMatrixCSC, x::SparseArrays.AbstractSparseArray{Tv,Ti,1} where Ti where Tv) in SparseArrays at C:\\Users\\chuan\\AppData\\Local\\Programs\\Julia\\Julia-1.4.0\\share\\julia\\stdlib\\v1.4\\SparseArrays\\src\\sparsevector.jl:1722\n",
       "[299] *(A::SparseArrays.AbstractSparseMatrixCSC{TA,Ti} where Ti<:Integer, x::Union{DenseArray{Tx,1}, Base.ReinterpretArray{Tx,1,S,A} where S where A<:Union{SubArray{T,N,A,I,true} where I<:Union{Tuple{Vararg{Real,N} where N}, Tuple{AbstractUnitRange,Vararg{Any,N} where N}} where A<:DenseArray where N where T, DenseArray}, Base.ReshapedArray{Tx,1,A,MI} where MI<:Tuple{Vararg{Base.MultiplicativeInverses.SignedMultiplicativeInverse{Int64},N} where N} where A<:Union{Base.ReinterpretArray{T,N,S,A} where S where A<:Union{SubArray{T,N,A,I,true} where I<:Union{Tuple{Vararg{Real,N} where N}, Tuple{AbstractUnitRange,Vararg{Any,N} where N}} where A<:DenseArray where N where T, DenseArray} where N where T, SubArray{T,N,A,I,true} where I<:Union{Tuple{Vararg{Real,N} where N}, Tuple{AbstractUnitRange,Vararg{Any,N} where N}} where A<:DenseArray where N where T, DenseArray}, SubArray{Tx,1,A,I,L} where L where I<:Tuple{Vararg{Union{Int64, AbstractRange{Int64}, Base.AbstractCartesianIndex},N} where N} where A<:Union{Base.ReinterpretArray{T,N,S,A} where S where A<:Union{SubArray{T,N,A,I,true} where I<:Union{Tuple{Vararg{Real,N} where N}, Tuple{AbstractUnitRange,Vararg{Any,N} where N}} where A<:DenseArray where N where T, DenseArray} where N where T, Base.ReshapedArray{T,N,A,MI} where MI<:Tuple{Vararg{Base.MultiplicativeInverses.SignedMultiplicativeInverse{Int64},N} where N} where A<:Union{Base.ReinterpretArray{T,N,S,A} where S where A<:Union{SubArray{T,N,A,I,true} where I<:Union{Tuple{Vararg{Real,N} where N}, Tuple{AbstractUnitRange,Vararg{Any,N} where N}} where A<:DenseArray where N where T, DenseArray} where N where T, SubArray{T,N,A,I,true} where I<:Union{Tuple{Vararg{Real,N} where N}, Tuple{AbstractUnitRange,Vararg{Any,N} where N}} where A<:DenseArray where N where T, DenseArray} where N where T, DenseArray}}) where {TA, Tx} in SparseArrays at C:\\Users\\chuan\\AppData\\Local\\Programs\\Julia\\Julia-1.4.0\\share\\julia\\stdlib\\v1.4\\SparseArrays\\src\\linalg.jl:29\n",
       "[300] *(A::SparseArrays.AbstractSparseMatrixCSC{TA,Ti} where Ti<:Integer, B::Union{DenseArray{Tx,2}, Base.ReinterpretArray{Tx,2,S,A} where S where A<:Union{SubArray{T,N,A,I,true} where I<:Union{Tuple{Vararg{Real,N} where N}, Tuple{AbstractUnitRange,Vararg{Any,N} where N}} where A<:DenseArray where N where T, DenseArray}, Base.ReshapedArray{Tx,2,A,MI} where MI<:Tuple{Vararg{Base.MultiplicativeInverses.SignedMultiplicativeInverse{Int64},N} where N} where A<:Union{Base.ReinterpretArray{T,N,S,A} where S where A<:Union{SubArray{T,N,A,I,true} where I<:Union{Tuple{Vararg{Real,N} where N}, Tuple{AbstractUnitRange,Vararg{Any,N} where N}} where A<:DenseArray where N where T, DenseArray} where N where T, SubArray{T,N,A,I,true} where I<:Union{Tuple{Vararg{Real,N} where N}, Tuple{AbstractUnitRange,Vararg{Any,N} where N}} where A<:DenseArray where N where T, DenseArray}, SubArray{Tx,2,A,I,L} where L where I<:Tuple{Vararg{Union{Int64, AbstractRange{Int64}, Base.AbstractCartesianIndex},N} where N} where A<:Union{Base.ReinterpretArray{T,N,S,A} where S where A<:Union{SubArray{T,N,A,I,true} where I<:Union{Tuple{Vararg{Real,N} where N}, Tuple{AbstractUnitRange,Vararg{Any,N} where N}} where A<:DenseArray where N where T, DenseArray} where N where T, Base.ReshapedArray{T,N,A,MI} where MI<:Tuple{Vararg{Base.MultiplicativeInverses.SignedMultiplicativeInverse{Int64},N} where N} where A<:Union{Base.ReinterpretArray{T,N,S,A} where S where A<:Union{SubArray{T,N,A,I,true} where I<:Union{Tuple{Vararg{Real,N} where N}, Tuple{AbstractUnitRange,Vararg{Any,N} where N}} where A<:DenseArray where N where T, DenseArray} where N where T, SubArray{T,N,A,I,true} where I<:Union{Tuple{Vararg{Real,N} where N}, Tuple{AbstractUnitRange,Vararg{Any,N} where N}} where A<:DenseArray where N where T, DenseArray} where N where T, DenseArray}, LinearAlgebra.Adjoint{#s662,#s661} where #s661<:Union{DenseArray{Tx,2}, Base.ReinterpretArray{Tx,2,S,A} where S where A<:Union{SubArray{T,N,A,I,true} where I<:Union{Tuple{Vararg{Real,N} where N}, Tuple{AbstractUnitRange,Vararg{Any,N} where N}} where A<:DenseArray where N where T, DenseArray}, Base.ReshapedArray{Tx,2,A,MI} where MI<:Tuple{Vararg{Base.MultiplicativeInverses.SignedMultiplicativeInverse{Int64},N} where N} where A<:Union{Base.ReinterpretArray{T,N,S,A} where S where A<:Union{SubArray{T,N,A,I,true} where I<:Union{Tuple{Vararg{Real,N} where N}, Tuple{AbstractUnitRange,Vararg{Any,N} where N}} where A<:DenseArray where N where T, DenseArray} where N where T, SubArray{T,N,A,I,true} where I<:Union{Tuple{Vararg{Real,N} where N}, Tuple{AbstractUnitRange,Vararg{Any,N} where N}} where A<:DenseArray where N where T, DenseArray}, SubArray{Tx,2,A,I,L} where L where I<:Tuple{Vararg{Union{Int64, AbstractRange{Int64}, Base.AbstractCartesianIndex},N} where N} where A<:Union{Base.ReinterpretArray{T,N,S,A} where S where A<:Union{SubArray{T,N,A,I,true} where I<:Union{Tuple{Vararg{Real,N} where N}, Tuple{AbstractUnitRange,Vararg{Any,N} where N}} where A<:DenseArray where N where T, DenseArray} where N where T, Base.ReshapedArray{T,N,A,MI} where MI<:Tuple{Vararg{Base.MultiplicativeInverses.SignedMultiplicativeInverse{Int64},N} where N} where A<:Union{Base.ReinterpretArray{T,N,S,A} where S where A<:Union{SubArray{T,N,A,I,true} where I<:Union{Tuple{Vararg{Real,N} where N}, Tuple{AbstractUnitRange,Vararg{Any,N} where N}} where A<:DenseArray where N where T, DenseArray} where N where T, SubArray{T,N,A,I,true} where I<:Union{Tuple{Vararg{Real,N} where N}, Tuple{AbstractUnitRange,Vararg{Any,N} where N}} where A<:DenseArray where N where T, DenseArray} where N where T, DenseArray}, LinearAlgebra.LowerTriangular{Tx,S} where S<:AbstractArray{Tx,2}, LinearAlgebra.UnitLowerTriangular{Tx,S} where S<:AbstractArray{Tx,2}, LinearAlgebra.UnitUpperTriangular{Tx,S} where S<:AbstractArray{Tx,2}, LinearAlgebra.UpperTriangular{Tx,S} where S<:AbstractArray{Tx,2}} where #s662, LinearAlgebra.LowerTriangular{Tx,S} where S<:AbstractArray{Tx,2}, LinearAlgebra.Transpose{#s660,#s659} where #s659<:Union{DenseArray{Tx,2}, Base.ReinterpretArray{Tx,2,S,A} where S where A<:Union{SubArray{T,N,A,I,true} where I<:Union{Tuple{Vararg{Real,N} where N}, Tuple{AbstractUnitRange,Vararg{Any,N} where N}} where A<:DenseArray where N where T, DenseArray}, Base.ReshapedArray{Tx,2,A,MI} where MI<:Tuple{Vararg{Base.MultiplicativeInverses.SignedMultiplicativeInverse{Int64},N} where N} where A<:Union{Base.ReinterpretArray{T,N,S,A} where S where A<:Union{SubArray{T,N,A,I,true} where I<:Union{Tuple{Vararg{Real,N} where N}, Tuple{AbstractUnitRange,Vararg{Any,N} where N}} where A<:DenseArray where N where T, DenseArray} where N where T, SubArray{T,N,A,I,true} where I<:Union{Tuple{Vararg{Real,N} where N}, Tuple{AbstractUnitRange,Vararg{Any,N} where N}} where A<:DenseArray where N where T, DenseArray}, SubArray{Tx,2,A,I,L} where L where I<:Tuple{Vararg{Union{Int64, AbstractRange{Int64}, Base.AbstractCartesianIndex},N} where N} where A<:Union{Base.ReinterpretArray{T,N,S,A} where S where A<:Union{SubArray{T,N,A,I,true} where I<:Union{Tuple{Vararg{Real,N} where N}, Tuple{AbstractUnitRange,Vararg{Any,N} where N}} where A<:DenseArray where N where T, DenseArray} where N where T, Base.ReshapedArray{T,N,A,MI} where MI<:Tuple{Vararg{Base.MultiplicativeInverses.SignedMultiplicativeInverse{Int64},N} where N} where A<:Union{Base.ReinterpretArray{T,N,S,A} where S where A<:Union{SubArray{T,N,A,I,true} where I<:Union{Tuple{Vararg{Real,N} where N}, Tuple{AbstractUnitRange,Vararg{Any,N} where N}} where A<:DenseArray where N where T, DenseArray} where N where T, SubArray{T,N,A,I,true} where I<:Union{Tuple{Vararg{Real,N} where N}, Tuple{AbstractUnitRange,Vararg{Any,N} where N}} where A<:DenseArray where N where T, DenseArray} where N where T, DenseArray}, LinearAlgebra.LowerTriangular{Tx,S} where S<:AbstractArray{Tx,2}, LinearAlgebra.UnitLowerTriangular{Tx,S} where S<:AbstractArray{Tx,2}, LinearAlgebra.UnitUpperTriangular{Tx,S} where S<:AbstractArray{Tx,2}, LinearAlgebra.UpperTriangular{Tx,S} where S<:AbstractArray{Tx,2}} where #s660, LinearAlgebra.UnitLowerTriangular{Tx,S} where S<:AbstractArray{Tx,2}, LinearAlgebra.UnitUpperTriangular{Tx,S} where S<:AbstractArray{Tx,2}, LinearAlgebra.UpperTriangular{Tx,S} where S<:AbstractArray{Tx,2}}) where {TA, Tx} in SparseArrays at C:\\Users\\chuan\\AppData\\Local\\Programs\\Julia\\Julia-1.4.0\\share\\julia\\stdlib\\v1.4\\SparseArrays\\src\\linalg.jl:31\n",
       "[301] *(A::SparseArrays.AbstractSparseMatrixCSC, D::LinearAlgebra.Diagonal) in SparseArrays at C:\\Users\\chuan\\AppData\\Local\\Programs\\Julia\\Julia-1.4.0\\share\\julia\\stdlib\\v1.4\\SparseArrays\\src\\linalg.jl:156\n",
       "[302] *(A::SparseArrays.AbstractSparseMatrixCSC, B::LinearAlgebra.Adjoint{#s662,#s661} where #s661<:SparseArrays.AbstractSparseMatrixCSC where #s662) in SparseArrays at C:\\Users\\chuan\\AppData\\Local\\Programs\\Julia\\Julia-1.4.0\\share\\julia\\stdlib\\v1.4\\SparseArrays\\src\\linalg.jl:164\n",
       "[303] *(A::SparseArrays.AbstractSparseMatrixCSC, B::LinearAlgebra.Transpose{#s662,#s661} where #s661<:SparseArrays.AbstractSparseMatrixCSC where #s662) in SparseArrays at C:\\Users\\chuan\\AppData\\Local\\Programs\\Julia\\Julia-1.4.0\\share\\julia\\stdlib\\v1.4\\SparseArrays\\src\\linalg.jl:165\n",
       "[304] *(A::Union{LinearAlgebra.Bidiagonal, LinearAlgebra.SymTridiagonal, LinearAlgebra.Tridiagonal}, B::Union{LinearAlgebra.Bidiagonal, LinearAlgebra.SymTridiagonal, LinearAlgebra.Tridiagonal}) in SparseArrays at C:\\Users\\chuan\\AppData\\Local\\Programs\\Julia\\Julia-1.4.0\\share\\julia\\stdlib\\v1.4\\SparseArrays\\src\\SparseArrays.jl:59\n",
       "[305] *(A::SuiteSparse.CHOLMOD.Sparse, B::SuiteSparse.CHOLMOD.Sparse) in SuiteSparse.CHOLMOD at C:\\Users\\chuan\\AppData\\Local\\Programs\\Julia\\Julia-1.4.0\\share\\julia\\stdlib\\v1.4\\SuiteSparse\\src\\cholmod.jl:1233\n",
       "[306] *(A::SuiteSparse.CHOLMOD.Sparse, B::SuiteSparse.CHOLMOD.Dense) in SuiteSparse.CHOLMOD at C:\\Users\\chuan\\AppData\\Local\\Programs\\Julia\\Julia-1.4.0\\share\\julia\\stdlib\\v1.4\\SuiteSparse\\src\\cholmod.jl:1234\n",
       "[307] *(A::SuiteSparse.CHOLMOD.Sparse, B::Union{Array{T,2}, Array{T,1}} where T) in SuiteSparse.CHOLMOD at C:\\Users\\chuan\\AppData\\Local\\Programs\\Julia\\Julia-1.4.0\\share\\julia\\stdlib\\v1.4\\SuiteSparse\\src\\cholmod.jl:1235\n",
       "[308] *(A::SuiteSparse.CHOLMOD.Sparse{Tv}, adjB::LinearAlgebra.Adjoint{Tv,SuiteSparse.CHOLMOD.Sparse{Tv}}) where Tv<:Float64 in SuiteSparse.CHOLMOD at C:\\Users\\chuan\\AppData\\Local\\Programs\\Julia\\Julia-1.4.0\\share\\julia\\stdlib\\v1.4\\SuiteSparse\\src\\cholmod.jl:1238\n",
       "[309] *(A::LinearAlgebra.Symmetric{Float64,SparseArrays.SparseMatrixCSC{Float64,Ti}}, B::Union{SparseArrays.SparseMatrixCSC{Float64,Ti}, SparseArrays.SparseVector{Float64,Ti}}) where Ti in SuiteSparse.CHOLMOD at C:\\Users\\chuan\\AppData\\Local\\Programs\\Julia\\Julia-1.4.0\\share\\julia\\stdlib\\v1.4\\SuiteSparse\\src\\cholmod.jl:1857\n",
       "[310] *(A::LinearAlgebra.Hermitian{Complex{Float64},SparseArrays.SparseMatrixCSC{Complex{Float64},Ti}}, B::Union{SparseArrays.SparseMatrixCSC{Complex{Float64},Ti}, SparseArrays.SparseVector{Complex{Float64},Ti}}) where Ti in SuiteSparse.CHOLMOD at C:\\Users\\chuan\\AppData\\Local\\Programs\\Julia\\Julia-1.4.0\\share\\julia\\stdlib\\v1.4\\SuiteSparse\\src\\cholmod.jl:1859\n",
       "[311] *(A::LinearAlgebra.Hermitian{Float64,SparseArrays.SparseMatrixCSC{Float64,Ti}}, B::Union{SparseArrays.SparseMatrixCSC{Float64,Ti}, SparseArrays.SparseVector{Float64,Ti}}) where Ti in SuiteSparse.CHOLMOD at C:\\Users\\chuan\\AppData\\Local\\Programs\\Julia\\Julia-1.4.0\\share\\julia\\stdlib\\v1.4\\SuiteSparse\\src\\cholmod.jl:1861\n",
       "[312] *(A::Union{SparseArrays.SparseMatrixCSC{Float64,Ti}, SparseArrays.SparseVector{Float64,Ti}}, B::LinearAlgebra.Symmetric{Float64,SparseArrays.SparseMatrixCSC{Float64,Ti}}) where Ti in SuiteSparse.CHOLMOD at C:\\Users\\chuan\\AppData\\Local\\Programs\\Julia\\Julia-1.4.0\\share\\julia\\stdlib\\v1.4\\SuiteSparse\\src\\cholmod.jl:1864\n",
       "[313] *(A::Union{SparseArrays.SparseMatrixCSC{Complex{Float64},Ti}, SparseArrays.SparseVector{Complex{Float64},Ti}}, B::LinearAlgebra.Hermitian{Complex{Float64},SparseArrays.SparseMatrixCSC{Complex{Float64},Ti}}) where Ti in SuiteSparse.CHOLMOD at C:\\Users\\chuan\\AppData\\Local\\Programs\\Julia\\Julia-1.4.0\\share\\julia\\stdlib\\v1.4\\SuiteSparse\\src\\cholmod.jl:1866\n",
       "[314] *(A::Union{SparseArrays.SparseMatrixCSC{Float64,Ti}, SparseArrays.SparseVector{Float64,Ti}}, B::LinearAlgebra.Hermitian{Float64,SparseArrays.SparseMatrixCSC{Float64,Ti}}) where Ti in SuiteSparse.CHOLMOD at C:\\Users\\chuan\\AppData\\Local\\Programs\\Julia\\Julia-1.4.0\\share\\julia\\stdlib\\v1.4\\SuiteSparse\\src\\cholmod.jl:1868\n",
       "[315] *(x::AbstractArray{#s69,2} where #s69<:Number) in Base at abstractarraymath.jl:98\n",
       "[316] *(B::Number, A::LinearAlgebra.SymTridiagonal) in LinearAlgebra at C:\\Users\\chuan\\AppData\\Local\\Programs\\Julia\\Julia-1.4.0\\share\\julia\\stdlib\\v1.4\\LinearAlgebra\\src\\tridiag.jl:161\n",
       "[317] *(B::Number, A::LinearAlgebra.Tridiagonal) in LinearAlgebra at C:\\Users\\chuan\\AppData\\Local\\Programs\\Julia\\Julia-1.4.0\\share\\julia\\stdlib\\v1.4\\LinearAlgebra\\src\\tridiag.jl:660\n",
       "[318] *(x::Number, A::LinearAlgebra.UpperTriangular) in LinearAlgebra at C:\\Users\\chuan\\AppData\\Local\\Programs\\Julia\\Julia-1.4.0\\share\\julia\\stdlib\\v1.4\\LinearAlgebra\\src\\triangular.jl:847\n",
       "[319] *(x::Number, A::LinearAlgebra.UnitUpperTriangular) in LinearAlgebra at C:\\Users\\chuan\\AppData\\Local\\Programs\\Julia\\Julia-1.4.0\\share\\julia\\stdlib\\v1.4\\LinearAlgebra\\src\\triangular.jl:850\n",
       "[320] *(x::Number, A::LinearAlgebra.LowerTriangular) in LinearAlgebra at C:\\Users\\chuan\\AppData\\Local\\Programs\\Julia\\Julia-1.4.0\\share\\julia\\stdlib\\v1.4\\LinearAlgebra\\src\\triangular.jl:847\n",
       "[321] *(x::Number, A::LinearAlgebra.UnitLowerTriangular) in LinearAlgebra at C:\\Users\\chuan\\AppData\\Local\\Programs\\Julia\\Julia-1.4.0\\share\\julia\\stdlib\\v1.4\\LinearAlgebra\\src\\triangular.jl:850\n",
       "[322] *(x::Number, A::LinearAlgebra.Symmetric) in LinearAlgebra at C:\\Users\\chuan\\AppData\\Local\\Programs\\Julia\\Julia-1.4.0\\share\\julia\\stdlib\\v1.4\\LinearAlgebra\\src\\symmetric.jl:614\n",
       "[323] *(x::Number, D::LinearAlgebra.Diagonal) in LinearAlgebra at C:\\Users\\chuan\\AppData\\Local\\Programs\\Julia\\Julia-1.4.0\\share\\julia\\stdlib\\v1.4\\LinearAlgebra\\src\\diagonal.jl:159\n",
       "[324] *(B::Number, A::LinearAlgebra.Bidiagonal) in LinearAlgebra at C:\\Users\\chuan\\AppData\\Local\\Programs\\Julia\\Julia-1.4.0\\share\\julia\\stdlib\\v1.4\\LinearAlgebra\\src\\bidiag.jl:328\n",
       "[325] *(a::Number, x::Union{SubArray{T,1,#s662,Tuple{Base.Slice{Base.OneTo{Int64}},Int64},false} where #s662<:SparseArrays.AbstractSparseMatrixCSC, SparseArrays.SparseVector{T,Ti} where Ti<:Integer} where T) in SparseArrays at C:\\Users\\chuan\\AppData\\Local\\Programs\\Julia\\Julia-1.4.0\\share\\julia\\stdlib\\v1.4\\SparseArrays\\src\\sparsevector.jl:1407\n",
       "[326] *(A::Number, B::AbstractArray) in Base at arraymath.jl:52\n",
       "[327] *(A::AbstractArray, B::Number) in Base at arraymath.jl:55\n",
       "[328] *(s1::Union{AbstractChar, AbstractString}, ss::Union{AbstractChar, AbstractString}...) in Base at strings/basic.jl:231\n",
       "[329] *(r1::Union{Regex, AbstractChar, AbstractString}, rs::Union{Regex, AbstractChar, AbstractString}...) in Base at regex.jl:640\n",
       "[330] *(index::CartesianIndex, a::Integer) in Base.IteratorsMD at multidimensional.jl:121\n",
       "[331] *(::Number, ::Missing) in Base at missing.jl:116\n",
       "[332] *(d::AbstractString, x::Missing) in Base at missing.jl:175\n",
       "[333] *(x::P, y::Real) where P<:Dates.Period in Dates at C:\\Users\\chuan\\AppData\\Local\\Programs\\Julia\\Julia-1.4.0\\share\\julia\\stdlib\\v1.4\\Dates\\src\\periods.jl:90\n",
       "[334] *(u::AbstractArray{T,1} where T, v::Union{LinearAlgebra.Adjoint{T,#s662}, LinearAlgebra.Transpose{T,#s662}} where #s662<:(AbstractArray{T,1} where T) where T) in LinearAlgebra at C:\\Users\\chuan\\AppData\\Local\\Programs\\Julia\\Julia-1.4.0\\share\\julia\\stdlib\\v1.4\\LinearAlgebra\\src\\adjtrans.jl:253\n",
       "[335] *(A::AbstractArray{T,2} where T, B::LinearAlgebra.AbstractTriangular) in LinearAlgebra at C:\\Users\\chuan\\AppData\\Local\\Programs\\Julia\\Julia-1.4.0\\share\\julia\\stdlib\\v1.4\\LinearAlgebra\\src\\triangular.jl:2095\n",
       "[336] *(A::AbstractArray{T,2} where T, adjB::LinearAlgebra.Adjoint{#s662,#s661} where #s661<:LinearAlgebra.AbstractTriangular where #s662) in LinearAlgebra at C:\\Users\\chuan\\AppData\\Local\\Programs\\Julia\\Julia-1.4.0\\share\\julia\\stdlib\\v1.4\\LinearAlgebra\\src\\triangular.jl:2102\n",
       "[337] *(A::AbstractArray{T,2} where T, transB::LinearAlgebra.Transpose{#s662,#s661} where #s661<:LinearAlgebra.AbstractTriangular where #s662) in LinearAlgebra at C:\\Users\\chuan\\AppData\\Local\\Programs\\Julia\\Julia-1.4.0\\share\\julia\\stdlib\\v1.4\\LinearAlgebra\\src\\triangular.jl:2110\n",
       "[338] *(A::AbstractArray{T,2} where T, transB::LinearAlgebra.Transpose{#s662,#s661} where #s661<:(Union{LinearAlgebra.Hermitian{T,S}, LinearAlgebra.Symmetric{Complex{T},S}, LinearAlgebra.Symmetric{T,S}} where S where T<:Real) where #s662) in LinearAlgebra at C:\\Users\\chuan\\AppData\\Local\\Programs\\Julia\\Julia-1.4.0\\share\\julia\\stdlib\\v1.4\\LinearAlgebra\\src\\symmetric.jl:586\n",
       "[339] *(A::AbstractArray{T,2} where T, adjB::LinearAlgebra.Adjoint{#s662,#s661} where #s661<:(Union{LinearAlgebra.Hermitian{Complex{T},S}, LinearAlgebra.Hermitian{T,S}, LinearAlgebra.Symmetric{T,S}} where S where T<:Real) where #s662) in LinearAlgebra at C:\\Users\\chuan\\AppData\\Local\\Programs\\Julia\\Julia-1.4.0\\share\\julia\\stdlib\\v1.4\\LinearAlgebra\\src\\symmetric.jl:590\n",
       "[340] *(A::AbstractArray{T,2} where T, D::LinearAlgebra.Diagonal) in LinearAlgebra at C:\\Users\\chuan\\AppData\\Local\\Programs\\Julia\\Julia-1.4.0\\share\\julia\\stdlib\\v1.4\\LinearAlgebra\\src\\diagonal.jl:170\n",
       "[341] *(A::AbstractArray{T,2} where T, adjR::LinearAlgebra.Adjoint{#s662,#s661} where #s661<:LinearAlgebra.AbstractRotation where #s662) in LinearAlgebra at C:\\Users\\chuan\\AppData\\Local\\Programs\\Julia\\Julia-1.4.0\\share\\julia\\stdlib\\v1.4\\LinearAlgebra\\src\\givens.jl:14\n",
       "[342] *(A::AbstractArray{T,2}, x::AbstractArray{S,1}) where {T, S} in LinearAlgebra at C:\\Users\\chuan\\AppData\\Local\\Programs\\Julia\\Julia-1.4.0\\share\\julia\\stdlib\\v1.4\\LinearAlgebra\\src\\matmul.jl:50\n",
       "[343] *(a::AbstractArray{T,1} where T, transB::LinearAlgebra.Transpose{#s662,#s661} where #s661<:(AbstractArray{T,2} where T) where #s662) in LinearAlgebra at C:\\Users\\chuan\\AppData\\Local\\Programs\\Julia\\Julia-1.4.0\\share\\julia\\stdlib\\v1.4\\LinearAlgebra\\src\\matmul.jl:56\n",
       "[344] *(a::AbstractArray{T,1} where T, adjB::LinearAlgebra.Adjoint{#s662,#s661} where #s661<:(AbstractArray{T,2} where T) where #s662) in LinearAlgebra at C:\\Users\\chuan\\AppData\\Local\\Programs\\Julia\\Julia-1.4.0\\share\\julia\\stdlib\\v1.4\\LinearAlgebra\\src\\matmul.jl:60\n",
       "[345] *(A::AbstractArray{T,1} where T, adjR::LinearAlgebra.Adjoint{#s662,#s661} where #s661<:LinearAlgebra.AbstractRotation where #s662) in LinearAlgebra at C:\\Users\\chuan\\AppData\\Local\\Programs\\Julia\\Julia-1.4.0\\share\\julia\\stdlib\\v1.4\\LinearAlgebra\\src\\givens.jl:13\n",
       "[346] *(a::AbstractArray{T,1} where T, B::AbstractArray{T,2} where T) in LinearAlgebra at C:\\Users\\chuan\\AppData\\Local\\Programs\\Julia\\Julia-1.4.0\\share\\julia\\stdlib\\v1.4\\LinearAlgebra\\src\\matmul.jl:63\n",
       "[347] *(A::AbstractArray{T,2} where T, B::AbstractArray{T,2} where T) in LinearAlgebra at C:\\Users\\chuan\\AppData\\Local\\Programs\\Julia\\Julia-1.4.0\\share\\julia\\stdlib\\v1.4\\LinearAlgebra\\src\\matmul.jl:152\n",
       "[348] *(A::LinearAlgebra.LQ{TA,S} where S<:AbstractArray{TA,2}, B::Union{DenseArray{TB,1}, DenseArray{TB,2}, Base.ReinterpretArray{TB,1,S,A} where S where A<:Union{SubArray{T,N,A,I,true} where I<:Union{Tuple{Vararg{Real,N} where N}, Tuple{AbstractUnitRange,Vararg{Any,N} where N}} where A<:DenseArray where N where T, DenseArray}, Base.ReinterpretArray{TB,2,S,A} where S where A<:Union{SubArray{T,N,A,I,true} where I<:Union{Tuple{Vararg{Real,N} where N}, Tuple{AbstractUnitRange,Vararg{Any,N} where N}} where A<:DenseArray where N where T, DenseArray}, Base.ReshapedArray{TB,1,A,MI} where MI<:Tuple{Vararg{Base.MultiplicativeInverses.SignedMultiplicativeInverse{Int64},N} where N} where A<:Union{Base.ReinterpretArray{T,N,S,A} where S where A<:Union{SubArray{T,N,A,I,true} where I<:Union{Tuple{Vararg{Real,N} where N}, Tuple{AbstractUnitRange,Vararg{Any,N} where N}} where A<:DenseArray where N where T, DenseArray} where N where T, SubArray{T,N,A,I,true} where I<:Union{Tuple{Vararg{Real,N} where N}, Tuple{AbstractUnitRange,Vararg{Any,N} where N}} where A<:DenseArray where N where T, DenseArray}, Base.ReshapedArray{TB,2,A,MI} where MI<:Tuple{Vararg{Base.MultiplicativeInverses.SignedMultiplicativeInverse{Int64},N} where N} where A<:Union{Base.ReinterpretArray{T,N,S,A} where S where A<:Union{SubArray{T,N,A,I,true} where I<:Union{Tuple{Vararg{Real,N} where N}, Tuple{AbstractUnitRange,Vararg{Any,N} where N}} where A<:DenseArray where N where T, DenseArray} where N where T, SubArray{T,N,A,I,true} where I<:Union{Tuple{Vararg{Real,N} where N}, Tuple{AbstractUnitRange,Vararg{Any,N} where N}} where A<:DenseArray where N where T, DenseArray}, SubArray{TB,1,A,I,L} where L where I<:Tuple{Vararg{Union{Int64, AbstractRange{Int64}, Base.AbstractCartesianIndex},N} where N} where A<:Union{Base.ReinterpretArray{T,N,S,A} where S where A<:Union{SubArray{T,N,A,I,true} where I<:Union{Tuple{Vararg{Real,N} where N}, Tuple{AbstractUnitRange,Vararg{Any,N} where N}} where A<:DenseArray where N where T, DenseArray} where N where T, Base.ReshapedArray{T,N,A,MI} where MI<:Tuple{Vararg{Base.MultiplicativeInverses.SignedMultiplicativeInverse{Int64},N} where N} where A<:Union{Base.ReinterpretArray{T,N,S,A} where S where A<:Union{SubArray{T,N,A,I,true} where I<:Union{Tuple{Vararg{Real,N} where N}, Tuple{AbstractUnitRange,Vararg{Any,N} where N}} where A<:DenseArray where N where T, DenseArray} where N where T, SubArray{T,N,A,I,true} where I<:Union{Tuple{Vararg{Real,N} where N}, Tuple{AbstractUnitRange,Vararg{Any,N} where N}} where A<:DenseArray where N where T, DenseArray} where N where T, DenseArray}, SubArray{TB,2,A,I,L} where L where I<:Tuple{Vararg{Union{Int64, AbstractRange{Int64}, Base.AbstractCartesianIndex},N} where N} where A<:Union{Base.ReinterpretArray{T,N,S,A} where S where A<:Union{SubArray{T,N,A,I,true} where I<:Union{Tuple{Vararg{Real,N} where N}, Tuple{AbstractUnitRange,Vararg{Any,N} where N}} where A<:DenseArray where N where T, DenseArray} where N where T, Base.ReshapedArray{T,N,A,MI} where MI<:Tuple{Vararg{Base.MultiplicativeInverses.SignedMultiplicativeInverse{Int64},N} where N} where A<:Union{Base.ReinterpretArray{T,N,S,A} where S where A<:Union{SubArray{T,N,A,I,true} where I<:Union{Tuple{Vararg{Real,N} where N}, Tuple{AbstractUnitRange,Vararg{Any,N} where N}} where A<:DenseArray where N where T, DenseArray} where N where T, SubArray{T,N,A,I,true} where I<:Union{Tuple{Vararg{Real,N} where N}, Tuple{AbstractUnitRange,Vararg{Any,N} where N}} where A<:DenseArray where N where T, DenseArray} where N where T, DenseArray}}) where {TA, TB} in LinearAlgebra at C:\\Users\\chuan\\AppData\\Local\\Programs\\Julia\\Julia-1.4.0\\share\\julia\\stdlib\\v1.4\\LinearAlgebra\\src\\lq.jl:180\n",
       "[349] *(J1::LinearAlgebra.UniformScaling, J2::LinearAlgebra.UniformScaling) in LinearAlgebra at C:\\Users\\chuan\\AppData\\Local\\Programs\\Julia\\Julia-1.4.0\\share\\julia\\stdlib\\v1.4\\LinearAlgebra\\src\\uniformscaling.jl:194\n",
       "[350] *(J::LinearAlgebra.UniformScaling, B::BitArray{2}) in LinearAlgebra at C:\\Users\\chuan\\AppData\\Local\\Programs\\Julia\\Julia-1.4.0\\share\\julia\\stdlib\\v1.4\\LinearAlgebra\\src\\uniformscaling.jl:196\n",
       "[351] *(A::AbstractArray{T,2} where T, J::LinearAlgebra.UniformScaling) in LinearAlgebra at C:\\Users\\chuan\\AppData\\Local\\Programs\\Julia\\Julia-1.4.0\\share\\julia\\stdlib\\v1.4\\LinearAlgebra\\src\\uniformscaling.jl:197\n",
       "[352] *(J::LinearAlgebra.UniformScaling, A::Union{AbstractArray{T,2}, AbstractArray{T,1}} where T) in LinearAlgebra at C:\\Users\\chuan\\AppData\\Local\\Programs\\Julia\\Julia-1.4.0\\share\\julia\\stdlib\\v1.4\\LinearAlgebra\\src\\uniformscaling.jl:198\n",
       "[353] *(x::Number, J::LinearAlgebra.UniformScaling) in LinearAlgebra at C:\\Users\\chuan\\AppData\\Local\\Programs\\Julia\\Julia-1.4.0\\share\\julia\\stdlib\\v1.4\\LinearAlgebra\\src\\uniformscaling.jl:199\n",
       "[354] *(J::LinearAlgebra.UniformScaling, x::Number) in LinearAlgebra at C:\\Users\\chuan\\AppData\\Local\\Programs\\Julia\\Julia-1.4.0\\share\\julia\\stdlib\\v1.4\\LinearAlgebra\\src\\uniformscaling.jl:200\n",
       "[355] *(F::LinearAlgebra.Hessenberg{#s662,#s661,S,W,V} where V<:Number where W<:(AbstractArray{T,1} where T) where S<:(AbstractArray{T,2} where T) where #s661<:AbstractArray{T,2} where #s662, x::S) where {T, S<:Number} in LinearAlgebra at C:\\Users\\chuan\\AppData\\Local\\Programs\\Julia\\Julia-1.4.0\\share\\julia\\stdlib\\v1.4\\LinearAlgebra\\src\\hessenberg.jl:541\n",
       "[356] *(x::S, F::LinearAlgebra.Hessenberg{#s662,#s661,S,W,V} where V<:Number where W<:(AbstractArray{T,1} where T) where S<:(AbstractArray{T,2} where T) where #s661<:AbstractArray{T,2} where #s662) where {T, S<:Number} in LinearAlgebra at C:\\Users\\chuan\\AppData\\Local\\Programs\\Julia\\Julia-1.4.0\\share\\julia\\stdlib\\v1.4\\LinearAlgebra\\src\\hessenberg.jl:549\n",
       "[357] *(R::LinearAlgebra.AbstractRotation{T}, A::Union{AbstractArray{S,1}, AbstractArray{S,2}}) where {T, S} in LinearAlgebra at C:\\Users\\chuan\\AppData\\Local\\Programs\\Julia\\Julia-1.4.0\\share\\julia\\stdlib\\v1.4\\LinearAlgebra\\src\\givens.jl:10\n",
       "[358] *(A::AbstractArray{T,2}, R::LinearAlgebra.AbstractRotation{S}) where {T, S} in LinearAlgebra at C:\\Users\\chuan\\AppData\\Local\\Programs\\Julia\\Julia-1.4.0\\share\\julia\\stdlib\\v1.4\\LinearAlgebra\\src\\givens.jl:21\n",
       "[359] *(G1::LinearAlgebra.Givens{T}, G2::LinearAlgebra.Givens{T}) where T in LinearAlgebra at C:\\Users\\chuan\\AppData\\Local\\Programs\\Julia\\Julia-1.4.0\\share\\julia\\stdlib\\v1.4\\LinearAlgebra\\src\\givens.jl:383\n",
       "[360] *(a::Measures.Measure, b::Number) in Measures at C:\\Users\\chuan\\.julia\\packages\\Measures\\0Zkai\\src\\operations.jl:47\n",
       "[361] *(a::Number, b::Measures.Measure) in Measures at C:\\Users\\chuan\\.julia\\packages\\Measures\\0Zkai\\src\\operations.jl:48\n",
       "[362] *(a::Tuple{Vararg{Measures.Measure,N}} where N, b::Number) in Measures at C:\\Users\\chuan\\.julia\\packages\\Measures\\0Zkai\\src\\point.jl:18\n",
       "[363] *(a::Number, b::Tuple{Vararg{Measures.Measure,N}} where N) in Measures at C:\\Users\\chuan\\.julia\\packages\\Measures\\0Zkai\\src\\point.jl:19\n",
       "[364] *(c::Number, a::Union{ColorTypes.LMS, ColorTypes.XYZ}) in Colors at C:\\Users\\chuan\\.julia\\packages\\Colors\\P2rUx\\src\\algorithms.jl:7\n",
       "[365] *(a, b, c, xs...) in Base at operators.jl:529"
      ]
     },
     "execution_count": 16,
     "metadata": {},
     "output_type": "execute_result"
    }
   ],
   "source": [
    "methods(*);  # remove `;` to see the output"
   ]
  },
  {
   "cell_type": "code",
   "execution_count": 17,
   "metadata": {},
   "outputs": [
    {
     "data": {
      "text/plain": [
       "1 + 7im"
      ]
     },
     "execution_count": 17,
     "metadata": {},
     "output_type": "execute_result"
    }
   ],
   "source": [
    "(1 + 2im) * (3 + im)"
   ]
  },
  {
   "cell_type": "code",
   "execution_count": 18,
   "metadata": {},
   "outputs": [
    {
     "data": {
      "text/html": [
       "*(z::<b>Complex</b>, w::<b>Complex</b>) in Base at <a href=\"https://github.com/JuliaLang/julia/tree/b8e9a9ecc62ab49003bd4f1834771bdeb8cb1aa2/base/complex.jl#L277\" target=\"_blank\">complex.jl:277</a>"
      ],
      "text/plain": [
       "*(z::Complex, w::Complex) in Base at complex.jl:277"
      ]
     },
     "execution_count": 18,
     "metadata": {},
     "output_type": "execute_result"
    }
   ],
   "source": [
    "@which (1 + 2im) * (3 + im)"
   ]
  },
  {
   "cell_type": "code",
   "execution_count": 19,
   "metadata": {},
   "outputs": [
    {
     "data": {
      "text/plain": [
       "\"https://raw.githubusercontent.com/CSSEGISandData/COVID-19/master/csse_covid_19_data/csse_covid_19_time_series/time_series_covid19_confirmed_global.csv\""
      ]
     },
     "execution_count": 19,
     "metadata": {},
     "output_type": "execute_result"
    }
   ],
   "source": [
    "url"
   ]
  },
  {
   "cell_type": "markdown",
   "metadata": {},
   "source": [
    "## Grab the data"
   ]
  },
  {
   "cell_type": "code",
   "execution_count": 20,
   "metadata": {},
   "outputs": [
    {
     "data": {
      "text/plain": [
       "\"covid_data.csv\""
      ]
     },
     "execution_count": 20,
     "metadata": {},
     "output_type": "execute_result"
    }
   ],
   "source": [
    "download(url, \"covid_data.csv\")"
   ]
  },
  {
   "cell_type": "code",
   "execution_count": 21,
   "metadata": {},
   "outputs": [
    {
     "data": {
      "text/plain": [
       "readdir (generic function with 2 methods)"
      ]
     },
     "execution_count": 21,
     "metadata": {},
     "output_type": "execute_result"
    }
   ],
   "source": [
    "readdir"
   ]
  },
  {
   "cell_type": "code",
   "execution_count": 22,
   "metadata": {},
   "outputs": [
    {
     "data": {
      "text/plain": [
       "4-element Array{String,1}:\n",
       " \".ipynb_checkpoints\"\n",
       " \"01 - Exploring COVID-19 data.ipynb\"\n",
       " \"US_data.png\"\n",
       " \"covid_data.csv\""
      ]
     },
     "execution_count": 22,
     "metadata": {},
     "output_type": "execute_result"
    }
   ],
   "source": [
    "readdir()"
   ]
  },
  {
   "cell_type": "markdown",
   "metadata": {},
   "source": [
    "Install a package *ONCE* in our current Julia installation:"
   ]
  },
  {
   "cell_type": "code",
   "execution_count": 23,
   "metadata": {
    "scrolled": true
   },
   "outputs": [],
   "source": [
    "using Pkg   # built-in package manager in Julia: Pkg\n",
    "# Pkg.add(\"CSV\")   # calls the `add` function from the module Pkg.  This installs a package"
   ]
  },
  {
   "cell_type": "markdown",
   "metadata": {},
   "source": [
    "Load a package every time we run a Julia session: "
   ]
  },
  {
   "cell_type": "code",
   "execution_count": 24,
   "metadata": {},
   "outputs": [],
   "source": [
    "using CSV   # Comma Separated Values"
   ]
  },
  {
   "cell_type": "code",
   "execution_count": 25,
   "metadata": {
    "scrolled": true
   },
   "outputs": [
    {
     "data": {
      "text/html": [
       "<table class=\"data-frame\"><thead><tr><th></th><th>Province/State</th><th>Country/Region</th><th>Lat</th><th>Long</th><th>1/22/20</th></tr><tr><th></th><th>String⍰</th><th>String</th><th>Float64</th><th>Float64</th><th>Int64</th></tr></thead><tbody><p>254 rows × 73 columns (omitted printing of 68 columns)</p><tr><th>1</th><td>missing</td><td>Afghanistan</td><td>33.0</td><td>65.0</td><td>0</td></tr><tr><th>2</th><td>missing</td><td>Albania</td><td>41.1533</td><td>20.1683</td><td>0</td></tr><tr><th>3</th><td>missing</td><td>Algeria</td><td>28.0339</td><td>1.6596</td><td>0</td></tr><tr><th>4</th><td>missing</td><td>Andorra</td><td>42.5063</td><td>1.5218</td><td>0</td></tr><tr><th>5</th><td>missing</td><td>Angola</td><td>-11.2027</td><td>17.8739</td><td>0</td></tr><tr><th>6</th><td>missing</td><td>Antigua and Barbuda</td><td>17.0608</td><td>-61.7964</td><td>0</td></tr><tr><th>7</th><td>missing</td><td>Argentina</td><td>-38.4161</td><td>-63.6167</td><td>0</td></tr><tr><th>8</th><td>missing</td><td>Armenia</td><td>40.0691</td><td>45.0382</td><td>0</td></tr><tr><th>9</th><td>Australian Capital Territory</td><td>Australia</td><td>-35.4735</td><td>149.012</td><td>0</td></tr><tr><th>10</th><td>New South Wales</td><td>Australia</td><td>-33.8688</td><td>151.209</td><td>0</td></tr><tr><th>11</th><td>Northern Territory</td><td>Australia</td><td>-12.4634</td><td>130.846</td><td>0</td></tr><tr><th>12</th><td>Queensland</td><td>Australia</td><td>-28.0167</td><td>153.4</td><td>0</td></tr><tr><th>13</th><td>South Australia</td><td>Australia</td><td>-34.9285</td><td>138.601</td><td>0</td></tr><tr><th>14</th><td>Tasmania</td><td>Australia</td><td>-41.4545</td><td>145.971</td><td>0</td></tr><tr><th>15</th><td>Victoria</td><td>Australia</td><td>-37.8136</td><td>144.963</td><td>0</td></tr><tr><th>16</th><td>Western Australia</td><td>Australia</td><td>-31.9505</td><td>115.861</td><td>0</td></tr><tr><th>17</th><td>missing</td><td>Austria</td><td>47.5162</td><td>14.5501</td><td>0</td></tr><tr><th>18</th><td>missing</td><td>Azerbaijan</td><td>40.1431</td><td>47.5769</td><td>0</td></tr><tr><th>19</th><td>missing</td><td>Bahamas</td><td>25.0343</td><td>-77.3963</td><td>0</td></tr><tr><th>20</th><td>missing</td><td>Bahrain</td><td>26.0275</td><td>50.55</td><td>0</td></tr><tr><th>21</th><td>missing</td><td>Bangladesh</td><td>23.685</td><td>90.3563</td><td>0</td></tr><tr><th>22</th><td>missing</td><td>Barbados</td><td>13.1939</td><td>-59.5432</td><td>0</td></tr><tr><th>23</th><td>missing</td><td>Belarus</td><td>53.7098</td><td>27.9534</td><td>0</td></tr><tr><th>24</th><td>missing</td><td>Belgium</td><td>50.8333</td><td>4.0</td><td>0</td></tr><tr><th>25</th><td>missing</td><td>Benin</td><td>9.3077</td><td>2.3158</td><td>0</td></tr><tr><th>26</th><td>missing</td><td>Bhutan</td><td>27.5142</td><td>90.4336</td><td>0</td></tr><tr><th>27</th><td>missing</td><td>Bolivia</td><td>-16.2902</td><td>-63.5887</td><td>0</td></tr><tr><th>28</th><td>missing</td><td>Bosnia and Herzegovina</td><td>43.9159</td><td>17.6791</td><td>0</td></tr><tr><th>29</th><td>missing</td><td>Brazil</td><td>-14.235</td><td>-51.9253</td><td>0</td></tr><tr><th>30</th><td>missing</td><td>Brunei</td><td>4.5353</td><td>114.728</td><td>0</td></tr><tr><th>&vellip;</th><td>&vellip;</td><td>&vellip;</td><td>&vellip;</td><td>&vellip;</td><td>&vellip;</td></tr></tbody></table>"
      ],
      "text/latex": [
       "\\begin{tabular}{r|cccccc}\n",
       "\t& Province/State & Country/Region & Lat & Long & 1/22/20 & \\\\\n",
       "\t\\hline\n",
       "\t& String⍰ & String & Float64 & Float64 & Int64 & \\\\\n",
       "\t\\hline\n",
       "\t1 &  & Afghanistan & 33.0 & 65.0 & 0 & $\\dots$ \\\\\n",
       "\t2 &  & Albania & 41.1533 & 20.1683 & 0 & $\\dots$ \\\\\n",
       "\t3 &  & Algeria & 28.0339 & 1.6596 & 0 & $\\dots$ \\\\\n",
       "\t4 &  & Andorra & 42.5063 & 1.5218 & 0 & $\\dots$ \\\\\n",
       "\t5 &  & Angola & -11.2027 & 17.8739 & 0 & $\\dots$ \\\\\n",
       "\t6 &  & Antigua and Barbuda & 17.0608 & -61.7964 & 0 & $\\dots$ \\\\\n",
       "\t7 &  & Argentina & -38.4161 & -63.6167 & 0 & $\\dots$ \\\\\n",
       "\t8 &  & Armenia & 40.0691 & 45.0382 & 0 & $\\dots$ \\\\\n",
       "\t9 & Australian Capital Territory & Australia & -35.4735 & 149.012 & 0 & $\\dots$ \\\\\n",
       "\t10 & New South Wales & Australia & -33.8688 & 151.209 & 0 & $\\dots$ \\\\\n",
       "\t11 & Northern Territory & Australia & -12.4634 & 130.846 & 0 & $\\dots$ \\\\\n",
       "\t12 & Queensland & Australia & -28.0167 & 153.4 & 0 & $\\dots$ \\\\\n",
       "\t13 & South Australia & Australia & -34.9285 & 138.601 & 0 & $\\dots$ \\\\\n",
       "\t14 & Tasmania & Australia & -41.4545 & 145.971 & 0 & $\\dots$ \\\\\n",
       "\t15 & Victoria & Australia & -37.8136 & 144.963 & 0 & $\\dots$ \\\\\n",
       "\t16 & Western Australia & Australia & -31.9505 & 115.861 & 0 & $\\dots$ \\\\\n",
       "\t17 &  & Austria & 47.5162 & 14.5501 & 0 & $\\dots$ \\\\\n",
       "\t18 &  & Azerbaijan & 40.1431 & 47.5769 & 0 & $\\dots$ \\\\\n",
       "\t19 &  & Bahamas & 25.0343 & -77.3963 & 0 & $\\dots$ \\\\\n",
       "\t20 &  & Bahrain & 26.0275 & 50.55 & 0 & $\\dots$ \\\\\n",
       "\t21 &  & Bangladesh & 23.685 & 90.3563 & 0 & $\\dots$ \\\\\n",
       "\t22 &  & Barbados & 13.1939 & -59.5432 & 0 & $\\dots$ \\\\\n",
       "\t23 &  & Belarus & 53.7098 & 27.9534 & 0 & $\\dots$ \\\\\n",
       "\t24 &  & Belgium & 50.8333 & 4.0 & 0 & $\\dots$ \\\\\n",
       "\t25 &  & Benin & 9.3077 & 2.3158 & 0 & $\\dots$ \\\\\n",
       "\t26 &  & Bhutan & 27.5142 & 90.4336 & 0 & $\\dots$ \\\\\n",
       "\t27 &  & Bolivia & -16.2902 & -63.5887 & 0 & $\\dots$ \\\\\n",
       "\t28 &  & Bosnia and Herzegovina & 43.9159 & 17.6791 & 0 & $\\dots$ \\\\\n",
       "\t29 &  & Brazil & -14.235 & -51.9253 & 0 & $\\dots$ \\\\\n",
       "\t30 &  & Brunei & 4.5353 & 114.728 & 0 & $\\dots$ \\\\\n",
       "\t$\\dots$ & $\\dots$ & $\\dots$ & $\\dots$ & $\\dots$ & $\\dots$ &  \\\\\n",
       "\\end{tabular}\n"
      ],
      "text/plain": [
       "254×73 DataFrames.DataFrame. Omitted printing of 70 columns\n",
       "│ Row │ Province/State               │ Country/Region        │ Lat      │\n",
       "│     │ \u001b[90mUnion{Missing, String}\u001b[39m       │ \u001b[90mString\u001b[39m                │ \u001b[90mFloat64\u001b[39m  │\n",
       "├─────┼──────────────────────────────┼───────────────────────┼──────────┤\n",
       "│ 1   │ \u001b[90mmissing\u001b[39m                      │ Afghanistan           │ 33.0     │\n",
       "│ 2   │ \u001b[90mmissing\u001b[39m                      │ Albania               │ 41.1533  │\n",
       "│ 3   │ \u001b[90mmissing\u001b[39m                      │ Algeria               │ 28.0339  │\n",
       "│ 4   │ \u001b[90mmissing\u001b[39m                      │ Andorra               │ 42.5063  │\n",
       "│ 5   │ \u001b[90mmissing\u001b[39m                      │ Angola                │ -11.2027 │\n",
       "│ 6   │ \u001b[90mmissing\u001b[39m                      │ Antigua and Barbuda   │ 17.0608  │\n",
       "│ 7   │ \u001b[90mmissing\u001b[39m                      │ Argentina             │ -38.4161 │\n",
       "│ 8   │ \u001b[90mmissing\u001b[39m                      │ Armenia               │ 40.0691  │\n",
       "│ 9   │ Australian Capital Territory │ Australia             │ -35.4735 │\n",
       "│ 10  │ New South Wales              │ Australia             │ -33.8688 │\n",
       "⋮\n",
       "│ 244 │ \u001b[90mmissing\u001b[39m                      │ Mali                  │ 17.5707  │\n",
       "│ 245 │ \u001b[90mmissing\u001b[39m                      │ Saint Kitts and Nevis │ 17.3578  │\n",
       "│ 246 │ Northwest Territories        │ Canada                │ 64.8255  │\n",
       "│ 247 │ Yukon                        │ Canada                │ 64.2823  │\n",
       "│ 248 │ \u001b[90mmissing\u001b[39m                      │ Kosovo                │ 42.6026  │\n",
       "│ 249 │ \u001b[90mmissing\u001b[39m                      │ Burma                 │ 21.9162  │\n",
       "│ 250 │ Anguilla                     │ United Kingdom        │ 18.2206  │\n",
       "│ 251 │ British Virgin Islands       │ United Kingdom        │ 18.4207  │\n",
       "│ 252 │ Turks and Caicos Islands     │ United Kingdom        │ 21.694   │\n",
       "│ 253 │ \u001b[90mmissing\u001b[39m                      │ MS Zaandam            │ 0.0      │\n",
       "│ 254 │ \u001b[90mmissing\u001b[39m                      │ Botswana              │ -22.3285 │"
      ]
     },
     "execution_count": 25,
     "metadata": {},
     "output_type": "execute_result"
    }
   ],
   "source": [
    "CSV.read(\"covid_data.csv\")  # run the function `read` from the package CSV"
   ]
  },
  {
   "cell_type": "code",
   "execution_count": 26,
   "metadata": {},
   "outputs": [],
   "source": [
    "data = CSV.read(\"covid_data.csv\");   "
   ]
  },
  {
   "cell_type": "code",
   "execution_count": 27,
   "metadata": {
    "scrolled": true
   },
   "outputs": [
    {
     "data": {
      "text/html": [
       "<table class=\"data-frame\"><thead><tr><th></th><th>Province/State</th><th>Country/Region</th><th>Lat</th><th>Long</th><th>1/22/20</th></tr><tr><th></th><th>String⍰</th><th>String</th><th>Float64</th><th>Float64</th><th>Int64</th></tr></thead><tbody><p>254 rows × 73 columns (omitted printing of 68 columns)</p><tr><th>1</th><td>missing</td><td>Afghanistan</td><td>33.0</td><td>65.0</td><td>0</td></tr><tr><th>2</th><td>missing</td><td>Albania</td><td>41.1533</td><td>20.1683</td><td>0</td></tr><tr><th>3</th><td>missing</td><td>Algeria</td><td>28.0339</td><td>1.6596</td><td>0</td></tr><tr><th>4</th><td>missing</td><td>Andorra</td><td>42.5063</td><td>1.5218</td><td>0</td></tr><tr><th>5</th><td>missing</td><td>Angola</td><td>-11.2027</td><td>17.8739</td><td>0</td></tr><tr><th>6</th><td>missing</td><td>Antigua and Barbuda</td><td>17.0608</td><td>-61.7964</td><td>0</td></tr><tr><th>7</th><td>missing</td><td>Argentina</td><td>-38.4161</td><td>-63.6167</td><td>0</td></tr><tr><th>8</th><td>missing</td><td>Armenia</td><td>40.0691</td><td>45.0382</td><td>0</td></tr><tr><th>9</th><td>Australian Capital Territory</td><td>Australia</td><td>-35.4735</td><td>149.012</td><td>0</td></tr><tr><th>10</th><td>New South Wales</td><td>Australia</td><td>-33.8688</td><td>151.209</td><td>0</td></tr><tr><th>11</th><td>Northern Territory</td><td>Australia</td><td>-12.4634</td><td>130.846</td><td>0</td></tr><tr><th>12</th><td>Queensland</td><td>Australia</td><td>-28.0167</td><td>153.4</td><td>0</td></tr><tr><th>13</th><td>South Australia</td><td>Australia</td><td>-34.9285</td><td>138.601</td><td>0</td></tr><tr><th>14</th><td>Tasmania</td><td>Australia</td><td>-41.4545</td><td>145.971</td><td>0</td></tr><tr><th>15</th><td>Victoria</td><td>Australia</td><td>-37.8136</td><td>144.963</td><td>0</td></tr><tr><th>16</th><td>Western Australia</td><td>Australia</td><td>-31.9505</td><td>115.861</td><td>0</td></tr><tr><th>17</th><td>missing</td><td>Austria</td><td>47.5162</td><td>14.5501</td><td>0</td></tr><tr><th>18</th><td>missing</td><td>Azerbaijan</td><td>40.1431</td><td>47.5769</td><td>0</td></tr><tr><th>19</th><td>missing</td><td>Bahamas</td><td>25.0343</td><td>-77.3963</td><td>0</td></tr><tr><th>20</th><td>missing</td><td>Bahrain</td><td>26.0275</td><td>50.55</td><td>0</td></tr><tr><th>21</th><td>missing</td><td>Bangladesh</td><td>23.685</td><td>90.3563</td><td>0</td></tr><tr><th>22</th><td>missing</td><td>Barbados</td><td>13.1939</td><td>-59.5432</td><td>0</td></tr><tr><th>23</th><td>missing</td><td>Belarus</td><td>53.7098</td><td>27.9534</td><td>0</td></tr><tr><th>24</th><td>missing</td><td>Belgium</td><td>50.8333</td><td>4.0</td><td>0</td></tr><tr><th>25</th><td>missing</td><td>Benin</td><td>9.3077</td><td>2.3158</td><td>0</td></tr><tr><th>26</th><td>missing</td><td>Bhutan</td><td>27.5142</td><td>90.4336</td><td>0</td></tr><tr><th>27</th><td>missing</td><td>Bolivia</td><td>-16.2902</td><td>-63.5887</td><td>0</td></tr><tr><th>28</th><td>missing</td><td>Bosnia and Herzegovina</td><td>43.9159</td><td>17.6791</td><td>0</td></tr><tr><th>29</th><td>missing</td><td>Brazil</td><td>-14.235</td><td>-51.9253</td><td>0</td></tr><tr><th>30</th><td>missing</td><td>Brunei</td><td>4.5353</td><td>114.728</td><td>0</td></tr><tr><th>&vellip;</th><td>&vellip;</td><td>&vellip;</td><td>&vellip;</td><td>&vellip;</td><td>&vellip;</td></tr></tbody></table>"
      ],
      "text/latex": [
       "\\begin{tabular}{r|cccccc}\n",
       "\t& Province/State & Country/Region & Lat & Long & 1/22/20 & \\\\\n",
       "\t\\hline\n",
       "\t& String⍰ & String & Float64 & Float64 & Int64 & \\\\\n",
       "\t\\hline\n",
       "\t1 &  & Afghanistan & 33.0 & 65.0 & 0 & $\\dots$ \\\\\n",
       "\t2 &  & Albania & 41.1533 & 20.1683 & 0 & $\\dots$ \\\\\n",
       "\t3 &  & Algeria & 28.0339 & 1.6596 & 0 & $\\dots$ \\\\\n",
       "\t4 &  & Andorra & 42.5063 & 1.5218 & 0 & $\\dots$ \\\\\n",
       "\t5 &  & Angola & -11.2027 & 17.8739 & 0 & $\\dots$ \\\\\n",
       "\t6 &  & Antigua and Barbuda & 17.0608 & -61.7964 & 0 & $\\dots$ \\\\\n",
       "\t7 &  & Argentina & -38.4161 & -63.6167 & 0 & $\\dots$ \\\\\n",
       "\t8 &  & Armenia & 40.0691 & 45.0382 & 0 & $\\dots$ \\\\\n",
       "\t9 & Australian Capital Territory & Australia & -35.4735 & 149.012 & 0 & $\\dots$ \\\\\n",
       "\t10 & New South Wales & Australia & -33.8688 & 151.209 & 0 & $\\dots$ \\\\\n",
       "\t11 & Northern Territory & Australia & -12.4634 & 130.846 & 0 & $\\dots$ \\\\\n",
       "\t12 & Queensland & Australia & -28.0167 & 153.4 & 0 & $\\dots$ \\\\\n",
       "\t13 & South Australia & Australia & -34.9285 & 138.601 & 0 & $\\dots$ \\\\\n",
       "\t14 & Tasmania & Australia & -41.4545 & 145.971 & 0 & $\\dots$ \\\\\n",
       "\t15 & Victoria & Australia & -37.8136 & 144.963 & 0 & $\\dots$ \\\\\n",
       "\t16 & Western Australia & Australia & -31.9505 & 115.861 & 0 & $\\dots$ \\\\\n",
       "\t17 &  & Austria & 47.5162 & 14.5501 & 0 & $\\dots$ \\\\\n",
       "\t18 &  & Azerbaijan & 40.1431 & 47.5769 & 0 & $\\dots$ \\\\\n",
       "\t19 &  & Bahamas & 25.0343 & -77.3963 & 0 & $\\dots$ \\\\\n",
       "\t20 &  & Bahrain & 26.0275 & 50.55 & 0 & $\\dots$ \\\\\n",
       "\t21 &  & Bangladesh & 23.685 & 90.3563 & 0 & $\\dots$ \\\\\n",
       "\t22 &  & Barbados & 13.1939 & -59.5432 & 0 & $\\dots$ \\\\\n",
       "\t23 &  & Belarus & 53.7098 & 27.9534 & 0 & $\\dots$ \\\\\n",
       "\t24 &  & Belgium & 50.8333 & 4.0 & 0 & $\\dots$ \\\\\n",
       "\t25 &  & Benin & 9.3077 & 2.3158 & 0 & $\\dots$ \\\\\n",
       "\t26 &  & Bhutan & 27.5142 & 90.4336 & 0 & $\\dots$ \\\\\n",
       "\t27 &  & Bolivia & -16.2902 & -63.5887 & 0 & $\\dots$ \\\\\n",
       "\t28 &  & Bosnia and Herzegovina & 43.9159 & 17.6791 & 0 & $\\dots$ \\\\\n",
       "\t29 &  & Brazil & -14.235 & -51.9253 & 0 & $\\dots$ \\\\\n",
       "\t30 &  & Brunei & 4.5353 & 114.728 & 0 & $\\dots$ \\\\\n",
       "\t$\\dots$ & $\\dots$ & $\\dots$ & $\\dots$ & $\\dots$ & $\\dots$ &  \\\\\n",
       "\\end{tabular}\n"
      ],
      "text/plain": [
       "254×73 DataFrames.DataFrame. Omitted printing of 70 columns\n",
       "│ Row │ Province/State               │ Country/Region        │ Lat      │\n",
       "│     │ \u001b[90mUnion{Missing, String}\u001b[39m       │ \u001b[90mString\u001b[39m                │ \u001b[90mFloat64\u001b[39m  │\n",
       "├─────┼──────────────────────────────┼───────────────────────┼──────────┤\n",
       "│ 1   │ \u001b[90mmissing\u001b[39m                      │ Afghanistan           │ 33.0     │\n",
       "│ 2   │ \u001b[90mmissing\u001b[39m                      │ Albania               │ 41.1533  │\n",
       "│ 3   │ \u001b[90mmissing\u001b[39m                      │ Algeria               │ 28.0339  │\n",
       "│ 4   │ \u001b[90mmissing\u001b[39m                      │ Andorra               │ 42.5063  │\n",
       "│ 5   │ \u001b[90mmissing\u001b[39m                      │ Angola                │ -11.2027 │\n",
       "│ 6   │ \u001b[90mmissing\u001b[39m                      │ Antigua and Barbuda   │ 17.0608  │\n",
       "│ 7   │ \u001b[90mmissing\u001b[39m                      │ Argentina             │ -38.4161 │\n",
       "│ 8   │ \u001b[90mmissing\u001b[39m                      │ Armenia               │ 40.0691  │\n",
       "│ 9   │ Australian Capital Territory │ Australia             │ -35.4735 │\n",
       "│ 10  │ New South Wales              │ Australia             │ -33.8688 │\n",
       "⋮\n",
       "│ 244 │ \u001b[90mmissing\u001b[39m                      │ Mali                  │ 17.5707  │\n",
       "│ 245 │ \u001b[90mmissing\u001b[39m                      │ Saint Kitts and Nevis │ 17.3578  │\n",
       "│ 246 │ Northwest Territories        │ Canada                │ 64.8255  │\n",
       "│ 247 │ Yukon                        │ Canada                │ 64.2823  │\n",
       "│ 248 │ \u001b[90mmissing\u001b[39m                      │ Kosovo                │ 42.6026  │\n",
       "│ 249 │ \u001b[90mmissing\u001b[39m                      │ Burma                 │ 21.9162  │\n",
       "│ 250 │ Anguilla                     │ United Kingdom        │ 18.2206  │\n",
       "│ 251 │ British Virgin Islands       │ United Kingdom        │ 18.4207  │\n",
       "│ 252 │ Turks and Caicos Islands     │ United Kingdom        │ 21.694   │\n",
       "│ 253 │ \u001b[90mmissing\u001b[39m                      │ MS Zaandam            │ 0.0      │\n",
       "│ 254 │ \u001b[90mmissing\u001b[39m                      │ Botswana              │ -22.3285 │"
      ]
     },
     "execution_count": 27,
     "metadata": {},
     "output_type": "execute_result"
    }
   ],
   "source": [
    "data"
   ]
  },
  {
   "cell_type": "code",
   "execution_count": 28,
   "metadata": {},
   "outputs": [
    {
     "data": {
      "text/plain": [
       "DataFrames.DataFrame"
      ]
     },
     "execution_count": 28,
     "metadata": {},
     "output_type": "execute_result"
    }
   ],
   "source": [
    "typeof(data)"
   ]
  },
  {
   "cell_type": "code",
   "execution_count": 29,
   "metadata": {},
   "outputs": [],
   "source": [
    "# Pkg.add(\"DataFrames\")"
   ]
  },
  {
   "cell_type": "code",
   "execution_count": 30,
   "metadata": {},
   "outputs": [],
   "source": [
    "using DataFrames"
   ]
  },
  {
   "cell_type": "code",
   "execution_count": 31,
   "metadata": {
    "scrolled": true
   },
   "outputs": [
    {
     "data": {
      "text/html": [
       "<table class=\"data-frame\"><thead><tr><th></th><th>province</th><th>country</th><th>Lat</th><th>Long</th><th>1/22/20</th></tr><tr><th></th><th>String⍰</th><th>String</th><th>Float64</th><th>Float64</th><th>Int64</th></tr></thead><tbody><p>254 rows × 73 columns (omitted printing of 68 columns)</p><tr><th>1</th><td>missing</td><td>Afghanistan</td><td>33.0</td><td>65.0</td><td>0</td></tr><tr><th>2</th><td>missing</td><td>Albania</td><td>41.1533</td><td>20.1683</td><td>0</td></tr><tr><th>3</th><td>missing</td><td>Algeria</td><td>28.0339</td><td>1.6596</td><td>0</td></tr><tr><th>4</th><td>missing</td><td>Andorra</td><td>42.5063</td><td>1.5218</td><td>0</td></tr><tr><th>5</th><td>missing</td><td>Angola</td><td>-11.2027</td><td>17.8739</td><td>0</td></tr><tr><th>6</th><td>missing</td><td>Antigua and Barbuda</td><td>17.0608</td><td>-61.7964</td><td>0</td></tr><tr><th>7</th><td>missing</td><td>Argentina</td><td>-38.4161</td><td>-63.6167</td><td>0</td></tr><tr><th>8</th><td>missing</td><td>Armenia</td><td>40.0691</td><td>45.0382</td><td>0</td></tr><tr><th>9</th><td>Australian Capital Territory</td><td>Australia</td><td>-35.4735</td><td>149.012</td><td>0</td></tr><tr><th>10</th><td>New South Wales</td><td>Australia</td><td>-33.8688</td><td>151.209</td><td>0</td></tr><tr><th>11</th><td>Northern Territory</td><td>Australia</td><td>-12.4634</td><td>130.846</td><td>0</td></tr><tr><th>12</th><td>Queensland</td><td>Australia</td><td>-28.0167</td><td>153.4</td><td>0</td></tr><tr><th>13</th><td>South Australia</td><td>Australia</td><td>-34.9285</td><td>138.601</td><td>0</td></tr><tr><th>14</th><td>Tasmania</td><td>Australia</td><td>-41.4545</td><td>145.971</td><td>0</td></tr><tr><th>15</th><td>Victoria</td><td>Australia</td><td>-37.8136</td><td>144.963</td><td>0</td></tr><tr><th>16</th><td>Western Australia</td><td>Australia</td><td>-31.9505</td><td>115.861</td><td>0</td></tr><tr><th>17</th><td>missing</td><td>Austria</td><td>47.5162</td><td>14.5501</td><td>0</td></tr><tr><th>18</th><td>missing</td><td>Azerbaijan</td><td>40.1431</td><td>47.5769</td><td>0</td></tr><tr><th>19</th><td>missing</td><td>Bahamas</td><td>25.0343</td><td>-77.3963</td><td>0</td></tr><tr><th>20</th><td>missing</td><td>Bahrain</td><td>26.0275</td><td>50.55</td><td>0</td></tr><tr><th>21</th><td>missing</td><td>Bangladesh</td><td>23.685</td><td>90.3563</td><td>0</td></tr><tr><th>22</th><td>missing</td><td>Barbados</td><td>13.1939</td><td>-59.5432</td><td>0</td></tr><tr><th>23</th><td>missing</td><td>Belarus</td><td>53.7098</td><td>27.9534</td><td>0</td></tr><tr><th>24</th><td>missing</td><td>Belgium</td><td>50.8333</td><td>4.0</td><td>0</td></tr><tr><th>25</th><td>missing</td><td>Benin</td><td>9.3077</td><td>2.3158</td><td>0</td></tr><tr><th>26</th><td>missing</td><td>Bhutan</td><td>27.5142</td><td>90.4336</td><td>0</td></tr><tr><th>27</th><td>missing</td><td>Bolivia</td><td>-16.2902</td><td>-63.5887</td><td>0</td></tr><tr><th>28</th><td>missing</td><td>Bosnia and Herzegovina</td><td>43.9159</td><td>17.6791</td><td>0</td></tr><tr><th>29</th><td>missing</td><td>Brazil</td><td>-14.235</td><td>-51.9253</td><td>0</td></tr><tr><th>30</th><td>missing</td><td>Brunei</td><td>4.5353</td><td>114.728</td><td>0</td></tr><tr><th>&vellip;</th><td>&vellip;</td><td>&vellip;</td><td>&vellip;</td><td>&vellip;</td><td>&vellip;</td></tr></tbody></table>"
      ],
      "text/latex": [
       "\\begin{tabular}{r|cccccc}\n",
       "\t& province & country & Lat & Long & 1/22/20 & \\\\\n",
       "\t\\hline\n",
       "\t& String⍰ & String & Float64 & Float64 & Int64 & \\\\\n",
       "\t\\hline\n",
       "\t1 &  & Afghanistan & 33.0 & 65.0 & 0 & $\\dots$ \\\\\n",
       "\t2 &  & Albania & 41.1533 & 20.1683 & 0 & $\\dots$ \\\\\n",
       "\t3 &  & Algeria & 28.0339 & 1.6596 & 0 & $\\dots$ \\\\\n",
       "\t4 &  & Andorra & 42.5063 & 1.5218 & 0 & $\\dots$ \\\\\n",
       "\t5 &  & Angola & -11.2027 & 17.8739 & 0 & $\\dots$ \\\\\n",
       "\t6 &  & Antigua and Barbuda & 17.0608 & -61.7964 & 0 & $\\dots$ \\\\\n",
       "\t7 &  & Argentina & -38.4161 & -63.6167 & 0 & $\\dots$ \\\\\n",
       "\t8 &  & Armenia & 40.0691 & 45.0382 & 0 & $\\dots$ \\\\\n",
       "\t9 & Australian Capital Territory & Australia & -35.4735 & 149.012 & 0 & $\\dots$ \\\\\n",
       "\t10 & New South Wales & Australia & -33.8688 & 151.209 & 0 & $\\dots$ \\\\\n",
       "\t11 & Northern Territory & Australia & -12.4634 & 130.846 & 0 & $\\dots$ \\\\\n",
       "\t12 & Queensland & Australia & -28.0167 & 153.4 & 0 & $\\dots$ \\\\\n",
       "\t13 & South Australia & Australia & -34.9285 & 138.601 & 0 & $\\dots$ \\\\\n",
       "\t14 & Tasmania & Australia & -41.4545 & 145.971 & 0 & $\\dots$ \\\\\n",
       "\t15 & Victoria & Australia & -37.8136 & 144.963 & 0 & $\\dots$ \\\\\n",
       "\t16 & Western Australia & Australia & -31.9505 & 115.861 & 0 & $\\dots$ \\\\\n",
       "\t17 &  & Austria & 47.5162 & 14.5501 & 0 & $\\dots$ \\\\\n",
       "\t18 &  & Azerbaijan & 40.1431 & 47.5769 & 0 & $\\dots$ \\\\\n",
       "\t19 &  & Bahamas & 25.0343 & -77.3963 & 0 & $\\dots$ \\\\\n",
       "\t20 &  & Bahrain & 26.0275 & 50.55 & 0 & $\\dots$ \\\\\n",
       "\t21 &  & Bangladesh & 23.685 & 90.3563 & 0 & $\\dots$ \\\\\n",
       "\t22 &  & Barbados & 13.1939 & -59.5432 & 0 & $\\dots$ \\\\\n",
       "\t23 &  & Belarus & 53.7098 & 27.9534 & 0 & $\\dots$ \\\\\n",
       "\t24 &  & Belgium & 50.8333 & 4.0 & 0 & $\\dots$ \\\\\n",
       "\t25 &  & Benin & 9.3077 & 2.3158 & 0 & $\\dots$ \\\\\n",
       "\t26 &  & Bhutan & 27.5142 & 90.4336 & 0 & $\\dots$ \\\\\n",
       "\t27 &  & Bolivia & -16.2902 & -63.5887 & 0 & $\\dots$ \\\\\n",
       "\t28 &  & Bosnia and Herzegovina & 43.9159 & 17.6791 & 0 & $\\dots$ \\\\\n",
       "\t29 &  & Brazil & -14.235 & -51.9253 & 0 & $\\dots$ \\\\\n",
       "\t30 &  & Brunei & 4.5353 & 114.728 & 0 & $\\dots$ \\\\\n",
       "\t$\\dots$ & $\\dots$ & $\\dots$ & $\\dots$ & $\\dots$ & $\\dots$ &  \\\\\n",
       "\\end{tabular}\n"
      ],
      "text/plain": [
       "254×73 DataFrame. Omitted printing of 70 columns\n",
       "│ Row │ province                     │ country               │ Lat      │\n",
       "│     │ \u001b[90mUnion{Missing, String}\u001b[39m       │ \u001b[90mString\u001b[39m                │ \u001b[90mFloat64\u001b[39m  │\n",
       "├─────┼──────────────────────────────┼───────────────────────┼──────────┤\n",
       "│ 1   │ \u001b[90mmissing\u001b[39m                      │ Afghanistan           │ 33.0     │\n",
       "│ 2   │ \u001b[90mmissing\u001b[39m                      │ Albania               │ 41.1533  │\n",
       "│ 3   │ \u001b[90mmissing\u001b[39m                      │ Algeria               │ 28.0339  │\n",
       "│ 4   │ \u001b[90mmissing\u001b[39m                      │ Andorra               │ 42.5063  │\n",
       "│ 5   │ \u001b[90mmissing\u001b[39m                      │ Angola                │ -11.2027 │\n",
       "│ 6   │ \u001b[90mmissing\u001b[39m                      │ Antigua and Barbuda   │ 17.0608  │\n",
       "│ 7   │ \u001b[90mmissing\u001b[39m                      │ Argentina             │ -38.4161 │\n",
       "│ 8   │ \u001b[90mmissing\u001b[39m                      │ Armenia               │ 40.0691  │\n",
       "│ 9   │ Australian Capital Territory │ Australia             │ -35.4735 │\n",
       "│ 10  │ New South Wales              │ Australia             │ -33.8688 │\n",
       "⋮\n",
       "│ 244 │ \u001b[90mmissing\u001b[39m                      │ Mali                  │ 17.5707  │\n",
       "│ 245 │ \u001b[90mmissing\u001b[39m                      │ Saint Kitts and Nevis │ 17.3578  │\n",
       "│ 246 │ Northwest Territories        │ Canada                │ 64.8255  │\n",
       "│ 247 │ Yukon                        │ Canada                │ 64.2823  │\n",
       "│ 248 │ \u001b[90mmissing\u001b[39m                      │ Kosovo                │ 42.6026  │\n",
       "│ 249 │ \u001b[90mmissing\u001b[39m                      │ Burma                 │ 21.9162  │\n",
       "│ 250 │ Anguilla                     │ United Kingdom        │ 18.2206  │\n",
       "│ 251 │ British Virgin Islands       │ United Kingdom        │ 18.4207  │\n",
       "│ 252 │ Turks and Caicos Islands     │ United Kingdom        │ 21.694   │\n",
       "│ 253 │ \u001b[90mmissing\u001b[39m                      │ MS Zaandam            │ 0.0      │\n",
       "│ 254 │ \u001b[90mmissing\u001b[39m                      │ Botswana              │ -22.3285 │"
      ]
     },
     "execution_count": 31,
     "metadata": {},
     "output_type": "execute_result"
    }
   ],
   "source": [
    "data_2 = rename(data, 1 => \"province\", 2 => \"country\")   "
   ]
  },
  {
   "cell_type": "code",
   "execution_count": 32,
   "metadata": {
    "scrolled": true
   },
   "outputs": [
    {
     "data": {
      "text/html": [
       "<table class=\"data-frame\"><thead><tr><th></th><th>province</th><th>country</th><th>Lat</th><th>Long</th><th>1/22/20</th></tr><tr><th></th><th>String⍰</th><th>String</th><th>Float64</th><th>Float64</th><th>Int64</th></tr></thead><tbody><p>254 rows × 73 columns (omitted printing of 68 columns)</p><tr><th>1</th><td>missing</td><td>Afghanistan</td><td>33.0</td><td>65.0</td><td>0</td></tr><tr><th>2</th><td>missing</td><td>Albania</td><td>41.1533</td><td>20.1683</td><td>0</td></tr><tr><th>3</th><td>missing</td><td>Algeria</td><td>28.0339</td><td>1.6596</td><td>0</td></tr><tr><th>4</th><td>missing</td><td>Andorra</td><td>42.5063</td><td>1.5218</td><td>0</td></tr><tr><th>5</th><td>missing</td><td>Angola</td><td>-11.2027</td><td>17.8739</td><td>0</td></tr><tr><th>6</th><td>missing</td><td>Antigua and Barbuda</td><td>17.0608</td><td>-61.7964</td><td>0</td></tr><tr><th>7</th><td>missing</td><td>Argentina</td><td>-38.4161</td><td>-63.6167</td><td>0</td></tr><tr><th>8</th><td>missing</td><td>Armenia</td><td>40.0691</td><td>45.0382</td><td>0</td></tr><tr><th>9</th><td>Australian Capital Territory</td><td>Australia</td><td>-35.4735</td><td>149.012</td><td>0</td></tr><tr><th>10</th><td>New South Wales</td><td>Australia</td><td>-33.8688</td><td>151.209</td><td>0</td></tr><tr><th>11</th><td>Northern Territory</td><td>Australia</td><td>-12.4634</td><td>130.846</td><td>0</td></tr><tr><th>12</th><td>Queensland</td><td>Australia</td><td>-28.0167</td><td>153.4</td><td>0</td></tr><tr><th>13</th><td>South Australia</td><td>Australia</td><td>-34.9285</td><td>138.601</td><td>0</td></tr><tr><th>14</th><td>Tasmania</td><td>Australia</td><td>-41.4545</td><td>145.971</td><td>0</td></tr><tr><th>15</th><td>Victoria</td><td>Australia</td><td>-37.8136</td><td>144.963</td><td>0</td></tr><tr><th>16</th><td>Western Australia</td><td>Australia</td><td>-31.9505</td><td>115.861</td><td>0</td></tr><tr><th>17</th><td>missing</td><td>Austria</td><td>47.5162</td><td>14.5501</td><td>0</td></tr><tr><th>18</th><td>missing</td><td>Azerbaijan</td><td>40.1431</td><td>47.5769</td><td>0</td></tr><tr><th>19</th><td>missing</td><td>Bahamas</td><td>25.0343</td><td>-77.3963</td><td>0</td></tr><tr><th>20</th><td>missing</td><td>Bahrain</td><td>26.0275</td><td>50.55</td><td>0</td></tr><tr><th>21</th><td>missing</td><td>Bangladesh</td><td>23.685</td><td>90.3563</td><td>0</td></tr><tr><th>22</th><td>missing</td><td>Barbados</td><td>13.1939</td><td>-59.5432</td><td>0</td></tr><tr><th>23</th><td>missing</td><td>Belarus</td><td>53.7098</td><td>27.9534</td><td>0</td></tr><tr><th>24</th><td>missing</td><td>Belgium</td><td>50.8333</td><td>4.0</td><td>0</td></tr><tr><th>25</th><td>missing</td><td>Benin</td><td>9.3077</td><td>2.3158</td><td>0</td></tr><tr><th>26</th><td>missing</td><td>Bhutan</td><td>27.5142</td><td>90.4336</td><td>0</td></tr><tr><th>27</th><td>missing</td><td>Bolivia</td><td>-16.2902</td><td>-63.5887</td><td>0</td></tr><tr><th>28</th><td>missing</td><td>Bosnia and Herzegovina</td><td>43.9159</td><td>17.6791</td><td>0</td></tr><tr><th>29</th><td>missing</td><td>Brazil</td><td>-14.235</td><td>-51.9253</td><td>0</td></tr><tr><th>30</th><td>missing</td><td>Brunei</td><td>4.5353</td><td>114.728</td><td>0</td></tr><tr><th>&vellip;</th><td>&vellip;</td><td>&vellip;</td><td>&vellip;</td><td>&vellip;</td><td>&vellip;</td></tr></tbody></table>"
      ],
      "text/latex": [
       "\\begin{tabular}{r|cccccc}\n",
       "\t& province & country & Lat & Long & 1/22/20 & \\\\\n",
       "\t\\hline\n",
       "\t& String⍰ & String & Float64 & Float64 & Int64 & \\\\\n",
       "\t\\hline\n",
       "\t1 &  & Afghanistan & 33.0 & 65.0 & 0 & $\\dots$ \\\\\n",
       "\t2 &  & Albania & 41.1533 & 20.1683 & 0 & $\\dots$ \\\\\n",
       "\t3 &  & Algeria & 28.0339 & 1.6596 & 0 & $\\dots$ \\\\\n",
       "\t4 &  & Andorra & 42.5063 & 1.5218 & 0 & $\\dots$ \\\\\n",
       "\t5 &  & Angola & -11.2027 & 17.8739 & 0 & $\\dots$ \\\\\n",
       "\t6 &  & Antigua and Barbuda & 17.0608 & -61.7964 & 0 & $\\dots$ \\\\\n",
       "\t7 &  & Argentina & -38.4161 & -63.6167 & 0 & $\\dots$ \\\\\n",
       "\t8 &  & Armenia & 40.0691 & 45.0382 & 0 & $\\dots$ \\\\\n",
       "\t9 & Australian Capital Territory & Australia & -35.4735 & 149.012 & 0 & $\\dots$ \\\\\n",
       "\t10 & New South Wales & Australia & -33.8688 & 151.209 & 0 & $\\dots$ \\\\\n",
       "\t11 & Northern Territory & Australia & -12.4634 & 130.846 & 0 & $\\dots$ \\\\\n",
       "\t12 & Queensland & Australia & -28.0167 & 153.4 & 0 & $\\dots$ \\\\\n",
       "\t13 & South Australia & Australia & -34.9285 & 138.601 & 0 & $\\dots$ \\\\\n",
       "\t14 & Tasmania & Australia & -41.4545 & 145.971 & 0 & $\\dots$ \\\\\n",
       "\t15 & Victoria & Australia & -37.8136 & 144.963 & 0 & $\\dots$ \\\\\n",
       "\t16 & Western Australia & Australia & -31.9505 & 115.861 & 0 & $\\dots$ \\\\\n",
       "\t17 &  & Austria & 47.5162 & 14.5501 & 0 & $\\dots$ \\\\\n",
       "\t18 &  & Azerbaijan & 40.1431 & 47.5769 & 0 & $\\dots$ \\\\\n",
       "\t19 &  & Bahamas & 25.0343 & -77.3963 & 0 & $\\dots$ \\\\\n",
       "\t20 &  & Bahrain & 26.0275 & 50.55 & 0 & $\\dots$ \\\\\n",
       "\t21 &  & Bangladesh & 23.685 & 90.3563 & 0 & $\\dots$ \\\\\n",
       "\t22 &  & Barbados & 13.1939 & -59.5432 & 0 & $\\dots$ \\\\\n",
       "\t23 &  & Belarus & 53.7098 & 27.9534 & 0 & $\\dots$ \\\\\n",
       "\t24 &  & Belgium & 50.8333 & 4.0 & 0 & $\\dots$ \\\\\n",
       "\t25 &  & Benin & 9.3077 & 2.3158 & 0 & $\\dots$ \\\\\n",
       "\t26 &  & Bhutan & 27.5142 & 90.4336 & 0 & $\\dots$ \\\\\n",
       "\t27 &  & Bolivia & -16.2902 & -63.5887 & 0 & $\\dots$ \\\\\n",
       "\t28 &  & Bosnia and Herzegovina & 43.9159 & 17.6791 & 0 & $\\dots$ \\\\\n",
       "\t29 &  & Brazil & -14.235 & -51.9253 & 0 & $\\dots$ \\\\\n",
       "\t30 &  & Brunei & 4.5353 & 114.728 & 0 & $\\dots$ \\\\\n",
       "\t$\\dots$ & $\\dots$ & $\\dots$ & $\\dots$ & $\\dots$ & $\\dots$ &  \\\\\n",
       "\\end{tabular}\n"
      ],
      "text/plain": [
       "254×73 DataFrame. Omitted printing of 70 columns\n",
       "│ Row │ province                     │ country               │ Lat      │\n",
       "│     │ \u001b[90mUnion{Missing, String}\u001b[39m       │ \u001b[90mString\u001b[39m                │ \u001b[90mFloat64\u001b[39m  │\n",
       "├─────┼──────────────────────────────┼───────────────────────┼──────────┤\n",
       "│ 1   │ \u001b[90mmissing\u001b[39m                      │ Afghanistan           │ 33.0     │\n",
       "│ 2   │ \u001b[90mmissing\u001b[39m                      │ Albania               │ 41.1533  │\n",
       "│ 3   │ \u001b[90mmissing\u001b[39m                      │ Algeria               │ 28.0339  │\n",
       "│ 4   │ \u001b[90mmissing\u001b[39m                      │ Andorra               │ 42.5063  │\n",
       "│ 5   │ \u001b[90mmissing\u001b[39m                      │ Angola                │ -11.2027 │\n",
       "│ 6   │ \u001b[90mmissing\u001b[39m                      │ Antigua and Barbuda   │ 17.0608  │\n",
       "│ 7   │ \u001b[90mmissing\u001b[39m                      │ Argentina             │ -38.4161 │\n",
       "│ 8   │ \u001b[90mmissing\u001b[39m                      │ Armenia               │ 40.0691  │\n",
       "│ 9   │ Australian Capital Territory │ Australia             │ -35.4735 │\n",
       "│ 10  │ New South Wales              │ Australia             │ -33.8688 │\n",
       "⋮\n",
       "│ 244 │ \u001b[90mmissing\u001b[39m                      │ Mali                  │ 17.5707  │\n",
       "│ 245 │ \u001b[90mmissing\u001b[39m                      │ Saint Kitts and Nevis │ 17.3578  │\n",
       "│ 246 │ Northwest Territories        │ Canada                │ 64.8255  │\n",
       "│ 247 │ Yukon                        │ Canada                │ 64.2823  │\n",
       "│ 248 │ \u001b[90mmissing\u001b[39m                      │ Kosovo                │ 42.6026  │\n",
       "│ 249 │ \u001b[90mmissing\u001b[39m                      │ Burma                 │ 21.9162  │\n",
       "│ 250 │ Anguilla                     │ United Kingdom        │ 18.2206  │\n",
       "│ 251 │ British Virgin Islands       │ United Kingdom        │ 18.4207  │\n",
       "│ 252 │ Turks and Caicos Islands     │ United Kingdom        │ 21.694   │\n",
       "│ 253 │ \u001b[90mmissing\u001b[39m                      │ MS Zaandam            │ 0.0      │\n",
       "│ 254 │ \u001b[90mmissing\u001b[39m                      │ Botswana              │ -22.3285 │"
      ]
     },
     "execution_count": 32,
     "metadata": {},
     "output_type": "execute_result"
    }
   ],
   "source": [
    "rename!(data, 1 => \"province\", 2 => \"country\") # ! is convention: function *modifies* its argument in place"
   ]
  },
  {
   "cell_type": "code",
   "execution_count": 33,
   "metadata": {
    "scrolled": true
   },
   "outputs": [
    {
     "data": {
      "text/html": [
       "<table class=\"data-frame\"><thead><tr><th></th><th>province</th><th>country</th><th>Lat</th><th>Long</th><th>1/22/20</th></tr><tr><th></th><th>String⍰</th><th>String</th><th>Float64</th><th>Float64</th><th>Int64</th></tr></thead><tbody><p>254 rows × 73 columns (omitted printing of 68 columns)</p><tr><th>1</th><td>missing</td><td>Afghanistan</td><td>33.0</td><td>65.0</td><td>0</td></tr><tr><th>2</th><td>missing</td><td>Albania</td><td>41.1533</td><td>20.1683</td><td>0</td></tr><tr><th>3</th><td>missing</td><td>Algeria</td><td>28.0339</td><td>1.6596</td><td>0</td></tr><tr><th>4</th><td>missing</td><td>Andorra</td><td>42.5063</td><td>1.5218</td><td>0</td></tr><tr><th>5</th><td>missing</td><td>Angola</td><td>-11.2027</td><td>17.8739</td><td>0</td></tr><tr><th>6</th><td>missing</td><td>Antigua and Barbuda</td><td>17.0608</td><td>-61.7964</td><td>0</td></tr><tr><th>7</th><td>missing</td><td>Argentina</td><td>-38.4161</td><td>-63.6167</td><td>0</td></tr><tr><th>8</th><td>missing</td><td>Armenia</td><td>40.0691</td><td>45.0382</td><td>0</td></tr><tr><th>9</th><td>Australian Capital Territory</td><td>Australia</td><td>-35.4735</td><td>149.012</td><td>0</td></tr><tr><th>10</th><td>New South Wales</td><td>Australia</td><td>-33.8688</td><td>151.209</td><td>0</td></tr><tr><th>11</th><td>Northern Territory</td><td>Australia</td><td>-12.4634</td><td>130.846</td><td>0</td></tr><tr><th>12</th><td>Queensland</td><td>Australia</td><td>-28.0167</td><td>153.4</td><td>0</td></tr><tr><th>13</th><td>South Australia</td><td>Australia</td><td>-34.9285</td><td>138.601</td><td>0</td></tr><tr><th>14</th><td>Tasmania</td><td>Australia</td><td>-41.4545</td><td>145.971</td><td>0</td></tr><tr><th>15</th><td>Victoria</td><td>Australia</td><td>-37.8136</td><td>144.963</td><td>0</td></tr><tr><th>16</th><td>Western Australia</td><td>Australia</td><td>-31.9505</td><td>115.861</td><td>0</td></tr><tr><th>17</th><td>missing</td><td>Austria</td><td>47.5162</td><td>14.5501</td><td>0</td></tr><tr><th>18</th><td>missing</td><td>Azerbaijan</td><td>40.1431</td><td>47.5769</td><td>0</td></tr><tr><th>19</th><td>missing</td><td>Bahamas</td><td>25.0343</td><td>-77.3963</td><td>0</td></tr><tr><th>20</th><td>missing</td><td>Bahrain</td><td>26.0275</td><td>50.55</td><td>0</td></tr><tr><th>21</th><td>missing</td><td>Bangladesh</td><td>23.685</td><td>90.3563</td><td>0</td></tr><tr><th>22</th><td>missing</td><td>Barbados</td><td>13.1939</td><td>-59.5432</td><td>0</td></tr><tr><th>23</th><td>missing</td><td>Belarus</td><td>53.7098</td><td>27.9534</td><td>0</td></tr><tr><th>24</th><td>missing</td><td>Belgium</td><td>50.8333</td><td>4.0</td><td>0</td></tr><tr><th>25</th><td>missing</td><td>Benin</td><td>9.3077</td><td>2.3158</td><td>0</td></tr><tr><th>26</th><td>missing</td><td>Bhutan</td><td>27.5142</td><td>90.4336</td><td>0</td></tr><tr><th>27</th><td>missing</td><td>Bolivia</td><td>-16.2902</td><td>-63.5887</td><td>0</td></tr><tr><th>28</th><td>missing</td><td>Bosnia and Herzegovina</td><td>43.9159</td><td>17.6791</td><td>0</td></tr><tr><th>29</th><td>missing</td><td>Brazil</td><td>-14.235</td><td>-51.9253</td><td>0</td></tr><tr><th>30</th><td>missing</td><td>Brunei</td><td>4.5353</td><td>114.728</td><td>0</td></tr><tr><th>&vellip;</th><td>&vellip;</td><td>&vellip;</td><td>&vellip;</td><td>&vellip;</td><td>&vellip;</td></tr></tbody></table>"
      ],
      "text/latex": [
       "\\begin{tabular}{r|cccccc}\n",
       "\t& province & country & Lat & Long & 1/22/20 & \\\\\n",
       "\t\\hline\n",
       "\t& String⍰ & String & Float64 & Float64 & Int64 & \\\\\n",
       "\t\\hline\n",
       "\t1 &  & Afghanistan & 33.0 & 65.0 & 0 & $\\dots$ \\\\\n",
       "\t2 &  & Albania & 41.1533 & 20.1683 & 0 & $\\dots$ \\\\\n",
       "\t3 &  & Algeria & 28.0339 & 1.6596 & 0 & $\\dots$ \\\\\n",
       "\t4 &  & Andorra & 42.5063 & 1.5218 & 0 & $\\dots$ \\\\\n",
       "\t5 &  & Angola & -11.2027 & 17.8739 & 0 & $\\dots$ \\\\\n",
       "\t6 &  & Antigua and Barbuda & 17.0608 & -61.7964 & 0 & $\\dots$ \\\\\n",
       "\t7 &  & Argentina & -38.4161 & -63.6167 & 0 & $\\dots$ \\\\\n",
       "\t8 &  & Armenia & 40.0691 & 45.0382 & 0 & $\\dots$ \\\\\n",
       "\t9 & Australian Capital Territory & Australia & -35.4735 & 149.012 & 0 & $\\dots$ \\\\\n",
       "\t10 & New South Wales & Australia & -33.8688 & 151.209 & 0 & $\\dots$ \\\\\n",
       "\t11 & Northern Territory & Australia & -12.4634 & 130.846 & 0 & $\\dots$ \\\\\n",
       "\t12 & Queensland & Australia & -28.0167 & 153.4 & 0 & $\\dots$ \\\\\n",
       "\t13 & South Australia & Australia & -34.9285 & 138.601 & 0 & $\\dots$ \\\\\n",
       "\t14 & Tasmania & Australia & -41.4545 & 145.971 & 0 & $\\dots$ \\\\\n",
       "\t15 & Victoria & Australia & -37.8136 & 144.963 & 0 & $\\dots$ \\\\\n",
       "\t16 & Western Australia & Australia & -31.9505 & 115.861 & 0 & $\\dots$ \\\\\n",
       "\t17 &  & Austria & 47.5162 & 14.5501 & 0 & $\\dots$ \\\\\n",
       "\t18 &  & Azerbaijan & 40.1431 & 47.5769 & 0 & $\\dots$ \\\\\n",
       "\t19 &  & Bahamas & 25.0343 & -77.3963 & 0 & $\\dots$ \\\\\n",
       "\t20 &  & Bahrain & 26.0275 & 50.55 & 0 & $\\dots$ \\\\\n",
       "\t21 &  & Bangladesh & 23.685 & 90.3563 & 0 & $\\dots$ \\\\\n",
       "\t22 &  & Barbados & 13.1939 & -59.5432 & 0 & $\\dots$ \\\\\n",
       "\t23 &  & Belarus & 53.7098 & 27.9534 & 0 & $\\dots$ \\\\\n",
       "\t24 &  & Belgium & 50.8333 & 4.0 & 0 & $\\dots$ \\\\\n",
       "\t25 &  & Benin & 9.3077 & 2.3158 & 0 & $\\dots$ \\\\\n",
       "\t26 &  & Bhutan & 27.5142 & 90.4336 & 0 & $\\dots$ \\\\\n",
       "\t27 &  & Bolivia & -16.2902 & -63.5887 & 0 & $\\dots$ \\\\\n",
       "\t28 &  & Bosnia and Herzegovina & 43.9159 & 17.6791 & 0 & $\\dots$ \\\\\n",
       "\t29 &  & Brazil & -14.235 & -51.9253 & 0 & $\\dots$ \\\\\n",
       "\t30 &  & Brunei & 4.5353 & 114.728 & 0 & $\\dots$ \\\\\n",
       "\t$\\dots$ & $\\dots$ & $\\dots$ & $\\dots$ & $\\dots$ & $\\dots$ &  \\\\\n",
       "\\end{tabular}\n"
      ],
      "text/plain": [
       "254×73 DataFrame. Omitted printing of 70 columns\n",
       "│ Row │ province                     │ country               │ Lat      │\n",
       "│     │ \u001b[90mUnion{Missing, String}\u001b[39m       │ \u001b[90mString\u001b[39m                │ \u001b[90mFloat64\u001b[39m  │\n",
       "├─────┼──────────────────────────────┼───────────────────────┼──────────┤\n",
       "│ 1   │ \u001b[90mmissing\u001b[39m                      │ Afghanistan           │ 33.0     │\n",
       "│ 2   │ \u001b[90mmissing\u001b[39m                      │ Albania               │ 41.1533  │\n",
       "│ 3   │ \u001b[90mmissing\u001b[39m                      │ Algeria               │ 28.0339  │\n",
       "│ 4   │ \u001b[90mmissing\u001b[39m                      │ Andorra               │ 42.5063  │\n",
       "│ 5   │ \u001b[90mmissing\u001b[39m                      │ Angola                │ -11.2027 │\n",
       "│ 6   │ \u001b[90mmissing\u001b[39m                      │ Antigua and Barbuda   │ 17.0608  │\n",
       "│ 7   │ \u001b[90mmissing\u001b[39m                      │ Argentina             │ -38.4161 │\n",
       "│ 8   │ \u001b[90mmissing\u001b[39m                      │ Armenia               │ 40.0691  │\n",
       "│ 9   │ Australian Capital Territory │ Australia             │ -35.4735 │\n",
       "│ 10  │ New South Wales              │ Australia             │ -33.8688 │\n",
       "⋮\n",
       "│ 244 │ \u001b[90mmissing\u001b[39m                      │ Mali                  │ 17.5707  │\n",
       "│ 245 │ \u001b[90mmissing\u001b[39m                      │ Saint Kitts and Nevis │ 17.3578  │\n",
       "│ 246 │ Northwest Territories        │ Canada                │ 64.8255  │\n",
       "│ 247 │ Yukon                        │ Canada                │ 64.2823  │\n",
       "│ 248 │ \u001b[90mmissing\u001b[39m                      │ Kosovo                │ 42.6026  │\n",
       "│ 249 │ \u001b[90mmissing\u001b[39m                      │ Burma                 │ 21.9162  │\n",
       "│ 250 │ Anguilla                     │ United Kingdom        │ 18.2206  │\n",
       "│ 251 │ British Virgin Islands       │ United Kingdom        │ 18.4207  │\n",
       "│ 252 │ Turks and Caicos Islands     │ United Kingdom        │ 21.694   │\n",
       "│ 253 │ \u001b[90mmissing\u001b[39m                      │ MS Zaandam            │ 0.0      │\n",
       "│ 254 │ \u001b[90mmissing\u001b[39m                      │ Botswana              │ -22.3285 │"
      ]
     },
     "execution_count": 33,
     "metadata": {},
     "output_type": "execute_result"
    }
   ],
   "source": [
    "data"
   ]
  },
  {
   "cell_type": "code",
   "execution_count": 34,
   "metadata": {},
   "outputs": [],
   "source": [
    "# Pkg.update()"
   ]
  },
  {
   "cell_type": "markdown",
   "metadata": {},
   "source": [
    "Ctrl-M, Y  to switch to code cell\n",
    "\n",
    "Ctrl-M, M  to switch to **markdown**\n",
    "\n",
    "Esc instead of Ctrl-M\n",
    "\n"
   ]
  },
  {
   "cell_type": "markdown",
   "metadata": {},
   "source": [
    "## Interact.jl: Simple interactive visualizations"
   ]
  },
  {
   "cell_type": "code",
   "execution_count": 35,
   "metadata": {},
   "outputs": [],
   "source": [
    "\n",
    "using Interact\n",
    "using WebIO\n"
   ]
  },
  {
   "cell_type": "code",
   "execution_count": 36,
   "metadata": {},
   "outputs": [
    {
     "name": "stdout",
     "output_type": "stream",
     "text": [
      "i = 1\n",
      "i = 2\n",
      "i = 3\n",
      "i = 4\n",
      "i = 5\n",
      "i = 6\n",
      "i = 7\n",
      "i = 8\n",
      "i = 9\n",
      "i = 10\n"
     ]
    }
   ],
   "source": [
    "for i in 1:10\n",
    "    @show i\n",
    "end"
   ]
  },
  {
   "cell_type": "code",
   "execution_count": 37,
   "metadata": {},
   "outputs": [
    {
     "data": {
      "text/plain": [
       "UnitRange{Int64}"
      ]
     },
     "execution_count": 37,
     "metadata": {},
     "output_type": "execute_result"
    }
   ],
   "source": [
    "typeof(1:10)"
   ]
  },
  {
   "cell_type": "code",
   "execution_count": 38,
   "metadata": {},
   "outputs": [
    {
     "data": {
      "text/plain": [
       "10-element Array{Int64,1}:\n",
       "  1\n",
       "  2\n",
       "  3\n",
       "  4\n",
       "  5\n",
       "  6\n",
       "  7\n",
       "  8\n",
       "  9\n",
       " 10"
      ]
     },
     "execution_count": 38,
     "metadata": {},
     "output_type": "execute_result"
    }
   ],
   "source": [
    "collect(1:10)"
   ]
  },
  {
   "cell_type": "code",
   "execution_count": 39,
   "metadata": {},
   "outputs": [
    {
     "name": "stdout",
     "output_type": "stream",
     "text": [
      "i = 1\n",
      "i = 2\n",
      "i = 3\n",
      "i = 4\n",
      "i = 5\n",
      "i = 6\n",
      "i = 7\n",
      "i = 8\n",
      "i = 9\n",
      "i = 10\n"
     ]
    }
   ],
   "source": [
    "for i in 1:10\n",
    "    println(\"i = \", i)\n",
    "end"
   ]
  },
  {
   "cell_type": "code",
   "execution_count": 40,
   "metadata": {},
   "outputs": [
    {
     "name": "stdout",
     "output_type": "stream",
     "text": [
      "i = 1\n",
      "i = 2\n",
      "i = 3\n",
      "i = 4\n",
      "i = 5\n",
      "i = 6\n",
      "i = 7\n",
      "i = 8\n",
      "i = 9\n",
      "i = 10\n"
     ]
    }
   ],
   "source": [
    "for i in 1:10\n",
    "    @show i\n",
    "end"
   ]
  },
  {
   "cell_type": "code",
   "execution_count": 41,
   "metadata": {},
   "outputs": [],
   "source": [
    "for i in 1:10\n",
    "    i\n",
    "end"
   ]
  },
  {
   "cell_type": "code",
   "execution_count": 42,
   "metadata": {},
   "outputs": [],
   "source": [
    "# Pkg.build(\"Interact\")"
   ]
  },
  {
   "cell_type": "code",
   "execution_count": 43,
   "metadata": {},
   "outputs": [
    {
     "data": {
      "application/vnd.webio.node+json": {
       "children": [
        {
         "children": [
          {
           "children": [
            {
             "children": [
              {
               "children": [
                {
                 "children": [
                  ""
                 ],
                 "instanceArgs": {
                  "namespace": "html",
                  "tag": "label"
                 },
                 "nodeType": "DOM",
                 "props": {
                  "className": "interact ",
                  "style": {
                   "padding": "5px 10px 0px 10px"
                  }
                 },
                 "type": "node"
                }
               ],
               "instanceArgs": {
                "namespace": "html",
                "tag": "div"
               },
               "nodeType": "DOM",
               "props": {
                "className": "interact-flex-row-left"
               },
               "type": "node"
              },
              {
               "children": [
                {
                 "children": [],
                 "instanceArgs": {
                  "namespace": "html",
                  "tag": "input"
                 },
                 "nodeType": "DOM",
                 "props": {
                  "attributes": {
                   "data-bind": "numericValue: index, valueUpdate: 'input', event: {change: function (){this.changes(this.changes()+1)}}",
                   "orient": "horizontal",
                   "type": "range"
                  },
                  "className": "slider slider is-fullwidth",
                  "max": 100,
                  "min": 1,
                  "step": 1,
                  "style": {}
                 },
                 "type": "node"
                }
               ],
               "instanceArgs": {
                "namespace": "html",
                "tag": "div"
               },
               "nodeType": "DOM",
               "props": {
                "className": "interact-flex-row-center"
               },
               "type": "node"
              },
              {
               "children": [
                {
                 "children": [],
                 "instanceArgs": {
                  "namespace": "html",
                  "tag": "p"
                 },
                 "nodeType": "DOM",
                 "props": {
                  "attributes": {
                   "data-bind": "text: formatted_val"
                  }
                 },
                 "type": "node"
                }
               ],
               "instanceArgs": {
                "namespace": "html",
                "tag": "div"
               },
               "nodeType": "DOM",
               "props": {
                "className": "interact-flex-row-right"
               },
               "type": "node"
              }
             ],
             "instanceArgs": {
              "namespace": "html",
              "tag": "div"
             },
             "nodeType": "DOM",
             "props": {
              "className": "interact-flex-row interact-widget"
             },
             "type": "node"
            }
           ],
           "instanceArgs": {
            "handlers": {
             "changes": [
              "(function (val){return (val!=this.model[\"changes\"]()) ? (this.valueFromJulia[\"changes\"]=true, this.model[\"changes\"](val)) : undefined})"
             ],
             "index": [
              "(function (val){return (val!=this.model[\"index\"]()) ? (this.valueFromJulia[\"index\"]=true, this.model[\"index\"](val)) : undefined})"
             ]
            },
            "id": "557318323537219238",
            "imports": {
             "data": [
              {
               "name": "knockout",
               "type": "js",
               "url": "/assetserver/3fa3ffaec5c6b9df2919c82e5e20a6e06518e577-knockout.js"
              },
              {
               "name": "knockout_punches",
               "type": "js",
               "url": "/assetserver/63782d88af4e5f6f4f5a58b0bbb8a2f1d80dff55-knockout_punches.js"
              },
              {
               "name": null,
               "type": "js",
               "url": "/assetserver/a546995d2d749ea7d8e65310e2611dcbd5c61f11-all.js"
              },
              {
               "name": null,
               "type": "css",
               "url": "/assetserver/435ddd0d7423dc3ebcb68749fc95645702bb321d-style.css"
              },
              {
               "name": null,
               "type": "css",
               "url": "/assetserver/344f57f60404443ed30603f89a97186ff42b3d77-bulma_confined.min.css"
              }
             ],
             "type": "async_block"
            },
            "mount_callbacks": [
             "function () {\n    var handler = (function (ko, koPunches) {\n    ko.punches.enableAll();\n    ko.bindingHandlers.numericValue = {\n        init: function(element, valueAccessor, allBindings, data, context) {\n            var stringified = ko.observable(ko.unwrap(valueAccessor()));\n            stringified.subscribe(function(value) {\n                var val = parseFloat(value);\n                if (!isNaN(val)) {\n                    valueAccessor()(val);\n                }\n            });\n            valueAccessor().subscribe(function(value) {\n                var str = JSON.stringify(value);\n                if ((str == \"0\") && ([\"-0\", \"-0.\"].indexOf(stringified()) >= 0))\n                     return;\n                 if ([\"null\", \"\"].indexOf(str) >= 0)\n                     return;\n                stringified(str);\n            });\n            ko.applyBindingsToNode(\n                element,\n                {\n                    value: stringified,\n                    valueUpdate: allBindings.get('valueUpdate'),\n                },\n                context,\n            );\n        }\n    };\n    var json_data = {\"formatted_vals\":[\"1\",\"2\",\"3\",\"4\",\"5\",\"6\",\"7\",\"8\",\"9\",\"10\",\"11\",\"12\",\"13\",\"14\",\"15\",\"16\",\"17\",\"18\",\"19\",\"20\",\"21\",\"22\",\"23\",\"24\",\"25\",\"26\",\"27\",\"28\",\"29\",\"30\",\"31\",\"32\",\"33\",\"34\",\"35\",\"36\",\"37\",\"38\",\"39\",\"40\",\"41\",\"42\",\"43\",\"44\",\"45\",\"46\",\"47\",\"48\",\"49\",\"50\",\"51\",\"52\",\"53\",\"54\",\"55\",\"56\",\"57\",\"58\",\"59\",\"60\",\"61\",\"62\",\"63\",\"64\",\"65\",\"66\",\"67\",\"68\",\"69\",\"70\",\"71\",\"72\",\"73\",\"74\",\"75\",\"76\",\"77\",\"78\",\"79\",\"80\",\"81\",\"82\",\"83\",\"84\",\"85\",\"86\",\"87\",\"88\",\"89\",\"90\",\"91\",\"92\",\"93\",\"94\",\"95\",\"96\",\"97\",\"98\",\"99\",\"100\"],\"changes\":WebIO.getval({\"name\":\"changes\",\"scope\":\"557318323537219238\",\"id\":\"ob_24\",\"type\":\"observable\"}),\"index\":WebIO.getval({\"name\":\"index\",\"scope\":\"557318323537219238\",\"id\":\"ob_23\",\"type\":\"observable\"})};\n    var self = this;\n    function AppViewModel() {\n        for (var key in json_data) {\n            var el = json_data[key];\n            this[key] = Array.isArray(el) ? ko.observableArray(el) : ko.observable(el);\n        }\n        \n        [this[\"formatted_val\"]=ko.computed(    function(){\n        return this.formatted_vals()[parseInt(this.index())-(1)];\n    }\n,this)]\n        [this[\"changes\"].subscribe((function (val){!(this.valueFromJulia[\"changes\"]) ? (WebIO.setval({\"name\":\"changes\",\"scope\":\"557318323537219238\",\"id\":\"ob_24\",\"type\":\"observable\"},val)) : undefined; return this.valueFromJulia[\"changes\"]=false}),self),this[\"index\"].subscribe((function (val){!(this.valueFromJulia[\"index\"]) ? (WebIO.setval({\"name\":\"index\",\"scope\":\"557318323537219238\",\"id\":\"ob_23\",\"type\":\"observable\"},val)) : undefined; return this.valueFromJulia[\"index\"]=false}),self)]\n        \n    }\n    self.model = new AppViewModel();\n    self.valueFromJulia = {};\n    for (var key in json_data) {\n        self.valueFromJulia[key] = false;\n    }\n    ko.applyBindings(self.model, self.dom);\n}\n);\n    (WebIO.importBlock({\"data\":[{\"name\":\"knockout\",\"type\":\"js\",\"url\":\"/assetserver/3fa3ffaec5c6b9df2919c82e5e20a6e06518e577-knockout.js\"},{\"name\":\"knockout_punches\",\"type\":\"js\",\"url\":\"/assetserver/63782d88af4e5f6f4f5a58b0bbb8a2f1d80dff55-knockout_punches.js\"}],\"type\":\"async_block\"})).then((imports) => handler.apply(this, imports));\n}\n"
            ],
            "observables": {
             "changes": {
              "id": "ob_24",
              "sync": false,
              "value": 0
             },
             "index": {
              "id": "ob_23",
              "sync": true,
              "value": 50
             }
            },
            "systemjs_options": null
           },
           "nodeType": "Scope",
           "props": {},
           "type": "node"
          }
         ],
         "instanceArgs": {
          "namespace": "html",
          "tag": "div"
         },
         "nodeType": "DOM",
         "props": {
          "className": "field interact-widget"
         },
         "type": "node"
        },
        {
         "children": [
          {
           "children": [],
           "instanceArgs": {
            "namespace": "html",
            "tag": "div"
           },
           "nodeType": "DOM",
           "props": {
            "className": "webio-observable",
            "setInnerHtml": "<pre>50</pre>"
           },
           "type": "node"
          }
         ],
         "instanceArgs": {
          "handlers": {
           "obs-output": [
            "function (value, scope) {\n    scope.setInnerHTML(value);\n}\n"
           ]
          },
          "id": "16596611922215195410",
          "imports": {
           "data": [],
           "type": "async_block"
          },
          "mount_callbacks": [],
          "observables": {
           "obs-output": {
            "id": "ob_25",
            "sync": false,
            "value": "<pre>50</pre>"
           }
          },
          "systemjs_options": null
         },
         "nodeType": "Scope",
         "props": {},
         "type": "node"
        }
       ],
       "instanceArgs": {
        "namespace": "html",
        "tag": "div"
       },
       "nodeType": "DOM",
       "props": {
        "style": {
         "display": "flex",
         "flex-direction": "column"
        }
       },
       "type": "node"
      },
      "text/html": [
       "<div\n",
       "    class=\"webio-mountpoint\"\n",
       "    data-webio-mountpoint=\"7355966792899923803\"\n",
       ">\n",
       "    <script>\n",
       "    if (window.require && require.defined && require.defined(\"nbextensions/webio-jupyter-notebook\")) {\n",
       "        console.log(\"Jupyter WebIO extension detected, not mounting.\");\n",
       "    } else if (window.WebIO) {\n",
       "        WebIO.mount(\n",
       "            document.querySelector('[data-webio-mountpoint=\"7355966792899923803\"]'),\n",
       "            {\"props\":{\"style\":{\"display\":\"flex\",\"flex-direction\":\"column\"}},\"nodeType\":\"DOM\",\"type\":\"node\",\"instanceArgs\":{\"namespace\":\"html\",\"tag\":\"div\"},\"children\":[{\"props\":{\"className\":\"field interact-widget\"},\"nodeType\":\"DOM\",\"type\":\"node\",\"instanceArgs\":{\"namespace\":\"html\",\"tag\":\"div\"},\"children\":[{\"props\":{},\"nodeType\":\"Scope\",\"type\":\"node\",\"instanceArgs\":{\"imports\":{\"data\":[{\"name\":\"knockout\",\"type\":\"js\",\"url\":\"\\/assetserver\\/3fa3ffaec5c6b9df2919c82e5e20a6e06518e577-knockout.js\"},{\"name\":\"knockout_punches\",\"type\":\"js\",\"url\":\"\\/assetserver\\/63782d88af4e5f6f4f5a58b0bbb8a2f1d80dff55-knockout_punches.js\"},{\"name\":null,\"type\":\"js\",\"url\":\"\\/assetserver\\/a546995d2d749ea7d8e65310e2611dcbd5c61f11-all.js\"},{\"name\":null,\"type\":\"css\",\"url\":\"\\/assetserver\\/435ddd0d7423dc3ebcb68749fc95645702bb321d-style.css\"},{\"name\":null,\"type\":\"css\",\"url\":\"\\/assetserver\\/344f57f60404443ed30603f89a97186ff42b3d77-bulma_confined.min.css\"}],\"type\":\"async_block\"},\"id\":\"557318323537219238\",\"handlers\":{\"changes\":[\"(function (val){return (val!=this.model[\\\"changes\\\"]()) ? (this.valueFromJulia[\\\"changes\\\"]=true, this.model[\\\"changes\\\"](val)) : undefined})\"],\"index\":[\"(function (val){return (val!=this.model[\\\"index\\\"]()) ? (this.valueFromJulia[\\\"index\\\"]=true, this.model[\\\"index\\\"](val)) : undefined})\"]},\"systemjs_options\":null,\"mount_callbacks\":[\"function () {\\n    var handler = (function (ko, koPunches) {\\n    ko.punches.enableAll();\\n    ko.bindingHandlers.numericValue = {\\n        init: function(element, valueAccessor, allBindings, data, context) {\\n            var stringified = ko.observable(ko.unwrap(valueAccessor()));\\n            stringified.subscribe(function(value) {\\n                var val = parseFloat(value);\\n                if (!isNaN(val)) {\\n                    valueAccessor()(val);\\n                }\\n            });\\n            valueAccessor().subscribe(function(value) {\\n                var str = JSON.stringify(value);\\n                if ((str == \\\"0\\\") && ([\\\"-0\\\", \\\"-0.\\\"].indexOf(stringified()) >= 0))\\n                     return;\\n                 if ([\\\"null\\\", \\\"\\\"].indexOf(str) >= 0)\\n                     return;\\n                stringified(str);\\n            });\\n            ko.applyBindingsToNode(\\n                element,\\n                {\\n                    value: stringified,\\n                    valueUpdate: allBindings.get('valueUpdate'),\\n                },\\n                context,\\n            );\\n        }\\n    };\\n    var json_data = {\\\"formatted_vals\\\":[\\\"1\\\",\\\"2\\\",\\\"3\\\",\\\"4\\\",\\\"5\\\",\\\"6\\\",\\\"7\\\",\\\"8\\\",\\\"9\\\",\\\"10\\\",\\\"11\\\",\\\"12\\\",\\\"13\\\",\\\"14\\\",\\\"15\\\",\\\"16\\\",\\\"17\\\",\\\"18\\\",\\\"19\\\",\\\"20\\\",\\\"21\\\",\\\"22\\\",\\\"23\\\",\\\"24\\\",\\\"25\\\",\\\"26\\\",\\\"27\\\",\\\"28\\\",\\\"29\\\",\\\"30\\\",\\\"31\\\",\\\"32\\\",\\\"33\\\",\\\"34\\\",\\\"35\\\",\\\"36\\\",\\\"37\\\",\\\"38\\\",\\\"39\\\",\\\"40\\\",\\\"41\\\",\\\"42\\\",\\\"43\\\",\\\"44\\\",\\\"45\\\",\\\"46\\\",\\\"47\\\",\\\"48\\\",\\\"49\\\",\\\"50\\\",\\\"51\\\",\\\"52\\\",\\\"53\\\",\\\"54\\\",\\\"55\\\",\\\"56\\\",\\\"57\\\",\\\"58\\\",\\\"59\\\",\\\"60\\\",\\\"61\\\",\\\"62\\\",\\\"63\\\",\\\"64\\\",\\\"65\\\",\\\"66\\\",\\\"67\\\",\\\"68\\\",\\\"69\\\",\\\"70\\\",\\\"71\\\",\\\"72\\\",\\\"73\\\",\\\"74\\\",\\\"75\\\",\\\"76\\\",\\\"77\\\",\\\"78\\\",\\\"79\\\",\\\"80\\\",\\\"81\\\",\\\"82\\\",\\\"83\\\",\\\"84\\\",\\\"85\\\",\\\"86\\\",\\\"87\\\",\\\"88\\\",\\\"89\\\",\\\"90\\\",\\\"91\\\",\\\"92\\\",\\\"93\\\",\\\"94\\\",\\\"95\\\",\\\"96\\\",\\\"97\\\",\\\"98\\\",\\\"99\\\",\\\"100\\\"],\\\"changes\\\":WebIO.getval({\\\"name\\\":\\\"changes\\\",\\\"scope\\\":\\\"557318323537219238\\\",\\\"id\\\":\\\"ob_24\\\",\\\"type\\\":\\\"observable\\\"}),\\\"index\\\":WebIO.getval({\\\"name\\\":\\\"index\\\",\\\"scope\\\":\\\"557318323537219238\\\",\\\"id\\\":\\\"ob_23\\\",\\\"type\\\":\\\"observable\\\"})};\\n    var self = this;\\n    function AppViewModel() {\\n        for (var key in json_data) {\\n            var el = json_data[key];\\n            this[key] = Array.isArray(el) ? ko.observableArray(el) : ko.observable(el);\\n        }\\n        \\n        [this[\\\"formatted_val\\\"]=ko.computed(    function(){\\n        return this.formatted_vals()[parseInt(this.index())-(1)];\\n    }\\n,this)]\\n        [this[\\\"changes\\\"].subscribe((function (val){!(this.valueFromJulia[\\\"changes\\\"]) ? (WebIO.setval({\\\"name\\\":\\\"changes\\\",\\\"scope\\\":\\\"557318323537219238\\\",\\\"id\\\":\\\"ob_24\\\",\\\"type\\\":\\\"observable\\\"},val)) : undefined; return this.valueFromJulia[\\\"changes\\\"]=false}),self),this[\\\"index\\\"].subscribe((function (val){!(this.valueFromJulia[\\\"index\\\"]) ? (WebIO.setval({\\\"name\\\":\\\"index\\\",\\\"scope\\\":\\\"557318323537219238\\\",\\\"id\\\":\\\"ob_23\\\",\\\"type\\\":\\\"observable\\\"},val)) : undefined; return this.valueFromJulia[\\\"index\\\"]=false}),self)]\\n        \\n    }\\n    self.model = new AppViewModel();\\n    self.valueFromJulia = {};\\n    for (var key in json_data) {\\n        self.valueFromJulia[key] = false;\\n    }\\n    ko.applyBindings(self.model, self.dom);\\n}\\n);\\n    (WebIO.importBlock({\\\"data\\\":[{\\\"name\\\":\\\"knockout\\\",\\\"type\\\":\\\"js\\\",\\\"url\\\":\\\"\\/assetserver\\/3fa3ffaec5c6b9df2919c82e5e20a6e06518e577-knockout.js\\\"},{\\\"name\\\":\\\"knockout_punches\\\",\\\"type\\\":\\\"js\\\",\\\"url\\\":\\\"\\/assetserver\\/63782d88af4e5f6f4f5a58b0bbb8a2f1d80dff55-knockout_punches.js\\\"}],\\\"type\\\":\\\"async_block\\\"})).then((imports) => handler.apply(this, imports));\\n}\\n\"],\"observables\":{\"changes\":{\"sync\":false,\"id\":\"ob_24\",\"value\":0},\"index\":{\"sync\":true,\"id\":\"ob_23\",\"value\":50}}},\"children\":[{\"props\":{\"className\":\"interact-flex-row interact-widget\"},\"nodeType\":\"DOM\",\"type\":\"node\",\"instanceArgs\":{\"namespace\":\"html\",\"tag\":\"div\"},\"children\":[{\"props\":{\"className\":\"interact-flex-row-left\"},\"nodeType\":\"DOM\",\"type\":\"node\",\"instanceArgs\":{\"namespace\":\"html\",\"tag\":\"div\"},\"children\":[{\"props\":{\"className\":\"interact \",\"style\":{\"padding\":\"5px 10px 0px 10px\"}},\"nodeType\":\"DOM\",\"type\":\"node\",\"instanceArgs\":{\"namespace\":\"html\",\"tag\":\"label\"},\"children\":[\"\"]}]},{\"props\":{\"className\":\"interact-flex-row-center\"},\"nodeType\":\"DOM\",\"type\":\"node\",\"instanceArgs\":{\"namespace\":\"html\",\"tag\":\"div\"},\"children\":[{\"props\":{\"max\":100,\"min\":1,\"attributes\":{\"type\":\"range\",\"data-bind\":\"numericValue: index, valueUpdate: 'input', event: {change: function (){this.changes(this.changes()+1)}}\",\"orient\":\"horizontal\"},\"step\":1,\"className\":\"slider slider is-fullwidth\",\"style\":{}},\"nodeType\":\"DOM\",\"type\":\"node\",\"instanceArgs\":{\"namespace\":\"html\",\"tag\":\"input\"},\"children\":[]}]},{\"props\":{\"className\":\"interact-flex-row-right\"},\"nodeType\":\"DOM\",\"type\":\"node\",\"instanceArgs\":{\"namespace\":\"html\",\"tag\":\"div\"},\"children\":[{\"props\":{\"attributes\":{\"data-bind\":\"text: formatted_val\"}},\"nodeType\":\"DOM\",\"type\":\"node\",\"instanceArgs\":{\"namespace\":\"html\",\"tag\":\"p\"},\"children\":[]}]}]}]}]},{\"props\":{},\"nodeType\":\"Scope\",\"type\":\"node\",\"instanceArgs\":{\"imports\":{\"data\":[],\"type\":\"async_block\"},\"id\":\"16596611922215195410\",\"handlers\":{\"obs-output\":[\"function (value, scope) {\\n    scope.setInnerHTML(value);\\n}\\n\"]},\"systemjs_options\":null,\"mount_callbacks\":[],\"observables\":{\"obs-output\":{\"sync\":false,\"id\":\"ob_25\",\"value\":\"<pre>50<\\/pre>\"}}},\"children\":[{\"props\":{\"className\":\"webio-observable\",\"setInnerHtml\":\"<pre>50<\\/pre>\"},\"nodeType\":\"DOM\",\"type\":\"node\",\"instanceArgs\":{\"namespace\":\"html\",\"tag\":\"div\"},\"children\":[]}]}]},\n",
       "            window,\n",
       "        );\n",
       "    } else {\n",
       "        document\n",
       "            .querySelector('[data-webio-mountpoint=\"7355966792899923803\"]')\n",
       "            .innerHTML = (\n",
       "                '<div style=\"padding: 1em; background-color: #f8d6da; border: 1px solid #f5c6cb\">' +\n",
       "                '<p><strong>WebIO not detected.</strong></p>' +\n",
       "                '<p>Please read ' +\n",
       "                '<a href=\"https://juliagizmos.github.io/WebIO.jl/latest/troubleshooting/not-detected/\" target=\"_blank\">the troubleshooting guide</a> ' +\n",
       "                'for more information on how to resolve this issue.</p>' +\n",
       "                '<p><a href=\"https://juliagizmos.github.io/WebIO.jl/latest/troubleshooting/not-detected/\" target=\"_blank\">https://juliagizmos.github.io/WebIO.jl/latest/troubleshooting/not-detected/</a></p>' +\n",
       "                '</div>'\n",
       "            );\n",
       "    }\n",
       "    </script>\n",
       "</div>\n"
      ],
      "text/plain": [
       "(div { style=Dict(\"display\" => \"flex\",\"flex-direction\" => \"column\") }\n",
       "  (div { className=\"field interact-widget\" }\n",
       "        (div { className=\"interact-flex-row interact-widget\" }\n",
       "      (div { className=\"interact-flex-row-left\" }\n",
       "        (label { className=\"interact \" style=Dict{Any,Any}(:padding => \"5px 10px 0px 10px\") }\n",
       "          nothing))\n",
       "      (div { className=\"interact-flex-row-center\" }\n",
       "        (input { max=100 min=1 attributes=Dict{Any,Any}(:type => \"range\",Symbol(\"data-bind\") => \"numericValue: index, valueUpdate: 'input', event: {change: function (){this.changes(this.changes()+1)}}\",\"orient\" => \"horizontal\") step=1 className=\"slider slider is-fullwidth\" style=Dict{Any,Any}() }))\n",
       "      (div { className=\"interact-flex-row-right\" }\n",
       "        (p { attributes=Dict(\"data-bind\" => \"text: formatted_val\") }))))\n",
       "  (Scope(Node{WebIO.DOM}(WebIO.DOM(:html, :div), Any[], Dict{Symbol,Any}(:className => \"webio-observable\",:setInnerHtml => \"<pre>50</pre>\")), Dict{String,Tuple{Observables.AbstractObservable,Union{Nothing, Bool}}}(\"obs-output\" => (Observable{AbstractString} with 1 listeners. Value:\n",
       "\"<pre>50</pre>\", nothing)), Set(String[]), nothing, Asset[], Dict{Any,Any}(\"obs-output\" => Any[WebIO.JSString(\"function (value, scope) {\\n    scope.setInnerHTML(value);\\n}\\n\")]), WebIO.ConnectionPool(Channel{Any}(sz_max:32,sz_curr:0), Set(AbstractConnection[]), Base.GenericCondition{Base.AlwaysLockedST}(Base.InvasiveLinkedList{Task}(Task (runnable) @0x00000000363f3990, Task (runnable) @0x00000000363f3990), Base.AlwaysLockedST(1))), WebIO.JSString[]):\n",
       "    (div { className=\"webio-observable\" setInnerHtml=\"<pre>50</pre>\" })))"
      ]
     },
     "execution_count": 43,
     "metadata": {
      "@webio": {
       "kernelId": "b73a1676-98dd-4af0-9b82-9338bf22ba23"
      }
     },
     "output_type": "execute_result"
    }
   ],
   "source": [
    "using Interact\n",
    "wdg = slider(1:100)\n",
    "vbox(wdg, observe(wdg))"
   ]
  },
  {
   "cell_type": "code",
   "execution_count": 44,
   "metadata": {},
   "outputs": [
    {
     "data": {
      "application/vnd.webio.node+json": {
       "children": [
        {
         "children": [
          {
           "children": [
            {
             "children": [
              {
               "children": [
                {
                 "children": [
                  "i"
                 ],
                 "instanceArgs": {
                  "namespace": "html",
                  "tag": "label"
                 },
                 "nodeType": "DOM",
                 "props": {
                  "className": "interact ",
                  "style": {
                   "padding": "5px 10px 0px 10px"
                  }
                 },
                 "type": "node"
                }
               ],
               "instanceArgs": {
                "namespace": "html",
                "tag": "div"
               },
               "nodeType": "DOM",
               "props": {
                "className": "interact-flex-row-left"
               },
               "type": "node"
              },
              {
               "children": [
                {
                 "children": [],
                 "instanceArgs": {
                  "namespace": "html",
                  "tag": "input"
                 },
                 "nodeType": "DOM",
                 "props": {
                  "attributes": {
                   "data-bind": "numericValue: index, valueUpdate: 'input', event: {change: function (){this.changes(this.changes()+1)}}",
                   "orient": "horizontal",
                   "type": "range"
                  },
                  "className": "slider slider is-fullwidth",
                  "max": 10,
                  "min": 1,
                  "step": 1,
                  "style": {}
                 },
                 "type": "node"
                }
               ],
               "instanceArgs": {
                "namespace": "html",
                "tag": "div"
               },
               "nodeType": "DOM",
               "props": {
                "className": "interact-flex-row-center"
               },
               "type": "node"
              },
              {
               "children": [
                {
                 "children": [],
                 "instanceArgs": {
                  "namespace": "html",
                  "tag": "p"
                 },
                 "nodeType": "DOM",
                 "props": {
                  "attributes": {
                   "data-bind": "text: formatted_val"
                  }
                 },
                 "type": "node"
                }
               ],
               "instanceArgs": {
                "namespace": "html",
                "tag": "div"
               },
               "nodeType": "DOM",
               "props": {
                "className": "interact-flex-row-right"
               },
               "type": "node"
              }
             ],
             "instanceArgs": {
              "namespace": "html",
              "tag": "div"
             },
             "nodeType": "DOM",
             "props": {
              "className": "interact-flex-row interact-widget"
             },
             "type": "node"
            }
           ],
           "instanceArgs": {
            "handlers": {
             "changes": [
              "(function (val){return (val!=this.model[\"changes\"]()) ? (this.valueFromJulia[\"changes\"]=true, this.model[\"changes\"](val)) : undefined})"
             ],
             "index": [
              "(function (val){return (val!=this.model[\"index\"]()) ? (this.valueFromJulia[\"index\"]=true, this.model[\"index\"](val)) : undefined})"
             ]
            },
            "id": "8152731728151410016",
            "imports": {
             "data": [
              {
               "name": "knockout",
               "type": "js",
               "url": "/assetserver/3fa3ffaec5c6b9df2919c82e5e20a6e06518e577-knockout.js"
              },
              {
               "name": "knockout_punches",
               "type": "js",
               "url": "/assetserver/63782d88af4e5f6f4f5a58b0bbb8a2f1d80dff55-knockout_punches.js"
              },
              {
               "name": null,
               "type": "js",
               "url": "/assetserver/a546995d2d749ea7d8e65310e2611dcbd5c61f11-all.js"
              },
              {
               "name": null,
               "type": "css",
               "url": "/assetserver/435ddd0d7423dc3ebcb68749fc95645702bb321d-style.css"
              },
              {
               "name": null,
               "type": "css",
               "url": "/assetserver/344f57f60404443ed30603f89a97186ff42b3d77-bulma_confined.min.css"
              }
             ],
             "type": "async_block"
            },
            "mount_callbacks": [
             "function () {\n    var handler = (function (ko, koPunches) {\n    ko.punches.enableAll();\n    ko.bindingHandlers.numericValue = {\n        init: function(element, valueAccessor, allBindings, data, context) {\n            var stringified = ko.observable(ko.unwrap(valueAccessor()));\n            stringified.subscribe(function(value) {\n                var val = parseFloat(value);\n                if (!isNaN(val)) {\n                    valueAccessor()(val);\n                }\n            });\n            valueAccessor().subscribe(function(value) {\n                var str = JSON.stringify(value);\n                if ((str == \"0\") && ([\"-0\", \"-0.\"].indexOf(stringified()) >= 0))\n                     return;\n                 if ([\"null\", \"\"].indexOf(str) >= 0)\n                     return;\n                stringified(str);\n            });\n            ko.applyBindingsToNode(\n                element,\n                {\n                    value: stringified,\n                    valueUpdate: allBindings.get('valueUpdate'),\n                },\n                context,\n            );\n        }\n    };\n    var json_data = {\"formatted_vals\":[\"1\",\"2\",\"3\",\"4\",\"5\",\"6\",\"7\",\"8\",\"9\",\"10\"],\"changes\":WebIO.getval({\"name\":\"changes\",\"scope\":\"8152731728151410016\",\"id\":\"ob_27\",\"type\":\"observable\"}),\"index\":WebIO.getval({\"name\":\"index\",\"scope\":\"8152731728151410016\",\"id\":\"ob_26\",\"type\":\"observable\"})};\n    var self = this;\n    function AppViewModel() {\n        for (var key in json_data) {\n            var el = json_data[key];\n            this[key] = Array.isArray(el) ? ko.observableArray(el) : ko.observable(el);\n        }\n        \n        [this[\"formatted_val\"]=ko.computed(    function(){\n        return this.formatted_vals()[parseInt(this.index())-(1)];\n    }\n,this)]\n        [this[\"changes\"].subscribe((function (val){!(this.valueFromJulia[\"changes\"]) ? (WebIO.setval({\"name\":\"changes\",\"scope\":\"8152731728151410016\",\"id\":\"ob_27\",\"type\":\"observable\"},val)) : undefined; return this.valueFromJulia[\"changes\"]=false}),self),this[\"index\"].subscribe((function (val){!(this.valueFromJulia[\"index\"]) ? (WebIO.setval({\"name\":\"index\",\"scope\":\"8152731728151410016\",\"id\":\"ob_26\",\"type\":\"observable\"},val)) : undefined; return this.valueFromJulia[\"index\"]=false}),self)]\n        \n    }\n    self.model = new AppViewModel();\n    self.valueFromJulia = {};\n    for (var key in json_data) {\n        self.valueFromJulia[key] = false;\n    }\n    ko.applyBindings(self.model, self.dom);\n}\n);\n    (WebIO.importBlock({\"data\":[{\"name\":\"knockout\",\"type\":\"js\",\"url\":\"/assetserver/3fa3ffaec5c6b9df2919c82e5e20a6e06518e577-knockout.js\"},{\"name\":\"knockout_punches\",\"type\":\"js\",\"url\":\"/assetserver/63782d88af4e5f6f4f5a58b0bbb8a2f1d80dff55-knockout_punches.js\"}],\"type\":\"async_block\"})).then((imports) => handler.apply(this, imports));\n}\n"
            ],
            "observables": {
             "changes": {
              "id": "ob_27",
              "sync": false,
              "value": 0
             },
             "index": {
              "id": "ob_26",
              "sync": true,
              "value": 5
             }
            },
            "systemjs_options": null
           },
           "nodeType": "Scope",
           "props": {},
           "type": "node"
          }
         ],
         "instanceArgs": {
          "namespace": "html",
          "tag": "div"
         },
         "nodeType": "DOM",
         "props": {
          "className": "field interact-widget"
         },
         "type": "node"
        },
        {
         "children": [
          {
           "children": [],
           "instanceArgs": {
            "id": "ob_33",
            "name": "obs-node"
           },
           "nodeType": "ObservableNode",
           "props": {},
           "type": "node"
          }
         ],
         "instanceArgs": {
          "handlers": {},
          "id": "1593107515233542621",
          "imports": {
           "data": [],
           "type": "async_block"
          },
          "mount_callbacks": [],
          "observables": {
           "obs-node": {
            "id": "ob_33",
            "sync": false,
            "value": {
             "children": [
              {
               "children": [],
               "instanceArgs": {
                "namespace": "html",
                "tag": "div"
               },
               "nodeType": "DOM",
               "props": {
                "setInnerHtml": "<pre>5</pre>"
               },
               "type": "node"
              }
             ],
             "instanceArgs": {
              "namespace": "html",
              "tag": "div"
             },
             "nodeType": "DOM",
             "props": {
              "className": "interact-flex-row interact-widget"
             },
             "type": "node"
            }
           }
          },
          "systemjs_options": null
         },
         "nodeType": "Scope",
         "props": {},
         "type": "node"
        }
       ],
       "instanceArgs": {
        "namespace": "html",
        "tag": "div"
       },
       "nodeType": "DOM",
       "props": {},
       "type": "node"
      },
      "text/html": [
       "<div\n",
       "    class=\"webio-mountpoint\"\n",
       "    data-webio-mountpoint=\"16836613250286693067\"\n",
       ">\n",
       "    <script>\n",
       "    if (window.require && require.defined && require.defined(\"nbextensions/webio-jupyter-notebook\")) {\n",
       "        console.log(\"Jupyter WebIO extension detected, not mounting.\");\n",
       "    } else if (window.WebIO) {\n",
       "        WebIO.mount(\n",
       "            document.querySelector('[data-webio-mountpoint=\"16836613250286693067\"]'),\n",
       "            {\"props\":{},\"nodeType\":\"DOM\",\"type\":\"node\",\"instanceArgs\":{\"namespace\":\"html\",\"tag\":\"div\"},\"children\":[{\"props\":{\"className\":\"field interact-widget\"},\"nodeType\":\"DOM\",\"type\":\"node\",\"instanceArgs\":{\"namespace\":\"html\",\"tag\":\"div\"},\"children\":[{\"props\":{},\"nodeType\":\"Scope\",\"type\":\"node\",\"instanceArgs\":{\"imports\":{\"data\":[{\"name\":\"knockout\",\"type\":\"js\",\"url\":\"\\/assetserver\\/3fa3ffaec5c6b9df2919c82e5e20a6e06518e577-knockout.js\"},{\"name\":\"knockout_punches\",\"type\":\"js\",\"url\":\"\\/assetserver\\/63782d88af4e5f6f4f5a58b0bbb8a2f1d80dff55-knockout_punches.js\"},{\"name\":null,\"type\":\"js\",\"url\":\"\\/assetserver\\/a546995d2d749ea7d8e65310e2611dcbd5c61f11-all.js\"},{\"name\":null,\"type\":\"css\",\"url\":\"\\/assetserver\\/435ddd0d7423dc3ebcb68749fc95645702bb321d-style.css\"},{\"name\":null,\"type\":\"css\",\"url\":\"\\/assetserver\\/344f57f60404443ed30603f89a97186ff42b3d77-bulma_confined.min.css\"}],\"type\":\"async_block\"},\"id\":\"8152731728151410016\",\"handlers\":{\"changes\":[\"(function (val){return (val!=this.model[\\\"changes\\\"]()) ? (this.valueFromJulia[\\\"changes\\\"]=true, this.model[\\\"changes\\\"](val)) : undefined})\"],\"index\":[\"(function (val){return (val!=this.model[\\\"index\\\"]()) ? (this.valueFromJulia[\\\"index\\\"]=true, this.model[\\\"index\\\"](val)) : undefined})\"]},\"systemjs_options\":null,\"mount_callbacks\":[\"function () {\\n    var handler = (function (ko, koPunches) {\\n    ko.punches.enableAll();\\n    ko.bindingHandlers.numericValue = {\\n        init: function(element, valueAccessor, allBindings, data, context) {\\n            var stringified = ko.observable(ko.unwrap(valueAccessor()));\\n            stringified.subscribe(function(value) {\\n                var val = parseFloat(value);\\n                if (!isNaN(val)) {\\n                    valueAccessor()(val);\\n                }\\n            });\\n            valueAccessor().subscribe(function(value) {\\n                var str = JSON.stringify(value);\\n                if ((str == \\\"0\\\") && ([\\\"-0\\\", \\\"-0.\\\"].indexOf(stringified()) >= 0))\\n                     return;\\n                 if ([\\\"null\\\", \\\"\\\"].indexOf(str) >= 0)\\n                     return;\\n                stringified(str);\\n            });\\n            ko.applyBindingsToNode(\\n                element,\\n                {\\n                    value: stringified,\\n                    valueUpdate: allBindings.get('valueUpdate'),\\n                },\\n                context,\\n            );\\n        }\\n    };\\n    var json_data = {\\\"formatted_vals\\\":[\\\"1\\\",\\\"2\\\",\\\"3\\\",\\\"4\\\",\\\"5\\\",\\\"6\\\",\\\"7\\\",\\\"8\\\",\\\"9\\\",\\\"10\\\"],\\\"changes\\\":WebIO.getval({\\\"name\\\":\\\"changes\\\",\\\"scope\\\":\\\"8152731728151410016\\\",\\\"id\\\":\\\"ob_27\\\",\\\"type\\\":\\\"observable\\\"}),\\\"index\\\":WebIO.getval({\\\"name\\\":\\\"index\\\",\\\"scope\\\":\\\"8152731728151410016\\\",\\\"id\\\":\\\"ob_26\\\",\\\"type\\\":\\\"observable\\\"})};\\n    var self = this;\\n    function AppViewModel() {\\n        for (var key in json_data) {\\n            var el = json_data[key];\\n            this[key] = Array.isArray(el) ? ko.observableArray(el) : ko.observable(el);\\n        }\\n        \\n        [this[\\\"formatted_val\\\"]=ko.computed(    function(){\\n        return this.formatted_vals()[parseInt(this.index())-(1)];\\n    }\\n,this)]\\n        [this[\\\"changes\\\"].subscribe((function (val){!(this.valueFromJulia[\\\"changes\\\"]) ? (WebIO.setval({\\\"name\\\":\\\"changes\\\",\\\"scope\\\":\\\"8152731728151410016\\\",\\\"id\\\":\\\"ob_27\\\",\\\"type\\\":\\\"observable\\\"},val)) : undefined; return this.valueFromJulia[\\\"changes\\\"]=false}),self),this[\\\"index\\\"].subscribe((function (val){!(this.valueFromJulia[\\\"index\\\"]) ? (WebIO.setval({\\\"name\\\":\\\"index\\\",\\\"scope\\\":\\\"8152731728151410016\\\",\\\"id\\\":\\\"ob_26\\\",\\\"type\\\":\\\"observable\\\"},val)) : undefined; return this.valueFromJulia[\\\"index\\\"]=false}),self)]\\n        \\n    }\\n    self.model = new AppViewModel();\\n    self.valueFromJulia = {};\\n    for (var key in json_data) {\\n        self.valueFromJulia[key] = false;\\n    }\\n    ko.applyBindings(self.model, self.dom);\\n}\\n);\\n    (WebIO.importBlock({\\\"data\\\":[{\\\"name\\\":\\\"knockout\\\",\\\"type\\\":\\\"js\\\",\\\"url\\\":\\\"\\/assetserver\\/3fa3ffaec5c6b9df2919c82e5e20a6e06518e577-knockout.js\\\"},{\\\"name\\\":\\\"knockout_punches\\\",\\\"type\\\":\\\"js\\\",\\\"url\\\":\\\"\\/assetserver\\/63782d88af4e5f6f4f5a58b0bbb8a2f1d80dff55-knockout_punches.js\\\"}],\\\"type\\\":\\\"async_block\\\"})).then((imports) => handler.apply(this, imports));\\n}\\n\"],\"observables\":{\"changes\":{\"sync\":false,\"id\":\"ob_27\",\"value\":0},\"index\":{\"sync\":true,\"id\":\"ob_26\",\"value\":5}}},\"children\":[{\"props\":{\"className\":\"interact-flex-row interact-widget\"},\"nodeType\":\"DOM\",\"type\":\"node\",\"instanceArgs\":{\"namespace\":\"html\",\"tag\":\"div\"},\"children\":[{\"props\":{\"className\":\"interact-flex-row-left\"},\"nodeType\":\"DOM\",\"type\":\"node\",\"instanceArgs\":{\"namespace\":\"html\",\"tag\":\"div\"},\"children\":[{\"props\":{\"className\":\"interact \",\"style\":{\"padding\":\"5px 10px 0px 10px\"}},\"nodeType\":\"DOM\",\"type\":\"node\",\"instanceArgs\":{\"namespace\":\"html\",\"tag\":\"label\"},\"children\":[\"i\"]}]},{\"props\":{\"className\":\"interact-flex-row-center\"},\"nodeType\":\"DOM\",\"type\":\"node\",\"instanceArgs\":{\"namespace\":\"html\",\"tag\":\"div\"},\"children\":[{\"props\":{\"max\":10,\"min\":1,\"attributes\":{\"type\":\"range\",\"data-bind\":\"numericValue: index, valueUpdate: 'input', event: {change: function (){this.changes(this.changes()+1)}}\",\"orient\":\"horizontal\"},\"step\":1,\"className\":\"slider slider is-fullwidth\",\"style\":{}},\"nodeType\":\"DOM\",\"type\":\"node\",\"instanceArgs\":{\"namespace\":\"html\",\"tag\":\"input\"},\"children\":[]}]},{\"props\":{\"className\":\"interact-flex-row-right\"},\"nodeType\":\"DOM\",\"type\":\"node\",\"instanceArgs\":{\"namespace\":\"html\",\"tag\":\"div\"},\"children\":[{\"props\":{\"attributes\":{\"data-bind\":\"text: formatted_val\"}},\"nodeType\":\"DOM\",\"type\":\"node\",\"instanceArgs\":{\"namespace\":\"html\",\"tag\":\"p\"},\"children\":[]}]}]}]}]},{\"props\":{},\"nodeType\":\"Scope\",\"type\":\"node\",\"instanceArgs\":{\"imports\":{\"data\":[],\"type\":\"async_block\"},\"id\":\"3957997944410155998\",\"handlers\":{},\"systemjs_options\":null,\"mount_callbacks\":[],\"observables\":{\"obs-node\":{\"sync\":false,\"id\":\"ob_31\",\"value\":{\"props\":{\"className\":\"interact-flex-row interact-widget\"},\"nodeType\":\"DOM\",\"type\":\"node\",\"instanceArgs\":{\"namespace\":\"html\",\"tag\":\"div\"},\"children\":[{\"props\":{\"setInnerHtml\":\"<pre>5<\\/pre>\"},\"nodeType\":\"DOM\",\"type\":\"node\",\"instanceArgs\":{\"namespace\":\"html\",\"tag\":\"div\"},\"children\":[]}]}}}},\"children\":[{\"props\":{},\"nodeType\":\"ObservableNode\",\"type\":\"node\",\"instanceArgs\":{\"id\":\"ob_31\",\"name\":\"obs-node\"},\"children\":[]}]}]},\n",
       "            window,\n",
       "        );\n",
       "    } else {\n",
       "        document\n",
       "            .querySelector('[data-webio-mountpoint=\"16836613250286693067\"]')\n",
       "            .innerHTML = (\n",
       "                '<div style=\"padding: 1em; background-color: #f8d6da; border: 1px solid #f5c6cb\">' +\n",
       "                '<p><strong>WebIO not detected.</strong></p>' +\n",
       "                '<p>Please read ' +\n",
       "                '<a href=\"https://juliagizmos.github.io/WebIO.jl/latest/troubleshooting/not-detected/\" target=\"_blank\">the troubleshooting guide</a> ' +\n",
       "                'for more information on how to resolve this issue.</p>' +\n",
       "                '<p><a href=\"https://juliagizmos.github.io/WebIO.jl/latest/troubleshooting/not-detected/\" target=\"_blank\">https://juliagizmos.github.io/WebIO.jl/latest/troubleshooting/not-detected/</a></p>' +\n",
       "                '</div>'\n",
       "            );\n",
       "    }\n",
       "    </script>\n",
       "</div>\n"
      ],
      "text/plain": [
       "Node{WebIO.DOM}(WebIO.DOM(:html, :div), Any[Node{WebIO.DOM}(WebIO.DOM(:html, :div), Any[Scope(Node{WebIO.DOM}(WebIO.DOM(:html, :div), Any[Node{WebIO.DOM}(WebIO.DOM(:html, :div), Any[Node{WebIO.DOM}(WebIO.DOM(:html, :label), Any[\"i\"], Dict{Symbol,Any}(:className => \"interact \",:style => Dict{Any,Any}(:padding => \"5px 10px 0px 10px\")))], Dict{Symbol,Any}(:className => \"interact-flex-row-left\")), Node{WebIO.DOM}(WebIO.DOM(:html, :div), Any[Node{WebIO.DOM}(WebIO.DOM(:html, :input), Any[], Dict{Symbol,Any}(:max => 10,:min => 1,:attributes => Dict{Any,Any}(:type => \"range\",Symbol(\"data-bind\") => \"numericValue: index, valueUpdate: 'input', event: {change: function (){this.changes(this.changes()+1)}}\",\"orient\" => \"horizontal\"),:step => 1,:className => \"slider slider is-fullwidth\",:style => Dict{Any,Any}()))], Dict{Symbol,Any}(:className => \"interact-flex-row-center\")), Node{WebIO.DOM}(WebIO.DOM(:html, :div), Any[Node{WebIO.DOM}(WebIO.DOM(:html, :p), Any[], Dict{Symbol,Any}(:attributes => Dict(\"data-bind\" => \"text: formatted_val\")))], Dict{Symbol,Any}(:className => \"interact-flex-row-right\"))], Dict{Symbol,Any}(:className => \"interact-flex-row interact-widget\")), Dict{String,Tuple{Observables.AbstractObservable,Union{Nothing, Bool}}}(\"changes\" => (Observable{Int64} with 1 listeners. Value:\n",
       "0, nothing),\"index\" => (Observable{Int64} with 2 listeners. Value:\n",
       "5, nothing)), Set(String[]), nothing, Asset[Asset(\"js\", \"knockout\", \"C:\\\\Users\\\\chuan\\\\.julia\\\\packages\\\\Knockout\\\\IP1uR\\\\src\\\\..\\\\assets\\\\knockout.js\"), Asset(\"js\", \"knockout_punches\", \"C:\\\\Users\\\\chuan\\\\.julia\\\\packages\\\\Knockout\\\\IP1uR\\\\src\\\\..\\\\assets\\\\knockout_punches.js\"), Asset(\"js\", nothing, \"C:\\\\Users\\\\chuan\\\\.julia\\\\packages\\\\InteractBase\\\\9mFwe\\\\src\\\\..\\\\assets\\\\all.js\"), Asset(\"css\", nothing, \"C:\\\\Users\\\\chuan\\\\.julia\\\\packages\\\\InteractBase\\\\9mFwe\\\\src\\\\..\\\\assets\\\\style.css\"), Asset(\"css\", nothing, \"C:\\\\Users\\\\chuan\\\\.julia\\\\packages\\\\Interact\\\\SbgIk\\\\src\\\\..\\\\assets\\\\bulma_confined.min.css\")], Dict{Any,Any}(\"changes\" => Any[WebIO.JSString(\"(function (val){return (val!=this.model[\\\"changes\\\"]()) ? (this.valueFromJulia[\\\"changes\\\"]=true, this.model[\\\"changes\\\"](val)) : undefined})\")],\"index\" => Any[WebIO.JSString(\"(function (val){return (val!=this.model[\\\"index\\\"]()) ? (this.valueFromJulia[\\\"index\\\"]=true, this.model[\\\"index\\\"](val)) : undefined})\")]), WebIO.ConnectionPool(Channel{Any}(sz_max:32,sz_curr:0), Set(AbstractConnection[]), Base.GenericCondition{Base.AlwaysLockedST}(Base.InvasiveLinkedList{Task}(Task (runnable) @0x00000000363f2b30, Task (runnable) @0x00000000363f2b30), Base.AlwaysLockedST(1))), WebIO.JSString[WebIO.JSString(\"function () {\\n    var handler = (function (ko, koPunches) {\\n    ko.punches.enableAll();\\n    ko.bindingHandlers.numericValue = {\\n        init: function(element, valueAccessor, allBindings, data, context) {\\n            var stringified = ko.observable(ko.unwrap(valueAccessor()));\\n            stringified.subscribe(function(value) {\\n                var val = parseFloat(value);\\n                if (!isNaN(val)) {\\n                    valueAccessor()(val);\\n                }\\n            });\\n            valueAccessor().subscribe(function(value) {\\n                var str = JSON.stringify(value);\\n                if ((str == \\\"0\\\") && ([\\\"-0\\\", \\\"-0.\\\"].indexOf(stringified()) >= 0))\\n                     return;\\n                 if ([\\\"null\\\", \\\"\\\"].indexOf(str) >= 0)\\n                     return;\\n                stringified(str);\\n            });\\n            ko.applyBindingsToNode(\\n                element,\\n                {\\n                    value: stringified,\\n                    valueUpdate: allBindings.get('valueUpdate'),\\n                },\\n                context,\\n            );\\n        }\\n    };\\n    var json_data = {\\\"formatted_vals\\\":[\\\"1\\\",\\\"2\\\",\\\"3\\\",\\\"4\\\",\\\"5\\\",\\\"6\\\",\\\"7\\\",\\\"8\\\",\\\"9\\\",\\\"10\\\"],\\\"changes\\\":WebIO.getval({\\\"name\\\":\\\"changes\\\",\\\"scope\\\":\\\"8152731728151410016\\\",\\\"id\\\":\\\"ob_27\\\",\\\"type\\\":\\\"observable\\\"}),\\\"index\\\":WebIO.getval({\\\"name\\\":\\\"index\\\",\\\"scope\\\":\\\"8152731728151410016\\\",\\\"id\\\":\\\"ob_26\\\",\\\"type\\\":\\\"observable\\\"})};\\n    var self = this;\\n    function AppViewModel() {\\n        for (var key in json_data) {\\n            var el = json_data[key];\\n            this[key] = Array.isArray(el) ? ko.observableArray(el) : ko.observable(el);\\n        }\\n        \\n        [this[\\\"formatted_val\\\"]=ko.computed(    function(){\\n        return this.formatted_vals()[parseInt(this.index())-(1)];\\n    }\\n,this)]\\n        [this[\\\"changes\\\"].subscribe((function (val){!(this.valueFromJulia[\\\"changes\\\"]) ? (WebIO.setval({\\\"name\\\":\\\"changes\\\",\\\"scope\\\":\\\"8152731728151410016\\\",\\\"id\\\":\\\"ob_27\\\",\\\"type\\\":\\\"observable\\\"},val)) : undefined; return this.valueFromJulia[\\\"changes\\\"]=false}),self),this[\\\"index\\\"].subscribe((function (val){!(this.valueFromJulia[\\\"index\\\"]) ? (WebIO.setval({\\\"name\\\":\\\"index\\\",\\\"scope\\\":\\\"8152731728151410016\\\",\\\"id\\\":\\\"ob_26\\\",\\\"type\\\":\\\"observable\\\"},val)) : undefined; return this.valueFromJulia[\\\"index\\\"]=false}),self)]\\n        \\n    }\\n    self.model = new AppViewModel();\\n    self.valueFromJulia = {};\\n    for (var key in json_data) {\\n        self.valueFromJulia[key] = false;\\n    }\\n    ko.applyBindings(self.model, self.dom);\\n}\\n);\\n    (WebIO.importBlock({\\\"data\\\":[{\\\"name\\\":\\\"knockout\\\",\\\"type\\\":\\\"js\\\",\\\"url\\\":\\\"/assetserver/3fa3ffaec5c6b9df2919c82e5e20a6e06518e577-knockout.js\\\"},{\\\"name\\\":\\\"knockout_punches\\\",\\\"type\\\":\\\"js\\\",\\\"url\\\":\\\"/assetserver/63782d88af4e5f6f4f5a58b0bbb8a2f1d80dff55-knockout_punches.js\\\"}],\\\"type\\\":\\\"async_block\\\"})).then((imports) => handler.apply(this, imports));\\n}\\n\")])], Dict{Symbol,Any}(:className => \"field interact-widget\")), Observable{Any} with 0 listeners. Value:\n",
       "Node{WebIO.DOM}(WebIO.DOM(:html, :div), Any[5], Dict{Symbol,Any}(:className => \"interact-flex-row interact-widget\"))], Dict{Symbol,Any}())"
      ]
     },
     "execution_count": 44,
     "metadata": {
      "@webio": {
       "kernelId": "b73a1676-98dd-4af0-9b82-9338bf22ba23"
      }
     },
     "output_type": "execute_result"
    }
   ],
   "source": [
    "@manipulate for i in 1:10\n",
    "    i\n",
    "end"
   ]
  },
  {
   "cell_type": "code",
   "execution_count": 45,
   "metadata": {},
   "outputs": [
    {
     "data": {
      "text/plain": [
       "4-element Array{String,1}:\n",
       " \"Albania\"\n",
       " \"Algeria\"\n",
       " \"Andorra\"\n",
       " \"Angola\""
      ]
     },
     "execution_count": 45,
     "metadata": {},
     "output_type": "execute_result"
    }
   ],
   "source": [
    "countries = data[2:5, 2]"
   ]
  },
  {
   "cell_type": "code",
   "execution_count": 46,
   "metadata": {},
   "outputs": [
    {
     "data": {
      "text/plain": [
       "254-element Array{String,1}:\n",
       " \"Afghanistan\"\n",
       " \"Albania\"\n",
       " \"Algeria\"\n",
       " \"Andorra\"\n",
       " \"Angola\"\n",
       " \"Antigua and Barbuda\"\n",
       " \"Argentina\"\n",
       " \"Armenia\"\n",
       " \"Australia\"\n",
       " \"Australia\"\n",
       " \"Australia\"\n",
       " \"Australia\"\n",
       " \"Australia\"\n",
       " ⋮\n",
       " \"Guinea-Bissau\"\n",
       " \"Mali\"\n",
       " \"Saint Kitts and Nevis\"\n",
       " \"Canada\"\n",
       " \"Canada\"\n",
       " \"Kosovo\"\n",
       " \"Burma\"\n",
       " \"United Kingdom\"\n",
       " \"United Kingdom\"\n",
       " \"United Kingdom\"\n",
       " \"MS Zaandam\"\n",
       " \"Botswana\""
      ]
     },
     "execution_count": 46,
     "metadata": {},
     "output_type": "execute_result"
    }
   ],
   "source": [
    "countries = data[1:end, 2]"
   ]
  },
  {
   "cell_type": "code",
   "execution_count": 47,
   "metadata": {},
   "outputs": [
    {
     "data": {
      "text/plain": [
       "254-element Array{String,1}:\n",
       " \"Afghanistan\"\n",
       " \"Albania\"\n",
       " \"Algeria\"\n",
       " \"Andorra\"\n",
       " \"Angola\"\n",
       " \"Antigua and Barbuda\"\n",
       " \"Argentina\"\n",
       " \"Armenia\"\n",
       " \"Australia\"\n",
       " \"Australia\"\n",
       " \"Australia\"\n",
       " \"Australia\"\n",
       " \"Australia\"\n",
       " ⋮\n",
       " \"Guinea-Bissau\"\n",
       " \"Mali\"\n",
       " \"Saint Kitts and Nevis\"\n",
       " \"Canada\"\n",
       " \"Canada\"\n",
       " \"Kosovo\"\n",
       " \"Burma\"\n",
       " \"United Kingdom\"\n",
       " \"United Kingdom\"\n",
       " \"United Kingdom\"\n",
       " \"MS Zaandam\"\n",
       " \"Botswana\""
      ]
     },
     "execution_count": 47,
     "metadata": {},
     "output_type": "execute_result"
    }
   ],
   "source": [
    "countries = collect(data[:, 2])"
   ]
  },
  {
   "cell_type": "code",
   "execution_count": 48,
   "metadata": {},
   "outputs": [
    {
     "data": {
      "text/plain": [
       "178-element Array{String,1}:\n",
       " \"Afghanistan\"\n",
       " \"Albania\"\n",
       " \"Algeria\"\n",
       " \"Andorra\"\n",
       " \"Angola\"\n",
       " \"Antigua and Barbuda\"\n",
       " \"Argentina\"\n",
       " \"Armenia\"\n",
       " \"Australia\"\n",
       " \"Austria\"\n",
       " \"Azerbaijan\"\n",
       " \"Bahamas\"\n",
       " \"Bahrain\"\n",
       " ⋮\n",
       " \"Timor-Leste\"\n",
       " \"Belize\"\n",
       " \"Laos\"\n",
       " \"Libya\"\n",
       " \"West Bank and Gaza\"\n",
       " \"Guinea-Bissau\"\n",
       " \"Mali\"\n",
       " \"Saint Kitts and Nevis\"\n",
       " \"Kosovo\"\n",
       " \"Burma\"\n",
       " \"MS Zaandam\"\n",
       " \"Botswana\""
      ]
     },
     "execution_count": 48,
     "metadata": {},
     "output_type": "execute_result"
    }
   ],
   "source": [
    "unique_countries = unique(countries)"
   ]
  },
  {
   "cell_type": "code",
   "execution_count": 49,
   "metadata": {},
   "outputs": [
    {
     "data": {
      "application/vnd.webio.node+json": {
       "children": [
        {
         "children": [
          {
           "children": [
            {
             "children": [
              {
               "children": [
                {
                 "children": [
                  "i"
                 ],
                 "instanceArgs": {
                  "namespace": "html",
                  "tag": "label"
                 },
                 "nodeType": "DOM",
                 "props": {
                  "className": "interact ",
                  "style": {
                   "padding": "5px 10px 0px 10px"
                  }
                 },
                 "type": "node"
                }
               ],
               "instanceArgs": {
                "namespace": "html",
                "tag": "div"
               },
               "nodeType": "DOM",
               "props": {
                "className": "interact-flex-row-left"
               },
               "type": "node"
              },
              {
               "children": [
                {
                 "children": [],
                 "instanceArgs": {
                  "namespace": "html",
                  "tag": "input"
                 },
                 "nodeType": "DOM",
                 "props": {
                  "attributes": {
                   "data-bind": "numericValue: index, valueUpdate: 'input', event: {change: function (){this.changes(this.changes()+1)}}",
                   "orient": "horizontal",
                   "type": "range"
                  },
                  "className": "slider slider is-fullwidth",
                  "max": 254,
                  "min": 1,
                  "step": 1,
                  "style": {}
                 },
                 "type": "node"
                }
               ],
               "instanceArgs": {
                "namespace": "html",
                "tag": "div"
               },
               "nodeType": "DOM",
               "props": {
                "className": "interact-flex-row-center"
               },
               "type": "node"
              },
              {
               "children": [
                {
                 "children": [],
                 "instanceArgs": {
                  "namespace": "html",
                  "tag": "p"
                 },
                 "nodeType": "DOM",
                 "props": {
                  "attributes": {
                   "data-bind": "text: formatted_val"
                  }
                 },
                 "type": "node"
                }
               ],
               "instanceArgs": {
                "namespace": "html",
                "tag": "div"
               },
               "nodeType": "DOM",
               "props": {
                "className": "interact-flex-row-right"
               },
               "type": "node"
              }
             ],
             "instanceArgs": {
              "namespace": "html",
              "tag": "div"
             },
             "nodeType": "DOM",
             "props": {
              "className": "interact-flex-row interact-widget"
             },
             "type": "node"
            }
           ],
           "instanceArgs": {
            "handlers": {
             "changes": [
              "(function (val){return (val!=this.model[\"changes\"]()) ? (this.valueFromJulia[\"changes\"]=true, this.model[\"changes\"](val)) : undefined})"
             ],
             "index": [
              "(function (val){return (val!=this.model[\"index\"]()) ? (this.valueFromJulia[\"index\"]=true, this.model[\"index\"](val)) : undefined})"
             ]
            },
            "id": "5881757379784676050",
            "imports": {
             "data": [
              {
               "name": "knockout",
               "type": "js",
               "url": "/assetserver/3fa3ffaec5c6b9df2919c82e5e20a6e06518e577-knockout.js"
              },
              {
               "name": "knockout_punches",
               "type": "js",
               "url": "/assetserver/63782d88af4e5f6f4f5a58b0bbb8a2f1d80dff55-knockout_punches.js"
              },
              {
               "name": null,
               "type": "js",
               "url": "/assetserver/a546995d2d749ea7d8e65310e2611dcbd5c61f11-all.js"
              },
              {
               "name": null,
               "type": "css",
               "url": "/assetserver/435ddd0d7423dc3ebcb68749fc95645702bb321d-style.css"
              },
              {
               "name": null,
               "type": "css",
               "url": "/assetserver/344f57f60404443ed30603f89a97186ff42b3d77-bulma_confined.min.css"
              }
             ],
             "type": "async_block"
            },
            "mount_callbacks": [
             "function () {\n    var handler = (function (ko, koPunches) {\n    ko.punches.enableAll();\n    ko.bindingHandlers.numericValue = {\n        init: function(element, valueAccessor, allBindings, data, context) {\n            var stringified = ko.observable(ko.unwrap(valueAccessor()));\n            stringified.subscribe(function(value) {\n                var val = parseFloat(value);\n                if (!isNaN(val)) {\n                    valueAccessor()(val);\n                }\n            });\n            valueAccessor().subscribe(function(value) {\n                var str = JSON.stringify(value);\n                if ((str == \"0\") && ([\"-0\", \"-0.\"].indexOf(stringified()) >= 0))\n                     return;\n                 if ([\"null\", \"\"].indexOf(str) >= 0)\n                     return;\n                stringified(str);\n            });\n            ko.applyBindingsToNode(\n                element,\n                {\n                    value: stringified,\n                    valueUpdate: allBindings.get('valueUpdate'),\n                },\n                context,\n            );\n        }\n    };\n    var json_data = {\"formatted_vals\":[\"1\",\"2\",\"3\",\"4\",\"5\",\"6\",\"7\",\"8\",\"9\",\"10\",\"11\",\"12\",\"13\",\"14\",\"15\",\"16\",\"17\",\"18\",\"19\",\"20\",\"21\",\"22\",\"23\",\"24\",\"25\",\"26\",\"27\",\"28\",\"29\",\"30\",\"31\",\"32\",\"33\",\"34\",\"35\",\"36\",\"37\",\"38\",\"39\",\"40\",\"41\",\"42\",\"43\",\"44\",\"45\",\"46\",\"47\",\"48\",\"49\",\"50\",\"51\",\"52\",\"53\",\"54\",\"55\",\"56\",\"57\",\"58\",\"59\",\"60\",\"61\",\"62\",\"63\",\"64\",\"65\",\"66\",\"67\",\"68\",\"69\",\"70\",\"71\",\"72\",\"73\",\"74\",\"75\",\"76\",\"77\",\"78\",\"79\",\"80\",\"81\",\"82\",\"83\",\"84\",\"85\",\"86\",\"87\",\"88\",\"89\",\"90\",\"91\",\"92\",\"93\",\"94\",\"95\",\"96\",\"97\",\"98\",\"99\",\"100\",\"101\",\"102\",\"103\",\"104\",\"105\",\"106\",\"107\",\"108\",\"109\",\"110\",\"111\",\"112\",\"113\",\"114\",\"115\",\"116\",\"117\",\"118\",\"119\",\"120\",\"121\",\"122\",\"123\",\"124\",\"125\",\"126\",\"127\",\"128\",\"129\",\"130\",\"131\",\"132\",\"133\",\"134\",\"135\",\"136\",\"137\",\"138\",\"139\",\"140\",\"141\",\"142\",\"143\",\"144\",\"145\",\"146\",\"147\",\"148\",\"149\",\"150\",\"151\",\"152\",\"153\",\"154\",\"155\",\"156\",\"157\",\"158\",\"159\",\"160\",\"161\",\"162\",\"163\",\"164\",\"165\",\"166\",\"167\",\"168\",\"169\",\"170\",\"171\",\"172\",\"173\",\"174\",\"175\",\"176\",\"177\",\"178\",\"179\",\"180\",\"181\",\"182\",\"183\",\"184\",\"185\",\"186\",\"187\",\"188\",\"189\",\"190\",\"191\",\"192\",\"193\",\"194\",\"195\",\"196\",\"197\",\"198\",\"199\",\"200\",\"201\",\"202\",\"203\",\"204\",\"205\",\"206\",\"207\",\"208\",\"209\",\"210\",\"211\",\"212\",\"213\",\"214\",\"215\",\"216\",\"217\",\"218\",\"219\",\"220\",\"221\",\"222\",\"223\",\"224\",\"225\",\"226\",\"227\",\"228\",\"229\",\"230\",\"231\",\"232\",\"233\",\"234\",\"235\",\"236\",\"237\",\"238\",\"239\",\"240\",\"241\",\"242\",\"243\",\"244\",\"245\",\"246\",\"247\",\"248\",\"249\",\"250\",\"251\",\"252\",\"253\",\"254\"],\"changes\":WebIO.getval({\"name\":\"changes\",\"scope\":\"5881757379784676050\",\"id\":\"ob_35\",\"type\":\"observable\"}),\"index\":WebIO.getval({\"name\":\"index\",\"scope\":\"5881757379784676050\",\"id\":\"ob_34\",\"type\":\"observable\"})};\n    var self = this;\n    function AppViewModel() {\n        for (var key in json_data) {\n            var el = json_data[key];\n            this[key] = Array.isArray(el) ? ko.observableArray(el) : ko.observable(el);\n        }\n        \n        [this[\"formatted_val\"]=ko.computed(    function(){\n        return this.formatted_vals()[parseInt(this.index())-(1)];\n    }\n,this)]\n        [this[\"changes\"].subscribe((function (val){!(this.valueFromJulia[\"changes\"]) ? (WebIO.setval({\"name\":\"changes\",\"scope\":\"5881757379784676050\",\"id\":\"ob_35\",\"type\":\"observable\"},val)) : undefined; return this.valueFromJulia[\"changes\"]=false}),self),this[\"index\"].subscribe((function (val){!(this.valueFromJulia[\"index\"]) ? (WebIO.setval({\"name\":\"index\",\"scope\":\"5881757379784676050\",\"id\":\"ob_34\",\"type\":\"observable\"},val)) : undefined; return this.valueFromJulia[\"index\"]=false}),self)]\n        \n    }\n    self.model = new AppViewModel();\n    self.valueFromJulia = {};\n    for (var key in json_data) {\n        self.valueFromJulia[key] = false;\n    }\n    ko.applyBindings(self.model, self.dom);\n}\n);\n    (WebIO.importBlock({\"data\":[{\"name\":\"knockout\",\"type\":\"js\",\"url\":\"/assetserver/3fa3ffaec5c6b9df2919c82e5e20a6e06518e577-knockout.js\"},{\"name\":\"knockout_punches\",\"type\":\"js\",\"url\":\"/assetserver/63782d88af4e5f6f4f5a58b0bbb8a2f1d80dff55-knockout_punches.js\"}],\"type\":\"async_block\"})).then((imports) => handler.apply(this, imports));\n}\n"
            ],
            "observables": {
             "changes": {
              "id": "ob_35",
              "sync": false,
              "value": 0
             },
             "index": {
              "id": "ob_34",
              "sync": true,
              "value": 127
             }
            },
            "systemjs_options": null
           },
           "nodeType": "Scope",
           "props": {},
           "type": "node"
          }
         ],
         "instanceArgs": {
          "namespace": "html",
          "tag": "div"
         },
         "nodeType": "DOM",
         "props": {
          "className": "field interact-widget"
         },
         "type": "node"
        },
        {
         "children": [
          {
           "children": [],
           "instanceArgs": {
            "id": "ob_41",
            "name": "obs-node"
           },
           "nodeType": "ObservableNode",
           "props": {},
           "type": "node"
          }
         ],
         "instanceArgs": {
          "handlers": {},
          "id": "2836384218387763152",
          "imports": {
           "data": [],
           "type": "async_block"
          },
          "mount_callbacks": [],
          "observables": {
           "obs-node": {
            "id": "ob_41",
            "sync": false,
            "value": {
             "children": [
              "Haiti"
             ],
             "instanceArgs": {
              "namespace": "html",
              "tag": "div"
             },
             "nodeType": "DOM",
             "props": {
              "className": "interact-flex-row interact-widget"
             },
             "type": "node"
            }
           }
          },
          "systemjs_options": null
         },
         "nodeType": "Scope",
         "props": {},
         "type": "node"
        }
       ],
       "instanceArgs": {
        "namespace": "html",
        "tag": "div"
       },
       "nodeType": "DOM",
       "props": {},
       "type": "node"
      },
      "text/html": [
       "<div\n",
       "    class=\"webio-mountpoint\"\n",
       "    data-webio-mountpoint=\"8885633364519543572\"\n",
       ">\n",
       "    <script>\n",
       "    if (window.require && require.defined && require.defined(\"nbextensions/webio-jupyter-notebook\")) {\n",
       "        console.log(\"Jupyter WebIO extension detected, not mounting.\");\n",
       "    } else if (window.WebIO) {\n",
       "        WebIO.mount(\n",
       "            document.querySelector('[data-webio-mountpoint=\"8885633364519543572\"]'),\n",
       "            {\"props\":{},\"nodeType\":\"DOM\",\"type\":\"node\",\"instanceArgs\":{\"namespace\":\"html\",\"tag\":\"div\"},\"children\":[{\"props\":{\"className\":\"field interact-widget\"},\"nodeType\":\"DOM\",\"type\":\"node\",\"instanceArgs\":{\"namespace\":\"html\",\"tag\":\"div\"},\"children\":[{\"props\":{},\"nodeType\":\"Scope\",\"type\":\"node\",\"instanceArgs\":{\"imports\":{\"data\":[{\"name\":\"knockout\",\"type\":\"js\",\"url\":\"\\/assetserver\\/3fa3ffaec5c6b9df2919c82e5e20a6e06518e577-knockout.js\"},{\"name\":\"knockout_punches\",\"type\":\"js\",\"url\":\"\\/assetserver\\/63782d88af4e5f6f4f5a58b0bbb8a2f1d80dff55-knockout_punches.js\"},{\"name\":null,\"type\":\"js\",\"url\":\"\\/assetserver\\/a546995d2d749ea7d8e65310e2611dcbd5c61f11-all.js\"},{\"name\":null,\"type\":\"css\",\"url\":\"\\/assetserver\\/435ddd0d7423dc3ebcb68749fc95645702bb321d-style.css\"},{\"name\":null,\"type\":\"css\",\"url\":\"\\/assetserver\\/344f57f60404443ed30603f89a97186ff42b3d77-bulma_confined.min.css\"}],\"type\":\"async_block\"},\"id\":\"5881757379784676050\",\"handlers\":{\"changes\":[\"(function (val){return (val!=this.model[\\\"changes\\\"]()) ? (this.valueFromJulia[\\\"changes\\\"]=true, this.model[\\\"changes\\\"](val)) : undefined})\"],\"index\":[\"(function (val){return (val!=this.model[\\\"index\\\"]()) ? (this.valueFromJulia[\\\"index\\\"]=true, this.model[\\\"index\\\"](val)) : undefined})\"]},\"systemjs_options\":null,\"mount_callbacks\":[\"function () {\\n    var handler = (function (ko, koPunches) {\\n    ko.punches.enableAll();\\n    ko.bindingHandlers.numericValue = {\\n        init: function(element, valueAccessor, allBindings, data, context) {\\n            var stringified = ko.observable(ko.unwrap(valueAccessor()));\\n            stringified.subscribe(function(value) {\\n                var val = parseFloat(value);\\n                if (!isNaN(val)) {\\n                    valueAccessor()(val);\\n                }\\n            });\\n            valueAccessor().subscribe(function(value) {\\n                var str = JSON.stringify(value);\\n                if ((str == \\\"0\\\") && ([\\\"-0\\\", \\\"-0.\\\"].indexOf(stringified()) >= 0))\\n                     return;\\n                 if ([\\\"null\\\", \\\"\\\"].indexOf(str) >= 0)\\n                     return;\\n                stringified(str);\\n            });\\n            ko.applyBindingsToNode(\\n                element,\\n                {\\n                    value: stringified,\\n                    valueUpdate: allBindings.get('valueUpdate'),\\n                },\\n                context,\\n            );\\n        }\\n    };\\n    var json_data = {\\\"formatted_vals\\\":[\\\"1\\\",\\\"2\\\",\\\"3\\\",\\\"4\\\",\\\"5\\\",\\\"6\\\",\\\"7\\\",\\\"8\\\",\\\"9\\\",\\\"10\\\",\\\"11\\\",\\\"12\\\",\\\"13\\\",\\\"14\\\",\\\"15\\\",\\\"16\\\",\\\"17\\\",\\\"18\\\",\\\"19\\\",\\\"20\\\",\\\"21\\\",\\\"22\\\",\\\"23\\\",\\\"24\\\",\\\"25\\\",\\\"26\\\",\\\"27\\\",\\\"28\\\",\\\"29\\\",\\\"30\\\",\\\"31\\\",\\\"32\\\",\\\"33\\\",\\\"34\\\",\\\"35\\\",\\\"36\\\",\\\"37\\\",\\\"38\\\",\\\"39\\\",\\\"40\\\",\\\"41\\\",\\\"42\\\",\\\"43\\\",\\\"44\\\",\\\"45\\\",\\\"46\\\",\\\"47\\\",\\\"48\\\",\\\"49\\\",\\\"50\\\",\\\"51\\\",\\\"52\\\",\\\"53\\\",\\\"54\\\",\\\"55\\\",\\\"56\\\",\\\"57\\\",\\\"58\\\",\\\"59\\\",\\\"60\\\",\\\"61\\\",\\\"62\\\",\\\"63\\\",\\\"64\\\",\\\"65\\\",\\\"66\\\",\\\"67\\\",\\\"68\\\",\\\"69\\\",\\\"70\\\",\\\"71\\\",\\\"72\\\",\\\"73\\\",\\\"74\\\",\\\"75\\\",\\\"76\\\",\\\"77\\\",\\\"78\\\",\\\"79\\\",\\\"80\\\",\\\"81\\\",\\\"82\\\",\\\"83\\\",\\\"84\\\",\\\"85\\\",\\\"86\\\",\\\"87\\\",\\\"88\\\",\\\"89\\\",\\\"90\\\",\\\"91\\\",\\\"92\\\",\\\"93\\\",\\\"94\\\",\\\"95\\\",\\\"96\\\",\\\"97\\\",\\\"98\\\",\\\"99\\\",\\\"100\\\",\\\"101\\\",\\\"102\\\",\\\"103\\\",\\\"104\\\",\\\"105\\\",\\\"106\\\",\\\"107\\\",\\\"108\\\",\\\"109\\\",\\\"110\\\",\\\"111\\\",\\\"112\\\",\\\"113\\\",\\\"114\\\",\\\"115\\\",\\\"116\\\",\\\"117\\\",\\\"118\\\",\\\"119\\\",\\\"120\\\",\\\"121\\\",\\\"122\\\",\\\"123\\\",\\\"124\\\",\\\"125\\\",\\\"126\\\",\\\"127\\\",\\\"128\\\",\\\"129\\\",\\\"130\\\",\\\"131\\\",\\\"132\\\",\\\"133\\\",\\\"134\\\",\\\"135\\\",\\\"136\\\",\\\"137\\\",\\\"138\\\",\\\"139\\\",\\\"140\\\",\\\"141\\\",\\\"142\\\",\\\"143\\\",\\\"144\\\",\\\"145\\\",\\\"146\\\",\\\"147\\\",\\\"148\\\",\\\"149\\\",\\\"150\\\",\\\"151\\\",\\\"152\\\",\\\"153\\\",\\\"154\\\",\\\"155\\\",\\\"156\\\",\\\"157\\\",\\\"158\\\",\\\"159\\\",\\\"160\\\",\\\"161\\\",\\\"162\\\",\\\"163\\\",\\\"164\\\",\\\"165\\\",\\\"166\\\",\\\"167\\\",\\\"168\\\",\\\"169\\\",\\\"170\\\",\\\"171\\\",\\\"172\\\",\\\"173\\\",\\\"174\\\",\\\"175\\\",\\\"176\\\",\\\"177\\\",\\\"178\\\",\\\"179\\\",\\\"180\\\",\\\"181\\\",\\\"182\\\",\\\"183\\\",\\\"184\\\",\\\"185\\\",\\\"186\\\",\\\"187\\\",\\\"188\\\",\\\"189\\\",\\\"190\\\",\\\"191\\\",\\\"192\\\",\\\"193\\\",\\\"194\\\",\\\"195\\\",\\\"196\\\",\\\"197\\\",\\\"198\\\",\\\"199\\\",\\\"200\\\",\\\"201\\\",\\\"202\\\",\\\"203\\\",\\\"204\\\",\\\"205\\\",\\\"206\\\",\\\"207\\\",\\\"208\\\",\\\"209\\\",\\\"210\\\",\\\"211\\\",\\\"212\\\",\\\"213\\\",\\\"214\\\",\\\"215\\\",\\\"216\\\",\\\"217\\\",\\\"218\\\",\\\"219\\\",\\\"220\\\",\\\"221\\\",\\\"222\\\",\\\"223\\\",\\\"224\\\",\\\"225\\\",\\\"226\\\",\\\"227\\\",\\\"228\\\",\\\"229\\\",\\\"230\\\",\\\"231\\\",\\\"232\\\",\\\"233\\\",\\\"234\\\",\\\"235\\\",\\\"236\\\",\\\"237\\\",\\\"238\\\",\\\"239\\\",\\\"240\\\",\\\"241\\\",\\\"242\\\",\\\"243\\\",\\\"244\\\",\\\"245\\\",\\\"246\\\",\\\"247\\\",\\\"248\\\",\\\"249\\\",\\\"250\\\",\\\"251\\\",\\\"252\\\",\\\"253\\\",\\\"254\\\"],\\\"changes\\\":WebIO.getval({\\\"name\\\":\\\"changes\\\",\\\"scope\\\":\\\"5881757379784676050\\\",\\\"id\\\":\\\"ob_35\\\",\\\"type\\\":\\\"observable\\\"}),\\\"index\\\":WebIO.getval({\\\"name\\\":\\\"index\\\",\\\"scope\\\":\\\"5881757379784676050\\\",\\\"id\\\":\\\"ob_34\\\",\\\"type\\\":\\\"observable\\\"})};\\n    var self = this;\\n    function AppViewModel() {\\n        for (var key in json_data) {\\n            var el = json_data[key];\\n            this[key] = Array.isArray(el) ? ko.observableArray(el) : ko.observable(el);\\n        }\\n        \\n        [this[\\\"formatted_val\\\"]=ko.computed(    function(){\\n        return this.formatted_vals()[parseInt(this.index())-(1)];\\n    }\\n,this)]\\n        [this[\\\"changes\\\"].subscribe((function (val){!(this.valueFromJulia[\\\"changes\\\"]) ? (WebIO.setval({\\\"name\\\":\\\"changes\\\",\\\"scope\\\":\\\"5881757379784676050\\\",\\\"id\\\":\\\"ob_35\\\",\\\"type\\\":\\\"observable\\\"},val)) : undefined; return this.valueFromJulia[\\\"changes\\\"]=false}),self),this[\\\"index\\\"].subscribe((function (val){!(this.valueFromJulia[\\\"index\\\"]) ? (WebIO.setval({\\\"name\\\":\\\"index\\\",\\\"scope\\\":\\\"5881757379784676050\\\",\\\"id\\\":\\\"ob_34\\\",\\\"type\\\":\\\"observable\\\"},val)) : undefined; return this.valueFromJulia[\\\"index\\\"]=false}),self)]\\n        \\n    }\\n    self.model = new AppViewModel();\\n    self.valueFromJulia = {};\\n    for (var key in json_data) {\\n        self.valueFromJulia[key] = false;\\n    }\\n    ko.applyBindings(self.model, self.dom);\\n}\\n);\\n    (WebIO.importBlock({\\\"data\\\":[{\\\"name\\\":\\\"knockout\\\",\\\"type\\\":\\\"js\\\",\\\"url\\\":\\\"\\/assetserver\\/3fa3ffaec5c6b9df2919c82e5e20a6e06518e577-knockout.js\\\"},{\\\"name\\\":\\\"knockout_punches\\\",\\\"type\\\":\\\"js\\\",\\\"url\\\":\\\"\\/assetserver\\/63782d88af4e5f6f4f5a58b0bbb8a2f1d80dff55-knockout_punches.js\\\"}],\\\"type\\\":\\\"async_block\\\"})).then((imports) => handler.apply(this, imports));\\n}\\n\"],\"observables\":{\"changes\":{\"sync\":false,\"id\":\"ob_35\",\"value\":0},\"index\":{\"sync\":true,\"id\":\"ob_34\",\"value\":127}}},\"children\":[{\"props\":{\"className\":\"interact-flex-row interact-widget\"},\"nodeType\":\"DOM\",\"type\":\"node\",\"instanceArgs\":{\"namespace\":\"html\",\"tag\":\"div\"},\"children\":[{\"props\":{\"className\":\"interact-flex-row-left\"},\"nodeType\":\"DOM\",\"type\":\"node\",\"instanceArgs\":{\"namespace\":\"html\",\"tag\":\"div\"},\"children\":[{\"props\":{\"className\":\"interact \",\"style\":{\"padding\":\"5px 10px 0px 10px\"}},\"nodeType\":\"DOM\",\"type\":\"node\",\"instanceArgs\":{\"namespace\":\"html\",\"tag\":\"label\"},\"children\":[\"i\"]}]},{\"props\":{\"className\":\"interact-flex-row-center\"},\"nodeType\":\"DOM\",\"type\":\"node\",\"instanceArgs\":{\"namespace\":\"html\",\"tag\":\"div\"},\"children\":[{\"props\":{\"max\":254,\"min\":1,\"attributes\":{\"type\":\"range\",\"data-bind\":\"numericValue: index, valueUpdate: 'input', event: {change: function (){this.changes(this.changes()+1)}}\",\"orient\":\"horizontal\"},\"step\":1,\"className\":\"slider slider is-fullwidth\",\"style\":{}},\"nodeType\":\"DOM\",\"type\":\"node\",\"instanceArgs\":{\"namespace\":\"html\",\"tag\":\"input\"},\"children\":[]}]},{\"props\":{\"className\":\"interact-flex-row-right\"},\"nodeType\":\"DOM\",\"type\":\"node\",\"instanceArgs\":{\"namespace\":\"html\",\"tag\":\"div\"},\"children\":[{\"props\":{\"attributes\":{\"data-bind\":\"text: formatted_val\"}},\"nodeType\":\"DOM\",\"type\":\"node\",\"instanceArgs\":{\"namespace\":\"html\",\"tag\":\"p\"},\"children\":[]}]}]}]}]},{\"props\":{},\"nodeType\":\"Scope\",\"type\":\"node\",\"instanceArgs\":{\"imports\":{\"data\":[],\"type\":\"async_block\"},\"id\":\"10363974971956931347\",\"handlers\":{},\"systemjs_options\":null,\"mount_callbacks\":[],\"observables\":{\"obs-node\":{\"sync\":false,\"id\":\"ob_39\",\"value\":{\"props\":{\"className\":\"interact-flex-row interact-widget\"},\"nodeType\":\"DOM\",\"type\":\"node\",\"instanceArgs\":{\"namespace\":\"html\",\"tag\":\"div\"},\"children\":[\"Haiti\"]}}}},\"children\":[{\"props\":{},\"nodeType\":\"ObservableNode\",\"type\":\"node\",\"instanceArgs\":{\"id\":\"ob_39\",\"name\":\"obs-node\"},\"children\":[]}]}]},\n",
       "            window,\n",
       "        );\n",
       "    } else {\n",
       "        document\n",
       "            .querySelector('[data-webio-mountpoint=\"8885633364519543572\"]')\n",
       "            .innerHTML = (\n",
       "                '<div style=\"padding: 1em; background-color: #f8d6da; border: 1px solid #f5c6cb\">' +\n",
       "                '<p><strong>WebIO not detected.</strong></p>' +\n",
       "                '<p>Please read ' +\n",
       "                '<a href=\"https://juliagizmos.github.io/WebIO.jl/latest/troubleshooting/not-detected/\" target=\"_blank\">the troubleshooting guide</a> ' +\n",
       "                'for more information on how to resolve this issue.</p>' +\n",
       "                '<p><a href=\"https://juliagizmos.github.io/WebIO.jl/latest/troubleshooting/not-detected/\" target=\"_blank\">https://juliagizmos.github.io/WebIO.jl/latest/troubleshooting/not-detected/</a></p>' +\n",
       "                '</div>'\n",
       "            );\n",
       "    }\n",
       "    </script>\n",
       "</div>\n"
      ],
      "text/plain": [
       "Node{WebIO.DOM}(WebIO.DOM(:html, :div), Any[Node{WebIO.DOM}(WebIO.DOM(:html, :div), Any[Scope(Node{WebIO.DOM}(WebIO.DOM(:html, :div), Any[Node{WebIO.DOM}(WebIO.DOM(:html, :div), Any[Node{WebIO.DOM}(WebIO.DOM(:html, :label), Any[\"i\"], Dict{Symbol,Any}(:className => \"interact \",:style => Dict{Any,Any}(:padding => \"5px 10px 0px 10px\")))], Dict{Symbol,Any}(:className => \"interact-flex-row-left\")), Node{WebIO.DOM}(WebIO.DOM(:html, :div), Any[Node{WebIO.DOM}(WebIO.DOM(:html, :input), Any[], Dict{Symbol,Any}(:max => 254,:min => 1,:attributes => Dict{Any,Any}(:type => \"range\",Symbol(\"data-bind\") => \"numericValue: index, valueUpdate: 'input', event: {change: function (){this.changes(this.changes()+1)}}\",\"orient\" => \"horizontal\"),:step => 1,:className => \"slider slider is-fullwidth\",:style => Dict{Any,Any}()))], Dict{Symbol,Any}(:className => \"interact-flex-row-center\")), Node{WebIO.DOM}(WebIO.DOM(:html, :div), Any[Node{WebIO.DOM}(WebIO.DOM(:html, :p), Any[], Dict{Symbol,Any}(:attributes => Dict(\"data-bind\" => \"text: formatted_val\")))], Dict{Symbol,Any}(:className => \"interact-flex-row-right\"))], Dict{Symbol,Any}(:className => \"interact-flex-row interact-widget\")), Dict{String,Tuple{Observables.AbstractObservable,Union{Nothing, Bool}}}(\"changes\" => (Observable{Int64} with 1 listeners. Value:\n",
       "0, nothing),\"index\" => (Observable{Int64} with 2 listeners. Value:\n",
       "127, nothing)), Set(String[]), nothing, Asset[Asset(\"js\", \"knockout\", \"C:\\\\Users\\\\chuan\\\\.julia\\\\packages\\\\Knockout\\\\IP1uR\\\\src\\\\..\\\\assets\\\\knockout.js\"), Asset(\"js\", \"knockout_punches\", \"C:\\\\Users\\\\chuan\\\\.julia\\\\packages\\\\Knockout\\\\IP1uR\\\\src\\\\..\\\\assets\\\\knockout_punches.js\"), Asset(\"js\", nothing, \"C:\\\\Users\\\\chuan\\\\.julia\\\\packages\\\\InteractBase\\\\9mFwe\\\\src\\\\..\\\\assets\\\\all.js\"), Asset(\"css\", nothing, \"C:\\\\Users\\\\chuan\\\\.julia\\\\packages\\\\InteractBase\\\\9mFwe\\\\src\\\\..\\\\assets\\\\style.css\"), Asset(\"css\", nothing, \"C:\\\\Users\\\\chuan\\\\.julia\\\\packages\\\\Interact\\\\SbgIk\\\\src\\\\..\\\\assets\\\\bulma_confined.min.css\")], Dict{Any,Any}(\"changes\" => Any[WebIO.JSString(\"(function (val){return (val!=this.model[\\\"changes\\\"]()) ? (this.valueFromJulia[\\\"changes\\\"]=true, this.model[\\\"changes\\\"](val)) : undefined})\")],\"index\" => Any[WebIO.JSString(\"(function (val){return (val!=this.model[\\\"index\\\"]()) ? (this.valueFromJulia[\\\"index\\\"]=true, this.model[\\\"index\\\"](val)) : undefined})\")]), WebIO.ConnectionPool(Channel{Any}(sz_max:32,sz_curr:0), Set(AbstractConnection[]), Base.GenericCondition{Base.AlwaysLockedST}(Base.InvasiveLinkedList{Task}(Task (runnable) @0x00000000410c5150, Task (runnable) @0x00000000410c5150), Base.AlwaysLockedST(1))), WebIO.JSString[WebIO.JSString(\"function () {\\n    var handler = (function (ko, koPunches) {\\n    ko.punches.enableAll();\\n    ko.bindingHandlers.numericValue = {\\n        init: function(element, valueAccessor, allBindings, data, context) {\\n            var stringified = ko.observable(ko.unwrap(valueAccessor()));\\n            stringified.subscribe(function(value) {\\n                var val = parseFloat(value);\\n                if (!isNaN(val)) {\\n                    valueAccessor()(val);\\n                }\\n            });\\n            valueAccessor().subscribe(function(value) {\\n                var str = JSON.stringify(value);\\n                if ((str == \\\"0\\\") && ([\\\"-0\\\", \\\"-0.\\\"].indexOf(stringified()) >= 0))\\n                     return;\\n                 if ([\\\"null\\\", \\\"\\\"].indexOf(str) >= 0)\\n                     return;\\n                stringified(str);\\n            });\\n            ko.applyBindingsToNode(\\n                element,\\n                {\\n                    value: stringified,\\n                    valueUpdate: allBindings.get('valueUpdate'),\\n                },\\n                context,\\n            );\\n        }\\n    };\\n    var json_data = {\\\"formatted_vals\\\":[\\\"1\\\",\\\"2\\\",\\\"3\\\",\\\"4\\\",\\\"5\\\",\\\"6\\\",\\\"7\\\",\\\"8\\\",\\\"9\\\",\\\"10\\\",\\\"11\\\",\\\"12\\\",\\\"13\\\",\\\"14\\\",\\\"15\\\",\\\"16\\\",\\\"17\\\",\\\"18\\\",\\\"19\\\",\\\"20\\\",\\\"21\\\",\\\"22\\\",\\\"23\\\",\\\"24\\\",\\\"25\\\",\\\"26\\\",\\\"27\\\",\\\"28\\\",\\\"29\\\",\\\"30\\\",\\\"31\\\",\\\"32\\\",\\\"33\\\",\\\"34\\\",\\\"35\\\",\\\"36\\\",\\\"37\\\",\\\"38\\\",\\\"39\\\",\\\"40\\\",\\\"41\\\",\\\"42\\\",\\\"43\\\",\\\"44\\\",\\\"45\\\",\\\"46\\\",\\\"47\\\",\\\"48\\\",\\\"49\\\",\\\"50\\\",\\\"51\\\",\\\"52\\\",\\\"53\\\",\\\"54\\\",\\\"55\\\",\\\"56\\\",\\\"57\\\",\\\"58\\\",\\\"59\\\",\\\"60\\\",\\\"61\\\",\\\"62\\\",\\\"63\\\",\\\"64\\\",\\\"65\\\",\\\"66\\\",\\\"67\\\",\\\"68\\\",\\\"69\\\",\\\"70\\\",\\\"71\\\",\\\"72\\\",\\\"73\\\",\\\"74\\\",\\\"75\\\",\\\"76\\\",\\\"77\\\",\\\"78\\\",\\\"79\\\",\\\"80\\\",\\\"81\\\",\\\"82\\\",\\\"83\\\",\\\"84\\\",\\\"85\\\",\\\"86\\\",\\\"87\\\",\\\"88\\\",\\\"89\\\",\\\"90\\\",\\\"91\\\",\\\"92\\\",\\\"93\\\",\\\"94\\\",\\\"95\\\",\\\"96\\\",\\\"97\\\",\\\"98\\\",\\\"99\\\",\\\"100\\\",\\\"101\\\",\\\"102\\\",\\\"103\\\",\\\"104\\\",\\\"105\\\",\\\"106\\\",\\\"107\\\",\\\"108\\\",\\\"109\\\",\\\"110\\\",\\\"111\\\",\\\"112\\\",\\\"113\\\",\\\"114\\\",\\\"115\\\",\\\"116\\\",\\\"117\\\",\\\"118\\\",\\\"119\\\",\\\"120\\\",\\\"121\\\",\\\"122\\\",\\\"123\\\",\\\"124\\\",\\\"125\\\",\\\"126\\\",\\\"127\\\",\\\"128\\\",\\\"129\\\",\\\"130\\\",\\\"131\\\",\\\"132\\\",\\\"133\\\",\\\"134\\\",\\\"135\\\",\\\"136\\\",\\\"137\\\",\\\"138\\\",\\\"139\\\",\\\"140\\\",\\\"141\\\",\\\"142\\\",\\\"143\\\",\\\"144\\\",\\\"145\\\",\\\"146\\\",\\\"147\\\",\\\"148\\\",\\\"149\\\",\\\"150\\\",\\\"151\\\",\\\"152\\\",\\\"153\\\",\\\"154\\\",\\\"155\\\",\\\"156\\\",\\\"157\\\",\\\"158\\\",\\\"159\\\",\\\"160\\\",\\\"161\\\",\\\"162\\\",\\\"163\\\",\\\"164\\\",\\\"165\\\",\\\"166\\\",\\\"167\\\",\\\"168\\\",\\\"169\\\",\\\"170\\\",\\\"171\\\",\\\"172\\\",\\\"173\\\",\\\"174\\\",\\\"175\\\",\\\"176\\\",\\\"177\\\",\\\"178\\\",\\\"179\\\",\\\"180\\\",\\\"181\\\",\\\"182\\\",\\\"183\\\",\\\"184\\\",\\\"185\\\",\\\"186\\\",\\\"187\\\",\\\"188\\\",\\\"189\\\",\\\"190\\\",\\\"191\\\",\\\"192\\\",\\\"193\\\",\\\"194\\\",\\\"195\\\",\\\"196\\\",\\\"197\\\",\\\"198\\\",\\\"199\\\",\\\"200\\\",\\\"201\\\",\\\"202\\\",\\\"203\\\",\\\"204\\\",\\\"205\\\",\\\"206\\\",\\\"207\\\",\\\"208\\\",\\\"209\\\",\\\"210\\\",\\\"211\\\",\\\"212\\\",\\\"213\\\",\\\"214\\\",\\\"215\\\",\\\"216\\\",\\\"217\\\",\\\"218\\\",\\\"219\\\",\\\"220\\\",\\\"221\\\",\\\"222\\\",\\\"223\\\",\\\"224\\\",\\\"225\\\",\\\"226\\\",\\\"227\\\",\\\"228\\\",\\\"229\\\",\\\"230\\\",\\\"231\\\",\\\"232\\\",\\\"233\\\",\\\"234\\\",\\\"235\\\",\\\"236\\\",\\\"237\\\",\\\"238\\\",\\\"239\\\",\\\"240\\\",\\\"241\\\",\\\"242\\\",\\\"243\\\",\\\"244\\\",\\\"245\\\",\\\"246\\\",\\\"247\\\",\\\"248\\\",\\\"249\\\",\\\"250\\\",\\\"251\\\",\\\"252\\\",\\\"253\\\",\\\"254\\\"],\\\"changes\\\":WebIO.getval({\\\"name\\\":\\\"changes\\\",\\\"scope\\\":\\\"5881757379784676050\\\",\\\"id\\\":\\\"ob_35\\\",\\\"type\\\":\\\"observable\\\"}),\\\"index\\\":WebIO.getval({\\\"name\\\":\\\"index\\\",\\\"scope\\\":\\\"5881757379784676050\\\",\\\"id\\\":\\\"ob_34\\\",\\\"type\\\":\\\"observable\\\"})};\\n    var self = this;\\n    function AppViewModel() {\\n        for (var key in json_data) {\\n            var el = json_data[key];\\n            this[key] = Array.isArray(el) ? ko.observableArray(el) : ko.observable(el);\\n        }\\n        \\n        [this[\\\"formatted_val\\\"]=ko.computed(    function(){\\n        return this.formatted_vals()[parseInt(this.index())-(1)];\\n    }\\n,this)]\\n        [this[\\\"changes\\\"].subscribe((function (val){!(this.valueFromJulia[\\\"changes\\\"]) ? (WebIO.setval({\\\"name\\\":\\\"changes\\\",\\\"scope\\\":\\\"5881757379784676050\\\",\\\"id\\\":\\\"ob_35\\\",\\\"type\\\":\\\"observable\\\"},val)) : undefined; return this.valueFromJulia[\\\"changes\\\"]=false}),self),this[\\\"index\\\"].subscribe((function (val){!(this.valueFromJulia[\\\"index\\\"]) ? (WebIO.setval({\\\"name\\\":\\\"index\\\",\\\"scope\\\":\\\"5881757379784676050\\\",\\\"id\\\":\\\"ob_34\\\",\\\"type\\\":\\\"observable\\\"},val)) : undefined; return this.valueFromJulia[\\\"index\\\"]=false}),self)]\\n        \\n    }\\n    self.model = new AppViewModel();\\n    self.valueFromJulia = {};\\n    for (var key in json_data) {\\n        self.valueFromJulia[key] = false;\\n    }\\n    ko.applyBindings(self.model, self.dom);\\n}\\n);\\n    (WebIO.importBlock({\\\"data\\\":[{\\\"name\\\":\\\"knockout\\\",\\\"type\\\":\\\"js\\\",\\\"url\\\":\\\"/assetserver/3fa3ffaec5c6b9df2919c82e5e20a6e06518e577-knockout.js\\\"},{\\\"name\\\":\\\"knockout_punches\\\",\\\"type\\\":\\\"js\\\",\\\"url\\\":\\\"/assetserver/63782d88af4e5f6f4f5a58b0bbb8a2f1d80dff55-knockout_punches.js\\\"}],\\\"type\\\":\\\"async_block\\\"})).then((imports) => handler.apply(this, imports));\\n}\\n\")])], Dict{Symbol,Any}(:className => \"field interact-widget\")), Observable{Any} with 0 listeners. Value:\n",
       "Node{WebIO.DOM}(WebIO.DOM(:html, :div), Any[\"Haiti\"], Dict{Symbol,Any}(:className => \"interact-flex-row interact-widget\"))], Dict{Symbol,Any}())"
      ]
     },
     "execution_count": 49,
     "metadata": {
      "@webio": {
       "kernelId": "b73a1676-98dd-4af0-9b82-9338bf22ba23"
      }
     },
     "output_type": "execute_result"
    }
   ],
   "source": [
    "@manipulate for i in 1:length(countries)\n",
    "    countries[i]\n",
    "end"
   ]
  },
  {
   "cell_type": "markdown",
   "metadata": {},
   "source": [
    "Julia has 1-based indexing: indices of vectors start at 1, not 0 "
   ]
  },
  {
   "cell_type": "code",
   "execution_count": 50,
   "metadata": {},
   "outputs": [
    {
     "data": {
      "application/vnd.webio.node+json": {
       "children": [
        {
         "children": [
          {
           "children": [
            {
             "children": [
              {
               "children": [
                {
                 "children": [
                  "i"
                 ],
                 "instanceArgs": {
                  "namespace": "html",
                  "tag": "label"
                 },
                 "nodeType": "DOM",
                 "props": {
                  "className": "interact ",
                  "style": {
                   "padding": "5px 10px 0px 10px"
                  }
                 },
                 "type": "node"
                }
               ],
               "instanceArgs": {
                "namespace": "html",
                "tag": "div"
               },
               "nodeType": "DOM",
               "props": {
                "className": "interact-flex-row-left"
               },
               "type": "node"
              },
              {
               "children": [
                {
                 "children": [],
                 "instanceArgs": {
                  "namespace": "html",
                  "tag": "input"
                 },
                 "nodeType": "DOM",
                 "props": {
                  "attributes": {
                   "data-bind": "numericValue: index, valueUpdate: 'input', event: {change: function (){this.changes(this.changes()+1)}}",
                   "orient": "horizontal",
                   "type": "range"
                  },
                  "className": "slider slider is-fullwidth",
                  "max": 254,
                  "min": 1,
                  "step": 1,
                  "style": {}
                 },
                 "type": "node"
                }
               ],
               "instanceArgs": {
                "namespace": "html",
                "tag": "div"
               },
               "nodeType": "DOM",
               "props": {
                "className": "interact-flex-row-center"
               },
               "type": "node"
              },
              {
               "children": [
                {
                 "children": [],
                 "instanceArgs": {
                  "namespace": "html",
                  "tag": "p"
                 },
                 "nodeType": "DOM",
                 "props": {
                  "attributes": {
                   "data-bind": "text: formatted_val"
                  }
                 },
                 "type": "node"
                }
               ],
               "instanceArgs": {
                "namespace": "html",
                "tag": "div"
               },
               "nodeType": "DOM",
               "props": {
                "className": "interact-flex-row-right"
               },
               "type": "node"
              }
             ],
             "instanceArgs": {
              "namespace": "html",
              "tag": "div"
             },
             "nodeType": "DOM",
             "props": {
              "className": "interact-flex-row interact-widget"
             },
             "type": "node"
            }
           ],
           "instanceArgs": {
            "handlers": {
             "changes": [
              "(function (val){return (val!=this.model[\"changes\"]()) ? (this.valueFromJulia[\"changes\"]=true, this.model[\"changes\"](val)) : undefined})"
             ],
             "index": [
              "(function (val){return (val!=this.model[\"index\"]()) ? (this.valueFromJulia[\"index\"]=true, this.model[\"index\"](val)) : undefined})"
             ]
            },
            "id": "11806424594903455255",
            "imports": {
             "data": [
              {
               "name": "knockout",
               "type": "js",
               "url": "/assetserver/3fa3ffaec5c6b9df2919c82e5e20a6e06518e577-knockout.js"
              },
              {
               "name": "knockout_punches",
               "type": "js",
               "url": "/assetserver/63782d88af4e5f6f4f5a58b0bbb8a2f1d80dff55-knockout_punches.js"
              },
              {
               "name": null,
               "type": "js",
               "url": "/assetserver/a546995d2d749ea7d8e65310e2611dcbd5c61f11-all.js"
              },
              {
               "name": null,
               "type": "css",
               "url": "/assetserver/435ddd0d7423dc3ebcb68749fc95645702bb321d-style.css"
              },
              {
               "name": null,
               "type": "css",
               "url": "/assetserver/344f57f60404443ed30603f89a97186ff42b3d77-bulma_confined.min.css"
              }
             ],
             "type": "async_block"
            },
            "mount_callbacks": [
             "function () {\n    var handler = (function (ko, koPunches) {\n    ko.punches.enableAll();\n    ko.bindingHandlers.numericValue = {\n        init: function(element, valueAccessor, allBindings, data, context) {\n            var stringified = ko.observable(ko.unwrap(valueAccessor()));\n            stringified.subscribe(function(value) {\n                var val = parseFloat(value);\n                if (!isNaN(val)) {\n                    valueAccessor()(val);\n                }\n            });\n            valueAccessor().subscribe(function(value) {\n                var str = JSON.stringify(value);\n                if ((str == \"0\") && ([\"-0\", \"-0.\"].indexOf(stringified()) >= 0))\n                     return;\n                 if ([\"null\", \"\"].indexOf(str) >= 0)\n                     return;\n                stringified(str);\n            });\n            ko.applyBindingsToNode(\n                element,\n                {\n                    value: stringified,\n                    valueUpdate: allBindings.get('valueUpdate'),\n                },\n                context,\n            );\n        }\n    };\n    var json_data = {\"formatted_vals\":[\"1\",\"2\",\"3\",\"4\",\"5\",\"6\",\"7\",\"8\",\"9\",\"10\",\"11\",\"12\",\"13\",\"14\",\"15\",\"16\",\"17\",\"18\",\"19\",\"20\",\"21\",\"22\",\"23\",\"24\",\"25\",\"26\",\"27\",\"28\",\"29\",\"30\",\"31\",\"32\",\"33\",\"34\",\"35\",\"36\",\"37\",\"38\",\"39\",\"40\",\"41\",\"42\",\"43\",\"44\",\"45\",\"46\",\"47\",\"48\",\"49\",\"50\",\"51\",\"52\",\"53\",\"54\",\"55\",\"56\",\"57\",\"58\",\"59\",\"60\",\"61\",\"62\",\"63\",\"64\",\"65\",\"66\",\"67\",\"68\",\"69\",\"70\",\"71\",\"72\",\"73\",\"74\",\"75\",\"76\",\"77\",\"78\",\"79\",\"80\",\"81\",\"82\",\"83\",\"84\",\"85\",\"86\",\"87\",\"88\",\"89\",\"90\",\"91\",\"92\",\"93\",\"94\",\"95\",\"96\",\"97\",\"98\",\"99\",\"100\",\"101\",\"102\",\"103\",\"104\",\"105\",\"106\",\"107\",\"108\",\"109\",\"110\",\"111\",\"112\",\"113\",\"114\",\"115\",\"116\",\"117\",\"118\",\"119\",\"120\",\"121\",\"122\",\"123\",\"124\",\"125\",\"126\",\"127\",\"128\",\"129\",\"130\",\"131\",\"132\",\"133\",\"134\",\"135\",\"136\",\"137\",\"138\",\"139\",\"140\",\"141\",\"142\",\"143\",\"144\",\"145\",\"146\",\"147\",\"148\",\"149\",\"150\",\"151\",\"152\",\"153\",\"154\",\"155\",\"156\",\"157\",\"158\",\"159\",\"160\",\"161\",\"162\",\"163\",\"164\",\"165\",\"166\",\"167\",\"168\",\"169\",\"170\",\"171\",\"172\",\"173\",\"174\",\"175\",\"176\",\"177\",\"178\",\"179\",\"180\",\"181\",\"182\",\"183\",\"184\",\"185\",\"186\",\"187\",\"188\",\"189\",\"190\",\"191\",\"192\",\"193\",\"194\",\"195\",\"196\",\"197\",\"198\",\"199\",\"200\",\"201\",\"202\",\"203\",\"204\",\"205\",\"206\",\"207\",\"208\",\"209\",\"210\",\"211\",\"212\",\"213\",\"214\",\"215\",\"216\",\"217\",\"218\",\"219\",\"220\",\"221\",\"222\",\"223\",\"224\",\"225\",\"226\",\"227\",\"228\",\"229\",\"230\",\"231\",\"232\",\"233\",\"234\",\"235\",\"236\",\"237\",\"238\",\"239\",\"240\",\"241\",\"242\",\"243\",\"244\",\"245\",\"246\",\"247\",\"248\",\"249\",\"250\",\"251\",\"252\",\"253\",\"254\"],\"changes\":WebIO.getval({\"name\":\"changes\",\"scope\":\"11806424594903455255\",\"id\":\"ob_43\",\"type\":\"observable\"}),\"index\":WebIO.getval({\"name\":\"index\",\"scope\":\"11806424594903455255\",\"id\":\"ob_42\",\"type\":\"observable\"})};\n    var self = this;\n    function AppViewModel() {\n        for (var key in json_data) {\n            var el = json_data[key];\n            this[key] = Array.isArray(el) ? ko.observableArray(el) : ko.observable(el);\n        }\n        \n        [this[\"formatted_val\"]=ko.computed(    function(){\n        return this.formatted_vals()[parseInt(this.index())-(1)];\n    }\n,this)]\n        [this[\"changes\"].subscribe((function (val){!(this.valueFromJulia[\"changes\"]) ? (WebIO.setval({\"name\":\"changes\",\"scope\":\"11806424594903455255\",\"id\":\"ob_43\",\"type\":\"observable\"},val)) : undefined; return this.valueFromJulia[\"changes\"]=false}),self),this[\"index\"].subscribe((function (val){!(this.valueFromJulia[\"index\"]) ? (WebIO.setval({\"name\":\"index\",\"scope\":\"11806424594903455255\",\"id\":\"ob_42\",\"type\":\"observable\"},val)) : undefined; return this.valueFromJulia[\"index\"]=false}),self)]\n        \n    }\n    self.model = new AppViewModel();\n    self.valueFromJulia = {};\n    for (var key in json_data) {\n        self.valueFromJulia[key] = false;\n    }\n    ko.applyBindings(self.model, self.dom);\n}\n);\n    (WebIO.importBlock({\"data\":[{\"name\":\"knockout\",\"type\":\"js\",\"url\":\"/assetserver/3fa3ffaec5c6b9df2919c82e5e20a6e06518e577-knockout.js\"},{\"name\":\"knockout_punches\",\"type\":\"js\",\"url\":\"/assetserver/63782d88af4e5f6f4f5a58b0bbb8a2f1d80dff55-knockout_punches.js\"}],\"type\":\"async_block\"})).then((imports) => handler.apply(this, imports));\n}\n"
            ],
            "observables": {
             "changes": {
              "id": "ob_43",
              "sync": false,
              "value": 0
             },
             "index": {
              "id": "ob_42",
              "sync": true,
              "value": 127
             }
            },
            "systemjs_options": null
           },
           "nodeType": "Scope",
           "props": {},
           "type": "node"
          }
         ],
         "instanceArgs": {
          "namespace": "html",
          "tag": "div"
         },
         "nodeType": "DOM",
         "props": {
          "className": "field interact-widget"
         },
         "type": "node"
        },
        {
         "children": [
          {
           "children": [],
           "instanceArgs": {
            "id": "ob_49",
            "name": "obs-node"
           },
           "nodeType": "ObservableNode",
           "props": {},
           "type": "node"
          }
         ],
         "instanceArgs": {
          "handlers": {},
          "id": "7750444267427341046",
          "imports": {
           "data": [],
           "type": "async_block"
          },
          "mount_callbacks": [],
          "observables": {
           "obs-node": {
            "id": "ob_49",
            "sync": false,
            "value": {
             "children": [
              {
               "children": [],
               "instanceArgs": {
                "namespace": "html",
                "tag": "div"
               },
               "nodeType": "DOM",
               "props": {
                "setInnerHtml": "<p>DataFrameRow (15 columns)</p><table class=\"data-frame\"><thead><tr><th></th><th>province</th><th>country</th><th>Lat</th><th>Long</th><th>1/22/20</th><th>1/23/20</th><th>1/24/20</th><th>1/25/20</th><th>1/26/20</th><th>1/27/20</th><th>1/28/20</th><th>1/29/20</th><th>1/30/20</th><th>1/31/20</th><th>2/1/20</th></tr><tr><th></th><th>String⍰</th><th>String</th><th>Float64</th><th>Float64</th><th>Int64</th><th>Int64</th><th>Int64</th><th>Int64</th><th>Int64</th><th>Int64</th><th>Int64</th><th>Int64</th><th>Int64</th><th>Int64</th><th>Int64</th></tr></thead><tbody><tr><th>127</th><td>missing</td><td>Haiti</td><td>18.9712</td><td>-72.2852</td><td>0</td><td>0</td><td>0</td><td>0</td><td>0</td><td>0</td><td>0</td><td>0</td><td>0</td><td>0</td><td>0</td></tr></tbody></table>"
               },
               "type": "node"
              }
             ],
             "instanceArgs": {
              "namespace": "html",
              "tag": "div"
             },
             "nodeType": "DOM",
             "props": {
              "className": "interact-flex-row interact-widget"
             },
             "type": "node"
            }
           }
          },
          "systemjs_options": null
         },
         "nodeType": "Scope",
         "props": {},
         "type": "node"
        }
       ],
       "instanceArgs": {
        "namespace": "html",
        "tag": "div"
       },
       "nodeType": "DOM",
       "props": {},
       "type": "node"
      },
      "text/html": [
       "<div\n",
       "    class=\"webio-mountpoint\"\n",
       "    data-webio-mountpoint=\"6655190250396611020\"\n",
       ">\n",
       "    <script>\n",
       "    if (window.require && require.defined && require.defined(\"nbextensions/webio-jupyter-notebook\")) {\n",
       "        console.log(\"Jupyter WebIO extension detected, not mounting.\");\n",
       "    } else if (window.WebIO) {\n",
       "        WebIO.mount(\n",
       "            document.querySelector('[data-webio-mountpoint=\"6655190250396611020\"]'),\n",
       "            {\"props\":{},\"nodeType\":\"DOM\",\"type\":\"node\",\"instanceArgs\":{\"namespace\":\"html\",\"tag\":\"div\"},\"children\":[{\"props\":{\"className\":\"field interact-widget\"},\"nodeType\":\"DOM\",\"type\":\"node\",\"instanceArgs\":{\"namespace\":\"html\",\"tag\":\"div\"},\"children\":[{\"props\":{},\"nodeType\":\"Scope\",\"type\":\"node\",\"instanceArgs\":{\"imports\":{\"data\":[{\"name\":\"knockout\",\"type\":\"js\",\"url\":\"\\/assetserver\\/3fa3ffaec5c6b9df2919c82e5e20a6e06518e577-knockout.js\"},{\"name\":\"knockout_punches\",\"type\":\"js\",\"url\":\"\\/assetserver\\/63782d88af4e5f6f4f5a58b0bbb8a2f1d80dff55-knockout_punches.js\"},{\"name\":null,\"type\":\"js\",\"url\":\"\\/assetserver\\/a546995d2d749ea7d8e65310e2611dcbd5c61f11-all.js\"},{\"name\":null,\"type\":\"css\",\"url\":\"\\/assetserver\\/435ddd0d7423dc3ebcb68749fc95645702bb321d-style.css\"},{\"name\":null,\"type\":\"css\",\"url\":\"\\/assetserver\\/344f57f60404443ed30603f89a97186ff42b3d77-bulma_confined.min.css\"}],\"type\":\"async_block\"},\"id\":\"11806424594903455255\",\"handlers\":{\"changes\":[\"(function (val){return (val!=this.model[\\\"changes\\\"]()) ? (this.valueFromJulia[\\\"changes\\\"]=true, this.model[\\\"changes\\\"](val)) : undefined})\"],\"index\":[\"(function (val){return (val!=this.model[\\\"index\\\"]()) ? (this.valueFromJulia[\\\"index\\\"]=true, this.model[\\\"index\\\"](val)) : undefined})\"]},\"systemjs_options\":null,\"mount_callbacks\":[\"function () {\\n    var handler = (function (ko, koPunches) {\\n    ko.punches.enableAll();\\n    ko.bindingHandlers.numericValue = {\\n        init: function(element, valueAccessor, allBindings, data, context) {\\n            var stringified = ko.observable(ko.unwrap(valueAccessor()));\\n            stringified.subscribe(function(value) {\\n                var val = parseFloat(value);\\n                if (!isNaN(val)) {\\n                    valueAccessor()(val);\\n                }\\n            });\\n            valueAccessor().subscribe(function(value) {\\n                var str = JSON.stringify(value);\\n                if ((str == \\\"0\\\") && ([\\\"-0\\\", \\\"-0.\\\"].indexOf(stringified()) >= 0))\\n                     return;\\n                 if ([\\\"null\\\", \\\"\\\"].indexOf(str) >= 0)\\n                     return;\\n                stringified(str);\\n            });\\n            ko.applyBindingsToNode(\\n                element,\\n                {\\n                    value: stringified,\\n                    valueUpdate: allBindings.get('valueUpdate'),\\n                },\\n                context,\\n            );\\n        }\\n    };\\n    var json_data = {\\\"formatted_vals\\\":[\\\"1\\\",\\\"2\\\",\\\"3\\\",\\\"4\\\",\\\"5\\\",\\\"6\\\",\\\"7\\\",\\\"8\\\",\\\"9\\\",\\\"10\\\",\\\"11\\\",\\\"12\\\",\\\"13\\\",\\\"14\\\",\\\"15\\\",\\\"16\\\",\\\"17\\\",\\\"18\\\",\\\"19\\\",\\\"20\\\",\\\"21\\\",\\\"22\\\",\\\"23\\\",\\\"24\\\",\\\"25\\\",\\\"26\\\",\\\"27\\\",\\\"28\\\",\\\"29\\\",\\\"30\\\",\\\"31\\\",\\\"32\\\",\\\"33\\\",\\\"34\\\",\\\"35\\\",\\\"36\\\",\\\"37\\\",\\\"38\\\",\\\"39\\\",\\\"40\\\",\\\"41\\\",\\\"42\\\",\\\"43\\\",\\\"44\\\",\\\"45\\\",\\\"46\\\",\\\"47\\\",\\\"48\\\",\\\"49\\\",\\\"50\\\",\\\"51\\\",\\\"52\\\",\\\"53\\\",\\\"54\\\",\\\"55\\\",\\\"56\\\",\\\"57\\\",\\\"58\\\",\\\"59\\\",\\\"60\\\",\\\"61\\\",\\\"62\\\",\\\"63\\\",\\\"64\\\",\\\"65\\\",\\\"66\\\",\\\"67\\\",\\\"68\\\",\\\"69\\\",\\\"70\\\",\\\"71\\\",\\\"72\\\",\\\"73\\\",\\\"74\\\",\\\"75\\\",\\\"76\\\",\\\"77\\\",\\\"78\\\",\\\"79\\\",\\\"80\\\",\\\"81\\\",\\\"82\\\",\\\"83\\\",\\\"84\\\",\\\"85\\\",\\\"86\\\",\\\"87\\\",\\\"88\\\",\\\"89\\\",\\\"90\\\",\\\"91\\\",\\\"92\\\",\\\"93\\\",\\\"94\\\",\\\"95\\\",\\\"96\\\",\\\"97\\\",\\\"98\\\",\\\"99\\\",\\\"100\\\",\\\"101\\\",\\\"102\\\",\\\"103\\\",\\\"104\\\",\\\"105\\\",\\\"106\\\",\\\"107\\\",\\\"108\\\",\\\"109\\\",\\\"110\\\",\\\"111\\\",\\\"112\\\",\\\"113\\\",\\\"114\\\",\\\"115\\\",\\\"116\\\",\\\"117\\\",\\\"118\\\",\\\"119\\\",\\\"120\\\",\\\"121\\\",\\\"122\\\",\\\"123\\\",\\\"124\\\",\\\"125\\\",\\\"126\\\",\\\"127\\\",\\\"128\\\",\\\"129\\\",\\\"130\\\",\\\"131\\\",\\\"132\\\",\\\"133\\\",\\\"134\\\",\\\"135\\\",\\\"136\\\",\\\"137\\\",\\\"138\\\",\\\"139\\\",\\\"140\\\",\\\"141\\\",\\\"142\\\",\\\"143\\\",\\\"144\\\",\\\"145\\\",\\\"146\\\",\\\"147\\\",\\\"148\\\",\\\"149\\\",\\\"150\\\",\\\"151\\\",\\\"152\\\",\\\"153\\\",\\\"154\\\",\\\"155\\\",\\\"156\\\",\\\"157\\\",\\\"158\\\",\\\"159\\\",\\\"160\\\",\\\"161\\\",\\\"162\\\",\\\"163\\\",\\\"164\\\",\\\"165\\\",\\\"166\\\",\\\"167\\\",\\\"168\\\",\\\"169\\\",\\\"170\\\",\\\"171\\\",\\\"172\\\",\\\"173\\\",\\\"174\\\",\\\"175\\\",\\\"176\\\",\\\"177\\\",\\\"178\\\",\\\"179\\\",\\\"180\\\",\\\"181\\\",\\\"182\\\",\\\"183\\\",\\\"184\\\",\\\"185\\\",\\\"186\\\",\\\"187\\\",\\\"188\\\",\\\"189\\\",\\\"190\\\",\\\"191\\\",\\\"192\\\",\\\"193\\\",\\\"194\\\",\\\"195\\\",\\\"196\\\",\\\"197\\\",\\\"198\\\",\\\"199\\\",\\\"200\\\",\\\"201\\\",\\\"202\\\",\\\"203\\\",\\\"204\\\",\\\"205\\\",\\\"206\\\",\\\"207\\\",\\\"208\\\",\\\"209\\\",\\\"210\\\",\\\"211\\\",\\\"212\\\",\\\"213\\\",\\\"214\\\",\\\"215\\\",\\\"216\\\",\\\"217\\\",\\\"218\\\",\\\"219\\\",\\\"220\\\",\\\"221\\\",\\\"222\\\",\\\"223\\\",\\\"224\\\",\\\"225\\\",\\\"226\\\",\\\"227\\\",\\\"228\\\",\\\"229\\\",\\\"230\\\",\\\"231\\\",\\\"232\\\",\\\"233\\\",\\\"234\\\",\\\"235\\\",\\\"236\\\",\\\"237\\\",\\\"238\\\",\\\"239\\\",\\\"240\\\",\\\"241\\\",\\\"242\\\",\\\"243\\\",\\\"244\\\",\\\"245\\\",\\\"246\\\",\\\"247\\\",\\\"248\\\",\\\"249\\\",\\\"250\\\",\\\"251\\\",\\\"252\\\",\\\"253\\\",\\\"254\\\"],\\\"changes\\\":WebIO.getval({\\\"name\\\":\\\"changes\\\",\\\"scope\\\":\\\"11806424594903455255\\\",\\\"id\\\":\\\"ob_43\\\",\\\"type\\\":\\\"observable\\\"}),\\\"index\\\":WebIO.getval({\\\"name\\\":\\\"index\\\",\\\"scope\\\":\\\"11806424594903455255\\\",\\\"id\\\":\\\"ob_42\\\",\\\"type\\\":\\\"observable\\\"})};\\n    var self = this;\\n    function AppViewModel() {\\n        for (var key in json_data) {\\n            var el = json_data[key];\\n            this[key] = Array.isArray(el) ? ko.observableArray(el) : ko.observable(el);\\n        }\\n        \\n        [this[\\\"formatted_val\\\"]=ko.computed(    function(){\\n        return this.formatted_vals()[parseInt(this.index())-(1)];\\n    }\\n,this)]\\n        [this[\\\"changes\\\"].subscribe((function (val){!(this.valueFromJulia[\\\"changes\\\"]) ? (WebIO.setval({\\\"name\\\":\\\"changes\\\",\\\"scope\\\":\\\"11806424594903455255\\\",\\\"id\\\":\\\"ob_43\\\",\\\"type\\\":\\\"observable\\\"},val)) : undefined; return this.valueFromJulia[\\\"changes\\\"]=false}),self),this[\\\"index\\\"].subscribe((function (val){!(this.valueFromJulia[\\\"index\\\"]) ? (WebIO.setval({\\\"name\\\":\\\"index\\\",\\\"scope\\\":\\\"11806424594903455255\\\",\\\"id\\\":\\\"ob_42\\\",\\\"type\\\":\\\"observable\\\"},val)) : undefined; return this.valueFromJulia[\\\"index\\\"]=false}),self)]\\n        \\n    }\\n    self.model = new AppViewModel();\\n    self.valueFromJulia = {};\\n    for (var key in json_data) {\\n        self.valueFromJulia[key] = false;\\n    }\\n    ko.applyBindings(self.model, self.dom);\\n}\\n);\\n    (WebIO.importBlock({\\\"data\\\":[{\\\"name\\\":\\\"knockout\\\",\\\"type\\\":\\\"js\\\",\\\"url\\\":\\\"\\/assetserver\\/3fa3ffaec5c6b9df2919c82e5e20a6e06518e577-knockout.js\\\"},{\\\"name\\\":\\\"knockout_punches\\\",\\\"type\\\":\\\"js\\\",\\\"url\\\":\\\"\\/assetserver\\/63782d88af4e5f6f4f5a58b0bbb8a2f1d80dff55-knockout_punches.js\\\"}],\\\"type\\\":\\\"async_block\\\"})).then((imports) => handler.apply(this, imports));\\n}\\n\"],\"observables\":{\"changes\":{\"sync\":false,\"id\":\"ob_43\",\"value\":0},\"index\":{\"sync\":true,\"id\":\"ob_42\",\"value\":127}}},\"children\":[{\"props\":{\"className\":\"interact-flex-row interact-widget\"},\"nodeType\":\"DOM\",\"type\":\"node\",\"instanceArgs\":{\"namespace\":\"html\",\"tag\":\"div\"},\"children\":[{\"props\":{\"className\":\"interact-flex-row-left\"},\"nodeType\":\"DOM\",\"type\":\"node\",\"instanceArgs\":{\"namespace\":\"html\",\"tag\":\"div\"},\"children\":[{\"props\":{\"className\":\"interact \",\"style\":{\"padding\":\"5px 10px 0px 10px\"}},\"nodeType\":\"DOM\",\"type\":\"node\",\"instanceArgs\":{\"namespace\":\"html\",\"tag\":\"label\"},\"children\":[\"i\"]}]},{\"props\":{\"className\":\"interact-flex-row-center\"},\"nodeType\":\"DOM\",\"type\":\"node\",\"instanceArgs\":{\"namespace\":\"html\",\"tag\":\"div\"},\"children\":[{\"props\":{\"max\":254,\"min\":1,\"attributes\":{\"type\":\"range\",\"data-bind\":\"numericValue: index, valueUpdate: 'input', event: {change: function (){this.changes(this.changes()+1)}}\",\"orient\":\"horizontal\"},\"step\":1,\"className\":\"slider slider is-fullwidth\",\"style\":{}},\"nodeType\":\"DOM\",\"type\":\"node\",\"instanceArgs\":{\"namespace\":\"html\",\"tag\":\"input\"},\"children\":[]}]},{\"props\":{\"className\":\"interact-flex-row-right\"},\"nodeType\":\"DOM\",\"type\":\"node\",\"instanceArgs\":{\"namespace\":\"html\",\"tag\":\"div\"},\"children\":[{\"props\":{\"attributes\":{\"data-bind\":\"text: formatted_val\"}},\"nodeType\":\"DOM\",\"type\":\"node\",\"instanceArgs\":{\"namespace\":\"html\",\"tag\":\"p\"},\"children\":[]}]}]}]}]},{\"props\":{},\"nodeType\":\"Scope\",\"type\":\"node\",\"instanceArgs\":{\"imports\":{\"data\":[],\"type\":\"async_block\"},\"id\":\"14156437190655193565\",\"handlers\":{},\"systemjs_options\":null,\"mount_callbacks\":[],\"observables\":{\"obs-node\":{\"sync\":false,\"id\":\"ob_47\",\"value\":{\"props\":{\"className\":\"interact-flex-row interact-widget\"},\"nodeType\":\"DOM\",\"type\":\"node\",\"instanceArgs\":{\"namespace\":\"html\",\"tag\":\"div\"},\"children\":[{\"props\":{\"setInnerHtml\":\"<p>DataFrameRow (15 columns)<\\/p><table class=\\\"data-frame\\\"><thead><tr><th><\\/th><th>province<\\/th><th>country<\\/th><th>Lat<\\/th><th>Long<\\/th><th>1\\/22\\/20<\\/th><th>1\\/23\\/20<\\/th><th>1\\/24\\/20<\\/th><th>1\\/25\\/20<\\/th><th>1\\/26\\/20<\\/th><th>1\\/27\\/20<\\/th><th>1\\/28\\/20<\\/th><th>1\\/29\\/20<\\/th><th>1\\/30\\/20<\\/th><th>1\\/31\\/20<\\/th><th>2\\/1\\/20<\\/th><\\/tr><tr><th><\\/th><th>String⍰<\\/th><th>String<\\/th><th>Float64<\\/th><th>Float64<\\/th><th>Int64<\\/th><th>Int64<\\/th><th>Int64<\\/th><th>Int64<\\/th><th>Int64<\\/th><th>Int64<\\/th><th>Int64<\\/th><th>Int64<\\/th><th>Int64<\\/th><th>Int64<\\/th><th>Int64<\\/th><\\/tr><\\/thead><tbody><tr><th>127<\\/th><td>missing<\\/td><td>Haiti<\\/td><td>18.9712<\\/td><td>-72.2852<\\/td><td>0<\\/td><td>0<\\/td><td>0<\\/td><td>0<\\/td><td>0<\\/td><td>0<\\/td><td>0<\\/td><td>0<\\/td><td>0<\\/td><td>0<\\/td><td>0<\\/td><\\/tr><\\/tbody><\\/table>\"},\"nodeType\":\"DOM\",\"type\":\"node\",\"instanceArgs\":{\"namespace\":\"html\",\"tag\":\"div\"},\"children\":[]}]}}}},\"children\":[{\"props\":{},\"nodeType\":\"ObservableNode\",\"type\":\"node\",\"instanceArgs\":{\"id\":\"ob_47\",\"name\":\"obs-node\"},\"children\":[]}]}]},\n",
       "            window,\n",
       "        );\n",
       "    } else {\n",
       "        document\n",
       "            .querySelector('[data-webio-mountpoint=\"6655190250396611020\"]')\n",
       "            .innerHTML = (\n",
       "                '<div style=\"padding: 1em; background-color: #f8d6da; border: 1px solid #f5c6cb\">' +\n",
       "                '<p><strong>WebIO not detected.</strong></p>' +\n",
       "                '<p>Please read ' +\n",
       "                '<a href=\"https://juliagizmos.github.io/WebIO.jl/latest/troubleshooting/not-detected/\" target=\"_blank\">the troubleshooting guide</a> ' +\n",
       "                'for more information on how to resolve this issue.</p>' +\n",
       "                '<p><a href=\"https://juliagizmos.github.io/WebIO.jl/latest/troubleshooting/not-detected/\" target=\"_blank\">https://juliagizmos.github.io/WebIO.jl/latest/troubleshooting/not-detected/</a></p>' +\n",
       "                '</div>'\n",
       "            );\n",
       "    }\n",
       "    </script>\n",
       "</div>\n"
      ],
      "text/plain": [
       "Node{WebIO.DOM}(WebIO.DOM(:html, :div), Any[Node{WebIO.DOM}(WebIO.DOM(:html, :div), Any[Scope(Node{WebIO.DOM}(WebIO.DOM(:html, :div), Any[Node{WebIO.DOM}(WebIO.DOM(:html, :div), Any[Node{WebIO.DOM}(WebIO.DOM(:html, :label), Any[\"i\"], Dict{Symbol,Any}(:className => \"interact \",:style => Dict{Any,Any}(:padding => \"5px 10px 0px 10px\")))], Dict{Symbol,Any}(:className => \"interact-flex-row-left\")), Node{WebIO.DOM}(WebIO.DOM(:html, :div), Any[Node{WebIO.DOM}(WebIO.DOM(:html, :input), Any[], Dict{Symbol,Any}(:max => 254,:min => 1,:attributes => Dict{Any,Any}(:type => \"range\",Symbol(\"data-bind\") => \"numericValue: index, valueUpdate: 'input', event: {change: function (){this.changes(this.changes()+1)}}\",\"orient\" => \"horizontal\"),:step => 1,:className => \"slider slider is-fullwidth\",:style => Dict{Any,Any}()))], Dict{Symbol,Any}(:className => \"interact-flex-row-center\")), Node{WebIO.DOM}(WebIO.DOM(:html, :div), Any[Node{WebIO.DOM}(WebIO.DOM(:html, :p), Any[], Dict{Symbol,Any}(:attributes => Dict(\"data-bind\" => \"text: formatted_val\")))], Dict{Symbol,Any}(:className => \"interact-flex-row-right\"))], Dict{Symbol,Any}(:className => \"interact-flex-row interact-widget\")), Dict{String,Tuple{Observables.AbstractObservable,Union{Nothing, Bool}}}(\"changes\" => (Observable{Int64} with 1 listeners. Value:\n",
       "0, nothing),\"index\" => (Observable{Int64} with 2 listeners. Value:\n",
       "127, nothing)), Set(String[]), nothing, Asset[Asset(\"js\", \"knockout\", \"C:\\\\Users\\\\chuan\\\\.julia\\\\packages\\\\Knockout\\\\IP1uR\\\\src\\\\..\\\\assets\\\\knockout.js\"), Asset(\"js\", \"knockout_punches\", \"C:\\\\Users\\\\chuan\\\\.julia\\\\packages\\\\Knockout\\\\IP1uR\\\\src\\\\..\\\\assets\\\\knockout_punches.js\"), Asset(\"js\", nothing, \"C:\\\\Users\\\\chuan\\\\.julia\\\\packages\\\\InteractBase\\\\9mFwe\\\\src\\\\..\\\\assets\\\\all.js\"), Asset(\"css\", nothing, \"C:\\\\Users\\\\chuan\\\\.julia\\\\packages\\\\InteractBase\\\\9mFwe\\\\src\\\\..\\\\assets\\\\style.css\"), Asset(\"css\", nothing, \"C:\\\\Users\\\\chuan\\\\.julia\\\\packages\\\\Interact\\\\SbgIk\\\\src\\\\..\\\\assets\\\\bulma_confined.min.css\")], Dict{Any,Any}(\"changes\" => Any[WebIO.JSString(\"(function (val){return (val!=this.model[\\\"changes\\\"]()) ? (this.valueFromJulia[\\\"changes\\\"]=true, this.model[\\\"changes\\\"](val)) : undefined})\")],\"index\" => Any[WebIO.JSString(\"(function (val){return (val!=this.model[\\\"index\\\"]()) ? (this.valueFromJulia[\\\"index\\\"]=true, this.model[\\\"index\\\"](val)) : undefined})\")]), WebIO.ConnectionPool(Channel{Any}(sz_max:32,sz_curr:0), Set(AbstractConnection[]), Base.GenericCondition{Base.AlwaysLockedST}(Base.InvasiveLinkedList{Task}(Task (runnable) @0x00000000154f42f0, Task (runnable) @0x00000000154f42f0), Base.AlwaysLockedST(1))), WebIO.JSString[WebIO.JSString(\"function () {\\n    var handler = (function (ko, koPunches) {\\n    ko.punches.enableAll();\\n    ko.bindingHandlers.numericValue = {\\n        init: function(element, valueAccessor, allBindings, data, context) {\\n            var stringified = ko.observable(ko.unwrap(valueAccessor()));\\n            stringified.subscribe(function(value) {\\n                var val = parseFloat(value);\\n                if (!isNaN(val)) {\\n                    valueAccessor()(val);\\n                }\\n            });\\n            valueAccessor().subscribe(function(value) {\\n                var str = JSON.stringify(value);\\n                if ((str == \\\"0\\\") && ([\\\"-0\\\", \\\"-0.\\\"].indexOf(stringified()) >= 0))\\n                     return;\\n                 if ([\\\"null\\\", \\\"\\\"].indexOf(str) >= 0)\\n                     return;\\n                stringified(str);\\n            });\\n            ko.applyBindingsToNode(\\n                element,\\n                {\\n                    value: stringified,\\n                    valueUpdate: allBindings.get('valueUpdate'),\\n                },\\n                context,\\n            );\\n        }\\n    };\\n    var json_data = {\\\"formatted_vals\\\":[\\\"1\\\",\\\"2\\\",\\\"3\\\",\\\"4\\\",\\\"5\\\",\\\"6\\\",\\\"7\\\",\\\"8\\\",\\\"9\\\",\\\"10\\\",\\\"11\\\",\\\"12\\\",\\\"13\\\",\\\"14\\\",\\\"15\\\",\\\"16\\\",\\\"17\\\",\\\"18\\\",\\\"19\\\",\\\"20\\\",\\\"21\\\",\\\"22\\\",\\\"23\\\",\\\"24\\\",\\\"25\\\",\\\"26\\\",\\\"27\\\",\\\"28\\\",\\\"29\\\",\\\"30\\\",\\\"31\\\",\\\"32\\\",\\\"33\\\",\\\"34\\\",\\\"35\\\",\\\"36\\\",\\\"37\\\",\\\"38\\\",\\\"39\\\",\\\"40\\\",\\\"41\\\",\\\"42\\\",\\\"43\\\",\\\"44\\\",\\\"45\\\",\\\"46\\\",\\\"47\\\",\\\"48\\\",\\\"49\\\",\\\"50\\\",\\\"51\\\",\\\"52\\\",\\\"53\\\",\\\"54\\\",\\\"55\\\",\\\"56\\\",\\\"57\\\",\\\"58\\\",\\\"59\\\",\\\"60\\\",\\\"61\\\",\\\"62\\\",\\\"63\\\",\\\"64\\\",\\\"65\\\",\\\"66\\\",\\\"67\\\",\\\"68\\\",\\\"69\\\",\\\"70\\\",\\\"71\\\",\\\"72\\\",\\\"73\\\",\\\"74\\\",\\\"75\\\",\\\"76\\\",\\\"77\\\",\\\"78\\\",\\\"79\\\",\\\"80\\\",\\\"81\\\",\\\"82\\\",\\\"83\\\",\\\"84\\\",\\\"85\\\",\\\"86\\\",\\\"87\\\",\\\"88\\\",\\\"89\\\",\\\"90\\\",\\\"91\\\",\\\"92\\\",\\\"93\\\",\\\"94\\\",\\\"95\\\",\\\"96\\\",\\\"97\\\",\\\"98\\\",\\\"99\\\",\\\"100\\\",\\\"101\\\",\\\"102\\\",\\\"103\\\",\\\"104\\\",\\\"105\\\",\\\"106\\\",\\\"107\\\",\\\"108\\\",\\\"109\\\",\\\"110\\\",\\\"111\\\",\\\"112\\\",\\\"113\\\",\\\"114\\\",\\\"115\\\",\\\"116\\\",\\\"117\\\",\\\"118\\\",\\\"119\\\",\\\"120\\\",\\\"121\\\",\\\"122\\\",\\\"123\\\",\\\"124\\\",\\\"125\\\",\\\"126\\\",\\\"127\\\",\\\"128\\\",\\\"129\\\",\\\"130\\\",\\\"131\\\",\\\"132\\\",\\\"133\\\",\\\"134\\\",\\\"135\\\",\\\"136\\\",\\\"137\\\",\\\"138\\\",\\\"139\\\",\\\"140\\\",\\\"141\\\",\\\"142\\\",\\\"143\\\",\\\"144\\\",\\\"145\\\",\\\"146\\\",\\\"147\\\",\\\"148\\\",\\\"149\\\",\\\"150\\\",\\\"151\\\",\\\"152\\\",\\\"153\\\",\\\"154\\\",\\\"155\\\",\\\"156\\\",\\\"157\\\",\\\"158\\\",\\\"159\\\",\\\"160\\\",\\\"161\\\",\\\"162\\\",\\\"163\\\",\\\"164\\\",\\\"165\\\",\\\"166\\\",\\\"167\\\",\\\"168\\\",\\\"169\\\",\\\"170\\\",\\\"171\\\",\\\"172\\\",\\\"173\\\",\\\"174\\\",\\\"175\\\",\\\"176\\\",\\\"177\\\",\\\"178\\\",\\\"179\\\",\\\"180\\\",\\\"181\\\",\\\"182\\\",\\\"183\\\",\\\"184\\\",\\\"185\\\",\\\"186\\\",\\\"187\\\",\\\"188\\\",\\\"189\\\",\\\"190\\\",\\\"191\\\",\\\"192\\\",\\\"193\\\",\\\"194\\\",\\\"195\\\",\\\"196\\\",\\\"197\\\",\\\"198\\\",\\\"199\\\",\\\"200\\\",\\\"201\\\",\\\"202\\\",\\\"203\\\",\\\"204\\\",\\\"205\\\",\\\"206\\\",\\\"207\\\",\\\"208\\\",\\\"209\\\",\\\"210\\\",\\\"211\\\",\\\"212\\\",\\\"213\\\",\\\"214\\\",\\\"215\\\",\\\"216\\\",\\\"217\\\",\\\"218\\\",\\\"219\\\",\\\"220\\\",\\\"221\\\",\\\"222\\\",\\\"223\\\",\\\"224\\\",\\\"225\\\",\\\"226\\\",\\\"227\\\",\\\"228\\\",\\\"229\\\",\\\"230\\\",\\\"231\\\",\\\"232\\\",\\\"233\\\",\\\"234\\\",\\\"235\\\",\\\"236\\\",\\\"237\\\",\\\"238\\\",\\\"239\\\",\\\"240\\\",\\\"241\\\",\\\"242\\\",\\\"243\\\",\\\"244\\\",\\\"245\\\",\\\"246\\\",\\\"247\\\",\\\"248\\\",\\\"249\\\",\\\"250\\\",\\\"251\\\",\\\"252\\\",\\\"253\\\",\\\"254\\\"],\\\"changes\\\":WebIO.getval({\\\"name\\\":\\\"changes\\\",\\\"scope\\\":\\\"11806424594903455255\\\",\\\"id\\\":\\\"ob_43\\\",\\\"type\\\":\\\"observable\\\"}),\\\"index\\\":WebIO.getval({\\\"name\\\":\\\"index\\\",\\\"scope\\\":\\\"11806424594903455255\\\",\\\"id\\\":\\\"ob_42\\\",\\\"type\\\":\\\"observable\\\"})};\\n    var self = this;\\n    function AppViewModel() {\\n        for (var key in json_data) {\\n            var el = json_data[key];\\n            this[key] = Array.isArray(el) ? ko.observableArray(el) : ko.observable(el);\\n        }\\n        \\n        [this[\\\"formatted_val\\\"]=ko.computed(    function(){\\n        return this.formatted_vals()[parseInt(this.index())-(1)];\\n    }\\n,this)]\\n        [this[\\\"changes\\\"].subscribe((function (val){!(this.valueFromJulia[\\\"changes\\\"]) ? (WebIO.setval({\\\"name\\\":\\\"changes\\\",\\\"scope\\\":\\\"11806424594903455255\\\",\\\"id\\\":\\\"ob_43\\\",\\\"type\\\":\\\"observable\\\"},val)) : undefined; return this.valueFromJulia[\\\"changes\\\"]=false}),self),this[\\\"index\\\"].subscribe((function (val){!(this.valueFromJulia[\\\"index\\\"]) ? (WebIO.setval({\\\"name\\\":\\\"index\\\",\\\"scope\\\":\\\"11806424594903455255\\\",\\\"id\\\":\\\"ob_42\\\",\\\"type\\\":\\\"observable\\\"},val)) : undefined; return this.valueFromJulia[\\\"index\\\"]=false}),self)]\\n        \\n    }\\n    self.model = new AppViewModel();\\n    self.valueFromJulia = {};\\n    for (var key in json_data) {\\n        self.valueFromJulia[key] = false;\\n    }\\n    ko.applyBindings(self.model, self.dom);\\n}\\n);\\n    (WebIO.importBlock({\\\"data\\\":[{\\\"name\\\":\\\"knockout\\\",\\\"type\\\":\\\"js\\\",\\\"url\\\":\\\"/assetserver/3fa3ffaec5c6b9df2919c82e5e20a6e06518e577-knockout.js\\\"},{\\\"name\\\":\\\"knockout_punches\\\",\\\"type\\\":\\\"js\\\",\\\"url\\\":\\\"/assetserver/63782d88af4e5f6f4f5a58b0bbb8a2f1d80dff55-knockout_punches.js\\\"}],\\\"type\\\":\\\"async_block\\\"})).then((imports) => handler.apply(this, imports));\\n}\\n\")])], Dict{Symbol,Any}(:className => \"field interact-widget\")), Observable{Any} with 0 listeners. Value:\n",
       "Node{WebIO.DOM}(WebIO.DOM(:html, :div), Any[DataFrameRow. Omitted printing of 8 columns\n",
       "│ Row │ province │ country │ Lat     │ Long     │ 1/22/20 │ 1/23/20 │ 1/24/20 │\n",
       "│     │ \u001b[90mString⍰\u001b[39m  │ \u001b[90mString\u001b[39m  │ \u001b[90mFloat64\u001b[39m │ \u001b[90mFloat64\u001b[39m  │ \u001b[90mInt64\u001b[39m   │ \u001b[90mInt64\u001b[39m   │ \u001b[90mInt64\u001b[39m   │\n",
       "├─────┼──────────┼─────────┼─────────┼──────────┼─────────┼─────────┼─────────┤\n",
       "│ 127 │ \u001b[90mmissing\u001b[39m  │ Haiti   │ 18.9712 │ -72.2852 │ 0       │ 0       │ 0       │], Dict{Symbol,Any}(:className => \"interact-flex-row interact-widget\"))], Dict{Symbol,Any}())"
      ]
     },
     "execution_count": 50,
     "metadata": {
      "@webio": {
       "kernelId": "b73a1676-98dd-4af0-9b82-9338bf22ba23"
      }
     },
     "output_type": "execute_result"
    }
   ],
   "source": [
    "@manipulate for i in 1:length(countries)\n",
    "    data[i, 1:15]\n",
    "end"
   ]
  },
  {
   "cell_type": "markdown",
   "metadata": {},
   "source": [
    "## Extract data and plot"
   ]
  },
  {
   "cell_type": "code",
   "execution_count": 51,
   "metadata": {},
   "outputs": [
    {
     "data": {
      "text/plain": [
       "true"
      ]
     },
     "execution_count": 51,
     "metadata": {},
     "output_type": "execute_result"
    }
   ],
   "source": [
    "startswith(\"United\", \"U\")"
   ]
  },
  {
   "cell_type": "code",
   "execution_count": 52,
   "metadata": {},
   "outputs": [
    {
     "data": {
      "text/plain": [
       "false"
      ]
     },
     "execution_count": 52,
     "metadata": {},
     "output_type": "execute_result"
    }
   ],
   "source": [
    "startswith(\"David\", \"U\")"
   ]
  },
  {
   "cell_type": "markdown",
   "metadata": {},
   "source": [
    "Array comprehension:"
   ]
  },
  {
   "cell_type": "code",
   "execution_count": 53,
   "metadata": {},
   "outputs": [],
   "source": [
    "U_countries = [startswith(country, \"U\") for country in countries];"
   ]
  },
  {
   "cell_type": "code",
   "execution_count": 57,
   "metadata": {},
   "outputs": [
    {
     "data": {
      "text/html": [
       "<table class=\"data-frame\"><thead><tr><th></th><th>province</th><th>country</th><th>Lat</th><th>Long</th><th>1/22/20</th><th>1/23/20</th></tr><tr><th></th><th>String⍰</th><th>String</th><th>Float64</th><th>Float64</th><th>Int64</th><th>Int64</th></tr></thead><tbody><p>16 rows × 73 columns (omitted printing of 67 columns)</p><tr><th>1</th><td>missing</td><td>Uganda</td><td>1.0</td><td>32.0</td><td>0</td><td>0</td></tr><tr><th>2</th><td>missing</td><td>Ukraine</td><td>48.3794</td><td>31.1656</td><td>0</td><td>0</td></tr><tr><th>3</th><td>missing</td><td>United Arab Emirates</td><td>24.0</td><td>54.0</td><td>0</td><td>0</td></tr><tr><th>4</th><td>Bermuda</td><td>United Kingdom</td><td>32.3078</td><td>-64.7505</td><td>0</td><td>0</td></tr><tr><th>5</th><td>Cayman Islands</td><td>United Kingdom</td><td>19.3133</td><td>-81.2546</td><td>0</td><td>0</td></tr><tr><th>6</th><td>Channel Islands</td><td>United Kingdom</td><td>49.3723</td><td>-2.3644</td><td>0</td><td>0</td></tr><tr><th>7</th><td>Gibraltar</td><td>United Kingdom</td><td>36.1408</td><td>-5.3536</td><td>0</td><td>0</td></tr><tr><th>8</th><td>Isle of Man</td><td>United Kingdom</td><td>54.2361</td><td>-4.5481</td><td>0</td><td>0</td></tr><tr><th>9</th><td>Montserrat</td><td>United Kingdom</td><td>16.7425</td><td>-62.1874</td><td>0</td><td>0</td></tr><tr><th>10</th><td>missing</td><td>United Kingdom</td><td>55.3781</td><td>-3.436</td><td>0</td><td>0</td></tr><tr><th>11</th><td>missing</td><td>Uruguay</td><td>-32.5228</td><td>-55.7658</td><td>0</td><td>0</td></tr><tr><th>12</th><td>missing</td><td>US</td><td>37.0902</td><td>-95.7129</td><td>1</td><td>1</td></tr><tr><th>13</th><td>missing</td><td>Uzbekistan</td><td>41.3775</td><td>64.5853</td><td>0</td><td>0</td></tr><tr><th>14</th><td>Anguilla</td><td>United Kingdom</td><td>18.2206</td><td>-63.0686</td><td>0</td><td>0</td></tr><tr><th>15</th><td>British Virgin Islands</td><td>United Kingdom</td><td>18.4207</td><td>-64.64</td><td>0</td><td>0</td></tr><tr><th>16</th><td>Turks and Caicos Islands</td><td>United Kingdom</td><td>21.694</td><td>-71.7979</td><td>0</td><td>0</td></tr></tbody></table>"
      ],
      "text/latex": [
       "\\begin{tabular}{r|ccccccc}\n",
       "\t& province & country & Lat & Long & 1/22/20 & 1/23/20 & \\\\\n",
       "\t\\hline\n",
       "\t& String⍰ & String & Float64 & Float64 & Int64 & Int64 & \\\\\n",
       "\t\\hline\n",
       "\t1 &  & Uganda & 1.0 & 32.0 & 0 & 0 & $\\dots$ \\\\\n",
       "\t2 &  & Ukraine & 48.3794 & 31.1656 & 0 & 0 & $\\dots$ \\\\\n",
       "\t3 &  & United Arab Emirates & 24.0 & 54.0 & 0 & 0 & $\\dots$ \\\\\n",
       "\t4 & Bermuda & United Kingdom & 32.3078 & -64.7505 & 0 & 0 & $\\dots$ \\\\\n",
       "\t5 & Cayman Islands & United Kingdom & 19.3133 & -81.2546 & 0 & 0 & $\\dots$ \\\\\n",
       "\t6 & Channel Islands & United Kingdom & 49.3723 & -2.3644 & 0 & 0 & $\\dots$ \\\\\n",
       "\t7 & Gibraltar & United Kingdom & 36.1408 & -5.3536 & 0 & 0 & $\\dots$ \\\\\n",
       "\t8 & Isle of Man & United Kingdom & 54.2361 & -4.5481 & 0 & 0 & $\\dots$ \\\\\n",
       "\t9 & Montserrat & United Kingdom & 16.7425 & -62.1874 & 0 & 0 & $\\dots$ \\\\\n",
       "\t10 &  & United Kingdom & 55.3781 & -3.436 & 0 & 0 & $\\dots$ \\\\\n",
       "\t11 &  & Uruguay & -32.5228 & -55.7658 & 0 & 0 & $\\dots$ \\\\\n",
       "\t12 &  & US & 37.0902 & -95.7129 & 1 & 1 & $\\dots$ \\\\\n",
       "\t13 &  & Uzbekistan & 41.3775 & 64.5853 & 0 & 0 & $\\dots$ \\\\\n",
       "\t14 & Anguilla & United Kingdom & 18.2206 & -63.0686 & 0 & 0 & $\\dots$ \\\\\n",
       "\t15 & British Virgin Islands & United Kingdom & 18.4207 & -64.64 & 0 & 0 & $\\dots$ \\\\\n",
       "\t16 & Turks and Caicos Islands & United Kingdom & 21.694 & -71.7979 & 0 & 0 & $\\dots$ \\\\\n",
       "\\end{tabular}\n"
      ],
      "text/plain": [
       "16×73 DataFrame. Omitted printing of 69 columns\n",
       "│ Row │ province                 │ country              │ Lat      │ Long     │\n",
       "│     │ \u001b[90mUnion{Missing, String}\u001b[39m   │ \u001b[90mString\u001b[39m               │ \u001b[90mFloat64\u001b[39m  │ \u001b[90mFloat64\u001b[39m  │\n",
       "├─────┼──────────────────────────┼──────────────────────┼──────────┼──────────┤\n",
       "│ 1   │ \u001b[90mmissing\u001b[39m                  │ Uganda               │ 1.0      │ 32.0     │\n",
       "│ 2   │ \u001b[90mmissing\u001b[39m                  │ Ukraine              │ 48.3794  │ 31.1656  │\n",
       "│ 3   │ \u001b[90mmissing\u001b[39m                  │ United Arab Emirates │ 24.0     │ 54.0     │\n",
       "│ 4   │ Bermuda                  │ United Kingdom       │ 32.3078  │ -64.7505 │\n",
       "│ 5   │ Cayman Islands           │ United Kingdom       │ 19.3133  │ -81.2546 │\n",
       "│ 6   │ Channel Islands          │ United Kingdom       │ 49.3723  │ -2.3644  │\n",
       "│ 7   │ Gibraltar                │ United Kingdom       │ 36.1408  │ -5.3536  │\n",
       "│ 8   │ Isle of Man              │ United Kingdom       │ 54.2361  │ -4.5481  │\n",
       "│ 9   │ Montserrat               │ United Kingdom       │ 16.7425  │ -62.1874 │\n",
       "│ 10  │ \u001b[90mmissing\u001b[39m                  │ United Kingdom       │ 55.3781  │ -3.436   │\n",
       "│ 11  │ \u001b[90mmissing\u001b[39m                  │ Uruguay              │ -32.5228 │ -55.7658 │\n",
       "│ 12  │ \u001b[90mmissing\u001b[39m                  │ US                   │ 37.0902  │ -95.7129 │\n",
       "│ 13  │ \u001b[90mmissing\u001b[39m                  │ Uzbekistan           │ 41.3775  │ 64.5853  │\n",
       "│ 14  │ Anguilla                 │ United Kingdom       │ 18.2206  │ -63.0686 │\n",
       "│ 15  │ British Virgin Islands   │ United Kingdom       │ 18.4207  │ -64.64   │\n",
       "│ 16  │ Turks and Caicos Islands │ United Kingdom       │ 21.694   │ -71.7979 │"
      ]
     },
     "execution_count": 57,
     "metadata": {},
     "output_type": "execute_result"
    }
   ],
   "source": [
    "data[U_countries, :]"
   ]
  },
  {
   "cell_type": "code",
   "execution_count": 58,
   "metadata": {},
   "outputs": [
    {
     "data": {
      "text/plain": [
       "false"
      ]
     },
     "execution_count": 58,
     "metadata": {},
     "output_type": "execute_result"
    }
   ],
   "source": [
    "countries == \"US\""
   ]
  },
  {
   "cell_type": "code",
   "execution_count": 59,
   "metadata": {},
   "outputs": [
    {
     "data": {
      "text/plain": [
       "254-element BitArray{1}:\n",
       " 0\n",
       " 0\n",
       " 0\n",
       " 0\n",
       " 0\n",
       " 0\n",
       " 0\n",
       " 0\n",
       " 0\n",
       " 0\n",
       " 0\n",
       " 0\n",
       " 0\n",
       " ⋮\n",
       " 0\n",
       " 0\n",
       " 0\n",
       " 0\n",
       " 0\n",
       " 0\n",
       " 0\n",
       " 0\n",
       " 0\n",
       " 0\n",
       " 0\n",
       " 0"
      ]
     },
     "execution_count": 59,
     "metadata": {},
     "output_type": "execute_result"
    }
   ],
   "source": [
    "countries .== \"US\"  \n",
    "# . is \"broadcasting\": apply operation to each element of a vector"
   ]
  },
  {
   "cell_type": "code",
   "execution_count": 60,
   "metadata": {},
   "outputs": [
    {
     "data": {
      "text/plain": [
       "226"
      ]
     },
     "execution_count": 60,
     "metadata": {},
     "output_type": "execute_result"
    }
   ],
   "source": [
    "US_row = findfirst(countries .== \"US\")"
   ]
  },
  {
   "cell_type": "code",
   "execution_count": 62,
   "metadata": {},
   "outputs": [
    {
     "data": {
      "text/html": [
       "<p>DataFrameRow (73 columns)</p><table class=\"data-frame\"><thead><tr><th></th><th>province</th><th>country</th><th>Lat</th><th>Long</th><th>1/22/20</th><th>1/23/20</th><th>1/24/20</th><th>1/25/20</th><th>1/26/20</th></tr><tr><th></th><th>String⍰</th><th>String</th><th>Float64</th><th>Float64</th><th>Int64</th><th>Int64</th><th>Int64</th><th>Int64</th><th>Int64</th></tr></thead><tbody><tr><th>226</th><td>missing</td><td>US</td><td>37.0902</td><td>-95.7129</td><td>1</td><td>1</td><td>2</td><td>2</td><td>5</td></tr></tbody></table>"
      ],
      "text/latex": [
       "\\begin{tabular}{r|cccccccccc}\n",
       "\t& province & country & Lat & Long & 1/22/20 & 1/23/20 & 1/24/20 & 1/25/20 & 1/26/20 & \\\\\n",
       "\t\\hline\n",
       "\t& String⍰ & String & Float64 & Float64 & Int64 & Int64 & Int64 & Int64 & Int64 & \\\\\n",
       "\t\\hline\n",
       "\t226 &  & US & 37.0902 & -95.7129 & 1 & 1 & 2 & 2 & 5 & $\\dots$ \\\\\n",
       "\\end{tabular}\n"
      ],
      "text/plain": [
       "DataFrameRow. Omitted printing of 66 columns\n",
       "│ Row │ province │ country │ Lat     │ Long     │ 1/22/20 │ 1/23/20 │ 1/24/20 │\n",
       "│     │ \u001b[90mString⍰\u001b[39m  │ \u001b[90mString\u001b[39m  │ \u001b[90mFloat64\u001b[39m │ \u001b[90mFloat64\u001b[39m  │ \u001b[90mInt64\u001b[39m   │ \u001b[90mInt64\u001b[39m   │ \u001b[90mInt64\u001b[39m   │\n",
       "├─────┼──────────┼─────────┼─────────┼──────────┼─────────┼─────────┼─────────┤\n",
       "│ 226 │ \u001b[90mmissing\u001b[39m  │ US      │ 37.0902 │ -95.7129 │ 1       │ 1       │ 2       │"
      ]
     },
     "execution_count": 62,
     "metadata": {},
     "output_type": "execute_result"
    }
   ],
   "source": [
    "US_data_row = data[US_row, :]"
   ]
  },
  {
   "cell_type": "code",
   "execution_count": 63,
   "metadata": {},
   "outputs": [
    {
     "data": {
      "text/plain": [
       "69-element Array{Int64,1}:\n",
       "      1\n",
       "      1\n",
       "      2\n",
       "      2\n",
       "      5\n",
       "      5\n",
       "      5\n",
       "      5\n",
       "      5\n",
       "      7\n",
       "      8\n",
       "      8\n",
       "     11\n",
       "      ⋮\n",
       "  13677\n",
       "  19100\n",
       "  25489\n",
       "  33276\n",
       "  43847\n",
       "  53740\n",
       "  65778\n",
       "  83836\n",
       " 101657\n",
       " 121478\n",
       " 140886\n",
       " 161807"
      ]
     },
     "execution_count": 63,
     "metadata": {},
     "output_type": "execute_result"
    }
   ],
   "source": [
    "US_data = convert(Vector, US_data_row[5:end])"
   ]
  },
  {
   "cell_type": "code",
   "execution_count": 64,
   "metadata": {},
   "outputs": [
    {
     "name": "stderr",
     "output_type": "stream",
     "text": [
      "┌ Info: Precompiling Plots [91a5bcdd-55d7-5caf-9e0b-520d859cae80]\n",
      "└ @ Base loading.jl:1260\n"
     ]
    }
   ],
   "source": [
    "using Plots"
   ]
  },
  {
   "cell_type": "code",
   "execution_count": 65,
   "metadata": {},
   "outputs": [
    {
     "data": {
      "image/svg+xml": [
       "<?xml version=\"1.0\" encoding=\"utf-8\"?>\n",
       "<svg xmlns=\"http://www.w3.org/2000/svg\" xmlns:xlink=\"http://www.w3.org/1999/xlink\" width=\"600\" height=\"400\" viewBox=\"0 0 2400 1600\">\n",
       "<defs>\n",
       "  <clipPath id=\"clip3500\">\n",
       "    <rect x=\"0\" y=\"0\" width=\"2400\" height=\"1600\"/>\n",
       "  </clipPath>\n",
       "</defs>\n",
       "<path clip-path=\"url(#clip3500)\" d=\"\n",
       "M0 1600 L2400 1600 L2400 0 L0 0  Z\n",
       "  \" fill=\"#ffffff\" fill-rule=\"evenodd\" fill-opacity=\"1\"/>\n",
       "<defs>\n",
       "  <clipPath id=\"clip3501\">\n",
       "    <rect x=\"480\" y=\"0\" width=\"1681\" height=\"1600\"/>\n",
       "  </clipPath>\n",
       "</defs>\n",
       "<path clip-path=\"url(#clip3500)\" d=\"\n",
       "M301.332 1487.47 L2352.76 1487.47 L2352.76 47.2441 L301.332 47.2441  Z\n",
       "  \" fill=\"#ffffff\" fill-rule=\"evenodd\" fill-opacity=\"1\"/>\n",
       "<defs>\n",
       "  <clipPath id=\"clip3502\">\n",
       "    <rect x=\"301\" y=\"47\" width=\"2052\" height=\"1441\"/>\n",
       "  </clipPath>\n",
       "</defs>\n",
       "<polyline clip-path=\"url(#clip3502)\" style=\"stroke:#000000; stroke-width:2; stroke-opacity:0.1; fill:none\" points=\"\n",
       "  330.93,1487.47 330.93,47.2441 \n",
       "  \"/>\n",
       "<polyline clip-path=\"url(#clip3502)\" style=\"stroke:#000000; stroke-width:2; stroke-opacity:0.1; fill:none\" points=\"\n",
       "  900.138,1487.47 900.138,47.2441 \n",
       "  \"/>\n",
       "<polyline clip-path=\"url(#clip3502)\" style=\"stroke:#000000; stroke-width:2; stroke-opacity:0.1; fill:none\" points=\"\n",
       "  1469.35,1487.47 1469.35,47.2441 \n",
       "  \"/>\n",
       "<polyline clip-path=\"url(#clip3502)\" style=\"stroke:#000000; stroke-width:2; stroke-opacity:0.1; fill:none\" points=\"\n",
       "  2038.55,1487.47 2038.55,47.2441 \n",
       "  \"/>\n",
       "<polyline clip-path=\"url(#clip3502)\" style=\"stroke:#000000; stroke-width:2; stroke-opacity:0.1; fill:none\" points=\"\n",
       "  301.332,1446.72 2352.76,1446.72 \n",
       "  \"/>\n",
       "<polyline clip-path=\"url(#clip3502)\" style=\"stroke:#000000; stroke-width:2; stroke-opacity:0.1; fill:none\" points=\"\n",
       "  301.332,1026.86 2352.76,1026.86 \n",
       "  \"/>\n",
       "<polyline clip-path=\"url(#clip3502)\" style=\"stroke:#000000; stroke-width:2; stroke-opacity:0.1; fill:none\" points=\"\n",
       "  301.332,607.008 2352.76,607.008 \n",
       "  \"/>\n",
       "<polyline clip-path=\"url(#clip3502)\" style=\"stroke:#000000; stroke-width:2; stroke-opacity:0.1; fill:none\" points=\"\n",
       "  301.332,187.15 2352.76,187.15 \n",
       "  \"/>\n",
       "<polyline clip-path=\"url(#clip3500)\" style=\"stroke:#000000; stroke-width:4; stroke-opacity:1; fill:none\" points=\"\n",
       "  301.332,1487.47 2352.76,1487.47 \n",
       "  \"/>\n",
       "<polyline clip-path=\"url(#clip3500)\" style=\"stroke:#000000; stroke-width:4; stroke-opacity:1; fill:none\" points=\"\n",
       "  301.332,1487.47 301.332,47.2441 \n",
       "  \"/>\n",
       "<polyline clip-path=\"url(#clip3500)\" style=\"stroke:#000000; stroke-width:4; stroke-opacity:1; fill:none\" points=\"\n",
       "  330.93,1487.47 330.93,1470.19 \n",
       "  \"/>\n",
       "<polyline clip-path=\"url(#clip3500)\" style=\"stroke:#000000; stroke-width:4; stroke-opacity:1; fill:none\" points=\"\n",
       "  900.138,1487.47 900.138,1470.19 \n",
       "  \"/>\n",
       "<polyline clip-path=\"url(#clip3500)\" style=\"stroke:#000000; stroke-width:4; stroke-opacity:1; fill:none\" points=\"\n",
       "  1469.35,1487.47 1469.35,1470.19 \n",
       "  \"/>\n",
       "<polyline clip-path=\"url(#clip3500)\" style=\"stroke:#000000; stroke-width:4; stroke-opacity:1; fill:none\" points=\"\n",
       "  2038.55,1487.47 2038.55,1470.19 \n",
       "  \"/>\n",
       "<polyline clip-path=\"url(#clip3500)\" style=\"stroke:#000000; stroke-width:4; stroke-opacity:1; fill:none\" points=\"\n",
       "  301.332,1446.72 325.949,1446.72 \n",
       "  \"/>\n",
       "<polyline clip-path=\"url(#clip3500)\" style=\"stroke:#000000; stroke-width:4; stroke-opacity:1; fill:none\" points=\"\n",
       "  301.332,1026.86 325.949,1026.86 \n",
       "  \"/>\n",
       "<polyline clip-path=\"url(#clip3500)\" style=\"stroke:#000000; stroke-width:4; stroke-opacity:1; fill:none\" points=\"\n",
       "  301.332,607.008 325.949,607.008 \n",
       "  \"/>\n",
       "<polyline clip-path=\"url(#clip3500)\" style=\"stroke:#000000; stroke-width:4; stroke-opacity:1; fill:none\" points=\"\n",
       "  301.332,187.15 325.949,187.15 \n",
       "  \"/>\n",
       "<g clip-path=\"url(#clip3500)\">\n",
       "<text style=\"fill:#000000; fill-opacity:1; font-family:Arial,Helvetica Neue,Helvetica,sans-serif; font-size:48px; text-anchor:middle;\" transform=\"rotate(0, 330.93, 1541.47)\" x=\"330.93\" y=\"1541.47\">0</text>\n",
       "</g>\n",
       "<g clip-path=\"url(#clip3500)\">\n",
       "<text style=\"fill:#000000; fill-opacity:1; font-family:Arial,Helvetica Neue,Helvetica,sans-serif; font-size:48px; text-anchor:middle;\" transform=\"rotate(0, 900.138, 1541.47)\" x=\"900.138\" y=\"1541.47\">20</text>\n",
       "</g>\n",
       "<g clip-path=\"url(#clip3500)\">\n",
       "<text style=\"fill:#000000; fill-opacity:1; font-family:Arial,Helvetica Neue,Helvetica,sans-serif; font-size:48px; text-anchor:middle;\" transform=\"rotate(0, 1469.35, 1541.47)\" x=\"1469.35\" y=\"1541.47\">40</text>\n",
       "</g>\n",
       "<g clip-path=\"url(#clip3500)\">\n",
       "<text style=\"fill:#000000; fill-opacity:1; font-family:Arial,Helvetica Neue,Helvetica,sans-serif; font-size:48px; text-anchor:middle;\" transform=\"rotate(0, 2038.55, 1541.47)\" x=\"2038.55\" y=\"1541.47\">60</text>\n",
       "</g>\n",
       "<g clip-path=\"url(#clip3500)\">\n",
       "<text style=\"fill:#000000; fill-opacity:1; font-family:Arial,Helvetica Neue,Helvetica,sans-serif; font-size:48px; text-anchor:end;\" transform=\"rotate(0, 277.332, 1464.22)\" x=\"277.332\" y=\"1464.22\">0</text>\n",
       "</g>\n",
       "<g clip-path=\"url(#clip3500)\">\n",
       "<text style=\"fill:#000000; fill-opacity:1; font-family:Arial,Helvetica Neue,Helvetica,sans-serif; font-size:48px; text-anchor:start;\" transform=\"rotate(0, 107.046, 1050.59)\" x=\"107.046\" y=\"1050.59\">5.0×10</text>\n",
       "</g>\n",
       "<g clip-path=\"url(#clip3500)\">\n",
       "<text style=\"fill:#000000; fill-opacity:1; font-family:Arial,Helvetica Neue,Helvetica,sans-serif; font-size:38px; text-anchor:start;\" transform=\"rotate(0, 255.587, 1023.18)\" x=\"255.587\" y=\"1023.18\">4</text>\n",
       "</g>\n",
       "<g clip-path=\"url(#clip3500)\">\n",
       "<text style=\"fill:#000000; fill-opacity:1; font-family:Arial,Helvetica Neue,Helvetica,sans-serif; font-size:48px; text-anchor:start;\" transform=\"rotate(0, 107.046, 630.735)\" x=\"107.046\" y=\"630.735\">1.0×10</text>\n",
       "</g>\n",
       "<g clip-path=\"url(#clip3500)\">\n",
       "<text style=\"fill:#000000; fill-opacity:1; font-family:Arial,Helvetica Neue,Helvetica,sans-serif; font-size:38px; text-anchor:start;\" transform=\"rotate(0, 255.587, 603.325)\" x=\"255.587\" y=\"603.325\">5</text>\n",
       "</g>\n",
       "<g clip-path=\"url(#clip3500)\">\n",
       "<text style=\"fill:#000000; fill-opacity:1; font-family:Arial,Helvetica Neue,Helvetica,sans-serif; font-size:48px; text-anchor:start;\" transform=\"rotate(0, 107.046, 210.878)\" x=\"107.046\" y=\"210.878\">1.5×10</text>\n",
       "</g>\n",
       "<g clip-path=\"url(#clip3500)\">\n",
       "<text style=\"fill:#000000; fill-opacity:1; font-family:Arial,Helvetica Neue,Helvetica,sans-serif; font-size:38px; text-anchor:start;\" transform=\"rotate(0, 255.587, 183.468)\" x=\"255.587\" y=\"183.468\">5</text>\n",
       "</g>\n",
       "<polyline clip-path=\"url(#clip3502)\" style=\"stroke:#009af9; stroke-width:4; stroke-opacity:1; fill:none\" points=\"\n",
       "  359.391,1446.71 387.851,1446.71 416.311,1446.71 444.772,1446.71 473.232,1446.68 501.693,1446.68 530.153,1446.68 558.613,1446.68 587.074,1446.68 615.534,1446.66 \n",
       "  643.995,1446.65 672.455,1446.65 700.915,1446.63 729.376,1446.63 757.836,1446.63 786.296,1446.63 814.757,1446.63 843.217,1446.63 871.678,1446.63 900.138,1446.63 \n",
       "  928.598,1446.62 957.059,1446.62 985.519,1446.61 1013.98,1446.61 1042.44,1446.61 1070.9,1446.61 1099.36,1446.61 1127.82,1446.61 1156.28,1446.61 1184.74,1446.61 \n",
       "  1213.2,1446.6 1241.66,1446.6 1270.12,1446.6 1298.58,1446.29 1327.04,1446.29 1355.5,1446.24 1383.96,1446.23 1412.42,1446.22 1440.89,1446.15 1469.35,1446.1 \n",
       "  1497.81,1445.9 1526.27,1445.73 1554.73,1445.47 1583.19,1444.9 1611.65,1444.52 1640.11,1443.35 1668.57,1442.37 1697.03,1441.83 1725.49,1438.67 1753.95,1435.97 \n",
       "  1782.41,1432.76 1810.87,1428.42 1839.33,1423.82 1867.79,1417.34 1896.25,1407.83 1924.71,1392.8 1953.17,1381.37 1981.63,1331.87 2010.09,1286.34 2038.55,1232.69 \n",
       "  2067.01,1167.3 2095.47,1078.53 2123.93,995.459 2152.39,894.375 2180.86,742.739 2209.32,593.093 2237.78,426.654 2266.24,263.682 2294.7,88.0053 \n",
       "  \"/>\n",
       "<path clip-path=\"url(#clip3500)\" d=\"\n",
       "M1989.93 251.724 L2280.76 251.724 L2280.76 130.764 L1989.93 130.764  Z\n",
       "  \" fill=\"#ffffff\" fill-rule=\"evenodd\" fill-opacity=\"1\"/>\n",
       "<polyline clip-path=\"url(#clip3500)\" style=\"stroke:#000000; stroke-width:4; stroke-opacity:1; fill:none\" points=\"\n",
       "  1989.93,251.724 2280.76,251.724 2280.76,130.764 1989.93,130.764 1989.93,251.724 \n",
       "  \"/>\n",
       "<polyline clip-path=\"url(#clip3500)\" style=\"stroke:#009af9; stroke-width:4; stroke-opacity:1; fill:none\" points=\"\n",
       "  2013.93,191.244 2157.93,191.244 \n",
       "  \"/>\n",
       "<g clip-path=\"url(#clip3500)\">\n",
       "<text style=\"fill:#000000; fill-opacity:1; font-family:Arial,Helvetica Neue,Helvetica,sans-serif; font-size:48px; text-anchor:start;\" transform=\"rotate(0, 2181.93, 208.744)\" x=\"2181.93\" y=\"208.744\">y1</text>\n",
       "</g>\n",
       "</svg>\n"
      ]
     },
     "execution_count": 65,
     "metadata": {},
     "output_type": "execute_result"
    }
   ],
   "source": [
    "plot(US_data)"
   ]
  },
  {
   "cell_type": "code",
   "execution_count": 66,
   "metadata": {},
   "outputs": [
    {
     "data": {
      "text/plain": [
       "73-element Array{Symbol,1}:\n",
       " :province\n",
       " :country\n",
       " :Lat\n",
       " :Long\n",
       " Symbol(\"1/22/20\")\n",
       " Symbol(\"1/23/20\")\n",
       " Symbol(\"1/24/20\")\n",
       " Symbol(\"1/25/20\")\n",
       " Symbol(\"1/26/20\")\n",
       " Symbol(\"1/27/20\")\n",
       " Symbol(\"1/28/20\")\n",
       " Symbol(\"1/29/20\")\n",
       " Symbol(\"1/30/20\")\n",
       " ⋮\n",
       " Symbol(\"3/19/20\")\n",
       " Symbol(\"3/20/20\")\n",
       " Symbol(\"3/21/20\")\n",
       " Symbol(\"3/22/20\")\n",
       " Symbol(\"3/23/20\")\n",
       " Symbol(\"3/24/20\")\n",
       " Symbol(\"3/25/20\")\n",
       " Symbol(\"3/26/20\")\n",
       " Symbol(\"3/27/20\")\n",
       " Symbol(\"3/28/20\")\n",
       " Symbol(\"3/29/20\")\n",
       " Symbol(\"3/30/20\")"
      ]
     },
     "execution_count": 66,
     "metadata": {},
     "output_type": "execute_result"
    }
   ],
   "source": [
    "col_names = names(data)"
   ]
  },
  {
   "cell_type": "code",
   "execution_count": 67,
   "metadata": {},
   "outputs": [],
   "source": [
    "date_strings = String.(names(data))[5:end];  # apply String function to each element"
   ]
  },
  {
   "cell_type": "markdown",
   "metadata": {},
   "source": [
    "Parse: convert string representation into a Julia object:"
   ]
  },
  {
   "cell_type": "code",
   "execution_count": 68,
   "metadata": {},
   "outputs": [
    {
     "data": {
      "text/plain": [
       "\"1/22/20\""
      ]
     },
     "execution_count": 68,
     "metadata": {},
     "output_type": "execute_result"
    }
   ],
   "source": [
    "date_strings[1]"
   ]
  },
  {
   "cell_type": "code",
   "execution_count": 69,
   "metadata": {},
   "outputs": [],
   "source": [
    "using Dates"
   ]
  },
  {
   "cell_type": "code",
   "execution_count": 70,
   "metadata": {},
   "outputs": [
    {
     "data": {
      "text/plain": [
       "dateformat\"d/m/Y\""
      ]
     },
     "execution_count": 70,
     "metadata": {},
     "output_type": "execute_result"
    }
   ],
   "source": [
    "format = Dates.DateFormat(\"d/m/Y\")"
   ]
  },
  {
   "cell_type": "code",
   "execution_count": 71,
   "metadata": {},
   "outputs": [
    {
     "ename": "ArgumentError",
     "evalue": "ArgumentError: Month: 22 out of range (1:12)",
     "output_type": "error",
     "traceback": [
      "ArgumentError: Month: 22 out of range (1:12)",
      "",
      "Stacktrace:",
      " [1] Date(::Int64, ::Int64, ::Int64) at D:\\buildbot\\worker\\package_win64\\build\\usr\\share\\julia\\stdlib\\v1.4\\Dates\\src\\types.jl:223",
      " [2] parse(::Type{Date}, ::String, ::DateFormat{Symbol(\"d/m/Y\"),Tuple{Dates.DatePart{'d'},Dates.Delim{Char,1},Dates.DatePart{'m'},Dates.Delim{Char,1},Dates.DatePart{'Y'}}}) at D:\\buildbot\\worker\\package_win64\\build\\usr\\share\\julia\\stdlib\\v1.4\\Dates\\src\\parse.jl:285",
      " [3] top-level scope at In[71]:1"
     ]
    }
   ],
   "source": [
    "parse(Date, date_strings[1], format)"
   ]
  },
  {
   "cell_type": "code",
   "execution_count": 72,
   "metadata": {},
   "outputs": [
    {
     "data": {
      "text/plain": [
       "dateformat\"m/d/Y\""
      ]
     },
     "execution_count": 72,
     "metadata": {},
     "output_type": "execute_result"
    }
   ],
   "source": [
    "format = Dates.DateFormat(\"m/d/Y\")"
   ]
  },
  {
   "cell_type": "code",
   "execution_count": 73,
   "metadata": {},
   "outputs": [
    {
     "data": {
      "text/plain": [
       "2020-01-22"
      ]
     },
     "execution_count": 73,
     "metadata": {},
     "output_type": "execute_result"
    }
   ],
   "source": [
    "parse(Date, date_strings[1], format) + Year(2000)"
   ]
  },
  {
   "cell_type": "code",
   "execution_count": 74,
   "metadata": {},
   "outputs": [
    {
     "data": {
      "text/plain": [
       "69-element Array{Date,1}:\n",
       " 2020-01-22\n",
       " 2020-01-23\n",
       " 2020-01-24\n",
       " 2020-01-25\n",
       " 2020-01-26\n",
       " 2020-01-27\n",
       " 2020-01-28\n",
       " 2020-01-29\n",
       " 2020-01-30\n",
       " 2020-01-31\n",
       " 2020-02-01\n",
       " 2020-02-02\n",
       " 2020-02-03\n",
       " ⋮\n",
       " 2020-03-19\n",
       " 2020-03-20\n",
       " 2020-03-21\n",
       " 2020-03-22\n",
       " 2020-03-23\n",
       " 2020-03-24\n",
       " 2020-03-25\n",
       " 2020-03-26\n",
       " 2020-03-27\n",
       " 2020-03-28\n",
       " 2020-03-29\n",
       " 2020-03-30"
      ]
     },
     "execution_count": 74,
     "metadata": {},
     "output_type": "execute_result"
    }
   ],
   "source": [
    "dates = parse.(Date, date_strings, format) .+ Year(2000)"
   ]
  },
  {
   "cell_type": "code",
   "execution_count": 78,
   "metadata": {},
   "outputs": [
    {
     "data": {
      "image/svg+xml": [
       "<?xml version=\"1.0\" encoding=\"utf-8\"?>\n",
       "<svg xmlns=\"http://www.w3.org/2000/svg\" xmlns:xlink=\"http://www.w3.org/1999/xlink\" width=\"600\" height=\"400\" viewBox=\"0 0 2400 1600\">\n",
       "<defs>\n",
       "  <clipPath id=\"clip5100\">\n",
       "    <rect x=\"0\" y=\"0\" width=\"2400\" height=\"1600\"/>\n",
       "  </clipPath>\n",
       "</defs>\n",
       "<path clip-path=\"url(#clip5100)\" d=\"\n",
       "M0 1600 L2400 1600 L2400 0 L0 0  Z\n",
       "  \" fill=\"#ffffff\" fill-rule=\"evenodd\" fill-opacity=\"1\"/>\n",
       "<defs>\n",
       "  <clipPath id=\"clip5101\">\n",
       "    <rect x=\"480\" y=\"0\" width=\"1681\" height=\"1600\"/>\n",
       "  </clipPath>\n",
       "</defs>\n",
       "<path clip-path=\"url(#clip5100)\" d=\"\n",
       "M363.188 1245.41 L2352.76 1245.41 L2352.76 121.675 L363.188 121.675  Z\n",
       "  \" fill=\"#ffffff\" fill-rule=\"evenodd\" fill-opacity=\"1\"/>\n",
       "<defs>\n",
       "  <clipPath id=\"clip5102\">\n",
       "    <rect x=\"363\" y=\"121\" width=\"1991\" height=\"1125\"/>\n",
       "  </clipPath>\n",
       "</defs>\n",
       "<polyline clip-path=\"url(#clip5102)\" style=\"stroke:#000000; stroke-width:2; stroke-opacity:0.1; fill:none\" points=\"\n",
       "  419.496,1245.41 419.496,121.675 \n",
       "  \"/>\n",
       "<polyline clip-path=\"url(#clip5102)\" style=\"stroke:#000000; stroke-width:2; stroke-opacity:0.1; fill:none\" points=\"\n",
       "  557.507,1245.41 557.507,121.675 \n",
       "  \"/>\n",
       "<polyline clip-path=\"url(#clip5102)\" style=\"stroke:#000000; stroke-width:2; stroke-opacity:0.1; fill:none\" points=\"\n",
       "  695.518,1245.41 695.518,121.675 \n",
       "  \"/>\n",
       "<polyline clip-path=\"url(#clip5102)\" style=\"stroke:#000000; stroke-width:2; stroke-opacity:0.1; fill:none\" points=\"\n",
       "  833.53,1245.41 833.53,121.675 \n",
       "  \"/>\n",
       "<polyline clip-path=\"url(#clip5102)\" style=\"stroke:#000000; stroke-width:2; stroke-opacity:0.1; fill:none\" points=\"\n",
       "  971.541,1245.41 971.541,121.675 \n",
       "  \"/>\n",
       "<polyline clip-path=\"url(#clip5102)\" style=\"stroke:#000000; stroke-width:2; stroke-opacity:0.1; fill:none\" points=\"\n",
       "  1109.55,1245.41 1109.55,121.675 \n",
       "  \"/>\n",
       "<polyline clip-path=\"url(#clip5102)\" style=\"stroke:#000000; stroke-width:2; stroke-opacity:0.1; fill:none\" points=\"\n",
       "  1247.56,1245.41 1247.56,121.675 \n",
       "  \"/>\n",
       "<polyline clip-path=\"url(#clip5102)\" style=\"stroke:#000000; stroke-width:2; stroke-opacity:0.1; fill:none\" points=\"\n",
       "  1385.57,1245.41 1385.57,121.675 \n",
       "  \"/>\n",
       "<polyline clip-path=\"url(#clip5102)\" style=\"stroke:#000000; stroke-width:2; stroke-opacity:0.1; fill:none\" points=\"\n",
       "  1523.59,1245.41 1523.59,121.675 \n",
       "  \"/>\n",
       "<polyline clip-path=\"url(#clip5102)\" style=\"stroke:#000000; stroke-width:2; stroke-opacity:0.1; fill:none\" points=\"\n",
       "  1661.6,1245.41 1661.6,121.675 \n",
       "  \"/>\n",
       "<polyline clip-path=\"url(#clip5102)\" style=\"stroke:#000000; stroke-width:2; stroke-opacity:0.1; fill:none\" points=\"\n",
       "  1799.61,1245.41 1799.61,121.675 \n",
       "  \"/>\n",
       "<polyline clip-path=\"url(#clip5102)\" style=\"stroke:#000000; stroke-width:2; stroke-opacity:0.1; fill:none\" points=\"\n",
       "  1937.62,1245.41 1937.62,121.675 \n",
       "  \"/>\n",
       "<polyline clip-path=\"url(#clip5102)\" style=\"stroke:#000000; stroke-width:2; stroke-opacity:0.1; fill:none\" points=\"\n",
       "  2075.63,1245.41 2075.63,121.675 \n",
       "  \"/>\n",
       "<polyline clip-path=\"url(#clip5102)\" style=\"stroke:#000000; stroke-width:2; stroke-opacity:0.1; fill:none\" points=\"\n",
       "  2213.64,1245.41 2213.64,121.675 \n",
       "  \"/>\n",
       "<polyline clip-path=\"url(#clip5102)\" style=\"stroke:#000000; stroke-width:2; stroke-opacity:0.1; fill:none\" points=\"\n",
       "  363.188,1213.61 2352.76,1213.61 \n",
       "  \"/>\n",
       "<polyline clip-path=\"url(#clip5102)\" style=\"stroke:#000000; stroke-width:2; stroke-opacity:0.1; fill:none\" points=\"\n",
       "  363.188,886.018 2352.76,886.018 \n",
       "  \"/>\n",
       "<polyline clip-path=\"url(#clip5102)\" style=\"stroke:#000000; stroke-width:2; stroke-opacity:0.1; fill:none\" points=\"\n",
       "  363.188,558.427 2352.76,558.427 \n",
       "  \"/>\n",
       "<polyline clip-path=\"url(#clip5102)\" style=\"stroke:#000000; stroke-width:2; stroke-opacity:0.1; fill:none\" points=\"\n",
       "  363.188,230.836 2352.76,230.836 \n",
       "  \"/>\n",
       "<polyline clip-path=\"url(#clip5100)\" style=\"stroke:#000000; stroke-width:4; stroke-opacity:1; fill:none\" points=\"\n",
       "  363.188,1245.41 2352.76,1245.41 \n",
       "  \"/>\n",
       "<polyline clip-path=\"url(#clip5100)\" style=\"stroke:#000000; stroke-width:4; stroke-opacity:1; fill:none\" points=\"\n",
       "  363.188,1245.41 363.188,121.675 \n",
       "  \"/>\n",
       "<polyline clip-path=\"url(#clip5100)\" style=\"stroke:#000000; stroke-width:4; stroke-opacity:1; fill:none\" points=\"\n",
       "  419.496,1245.41 419.496,1231.92 \n",
       "  \"/>\n",
       "<polyline clip-path=\"url(#clip5100)\" style=\"stroke:#000000; stroke-width:4; stroke-opacity:1; fill:none\" points=\"\n",
       "  557.507,1245.41 557.507,1231.92 \n",
       "  \"/>\n",
       "<polyline clip-path=\"url(#clip5100)\" style=\"stroke:#000000; stroke-width:4; stroke-opacity:1; fill:none\" points=\"\n",
       "  695.518,1245.41 695.518,1231.92 \n",
       "  \"/>\n",
       "<polyline clip-path=\"url(#clip5100)\" style=\"stroke:#000000; stroke-width:4; stroke-opacity:1; fill:none\" points=\"\n",
       "  833.53,1245.41 833.53,1231.92 \n",
       "  \"/>\n",
       "<polyline clip-path=\"url(#clip5100)\" style=\"stroke:#000000; stroke-width:4; stroke-opacity:1; fill:none\" points=\"\n",
       "  971.541,1245.41 971.541,1231.92 \n",
       "  \"/>\n",
       "<polyline clip-path=\"url(#clip5100)\" style=\"stroke:#000000; stroke-width:4; stroke-opacity:1; fill:none\" points=\"\n",
       "  1109.55,1245.41 1109.55,1231.92 \n",
       "  \"/>\n",
       "<polyline clip-path=\"url(#clip5100)\" style=\"stroke:#000000; stroke-width:4; stroke-opacity:1; fill:none\" points=\"\n",
       "  1247.56,1245.41 1247.56,1231.92 \n",
       "  \"/>\n",
       "<polyline clip-path=\"url(#clip5100)\" style=\"stroke:#000000; stroke-width:4; stroke-opacity:1; fill:none\" points=\"\n",
       "  1385.57,1245.41 1385.57,1231.92 \n",
       "  \"/>\n",
       "<polyline clip-path=\"url(#clip5100)\" style=\"stroke:#000000; stroke-width:4; stroke-opacity:1; fill:none\" points=\"\n",
       "  1523.59,1245.41 1523.59,1231.92 \n",
       "  \"/>\n",
       "<polyline clip-path=\"url(#clip5100)\" style=\"stroke:#000000; stroke-width:4; stroke-opacity:1; fill:none\" points=\"\n",
       "  1661.6,1245.41 1661.6,1231.92 \n",
       "  \"/>\n",
       "<polyline clip-path=\"url(#clip5100)\" style=\"stroke:#000000; stroke-width:4; stroke-opacity:1; fill:none\" points=\"\n",
       "  1799.61,1245.41 1799.61,1231.92 \n",
       "  \"/>\n",
       "<polyline clip-path=\"url(#clip5100)\" style=\"stroke:#000000; stroke-width:4; stroke-opacity:1; fill:none\" points=\"\n",
       "  1937.62,1245.41 1937.62,1231.92 \n",
       "  \"/>\n",
       "<polyline clip-path=\"url(#clip5100)\" style=\"stroke:#000000; stroke-width:4; stroke-opacity:1; fill:none\" points=\"\n",
       "  2075.63,1245.41 2075.63,1231.92 \n",
       "  \"/>\n",
       "<polyline clip-path=\"url(#clip5100)\" style=\"stroke:#000000; stroke-width:4; stroke-opacity:1; fill:none\" points=\"\n",
       "  2213.64,1245.41 2213.64,1231.92 \n",
       "  \"/>\n",
       "<polyline clip-path=\"url(#clip5100)\" style=\"stroke:#000000; stroke-width:4; stroke-opacity:1; fill:none\" points=\"\n",
       "  363.188,1213.61 387.062,1213.61 \n",
       "  \"/>\n",
       "<polyline clip-path=\"url(#clip5100)\" style=\"stroke:#000000; stroke-width:4; stroke-opacity:1; fill:none\" points=\"\n",
       "  363.188,886.018 387.062,886.018 \n",
       "  \"/>\n",
       "<polyline clip-path=\"url(#clip5100)\" style=\"stroke:#000000; stroke-width:4; stroke-opacity:1; fill:none\" points=\"\n",
       "  363.188,558.427 387.062,558.427 \n",
       "  \"/>\n",
       "<polyline clip-path=\"url(#clip5100)\" style=\"stroke:#000000; stroke-width:4; stroke-opacity:1; fill:none\" points=\"\n",
       "  363.188,230.836 387.062,230.836 \n",
       "  \"/>\n",
       "<g clip-path=\"url(#clip5100)\">\n",
       "<text style=\"fill:#000000; fill-opacity:1; font-family:Arial,Helvetica Neue,Helvetica,sans-serif; font-size:48px; text-anchor:end;\" transform=\"rotate(-45, 449.195, 1287.1)\" x=\"449.195\" y=\"1287.1\">2020-01-22</text>\n",
       "</g>\n",
       "<g clip-path=\"url(#clip5100)\">\n",
       "<text style=\"fill:#000000; fill-opacity:1; font-family:Arial,Helvetica Neue,Helvetica,sans-serif; font-size:48px; text-anchor:end;\" transform=\"rotate(-45, 587.206, 1287.1)\" x=\"587.206\" y=\"1287.1\">2020-01-27</text>\n",
       "</g>\n",
       "<g clip-path=\"url(#clip5100)\">\n",
       "<text style=\"fill:#000000; fill-opacity:1; font-family:Arial,Helvetica Neue,Helvetica,sans-serif; font-size:48px; text-anchor:end;\" transform=\"rotate(-45, 725.217, 1287.1)\" x=\"725.217\" y=\"1287.1\">2020-02-01</text>\n",
       "</g>\n",
       "<g clip-path=\"url(#clip5100)\">\n",
       "<text style=\"fill:#000000; fill-opacity:1; font-family:Arial,Helvetica Neue,Helvetica,sans-serif; font-size:48px; text-anchor:end;\" transform=\"rotate(-45, 863.228, 1287.1)\" x=\"863.228\" y=\"1287.1\">2020-02-06</text>\n",
       "</g>\n",
       "<g clip-path=\"url(#clip5100)\">\n",
       "<text style=\"fill:#000000; fill-opacity:1; font-family:Arial,Helvetica Neue,Helvetica,sans-serif; font-size:48px; text-anchor:end;\" transform=\"rotate(-45, 1001.24, 1287.1)\" x=\"1001.24\" y=\"1287.1\">2020-02-11</text>\n",
       "</g>\n",
       "<g clip-path=\"url(#clip5100)\">\n",
       "<text style=\"fill:#000000; fill-opacity:1; font-family:Arial,Helvetica Neue,Helvetica,sans-serif; font-size:48px; text-anchor:end;\" transform=\"rotate(-45, 1139.25, 1287.1)\" x=\"1139.25\" y=\"1287.1\">2020-02-16</text>\n",
       "</g>\n",
       "<g clip-path=\"url(#clip5100)\">\n",
       "<text style=\"fill:#000000; fill-opacity:1; font-family:Arial,Helvetica Neue,Helvetica,sans-serif; font-size:48px; text-anchor:end;\" transform=\"rotate(-45, 1277.26, 1287.1)\" x=\"1277.26\" y=\"1287.1\">2020-02-21</text>\n",
       "</g>\n",
       "<g clip-path=\"url(#clip5100)\">\n",
       "<text style=\"fill:#000000; fill-opacity:1; font-family:Arial,Helvetica Neue,Helvetica,sans-serif; font-size:48px; text-anchor:end;\" transform=\"rotate(-45, 1415.27, 1287.1)\" x=\"1415.27\" y=\"1287.1\">2020-02-26</text>\n",
       "</g>\n",
       "<g clip-path=\"url(#clip5100)\">\n",
       "<text style=\"fill:#000000; fill-opacity:1; font-family:Arial,Helvetica Neue,Helvetica,sans-serif; font-size:48px; text-anchor:end;\" transform=\"rotate(-45, 1553.28, 1287.1)\" x=\"1553.28\" y=\"1287.1\">2020-03-02</text>\n",
       "</g>\n",
       "<g clip-path=\"url(#clip5100)\">\n",
       "<text style=\"fill:#000000; fill-opacity:1; font-family:Arial,Helvetica Neue,Helvetica,sans-serif; font-size:48px; text-anchor:end;\" transform=\"rotate(-45, 1691.29, 1287.1)\" x=\"1691.29\" y=\"1287.1\">2020-03-07</text>\n",
       "</g>\n",
       "<g clip-path=\"url(#clip5100)\">\n",
       "<text style=\"fill:#000000; fill-opacity:1; font-family:Arial,Helvetica Neue,Helvetica,sans-serif; font-size:48px; text-anchor:end;\" transform=\"rotate(-45, 1829.31, 1287.1)\" x=\"1829.31\" y=\"1287.1\">2020-03-12</text>\n",
       "</g>\n",
       "<g clip-path=\"url(#clip5100)\">\n",
       "<text style=\"fill:#000000; fill-opacity:1; font-family:Arial,Helvetica Neue,Helvetica,sans-serif; font-size:48px; text-anchor:end;\" transform=\"rotate(-45, 1967.32, 1287.1)\" x=\"1967.32\" y=\"1287.1\">2020-03-17</text>\n",
       "</g>\n",
       "<g clip-path=\"url(#clip5100)\">\n",
       "<text style=\"fill:#000000; fill-opacity:1; font-family:Arial,Helvetica Neue,Helvetica,sans-serif; font-size:48px; text-anchor:end;\" transform=\"rotate(-45, 2105.33, 1287.1)\" x=\"2105.33\" y=\"1287.1\">2020-03-22</text>\n",
       "</g>\n",
       "<g clip-path=\"url(#clip5100)\">\n",
       "<text style=\"fill:#000000; fill-opacity:1; font-family:Arial,Helvetica Neue,Helvetica,sans-serif; font-size:48px; text-anchor:end;\" transform=\"rotate(-45, 2243.34, 1287.1)\" x=\"2243.34\" y=\"1287.1\">2020-03-27</text>\n",
       "</g>\n",
       "<g clip-path=\"url(#clip5100)\">\n",
       "<text style=\"fill:#000000; fill-opacity:1; font-family:Arial,Helvetica Neue,Helvetica,sans-serif; font-size:48px; text-anchor:end;\" transform=\"rotate(0, 339.188, 1231.11)\" x=\"339.188\" y=\"1231.11\">0</text>\n",
       "</g>\n",
       "<g clip-path=\"url(#clip5100)\">\n",
       "<text style=\"fill:#000000; fill-opacity:1; font-family:Arial,Helvetica Neue,Helvetica,sans-serif; font-size:48px; text-anchor:start;\" transform=\"rotate(0, 168.903, 909.746)\" x=\"168.903\" y=\"909.746\">5.0×10</text>\n",
       "</g>\n",
       "<g clip-path=\"url(#clip5100)\">\n",
       "<text style=\"fill:#000000; fill-opacity:1; font-family:Arial,Helvetica Neue,Helvetica,sans-serif; font-size:38px; text-anchor:start;\" transform=\"rotate(0, 317.443, 882.335)\" x=\"317.443\" y=\"882.335\">4</text>\n",
       "</g>\n",
       "<g clip-path=\"url(#clip5100)\">\n",
       "<text style=\"fill:#000000; fill-opacity:1; font-family:Arial,Helvetica Neue,Helvetica,sans-serif; font-size:48px; text-anchor:start;\" transform=\"rotate(0, 168.903, 582.155)\" x=\"168.903\" y=\"582.155\">1.0×10</text>\n",
       "</g>\n",
       "<g clip-path=\"url(#clip5100)\">\n",
       "<text style=\"fill:#000000; fill-opacity:1; font-family:Arial,Helvetica Neue,Helvetica,sans-serif; font-size:38px; text-anchor:start;\" transform=\"rotate(0, 317.443, 554.744)\" x=\"317.443\" y=\"554.744\">5</text>\n",
       "</g>\n",
       "<g clip-path=\"url(#clip5100)\">\n",
       "<text style=\"fill:#000000; fill-opacity:1; font-family:Arial,Helvetica Neue,Helvetica,sans-serif; font-size:48px; text-anchor:start;\" transform=\"rotate(0, 168.903, 254.564)\" x=\"168.903\" y=\"254.564\">1.5×10</text>\n",
       "</g>\n",
       "<g clip-path=\"url(#clip5100)\">\n",
       "<text style=\"fill:#000000; fill-opacity:1; font-family:Arial,Helvetica Neue,Helvetica,sans-serif; font-size:38px; text-anchor:start;\" transform=\"rotate(0, 317.443, 227.153)\" x=\"317.443\" y=\"227.153\">5</text>\n",
       "</g>\n",
       "<g clip-path=\"url(#clip5100)\">\n",
       "<text style=\"fill:#000000; fill-opacity:1; font-family:Arial,Helvetica Neue,Helvetica,sans-serif; font-size:84px; text-anchor:middle;\" transform=\"rotate(0, 1357.97, 73.2)\" x=\"1357.97\" y=\"73.2\">US confirmed COVID-19 cases</text>\n",
       "</g>\n",
       "<g clip-path=\"url(#clip5100)\">\n",
       "<text style=\"fill:#000000; fill-opacity:1; font-family:Arial,Helvetica Neue,Helvetica,sans-serif; font-size:66px; text-anchor:middle;\" transform=\"rotate(0, 1357.97, 1555.68)\" x=\"1357.97\" y=\"1555.68\">date</text>\n",
       "</g>\n",
       "<g clip-path=\"url(#clip5100)\">\n",
       "<text style=\"fill:#000000; fill-opacity:1; font-family:Arial,Helvetica Neue,Helvetica,sans-serif; font-size:66px; text-anchor:middle;\" transform=\"rotate(-90, 89.2861, 683.541)\" x=\"89.2861\" y=\"683.541\">confirmed cases in US</text>\n",
       "</g>\n",
       "<polyline clip-path=\"url(#clip5102)\" style=\"stroke:#009af9; stroke-width:4; stroke-opacity:1; fill:none\" points=\"\n",
       "  419.496,1213.6 447.098,1213.6 474.701,1213.6 502.303,1213.6 529.905,1213.58 557.507,1213.58 585.11,1213.58 612.712,1213.58 640.314,1213.58 667.916,1213.56 \n",
       "  695.518,1213.56 723.121,1213.56 750.723,1213.54 778.325,1213.54 805.927,1213.54 833.53,1213.54 861.132,1213.54 888.734,1213.54 916.336,1213.54 943.938,1213.54 \n",
       "  971.541,1213.53 999.143,1213.53 1026.75,1213.52 1054.35,1213.52 1081.95,1213.52 1109.55,1213.52 1137.15,1213.52 1164.76,1213.52 1192.36,1213.52 1219.96,1213.52 \n",
       "  1247.56,1213.51 1275.17,1213.51 1302.77,1213.51 1330.37,1213.27 1357.97,1213.27 1385.57,1213.24 1413.18,1213.23 1440.78,1213.22 1468.38,1213.16 1495.98,1213.12 \n",
       "  1523.59,1212.97 1551.19,1212.84 1578.79,1212.63 1606.39,1212.19 1633.99,1211.89 1661.6,1210.98 1689.2,1210.22 1716.8,1209.79 1744.4,1207.33 1772.01,1205.22 \n",
       "  1799.61,1202.71 1827.21,1199.33 1854.81,1195.74 1882.41,1190.68 1910.02,1183.26 1937.62,1171.54 1965.22,1162.62 1992.82,1124 2020.43,1088.47 2048.03,1046.61 \n",
       "  2075.63,995.591 2103.23,926.331 2130.83,861.514 2158.44,782.643 2186.04,664.331 2213.64,547.571 2241.24,417.707 2268.85,290.549 2296.45,153.479 \n",
       "  \"/>\n",
       "<path clip-path=\"url(#clip5102)\" d=\"M419.496 1229.6 L408.184 1224.91 L403.496 1213.6 L408.184 1202.29 L419.496 1197.6 L430.808 1202.29 L435.496 1213.6 L430.808 1224.91 Z\" fill=\"#009af9\" fill-rule=\"evenodd\" fill-opacity=\"1\" stroke=\"#000000\" stroke-opacity=\"1\" stroke-width=\"3.2\"/>\n",
       "<path clip-path=\"url(#clip5102)\" d=\"M447.098 1229.6 L435.786 1224.91 L431.098 1213.6 L435.786 1202.29 L447.098 1197.6 L458.41 1202.29 L463.098 1213.6 L458.41 1224.91 Z\" fill=\"#009af9\" fill-rule=\"evenodd\" fill-opacity=\"1\" stroke=\"#000000\" stroke-opacity=\"1\" stroke-width=\"3.2\"/>\n",
       "<path clip-path=\"url(#clip5102)\" d=\"M474.701 1229.6 L463.389 1224.91 L458.701 1213.6 L463.389 1202.28 L474.701 1197.6 L486.013 1202.28 L490.701 1213.6 L486.013 1224.91 Z\" fill=\"#009af9\" fill-rule=\"evenodd\" fill-opacity=\"1\" stroke=\"#000000\" stroke-opacity=\"1\" stroke-width=\"3.2\"/>\n",
       "<path clip-path=\"url(#clip5102)\" d=\"M502.303 1229.6 L490.991 1224.91 L486.303 1213.6 L490.991 1202.28 L502.303 1197.6 L513.615 1202.28 L518.303 1213.6 L513.615 1224.91 Z\" fill=\"#009af9\" fill-rule=\"evenodd\" fill-opacity=\"1\" stroke=\"#000000\" stroke-opacity=\"1\" stroke-width=\"3.2\"/>\n",
       "<path clip-path=\"url(#clip5102)\" d=\"M529.905 1229.58 L518.593 1224.89 L513.905 1213.58 L518.593 1202.26 L529.905 1197.58 L541.217 1202.26 L545.905 1213.58 L541.217 1224.89 Z\" fill=\"#009af9\" fill-rule=\"evenodd\" fill-opacity=\"1\" stroke=\"#000000\" stroke-opacity=\"1\" stroke-width=\"3.2\"/>\n",
       "<path clip-path=\"url(#clip5102)\" d=\"M557.507 1229.58 L546.195 1224.89 L541.507 1213.58 L546.195 1202.26 L557.507 1197.58 L568.819 1202.26 L573.507 1213.58 L568.819 1224.89 Z\" fill=\"#009af9\" fill-rule=\"evenodd\" fill-opacity=\"1\" stroke=\"#000000\" stroke-opacity=\"1\" stroke-width=\"3.2\"/>\n",
       "<path clip-path=\"url(#clip5102)\" d=\"M585.11 1229.58 L573.798 1224.89 L569.11 1213.58 L573.798 1202.26 L585.11 1197.58 L596.422 1202.26 L601.11 1213.58 L596.422 1224.89 Z\" fill=\"#009af9\" fill-rule=\"evenodd\" fill-opacity=\"1\" stroke=\"#000000\" stroke-opacity=\"1\" stroke-width=\"3.2\"/>\n",
       "<path clip-path=\"url(#clip5102)\" d=\"M612.712 1229.58 L601.4 1224.89 L596.712 1213.58 L601.4 1202.26 L612.712 1197.58 L624.024 1202.26 L628.712 1213.58 L624.024 1224.89 Z\" fill=\"#009af9\" fill-rule=\"evenodd\" fill-opacity=\"1\" stroke=\"#000000\" stroke-opacity=\"1\" stroke-width=\"3.2\"/>\n",
       "<path clip-path=\"url(#clip5102)\" d=\"M640.314 1229.58 L629.002 1224.89 L624.314 1213.58 L629.002 1202.26 L640.314 1197.58 L651.626 1202.26 L656.314 1213.58 L651.626 1224.89 Z\" fill=\"#009af9\" fill-rule=\"evenodd\" fill-opacity=\"1\" stroke=\"#000000\" stroke-opacity=\"1\" stroke-width=\"3.2\"/>\n",
       "<path clip-path=\"url(#clip5102)\" d=\"M667.916 1229.56 L656.604 1224.88 L651.916 1213.56 L656.604 1202.25 L667.916 1197.56 L679.228 1202.25 L683.916 1213.56 L679.228 1224.88 Z\" fill=\"#009af9\" fill-rule=\"evenodd\" fill-opacity=\"1\" stroke=\"#000000\" stroke-opacity=\"1\" stroke-width=\"3.2\"/>\n",
       "<path clip-path=\"url(#clip5102)\" d=\"M695.518 1229.56 L684.206 1224.87 L679.518 1213.56 L684.206 1202.24 L695.518 1197.56 L706.83 1202.24 L711.518 1213.56 L706.83 1224.87 Z\" fill=\"#009af9\" fill-rule=\"evenodd\" fill-opacity=\"1\" stroke=\"#000000\" stroke-opacity=\"1\" stroke-width=\"3.2\"/>\n",
       "<path clip-path=\"url(#clip5102)\" d=\"M723.121 1229.56 L711.809 1224.87 L707.121 1213.56 L711.809 1202.24 L723.121 1197.56 L734.433 1202.24 L739.121 1213.56 L734.433 1224.87 Z\" fill=\"#009af9\" fill-rule=\"evenodd\" fill-opacity=\"1\" stroke=\"#000000\" stroke-opacity=\"1\" stroke-width=\"3.2\"/>\n",
       "<path clip-path=\"url(#clip5102)\" d=\"M750.723 1229.54 L739.411 1224.85 L734.723 1213.54 L739.411 1202.22 L750.723 1197.54 L762.035 1202.22 L766.723 1213.54 L762.035 1224.85 Z\" fill=\"#009af9\" fill-rule=\"evenodd\" fill-opacity=\"1\" stroke=\"#000000\" stroke-opacity=\"1\" stroke-width=\"3.2\"/>\n",
       "<path clip-path=\"url(#clip5102)\" d=\"M778.325 1229.54 L767.013 1224.85 L762.325 1213.54 L767.013 1202.22 L778.325 1197.54 L789.637 1202.22 L794.325 1213.54 L789.637 1224.85 Z\" fill=\"#009af9\" fill-rule=\"evenodd\" fill-opacity=\"1\" stroke=\"#000000\" stroke-opacity=\"1\" stroke-width=\"3.2\"/>\n",
       "<path clip-path=\"url(#clip5102)\" d=\"M805.927 1229.54 L794.615 1224.85 L789.927 1213.54 L794.615 1202.22 L805.927 1197.54 L817.239 1202.22 L821.927 1213.54 L817.239 1224.85 Z\" fill=\"#009af9\" fill-rule=\"evenodd\" fill-opacity=\"1\" stroke=\"#000000\" stroke-opacity=\"1\" stroke-width=\"3.2\"/>\n",
       "<path clip-path=\"url(#clip5102)\" d=\"M833.53 1229.54 L822.218 1224.85 L817.53 1213.54 L822.218 1202.22 L833.53 1197.54 L844.842 1202.22 L849.53 1213.54 L844.842 1224.85 Z\" fill=\"#009af9\" fill-rule=\"evenodd\" fill-opacity=\"1\" stroke=\"#000000\" stroke-opacity=\"1\" stroke-width=\"3.2\"/>\n",
       "<path clip-path=\"url(#clip5102)\" d=\"M861.132 1229.54 L849.82 1224.85 L845.132 1213.54 L849.82 1202.22 L861.132 1197.54 L872.444 1202.22 L877.132 1213.54 L872.444 1224.85 Z\" fill=\"#009af9\" fill-rule=\"evenodd\" fill-opacity=\"1\" stroke=\"#000000\" stroke-opacity=\"1\" stroke-width=\"3.2\"/>\n",
       "<path clip-path=\"url(#clip5102)\" d=\"M888.734 1229.54 L877.422 1224.85 L872.734 1213.54 L877.422 1202.22 L888.734 1197.54 L900.046 1202.22 L904.734 1213.54 L900.046 1224.85 Z\" fill=\"#009af9\" fill-rule=\"evenodd\" fill-opacity=\"1\" stroke=\"#000000\" stroke-opacity=\"1\" stroke-width=\"3.2\"/>\n",
       "<path clip-path=\"url(#clip5102)\" d=\"M916.336 1229.54 L905.024 1224.85 L900.336 1213.54 L905.024 1202.22 L916.336 1197.54 L927.648 1202.22 L932.336 1213.54 L927.648 1224.85 Z\" fill=\"#009af9\" fill-rule=\"evenodd\" fill-opacity=\"1\" stroke=\"#000000\" stroke-opacity=\"1\" stroke-width=\"3.2\"/>\n",
       "<path clip-path=\"url(#clip5102)\" d=\"M943.938 1229.54 L932.626 1224.85 L927.938 1213.54 L932.626 1202.22 L943.938 1197.54 L955.25 1202.22 L959.938 1213.54 L955.25 1224.85 Z\" fill=\"#009af9\" fill-rule=\"evenodd\" fill-opacity=\"1\" stroke=\"#000000\" stroke-opacity=\"1\" stroke-width=\"3.2\"/>\n",
       "<path clip-path=\"url(#clip5102)\" d=\"M971.541 1229.53 L960.229 1224.84 L955.541 1213.53 L960.229 1202.22 L971.541 1197.53 L982.853 1202.22 L987.541 1213.53 L982.853 1224.84 Z\" fill=\"#009af9\" fill-rule=\"evenodd\" fill-opacity=\"1\" stroke=\"#000000\" stroke-opacity=\"1\" stroke-width=\"3.2\"/>\n",
       "<path clip-path=\"url(#clip5102)\" d=\"M999.143 1229.53 L987.831 1224.84 L983.143 1213.53 L987.831 1202.22 L999.143 1197.53 L1010.45 1202.22 L1015.14 1213.53 L1010.45 1224.84 Z\" fill=\"#009af9\" fill-rule=\"evenodd\" fill-opacity=\"1\" stroke=\"#000000\" stroke-opacity=\"1\" stroke-width=\"3.2\"/>\n",
       "<path clip-path=\"url(#clip5102)\" d=\"M1026.75 1229.52 L1015.43 1224.84 L1010.75 1213.52 L1015.43 1202.21 L1026.75 1197.52 L1038.06 1202.21 L1042.75 1213.52 L1038.06 1224.84 Z\" fill=\"#009af9\" fill-rule=\"evenodd\" fill-opacity=\"1\" stroke=\"#000000\" stroke-opacity=\"1\" stroke-width=\"3.2\"/>\n",
       "<path clip-path=\"url(#clip5102)\" d=\"M1054.35 1229.52 L1043.04 1224.84 L1038.35 1213.52 L1043.04 1202.21 L1054.35 1197.52 L1065.66 1202.21 L1070.35 1213.52 L1065.66 1224.84 Z\" fill=\"#009af9\" fill-rule=\"evenodd\" fill-opacity=\"1\" stroke=\"#000000\" stroke-opacity=\"1\" stroke-width=\"3.2\"/>\n",
       "<path clip-path=\"url(#clip5102)\" d=\"M1081.95 1229.52 L1070.64 1224.84 L1065.95 1213.52 L1070.64 1202.21 L1081.95 1197.52 L1093.26 1202.21 L1097.95 1213.52 L1093.26 1224.84 Z\" fill=\"#009af9\" fill-rule=\"evenodd\" fill-opacity=\"1\" stroke=\"#000000\" stroke-opacity=\"1\" stroke-width=\"3.2\"/>\n",
       "<path clip-path=\"url(#clip5102)\" d=\"M1109.55 1229.52 L1098.24 1224.84 L1093.55 1213.52 L1098.24 1202.21 L1109.55 1197.52 L1120.86 1202.21 L1125.55 1213.52 L1120.86 1224.84 Z\" fill=\"#009af9\" fill-rule=\"evenodd\" fill-opacity=\"1\" stroke=\"#000000\" stroke-opacity=\"1\" stroke-width=\"3.2\"/>\n",
       "<path clip-path=\"url(#clip5102)\" d=\"M1137.15 1229.52 L1125.84 1224.84 L1121.15 1213.52 L1125.84 1202.21 L1137.15 1197.52 L1148.47 1202.21 L1153.15 1213.52 L1148.47 1224.84 Z\" fill=\"#009af9\" fill-rule=\"evenodd\" fill-opacity=\"1\" stroke=\"#000000\" stroke-opacity=\"1\" stroke-width=\"3.2\"/>\n",
       "<path clip-path=\"url(#clip5102)\" d=\"M1164.76 1229.52 L1153.44 1224.84 L1148.76 1213.52 L1153.44 1202.21 L1164.76 1197.52 L1176.07 1202.21 L1180.76 1213.52 L1176.07 1224.84 Z\" fill=\"#009af9\" fill-rule=\"evenodd\" fill-opacity=\"1\" stroke=\"#000000\" stroke-opacity=\"1\" stroke-width=\"3.2\"/>\n",
       "<path clip-path=\"url(#clip5102)\" d=\"M1192.36 1229.52 L1181.05 1224.84 L1176.36 1213.52 L1181.05 1202.21 L1192.36 1197.52 L1203.67 1202.21 L1208.36 1213.52 L1203.67 1224.84 Z\" fill=\"#009af9\" fill-rule=\"evenodd\" fill-opacity=\"1\" stroke=\"#000000\" stroke-opacity=\"1\" stroke-width=\"3.2\"/>\n",
       "<path clip-path=\"url(#clip5102)\" d=\"M1219.96 1229.52 L1208.65 1224.84 L1203.96 1213.52 L1208.65 1202.21 L1219.96 1197.52 L1231.27 1202.21 L1235.96 1213.52 L1231.27 1224.84 Z\" fill=\"#009af9\" fill-rule=\"evenodd\" fill-opacity=\"1\" stroke=\"#000000\" stroke-opacity=\"1\" stroke-width=\"3.2\"/>\n",
       "<path clip-path=\"url(#clip5102)\" d=\"M1247.56 1229.51 L1236.25 1224.82 L1231.56 1213.51 L1236.25 1202.2 L1247.56 1197.51 L1258.87 1202.2 L1263.56 1213.51 L1258.87 1224.82 Z\" fill=\"#009af9\" fill-rule=\"evenodd\" fill-opacity=\"1\" stroke=\"#000000\" stroke-opacity=\"1\" stroke-width=\"3.2\"/>\n",
       "<path clip-path=\"url(#clip5102)\" d=\"M1275.17 1229.51 L1263.85 1224.82 L1259.17 1213.51 L1263.85 1202.2 L1275.17 1197.51 L1286.48 1202.2 L1291.17 1213.51 L1286.48 1224.82 Z\" fill=\"#009af9\" fill-rule=\"evenodd\" fill-opacity=\"1\" stroke=\"#000000\" stroke-opacity=\"1\" stroke-width=\"3.2\"/>\n",
       "<path clip-path=\"url(#clip5102)\" d=\"M1302.77 1229.51 L1291.46 1224.82 L1286.77 1213.51 L1291.46 1202.2 L1302.77 1197.51 L1314.08 1202.2 L1318.77 1213.51 L1314.08 1224.82 Z\" fill=\"#009af9\" fill-rule=\"evenodd\" fill-opacity=\"1\" stroke=\"#000000\" stroke-opacity=\"1\" stroke-width=\"3.2\"/>\n",
       "<path clip-path=\"url(#clip5102)\" d=\"M1330.37 1229.27 L1319.06 1224.59 L1314.37 1213.27 L1319.06 1201.96 L1330.37 1197.27 L1341.68 1201.96 L1346.37 1213.27 L1341.68 1224.59 Z\" fill=\"#009af9\" fill-rule=\"evenodd\" fill-opacity=\"1\" stroke=\"#000000\" stroke-opacity=\"1\" stroke-width=\"3.2\"/>\n",
       "<path clip-path=\"url(#clip5102)\" d=\"M1357.97 1229.27 L1346.66 1224.59 L1341.97 1213.27 L1346.66 1201.96 L1357.97 1197.27 L1369.28 1201.96 L1373.97 1213.27 L1369.28 1224.59 Z\" fill=\"#009af9\" fill-rule=\"evenodd\" fill-opacity=\"1\" stroke=\"#000000\" stroke-opacity=\"1\" stroke-width=\"3.2\"/>\n",
       "<path clip-path=\"url(#clip5102)\" d=\"M1385.57 1229.24 L1374.26 1224.55 L1369.57 1213.24 L1374.26 1201.92 L1385.57 1197.24 L1396.89 1201.92 L1401.57 1213.24 L1396.89 1224.55 Z\" fill=\"#009af9\" fill-rule=\"evenodd\" fill-opacity=\"1\" stroke=\"#000000\" stroke-opacity=\"1\" stroke-width=\"3.2\"/>\n",
       "<path clip-path=\"url(#clip5102)\" d=\"M1413.18 1229.23 L1401.86 1224.54 L1397.18 1213.23 L1401.86 1201.92 L1413.18 1197.23 L1424.49 1201.92 L1429.18 1213.23 L1424.49 1224.54 Z\" fill=\"#009af9\" fill-rule=\"evenodd\" fill-opacity=\"1\" stroke=\"#000000\" stroke-opacity=\"1\" stroke-width=\"3.2\"/>\n",
       "<path clip-path=\"url(#clip5102)\" d=\"M1440.78 1229.22 L1429.47 1224.53 L1424.78 1213.22 L1429.47 1201.9 L1440.78 1197.22 L1452.09 1201.9 L1456.78 1213.22 L1452.09 1224.53 Z\" fill=\"#009af9\" fill-rule=\"evenodd\" fill-opacity=\"1\" stroke=\"#000000\" stroke-opacity=\"1\" stroke-width=\"3.2\"/>\n",
       "<path clip-path=\"url(#clip5102)\" d=\"M1468.38 1229.16 L1457.07 1224.48 L1452.38 1213.16 L1457.07 1201.85 L1468.38 1197.16 L1479.69 1201.85 L1484.38 1213.16 L1479.69 1224.48 Z\" fill=\"#009af9\" fill-rule=\"evenodd\" fill-opacity=\"1\" stroke=\"#000000\" stroke-opacity=\"1\" stroke-width=\"3.2\"/>\n",
       "<path clip-path=\"url(#clip5102)\" d=\"M1495.98 1229.12 L1484.67 1224.44 L1479.98 1213.12 L1484.67 1201.81 L1495.98 1197.12 L1507.29 1201.81 L1511.98 1213.12 L1507.29 1224.44 Z\" fill=\"#009af9\" fill-rule=\"evenodd\" fill-opacity=\"1\" stroke=\"#000000\" stroke-opacity=\"1\" stroke-width=\"3.2\"/>\n",
       "<path clip-path=\"url(#clip5102)\" d=\"M1523.59 1228.97 L1512.27 1224.28 L1507.59 1212.97 L1512.27 1201.65 L1523.59 1196.97 L1534.9 1201.65 L1539.59 1212.97 L1534.9 1224.28 Z\" fill=\"#009af9\" fill-rule=\"evenodd\" fill-opacity=\"1\" stroke=\"#000000\" stroke-opacity=\"1\" stroke-width=\"3.2\"/>\n",
       "<path clip-path=\"url(#clip5102)\" d=\"M1551.19 1228.84 L1539.88 1224.15 L1535.19 1212.84 L1539.88 1201.52 L1551.19 1196.84 L1562.5 1201.52 L1567.19 1212.84 L1562.5 1224.15 Z\" fill=\"#009af9\" fill-rule=\"evenodd\" fill-opacity=\"1\" stroke=\"#000000\" stroke-opacity=\"1\" stroke-width=\"3.2\"/>\n",
       "<path clip-path=\"url(#clip5102)\" d=\"M1578.79 1228.63 L1567.48 1223.94 L1562.79 1212.63 L1567.48 1201.32 L1578.79 1196.63 L1590.1 1201.32 L1594.79 1212.63 L1590.1 1223.94 Z\" fill=\"#009af9\" fill-rule=\"evenodd\" fill-opacity=\"1\" stroke=\"#000000\" stroke-opacity=\"1\" stroke-width=\"3.2\"/>\n",
       "<path clip-path=\"url(#clip5102)\" d=\"M1606.39 1228.19 L1595.08 1223.5 L1590.39 1212.19 L1595.08 1200.88 L1606.39 1196.19 L1617.7 1200.88 L1622.39 1212.19 L1617.7 1223.5 Z\" fill=\"#009af9\" fill-rule=\"evenodd\" fill-opacity=\"1\" stroke=\"#000000\" stroke-opacity=\"1\" stroke-width=\"3.2\"/>\n",
       "<path clip-path=\"url(#clip5102)\" d=\"M1633.99 1227.89 L1622.68 1223.2 L1617.99 1211.89 L1622.68 1200.58 L1633.99 1195.89 L1645.31 1200.58 L1649.99 1211.89 L1645.31 1223.2 Z\" fill=\"#009af9\" fill-rule=\"evenodd\" fill-opacity=\"1\" stroke=\"#000000\" stroke-opacity=\"1\" stroke-width=\"3.2\"/>\n",
       "<path clip-path=\"url(#clip5102)\" d=\"M1661.6 1226.98 L1650.28 1222.29 L1645.6 1210.98 L1650.28 1199.66 L1661.6 1194.98 L1672.91 1199.66 L1677.6 1210.98 L1672.91 1222.29 Z\" fill=\"#009af9\" fill-rule=\"evenodd\" fill-opacity=\"1\" stroke=\"#000000\" stroke-opacity=\"1\" stroke-width=\"3.2\"/>\n",
       "<path clip-path=\"url(#clip5102)\" d=\"M1689.2 1226.22 L1677.89 1221.53 L1673.2 1210.22 L1677.89 1198.9 L1689.2 1194.22 L1700.51 1198.9 L1705.2 1210.22 L1700.51 1221.53 Z\" fill=\"#009af9\" fill-rule=\"evenodd\" fill-opacity=\"1\" stroke=\"#000000\" stroke-opacity=\"1\" stroke-width=\"3.2\"/>\n",
       "<path clip-path=\"url(#clip5102)\" d=\"M1716.8 1225.79 L1705.49 1221.1 L1700.8 1209.79 L1705.49 1198.48 L1716.8 1193.79 L1728.11 1198.48 L1732.8 1209.79 L1728.11 1221.1 Z\" fill=\"#009af9\" fill-rule=\"evenodd\" fill-opacity=\"1\" stroke=\"#000000\" stroke-opacity=\"1\" stroke-width=\"3.2\"/>\n",
       "<path clip-path=\"url(#clip5102)\" d=\"M1744.4 1223.33 L1733.09 1218.64 L1728.4 1207.33 L1733.09 1196.01 L1744.4 1191.33 L1755.71 1196.01 L1760.4 1207.33 L1755.71 1218.64 Z\" fill=\"#009af9\" fill-rule=\"evenodd\" fill-opacity=\"1\" stroke=\"#000000\" stroke-opacity=\"1\" stroke-width=\"3.2\"/>\n",
       "<path clip-path=\"url(#clip5102)\" d=\"M1772.01 1221.22 L1760.69 1216.53 L1756.01 1205.22 L1760.69 1193.9 L1772.01 1189.22 L1783.32 1193.9 L1788.01 1205.22 L1783.32 1216.53 Z\" fill=\"#009af9\" fill-rule=\"evenodd\" fill-opacity=\"1\" stroke=\"#000000\" stroke-opacity=\"1\" stroke-width=\"3.2\"/>\n",
       "<path clip-path=\"url(#clip5102)\" d=\"M1799.61 1218.71 L1788.3 1214.03 L1783.61 1202.71 L1788.3 1191.4 L1799.61 1186.71 L1810.92 1191.4 L1815.61 1202.71 L1810.92 1214.03 Z\" fill=\"#009af9\" fill-rule=\"evenodd\" fill-opacity=\"1\" stroke=\"#000000\" stroke-opacity=\"1\" stroke-width=\"3.2\"/>\n",
       "<path clip-path=\"url(#clip5102)\" d=\"M1827.21 1215.33 L1815.9 1210.64 L1811.21 1199.33 L1815.9 1188.02 L1827.21 1183.33 L1838.52 1188.02 L1843.21 1199.33 L1838.52 1210.64 Z\" fill=\"#009af9\" fill-rule=\"evenodd\" fill-opacity=\"1\" stroke=\"#000000\" stroke-opacity=\"1\" stroke-width=\"3.2\"/>\n",
       "<path clip-path=\"url(#clip5102)\" d=\"M1854.81 1211.74 L1843.5 1207.05 L1838.81 1195.74 L1843.5 1184.43 L1854.81 1179.74 L1866.12 1184.43 L1870.81 1195.74 L1866.12 1207.05 Z\" fill=\"#009af9\" fill-rule=\"evenodd\" fill-opacity=\"1\" stroke=\"#000000\" stroke-opacity=\"1\" stroke-width=\"3.2\"/>\n",
       "<path clip-path=\"url(#clip5102)\" d=\"M1882.41 1206.68 L1871.1 1202 L1866.41 1190.68 L1871.1 1179.37 L1882.41 1174.68 L1893.73 1179.37 L1898.41 1190.68 L1893.73 1202 Z\" fill=\"#009af9\" fill-rule=\"evenodd\" fill-opacity=\"1\" stroke=\"#000000\" stroke-opacity=\"1\" stroke-width=\"3.2\"/>\n",
       "<path clip-path=\"url(#clip5102)\" d=\"M1910.02 1199.26 L1898.7 1194.57 L1894.02 1183.26 L1898.7 1171.95 L1910.02 1167.26 L1921.33 1171.95 L1926.02 1183.26 L1921.33 1194.57 Z\" fill=\"#009af9\" fill-rule=\"evenodd\" fill-opacity=\"1\" stroke=\"#000000\" stroke-opacity=\"1\" stroke-width=\"3.2\"/>\n",
       "<path clip-path=\"url(#clip5102)\" d=\"M1937.62 1187.54 L1926.31 1182.85 L1921.62 1171.54 L1926.31 1160.23 L1937.62 1155.54 L1948.93 1160.23 L1953.62 1171.54 L1948.93 1182.85 Z\" fill=\"#009af9\" fill-rule=\"evenodd\" fill-opacity=\"1\" stroke=\"#000000\" stroke-opacity=\"1\" stroke-width=\"3.2\"/>\n",
       "<path clip-path=\"url(#clip5102)\" d=\"M1965.22 1178.62 L1953.91 1173.93 L1949.22 1162.62 L1953.91 1151.3 L1965.22 1146.62 L1976.53 1151.3 L1981.22 1162.62 L1976.53 1173.93 Z\" fill=\"#009af9\" fill-rule=\"evenodd\" fill-opacity=\"1\" stroke=\"#000000\" stroke-opacity=\"1\" stroke-width=\"3.2\"/>\n",
       "<path clip-path=\"url(#clip5102)\" d=\"M1992.82 1140 L1981.51 1135.31 L1976.82 1124 L1981.51 1112.69 L1992.82 1108 L2004.13 1112.69 L2008.82 1124 L2004.13 1135.31 Z\" fill=\"#009af9\" fill-rule=\"evenodd\" fill-opacity=\"1\" stroke=\"#000000\" stroke-opacity=\"1\" stroke-width=\"3.2\"/>\n",
       "<path clip-path=\"url(#clip5102)\" d=\"M2020.43 1104.47 L2009.11 1099.78 L2004.43 1088.47 L2009.11 1077.16 L2020.43 1072.47 L2031.74 1077.16 L2036.43 1088.47 L2031.74 1099.78 Z\" fill=\"#009af9\" fill-rule=\"evenodd\" fill-opacity=\"1\" stroke=\"#000000\" stroke-opacity=\"1\" stroke-width=\"3.2\"/>\n",
       "<path clip-path=\"url(#clip5102)\" d=\"M2048.03 1062.61 L2036.72 1057.92 L2032.03 1046.61 L2036.72 1035.3 L2048.03 1030.61 L2059.34 1035.3 L2064.03 1046.61 L2059.34 1057.92 Z\" fill=\"#009af9\" fill-rule=\"evenodd\" fill-opacity=\"1\" stroke=\"#000000\" stroke-opacity=\"1\" stroke-width=\"3.2\"/>\n",
       "<path clip-path=\"url(#clip5102)\" d=\"M2075.63 1011.59 L2064.32 1006.9 L2059.63 995.591 L2064.32 984.279 L2075.63 979.591 L2086.94 984.279 L2091.63 995.591 L2086.94 1006.9 Z\" fill=\"#009af9\" fill-rule=\"evenodd\" fill-opacity=\"1\" stroke=\"#000000\" stroke-opacity=\"1\" stroke-width=\"3.2\"/>\n",
       "<path clip-path=\"url(#clip5102)\" d=\"M2103.23 942.331 L2091.92 937.643 L2087.23 926.331 L2091.92 915.019 L2103.23 910.331 L2114.54 915.019 L2119.23 926.331 L2114.54 937.643 Z\" fill=\"#009af9\" fill-rule=\"evenodd\" fill-opacity=\"1\" stroke=\"#000000\" stroke-opacity=\"1\" stroke-width=\"3.2\"/>\n",
       "<path clip-path=\"url(#clip5102)\" d=\"M2130.83 877.514 L2119.52 872.826 L2114.83 861.514 L2119.52 850.202 L2130.83 845.514 L2142.15 850.202 L2146.83 861.514 L2142.15 872.826 Z\" fill=\"#009af9\" fill-rule=\"evenodd\" fill-opacity=\"1\" stroke=\"#000000\" stroke-opacity=\"1\" stroke-width=\"3.2\"/>\n",
       "<path clip-path=\"url(#clip5102)\" d=\"M2158.44 798.643 L2147.12 793.955 L2142.44 782.643 L2147.12 771.331 L2158.44 766.643 L2169.75 771.331 L2174.44 782.643 L2169.75 793.955 Z\" fill=\"#009af9\" fill-rule=\"evenodd\" fill-opacity=\"1\" stroke=\"#000000\" stroke-opacity=\"1\" stroke-width=\"3.2\"/>\n",
       "<path clip-path=\"url(#clip5102)\" d=\"M2186.04 680.331 L2174.73 675.643 L2170.04 664.331 L2174.73 653.019 L2186.04 648.331 L2197.35 653.019 L2202.04 664.331 L2197.35 675.643 Z\" fill=\"#009af9\" fill-rule=\"evenodd\" fill-opacity=\"1\" stroke=\"#000000\" stroke-opacity=\"1\" stroke-width=\"3.2\"/>\n",
       "<path clip-path=\"url(#clip5102)\" d=\"M2213.64 563.571 L2202.33 558.883 L2197.64 547.571 L2202.33 536.259 L2213.64 531.571 L2224.95 536.259 L2229.64 547.571 L2224.95 558.883 Z\" fill=\"#009af9\" fill-rule=\"evenodd\" fill-opacity=\"1\" stroke=\"#000000\" stroke-opacity=\"1\" stroke-width=\"3.2\"/>\n",
       "<path clip-path=\"url(#clip5102)\" d=\"M2241.24 433.707 L2229.93 429.019 L2225.24 417.707 L2229.93 406.395 L2241.24 401.707 L2252.55 406.395 L2257.24 417.707 L2252.55 429.019 Z\" fill=\"#009af9\" fill-rule=\"evenodd\" fill-opacity=\"1\" stroke=\"#000000\" stroke-opacity=\"1\" stroke-width=\"3.2\"/>\n",
       "<path clip-path=\"url(#clip5102)\" d=\"M2268.85 306.549 L2257.53 301.861 L2252.85 290.549 L2257.53 279.237 L2268.85 274.549 L2280.16 279.237 L2284.85 290.549 L2280.16 301.861 Z\" fill=\"#009af9\" fill-rule=\"evenodd\" fill-opacity=\"1\" stroke=\"#000000\" stroke-opacity=\"1\" stroke-width=\"3.2\"/>\n",
       "<path clip-path=\"url(#clip5102)\" d=\"M2296.45 169.479 L2285.14 164.791 L2280.45 153.479 L2285.14 142.167 L2296.45 137.479 L2307.76 142.167 L2312.45 153.479 L2307.76 164.791 Z\" fill=\"#009af9\" fill-rule=\"evenodd\" fill-opacity=\"1\" stroke=\"#000000\" stroke-opacity=\"1\" stroke-width=\"3.2\"/>\n",
       "<path clip-path=\"url(#clip5100)\" d=\"\n",
       "M435.188 326.155 L849.095 326.155 L849.095 205.195 L435.188 205.195  Z\n",
       "  \" fill=\"#ffffff\" fill-rule=\"evenodd\" fill-opacity=\"1\"/>\n",
       "<polyline clip-path=\"url(#clip5100)\" style=\"stroke:#000000; stroke-width:4; stroke-opacity:1; fill:none\" points=\"\n",
       "  435.188,326.155 849.095,326.155 849.095,205.195 435.188,205.195 435.188,326.155 \n",
       "  \"/>\n",
       "<polyline clip-path=\"url(#clip5100)\" style=\"stroke:#009af9; stroke-width:4; stroke-opacity:1; fill:none\" points=\"\n",
       "  459.188,265.675 603.188,265.675 \n",
       "  \"/>\n",
       "<path clip-path=\"url(#clip5100)\" d=\"M543.188 289.675 L526.22 282.643 L519.188 265.675 L526.22 248.707 L543.188 241.675 L560.156 248.707 L567.188 265.675 L560.156 282.643 Z\" fill=\"#009af9\" fill-rule=\"evenodd\" fill-opacity=\"1\" stroke=\"#000000\" stroke-opacity=\"1\" stroke-width=\"3.2\"/>\n",
       "<g clip-path=\"url(#clip5100)\">\n",
       "<text style=\"fill:#000000; fill-opacity:1; font-family:Arial,Helvetica Neue,Helvetica,sans-serif; font-size:48px; text-anchor:start;\" transform=\"rotate(0, 627.188, 283.175)\" x=\"627.188\" y=\"283.175\">US data</text>\n",
       "</g>\n",
       "</svg>\n"
      ]
     },
     "execution_count": 78,
     "metadata": {},
     "output_type": "execute_result"
    }
   ],
   "source": [
    "plot(dates, US_data, xticks=dates[1:5:end], xrotation=45, leg=:topleft, \n",
    "    label=\"US data\", m=:o)\n",
    "\n",
    "xlabel!(\"date\")\n",
    "ylabel!(\"confirmed cases in US\")\n",
    "title!(\"US confirmed COVID-19 cases\")\n",
    "\n",
    "# annotate!(20, US_data[end], text(\"US\", :blue, :left))"
   ]
  },
  {
   "cell_type": "code",
   "execution_count": 79,
   "metadata": {},
   "outputs": [
    {
     "data": {
      "image/svg+xml": [
       "<?xml version=\"1.0\" encoding=\"utf-8\"?>\n",
       "<svg xmlns=\"http://www.w3.org/2000/svg\" xmlns:xlink=\"http://www.w3.org/1999/xlink\" width=\"600\" height=\"400\" viewBox=\"0 0 2400 1600\">\n",
       "<defs>\n",
       "  <clipPath id=\"clip5500\">\n",
       "    <rect x=\"0\" y=\"0\" width=\"2400\" height=\"1600\"/>\n",
       "  </clipPath>\n",
       "</defs>\n",
       "<path clip-path=\"url(#clip5500)\" d=\"\n",
       "M0 1600 L2400 1600 L2400 0 L0 0  Z\n",
       "  \" fill=\"#ffffff\" fill-rule=\"evenodd\" fill-opacity=\"1\"/>\n",
       "<defs>\n",
       "  <clipPath id=\"clip5501\">\n",
       "    <rect x=\"480\" y=\"0\" width=\"1681\" height=\"1600\"/>\n",
       "  </clipPath>\n",
       "</defs>\n",
       "<path clip-path=\"url(#clip5500)\" d=\"\n",
       "M251.71 1245.41 L2352.76 1245.41 L2352.76 121.675 L251.71 121.675  Z\n",
       "  \" fill=\"#ffffff\" fill-rule=\"evenodd\" fill-opacity=\"1\"/>\n",
       "<defs>\n",
       "  <clipPath id=\"clip5502\">\n",
       "    <rect x=\"251\" y=\"121\" width=\"2102\" height=\"1125\"/>\n",
       "  </clipPath>\n",
       "</defs>\n",
       "<polyline clip-path=\"url(#clip5502)\" style=\"stroke:#000000; stroke-width:2; stroke-opacity:0.1; fill:none\" points=\"\n",
       "  311.174,1245.41 311.174,121.675 \n",
       "  \"/>\n",
       "<polyline clip-path=\"url(#clip5502)\" style=\"stroke:#000000; stroke-width:2; stroke-opacity:0.1; fill:none\" points=\"\n",
       "  456.918,1245.41 456.918,121.675 \n",
       "  \"/>\n",
       "<polyline clip-path=\"url(#clip5502)\" style=\"stroke:#000000; stroke-width:2; stroke-opacity:0.1; fill:none\" points=\"\n",
       "  602.662,1245.41 602.662,121.675 \n",
       "  \"/>\n",
       "<polyline clip-path=\"url(#clip5502)\" style=\"stroke:#000000; stroke-width:2; stroke-opacity:0.1; fill:none\" points=\"\n",
       "  748.406,1245.41 748.406,121.675 \n",
       "  \"/>\n",
       "<polyline clip-path=\"url(#clip5502)\" style=\"stroke:#000000; stroke-width:2; stroke-opacity:0.1; fill:none\" points=\"\n",
       "  894.15,1245.41 894.15,121.675 \n",
       "  \"/>\n",
       "<polyline clip-path=\"url(#clip5502)\" style=\"stroke:#000000; stroke-width:2; stroke-opacity:0.1; fill:none\" points=\"\n",
       "  1039.89,1245.41 1039.89,121.675 \n",
       "  \"/>\n",
       "<polyline clip-path=\"url(#clip5502)\" style=\"stroke:#000000; stroke-width:2; stroke-opacity:0.1; fill:none\" points=\"\n",
       "  1185.64,1245.41 1185.64,121.675 \n",
       "  \"/>\n",
       "<polyline clip-path=\"url(#clip5502)\" style=\"stroke:#000000; stroke-width:2; stroke-opacity:0.1; fill:none\" points=\"\n",
       "  1331.38,1245.41 1331.38,121.675 \n",
       "  \"/>\n",
       "<polyline clip-path=\"url(#clip5502)\" style=\"stroke:#000000; stroke-width:2; stroke-opacity:0.1; fill:none\" points=\"\n",
       "  1477.13,1245.41 1477.13,121.675 \n",
       "  \"/>\n",
       "<polyline clip-path=\"url(#clip5502)\" style=\"stroke:#000000; stroke-width:2; stroke-opacity:0.1; fill:none\" points=\"\n",
       "  1622.87,1245.41 1622.87,121.675 \n",
       "  \"/>\n",
       "<polyline clip-path=\"url(#clip5502)\" style=\"stroke:#000000; stroke-width:2; stroke-opacity:0.1; fill:none\" points=\"\n",
       "  1768.61,1245.41 1768.61,121.675 \n",
       "  \"/>\n",
       "<polyline clip-path=\"url(#clip5502)\" style=\"stroke:#000000; stroke-width:2; stroke-opacity:0.1; fill:none\" points=\"\n",
       "  1914.36,1245.41 1914.36,121.675 \n",
       "  \"/>\n",
       "<polyline clip-path=\"url(#clip5502)\" style=\"stroke:#000000; stroke-width:2; stroke-opacity:0.1; fill:none\" points=\"\n",
       "  2060.1,1245.41 2060.1,121.675 \n",
       "  \"/>\n",
       "<polyline clip-path=\"url(#clip5502)\" style=\"stroke:#000000; stroke-width:2; stroke-opacity:0.1; fill:none\" points=\"\n",
       "  2205.85,1245.41 2205.85,121.675 \n",
       "  \"/>\n",
       "<polyline clip-path=\"url(#clip5502)\" style=\"stroke:#000000; stroke-width:2; stroke-opacity:0.1; fill:none\" points=\"\n",
       "  251.71,1213.6 2352.76,1213.6 \n",
       "  \"/>\n",
       "<polyline clip-path=\"url(#clip5502)\" style=\"stroke:#000000; stroke-width:2; stroke-opacity:0.1; fill:none\" points=\"\n",
       "  251.71,1010.08 2352.76,1010.08 \n",
       "  \"/>\n",
       "<polyline clip-path=\"url(#clip5502)\" style=\"stroke:#000000; stroke-width:2; stroke-opacity:0.1; fill:none\" points=\"\n",
       "  251.71,806.567 2352.76,806.567 \n",
       "  \"/>\n",
       "<polyline clip-path=\"url(#clip5502)\" style=\"stroke:#000000; stroke-width:2; stroke-opacity:0.1; fill:none\" points=\"\n",
       "  251.71,603.049 2352.76,603.049 \n",
       "  \"/>\n",
       "<polyline clip-path=\"url(#clip5502)\" style=\"stroke:#000000; stroke-width:2; stroke-opacity:0.1; fill:none\" points=\"\n",
       "  251.71,399.531 2352.76,399.531 \n",
       "  \"/>\n",
       "<polyline clip-path=\"url(#clip5502)\" style=\"stroke:#000000; stroke-width:2; stroke-opacity:0.1; fill:none\" points=\"\n",
       "  251.71,196.014 2352.76,196.014 \n",
       "  \"/>\n",
       "<polyline clip-path=\"url(#clip5500)\" style=\"stroke:#000000; stroke-width:4; stroke-opacity:1; fill:none\" points=\"\n",
       "  251.71,1245.41 2352.76,1245.41 \n",
       "  \"/>\n",
       "<polyline clip-path=\"url(#clip5500)\" style=\"stroke:#000000; stroke-width:4; stroke-opacity:1; fill:none\" points=\"\n",
       "  251.71,1245.41 251.71,121.675 \n",
       "  \"/>\n",
       "<polyline clip-path=\"url(#clip5500)\" style=\"stroke:#000000; stroke-width:4; stroke-opacity:1; fill:none\" points=\"\n",
       "  311.174,1245.41 311.174,1231.92 \n",
       "  \"/>\n",
       "<polyline clip-path=\"url(#clip5500)\" style=\"stroke:#000000; stroke-width:4; stroke-opacity:1; fill:none\" points=\"\n",
       "  456.918,1245.41 456.918,1231.92 \n",
       "  \"/>\n",
       "<polyline clip-path=\"url(#clip5500)\" style=\"stroke:#000000; stroke-width:4; stroke-opacity:1; fill:none\" points=\"\n",
       "  602.662,1245.41 602.662,1231.92 \n",
       "  \"/>\n",
       "<polyline clip-path=\"url(#clip5500)\" style=\"stroke:#000000; stroke-width:4; stroke-opacity:1; fill:none\" points=\"\n",
       "  748.406,1245.41 748.406,1231.92 \n",
       "  \"/>\n",
       "<polyline clip-path=\"url(#clip5500)\" style=\"stroke:#000000; stroke-width:4; stroke-opacity:1; fill:none\" points=\"\n",
       "  894.15,1245.41 894.15,1231.92 \n",
       "  \"/>\n",
       "<polyline clip-path=\"url(#clip5500)\" style=\"stroke:#000000; stroke-width:4; stroke-opacity:1; fill:none\" points=\"\n",
       "  1039.89,1245.41 1039.89,1231.92 \n",
       "  \"/>\n",
       "<polyline clip-path=\"url(#clip5500)\" style=\"stroke:#000000; stroke-width:4; stroke-opacity:1; fill:none\" points=\"\n",
       "  1185.64,1245.41 1185.64,1231.92 \n",
       "  \"/>\n",
       "<polyline clip-path=\"url(#clip5500)\" style=\"stroke:#000000; stroke-width:4; stroke-opacity:1; fill:none\" points=\"\n",
       "  1331.38,1245.41 1331.38,1231.92 \n",
       "  \"/>\n",
       "<polyline clip-path=\"url(#clip5500)\" style=\"stroke:#000000; stroke-width:4; stroke-opacity:1; fill:none\" points=\"\n",
       "  1477.13,1245.41 1477.13,1231.92 \n",
       "  \"/>\n",
       "<polyline clip-path=\"url(#clip5500)\" style=\"stroke:#000000; stroke-width:4; stroke-opacity:1; fill:none\" points=\"\n",
       "  1622.87,1245.41 1622.87,1231.92 \n",
       "  \"/>\n",
       "<polyline clip-path=\"url(#clip5500)\" style=\"stroke:#000000; stroke-width:4; stroke-opacity:1; fill:none\" points=\"\n",
       "  1768.61,1245.41 1768.61,1231.92 \n",
       "  \"/>\n",
       "<polyline clip-path=\"url(#clip5500)\" style=\"stroke:#000000; stroke-width:4; stroke-opacity:1; fill:none\" points=\"\n",
       "  1914.36,1245.41 1914.36,1231.92 \n",
       "  \"/>\n",
       "<polyline clip-path=\"url(#clip5500)\" style=\"stroke:#000000; stroke-width:4; stroke-opacity:1; fill:none\" points=\"\n",
       "  2060.1,1245.41 2060.1,1231.92 \n",
       "  \"/>\n",
       "<polyline clip-path=\"url(#clip5500)\" style=\"stroke:#000000; stroke-width:4; stroke-opacity:1; fill:none\" points=\"\n",
       "  2205.85,1245.41 2205.85,1231.92 \n",
       "  \"/>\n",
       "<polyline clip-path=\"url(#clip5500)\" style=\"stroke:#000000; stroke-width:4; stroke-opacity:1; fill:none\" points=\"\n",
       "  251.71,1213.6 276.923,1213.6 \n",
       "  \"/>\n",
       "<polyline clip-path=\"url(#clip5500)\" style=\"stroke:#000000; stroke-width:4; stroke-opacity:1; fill:none\" points=\"\n",
       "  251.71,1010.08 276.923,1010.08 \n",
       "  \"/>\n",
       "<polyline clip-path=\"url(#clip5500)\" style=\"stroke:#000000; stroke-width:4; stroke-opacity:1; fill:none\" points=\"\n",
       "  251.71,806.567 276.923,806.567 \n",
       "  \"/>\n",
       "<polyline clip-path=\"url(#clip5500)\" style=\"stroke:#000000; stroke-width:4; stroke-opacity:1; fill:none\" points=\"\n",
       "  251.71,603.049 276.923,603.049 \n",
       "  \"/>\n",
       "<polyline clip-path=\"url(#clip5500)\" style=\"stroke:#000000; stroke-width:4; stroke-opacity:1; fill:none\" points=\"\n",
       "  251.71,399.531 276.923,399.531 \n",
       "  \"/>\n",
       "<polyline clip-path=\"url(#clip5500)\" style=\"stroke:#000000; stroke-width:4; stroke-opacity:1; fill:none\" points=\"\n",
       "  251.71,196.014 276.923,196.014 \n",
       "  \"/>\n",
       "<g clip-path=\"url(#clip5500)\">\n",
       "<text style=\"fill:#000000; fill-opacity:1; font-family:Arial,Helvetica Neue,Helvetica,sans-serif; font-size:48px; text-anchor:end;\" transform=\"rotate(-45, 340.872, 1287.1)\" x=\"340.872\" y=\"1287.1\">2020-01-22</text>\n",
       "</g>\n",
       "<g clip-path=\"url(#clip5500)\">\n",
       "<text style=\"fill:#000000; fill-opacity:1; font-family:Arial,Helvetica Neue,Helvetica,sans-serif; font-size:48px; text-anchor:end;\" transform=\"rotate(-45, 486.616, 1287.1)\" x=\"486.616\" y=\"1287.1\">2020-01-27</text>\n",
       "</g>\n",
       "<g clip-path=\"url(#clip5500)\">\n",
       "<text style=\"fill:#000000; fill-opacity:1; font-family:Arial,Helvetica Neue,Helvetica,sans-serif; font-size:48px; text-anchor:end;\" transform=\"rotate(-45, 632.36, 1287.1)\" x=\"632.36\" y=\"1287.1\">2020-02-01</text>\n",
       "</g>\n",
       "<g clip-path=\"url(#clip5500)\">\n",
       "<text style=\"fill:#000000; fill-opacity:1; font-family:Arial,Helvetica Neue,Helvetica,sans-serif; font-size:48px; text-anchor:end;\" transform=\"rotate(-45, 778.104, 1287.1)\" x=\"778.104\" y=\"1287.1\">2020-02-06</text>\n",
       "</g>\n",
       "<g clip-path=\"url(#clip5500)\">\n",
       "<text style=\"fill:#000000; fill-opacity:1; font-family:Arial,Helvetica Neue,Helvetica,sans-serif; font-size:48px; text-anchor:end;\" transform=\"rotate(-45, 923.848, 1287.1)\" x=\"923.848\" y=\"1287.1\">2020-02-11</text>\n",
       "</g>\n",
       "<g clip-path=\"url(#clip5500)\">\n",
       "<text style=\"fill:#000000; fill-opacity:1; font-family:Arial,Helvetica Neue,Helvetica,sans-serif; font-size:48px; text-anchor:end;\" transform=\"rotate(-45, 1069.59, 1287.1)\" x=\"1069.59\" y=\"1287.1\">2020-02-16</text>\n",
       "</g>\n",
       "<g clip-path=\"url(#clip5500)\">\n",
       "<text style=\"fill:#000000; fill-opacity:1; font-family:Arial,Helvetica Neue,Helvetica,sans-serif; font-size:48px; text-anchor:end;\" transform=\"rotate(-45, 1215.34, 1287.1)\" x=\"1215.34\" y=\"1287.1\">2020-02-21</text>\n",
       "</g>\n",
       "<g clip-path=\"url(#clip5500)\">\n",
       "<text style=\"fill:#000000; fill-opacity:1; font-family:Arial,Helvetica Neue,Helvetica,sans-serif; font-size:48px; text-anchor:end;\" transform=\"rotate(-45, 1361.08, 1287.1)\" x=\"1361.08\" y=\"1287.1\">2020-02-26</text>\n",
       "</g>\n",
       "<g clip-path=\"url(#clip5500)\">\n",
       "<text style=\"fill:#000000; fill-opacity:1; font-family:Arial,Helvetica Neue,Helvetica,sans-serif; font-size:48px; text-anchor:end;\" transform=\"rotate(-45, 1506.82, 1287.1)\" x=\"1506.82\" y=\"1287.1\">2020-03-02</text>\n",
       "</g>\n",
       "<g clip-path=\"url(#clip5500)\">\n",
       "<text style=\"fill:#000000; fill-opacity:1; font-family:Arial,Helvetica Neue,Helvetica,sans-serif; font-size:48px; text-anchor:end;\" transform=\"rotate(-45, 1652.57, 1287.1)\" x=\"1652.57\" y=\"1287.1\">2020-03-07</text>\n",
       "</g>\n",
       "<g clip-path=\"url(#clip5500)\">\n",
       "<text style=\"fill:#000000; fill-opacity:1; font-family:Arial,Helvetica Neue,Helvetica,sans-serif; font-size:48px; text-anchor:end;\" transform=\"rotate(-45, 1798.31, 1287.1)\" x=\"1798.31\" y=\"1287.1\">2020-03-12</text>\n",
       "</g>\n",
       "<g clip-path=\"url(#clip5500)\">\n",
       "<text style=\"fill:#000000; fill-opacity:1; font-family:Arial,Helvetica Neue,Helvetica,sans-serif; font-size:48px; text-anchor:end;\" transform=\"rotate(-45, 1944.06, 1287.1)\" x=\"1944.06\" y=\"1287.1\">2020-03-17</text>\n",
       "</g>\n",
       "<g clip-path=\"url(#clip5500)\">\n",
       "<text style=\"fill:#000000; fill-opacity:1; font-family:Arial,Helvetica Neue,Helvetica,sans-serif; font-size:48px; text-anchor:end;\" transform=\"rotate(-45, 2089.8, 1287.1)\" x=\"2089.8\" y=\"1287.1\">2020-03-22</text>\n",
       "</g>\n",
       "<g clip-path=\"url(#clip5500)\">\n",
       "<text style=\"fill:#000000; fill-opacity:1; font-family:Arial,Helvetica Neue,Helvetica,sans-serif; font-size:48px; text-anchor:end;\" transform=\"rotate(-45, 2235.54, 1287.1)\" x=\"2235.54\" y=\"1287.1\">2020-03-27</text>\n",
       "</g>\n",
       "<g clip-path=\"url(#clip5500)\">\n",
       "<text style=\"fill:#000000; fill-opacity:1; font-family:Arial,Helvetica Neue,Helvetica,sans-serif; font-size:48px; text-anchor:start;\" transform=\"rotate(0, 152.441, 1237.33)\" x=\"152.441\" y=\"1237.33\">10</text>\n",
       "</g>\n",
       "<g clip-path=\"url(#clip5500)\">\n",
       "<text style=\"fill:#000000; fill-opacity:1; font-family:Arial,Helvetica Neue,Helvetica,sans-serif; font-size:38px; text-anchor:start;\" transform=\"rotate(0, 205.966, 1209.92)\" x=\"205.966\" y=\"1209.92\">0</text>\n",
       "</g>\n",
       "<g clip-path=\"url(#clip5500)\">\n",
       "<text style=\"fill:#000000; fill-opacity:1; font-family:Arial,Helvetica Neue,Helvetica,sans-serif; font-size:48px; text-anchor:start;\" transform=\"rotate(0, 152.441, 1033.81)\" x=\"152.441\" y=\"1033.81\">10</text>\n",
       "</g>\n",
       "<g clip-path=\"url(#clip5500)\">\n",
       "<text style=\"fill:#000000; fill-opacity:1; font-family:Arial,Helvetica Neue,Helvetica,sans-serif; font-size:38px; text-anchor:start;\" transform=\"rotate(0, 205.966, 1006.4)\" x=\"205.966\" y=\"1006.4\">1</text>\n",
       "</g>\n",
       "<g clip-path=\"url(#clip5500)\">\n",
       "<text style=\"fill:#000000; fill-opacity:1; font-family:Arial,Helvetica Neue,Helvetica,sans-serif; font-size:48px; text-anchor:start;\" transform=\"rotate(0, 152.441, 830.294)\" x=\"152.441\" y=\"830.294\">10</text>\n",
       "</g>\n",
       "<g clip-path=\"url(#clip5500)\">\n",
       "<text style=\"fill:#000000; fill-opacity:1; font-family:Arial,Helvetica Neue,Helvetica,sans-serif; font-size:38px; text-anchor:start;\" transform=\"rotate(0, 205.966, 802.884)\" x=\"205.966\" y=\"802.884\">2</text>\n",
       "</g>\n",
       "<g clip-path=\"url(#clip5500)\">\n",
       "<text style=\"fill:#000000; fill-opacity:1; font-family:Arial,Helvetica Neue,Helvetica,sans-serif; font-size:48px; text-anchor:start;\" transform=\"rotate(0, 152.441, 626.777)\" x=\"152.441\" y=\"626.777\">10</text>\n",
       "</g>\n",
       "<g clip-path=\"url(#clip5500)\">\n",
       "<text style=\"fill:#000000; fill-opacity:1; font-family:Arial,Helvetica Neue,Helvetica,sans-serif; font-size:38px; text-anchor:start;\" transform=\"rotate(0, 205.966, 599.366)\" x=\"205.966\" y=\"599.366\">3</text>\n",
       "</g>\n",
       "<g clip-path=\"url(#clip5500)\">\n",
       "<text style=\"fill:#000000; fill-opacity:1; font-family:Arial,Helvetica Neue,Helvetica,sans-serif; font-size:48px; text-anchor:start;\" transform=\"rotate(0, 152.441, 423.259)\" x=\"152.441\" y=\"423.259\">10</text>\n",
       "</g>\n",
       "<g clip-path=\"url(#clip5500)\">\n",
       "<text style=\"fill:#000000; fill-opacity:1; font-family:Arial,Helvetica Neue,Helvetica,sans-serif; font-size:38px; text-anchor:start;\" transform=\"rotate(0, 205.966, 395.848)\" x=\"205.966\" y=\"395.848\">4</text>\n",
       "</g>\n",
       "<g clip-path=\"url(#clip5500)\">\n",
       "<text style=\"fill:#000000; fill-opacity:1; font-family:Arial,Helvetica Neue,Helvetica,sans-serif; font-size:48px; text-anchor:start;\" transform=\"rotate(0, 152.441, 219.741)\" x=\"152.441\" y=\"219.741\">10</text>\n",
       "</g>\n",
       "<g clip-path=\"url(#clip5500)\">\n",
       "<text style=\"fill:#000000; fill-opacity:1; font-family:Arial,Helvetica Neue,Helvetica,sans-serif; font-size:38px; text-anchor:start;\" transform=\"rotate(0, 205.966, 192.331)\" x=\"205.966\" y=\"192.331\">5</text>\n",
       "</g>\n",
       "<g clip-path=\"url(#clip5500)\">\n",
       "<text style=\"fill:#000000; fill-opacity:1; font-family:Arial,Helvetica Neue,Helvetica,sans-serif; font-size:84px; text-anchor:middle;\" transform=\"rotate(0, 1302.23, 73.2)\" x=\"1302.23\" y=\"73.2\">US confirmed COVID-19 cases</text>\n",
       "</g>\n",
       "<g clip-path=\"url(#clip5500)\">\n",
       "<text style=\"fill:#000000; fill-opacity:1; font-family:Arial,Helvetica Neue,Helvetica,sans-serif; font-size:66px; text-anchor:middle;\" transform=\"rotate(0, 1302.23, 1555.68)\" x=\"1302.23\" y=\"1555.68\">date</text>\n",
       "</g>\n",
       "<g clip-path=\"url(#clip5500)\">\n",
       "<text style=\"fill:#000000; fill-opacity:1; font-family:Arial,Helvetica Neue,Helvetica,sans-serif; font-size:66px; text-anchor:middle;\" transform=\"rotate(-90, 89.2861, 683.541)\" x=\"89.2861\" y=\"683.541\">confirmed cases in US</text>\n",
       "</g>\n",
       "<polyline clip-path=\"url(#clip5502)\" style=\"stroke:#009af9; stroke-width:4; stroke-opacity:1; fill:none\" points=\"\n",
       "  311.174,1213.6 340.322,1213.6 369.471,1152.34 398.62,1152.34 427.769,1071.35 456.918,1071.35 486.066,1071.35 515.215,1071.35 544.364,1071.35 573.513,1041.61 \n",
       "  602.662,1029.81 631.81,1029.81 660.959,1001.66 690.108,1001.66 719.257,1001.66 748.406,1001.66 777.554,1001.66 806.703,1001.66 835.852,1001.66 865.001,1001.66 \n",
       "  894.15,993.97 923.298,993.97 952.447,986.895 981.596,986.895 1010.74,986.895 1039.89,986.895 1069.04,986.895 1098.19,986.895 1127.34,986.895 1156.49,986.895 \n",
       "  1185.64,974.247 1214.79,974.247 1243.94,974.247 1273.08,866.081 1302.23,866.081 1331.38,856.251 1360.53,854.713 1389.68,851.717 1418.83,840.654 1447.98,833.18 \n",
       "  1477.13,808.352 1506.27,791.938 1535.42,771.32 1564.57,738.091 1593.72,721.435 1622.87,683.596 1652.02,661.188 1681.17,650.74 1710.32,606.749 1739.47,581.161 \n",
       "  1768.61,558.094 1797.76,534.208 1826.91,514.379 1856.06,492.347 1885.21,467.553 1914.36,438.688 1943.51,421.685 1972.66,371.855 2001.8,342.336 2030.95,316.831 \n",
       "  2060.1,293.268 2089.25,268.885 2118.4,250.903 2147.55,233.037 2176.7,211.597 2205.85,194.561 2234.99,178.817 2264.14,165.716 2293.29,153.479 \n",
       "  \"/>\n",
       "<path clip-path=\"url(#clip5502)\" d=\"M311.174 1229.6 L299.862 1224.91 L295.174 1213.6 L299.862 1202.29 L311.174 1197.6 L322.486 1202.29 L327.174 1213.6 L322.486 1224.91 Z\" fill=\"#009af9\" fill-rule=\"evenodd\" fill-opacity=\"1\" stroke=\"#000000\" stroke-opacity=\"1\" stroke-width=\"3.2\"/>\n",
       "<path clip-path=\"url(#clip5502)\" d=\"M340.322 1229.6 L329.01 1224.91 L324.322 1213.6 L329.01 1202.29 L340.322 1197.6 L351.634 1202.29 L356.322 1213.6 L351.634 1224.91 Z\" fill=\"#009af9\" fill-rule=\"evenodd\" fill-opacity=\"1\" stroke=\"#000000\" stroke-opacity=\"1\" stroke-width=\"3.2\"/>\n",
       "<path clip-path=\"url(#clip5502)\" d=\"M369.471 1168.34 L358.159 1163.65 L353.471 1152.34 L358.159 1141.03 L369.471 1136.34 L380.783 1141.03 L385.471 1152.34 L380.783 1163.65 Z\" fill=\"#009af9\" fill-rule=\"evenodd\" fill-opacity=\"1\" stroke=\"#000000\" stroke-opacity=\"1\" stroke-width=\"3.2\"/>\n",
       "<path clip-path=\"url(#clip5502)\" d=\"M398.62 1168.34 L387.308 1163.65 L382.62 1152.34 L387.308 1141.03 L398.62 1136.34 L409.932 1141.03 L414.62 1152.34 L409.932 1163.65 Z\" fill=\"#009af9\" fill-rule=\"evenodd\" fill-opacity=\"1\" stroke=\"#000000\" stroke-opacity=\"1\" stroke-width=\"3.2\"/>\n",
       "<path clip-path=\"url(#clip5502)\" d=\"M427.769 1087.35 L416.457 1082.66 L411.769 1071.35 L416.457 1060.04 L427.769 1055.35 L439.081 1060.04 L443.769 1071.35 L439.081 1082.66 Z\" fill=\"#009af9\" fill-rule=\"evenodd\" fill-opacity=\"1\" stroke=\"#000000\" stroke-opacity=\"1\" stroke-width=\"3.2\"/>\n",
       "<path clip-path=\"url(#clip5502)\" d=\"M456.918 1087.35 L445.606 1082.66 L440.918 1071.35 L445.606 1060.04 L456.918 1055.35 L468.23 1060.04 L472.918 1071.35 L468.23 1082.66 Z\" fill=\"#009af9\" fill-rule=\"evenodd\" fill-opacity=\"1\" stroke=\"#000000\" stroke-opacity=\"1\" stroke-width=\"3.2\"/>\n",
       "<path clip-path=\"url(#clip5502)\" d=\"M486.066 1087.35 L474.754 1082.66 L470.066 1071.35 L474.754 1060.04 L486.066 1055.35 L497.378 1060.04 L502.066 1071.35 L497.378 1082.66 Z\" fill=\"#009af9\" fill-rule=\"evenodd\" fill-opacity=\"1\" stroke=\"#000000\" stroke-opacity=\"1\" stroke-width=\"3.2\"/>\n",
       "<path clip-path=\"url(#clip5502)\" d=\"M515.215 1087.35 L503.903 1082.66 L499.215 1071.35 L503.903 1060.04 L515.215 1055.35 L526.527 1060.04 L531.215 1071.35 L526.527 1082.66 Z\" fill=\"#009af9\" fill-rule=\"evenodd\" fill-opacity=\"1\" stroke=\"#000000\" stroke-opacity=\"1\" stroke-width=\"3.2\"/>\n",
       "<path clip-path=\"url(#clip5502)\" d=\"M544.364 1087.35 L533.052 1082.66 L528.364 1071.35 L533.052 1060.04 L544.364 1055.35 L555.676 1060.04 L560.364 1071.35 L555.676 1082.66 Z\" fill=\"#009af9\" fill-rule=\"evenodd\" fill-opacity=\"1\" stroke=\"#000000\" stroke-opacity=\"1\" stroke-width=\"3.2\"/>\n",
       "<path clip-path=\"url(#clip5502)\" d=\"M573.513 1057.61 L562.201 1052.92 L557.513 1041.61 L562.201 1030.3 L573.513 1025.61 L584.825 1030.3 L589.513 1041.61 L584.825 1052.92 Z\" fill=\"#009af9\" fill-rule=\"evenodd\" fill-opacity=\"1\" stroke=\"#000000\" stroke-opacity=\"1\" stroke-width=\"3.2\"/>\n",
       "<path clip-path=\"url(#clip5502)\" d=\"M602.662 1045.81 L591.35 1041.12 L586.662 1029.81 L591.35 1018.5 L602.662 1013.81 L613.974 1018.5 L618.662 1029.81 L613.974 1041.12 Z\" fill=\"#009af9\" fill-rule=\"evenodd\" fill-opacity=\"1\" stroke=\"#000000\" stroke-opacity=\"1\" stroke-width=\"3.2\"/>\n",
       "<path clip-path=\"url(#clip5502)\" d=\"M631.81 1045.81 L620.498 1041.12 L615.81 1029.81 L620.498 1018.5 L631.81 1013.81 L643.122 1018.5 L647.81 1029.81 L643.122 1041.12 Z\" fill=\"#009af9\" fill-rule=\"evenodd\" fill-opacity=\"1\" stroke=\"#000000\" stroke-opacity=\"1\" stroke-width=\"3.2\"/>\n",
       "<path clip-path=\"url(#clip5502)\" d=\"M660.959 1017.66 L649.647 1012.97 L644.959 1001.66 L649.647 990.348 L660.959 985.66 L672.271 990.348 L676.959 1001.66 L672.271 1012.97 Z\" fill=\"#009af9\" fill-rule=\"evenodd\" fill-opacity=\"1\" stroke=\"#000000\" stroke-opacity=\"1\" stroke-width=\"3.2\"/>\n",
       "<path clip-path=\"url(#clip5502)\" d=\"M690.108 1017.66 L678.796 1012.97 L674.108 1001.66 L678.796 990.348 L690.108 985.66 L701.42 990.348 L706.108 1001.66 L701.42 1012.97 Z\" fill=\"#009af9\" fill-rule=\"evenodd\" fill-opacity=\"1\" stroke=\"#000000\" stroke-opacity=\"1\" stroke-width=\"3.2\"/>\n",
       "<path clip-path=\"url(#clip5502)\" d=\"M719.257 1017.66 L707.945 1012.97 L703.257 1001.66 L707.945 990.348 L719.257 985.66 L730.569 990.348 L735.257 1001.66 L730.569 1012.97 Z\" fill=\"#009af9\" fill-rule=\"evenodd\" fill-opacity=\"1\" stroke=\"#000000\" stroke-opacity=\"1\" stroke-width=\"3.2\"/>\n",
       "<path clip-path=\"url(#clip5502)\" d=\"M748.406 1017.66 L737.094 1012.97 L732.406 1001.66 L737.094 990.348 L748.406 985.66 L759.718 990.348 L764.406 1001.66 L759.718 1012.97 Z\" fill=\"#009af9\" fill-rule=\"evenodd\" fill-opacity=\"1\" stroke=\"#000000\" stroke-opacity=\"1\" stroke-width=\"3.2\"/>\n",
       "<path clip-path=\"url(#clip5502)\" d=\"M777.554 1017.66 L766.242 1012.97 L761.554 1001.66 L766.242 990.348 L777.554 985.66 L788.866 990.348 L793.554 1001.66 L788.866 1012.97 Z\" fill=\"#009af9\" fill-rule=\"evenodd\" fill-opacity=\"1\" stroke=\"#000000\" stroke-opacity=\"1\" stroke-width=\"3.2\"/>\n",
       "<path clip-path=\"url(#clip5502)\" d=\"M806.703 1017.66 L795.391 1012.97 L790.703 1001.66 L795.391 990.348 L806.703 985.66 L818.015 990.348 L822.703 1001.66 L818.015 1012.97 Z\" fill=\"#009af9\" fill-rule=\"evenodd\" fill-opacity=\"1\" stroke=\"#000000\" stroke-opacity=\"1\" stroke-width=\"3.2\"/>\n",
       "<path clip-path=\"url(#clip5502)\" d=\"M835.852 1017.66 L824.54 1012.97 L819.852 1001.66 L824.54 990.348 L835.852 985.66 L847.164 990.348 L851.852 1001.66 L847.164 1012.97 Z\" fill=\"#009af9\" fill-rule=\"evenodd\" fill-opacity=\"1\" stroke=\"#000000\" stroke-opacity=\"1\" stroke-width=\"3.2\"/>\n",
       "<path clip-path=\"url(#clip5502)\" d=\"M865.001 1017.66 L853.689 1012.97 L849.001 1001.66 L853.689 990.348 L865.001 985.66 L876.313 990.348 L881.001 1001.66 L876.313 1012.97 Z\" fill=\"#009af9\" fill-rule=\"evenodd\" fill-opacity=\"1\" stroke=\"#000000\" stroke-opacity=\"1\" stroke-width=\"3.2\"/>\n",
       "<path clip-path=\"url(#clip5502)\" d=\"M894.15 1009.97 L882.838 1005.28 L878.15 993.97 L882.838 982.658 L894.15 977.97 L905.462 982.658 L910.15 993.97 L905.462 1005.28 Z\" fill=\"#009af9\" fill-rule=\"evenodd\" fill-opacity=\"1\" stroke=\"#000000\" stroke-opacity=\"1\" stroke-width=\"3.2\"/>\n",
       "<path clip-path=\"url(#clip5502)\" d=\"M923.298 1009.97 L911.986 1005.28 L907.298 993.97 L911.986 982.658 L923.298 977.97 L934.61 982.658 L939.298 993.97 L934.61 1005.28 Z\" fill=\"#009af9\" fill-rule=\"evenodd\" fill-opacity=\"1\" stroke=\"#000000\" stroke-opacity=\"1\" stroke-width=\"3.2\"/>\n",
       "<path clip-path=\"url(#clip5502)\" d=\"M952.447 1002.9 L941.135 998.207 L936.447 986.895 L941.135 975.583 L952.447 970.895 L963.759 975.583 L968.447 986.895 L963.759 998.207 Z\" fill=\"#009af9\" fill-rule=\"evenodd\" fill-opacity=\"1\" stroke=\"#000000\" stroke-opacity=\"1\" stroke-width=\"3.2\"/>\n",
       "<path clip-path=\"url(#clip5502)\" d=\"M981.596 1002.9 L970.284 998.207 L965.596 986.895 L970.284 975.583 L981.596 970.895 L992.908 975.583 L997.596 986.895 L992.908 998.207 Z\" fill=\"#009af9\" fill-rule=\"evenodd\" fill-opacity=\"1\" stroke=\"#000000\" stroke-opacity=\"1\" stroke-width=\"3.2\"/>\n",
       "<path clip-path=\"url(#clip5502)\" d=\"M1010.74 1002.9 L999.433 998.207 L994.745 986.895 L999.433 975.583 L1010.74 970.895 L1022.06 975.583 L1026.74 986.895 L1022.06 998.207 Z\" fill=\"#009af9\" fill-rule=\"evenodd\" fill-opacity=\"1\" stroke=\"#000000\" stroke-opacity=\"1\" stroke-width=\"3.2\"/>\n",
       "<path clip-path=\"url(#clip5502)\" d=\"M1039.89 1002.9 L1028.58 998.207 L1023.89 986.895 L1028.58 975.583 L1039.89 970.895 L1051.21 975.583 L1055.89 986.895 L1051.21 998.207 Z\" fill=\"#009af9\" fill-rule=\"evenodd\" fill-opacity=\"1\" stroke=\"#000000\" stroke-opacity=\"1\" stroke-width=\"3.2\"/>\n",
       "<path clip-path=\"url(#clip5502)\" d=\"M1069.04 1002.9 L1057.73 998.207 L1053.04 986.895 L1057.73 975.583 L1069.04 970.895 L1080.35 975.583 L1085.04 986.895 L1080.35 998.207 Z\" fill=\"#009af9\" fill-rule=\"evenodd\" fill-opacity=\"1\" stroke=\"#000000\" stroke-opacity=\"1\" stroke-width=\"3.2\"/>\n",
       "<path clip-path=\"url(#clip5502)\" d=\"M1098.19 1002.9 L1086.88 998.207 L1082.19 986.895 L1086.88 975.583 L1098.19 970.895 L1109.5 975.583 L1114.19 986.895 L1109.5 998.207 Z\" fill=\"#009af9\" fill-rule=\"evenodd\" fill-opacity=\"1\" stroke=\"#000000\" stroke-opacity=\"1\" stroke-width=\"3.2\"/>\n",
       "<path clip-path=\"url(#clip5502)\" d=\"M1127.34 1002.9 L1116.03 998.207 L1111.34 986.895 L1116.03 975.583 L1127.34 970.895 L1138.65 975.583 L1143.34 986.895 L1138.65 998.207 Z\" fill=\"#009af9\" fill-rule=\"evenodd\" fill-opacity=\"1\" stroke=\"#000000\" stroke-opacity=\"1\" stroke-width=\"3.2\"/>\n",
       "<path clip-path=\"url(#clip5502)\" d=\"M1156.49 1002.9 L1145.18 998.207 L1140.49 986.895 L1145.18 975.583 L1156.49 970.895 L1167.8 975.583 L1172.49 986.895 L1167.8 998.207 Z\" fill=\"#009af9\" fill-rule=\"evenodd\" fill-opacity=\"1\" stroke=\"#000000\" stroke-opacity=\"1\" stroke-width=\"3.2\"/>\n",
       "<path clip-path=\"url(#clip5502)\" d=\"M1185.64 990.247 L1174.33 985.559 L1169.64 974.247 L1174.33 962.935 L1185.64 958.247 L1196.95 962.935 L1201.64 974.247 L1196.95 985.559 Z\" fill=\"#009af9\" fill-rule=\"evenodd\" fill-opacity=\"1\" stroke=\"#000000\" stroke-opacity=\"1\" stroke-width=\"3.2\"/>\n",
       "<path clip-path=\"url(#clip5502)\" d=\"M1214.79 990.247 L1203.47 985.559 L1198.79 974.247 L1203.47 962.935 L1214.79 958.247 L1226.1 962.935 L1230.79 974.247 L1226.1 985.559 Z\" fill=\"#009af9\" fill-rule=\"evenodd\" fill-opacity=\"1\" stroke=\"#000000\" stroke-opacity=\"1\" stroke-width=\"3.2\"/>\n",
       "<path clip-path=\"url(#clip5502)\" d=\"M1243.94 990.247 L1232.62 985.559 L1227.94 974.247 L1232.62 962.935 L1243.94 958.247 L1255.25 962.935 L1259.94 974.247 L1255.25 985.559 Z\" fill=\"#009af9\" fill-rule=\"evenodd\" fill-opacity=\"1\" stroke=\"#000000\" stroke-opacity=\"1\" stroke-width=\"3.2\"/>\n",
       "<path clip-path=\"url(#clip5502)\" d=\"M1273.08 882.081 L1261.77 877.393 L1257.08 866.081 L1261.77 854.769 L1273.08 850.081 L1284.4 854.769 L1289.08 866.081 L1284.4 877.393 Z\" fill=\"#009af9\" fill-rule=\"evenodd\" fill-opacity=\"1\" stroke=\"#000000\" stroke-opacity=\"1\" stroke-width=\"3.2\"/>\n",
       "<path clip-path=\"url(#clip5502)\" d=\"M1302.23 882.081 L1290.92 877.393 L1286.23 866.081 L1290.92 854.769 L1302.23 850.081 L1313.54 854.769 L1318.23 866.081 L1313.54 877.393 Z\" fill=\"#009af9\" fill-rule=\"evenodd\" fill-opacity=\"1\" stroke=\"#000000\" stroke-opacity=\"1\" stroke-width=\"3.2\"/>\n",
       "<path clip-path=\"url(#clip5502)\" d=\"M1331.38 872.251 L1320.07 867.563 L1315.38 856.251 L1320.07 844.939 L1331.38 840.251 L1342.69 844.939 L1347.38 856.251 L1342.69 867.563 Z\" fill=\"#009af9\" fill-rule=\"evenodd\" fill-opacity=\"1\" stroke=\"#000000\" stroke-opacity=\"1\" stroke-width=\"3.2\"/>\n",
       "<path clip-path=\"url(#clip5502)\" d=\"M1360.53 870.713 L1349.22 866.025 L1344.53 854.713 L1349.22 843.401 L1360.53 838.713 L1371.84 843.401 L1376.53 854.713 L1371.84 866.025 Z\" fill=\"#009af9\" fill-rule=\"evenodd\" fill-opacity=\"1\" stroke=\"#000000\" stroke-opacity=\"1\" stroke-width=\"3.2\"/>\n",
       "<path clip-path=\"url(#clip5502)\" d=\"M1389.68 867.717 L1378.37 863.029 L1373.68 851.717 L1378.37 840.405 L1389.68 835.717 L1400.99 840.405 L1405.68 851.717 L1400.99 863.029 Z\" fill=\"#009af9\" fill-rule=\"evenodd\" fill-opacity=\"1\" stroke=\"#000000\" stroke-opacity=\"1\" stroke-width=\"3.2\"/>\n",
       "<path clip-path=\"url(#clip5502)\" d=\"M1418.83 856.654 L1407.52 851.966 L1402.83 840.654 L1407.52 829.342 L1418.83 824.654 L1430.14 829.342 L1434.83 840.654 L1430.14 851.966 Z\" fill=\"#009af9\" fill-rule=\"evenodd\" fill-opacity=\"1\" stroke=\"#000000\" stroke-opacity=\"1\" stroke-width=\"3.2\"/>\n",
       "<path clip-path=\"url(#clip5502)\" d=\"M1447.98 849.18 L1436.66 844.492 L1431.98 833.18 L1436.66 821.868 L1447.98 817.18 L1459.29 821.868 L1463.98 833.18 L1459.29 844.492 Z\" fill=\"#009af9\" fill-rule=\"evenodd\" fill-opacity=\"1\" stroke=\"#000000\" stroke-opacity=\"1\" stroke-width=\"3.2\"/>\n",
       "<path clip-path=\"url(#clip5502)\" d=\"M1477.13 824.352 L1465.81 819.664 L1461.13 808.352 L1465.81 797.04 L1477.13 792.352 L1488.44 797.04 L1493.13 808.352 L1488.44 819.664 Z\" fill=\"#009af9\" fill-rule=\"evenodd\" fill-opacity=\"1\" stroke=\"#000000\" stroke-opacity=\"1\" stroke-width=\"3.2\"/>\n",
       "<path clip-path=\"url(#clip5502)\" d=\"M1506.27 807.938 L1494.96 803.25 L1490.27 791.938 L1494.96 780.626 L1506.27 775.938 L1517.59 780.626 L1522.27 791.938 L1517.59 803.25 Z\" fill=\"#009af9\" fill-rule=\"evenodd\" fill-opacity=\"1\" stroke=\"#000000\" stroke-opacity=\"1\" stroke-width=\"3.2\"/>\n",
       "<path clip-path=\"url(#clip5502)\" d=\"M1535.42 787.32 L1524.11 782.632 L1519.42 771.32 L1524.11 760.008 L1535.42 755.32 L1546.74 760.008 L1551.42 771.32 L1546.74 782.632 Z\" fill=\"#009af9\" fill-rule=\"evenodd\" fill-opacity=\"1\" stroke=\"#000000\" stroke-opacity=\"1\" stroke-width=\"3.2\"/>\n",
       "<path clip-path=\"url(#clip5502)\" d=\"M1564.57 754.091 L1553.26 749.403 L1548.57 738.091 L1553.26 726.779 L1564.57 722.091 L1575.88 726.779 L1580.57 738.091 L1575.88 749.403 Z\" fill=\"#009af9\" fill-rule=\"evenodd\" fill-opacity=\"1\" stroke=\"#000000\" stroke-opacity=\"1\" stroke-width=\"3.2\"/>\n",
       "<path clip-path=\"url(#clip5502)\" d=\"M1593.72 737.435 L1582.41 732.747 L1577.72 721.435 L1582.41 710.123 L1593.72 705.435 L1605.03 710.123 L1609.72 721.435 L1605.03 732.747 Z\" fill=\"#009af9\" fill-rule=\"evenodd\" fill-opacity=\"1\" stroke=\"#000000\" stroke-opacity=\"1\" stroke-width=\"3.2\"/>\n",
       "<path clip-path=\"url(#clip5502)\" d=\"M1622.87 699.596 L1611.56 694.908 L1606.87 683.596 L1611.56 672.284 L1622.87 667.596 L1634.18 672.284 L1638.87 683.596 L1634.18 694.908 Z\" fill=\"#009af9\" fill-rule=\"evenodd\" fill-opacity=\"1\" stroke=\"#000000\" stroke-opacity=\"1\" stroke-width=\"3.2\"/>\n",
       "<path clip-path=\"url(#clip5502)\" d=\"M1652.02 677.188 L1640.71 672.5 L1636.02 661.188 L1640.71 649.876 L1652.02 645.188 L1663.33 649.876 L1668.02 661.188 L1663.33 672.5 Z\" fill=\"#009af9\" fill-rule=\"evenodd\" fill-opacity=\"1\" stroke=\"#000000\" stroke-opacity=\"1\" stroke-width=\"3.2\"/>\n",
       "<path clip-path=\"url(#clip5502)\" d=\"M1681.17 666.74 L1669.86 662.052 L1665.17 650.74 L1669.86 639.428 L1681.17 634.74 L1692.48 639.428 L1697.17 650.74 L1692.48 662.052 Z\" fill=\"#009af9\" fill-rule=\"evenodd\" fill-opacity=\"1\" stroke=\"#000000\" stroke-opacity=\"1\" stroke-width=\"3.2\"/>\n",
       "<path clip-path=\"url(#clip5502)\" d=\"M1710.32 622.749 L1699 618.061 L1694.32 606.749 L1699 595.437 L1710.32 590.749 L1721.63 595.437 L1726.32 606.749 L1721.63 618.061 Z\" fill=\"#009af9\" fill-rule=\"evenodd\" fill-opacity=\"1\" stroke=\"#000000\" stroke-opacity=\"1\" stroke-width=\"3.2\"/>\n",
       "<path clip-path=\"url(#clip5502)\" d=\"M1739.47 597.161 L1728.15 592.473 L1723.47 581.161 L1728.15 569.849 L1739.47 565.161 L1750.78 569.849 L1755.47 581.161 L1750.78 592.473 Z\" fill=\"#009af9\" fill-rule=\"evenodd\" fill-opacity=\"1\" stroke=\"#000000\" stroke-opacity=\"1\" stroke-width=\"3.2\"/>\n",
       "<path clip-path=\"url(#clip5502)\" d=\"M1768.61 574.094 L1757.3 569.406 L1752.61 558.094 L1757.3 546.782 L1768.61 542.094 L1779.93 546.782 L1784.61 558.094 L1779.93 569.406 Z\" fill=\"#009af9\" fill-rule=\"evenodd\" fill-opacity=\"1\" stroke=\"#000000\" stroke-opacity=\"1\" stroke-width=\"3.2\"/>\n",
       "<path clip-path=\"url(#clip5502)\" d=\"M1797.76 550.208 L1786.45 545.52 L1781.76 534.208 L1786.45 522.896 L1797.76 518.208 L1809.07 522.896 L1813.76 534.208 L1809.07 545.52 Z\" fill=\"#009af9\" fill-rule=\"evenodd\" fill-opacity=\"1\" stroke=\"#000000\" stroke-opacity=\"1\" stroke-width=\"3.2\"/>\n",
       "<path clip-path=\"url(#clip5502)\" d=\"M1826.91 530.379 L1815.6 525.691 L1810.91 514.379 L1815.6 503.067 L1826.91 498.379 L1838.22 503.067 L1842.91 514.379 L1838.22 525.691 Z\" fill=\"#009af9\" fill-rule=\"evenodd\" fill-opacity=\"1\" stroke=\"#000000\" stroke-opacity=\"1\" stroke-width=\"3.2\"/>\n",
       "<path clip-path=\"url(#clip5502)\" d=\"M1856.06 508.347 L1844.75 503.659 L1840.06 492.347 L1844.75 481.035 L1856.06 476.347 L1867.37 481.035 L1872.06 492.347 L1867.37 503.659 Z\" fill=\"#009af9\" fill-rule=\"evenodd\" fill-opacity=\"1\" stroke=\"#000000\" stroke-opacity=\"1\" stroke-width=\"3.2\"/>\n",
       "<path clip-path=\"url(#clip5502)\" d=\"M1885.21 483.553 L1873.9 478.865 L1869.21 467.553 L1873.9 456.241 L1885.21 451.553 L1896.52 456.241 L1901.21 467.553 L1896.52 478.865 Z\" fill=\"#009af9\" fill-rule=\"evenodd\" fill-opacity=\"1\" stroke=\"#000000\" stroke-opacity=\"1\" stroke-width=\"3.2\"/>\n",
       "<path clip-path=\"url(#clip5502)\" d=\"M1914.36 454.688 L1903.05 450 L1898.36 438.688 L1903.05 427.376 L1914.36 422.688 L1925.67 427.376 L1930.36 438.688 L1925.67 450 Z\" fill=\"#009af9\" fill-rule=\"evenodd\" fill-opacity=\"1\" stroke=\"#000000\" stroke-opacity=\"1\" stroke-width=\"3.2\"/>\n",
       "<path clip-path=\"url(#clip5502)\" d=\"M1943.51 437.685 L1932.19 432.997 L1927.51 421.685 L1932.19 410.373 L1943.51 405.685 L1954.82 410.373 L1959.51 421.685 L1954.82 432.997 Z\" fill=\"#009af9\" fill-rule=\"evenodd\" fill-opacity=\"1\" stroke=\"#000000\" stroke-opacity=\"1\" stroke-width=\"3.2\"/>\n",
       "<path clip-path=\"url(#clip5502)\" d=\"M1972.66 387.855 L1961.34 383.167 L1956.66 371.855 L1961.34 360.543 L1972.66 355.855 L1983.97 360.543 L1988.66 371.855 L1983.97 383.167 Z\" fill=\"#009af9\" fill-rule=\"evenodd\" fill-opacity=\"1\" stroke=\"#000000\" stroke-opacity=\"1\" stroke-width=\"3.2\"/>\n",
       "<path clip-path=\"url(#clip5502)\" d=\"M2001.8 358.336 L1990.49 353.648 L1985.8 342.336 L1990.49 331.024 L2001.8 326.336 L2013.12 331.024 L2017.8 342.336 L2013.12 353.648 Z\" fill=\"#009af9\" fill-rule=\"evenodd\" fill-opacity=\"1\" stroke=\"#000000\" stroke-opacity=\"1\" stroke-width=\"3.2\"/>\n",
       "<path clip-path=\"url(#clip5502)\" d=\"M2030.95 332.831 L2019.64 328.143 L2014.95 316.831 L2019.64 305.519 L2030.95 300.831 L2042.27 305.519 L2046.95 316.831 L2042.27 328.143 Z\" fill=\"#009af9\" fill-rule=\"evenodd\" fill-opacity=\"1\" stroke=\"#000000\" stroke-opacity=\"1\" stroke-width=\"3.2\"/>\n",
       "<path clip-path=\"url(#clip5502)\" d=\"M2060.1 309.268 L2048.79 304.58 L2044.1 293.268 L2048.79 281.956 L2060.1 277.268 L2071.41 281.956 L2076.1 293.268 L2071.41 304.58 Z\" fill=\"#009af9\" fill-rule=\"evenodd\" fill-opacity=\"1\" stroke=\"#000000\" stroke-opacity=\"1\" stroke-width=\"3.2\"/>\n",
       "<path clip-path=\"url(#clip5502)\" d=\"M2089.25 284.885 L2077.94 280.197 L2073.25 268.885 L2077.94 257.573 L2089.25 252.885 L2100.56 257.573 L2105.25 268.885 L2100.56 280.197 Z\" fill=\"#009af9\" fill-rule=\"evenodd\" fill-opacity=\"1\" stroke=\"#000000\" stroke-opacity=\"1\" stroke-width=\"3.2\"/>\n",
       "<path clip-path=\"url(#clip5502)\" d=\"M2118.4 266.903 L2107.09 262.215 L2102.4 250.903 L2107.09 239.591 L2118.4 234.903 L2129.71 239.591 L2134.4 250.903 L2129.71 262.215 Z\" fill=\"#009af9\" fill-rule=\"evenodd\" fill-opacity=\"1\" stroke=\"#000000\" stroke-opacity=\"1\" stroke-width=\"3.2\"/>\n",
       "<path clip-path=\"url(#clip5502)\" d=\"M2147.55 249.037 L2136.24 244.349 L2131.55 233.037 L2136.24 221.725 L2147.55 217.037 L2158.86 221.725 L2163.55 233.037 L2158.86 244.349 Z\" fill=\"#009af9\" fill-rule=\"evenodd\" fill-opacity=\"1\" stroke=\"#000000\" stroke-opacity=\"1\" stroke-width=\"3.2\"/>\n",
       "<path clip-path=\"url(#clip5502)\" d=\"M2176.7 227.597 L2165.39 222.909 L2160.7 211.597 L2165.39 200.285 L2176.7 195.597 L2188.01 200.285 L2192.7 211.597 L2188.01 222.909 Z\" fill=\"#009af9\" fill-rule=\"evenodd\" fill-opacity=\"1\" stroke=\"#000000\" stroke-opacity=\"1\" stroke-width=\"3.2\"/>\n",
       "<path clip-path=\"url(#clip5502)\" d=\"M2205.85 210.561 L2194.53 205.873 L2189.85 194.561 L2194.53 183.249 L2205.85 178.561 L2217.16 183.249 L2221.85 194.561 L2217.16 205.873 Z\" fill=\"#009af9\" fill-rule=\"evenodd\" fill-opacity=\"1\" stroke=\"#000000\" stroke-opacity=\"1\" stroke-width=\"3.2\"/>\n",
       "<path clip-path=\"url(#clip5502)\" d=\"M2234.99 194.817 L2223.68 190.129 L2218.99 178.817 L2223.68 167.505 L2234.99 162.817 L2246.31 167.505 L2250.99 178.817 L2246.31 190.129 Z\" fill=\"#009af9\" fill-rule=\"evenodd\" fill-opacity=\"1\" stroke=\"#000000\" stroke-opacity=\"1\" stroke-width=\"3.2\"/>\n",
       "<path clip-path=\"url(#clip5502)\" d=\"M2264.14 181.716 L2252.83 177.028 L2248.14 165.716 L2252.83 154.404 L2264.14 149.716 L2275.46 154.404 L2280.14 165.716 L2275.46 177.028 Z\" fill=\"#009af9\" fill-rule=\"evenodd\" fill-opacity=\"1\" stroke=\"#000000\" stroke-opacity=\"1\" stroke-width=\"3.2\"/>\n",
       "<path clip-path=\"url(#clip5502)\" d=\"M2293.29 169.479 L2281.98 164.791 L2277.29 153.479 L2281.98 142.167 L2293.29 137.479 L2304.6 142.167 L2309.29 153.479 L2304.6 164.791 Z\" fill=\"#009af9\" fill-rule=\"evenodd\" fill-opacity=\"1\" stroke=\"#000000\" stroke-opacity=\"1\" stroke-width=\"3.2\"/>\n",
       "<path clip-path=\"url(#clip5500)\" d=\"\n",
       "M323.71 326.155 L737.617 326.155 L737.617 205.195 L323.71 205.195  Z\n",
       "  \" fill=\"#ffffff\" fill-rule=\"evenodd\" fill-opacity=\"1\"/>\n",
       "<polyline clip-path=\"url(#clip5500)\" style=\"stroke:#000000; stroke-width:4; stroke-opacity:1; fill:none\" points=\"\n",
       "  323.71,326.155 737.617,326.155 737.617,205.195 323.71,205.195 323.71,326.155 \n",
       "  \"/>\n",
       "<polyline clip-path=\"url(#clip5500)\" style=\"stroke:#009af9; stroke-width:4; stroke-opacity:1; fill:none\" points=\"\n",
       "  347.71,265.675 491.71,265.675 \n",
       "  \"/>\n",
       "<path clip-path=\"url(#clip5500)\" d=\"M431.71 289.675 L414.742 282.643 L407.71 265.675 L414.742 248.707 L431.71 241.675 L448.678 248.707 L455.71 265.675 L448.678 282.643 Z\" fill=\"#009af9\" fill-rule=\"evenodd\" fill-opacity=\"1\" stroke=\"#000000\" stroke-opacity=\"1\" stroke-width=\"3.2\"/>\n",
       "<g clip-path=\"url(#clip5500)\">\n",
       "<text style=\"fill:#000000; fill-opacity:1; font-family:Arial,Helvetica Neue,Helvetica,sans-serif; font-size:48px; text-anchor:start;\" transform=\"rotate(0, 515.71, 283.175)\" x=\"515.71\" y=\"283.175\">US data</text>\n",
       "</g>\n",
       "</svg>\n"
      ]
     },
     "execution_count": 79,
     "metadata": {},
     "output_type": "execute_result"
    }
   ],
   "source": [
    "plot(dates, US_data, xticks=dates[1:5:end], xrotation=45, leg=:topleft, \n",
    "    label=\"US data\", m=:o,\n",
    "    yscale=:log10)\n",
    "\n",
    "xlabel!(\"date\")\n",
    "ylabel!(\"confirmed cases in US\")\n",
    "title!(\"US confirmed COVID-19 cases\")\n",
    "\n",
    "# annotate!(20, US_data[end], text(\"US\", :blue, :left))"
   ]
  },
  {
   "cell_type": "markdown",
   "metadata": {},
   "source": [
    "Straight line on semi-log scale means **exponential growth**!"
   ]
  },
  {
   "cell_type": "code",
   "execution_count": 80,
   "metadata": {},
   "outputs": [
    {
     "data": {
      "text/plain": [
       "f (generic function with 1 method)"
      ]
     },
     "execution_count": 80,
     "metadata": {},
     "output_type": "execute_result"
    }
   ],
   "source": [
    "function f(country)\n",
    "    return country * country\n",
    "end"
   ]
  },
  {
   "cell_type": "code",
   "execution_count": 81,
   "metadata": {},
   "outputs": [
    {
     "data": {
      "text/plain": [
       "\"USUS\""
      ]
     },
     "execution_count": 81,
     "metadata": {},
     "output_type": "execute_result"
    }
   ],
   "source": [
    "f(\"US\")"
   ]
  },
  {
   "cell_type": "markdown",
   "metadata": {},
   "source": [
    "`plot!`  add new curve onto the same graph\n"
   ]
  }
 ],
 "metadata": {
  "@webio": {
   "lastCommId": "d576a58c-7f2c-406d-8af2-964b4aefa893",
   "lastKernelId": "b73a1676-98dd-4af0-9b82-9338bf22ba23"
  },
  "kernelspec": {
   "display_name": "Julia 1.4.0",
   "language": "julia",
   "name": "julia-1.4"
  },
  "language_info": {
   "file_extension": ".jl",
   "mimetype": "application/julia",
   "name": "julia",
   "version": "1.4.0"
  }
 },
 "nbformat": 4,
 "nbformat_minor": 4
}
